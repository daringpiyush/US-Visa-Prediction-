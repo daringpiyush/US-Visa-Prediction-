{
 "cells": [
  {
   "cell_type": "code",
   "execution_count": 1,
   "metadata": {},
   "outputs": [],
   "source": [
    "from pyforest import*"
   ]
  },
  {
   "cell_type": "code",
   "execution_count": 2,
   "metadata": {},
   "outputs": [],
   "source": [
    "d=pd.read_excel('edited final.xlsx')"
   ]
  },
  {
   "cell_type": "code",
   "execution_count": 3,
   "metadata": {},
   "outputs": [
    {
     "data": {
      "text/html": [
       "<div>\n",
       "<style scoped>\n",
       "    .dataframe tbody tr th:only-of-type {\n",
       "        vertical-align: middle;\n",
       "    }\n",
       "\n",
       "    .dataframe tbody tr th {\n",
       "        vertical-align: top;\n",
       "    }\n",
       "\n",
       "    .dataframe thead th {\n",
       "        text-align: right;\n",
       "    }\n",
       "</style>\n",
       "<table border=\"1\" class=\"dataframe\">\n",
       "  <thead>\n",
       "    <tr style=\"text-align: right;\">\n",
       "      <th></th>\n",
       "      <th>agent_state</th>\n",
       "      <th>application_type</th>\n",
       "      <th>case_no</th>\n",
       "      <th>case_received_date</th>\n",
       "      <th>case_status</th>\n",
       "      <th>class_of_admission</th>\n",
       "      <th>country_of_citizenship</th>\n",
       "      <th>decision_date</th>\n",
       "      <th>employer_num_employees</th>\n",
       "      <th>employer_yr_estab</th>\n",
       "      <th>...</th>\n",
       "      <th>job_title</th>\n",
       "      <th>job_training</th>\n",
       "      <th>job_work_state</th>\n",
       "      <th>pv_unit_of_pay_9089</th>\n",
       "      <th>previous_salary</th>\n",
       "      <th>level</th>\n",
       "      <th>source_name</th>\n",
       "      <th>sector</th>\n",
       "      <th>wage_offer</th>\n",
       "      <th>wage_unit_of_pay</th>\n",
       "    </tr>\n",
       "  </thead>\n",
       "  <tbody>\n",
       "    <tr>\n",
       "      <th>0</th>\n",
       "      <td>NaN</td>\n",
       "      <td>PERM</td>\n",
       "      <td>A-07323-97014</td>\n",
       "      <td>NaT</td>\n",
       "      <td>Certified</td>\n",
       "      <td>J-1</td>\n",
       "      <td>ARMENIA</td>\n",
       "      <td>2012-02-01</td>\n",
       "      <td>NaN</td>\n",
       "      <td>NaN</td>\n",
       "      <td>...</td>\n",
       "      <td>NaN</td>\n",
       "      <td>NaN</td>\n",
       "      <td>NY</td>\n",
       "      <td>yr</td>\n",
       "      <td>75629.00</td>\n",
       "      <td>Level II</td>\n",
       "      <td>OES</td>\n",
       "      <td>IT</td>\n",
       "      <td>75629</td>\n",
       "      <td>yr</td>\n",
       "    </tr>\n",
       "    <tr>\n",
       "      <th>1</th>\n",
       "      <td>NaN</td>\n",
       "      <td>PERM</td>\n",
       "      <td>A-07332-99439</td>\n",
       "      <td>NaT</td>\n",
       "      <td>Denied</td>\n",
       "      <td>B-2</td>\n",
       "      <td>POLAND</td>\n",
       "      <td>2011-12-21</td>\n",
       "      <td>NaN</td>\n",
       "      <td>NaN</td>\n",
       "      <td>...</td>\n",
       "      <td>NaN</td>\n",
       "      <td>NaN</td>\n",
       "      <td>NY</td>\n",
       "      <td>yr</td>\n",
       "      <td>37024.00</td>\n",
       "      <td>Level I</td>\n",
       "      <td>OES</td>\n",
       "      <td>Other Economic Sector</td>\n",
       "      <td>37024</td>\n",
       "      <td>yr</td>\n",
       "    </tr>\n",
       "    <tr>\n",
       "      <th>2</th>\n",
       "      <td>NaN</td>\n",
       "      <td>PERM</td>\n",
       "      <td>A-07333-99643</td>\n",
       "      <td>NaT</td>\n",
       "      <td>Certified</td>\n",
       "      <td>H-1B</td>\n",
       "      <td>INDIA</td>\n",
       "      <td>2011-12-01</td>\n",
       "      <td>NaN</td>\n",
       "      <td>NaN</td>\n",
       "      <td>...</td>\n",
       "      <td>NaN</td>\n",
       "      <td>NaN</td>\n",
       "      <td>MD</td>\n",
       "      <td>yr</td>\n",
       "      <td>47923.00</td>\n",
       "      <td>Level I</td>\n",
       "      <td>OES</td>\n",
       "      <td>Aerospace</td>\n",
       "      <td>47923</td>\n",
       "      <td>yr</td>\n",
       "    </tr>\n",
       "    <tr>\n",
       "      <th>3</th>\n",
       "      <td>NaN</td>\n",
       "      <td>PERM</td>\n",
       "      <td>A-07339-01930</td>\n",
       "      <td>NaT</td>\n",
       "      <td>Certified</td>\n",
       "      <td>B-2</td>\n",
       "      <td>SOUTH KOREA</td>\n",
       "      <td>2011-12-01</td>\n",
       "      <td>NaN</td>\n",
       "      <td>NaN</td>\n",
       "      <td>...</td>\n",
       "      <td>NaN</td>\n",
       "      <td>NaN</td>\n",
       "      <td>NY</td>\n",
       "      <td>hr</td>\n",
       "      <td>10.97</td>\n",
       "      <td>Level II</td>\n",
       "      <td>OES</td>\n",
       "      <td>Other Economic Sector</td>\n",
       "      <td>10.97</td>\n",
       "      <td>hr</td>\n",
       "    </tr>\n",
       "    <tr>\n",
       "      <th>4</th>\n",
       "      <td>NaN</td>\n",
       "      <td>PERM</td>\n",
       "      <td>A-07345-03565</td>\n",
       "      <td>NaT</td>\n",
       "      <td>Certified</td>\n",
       "      <td>L-1</td>\n",
       "      <td>CANADA</td>\n",
       "      <td>2012-01-26</td>\n",
       "      <td>NaN</td>\n",
       "      <td>NaN</td>\n",
       "      <td>...</td>\n",
       "      <td>NaN</td>\n",
       "      <td>NaN</td>\n",
       "      <td>NY</td>\n",
       "      <td>yr</td>\n",
       "      <td>94890.00</td>\n",
       "      <td>Level IV</td>\n",
       "      <td>OES</td>\n",
       "      <td>Advanced Mfg</td>\n",
       "      <td>100000</td>\n",
       "      <td>yr</td>\n",
       "    </tr>\n",
       "  </tbody>\n",
       "</table>\n",
       "<p>5 rows × 26 columns</p>\n",
       "</div>"
      ],
      "text/plain": [
       "  agent_state application_type        case_no case_received_date case_status  \\\n",
       "0         NaN             PERM  A-07323-97014                NaT   Certified   \n",
       "1         NaN             PERM  A-07332-99439                NaT      Denied   \n",
       "2         NaN             PERM  A-07333-99643                NaT   Certified   \n",
       "3         NaN             PERM  A-07339-01930                NaT   Certified   \n",
       "4         NaN             PERM  A-07345-03565                NaT   Certified   \n",
       "\n",
       "  class_of_admission country_of_citizenship decision_date  \\\n",
       "0                J-1                ARMENIA    2012-02-01   \n",
       "1                B-2                 POLAND    2011-12-21   \n",
       "2               H-1B                  INDIA    2011-12-01   \n",
       "3                B-2            SOUTH KOREA    2011-12-01   \n",
       "4                L-1                 CANADA    2012-01-26   \n",
       "\n",
       "   employer_num_employees  employer_yr_estab  ... job_title job_training  \\\n",
       "0                     NaN                NaN  ...       NaN          NaN   \n",
       "1                     NaN                NaN  ...       NaN          NaN   \n",
       "2                     NaN                NaN  ...       NaN          NaN   \n",
       "3                     NaN                NaN  ...       NaN          NaN   \n",
       "4                     NaN                NaN  ...       NaN          NaN   \n",
       "\n",
       "  job_work_state pv_unit_of_pay_9089 previous_salary     level source_name  \\\n",
       "0             NY                  yr        75629.00  Level II         OES   \n",
       "1             NY                  yr        37024.00   Level I         OES   \n",
       "2             MD                  yr        47923.00   Level I         OES   \n",
       "3             NY                  hr           10.97  Level II         OES   \n",
       "4             NY                  yr        94890.00  Level IV         OES   \n",
       "\n",
       "                  sector wage_offer wage_unit_of_pay  \n",
       "0                     IT      75629               yr  \n",
       "1  Other Economic Sector      37024               yr  \n",
       "2              Aerospace      47923               yr  \n",
       "3  Other Economic Sector      10.97               hr  \n",
       "4           Advanced Mfg     100000               yr  \n",
       "\n",
       "[5 rows x 26 columns]"
      ]
     },
     "execution_count": 3,
     "metadata": {},
     "output_type": "execute_result"
    }
   ],
   "source": [
    "d.head()"
   ]
  },
  {
   "cell_type": "code",
   "execution_count": 4,
   "metadata": {},
   "outputs": [],
   "source": [
    "d.drop_duplicates(inplace=True)"
   ]
  },
  {
   "cell_type": "markdown",
   "metadata": {},
   "source": [
    "### Extracting month and year  from Dates\n",
    "1. The first 2 numbers in the case_no follow a pattern and depict the year .\n",
    "2. It has been observed that in each record , either the case_no is available or the case_received_date\n",
    "3. We will hence extract the year from case_no and impute the case_received_date_year column for its missing values"
   ]
  },
  {
   "cell_type": "code",
   "execution_count": 5,
   "metadata": {},
   "outputs": [],
   "source": [
    "d['case_received_date_year']=d.case_received_date.dt.year\n",
    "\n",
    "d['decision_date_year']=d.decision_date.dt.year"
   ]
  },
  {
   "cell_type": "code",
   "execution_count": 6,
   "metadata": {},
   "outputs": [],
   "source": [
    "raw=d.case_no[d.case_no.notnull()]\n",
    "year=raw.transform(lambda x:x.split(\"-\")[1])\n",
    "d['Yr']='20'+year"
   ]
  },
  {
   "cell_type": "code",
   "execution_count": 7,
   "metadata": {
    "scrolled": false
   },
   "outputs": [
    {
     "data": {
      "text/html": [
       "<div>\n",
       "<style scoped>\n",
       "    .dataframe tbody tr th:only-of-type {\n",
       "        vertical-align: middle;\n",
       "    }\n",
       "\n",
       "    .dataframe tbody tr th {\n",
       "        vertical-align: top;\n",
       "    }\n",
       "\n",
       "    .dataframe thead th {\n",
       "        text-align: right;\n",
       "    }\n",
       "</style>\n",
       "<table border=\"1\" class=\"dataframe\">\n",
       "  <thead>\n",
       "    <tr style=\"text-align: right;\">\n",
       "      <th></th>\n",
       "      <th>agent_state</th>\n",
       "      <th>application_type</th>\n",
       "      <th>case_status</th>\n",
       "      <th>class_of_admission</th>\n",
       "      <th>country_of_citizenship</th>\n",
       "      <th>employer_num_employees</th>\n",
       "      <th>employer_yr_estab</th>\n",
       "      <th>employer_city</th>\n",
       "      <th>employer_name</th>\n",
       "      <th>employer_state</th>\n",
       "      <th>...</th>\n",
       "      <th>job_work_state</th>\n",
       "      <th>pv_unit_of_pay_9089</th>\n",
       "      <th>previous_salary</th>\n",
       "      <th>level</th>\n",
       "      <th>source_name</th>\n",
       "      <th>sector</th>\n",
       "      <th>wage_offer</th>\n",
       "      <th>wage_unit_of_pay</th>\n",
       "      <th>case_received_date_year</th>\n",
       "      <th>decision_date_year</th>\n",
       "    </tr>\n",
       "  </thead>\n",
       "  <tbody>\n",
       "    <tr>\n",
       "      <th>0</th>\n",
       "      <td>NaN</td>\n",
       "      <td>PERM</td>\n",
       "      <td>Certified</td>\n",
       "      <td>J-1</td>\n",
       "      <td>ARMENIA</td>\n",
       "      <td>NaN</td>\n",
       "      <td>NaN</td>\n",
       "      <td>NEW YORK</td>\n",
       "      <td>NETSOFT USA INC.</td>\n",
       "      <td>NY</td>\n",
       "      <td>...</td>\n",
       "      <td>NY</td>\n",
       "      <td>yr</td>\n",
       "      <td>75629.00</td>\n",
       "      <td>Level II</td>\n",
       "      <td>OES</td>\n",
       "      <td>IT</td>\n",
       "      <td>75629</td>\n",
       "      <td>yr</td>\n",
       "      <td>2007</td>\n",
       "      <td>2012</td>\n",
       "    </tr>\n",
       "    <tr>\n",
       "      <th>1</th>\n",
       "      <td>NaN</td>\n",
       "      <td>PERM</td>\n",
       "      <td>Denied</td>\n",
       "      <td>B-2</td>\n",
       "      <td>POLAND</td>\n",
       "      <td>NaN</td>\n",
       "      <td>NaN</td>\n",
       "      <td>CARLSTADT</td>\n",
       "      <td>PINNACLE ENVIRONEMNTAL CORP</td>\n",
       "      <td>NY</td>\n",
       "      <td>...</td>\n",
       "      <td>NY</td>\n",
       "      <td>yr</td>\n",
       "      <td>37024.00</td>\n",
       "      <td>Level I</td>\n",
       "      <td>OES</td>\n",
       "      <td>Other Economic Sector</td>\n",
       "      <td>37024</td>\n",
       "      <td>yr</td>\n",
       "      <td>2007</td>\n",
       "      <td>2011</td>\n",
       "    </tr>\n",
       "    <tr>\n",
       "      <th>2</th>\n",
       "      <td>NaN</td>\n",
       "      <td>PERM</td>\n",
       "      <td>Certified</td>\n",
       "      <td>H-1B</td>\n",
       "      <td>INDIA</td>\n",
       "      <td>NaN</td>\n",
       "      <td>NaN</td>\n",
       "      <td>GLEN ALLEN</td>\n",
       "      <td>SCHNABEL ENGINEERING, INC.</td>\n",
       "      <td>VA</td>\n",
       "      <td>...</td>\n",
       "      <td>MD</td>\n",
       "      <td>yr</td>\n",
       "      <td>47923.00</td>\n",
       "      <td>Level I</td>\n",
       "      <td>OES</td>\n",
       "      <td>Aerospace</td>\n",
       "      <td>47923</td>\n",
       "      <td>yr</td>\n",
       "      <td>2007</td>\n",
       "      <td>2011</td>\n",
       "    </tr>\n",
       "    <tr>\n",
       "      <th>3</th>\n",
       "      <td>NaN</td>\n",
       "      <td>PERM</td>\n",
       "      <td>Certified</td>\n",
       "      <td>B-2</td>\n",
       "      <td>SOUTH KOREA</td>\n",
       "      <td>NaN</td>\n",
       "      <td>NaN</td>\n",
       "      <td>FLUSHING</td>\n",
       "      <td>EBENEZER MISSION CHURCH</td>\n",
       "      <td>NY</td>\n",
       "      <td>...</td>\n",
       "      <td>NY</td>\n",
       "      <td>hr</td>\n",
       "      <td>10.97</td>\n",
       "      <td>Level II</td>\n",
       "      <td>OES</td>\n",
       "      <td>Other Economic Sector</td>\n",
       "      <td>10.97</td>\n",
       "      <td>hr</td>\n",
       "      <td>2007</td>\n",
       "      <td>2011</td>\n",
       "    </tr>\n",
       "    <tr>\n",
       "      <th>4</th>\n",
       "      <td>NaN</td>\n",
       "      <td>PERM</td>\n",
       "      <td>Certified</td>\n",
       "      <td>L-1</td>\n",
       "      <td>CANADA</td>\n",
       "      <td>NaN</td>\n",
       "      <td>NaN</td>\n",
       "      <td>ALBANY</td>\n",
       "      <td>ALBANY INTERNATIONAL CORP.</td>\n",
       "      <td>NY</td>\n",
       "      <td>...</td>\n",
       "      <td>NY</td>\n",
       "      <td>yr</td>\n",
       "      <td>94890.00</td>\n",
       "      <td>Level IV</td>\n",
       "      <td>OES</td>\n",
       "      <td>Advanced Mfg</td>\n",
       "      <td>100000</td>\n",
       "      <td>yr</td>\n",
       "      <td>2007</td>\n",
       "      <td>2012</td>\n",
       "    </tr>\n",
       "  </tbody>\n",
       "</table>\n",
       "<p>5 rows × 25 columns</p>\n",
       "</div>"
      ],
      "text/plain": [
       "  agent_state application_type case_status class_of_admission  \\\n",
       "0         NaN             PERM   Certified                J-1   \n",
       "1         NaN             PERM      Denied                B-2   \n",
       "2         NaN             PERM   Certified               H-1B   \n",
       "3         NaN             PERM   Certified                B-2   \n",
       "4         NaN             PERM   Certified                L-1   \n",
       "\n",
       "  country_of_citizenship  employer_num_employees  employer_yr_estab  \\\n",
       "0                ARMENIA                     NaN                NaN   \n",
       "1                 POLAND                     NaN                NaN   \n",
       "2                  INDIA                     NaN                NaN   \n",
       "3            SOUTH KOREA                     NaN                NaN   \n",
       "4                 CANADA                     NaN                NaN   \n",
       "\n",
       "  employer_city                employer_name employer_state  ...  \\\n",
       "0      NEW YORK             NETSOFT USA INC.             NY  ...   \n",
       "1     CARLSTADT  PINNACLE ENVIRONEMNTAL CORP             NY  ...   \n",
       "2    GLEN ALLEN   SCHNABEL ENGINEERING, INC.             VA  ...   \n",
       "3      FLUSHING      EBENEZER MISSION CHURCH             NY  ...   \n",
       "4        ALBANY   ALBANY INTERNATIONAL CORP.             NY  ...   \n",
       "\n",
       "  job_work_state pv_unit_of_pay_9089 previous_salary     level source_name  \\\n",
       "0             NY                  yr        75629.00  Level II         OES   \n",
       "1             NY                  yr        37024.00   Level I         OES   \n",
       "2             MD                  yr        47923.00   Level I         OES   \n",
       "3             NY                  hr           10.97  Level II         OES   \n",
       "4             NY                  yr        94890.00  Level IV         OES   \n",
       "\n",
       "                  sector wage_offer  wage_unit_of_pay case_received_date_year  \\\n",
       "0                     IT      75629                yr                    2007   \n",
       "1  Other Economic Sector      37024                yr                    2007   \n",
       "2              Aerospace      47923                yr                    2007   \n",
       "3  Other Economic Sector      10.97                hr                    2007   \n",
       "4           Advanced Mfg     100000                yr                    2007   \n",
       "\n",
       "  decision_date_year  \n",
       "0               2012  \n",
       "1               2011  \n",
       "2               2011  \n",
       "3               2011  \n",
       "4               2012  \n",
       "\n",
       "[5 rows x 25 columns]"
      ]
     },
     "execution_count": 7,
     "metadata": {},
     "output_type": "execute_result"
    }
   ],
   "source": [
    "y=d.Yr.astype('str')\n",
    "new=[]\n",
    "for i in y.index:\n",
    "    new.append(y[i][:-3])\n",
    "    \n",
    "d['Received_Year']=new\n",
    "\n",
    "d.drop('Yr',axis=1,inplace=True)\n",
    "\n",
    "d.case_received_date_year.fillna(d.Received_Year,inplace=True)\n",
    "\n",
    "d.drop(['case_no','case_received_date','Received_Year','decision_date'],axis=1,inplace=True)\n",
    "\n",
    "d.decision_date_year=d.decision_date_year.astype('int')\n",
    "d.head()"
   ]
  },
  {
   "cell_type": "code",
   "execution_count": 8,
   "metadata": {},
   "outputs": [
    {
     "data": {
      "text/plain": [
       "array(['2007', '2008', '2006', '2009', '2011', '2010', '2012', '2013',\n",
       "       '2005', '2014', 2013.0, 2014.0, 2009.0, 2010.0, 2008.0, 2012.0,\n",
       "       2015.0, 2006.0, 2007.0, 2011.0, '', 2016.0], dtype=object)"
      ]
     },
     "execution_count": 8,
     "metadata": {},
     "output_type": "execute_result"
    }
   ],
   "source": [
    "d.case_received_date_year.unique()"
   ]
  },
  {
   "cell_type": "code",
   "execution_count": 9,
   "metadata": {
    "scrolled": true
   },
   "outputs": [
    {
     "data": {
      "text/html": [
       "<div>\n",
       "<style scoped>\n",
       "    .dataframe tbody tr th:only-of-type {\n",
       "        vertical-align: middle;\n",
       "    }\n",
       "\n",
       "    .dataframe tbody tr th {\n",
       "        vertical-align: top;\n",
       "    }\n",
       "\n",
       "    .dataframe thead th {\n",
       "        text-align: right;\n",
       "    }\n",
       "</style>\n",
       "<table border=\"1\" class=\"dataframe\">\n",
       "  <thead>\n",
       "    <tr style=\"text-align: right;\">\n",
       "      <th></th>\n",
       "      <th>agent_state</th>\n",
       "      <th>application_type</th>\n",
       "      <th>case_status</th>\n",
       "      <th>class_of_admission</th>\n",
       "      <th>country_of_citizenship</th>\n",
       "      <th>employer_num_employees</th>\n",
       "      <th>employer_yr_estab</th>\n",
       "      <th>employer_city</th>\n",
       "      <th>employer_name</th>\n",
       "      <th>employer_state</th>\n",
       "      <th>...</th>\n",
       "      <th>job_work_state</th>\n",
       "      <th>pv_unit_of_pay_9089</th>\n",
       "      <th>previous_salary</th>\n",
       "      <th>level</th>\n",
       "      <th>source_name</th>\n",
       "      <th>sector</th>\n",
       "      <th>wage_offer</th>\n",
       "      <th>wage_unit_of_pay</th>\n",
       "      <th>case_received_date_year</th>\n",
       "      <th>decision_date_year</th>\n",
       "    </tr>\n",
       "  </thead>\n",
       "  <tbody>\n",
       "    <tr>\n",
       "      <th>188375</th>\n",
       "      <td>FLORIDA</td>\n",
       "      <td>NaN</td>\n",
       "      <td>Withdrawn</td>\n",
       "      <td>H-1B</td>\n",
       "      <td>CHILE</td>\n",
       "      <td>88.0</td>\n",
       "      <td>1999.0</td>\n",
       "      <td>COCONUT GROVE</td>\n",
       "      <td>TRAX USA CORP.</td>\n",
       "      <td>FLORIDA</td>\n",
       "      <td>...</td>\n",
       "      <td>FLORIDA</td>\n",
       "      <td>Year</td>\n",
       "      <td>96325.0</td>\n",
       "      <td>Level IV</td>\n",
       "      <td>OES</td>\n",
       "      <td>NaN</td>\n",
       "      <td>96325</td>\n",
       "      <td>Year</td>\n",
       "      <td></td>\n",
       "      <td>2014</td>\n",
       "    </tr>\n",
       "    <tr>\n",
       "      <th>198698</th>\n",
       "      <td>CALIFORNIA</td>\n",
       "      <td>NaN</td>\n",
       "      <td>Withdrawn</td>\n",
       "      <td>H-1B</td>\n",
       "      <td>BRAZIL</td>\n",
       "      <td>30000.0</td>\n",
       "      <td>1998.0</td>\n",
       "      <td>NEW YORK</td>\n",
       "      <td>PRICEWATERHOUSECOOPERS</td>\n",
       "      <td>NEW YORK</td>\n",
       "      <td>...</td>\n",
       "      <td>NEW YORK</td>\n",
       "      <td>Year</td>\n",
       "      <td>132558.0</td>\n",
       "      <td>Level IV</td>\n",
       "      <td>OES</td>\n",
       "      <td>NaN</td>\n",
       "      <td>132558</td>\n",
       "      <td>Year</td>\n",
       "      <td></td>\n",
       "      <td>2015</td>\n",
       "    </tr>\n",
       "  </tbody>\n",
       "</table>\n",
       "<p>2 rows × 25 columns</p>\n",
       "</div>"
      ],
      "text/plain": [
       "       agent_state application_type case_status class_of_admission  \\\n",
       "188375     FLORIDA              NaN   Withdrawn               H-1B   \n",
       "198698  CALIFORNIA              NaN   Withdrawn               H-1B   \n",
       "\n",
       "       country_of_citizenship  employer_num_employees  employer_yr_estab  \\\n",
       "188375                  CHILE                    88.0             1999.0   \n",
       "198698                 BRAZIL                 30000.0             1998.0   \n",
       "\n",
       "        employer_city           employer_name employer_state  ...  \\\n",
       "188375  COCONUT GROVE          TRAX USA CORP.        FLORIDA  ...   \n",
       "198698       NEW YORK  PRICEWATERHOUSECOOPERS       NEW YORK  ...   \n",
       "\n",
       "       job_work_state pv_unit_of_pay_9089 previous_salary     level  \\\n",
       "188375        FLORIDA                Year         96325.0  Level IV   \n",
       "198698       NEW YORK                Year        132558.0  Level IV   \n",
       "\n",
       "       source_name sector wage_offer  wage_unit_of_pay  \\\n",
       "188375         OES    NaN      96325              Year   \n",
       "198698         OES    NaN     132558              Year   \n",
       "\n",
       "       case_received_date_year decision_date_year  \n",
       "188375                                       2014  \n",
       "198698                                       2015  \n",
       "\n",
       "[2 rows x 25 columns]"
      ]
     },
     "execution_count": 9,
     "metadata": {},
     "output_type": "execute_result"
    }
   ],
   "source": [
    "d[d.case_received_date_year=='']"
   ]
  },
  {
   "cell_type": "code",
   "execution_count": 10,
   "metadata": {},
   "outputs": [],
   "source": [
    "d.case_received_date_year.replace(\"\",1996,inplace=True) #1996 is the mode"
   ]
  },
  {
   "cell_type": "code",
   "execution_count": 11,
   "metadata": {},
   "outputs": [],
   "source": [
    "d.case_received_date_year=d.case_received_date_year.astype('int')"
   ]
  },
  {
   "cell_type": "code",
   "execution_count": 12,
   "metadata": {},
   "outputs": [
    {
     "data": {
      "text/html": [
       "<div>\n",
       "<style scoped>\n",
       "    .dataframe tbody tr th:only-of-type {\n",
       "        vertical-align: middle;\n",
       "    }\n",
       "\n",
       "    .dataframe tbody tr th {\n",
       "        vertical-align: top;\n",
       "    }\n",
       "\n",
       "    .dataframe thead th {\n",
       "        text-align: right;\n",
       "    }\n",
       "</style>\n",
       "<table border=\"1\" class=\"dataframe\">\n",
       "  <thead>\n",
       "    <tr style=\"text-align: right;\">\n",
       "      <th></th>\n",
       "      <th>agent_state</th>\n",
       "      <th>application_type</th>\n",
       "      <th>case_status</th>\n",
       "      <th>class_of_admission</th>\n",
       "      <th>country_of_citizenship</th>\n",
       "      <th>employer_num_employees</th>\n",
       "      <th>employer_yr_estab</th>\n",
       "      <th>employer_city</th>\n",
       "      <th>employer_name</th>\n",
       "      <th>employer_state</th>\n",
       "      <th>...</th>\n",
       "      <th>job_work_state</th>\n",
       "      <th>pv_unit_of_pay_9089</th>\n",
       "      <th>previous_salary</th>\n",
       "      <th>level</th>\n",
       "      <th>source_name</th>\n",
       "      <th>sector</th>\n",
       "      <th>wage_offer</th>\n",
       "      <th>wage_unit_of_pay</th>\n",
       "      <th>case_received_date_year</th>\n",
       "      <th>decision_date_year</th>\n",
       "    </tr>\n",
       "  </thead>\n",
       "  <tbody>\n",
       "  </tbody>\n",
       "</table>\n",
       "<p>0 rows × 25 columns</p>\n",
       "</div>"
      ],
      "text/plain": [
       "Empty DataFrame\n",
       "Columns: [agent_state, application_type, case_status, class_of_admission, country_of_citizenship, employer_num_employees, employer_yr_estab, employer_city, employer_name, employer_state, foreign_worker_info_education, foreign_worker_info_major, job_experience, job_title, job_training, job_work_state, pv_unit_of_pay_9089, previous_salary, level, source_name, sector, wage_offer, wage_unit_of_pay, case_received_date_year, decision_date_year]\n",
       "Index: []\n",
       "\n",
       "[0 rows x 25 columns]"
      ]
     },
     "execution_count": 12,
     "metadata": {},
     "output_type": "execute_result"
    }
   ],
   "source": [
    "d[d.case_received_date_year>d.decision_date_year]   # This imputation is succesful"
   ]
  },
  {
   "cell_type": "code",
   "execution_count": 13,
   "metadata": {},
   "outputs": [
    {
     "data": {
      "text/plain": [
       "135404"
      ]
     },
     "execution_count": 13,
     "metadata": {},
     "output_type": "execute_result"
    }
   ],
   "source": [
    "d.employer_yr_estab.isnull().sum()"
   ]
  },
  {
   "cell_type": "markdown",
   "metadata": {},
   "source": [
    "### Inferences :\n",
    "1. We have extracted useful data from case_no (63% missing values) and case_received_date (37% missing values) , so now we will drop them.\n",
    "\n",
    "2. The new extracted features: case_received_date_mn nad decision_date_mn are not contributing to be helpful and moreover have missing values , so we have dropped them.\n"
   ]
  },
  {
   "cell_type": "code",
   "execution_count": 14,
   "metadata": {},
   "outputs": [
    {
     "data": {
      "text/plain": [
       "1996.0"
      ]
     },
     "execution_count": 14,
     "metadata": {},
     "output_type": "execute_result"
    }
   ],
   "source": [
    "d.employer_yr_estab.median()"
   ]
  },
  {
   "cell_type": "markdown",
   "metadata": {},
   "source": [
    "### Binning the years "
   ]
  },
  {
   "cell_type": "code",
   "execution_count": 15,
   "metadata": {},
   "outputs": [
    {
     "data": {
      "text/plain": [
       "0                      NaN\n",
       "1                      NaN\n",
       "2                      NaN\n",
       "3                      NaN\n",
       "4                      NaN\n",
       "5                      NaN\n",
       "6                      NaN\n",
       "7                      NaN\n",
       "8                      NaN\n",
       "9                      NaN\n",
       "10                     NaN\n",
       "11                     NaN\n",
       "12                     NaN\n",
       "13                     NaN\n",
       "14                     NaN\n",
       "15                     NaN\n",
       "16                     NaN\n",
       "17                     NaN\n",
       "18                     NaN\n",
       "19                     NaN\n",
       "20                     NaN\n",
       "21                     NaN\n",
       "22                     NaN\n",
       "23                     NaN\n",
       "24                     NaN\n",
       "25                     NaN\n",
       "26                     NaN\n",
       "27                     NaN\n",
       "28                     NaN\n",
       "29                     NaN\n",
       "                ...       \n",
       "374332    (-0.001, 1988.0]\n",
       "374333    (2001.0, 2016.0]\n",
       "374334    (2001.0, 2016.0]\n",
       "374335    (1988.0, 2001.0]\n",
       "374336    (2001.0, 2016.0]\n",
       "374337    (-0.001, 1988.0]\n",
       "374338    (-0.001, 1988.0]\n",
       "374339    (1988.0, 2001.0]\n",
       "374340    (1988.0, 2001.0]\n",
       "374341    (2001.0, 2016.0]\n",
       "374342    (-0.001, 1988.0]\n",
       "374343    (-0.001, 1988.0]\n",
       "374344    (1988.0, 2001.0]\n",
       "374345    (2001.0, 2016.0]\n",
       "374346    (2001.0, 2016.0]\n",
       "374347    (-0.001, 1988.0]\n",
       "374348    (2001.0, 2016.0]\n",
       "374349    (-0.001, 1988.0]\n",
       "374350    (1988.0, 2001.0]\n",
       "374351    (1988.0, 2001.0]\n",
       "374352    (-0.001, 1988.0]\n",
       "374353    (1988.0, 2001.0]\n",
       "374354    (-0.001, 1988.0]\n",
       "374355    (2001.0, 2016.0]\n",
       "374356    (2001.0, 2016.0]\n",
       "374357    (2001.0, 2016.0]\n",
       "374358    (-0.001, 1988.0]\n",
       "374359    (2001.0, 2016.0]\n",
       "374360    (2001.0, 2016.0]\n",
       "374361    (-0.001, 1988.0]\n",
       "Name: employer_yr_estab, Length: 365627, dtype: category\n",
       "Categories (3, interval[float64]): [(-0.001, 1988.0] < (1988.0, 2001.0] < (2001.0, 2016.0]]"
      ]
     },
     "execution_count": 15,
     "metadata": {},
     "output_type": "execute_result"
    }
   ],
   "source": [
    "pd.qcut(d.employer_yr_estab,3)"
   ]
  },
  {
   "cell_type": "code",
   "execution_count": 16,
   "metadata": {},
   "outputs": [],
   "source": [
    "d.employer_yr_estab.fillna(-1,inplace=True)  # Keeping the null values aside"
   ]
  },
  {
   "cell_type": "code",
   "execution_count": 17,
   "metadata": {},
   "outputs": [],
   "source": [
    "def age(x):\n",
    "    if x==-1:\n",
    "        return \"Unavailable\"\n",
    "    elif x>-1 and x<1600:\n",
    "        return \"Old\"\n",
    "    elif x>1988 and x<2001:\n",
    "        return 'Old'\n",
    "    elif x<1988:\n",
    "        return \"Ancient\"\n",
    "    else:\n",
    "        return \"New\"\n",
    "    \n",
    "d.employer_yr_estab=d.employer_yr_estab.apply(age)"
   ]
  },
  {
   "cell_type": "code",
   "execution_count": 18,
   "metadata": {},
   "outputs": [
    {
     "data": {
      "text/plain": [
       "Unavailable    135404\n",
       "New             83596\n",
       "Ancient         75986\n",
       "Old             70641\n",
       "Name: employer_yr_estab, dtype: int64"
      ]
     },
     "execution_count": 18,
     "metadata": {},
     "output_type": "execute_result"
    }
   ],
   "source": [
    "d.employer_yr_estab.value_counts()"
   ]
  },
  {
   "cell_type": "code",
   "execution_count": 19,
   "metadata": {},
   "outputs": [
    {
     "data": {
      "text/plain": [
       "New        167192\n",
       "Ancient    127794\n",
       "Old         70641\n",
       "Name: employer_yr_estab, dtype: int64"
      ]
     },
     "execution_count": 19,
     "metadata": {},
     "output_type": "execute_result"
    }
   ],
   "source": [
    "d.employer_yr_estab.replace('Unavailable',np.nan,inplace=True)\n",
    "d.employer_yr_estab.fillna('New',limit=83596,inplace=True)\n",
    "d.employer_yr_estab.fillna('Ancient',limit=75986,inplace=True)\n",
    "d.employer_yr_estab.fillna('Old',limit=70641,inplace=True)\n",
    "d.employer_yr_estab.value_counts()"
   ]
  },
  {
   "cell_type": "code",
   "execution_count": 20,
   "metadata": {},
   "outputs": [
    {
     "data": {
      "text/html": [
       "<div>\n",
       "<style scoped>\n",
       "    .dataframe tbody tr th:only-of-type {\n",
       "        vertical-align: middle;\n",
       "    }\n",
       "\n",
       "    .dataframe tbody tr th {\n",
       "        vertical-align: top;\n",
       "    }\n",
       "\n",
       "    .dataframe thead th {\n",
       "        text-align: right;\n",
       "    }\n",
       "</style>\n",
       "<table border=\"1\" class=\"dataframe\">\n",
       "  <thead>\n",
       "    <tr style=\"text-align: right;\">\n",
       "      <th></th>\n",
       "      <th>agent_state</th>\n",
       "      <th>application_type</th>\n",
       "      <th>case_status</th>\n",
       "      <th>class_of_admission</th>\n",
       "      <th>country_of_citizenship</th>\n",
       "      <th>employer_num_employees</th>\n",
       "      <th>employer_yr_estab</th>\n",
       "      <th>employer_city</th>\n",
       "      <th>employer_name</th>\n",
       "      <th>employer_state</th>\n",
       "      <th>...</th>\n",
       "      <th>job_work_state</th>\n",
       "      <th>pv_unit_of_pay_9089</th>\n",
       "      <th>previous_salary</th>\n",
       "      <th>level</th>\n",
       "      <th>source_name</th>\n",
       "      <th>sector</th>\n",
       "      <th>wage_offer</th>\n",
       "      <th>wage_unit_of_pay</th>\n",
       "      <th>case_received_date_year</th>\n",
       "      <th>decision_date_year</th>\n",
       "    </tr>\n",
       "  </thead>\n",
       "  <tbody>\n",
       "    <tr>\n",
       "      <th>0</th>\n",
       "      <td>NaN</td>\n",
       "      <td>PERM</td>\n",
       "      <td>Certified</td>\n",
       "      <td>J-1</td>\n",
       "      <td>ARMENIA</td>\n",
       "      <td>NaN</td>\n",
       "      <td>New</td>\n",
       "      <td>NEW YORK</td>\n",
       "      <td>NETSOFT USA INC.</td>\n",
       "      <td>NY</td>\n",
       "      <td>...</td>\n",
       "      <td>NY</td>\n",
       "      <td>yr</td>\n",
       "      <td>75629.00</td>\n",
       "      <td>Level II</td>\n",
       "      <td>OES</td>\n",
       "      <td>IT</td>\n",
       "      <td>75629</td>\n",
       "      <td>yr</td>\n",
       "      <td>2007</td>\n",
       "      <td>2012</td>\n",
       "    </tr>\n",
       "    <tr>\n",
       "      <th>1</th>\n",
       "      <td>NaN</td>\n",
       "      <td>PERM</td>\n",
       "      <td>Denied</td>\n",
       "      <td>B-2</td>\n",
       "      <td>POLAND</td>\n",
       "      <td>NaN</td>\n",
       "      <td>New</td>\n",
       "      <td>CARLSTADT</td>\n",
       "      <td>PINNACLE ENVIRONEMNTAL CORP</td>\n",
       "      <td>NY</td>\n",
       "      <td>...</td>\n",
       "      <td>NY</td>\n",
       "      <td>yr</td>\n",
       "      <td>37024.00</td>\n",
       "      <td>Level I</td>\n",
       "      <td>OES</td>\n",
       "      <td>Other Economic Sector</td>\n",
       "      <td>37024</td>\n",
       "      <td>yr</td>\n",
       "      <td>2007</td>\n",
       "      <td>2011</td>\n",
       "    </tr>\n",
       "    <tr>\n",
       "      <th>2</th>\n",
       "      <td>NaN</td>\n",
       "      <td>PERM</td>\n",
       "      <td>Certified</td>\n",
       "      <td>H-1B</td>\n",
       "      <td>INDIA</td>\n",
       "      <td>NaN</td>\n",
       "      <td>New</td>\n",
       "      <td>GLEN ALLEN</td>\n",
       "      <td>SCHNABEL ENGINEERING, INC.</td>\n",
       "      <td>VA</td>\n",
       "      <td>...</td>\n",
       "      <td>MD</td>\n",
       "      <td>yr</td>\n",
       "      <td>47923.00</td>\n",
       "      <td>Level I</td>\n",
       "      <td>OES</td>\n",
       "      <td>Aerospace</td>\n",
       "      <td>47923</td>\n",
       "      <td>yr</td>\n",
       "      <td>2007</td>\n",
       "      <td>2011</td>\n",
       "    </tr>\n",
       "    <tr>\n",
       "      <th>3</th>\n",
       "      <td>NaN</td>\n",
       "      <td>PERM</td>\n",
       "      <td>Certified</td>\n",
       "      <td>B-2</td>\n",
       "      <td>SOUTH KOREA</td>\n",
       "      <td>NaN</td>\n",
       "      <td>New</td>\n",
       "      <td>FLUSHING</td>\n",
       "      <td>EBENEZER MISSION CHURCH</td>\n",
       "      <td>NY</td>\n",
       "      <td>...</td>\n",
       "      <td>NY</td>\n",
       "      <td>hr</td>\n",
       "      <td>10.97</td>\n",
       "      <td>Level II</td>\n",
       "      <td>OES</td>\n",
       "      <td>Other Economic Sector</td>\n",
       "      <td>10.97</td>\n",
       "      <td>hr</td>\n",
       "      <td>2007</td>\n",
       "      <td>2011</td>\n",
       "    </tr>\n",
       "    <tr>\n",
       "      <th>4</th>\n",
       "      <td>NaN</td>\n",
       "      <td>PERM</td>\n",
       "      <td>Certified</td>\n",
       "      <td>L-1</td>\n",
       "      <td>CANADA</td>\n",
       "      <td>NaN</td>\n",
       "      <td>New</td>\n",
       "      <td>ALBANY</td>\n",
       "      <td>ALBANY INTERNATIONAL CORP.</td>\n",
       "      <td>NY</td>\n",
       "      <td>...</td>\n",
       "      <td>NY</td>\n",
       "      <td>yr</td>\n",
       "      <td>94890.00</td>\n",
       "      <td>Level IV</td>\n",
       "      <td>OES</td>\n",
       "      <td>Advanced Mfg</td>\n",
       "      <td>100000</td>\n",
       "      <td>yr</td>\n",
       "      <td>2007</td>\n",
       "      <td>2012</td>\n",
       "    </tr>\n",
       "  </tbody>\n",
       "</table>\n",
       "<p>5 rows × 25 columns</p>\n",
       "</div>"
      ],
      "text/plain": [
       "  agent_state application_type case_status class_of_admission  \\\n",
       "0         NaN             PERM   Certified                J-1   \n",
       "1         NaN             PERM      Denied                B-2   \n",
       "2         NaN             PERM   Certified               H-1B   \n",
       "3         NaN             PERM   Certified                B-2   \n",
       "4         NaN             PERM   Certified                L-1   \n",
       "\n",
       "  country_of_citizenship  employer_num_employees employer_yr_estab  \\\n",
       "0                ARMENIA                     NaN               New   \n",
       "1                 POLAND                     NaN               New   \n",
       "2                  INDIA                     NaN               New   \n",
       "3            SOUTH KOREA                     NaN               New   \n",
       "4                 CANADA                     NaN               New   \n",
       "\n",
       "  employer_city                employer_name employer_state  ...  \\\n",
       "0      NEW YORK             NETSOFT USA INC.             NY  ...   \n",
       "1     CARLSTADT  PINNACLE ENVIRONEMNTAL CORP             NY  ...   \n",
       "2    GLEN ALLEN   SCHNABEL ENGINEERING, INC.             VA  ...   \n",
       "3      FLUSHING      EBENEZER MISSION CHURCH             NY  ...   \n",
       "4        ALBANY   ALBANY INTERNATIONAL CORP.             NY  ...   \n",
       "\n",
       "  job_work_state pv_unit_of_pay_9089 previous_salary     level source_name  \\\n",
       "0             NY                  yr        75629.00  Level II         OES   \n",
       "1             NY                  yr        37024.00   Level I         OES   \n",
       "2             MD                  yr        47923.00   Level I         OES   \n",
       "3             NY                  hr           10.97  Level II         OES   \n",
       "4             NY                  yr        94890.00  Level IV         OES   \n",
       "\n",
       "                  sector wage_offer  wage_unit_of_pay case_received_date_year  \\\n",
       "0                     IT      75629                yr                    2007   \n",
       "1  Other Economic Sector      37024                yr                    2007   \n",
       "2              Aerospace      47923                yr                    2007   \n",
       "3  Other Economic Sector      10.97                hr                    2007   \n",
       "4           Advanced Mfg     100000                yr                    2007   \n",
       "\n",
       "  decision_date_year  \n",
       "0               2012  \n",
       "1               2011  \n",
       "2               2011  \n",
       "3               2011  \n",
       "4               2012  \n",
       "\n",
       "[5 rows x 25 columns]"
      ]
     },
     "execution_count": 20,
     "metadata": {},
     "output_type": "execute_result"
    }
   ],
   "source": [
    "d.head()"
   ]
  },
  {
   "cell_type": "code",
   "execution_count": 21,
   "metadata": {},
   "outputs": [
    {
     "data": {
      "text/plain": [
       "(365627, 25)"
      ]
     },
     "execution_count": 21,
     "metadata": {},
     "output_type": "execute_result"
    }
   ],
   "source": [
    "d.shape"
   ]
  },
  {
   "cell_type": "markdown",
   "metadata": {},
   "source": [
    "### Correcting the values of units of pay"
   ]
  },
  {
   "cell_type": "code",
   "execution_count": 22,
   "metadata": {},
   "outputs": [],
   "source": [
    "d.pv_unit_of_pay_9089.replace('yr','Year',inplace=True)\n",
    "d.pv_unit_of_pay_9089.replace('hr','Hour',inplace=True)\n",
    "d.pv_unit_of_pay_9089.replace('bi','Bi-Weekly',inplace=True)\n",
    "d.pv_unit_of_pay_9089.replace('mth','Month',inplace=True)\n",
    "d.pv_unit_of_pay_9089.replace('wk','Week',inplace=True)\n"
   ]
  },
  {
   "cell_type": "code",
   "execution_count": 23,
   "metadata": {},
   "outputs": [],
   "source": [
    "d.wage_unit_of_pay.replace('hr','Hour',inplace=True)\n",
    "d.wage_unit_of_pay.replace('bi','Bi-Weekly',inplace=True)\n",
    "d.wage_unit_of_pay.replace('mth','Month',inplace=True)\n",
    "d.wage_unit_of_pay.replace('wk','Week',inplace=True)\n",
    "d.wage_unit_of_pay.replace('yr','Year',inplace=True)"
   ]
  },
  {
   "cell_type": "markdown",
   "metadata": {},
   "source": [
    "### Analyzing columns like states to generalize them"
   ]
  },
  {
   "cell_type": "code",
   "execution_count": 24,
   "metadata": {},
   "outputs": [],
   "source": [
    "state_abb = { 'Alabama': 'AL','Alaska': 'AK','Arizona': 'AZ','Arkansas': 'AR','California': 'CA','Colorado': 'CO',\n",
    "                 'Connecticut': 'CT','Delaware': 'DE','Florida': 'FL','Georgia': 'GA','Hawaii': 'HI','Idaho': 'ID',\n",
    "                  'Illinois': 'IL','Indiana': 'IN','Iowa': 'IA','Kansas': 'KS','Kentucky': 'KY','Louisiana': 'LA',\n",
    "                'Maine': 'ME','Maryland': 'MD', 'Massachusetts': 'MA','Michigan': 'MI','Minnesota': 'MN','Mississippi': 'MS',\n",
    "                'Missouri': 'MO','Montana': 'MT','Nebraska': 'NE','Nevada': 'NV','New Hampshire': 'NH','New Jersey': 'NJ',\n",
    "                'New Mexico': 'NM','New York': 'NY','North Carolina': 'NC','North Dakota': 'ND','Ohio': 'OH','Oklahoma': 'OK',\n",
    "                'Oregon': 'OR','Pennsylvania': 'PA','Rhode Island': 'RI','South Carolina': 'SC','South Dakota': 'SD',\n",
    "                'Tennessee': 'TN','Texas': 'TX','Utah': 'UT','Vermont': 'VT','Virginia': 'VA','Washington': 'WA',\n",
    "                'West Virginia': 'WV','Wisconsin': 'WI','Wyoming': 'WY','Northern Mariana Islands':'MP', 'Palau': 'PW', \n",
    "                'Puerto Rico': 'PR', 'Virgin Islands': 'VI', 'District of Columbia': 'DC','MARSHALL ISLANDS':'MH'}\n",
    "us_state_abbrev = {k.upper(): v for k, v in state_abb.items()}\n",
    "d['agent_state'].replace(us_state_abbrev, inplace=True)\n",
    "d.agent_state = d.agent_state.astype(str)"
   ]
  },
  {
   "cell_type": "code",
   "execution_count": 25,
   "metadata": {},
   "outputs": [
    {
     "data": {
      "text/plain": [
       "array(['nan', 'WI', 'NC', 'CO', 'CA', 'MI', 'NY', 'TX', 'PA', 'NJ', 'MO',\n",
       "       'FL', 'VA', 'OH', 'DC', 'IN', 'GA', 'MA', 'IL', 'AL', 'OK', 'WA',\n",
       "       'CT', 'MN', 'AR', 'HI', 'MD', 'UT', 'PR', 'AZ', 'NV', 'NH', 'OR',\n",
       "       'KS', 'NM', 'VT', 'TN', 'NE', 'LA', 'KY', 'GUAM', 'IA', 'SC', 'RI',\n",
       "       'ME', 'ID', 'ND', 'AK', 'MS', 'DE', 'MH', 'SD', 'MT', 'WV', 'GU',\n",
       "       'MP', 'WY', 'VI'], dtype=object)"
      ]
     },
     "execution_count": 25,
     "metadata": {},
     "output_type": "execute_result"
    }
   ],
   "source": [
    "d.agent_state.unique()"
   ]
  },
  {
   "cell_type": "code",
   "execution_count": 26,
   "metadata": {},
   "outputs": [
    {
     "data": {
      "text/plain": [
       "nan    0.440769\n",
       "CA     0.148843\n",
       "NY     0.069735\n",
       "TX     0.047398\n",
       "MA     0.032965\n",
       "Name: agent_state, dtype: float64"
      ]
     },
     "execution_count": 26,
     "metadata": {},
     "output_type": "execute_result"
    }
   ],
   "source": [
    "d.agent_state.value_counts(1).head()"
   ]
  },
  {
   "cell_type": "markdown",
   "metadata": {},
   "source": [
    "##### Inference:\n",
    "1. Since, agent_state has 58 unique values, 44% nan values and it is not contributing significantly to the business problem. \n",
    "\n",
    "2. Moreover , similar information is available in 'Source' column."
   ]
  },
  {
   "cell_type": "code",
   "execution_count": 27,
   "metadata": {},
   "outputs": [],
   "source": [
    "from scipy.stats import chi2_contingency\n",
    "# Chi-Square Test\n",
    "# Null hypothesis H0: There is no association between agent_state and case_status\n",
    "# Alternate hypothesis H1: There is association between agent_state and case_status"
   ]
  },
  {
   "cell_type": "code",
   "execution_count": 28,
   "metadata": {},
   "outputs": [],
   "source": [
    "f=pd.crosstab(d.case_status,d.agent_state)\n",
    "#chi2_contingency(f)\n"
   ]
  },
  {
   "cell_type": "code",
   "execution_count": 29,
   "metadata": {},
   "outputs": [
    {
     "data": {
      "text/plain": [
       "0.0"
      ]
     },
     "execution_count": 29,
     "metadata": {},
     "output_type": "execute_result"
    }
   ],
   "source": [
    "stat, p, dof, expected=chi2_contingency(f)\n",
    "p"
   ]
  },
  {
   "cell_type": "code",
   "execution_count": 30,
   "metadata": {},
   "outputs": [],
   "source": [
    "# Since p value < alpha (0.05) ,we reject the null hypothesis\n",
    "#There is association between agent_state and case_status"
   ]
  },
  {
   "cell_type": "code",
   "execution_count": 31,
   "metadata": {},
   "outputs": [],
   "source": [
    "regions = {\n",
    "    'ME':'Northeast', \n",
    "    'NY':'Northeast', \n",
    "    'NJ':'Northeast', \n",
    "    'VT':'Northeast',\n",
    "    'MA':'Northeast',\n",
    "    'RI':'Northeast',\n",
    "    'CT':'Northeast',\n",
    "    'NH':'Northeast',\n",
    "    'PA':'Northeast',\n",
    "    'IL':'Midwest',\n",
    "    'IN':'Midwest',\n",
    "    'IA':'Midwest', \n",
    "    'KS':'Midwest',\n",
    "    'MI':'Midwest', \n",
    "    'MN':'Midwest', \n",
    "    'MO':'Midwest', \n",
    "    'NE':'Midwest',\n",
    "    'ND':'Midwest', \n",
    "    'OH':'Midwest', \n",
    "    'SD':'Midwest', \n",
    "    'WI':'Midwest',\n",
    "    'DE':'South',\n",
    "    'FL':'South', \n",
    "    'GA':'South',\n",
    "    'MD':'South',\n",
    "    'NC':'South',\n",
    "    'SC':'South',\n",
    "    'VA':'South',\n",
    "    'WV':'South',\n",
    "    'AL':'South',\n",
    "    'KY':'South',\n",
    "    'MS':'South',\n",
    "    'TN':'South',\n",
    "    'AR':'South',\n",
    "    'LA':'South', \n",
    "    'OK':'South',\n",
    "    'TX':'South',\n",
    "    'MT':'West',\n",
    "    'WY':'West', \n",
    "    'CO':'West', \n",
    "    'NM':'West', \n",
    "    'ID':'West', \n",
    "    'UT':'West', \n",
    "    'AZ':'West', \n",
    "    'NV':'West',\n",
    "    'WA':'West', \n",
    "    'OR':'West', \n",
    "    'CA':'West', \n",
    "    'AK':'West',\n",
    "    'HI':'West',\n",
    "    'DC':'Other', \n",
    "    'GUAM':'Island',\n",
    "    'GU':'Island',\n",
    "    'PR':'Island', \n",
    "    'MP':'Island', \n",
    "    'VI':'Island',\n",
    "    'BC':'Northeast',\n",
    "    'BRITISH COLUMBIA':'Northeast',  \n",
    "    'nan':'Other',\n",
    "    'FEDERATED STATES OF MICRONESIA':'Other',\n",
    "'MH':'Island'}"
   ]
  },
  {
   "cell_type": "code",
   "execution_count": 32,
   "metadata": {},
   "outputs": [],
   "source": [
    "def region(x):\n",
    "    return regions[x]\n",
    "\n",
    "d['agent_state'] = d['agent_state'].apply(region)\n"
   ]
  },
  {
   "cell_type": "code",
   "execution_count": 33,
   "metadata": {},
   "outputs": [
    {
     "data": {
      "text/plain": [
       "Other        165132\n",
       "West          65564\n",
       "Northeast     53072\n",
       "South         52972\n",
       "Midwest       28620\n",
       "Island          267\n",
       "Name: agent_state, dtype: int64"
      ]
     },
     "execution_count": 33,
     "metadata": {},
     "output_type": "execute_result"
    }
   ],
   "source": [
    "d.agent_state.value_counts()"
   ]
  },
  {
   "cell_type": "code",
   "execution_count": 34,
   "metadata": {},
   "outputs": [
    {
     "data": {
      "text/plain": [
       "West         0.358639\n",
       "Northeast    0.290307\n",
       "South        0.272048\n",
       "Midwest      0.078276\n",
       "Island       0.000730\n",
       "Name: agent_state, dtype: float64"
      ]
     },
     "execution_count": 34,
     "metadata": {},
     "output_type": "execute_result"
    }
   ],
   "source": [
    "d.agent_state.replace('Other',np.nan,inplace=True)\n",
    "d.agent_state.fillna('West',limit=65564,inplace=True)\n",
    "d.agent_state.fillna('Northeast',limit=53072,inplace=True)\n",
    "d.agent_state.fillna('South',limit=52972,inplace=True)\n",
    "d.agent_state.value_counts(1)"
   ]
  },
  {
   "cell_type": "code",
   "execution_count": 35,
   "metadata": {},
   "outputs": [
    {
     "data": {
      "image/png": "[encoded data removed]",
      "text/plain": [
       "<Figure size 432x288 with 1 Axes>"
      ]
     },
     "metadata": {
      "needs_background": "light"
     },
     "output_type": "display_data"
    }
   ],
   "source": [
    "sns.countplot(d.agent_state)\n",
    "plt.show()"
   ]
  },
  {
   "cell_type": "code",
   "execution_count": 36,
   "metadata": {},
   "outputs": [
    {
     "data": {
      "text/plain": [
       "ONLINE      0.832149\n",
       "PERM        0.152112\n",
       "MAILEDIN    0.015739\n",
       "Name: application_type, dtype: float64"
      ]
     },
     "execution_count": 36,
     "metadata": {},
     "output_type": "execute_result"
    }
   ],
   "source": [
    "#2\n",
    "d.application_type.value_counts(1)"
   ]
  },
  {
   "cell_type": "code",
   "execution_count": 37,
   "metadata": {},
   "outputs": [
    {
     "data": {
      "text/plain": [
       "array(['PERM', 'ONLINE', 'MAILEDIN', nan], dtype=object)"
      ]
     },
     "execution_count": 37,
     "metadata": {},
     "output_type": "execute_result"
    }
   ],
   "source": [
    "d.application_type.unique()"
   ]
  },
  {
   "cell_type": "code",
   "execution_count": 38,
   "metadata": {},
   "outputs": [],
   "source": [
    "# Chi-Square Test\n",
    "# Null hypothesis H0: There is no association between application_type and case_status\n",
    "# Alternate hypothesis H1: There is association between application_type and case_status"
   ]
  },
  {
   "cell_type": "code",
   "execution_count": 39,
   "metadata": {},
   "outputs": [
    {
     "data": {
      "text/plain": [
       "0.0"
      ]
     },
     "execution_count": 39,
     "metadata": {},
     "output_type": "execute_result"
    }
   ],
   "source": [
    "app=pd.crosstab(d.case_status,d.application_type)\n",
    "stat, p, dof, expected=chi2_contingency(app)\n",
    "p    \n",
    "# Since p value < alpha (0.05) ,we reject the null hypothesis"
   ]
  },
  {
   "cell_type": "markdown",
   "metadata": {},
   "source": [
    "#### Creating a new level for missing values "
   ]
  },
  {
   "cell_type": "code",
   "execution_count": 40,
   "metadata": {},
   "outputs": [
    {
     "data": {
      "text/plain": [
       "ONLINE      112564\n",
       "PERM         20576\n",
       "MAILEDIN      2129\n",
       "Name: application_type, dtype: int64"
      ]
     },
     "execution_count": 40,
     "metadata": {},
     "output_type": "execute_result"
    }
   ],
   "source": [
    "#d.application_type.replace(np.nan,'Unavailable',inplace=True)\n",
    "d.application_type.value_counts()"
   ]
  },
  {
   "cell_type": "code",
   "execution_count": 41,
   "metadata": {},
   "outputs": [
    {
     "data": {
      "text/plain": [
       "ONLINE      0.832149\n",
       "PERM        0.152112\n",
       "MAILEDIN    0.015739\n",
       "Name: application_type, dtype: float64"
      ]
     },
     "execution_count": 41,
     "metadata": {},
     "output_type": "execute_result"
    }
   ],
   "source": [
    "#d.application_type.replace('Unavailable',np.nan,inplace=True)\n",
    "d.application_type.fillna('ONLINE',limit=112564,inplace=True)\n",
    "d.application_type.fillna('PERM',limit=20576,inplace=True)\n",
    "d.application_type.fillna('MAILEDIN',limit=2129,inplace=True)\n",
    "d.application_type.value_counts(1)"
   ]
  },
  {
   "cell_type": "code",
   "execution_count": 42,
   "metadata": {},
   "outputs": [
    {
     "data": {
      "text/plain": [
       "agent_state                      0.000000\n",
       "application_type                 0.260071\n",
       "case_status                      0.000000\n",
       "class_of_admission               0.057493\n",
       "country_of_citizenship           0.000164\n",
       "employer_num_employees           0.370183\n",
       "employer_yr_estab                0.000000\n",
       "employer_city                    0.000038\n",
       "employer_name                    0.000033\n",
       "employer_state                   0.000115\n",
       "foreign_worker_info_education    0.370071\n",
       "foreign_worker_info_major        0.414800\n",
       "job_experience                   0.369997\n",
       "job_title                        0.370085\n",
       "job_training                     0.370005\n",
       "job_work_state                   0.000282\n",
       "pv_unit_of_pay_9089              0.026338\n",
       "previous_salary                  0.006055\n",
       "level                            0.074106\n",
       "source_name                      0.005735\n",
       "sector                           0.646995\n",
       "wage_offer                       0.313902\n",
       "wage_unit_of_pay                 0.316413\n",
       "case_received_date_year          0.000000\n",
       "decision_date_year               0.000000\n",
       "dtype: float64"
      ]
     },
     "execution_count": 42,
     "metadata": {},
     "output_type": "execute_result"
    }
   ],
   "source": [
    "d.isnull().sum()/d.shape[0]"
   ]
  },
  {
   "cell_type": "markdown",
   "metadata": {},
   "source": [
    "### Imputing Missing values in columns less with than 2% missing values"
   ]
  },
  {
   "cell_type": "code",
   "execution_count": 43,
   "metadata": {},
   "outputs": [
    {
     "data": {
      "text/plain": [
       "application_type                  95089\n",
       "class_of_admission                21021\n",
       "employer_num_employees           135349\n",
       "employer_state                       42\n",
       "foreign_worker_info_education    135308\n",
       "foreign_worker_info_major        151662\n",
       "job_experience                   135281\n",
       "job_title                        135313\n",
       "job_training                     135284\n",
       "pv_unit_of_pay_9089                9630\n",
       "level                             27095\n",
       "sector                           236559\n",
       "wage_offer                       114771\n",
       "wage_unit_of_pay                 115689\n",
       "dtype: int64"
      ]
     },
     "execution_count": 43,
     "metadata": {},
     "output_type": "execute_result"
    }
   ],
   "source": [
    "d.source_name.fillna(d.source_name.mode()[0],inplace=True)\n",
    "d.previous_salary.fillna(d.previous_salary.median(),inplace=True)\n",
    "d.job_work_state.fillna(d.job_work_state.mode()[0],inplace=True)\n",
    "d.country_of_citizenship.fillna(d.country_of_citizenship.mode()[0],inplace=True)\n",
    "d.employer_city.fillna(d.employer_city.mode()[0],inplace=True)\n",
    "d.employer_name.fillna(d.employer_name.mode()[0],inplace=True)\n",
    "#d.employer_name.fillna(d.employer_name.mode()[0],inplace=True)\n",
    "#d.employer_state.fillna(d.employer_state.mode()[0],inplace=True)\n",
    "d.isnull().sum()[d.isnull().sum()/d.shape[0]>0]"
   ]
  },
  {
   "cell_type": "markdown",
   "metadata": {},
   "source": [
    "### Generalizing the Class_of_admsn of Visa"
   ]
  },
  {
   "cell_type": "code",
   "execution_count": 44,
   "metadata": {},
   "outputs": [
    {
     "data": {
      "text/plain": [
       "array(['J-1', 'B-2', 'H-1B', 'L-1', 'EWI', 'E-2', nan, 'E-1', 'H-2B',\n",
       "       'TPS', 'F-1', 'B-1', 'C-1', 'Not in USA', 'TN', 'H-4', 'O-1',\n",
       "       'R-1', 'L-2', 'Q', 'F-2', 'H-1B1', 'Parolee', 'G-5', 'E-3', 'H-2A',\n",
       "       'VWT', 'P-1', 'A1/A2', 'D-1', 'A-3', 'R-2', 'H-1C', 'H-3', 'J-2',\n",
       "       'P-4', 'I', 'H-1A', 'G-1', 'VWB', 'G-4', 'P-3', 'AOS/H-1B', 'O-3',\n",
       "       'Parol', 'O-2', 'H1B', 'N', 'T-1', 'TD', 'M-1', 'K-1', 'U-1',\n",
       "       'AOS', 'P-2', 'C-3', 'V-2', 'M-2'], dtype=object)"
      ]
     },
     "execution_count": 44,
     "metadata": {},
     "output_type": "execute_result"
    }
   ],
   "source": [
    "d.class_of_admission.unique()"
   ]
  },
  {
   "cell_type": "code",
   "execution_count": 45,
   "metadata": {},
   "outputs": [
    {
     "data": {
      "text/plain": [
       "0.0"
      ]
     },
     "execution_count": 45,
     "metadata": {},
     "output_type": "execute_result"
    }
   ],
   "source": [
    "# Chi-Square Test\n",
    "# Null hypothesis H0: There is no association between class_of_admission and case_status\n",
    "# Alternate hypothesis H1: There is association between class_of_admission and case_status\n",
    "clas=pd.crosstab(d.case_status,d.class_of_admission)\n",
    "stat, p, dof, expected=chi2_contingency(clas)\n",
    "p    \n",
    "# Since p value < alpha (0.05) ,we reject the null hypothesis"
   ]
  },
  {
   "cell_type": "markdown",
   "metadata": {},
   "source": [
    "Visa categories are further divided into sub-categories. So we can use the parent Category in order to generalize it. \n",
    "\n",
    "https://www.bankbazaar.com/visa/types-of-us-visa.html\n",
    "\n",
    "https://uk.usembassy.gov/visas/visa-directory/\n",
    "\n",
    "https://travel.state.gov/content/travel/en/us-visas/visa-information-resources/all-visa-categories.html"
   ]
  },
  {
   "cell_type": "code",
   "execution_count": 46,
   "metadata": {},
   "outputs": [],
   "source": [
    "d.class_of_admission.replace('J-1','J',inplace=True)\n",
    "d.class_of_admission.replace('J-2','J',inplace=True)\n",
    "d.class_of_admission.replace('B-2','B',inplace=True)\n",
    "d.class_of_admission.replace('B-1','B',inplace=True)\n",
    "d.class_of_admission.replace('H-2B','H-1B',inplace=True)\n",
    "d.class_of_admission.replace('H-2A','H-1B',inplace=True)\n",
    "d.class_of_admission.replace('H-1A','H-1B',inplace=True)\n",
    "d.class_of_admission.replace('H-1B1','H-1B',inplace=True)\n",
    "d.class_of_admission.replace('H-3','H-1B',inplace=True)\n",
    "d.class_of_admission.replace('H-4','H-1B',inplace=True)\n",
    "d.class_of_admission.replace('H-1C','H-1B',inplace=True)\n",
    "d.class_of_admission.replace('H1B','H-1B',inplace=True)\n",
    "d.class_of_admission.replace('L-1','L',inplace=True)\n",
    "d.class_of_admission.replace('L-2','L',inplace=True)\n",
    "d.class_of_admission.replace('Parol','Parole',inplace=True)\n",
    "d.class_of_admission.replace('Parolee','Parole',inplace=True)\n",
    "d.class_of_admission.replace('E-1','E',inplace=True)\n",
    "d.class_of_admission.replace('E-2','E',inplace=True)\n",
    "d.class_of_admission.replace('E-3','E',inplace=True)\n",
    "d.class_of_admission.replace('F-1','F',inplace=True)\n",
    "d.class_of_admission.replace('F-2','F',inplace=True)\n",
    "d.class_of_admission.replace('G-1','G',inplace=True)\n",
    "d.class_of_admission.replace('G-4','G',inplace=True)\n",
    "d.class_of_admission.replace('G-5','G',inplace=True)\n",
    "d.class_of_admission.replace('M-1','M',inplace=True)\n",
    "d.class_of_admission.replace('M-2','M',inplace=True)\n",
    "d.class_of_admission.replace('O-1','O',inplace=True)\n",
    "d.class_of_admission.replace('O-2','O',inplace=True)\n",
    "d.class_of_admission.replace('O-3','O',inplace=True)\n",
    "d.class_of_admission.replace('P-1','P',inplace=True)\n",
    "d.class_of_admission.replace('P-2','P',inplace=True)\n",
    "d.class_of_admission.replace('P-3','P',inplace=True)\n",
    "d.class_of_admission.replace('P-4','P',inplace=True)\n",
    "d.class_of_admission.replace('R-1','R',inplace=True)\n",
    "d.class_of_admission.replace('R-2','R',inplace=True)\n",
    "d.class_of_admission.replace('C-1','C',inplace=True)\n",
    "d.class_of_admission.replace('C-2','C',inplace=True)\n",
    "d.class_of_admission.replace('C-3','C',inplace=True)\n",
    "d.class_of_admission.replace('A1/A2','A',inplace=True)\n",
    "d.class_of_admission.replace('A-2','A',inplace=True)\n",
    "d.class_of_admission.replace('A-3','P',inplace=True)\n",
    "d.class_of_admission.replace('AOS/H-1B','AOS',inplace=True)\n",
    "\n",
    "## Creating a new level for missing values(5%)\n",
    "d.class_of_admission.replace('Not in USA','Unavailable',inplace=True)\n",
    "d.class_of_admission.replace(np.nan,'Unavailable',inplace=True)"
   ]
  },
  {
   "cell_type": "code",
   "execution_count": 47,
   "metadata": {},
   "outputs": [
    {
     "data": {
      "text/plain": [
       "array(['J', 'B', 'H-1B', 'L', 'EWI', 'E', 'Unavailable', 'TPS', 'F', 'C',\n",
       "       'TN', 'O', 'R', 'Q', 'Parole', 'G', 'VWT', 'P', 'A', 'D-1', 'I',\n",
       "       'VWB', 'AOS', 'N', 'T-1', 'TD', 'M', 'K-1', 'U-1', 'V-2'],\n",
       "      dtype=object)"
      ]
     },
     "execution_count": 47,
     "metadata": {},
     "output_type": "execute_result"
    }
   ],
   "source": [
    "d.class_of_admission.unique()"
   ]
  },
  {
   "cell_type": "code",
   "execution_count": 48,
   "metadata": {},
   "outputs": [
    {
     "data": {
      "text/plain": [
       "application_type                  95089\n",
       "employer_num_employees           135349\n",
       "employer_state                       42\n",
       "foreign_worker_info_education    135308\n",
       "foreign_worker_info_major        151662\n",
       "job_experience                   135281\n",
       "job_title                        135313\n",
       "job_training                     135284\n",
       "pv_unit_of_pay_9089                9630\n",
       "level                             27095\n",
       "sector                           236559\n",
       "wage_offer                       114771\n",
       "wage_unit_of_pay                 115689\n",
       "dtype: int64"
      ]
     },
     "execution_count": 48,
     "metadata": {},
     "output_type": "execute_result"
    }
   ],
   "source": [
    "(d.isnull().sum()[d.isnull().sum()/d.shape[0]>0])"
   ]
  },
  {
   "cell_type": "code",
   "execution_count": 49,
   "metadata": {},
   "outputs": [
    {
     "data": {
      "text/plain": [
       "0.6536880482021294"
      ]
     },
     "execution_count": 49,
     "metadata": {},
     "output_type": "execute_result"
    }
   ],
   "source": [
    "239006/d.shape[0]\n",
    "# 65.3% rows have same pv_unit_of_pay and wage_unit_of_pay"
   ]
  },
  {
   "cell_type": "code",
   "execution_count": 50,
   "metadata": {},
   "outputs": [
    {
     "data": {
      "text/plain": [
       "array(['Year', 'Hour', nan, 'Bi-Weekly', 'Month', 'Week'], dtype=object)"
      ]
     },
     "execution_count": 50,
     "metadata": {},
     "output_type": "execute_result"
    }
   ],
   "source": [
    "d.pv_unit_of_pay_9089.unique()"
   ]
  },
  {
   "cell_type": "code",
   "execution_count": 51,
   "metadata": {},
   "outputs": [],
   "source": [
    "d.pv_unit_of_pay_9089.fillna('Year',inplace=True)"
   ]
  },
  {
   "cell_type": "markdown",
   "metadata": {},
   "source": [
    "________________________________________________________________\n",
    "### According the work permit in US , an average person works for 8 hours a day and 5 days in a week.\n",
    "#### Considering this, we can convert the unit of pay on a yearly basis so that all values of pv_unit_of_pay are same.\n",
    "#### We will now convert the units: \n",
    "1. No. of working days in a year are approximately around 250 (~ = 365-(52*2))\n",
    "2. https://www.opm.gov/policy-data-oversight/pay-leave/pay-administration/fact-sheets/computing-hourly-rates-of-pay-using-the-2087-hour-divisor/\n",
    "3. \n",
    "Hourly and biweekly rates of pay for most Federal civilian employees are computed as required by 5 U.S.C. 5504(b). \n",
    "\n",
    "Hourly and Bi-weekly conversion - https://www.law.cornell.edu/uscode/text/5/5504"
   ]
  },
  {
   "cell_type": "code",
   "execution_count": 52,
   "metadata": {},
   "outputs": [],
   "source": [
    "for unit in d.pv_unit_of_pay_9089.unique():\n",
    "    if unit == \"Hour\":\n",
    "        d.loc[d['pv_unit_of_pay_9089'] == unit, 'previous_salary'] = d['previous_salary'].apply(lambda x: float(x) * 8 * 250)\n",
    "        d.loc[d['pv_unit_of_pay_9089'] == unit, 'pv_unit_of_pay_9089'] = d['pv_unit_of_pay_9089'].replace(to_replace = unit, value = \"Year\") \n",
    "    elif unit == \"Week\":\n",
    "        d.loc[d['pv_unit_of_pay_9089'] == unit, 'previous_salary'] = d['previous_salary'].apply(lambda x: float(x) * 50)\n",
    "        d.loc[d['pv_unit_of_pay_9089'] == unit, 'pv_unit_of_pay_9089'] = d['pv_unit_of_pay_9089'].replace(to_replace = unit, value = \"Year\")\n",
    "    elif unit == \"Month\":\n",
    "        d.loc[d['pv_unit_of_pay_9089'] == unit, 'previous_salary'] = d['previous_salary'].apply(lambda x: float(x) * 12)\n",
    "        d.loc[d['pv_unit_of_pay_9089'] == unit, 'pv_unit_of_pay_9089'] = d['pv_unit_of_pay_9089'].replace(to_replace = unit, value = \"Year\")\n",
    "    elif unit == \"Bi-Weekly\":  \n",
    "        d.loc[d['pv_unit_of_pay_9089'] == unit, 'previous_salary'] = d['previous_salary'].apply(lambda x: float(x) * 40)\n",
    "        d.loc[d['pv_unit_of_pay_9089'] == unit, 'pv_unit_of_pay_9089'] = d['pv_unit_of_pay_9089'].replace(to_replace = unit, value = \"Year\")\n",
    "    \n",
    "    else:\n",
    "        continue\n",
    " \n",
    "d['previous_salary'] = d.previous_salary.astype(float)\n"
   ]
  },
  {
   "cell_type": "code",
   "execution_count": 53,
   "metadata": {},
   "outputs": [
    {
     "data": {
      "image/png": "[encoded data removed]",
      "text/plain": [
       "<Figure size 432x288 with 1 Axes>"
      ]
     },
     "metadata": {
      "needs_background": "light"
     },
     "output_type": "display_data"
    }
   ],
   "source": [
    "sns.boxplot(d.previous_salary)\n",
    "plt.show()"
   ]
  },
  {
   "cell_type": "code",
   "execution_count": 54,
   "metadata": {},
   "outputs": [],
   "source": [
    "d.wage_offer.fillna(d.previous_salary,inplace=True)"
   ]
  },
  {
   "cell_type": "code",
   "execution_count": 55,
   "metadata": {},
   "outputs": [
    {
     "data": {
      "text/plain": [
       "agent_state                           0\n",
       "application_type                  95089\n",
       "case_status                           0\n",
       "class_of_admission                    0\n",
       "country_of_citizenship                0\n",
       "employer_num_employees           135349\n",
       "employer_yr_estab                     0\n",
       "employer_city                         0\n",
       "employer_name                         0\n",
       "employer_state                       42\n",
       "foreign_worker_info_education    135308\n",
       "foreign_worker_info_major        151662\n",
       "job_experience                   135281\n",
       "job_title                        135313\n",
       "job_training                     135284\n",
       "job_work_state                        0\n",
       "pv_unit_of_pay_9089                   0\n",
       "previous_salary                       0\n",
       "level                             27095\n",
       "source_name                           0\n",
       "sector                           236559\n",
       "wage_offer                            0\n",
       "wage_unit_of_pay                 115689\n",
       "case_received_date_year               0\n",
       "decision_date_year                    0\n",
       "dtype: int64"
      ]
     },
     "execution_count": 55,
     "metadata": {},
     "output_type": "execute_result"
    }
   ],
   "source": [
    "d.isnull().sum()"
   ]
  },
  {
   "cell_type": "code",
   "execution_count": 56,
   "metadata": {},
   "outputs": [
    {
     "data": {
      "text/plain": [
       "dtype('float64')"
      ]
     },
     "execution_count": 56,
     "metadata": {},
     "output_type": "execute_result"
    }
   ],
   "source": [
    "np.dtype(d.previous_salary)"
   ]
  },
  {
   "cell_type": "code",
   "execution_count": 57,
   "metadata": {
    "scrolled": true
   },
   "outputs": [
    {
     "data": {
      "text/plain": [
       "86501.0"
      ]
     },
     "execution_count": 57,
     "metadata": {},
     "output_type": "execute_result"
    }
   ],
   "source": [
    "d.previous_salary.median()\n"
   ]
  },
  {
   "cell_type": "code",
   "execution_count": 58,
   "metadata": {},
   "outputs": [
    {
     "data": {
      "text/html": [
       "<div>\n",
       "<style scoped>\n",
       "    .dataframe tbody tr th:only-of-type {\n",
       "        vertical-align: middle;\n",
       "    }\n",
       "\n",
       "    .dataframe tbody tr th {\n",
       "        vertical-align: top;\n",
       "    }\n",
       "\n",
       "    .dataframe thead th {\n",
       "        text-align: right;\n",
       "    }\n",
       "</style>\n",
       "<table border=\"1\" class=\"dataframe\">\n",
       "  <thead>\n",
       "    <tr style=\"text-align: right;\">\n",
       "      <th></th>\n",
       "      <th>agent_state</th>\n",
       "      <th>application_type</th>\n",
       "      <th>case_status</th>\n",
       "      <th>class_of_admission</th>\n",
       "      <th>country_of_citizenship</th>\n",
       "      <th>employer_num_employees</th>\n",
       "      <th>employer_yr_estab</th>\n",
       "      <th>employer_city</th>\n",
       "      <th>employer_name</th>\n",
       "      <th>employer_state</th>\n",
       "      <th>...</th>\n",
       "      <th>job_work_state</th>\n",
       "      <th>pv_unit_of_pay_9089</th>\n",
       "      <th>previous_salary</th>\n",
       "      <th>level</th>\n",
       "      <th>source_name</th>\n",
       "      <th>sector</th>\n",
       "      <th>wage_offer</th>\n",
       "      <th>wage_unit_of_pay</th>\n",
       "      <th>case_received_date_year</th>\n",
       "      <th>decision_date_year</th>\n",
       "    </tr>\n",
       "  </thead>\n",
       "  <tbody>\n",
       "    <tr>\n",
       "      <th>202865</th>\n",
       "      <td>West</td>\n",
       "      <td>ONLINE</td>\n",
       "      <td>Certified</td>\n",
       "      <td>H-1B</td>\n",
       "      <td>INDIA</td>\n",
       "      <td>596.0</td>\n",
       "      <td>New</td>\n",
       "      <td>Jersey City</td>\n",
       "      <td>Brillio, LLC</td>\n",
       "      <td>NEW JERSEY</td>\n",
       "      <td>...</td>\n",
       "      <td>NEW JERSEY</td>\n",
       "      <td>Year</td>\n",
       "      <td>108763.0</td>\n",
       "      <td>Level III</td>\n",
       "      <td>OES</td>\n",
       "      <td>NaN</td>\n",
       "      <td>#############</td>\n",
       "      <td>Year</td>\n",
       "      <td>2015</td>\n",
       "      <td>2015</td>\n",
       "    </tr>\n",
       "    <tr>\n",
       "      <th>209472</th>\n",
       "      <td>Northeast</td>\n",
       "      <td>ONLINE</td>\n",
       "      <td>Withdrawn</td>\n",
       "      <td>E</td>\n",
       "      <td>AUSTRALIA</td>\n",
       "      <td>55.0</td>\n",
       "      <td>Old</td>\n",
       "      <td>Tuxedo Park</td>\n",
       "      <td>Live Technology Holdings, Inc.</td>\n",
       "      <td>NEW YORK</td>\n",
       "      <td>...</td>\n",
       "      <td>NEVADA</td>\n",
       "      <td>Year</td>\n",
       "      <td>7036600.0</td>\n",
       "      <td>Level II</td>\n",
       "      <td>OES</td>\n",
       "      <td>NaN</td>\n",
       "      <td>#############</td>\n",
       "      <td>Year</td>\n",
       "      <td>2015</td>\n",
       "      <td>2015</td>\n",
       "    </tr>\n",
       "  </tbody>\n",
       "</table>\n",
       "<p>2 rows × 25 columns</p>\n",
       "</div>"
      ],
      "text/plain": [
       "       agent_state application_type case_status class_of_admission  \\\n",
       "202865        West           ONLINE   Certified               H-1B   \n",
       "209472   Northeast           ONLINE   Withdrawn                  E   \n",
       "\n",
       "       country_of_citizenship  employer_num_employees employer_yr_estab  \\\n",
       "202865                  INDIA                   596.0               New   \n",
       "209472              AUSTRALIA                    55.0               Old   \n",
       "\n",
       "       employer_city                   employer_name employer_state  ...  \\\n",
       "202865   Jersey City                    Brillio, LLC     NEW JERSEY  ...   \n",
       "209472   Tuxedo Park  Live Technology Holdings, Inc.       NEW YORK  ...   \n",
       "\n",
       "       job_work_state pv_unit_of_pay_9089 previous_salary      level  \\\n",
       "202865     NEW JERSEY                Year        108763.0  Level III   \n",
       "209472         NEVADA                Year       7036600.0   Level II   \n",
       "\n",
       "       source_name sector     wage_offer  wage_unit_of_pay  \\\n",
       "202865         OES    NaN  #############              Year   \n",
       "209472         OES    NaN  #############              Year   \n",
       "\n",
       "       case_received_date_year decision_date_year  \n",
       "202865                    2015               2015  \n",
       "209472                    2015               2015  \n",
       "\n",
       "[2 rows x 25 columns]"
      ]
     },
     "execution_count": 58,
     "metadata": {},
     "output_type": "execute_result"
    }
   ],
   "source": [
    "d[d.wage_offer==\"#############\"]"
   ]
  },
  {
   "cell_type": "code",
   "execution_count": 59,
   "metadata": {},
   "outputs": [],
   "source": [
    "d.wage_offer.replace(\"#############\",90000,inplace=True)   #90000 is the median of this column"
   ]
  },
  {
   "cell_type": "code",
   "execution_count": 60,
   "metadata": {},
   "outputs": [
    {
     "name": "stderr",
     "output_type": "stream",
     "text": [
      "C:\\Users\\hp\\Anaconda3\\lib\\site-packages\\pandas\\core\\ops.py:1649: FutureWarning: elementwise comparison failed; returning scalar instead, but in the future will perform elementwise comparison\n",
      "  result = method(y)\n"
     ]
    },
    {
     "data": {
      "text/plain": [
       "Series([], Name: wage_offer, dtype: float64)"
      ]
     },
     "execution_count": 60,
     "metadata": {},
     "output_type": "execute_result"
    }
   ],
   "source": [
    "d[\"wage_offer\"][d[\"wage_offer\"]==\"#############\"]"
   ]
  },
  {
   "cell_type": "markdown",
   "metadata": {},
   "source": [
    "### The columns previous_salary and wage_offer is the same for more than 95% of the rows. \n",
    "#### They are providing the same information. Thus ,we will make a new column which is their mean and drop the original columns after extracting information from them."
   ]
  },
  {
   "cell_type": "code",
   "execution_count": 61,
   "metadata": {},
   "outputs": [],
   "source": [
    "d['meansal']=(d.previous_salary+d.wage_offer)/2"
   ]
  },
  {
   "cell_type": "code",
   "execution_count": 62,
   "metadata": {},
   "outputs": [
    {
     "data": {
      "text/html": [
       "<div>\n",
       "<style scoped>\n",
       "    .dataframe tbody tr th:only-of-type {\n",
       "        vertical-align: middle;\n",
       "    }\n",
       "\n",
       "    .dataframe tbody tr th {\n",
       "        vertical-align: top;\n",
       "    }\n",
       "\n",
       "    .dataframe thead th {\n",
       "        text-align: right;\n",
       "    }\n",
       "</style>\n",
       "<table border=\"1\" class=\"dataframe\">\n",
       "  <thead>\n",
       "    <tr style=\"text-align: right;\">\n",
       "      <th></th>\n",
       "      <th>agent_state</th>\n",
       "      <th>application_type</th>\n",
       "      <th>case_status</th>\n",
       "      <th>class_of_admission</th>\n",
       "      <th>country_of_citizenship</th>\n",
       "      <th>employer_num_employees</th>\n",
       "      <th>employer_yr_estab</th>\n",
       "      <th>employer_city</th>\n",
       "      <th>employer_name</th>\n",
       "      <th>employer_state</th>\n",
       "      <th>...</th>\n",
       "      <th>job_training</th>\n",
       "      <th>job_work_state</th>\n",
       "      <th>pv_unit_of_pay_9089</th>\n",
       "      <th>level</th>\n",
       "      <th>source_name</th>\n",
       "      <th>sector</th>\n",
       "      <th>wage_unit_of_pay</th>\n",
       "      <th>case_received_date_year</th>\n",
       "      <th>decision_date_year</th>\n",
       "      <th>meansal</th>\n",
       "    </tr>\n",
       "  </thead>\n",
       "  <tbody>\n",
       "    <tr>\n",
       "      <th>0</th>\n",
       "      <td>West</td>\n",
       "      <td>PERM</td>\n",
       "      <td>Certified</td>\n",
       "      <td>J</td>\n",
       "      <td>ARMENIA</td>\n",
       "      <td>NaN</td>\n",
       "      <td>New</td>\n",
       "      <td>NEW YORK</td>\n",
       "      <td>NETSOFT USA INC.</td>\n",
       "      <td>NY</td>\n",
       "      <td>...</td>\n",
       "      <td>NaN</td>\n",
       "      <td>NY</td>\n",
       "      <td>Year</td>\n",
       "      <td>Level II</td>\n",
       "      <td>OES</td>\n",
       "      <td>IT</td>\n",
       "      <td>Year</td>\n",
       "      <td>2007</td>\n",
       "      <td>2012</td>\n",
       "      <td>75629.000</td>\n",
       "    </tr>\n",
       "    <tr>\n",
       "      <th>1</th>\n",
       "      <td>West</td>\n",
       "      <td>PERM</td>\n",
       "      <td>Denied</td>\n",
       "      <td>B</td>\n",
       "      <td>POLAND</td>\n",
       "      <td>NaN</td>\n",
       "      <td>New</td>\n",
       "      <td>CARLSTADT</td>\n",
       "      <td>PINNACLE ENVIRONEMNTAL CORP</td>\n",
       "      <td>NY</td>\n",
       "      <td>...</td>\n",
       "      <td>NaN</td>\n",
       "      <td>NY</td>\n",
       "      <td>Year</td>\n",
       "      <td>Level I</td>\n",
       "      <td>OES</td>\n",
       "      <td>Other Economic Sector</td>\n",
       "      <td>Year</td>\n",
       "      <td>2007</td>\n",
       "      <td>2011</td>\n",
       "      <td>37024.000</td>\n",
       "    </tr>\n",
       "    <tr>\n",
       "      <th>2</th>\n",
       "      <td>West</td>\n",
       "      <td>PERM</td>\n",
       "      <td>Certified</td>\n",
       "      <td>H-1B</td>\n",
       "      <td>INDIA</td>\n",
       "      <td>NaN</td>\n",
       "      <td>New</td>\n",
       "      <td>GLEN ALLEN</td>\n",
       "      <td>SCHNABEL ENGINEERING, INC.</td>\n",
       "      <td>VA</td>\n",
       "      <td>...</td>\n",
       "      <td>NaN</td>\n",
       "      <td>MD</td>\n",
       "      <td>Year</td>\n",
       "      <td>Level I</td>\n",
       "      <td>OES</td>\n",
       "      <td>Aerospace</td>\n",
       "      <td>Year</td>\n",
       "      <td>2007</td>\n",
       "      <td>2011</td>\n",
       "      <td>47923.000</td>\n",
       "    </tr>\n",
       "    <tr>\n",
       "      <th>3</th>\n",
       "      <td>West</td>\n",
       "      <td>PERM</td>\n",
       "      <td>Certified</td>\n",
       "      <td>B</td>\n",
       "      <td>SOUTH KOREA</td>\n",
       "      <td>NaN</td>\n",
       "      <td>New</td>\n",
       "      <td>FLUSHING</td>\n",
       "      <td>EBENEZER MISSION CHURCH</td>\n",
       "      <td>NY</td>\n",
       "      <td>...</td>\n",
       "      <td>NaN</td>\n",
       "      <td>NY</td>\n",
       "      <td>Year</td>\n",
       "      <td>Level II</td>\n",
       "      <td>OES</td>\n",
       "      <td>Other Economic Sector</td>\n",
       "      <td>Hour</td>\n",
       "      <td>2007</td>\n",
       "      <td>2011</td>\n",
       "      <td>10975.485</td>\n",
       "    </tr>\n",
       "    <tr>\n",
       "      <th>4</th>\n",
       "      <td>West</td>\n",
       "      <td>PERM</td>\n",
       "      <td>Certified</td>\n",
       "      <td>L</td>\n",
       "      <td>CANADA</td>\n",
       "      <td>NaN</td>\n",
       "      <td>New</td>\n",
       "      <td>ALBANY</td>\n",
       "      <td>ALBANY INTERNATIONAL CORP.</td>\n",
       "      <td>NY</td>\n",
       "      <td>...</td>\n",
       "      <td>NaN</td>\n",
       "      <td>NY</td>\n",
       "      <td>Year</td>\n",
       "      <td>Level IV</td>\n",
       "      <td>OES</td>\n",
       "      <td>Advanced Mfg</td>\n",
       "      <td>Year</td>\n",
       "      <td>2007</td>\n",
       "      <td>2012</td>\n",
       "      <td>97445.000</td>\n",
       "    </tr>\n",
       "  </tbody>\n",
       "</table>\n",
       "<p>5 rows × 24 columns</p>\n",
       "</div>"
      ],
      "text/plain": [
       "  agent_state application_type case_status class_of_admission  \\\n",
       "0        West             PERM   Certified                  J   \n",
       "1        West             PERM      Denied                  B   \n",
       "2        West             PERM   Certified               H-1B   \n",
       "3        West             PERM   Certified                  B   \n",
       "4        West             PERM   Certified                  L   \n",
       "\n",
       "  country_of_citizenship  employer_num_employees employer_yr_estab  \\\n",
       "0                ARMENIA                     NaN               New   \n",
       "1                 POLAND                     NaN               New   \n",
       "2                  INDIA                     NaN               New   \n",
       "3            SOUTH KOREA                     NaN               New   \n",
       "4                 CANADA                     NaN               New   \n",
       "\n",
       "  employer_city                employer_name employer_state  ... job_training  \\\n",
       "0      NEW YORK             NETSOFT USA INC.             NY  ...          NaN   \n",
       "1     CARLSTADT  PINNACLE ENVIRONEMNTAL CORP             NY  ...          NaN   \n",
       "2    GLEN ALLEN   SCHNABEL ENGINEERING, INC.             VA  ...          NaN   \n",
       "3      FLUSHING      EBENEZER MISSION CHURCH             NY  ...          NaN   \n",
       "4        ALBANY   ALBANY INTERNATIONAL CORP.             NY  ...          NaN   \n",
       "\n",
       "  job_work_state pv_unit_of_pay_9089     level source_name  \\\n",
       "0             NY                Year  Level II         OES   \n",
       "1             NY                Year   Level I         OES   \n",
       "2             MD                Year   Level I         OES   \n",
       "3             NY                Year  Level II         OES   \n",
       "4             NY                Year  Level IV         OES   \n",
       "\n",
       "                  sector wage_unit_of_pay case_received_date_year  \\\n",
       "0                     IT             Year                    2007   \n",
       "1  Other Economic Sector             Year                    2007   \n",
       "2              Aerospace             Year                    2007   \n",
       "3  Other Economic Sector             Hour                    2007   \n",
       "4           Advanced Mfg             Year                    2007   \n",
       "\n",
       "  decision_date_year    meansal  \n",
       "0               2012  75629.000  \n",
       "1               2011  37024.000  \n",
       "2               2011  47923.000  \n",
       "3               2011  10975.485  \n",
       "4               2012  97445.000  \n",
       "\n",
       "[5 rows x 24 columns]"
      ]
     },
     "execution_count": 62,
     "metadata": {},
     "output_type": "execute_result"
    }
   ],
   "source": [
    "d.drop(['previous_salary','wage_offer'],axis=1,inplace=True)\n",
    "d.head()"
   ]
  },
  {
   "cell_type": "code",
   "execution_count": 63,
   "metadata": {},
   "outputs": [
    {
     "data": {
      "text/plain": [
       "count    3.656270e+05\n",
       "mean     6.356744e+05\n",
       "std      9.289730e+06\n",
       "min      6.345000e+00\n",
       "25%      7.038700e+04\n",
       "50%      8.850650e+04\n",
       "75%      1.079109e+05\n",
       "max      4.957480e+08\n",
       "Name: meansal, dtype: float64"
      ]
     },
     "execution_count": 63,
     "metadata": {},
     "output_type": "execute_result"
    }
   ],
   "source": [
    "#Visualizing the outliers\n",
    "d.meansal.describe()"
   ]
  },
  {
   "cell_type": "code",
   "execution_count": 64,
   "metadata": {},
   "outputs": [
    {
     "data": {
      "text/plain": [
       "37523.9"
      ]
     },
     "execution_count": 64,
     "metadata": {},
     "output_type": "execute_result"
    }
   ],
   "source": [
    "q1=70387\n",
    "q3=107910.9\n",
    "iqr=round(q3-q1,2)\n",
    "iqr"
   ]
  },
  {
   "cell_type": "code",
   "execution_count": 65,
   "metadata": {},
   "outputs": [
    {
     "data": {
      "text/html": [
       "<div>\n",
       "<style scoped>\n",
       "    .dataframe tbody tr th:only-of-type {\n",
       "        vertical-align: middle;\n",
       "    }\n",
       "\n",
       "    .dataframe tbody tr th {\n",
       "        vertical-align: top;\n",
       "    }\n",
       "\n",
       "    .dataframe thead th {\n",
       "        text-align: right;\n",
       "    }\n",
       "</style>\n",
       "<table border=\"1\" class=\"dataframe\">\n",
       "  <thead>\n",
       "    <tr style=\"text-align: right;\">\n",
       "      <th></th>\n",
       "      <th>agent_state</th>\n",
       "      <th>application_type</th>\n",
       "      <th>case_status</th>\n",
       "      <th>class_of_admission</th>\n",
       "      <th>country_of_citizenship</th>\n",
       "      <th>employer_num_employees</th>\n",
       "      <th>employer_yr_estab</th>\n",
       "      <th>employer_city</th>\n",
       "      <th>employer_name</th>\n",
       "      <th>employer_state</th>\n",
       "      <th>...</th>\n",
       "      <th>job_training</th>\n",
       "      <th>job_work_state</th>\n",
       "      <th>pv_unit_of_pay_9089</th>\n",
       "      <th>level</th>\n",
       "      <th>source_name</th>\n",
       "      <th>sector</th>\n",
       "      <th>wage_unit_of_pay</th>\n",
       "      <th>case_received_date_year</th>\n",
       "      <th>decision_date_year</th>\n",
       "      <th>meansal</th>\n",
       "    </tr>\n",
       "  </thead>\n",
       "  <tbody>\n",
       "    <tr>\n",
       "      <th>3</th>\n",
       "      <td>West</td>\n",
       "      <td>PERM</td>\n",
       "      <td>Certified</td>\n",
       "      <td>B</td>\n",
       "      <td>SOUTH KOREA</td>\n",
       "      <td>NaN</td>\n",
       "      <td>New</td>\n",
       "      <td>FLUSHING</td>\n",
       "      <td>EBENEZER MISSION CHURCH</td>\n",
       "      <td>NY</td>\n",
       "      <td>...</td>\n",
       "      <td>NaN</td>\n",
       "      <td>NY</td>\n",
       "      <td>Year</td>\n",
       "      <td>Level II</td>\n",
       "      <td>OES</td>\n",
       "      <td>Other Economic Sector</td>\n",
       "      <td>Hour</td>\n",
       "      <td>2007</td>\n",
       "      <td>2011</td>\n",
       "      <td>10975.485</td>\n",
       "    </tr>\n",
       "    <tr>\n",
       "      <th>9</th>\n",
       "      <td>West</td>\n",
       "      <td>PERM</td>\n",
       "      <td>Denied</td>\n",
       "      <td>E</td>\n",
       "      <td>PAKISTAN</td>\n",
       "      <td>NaN</td>\n",
       "      <td>New</td>\n",
       "      <td>BROOKLYN</td>\n",
       "      <td>AMER BROTHERS INTERNATIONAL, INC.</td>\n",
       "      <td>NY</td>\n",
       "      <td>...</td>\n",
       "      <td>NaN</td>\n",
       "      <td>NY</td>\n",
       "      <td>Year</td>\n",
       "      <td>Level I</td>\n",
       "      <td>OES</td>\n",
       "      <td>Retail</td>\n",
       "      <td>Hour</td>\n",
       "      <td>2008</td>\n",
       "      <td>2012</td>\n",
       "      <td>12866.430</td>\n",
       "    </tr>\n",
       "    <tr>\n",
       "      <th>17</th>\n",
       "      <td>West</td>\n",
       "      <td>PERM</td>\n",
       "      <td>Certified</td>\n",
       "      <td>Unavailable</td>\n",
       "      <td>CANADA</td>\n",
       "      <td>NaN</td>\n",
       "      <td>New</td>\n",
       "      <td>JACKSON HEIGHTS</td>\n",
       "      <td>V.H.C. USA INCD/B/A VITAMIN HOMEOPTAHY CENTER</td>\n",
       "      <td>NY</td>\n",
       "      <td>...</td>\n",
       "      <td>NaN</td>\n",
       "      <td>NY</td>\n",
       "      <td>Year</td>\n",
       "      <td>Level III</td>\n",
       "      <td>OES</td>\n",
       "      <td>Retail</td>\n",
       "      <td>Hour</td>\n",
       "      <td>2008</td>\n",
       "      <td>2012</td>\n",
       "      <td>12066.250</td>\n",
       "    </tr>\n",
       "    <tr>\n",
       "      <th>18</th>\n",
       "      <td>West</td>\n",
       "      <td>PERM</td>\n",
       "      <td>Denied</td>\n",
       "      <td>EWI</td>\n",
       "      <td>MEXICO</td>\n",
       "      <td>NaN</td>\n",
       "      <td>New</td>\n",
       "      <td>LODI</td>\n",
       "      <td>VITAMIA PASTA BOY, INC</td>\n",
       "      <td>NJ</td>\n",
       "      <td>...</td>\n",
       "      <td>NaN</td>\n",
       "      <td>NJ</td>\n",
       "      <td>Year</td>\n",
       "      <td>Level II</td>\n",
       "      <td>OES</td>\n",
       "      <td>Hospitality</td>\n",
       "      <td>Hour</td>\n",
       "      <td>2008</td>\n",
       "      <td>2011</td>\n",
       "      <td>10375.185</td>\n",
       "    </tr>\n",
       "    <tr>\n",
       "      <th>19</th>\n",
       "      <td>West</td>\n",
       "      <td>PERM</td>\n",
       "      <td>Certified</td>\n",
       "      <td>Unavailable</td>\n",
       "      <td>POLAND</td>\n",
       "      <td>NaN</td>\n",
       "      <td>New</td>\n",
       "      <td>EAST HAZEL CREST</td>\n",
       "      <td>REFIX TRUCK &amp; TRAILER REPAIR</td>\n",
       "      <td>IL</td>\n",
       "      <td>...</td>\n",
       "      <td>NaN</td>\n",
       "      <td>IL</td>\n",
       "      <td>Year</td>\n",
       "      <td>Level I</td>\n",
       "      <td>OES</td>\n",
       "      <td>Automotive</td>\n",
       "      <td>Hour</td>\n",
       "      <td>2008</td>\n",
       "      <td>2011</td>\n",
       "      <td>10836.000</td>\n",
       "    </tr>\n",
       "    <tr>\n",
       "      <th>27</th>\n",
       "      <td>West</td>\n",
       "      <td>PERM</td>\n",
       "      <td>Denied</td>\n",
       "      <td>EWI</td>\n",
       "      <td>MEXICO</td>\n",
       "      <td>NaN</td>\n",
       "      <td>New</td>\n",
       "      <td>BROOKLYN</td>\n",
       "      <td>L.A. BURRITO,  INC</td>\n",
       "      <td>NY</td>\n",
       "      <td>...</td>\n",
       "      <td>NaN</td>\n",
       "      <td>NY</td>\n",
       "      <td>Year</td>\n",
       "      <td>Level III</td>\n",
       "      <td>OES</td>\n",
       "      <td>Hospitality</td>\n",
       "      <td>Hour</td>\n",
       "      <td>2008</td>\n",
       "      <td>2011</td>\n",
       "      <td>12906.450</td>\n",
       "    </tr>\n",
       "    <tr>\n",
       "      <th>31</th>\n",
       "      <td>West</td>\n",
       "      <td>PERM</td>\n",
       "      <td>Denied</td>\n",
       "      <td>EWI</td>\n",
       "      <td>MEXICO</td>\n",
       "      <td>NaN</td>\n",
       "      <td>New</td>\n",
       "      <td>STATEN ISLAND</td>\n",
       "      <td>VICTORY PRODUCE,LLC.  DBA TOP TOMATO</td>\n",
       "      <td>NY</td>\n",
       "      <td>...</td>\n",
       "      <td>NaN</td>\n",
       "      <td>NY</td>\n",
       "      <td>Year</td>\n",
       "      <td>Level I</td>\n",
       "      <td>OES</td>\n",
       "      <td>Retail</td>\n",
       "      <td>Hour</td>\n",
       "      <td>2008</td>\n",
       "      <td>2011</td>\n",
       "      <td>12236.115</td>\n",
       "    </tr>\n",
       "    <tr>\n",
       "      <th>35</th>\n",
       "      <td>West</td>\n",
       "      <td>PERM</td>\n",
       "      <td>Denied</td>\n",
       "      <td>EWI</td>\n",
       "      <td>ECUADOR</td>\n",
       "      <td>NaN</td>\n",
       "      <td>New</td>\n",
       "      <td>TUCKAHOE</td>\n",
       "      <td>ANGELINA'S RESTAURANT</td>\n",
       "      <td>NY</td>\n",
       "      <td>...</td>\n",
       "      <td>NaN</td>\n",
       "      <td>NY</td>\n",
       "      <td>Year</td>\n",
       "      <td>Level I</td>\n",
       "      <td>OES</td>\n",
       "      <td>Hospitality</td>\n",
       "      <td>Hour</td>\n",
       "      <td>2008</td>\n",
       "      <td>2012</td>\n",
       "      <td>9504.750</td>\n",
       "    </tr>\n",
       "    <tr>\n",
       "      <th>36</th>\n",
       "      <td>West</td>\n",
       "      <td>PERM</td>\n",
       "      <td>Withdrawn</td>\n",
       "      <td>EWI</td>\n",
       "      <td>EL SALVADOR</td>\n",
       "      <td>NaN</td>\n",
       "      <td>New</td>\n",
       "      <td>ASHLAND</td>\n",
       "      <td>CREATIVE CONSERVATION COMPANY, INC.</td>\n",
       "      <td>VA</td>\n",
       "      <td>...</td>\n",
       "      <td>NaN</td>\n",
       "      <td>VA</td>\n",
       "      <td>Year</td>\n",
       "      <td>Level I</td>\n",
       "      <td>OES</td>\n",
       "      <td>Construction</td>\n",
       "      <td>Hour</td>\n",
       "      <td>2008</td>\n",
       "      <td>2012</td>\n",
       "      <td>10165.080</td>\n",
       "    </tr>\n",
       "    <tr>\n",
       "      <th>39</th>\n",
       "      <td>West</td>\n",
       "      <td>PERM</td>\n",
       "      <td>Denied</td>\n",
       "      <td>EWI</td>\n",
       "      <td>MEXICO</td>\n",
       "      <td>NaN</td>\n",
       "      <td>New</td>\n",
       "      <td>BLOOMFIELD</td>\n",
       "      <td>PROPERTY SERVICES LANDSCAPING, INC</td>\n",
       "      <td>NJ</td>\n",
       "      <td>...</td>\n",
       "      <td>NaN</td>\n",
       "      <td>NY</td>\n",
       "      <td>Year</td>\n",
       "      <td>Level III</td>\n",
       "      <td>OES</td>\n",
       "      <td>Other Economic Sector</td>\n",
       "      <td>Hour</td>\n",
       "      <td>2008</td>\n",
       "      <td>2012</td>\n",
       "      <td>13196.595</td>\n",
       "    </tr>\n",
       "    <tr>\n",
       "      <th>45</th>\n",
       "      <td>West</td>\n",
       "      <td>PERM</td>\n",
       "      <td>Denied</td>\n",
       "      <td>EWI</td>\n",
       "      <td>ECUADOR</td>\n",
       "      <td>NaN</td>\n",
       "      <td>New</td>\n",
       "      <td>FARMINGVILLE</td>\n",
       "      <td>S.M.C CONCRETE</td>\n",
       "      <td>NY</td>\n",
       "      <td>...</td>\n",
       "      <td>NaN</td>\n",
       "      <td>NY</td>\n",
       "      <td>Year</td>\n",
       "      <td>Level I</td>\n",
       "      <td>OES</td>\n",
       "      <td>Construction</td>\n",
       "      <td>Hour</td>\n",
       "      <td>2008</td>\n",
       "      <td>2011</td>\n",
       "      <td>11755.875</td>\n",
       "    </tr>\n",
       "    <tr>\n",
       "      <th>52</th>\n",
       "      <td>West</td>\n",
       "      <td>PERM</td>\n",
       "      <td>Denied</td>\n",
       "      <td>TPS</td>\n",
       "      <td>EL SALVADOR</td>\n",
       "      <td>NaN</td>\n",
       "      <td>New</td>\n",
       "      <td>GREAT NECK</td>\n",
       "      <td>CAFE RUSTICA</td>\n",
       "      <td>NY</td>\n",
       "      <td>...</td>\n",
       "      <td>NaN</td>\n",
       "      <td>NY</td>\n",
       "      <td>Year</td>\n",
       "      <td>Level III</td>\n",
       "      <td>Other</td>\n",
       "      <td>Hospitality</td>\n",
       "      <td>Hour</td>\n",
       "      <td>2008</td>\n",
       "      <td>2012</td>\n",
       "      <td>13426.710</td>\n",
       "    </tr>\n",
       "    <tr>\n",
       "      <th>58</th>\n",
       "      <td>West</td>\n",
       "      <td>PERM</td>\n",
       "      <td>Denied</td>\n",
       "      <td>Unavailable</td>\n",
       "      <td>MEXICO</td>\n",
       "      <td>NaN</td>\n",
       "      <td>New</td>\n",
       "      <td>ELOY</td>\n",
       "      <td>STAMBAUGH FARMS</td>\n",
       "      <td>AZ</td>\n",
       "      <td>...</td>\n",
       "      <td>NaN</td>\n",
       "      <td>AZ</td>\n",
       "      <td>Year</td>\n",
       "      <td>Level I</td>\n",
       "      <td>OES</td>\n",
       "      <td>Agribusiness</td>\n",
       "      <td>Hour</td>\n",
       "      <td>2008</td>\n",
       "      <td>2011</td>\n",
       "      <td>7043.625</td>\n",
       "    </tr>\n",
       "    <tr>\n",
       "      <th>64</th>\n",
       "      <td>West</td>\n",
       "      <td>PERM</td>\n",
       "      <td>Certified</td>\n",
       "      <td>B</td>\n",
       "      <td>EL SALVADOR</td>\n",
       "      <td>NaN</td>\n",
       "      <td>New</td>\n",
       "      <td>AYLETT</td>\n",
       "      <td>VINNY'S ITALIAN GRILL</td>\n",
       "      <td>VA</td>\n",
       "      <td>...</td>\n",
       "      <td>NaN</td>\n",
       "      <td>VA</td>\n",
       "      <td>Year</td>\n",
       "      <td>Level IV</td>\n",
       "      <td>OES</td>\n",
       "      <td>Hospitality</td>\n",
       "      <td>Hour</td>\n",
       "      <td>2007</td>\n",
       "      <td>2012</td>\n",
       "      <td>10705.350</td>\n",
       "    </tr>\n",
       "    <tr>\n",
       "      <th>69</th>\n",
       "      <td>West</td>\n",
       "      <td>PERM</td>\n",
       "      <td>Denied</td>\n",
       "      <td>EWI</td>\n",
       "      <td>MEXICO</td>\n",
       "      <td>NaN</td>\n",
       "      <td>New</td>\n",
       "      <td>NEW YORK</td>\n",
       "      <td>SHERWOOD FINE LTD</td>\n",
       "      <td>NY</td>\n",
       "      <td>...</td>\n",
       "      <td>NaN</td>\n",
       "      <td>NY</td>\n",
       "      <td>Year</td>\n",
       "      <td>Level III</td>\n",
       "      <td>OES</td>\n",
       "      <td>Hospitality</td>\n",
       "      <td>Hour</td>\n",
       "      <td>2007</td>\n",
       "      <td>2012</td>\n",
       "      <td>10415.250</td>\n",
       "    </tr>\n",
       "    <tr>\n",
       "      <th>74</th>\n",
       "      <td>West</td>\n",
       "      <td>PERM</td>\n",
       "      <td>Denied</td>\n",
       "      <td>B</td>\n",
       "      <td>COLOMBIA</td>\n",
       "      <td>NaN</td>\n",
       "      <td>New</td>\n",
       "      <td>NEW YORK</td>\n",
       "      <td>SCOTT JEFFREY COHEN</td>\n",
       "      <td>NY</td>\n",
       "      <td>...</td>\n",
       "      <td>NaN</td>\n",
       "      <td>NY</td>\n",
       "      <td>Year</td>\n",
       "      <td>Level II</td>\n",
       "      <td>Other</td>\n",
       "      <td>Other Economic Sector</td>\n",
       "      <td>Hour</td>\n",
       "      <td>2008</td>\n",
       "      <td>2012</td>\n",
       "      <td>12266.200</td>\n",
       "    </tr>\n",
       "    <tr>\n",
       "      <th>77</th>\n",
       "      <td>West</td>\n",
       "      <td>PERM</td>\n",
       "      <td>Denied</td>\n",
       "      <td>Unavailable</td>\n",
       "      <td>MEXICO</td>\n",
       "      <td>NaN</td>\n",
       "      <td>New</td>\n",
       "      <td>DOUGLAS</td>\n",
       "      <td>COFFEE AUTO &amp; RADIATOR</td>\n",
       "      <td>GA</td>\n",
       "      <td>...</td>\n",
       "      <td>NaN</td>\n",
       "      <td>GA</td>\n",
       "      <td>Year</td>\n",
       "      <td>Level II</td>\n",
       "      <td>OES</td>\n",
       "      <td>Automotive</td>\n",
       "      <td>Hour</td>\n",
       "      <td>2008</td>\n",
       "      <td>2011</td>\n",
       "      <td>11026.500</td>\n",
       "    </tr>\n",
       "    <tr>\n",
       "      <th>78</th>\n",
       "      <td>West</td>\n",
       "      <td>PERM</td>\n",
       "      <td>Certified</td>\n",
       "      <td>EWI</td>\n",
       "      <td>MEXICO</td>\n",
       "      <td>NaN</td>\n",
       "      <td>New</td>\n",
       "      <td>PINETOP</td>\n",
       "      <td>MARTINEZ MANAGEMENT, INC.</td>\n",
       "      <td>AZ</td>\n",
       "      <td>...</td>\n",
       "      <td>NaN</td>\n",
       "      <td>AZ</td>\n",
       "      <td>Year</td>\n",
       "      <td>Level I</td>\n",
       "      <td>OES</td>\n",
       "      <td>Hospitality</td>\n",
       "      <td>Hour</td>\n",
       "      <td>2008</td>\n",
       "      <td>2011</td>\n",
       "      <td>8925.250</td>\n",
       "    </tr>\n",
       "    <tr>\n",
       "      <th>93</th>\n",
       "      <td>West</td>\n",
       "      <td>PERM</td>\n",
       "      <td>Denied</td>\n",
       "      <td>EWI</td>\n",
       "      <td>GUATEMALA</td>\n",
       "      <td>NaN</td>\n",
       "      <td>New</td>\n",
       "      <td>SPARTA</td>\n",
       "      <td>FRANK'S PIZZA AT SPARTA, INC.</td>\n",
       "      <td>NJ</td>\n",
       "      <td>...</td>\n",
       "      <td>NaN</td>\n",
       "      <td>NJ</td>\n",
       "      <td>Year</td>\n",
       "      <td>Level III</td>\n",
       "      <td>OES</td>\n",
       "      <td>Hospitality</td>\n",
       "      <td>Hour</td>\n",
       "      <td>2008</td>\n",
       "      <td>2011</td>\n",
       "      <td>11825.910</td>\n",
       "    </tr>\n",
       "    <tr>\n",
       "      <th>96</th>\n",
       "      <td>West</td>\n",
       "      <td>PERM</td>\n",
       "      <td>Denied</td>\n",
       "      <td>Unavailable</td>\n",
       "      <td>JAPAN</td>\n",
       "      <td>NaN</td>\n",
       "      <td>New</td>\n",
       "      <td>SAVANNAH</td>\n",
       "      <td>YOSHIMITO, INC. DBA SUSHI-ZEN JAPANESE RESTAURANT</td>\n",
       "      <td>GA</td>\n",
       "      <td>...</td>\n",
       "      <td>NaN</td>\n",
       "      <td>GA</td>\n",
       "      <td>Year</td>\n",
       "      <td>Level IV</td>\n",
       "      <td>OES</td>\n",
       "      <td>Hospitality</td>\n",
       "      <td>Hour</td>\n",
       "      <td>2008</td>\n",
       "      <td>2012</td>\n",
       "      <td>10315.250</td>\n",
       "    </tr>\n",
       "    <tr>\n",
       "      <th>101</th>\n",
       "      <td>West</td>\n",
       "      <td>PERM</td>\n",
       "      <td>Denied</td>\n",
       "      <td>Unavailable</td>\n",
       "      <td>SOUTH KOREA</td>\n",
       "      <td>NaN</td>\n",
       "      <td>New</td>\n",
       "      <td>HARMANS</td>\n",
       "      <td>JR SEPTIC SERVICES, INC.</td>\n",
       "      <td>MD</td>\n",
       "      <td>...</td>\n",
       "      <td>NaN</td>\n",
       "      <td>MD</td>\n",
       "      <td>Year</td>\n",
       "      <td>Level I</td>\n",
       "      <td>OES</td>\n",
       "      <td>Construction</td>\n",
       "      <td>Hour</td>\n",
       "      <td>2008</td>\n",
       "      <td>2012</td>\n",
       "      <td>10425.500</td>\n",
       "    </tr>\n",
       "    <tr>\n",
       "      <th>122</th>\n",
       "      <td>West</td>\n",
       "      <td>PERM</td>\n",
       "      <td>Denied</td>\n",
       "      <td>Unavailable</td>\n",
       "      <td>MEXICO</td>\n",
       "      <td>NaN</td>\n",
       "      <td>New</td>\n",
       "      <td>DOUGLAS</td>\n",
       "      <td>VERTREES STEEL FABRICATION, INC.</td>\n",
       "      <td>AZ</td>\n",
       "      <td>...</td>\n",
       "      <td>NaN</td>\n",
       "      <td>AZ</td>\n",
       "      <td>Year</td>\n",
       "      <td>Level I</td>\n",
       "      <td>OES</td>\n",
       "      <td>Advanced Mfg</td>\n",
       "      <td>Hour</td>\n",
       "      <td>2009</td>\n",
       "      <td>2011</td>\n",
       "      <td>11735.875</td>\n",
       "    </tr>\n",
       "    <tr>\n",
       "      <th>131</th>\n",
       "      <td>West</td>\n",
       "      <td>PERM</td>\n",
       "      <td>Denied</td>\n",
       "      <td>Unavailable</td>\n",
       "      <td>POLAND</td>\n",
       "      <td>NaN</td>\n",
       "      <td>New</td>\n",
       "      <td>STAMFORD</td>\n",
       "      <td>CENTURY CONSTRUCTION INC</td>\n",
       "      <td>CT</td>\n",
       "      <td>...</td>\n",
       "      <td>NaN</td>\n",
       "      <td>CT</td>\n",
       "      <td>Year</td>\n",
       "      <td>Level II</td>\n",
       "      <td>OES</td>\n",
       "      <td>Construction</td>\n",
       "      <td>Hour</td>\n",
       "      <td>2009</td>\n",
       "      <td>2012</td>\n",
       "      <td>13536.765</td>\n",
       "    </tr>\n",
       "    <tr>\n",
       "      <th>136</th>\n",
       "      <td>West</td>\n",
       "      <td>PERM</td>\n",
       "      <td>Denied</td>\n",
       "      <td>B</td>\n",
       "      <td>PHILIPPINES</td>\n",
       "      <td>NaN</td>\n",
       "      <td>New</td>\n",
       "      <td>UNION CITY</td>\n",
       "      <td>ZENAIDA M. CARPIO</td>\n",
       "      <td>CA</td>\n",
       "      <td>...</td>\n",
       "      <td>NaN</td>\n",
       "      <td>CA</td>\n",
       "      <td>Year</td>\n",
       "      <td>Level I</td>\n",
       "      <td>OES</td>\n",
       "      <td>Other Economic Sector</td>\n",
       "      <td>Hour</td>\n",
       "      <td>2009</td>\n",
       "      <td>2011</td>\n",
       "      <td>9404.700</td>\n",
       "    </tr>\n",
       "    <tr>\n",
       "      <th>142</th>\n",
       "      <td>West</td>\n",
       "      <td>PERM</td>\n",
       "      <td>Denied</td>\n",
       "      <td>Unavailable</td>\n",
       "      <td>MEXICO</td>\n",
       "      <td>NaN</td>\n",
       "      <td>New</td>\n",
       "      <td>NEW YORK</td>\n",
       "      <td>MINOR BIRD INC.</td>\n",
       "      <td>NY</td>\n",
       "      <td>...</td>\n",
       "      <td>NaN</td>\n",
       "      <td>NY</td>\n",
       "      <td>Year</td>\n",
       "      <td>Level III</td>\n",
       "      <td>OES</td>\n",
       "      <td>Hospitality</td>\n",
       "      <td>Hour</td>\n",
       "      <td>2009</td>\n",
       "      <td>2011</td>\n",
       "      <td>13596.795</td>\n",
       "    </tr>\n",
       "    <tr>\n",
       "      <th>179</th>\n",
       "      <td>West</td>\n",
       "      <td>PERM</td>\n",
       "      <td>Denied</td>\n",
       "      <td>B</td>\n",
       "      <td>TRINIDAD AND TOBAGO</td>\n",
       "      <td>NaN</td>\n",
       "      <td>New</td>\n",
       "      <td>WOODMERE</td>\n",
       "      <td>RANDI GEFEN</td>\n",
       "      <td>NY</td>\n",
       "      <td>...</td>\n",
       "      <td>NaN</td>\n",
       "      <td>NY</td>\n",
       "      <td>Year</td>\n",
       "      <td>Level III</td>\n",
       "      <td>Other</td>\n",
       "      <td>NaN</td>\n",
       "      <td>Hour</td>\n",
       "      <td>2009</td>\n",
       "      <td>2011</td>\n",
       "      <td>13096.545</td>\n",
       "    </tr>\n",
       "    <tr>\n",
       "      <th>195</th>\n",
       "      <td>West</td>\n",
       "      <td>PERM</td>\n",
       "      <td>Withdrawn</td>\n",
       "      <td>F</td>\n",
       "      <td>POLAND</td>\n",
       "      <td>NaN</td>\n",
       "      <td>New</td>\n",
       "      <td>WESTON</td>\n",
       "      <td>JOANNE JAFFIN MASON - DOUGLAS W. MASON</td>\n",
       "      <td>CT</td>\n",
       "      <td>...</td>\n",
       "      <td>NaN</td>\n",
       "      <td>CT</td>\n",
       "      <td>Year</td>\n",
       "      <td>Level IV</td>\n",
       "      <td>OES</td>\n",
       "      <td>Other Economic Sector</td>\n",
       "      <td>Hour</td>\n",
       "      <td>2009</td>\n",
       "      <td>2011</td>\n",
       "      <td>12046.020</td>\n",
       "    </tr>\n",
       "    <tr>\n",
       "      <th>199</th>\n",
       "      <td>West</td>\n",
       "      <td>PERM</td>\n",
       "      <td>Denied</td>\n",
       "      <td>H-1B</td>\n",
       "      <td>ARGENTINA</td>\n",
       "      <td>NaN</td>\n",
       "      <td>New</td>\n",
       "      <td>ANNAPOLIS</td>\n",
       "      <td>UNITED STATES NAVAL ACADEMY</td>\n",
       "      <td>MD</td>\n",
       "      <td>...</td>\n",
       "      <td>NaN</td>\n",
       "      <td>MD</td>\n",
       "      <td>Year</td>\n",
       "      <td>Level IV</td>\n",
       "      <td>OES</td>\n",
       "      <td>Educational Services</td>\n",
       "      <td>Year</td>\n",
       "      <td>2009</td>\n",
       "      <td>2011</td>\n",
       "      <td>7385700.000</td>\n",
       "    </tr>\n",
       "    <tr>\n",
       "      <th>200</th>\n",
       "      <td>West</td>\n",
       "      <td>PERM</td>\n",
       "      <td>Denied</td>\n",
       "      <td>EWI</td>\n",
       "      <td>ECUADOR</td>\n",
       "      <td>NaN</td>\n",
       "      <td>New</td>\n",
       "      <td>ELMHURST</td>\n",
       "      <td>XIOTIS REST. CORP.</td>\n",
       "      <td>NY</td>\n",
       "      <td>...</td>\n",
       "      <td>NaN</td>\n",
       "      <td>NY</td>\n",
       "      <td>Year</td>\n",
       "      <td>Level III</td>\n",
       "      <td>Other</td>\n",
       "      <td>Hospitality</td>\n",
       "      <td>Hour</td>\n",
       "      <td>2009</td>\n",
       "      <td>2012</td>\n",
       "      <td>13597.420</td>\n",
       "    </tr>\n",
       "    <tr>\n",
       "      <th>205</th>\n",
       "      <td>West</td>\n",
       "      <td>PERM</td>\n",
       "      <td>Withdrawn</td>\n",
       "      <td>B</td>\n",
       "      <td>PHILIPPINES</td>\n",
       "      <td>NaN</td>\n",
       "      <td>New</td>\n",
       "      <td>PORTLAND</td>\n",
       "      <td>MARION HAYDEN</td>\n",
       "      <td>OR</td>\n",
       "      <td>...</td>\n",
       "      <td>NaN</td>\n",
       "      <td>CA</td>\n",
       "      <td>Year</td>\n",
       "      <td>Level I</td>\n",
       "      <td>OES</td>\n",
       "      <td>Other Economic Sector</td>\n",
       "      <td>Hour</td>\n",
       "      <td>2009</td>\n",
       "      <td>2011</td>\n",
       "      <td>8424.210</td>\n",
       "    </tr>\n",
       "    <tr>\n",
       "      <th>...</th>\n",
       "      <td>...</td>\n",
       "      <td>...</td>\n",
       "      <td>...</td>\n",
       "      <td>...</td>\n",
       "      <td>...</td>\n",
       "      <td>...</td>\n",
       "      <td>...</td>\n",
       "      <td>...</td>\n",
       "      <td>...</td>\n",
       "      <td>...</td>\n",
       "      <td>...</td>\n",
       "      <td>...</td>\n",
       "      <td>...</td>\n",
       "      <td>...</td>\n",
       "      <td>...</td>\n",
       "      <td>...</td>\n",
       "      <td>...</td>\n",
       "      <td>...</td>\n",
       "      <td>...</td>\n",
       "      <td>...</td>\n",
       "      <td>...</td>\n",
       "    </tr>\n",
       "    <tr>\n",
       "      <th>373870</th>\n",
       "      <td>Midwest</td>\n",
       "      <td>NaN</td>\n",
       "      <td>Certified</td>\n",
       "      <td>H-1B</td>\n",
       "      <td>UNITED KINGDOM</td>\n",
       "      <td>575.0</td>\n",
       "      <td>Ancient</td>\n",
       "      <td>MIAMI</td>\n",
       "      <td>CRISPIN PORTER + BOGUSKY LLC</td>\n",
       "      <td>FL</td>\n",
       "      <td>...</td>\n",
       "      <td>N</td>\n",
       "      <td>CO</td>\n",
       "      <td>Year</td>\n",
       "      <td>Level IV</td>\n",
       "      <td>OES</td>\n",
       "      <td>NaN</td>\n",
       "      <td>Year</td>\n",
       "      <td>2016</td>\n",
       "      <td>2016</td>\n",
       "      <td>182262.500</td>\n",
       "    </tr>\n",
       "    <tr>\n",
       "      <th>373874</th>\n",
       "      <td>South</td>\n",
       "      <td>NaN</td>\n",
       "      <td>Certified</td>\n",
       "      <td>Unavailable</td>\n",
       "      <td>VIETNAM</td>\n",
       "      <td>9000.0</td>\n",
       "      <td>Old</td>\n",
       "      <td>OAKWOOD</td>\n",
       "      <td>WAYNE FARMS LLC</td>\n",
       "      <td>GA</td>\n",
       "      <td>...</td>\n",
       "      <td>N</td>\n",
       "      <td>NC</td>\n",
       "      <td>Year</td>\n",
       "      <td>Level I</td>\n",
       "      <td>OES</td>\n",
       "      <td>NaN</td>\n",
       "      <td>Hour</td>\n",
       "      <td>2016</td>\n",
       "      <td>2016</td>\n",
       "      <td>10.370</td>\n",
       "    </tr>\n",
       "    <tr>\n",
       "      <th>373915</th>\n",
       "      <td>West</td>\n",
       "      <td>NaN</td>\n",
       "      <td>Certified</td>\n",
       "      <td>Unavailable</td>\n",
       "      <td>VIETNAM</td>\n",
       "      <td>564.0</td>\n",
       "      <td>Old</td>\n",
       "      <td>WAVERLY</td>\n",
       "      <td>TECUMSEH POULTRY LLC</td>\n",
       "      <td>NE</td>\n",
       "      <td>...</td>\n",
       "      <td>N</td>\n",
       "      <td>NE</td>\n",
       "      <td>Year</td>\n",
       "      <td>Level I</td>\n",
       "      <td>OES</td>\n",
       "      <td>NaN</td>\n",
       "      <td>Hour</td>\n",
       "      <td>2016</td>\n",
       "      <td>2016</td>\n",
       "      <td>11.530</td>\n",
       "    </tr>\n",
       "    <tr>\n",
       "      <th>373916</th>\n",
       "      <td>Midwest</td>\n",
       "      <td>NaN</td>\n",
       "      <td>Certified</td>\n",
       "      <td>E</td>\n",
       "      <td>SPAIN</td>\n",
       "      <td>6.0</td>\n",
       "      <td>Ancient</td>\n",
       "      <td>Woodcliff Lake</td>\n",
       "      <td>UNGRIA INTERNATIONAL, INC.</td>\n",
       "      <td>NJ</td>\n",
       "      <td>...</td>\n",
       "      <td>N</td>\n",
       "      <td>NJ</td>\n",
       "      <td>Year</td>\n",
       "      <td>Level III</td>\n",
       "      <td>OES</td>\n",
       "      <td>NaN</td>\n",
       "      <td>Year</td>\n",
       "      <td>2016</td>\n",
       "      <td>2016</td>\n",
       "      <td>187200.000</td>\n",
       "    </tr>\n",
       "    <tr>\n",
       "      <th>373934</th>\n",
       "      <td>West</td>\n",
       "      <td>NaN</td>\n",
       "      <td>Certified</td>\n",
       "      <td>H-1B</td>\n",
       "      <td>HAITI</td>\n",
       "      <td>27.0</td>\n",
       "      <td>New</td>\n",
       "      <td>Macon</td>\n",
       "      <td>Cogent Healthcare of Macon LLC dba Quantum HC</td>\n",
       "      <td>GA</td>\n",
       "      <td>...</td>\n",
       "      <td>Y</td>\n",
       "      <td>GA</td>\n",
       "      <td>Year</td>\n",
       "      <td>Level I</td>\n",
       "      <td>OES</td>\n",
       "      <td>NaN</td>\n",
       "      <td>Hour</td>\n",
       "      <td>2016</td>\n",
       "      <td>2016</td>\n",
       "      <td>95.000</td>\n",
       "    </tr>\n",
       "    <tr>\n",
       "      <th>373945</th>\n",
       "      <td>South</td>\n",
       "      <td>NaN</td>\n",
       "      <td>Certified</td>\n",
       "      <td>B</td>\n",
       "      <td>SOUTH KOREA</td>\n",
       "      <td>9000.0</td>\n",
       "      <td>Old</td>\n",
       "      <td>OAKWOOD</td>\n",
       "      <td>WAYNE FARMS LLC</td>\n",
       "      <td>GA</td>\n",
       "      <td>...</td>\n",
       "      <td>N</td>\n",
       "      <td>NC</td>\n",
       "      <td>Year</td>\n",
       "      <td>Level I</td>\n",
       "      <td>OES</td>\n",
       "      <td>NaN</td>\n",
       "      <td>Hour</td>\n",
       "      <td>2016</td>\n",
       "      <td>2016</td>\n",
       "      <td>10.370</td>\n",
       "    </tr>\n",
       "    <tr>\n",
       "      <th>373960</th>\n",
       "      <td>South</td>\n",
       "      <td>NaN</td>\n",
       "      <td>Certified</td>\n",
       "      <td>Unavailable</td>\n",
       "      <td>VIETNAM</td>\n",
       "      <td>9000.0</td>\n",
       "      <td>Old</td>\n",
       "      <td>OAKWOOD</td>\n",
       "      <td>WAYNE FARMS LLC</td>\n",
       "      <td>GA</td>\n",
       "      <td>...</td>\n",
       "      <td>N</td>\n",
       "      <td>NC</td>\n",
       "      <td>Year</td>\n",
       "      <td>Level I</td>\n",
       "      <td>OES</td>\n",
       "      <td>NaN</td>\n",
       "      <td>Hour</td>\n",
       "      <td>2016</td>\n",
       "      <td>2016</td>\n",
       "      <td>10.370</td>\n",
       "    </tr>\n",
       "    <tr>\n",
       "      <th>373970</th>\n",
       "      <td>South</td>\n",
       "      <td>NaN</td>\n",
       "      <td>Certified</td>\n",
       "      <td>Unavailable</td>\n",
       "      <td>VIETNAM</td>\n",
       "      <td>9000.0</td>\n",
       "      <td>Old</td>\n",
       "      <td>OAKWOOD</td>\n",
       "      <td>WAYNE FARMS LLC</td>\n",
       "      <td>GA</td>\n",
       "      <td>...</td>\n",
       "      <td>N</td>\n",
       "      <td>NC</td>\n",
       "      <td>Year</td>\n",
       "      <td>Level I</td>\n",
       "      <td>OES</td>\n",
       "      <td>NaN</td>\n",
       "      <td>Hour</td>\n",
       "      <td>2016</td>\n",
       "      <td>2016</td>\n",
       "      <td>10.370</td>\n",
       "    </tr>\n",
       "    <tr>\n",
       "      <th>373984</th>\n",
       "      <td>Northeast</td>\n",
       "      <td>NaN</td>\n",
       "      <td>Certified</td>\n",
       "      <td>H-1B</td>\n",
       "      <td>SOUTH KOREA</td>\n",
       "      <td>900.0</td>\n",
       "      <td>Ancient</td>\n",
       "      <td>New York</td>\n",
       "      <td>Pillsbury Winthrop Shaw Pittman LLP</td>\n",
       "      <td>NY</td>\n",
       "      <td>...</td>\n",
       "      <td>N</td>\n",
       "      <td>NY</td>\n",
       "      <td>Year</td>\n",
       "      <td>Level II</td>\n",
       "      <td>OES</td>\n",
       "      <td>NaN</td>\n",
       "      <td>Year</td>\n",
       "      <td>2016</td>\n",
       "      <td>2016</td>\n",
       "      <td>179276.000</td>\n",
       "    </tr>\n",
       "    <tr>\n",
       "      <th>374009</th>\n",
       "      <td>South</td>\n",
       "      <td>NaN</td>\n",
       "      <td>Certified</td>\n",
       "      <td>Unavailable</td>\n",
       "      <td>VIETNAM</td>\n",
       "      <td>110.0</td>\n",
       "      <td>Old</td>\n",
       "      <td>SAIPAN</td>\n",
       "      <td>SAIPAN LAULAU DEVELOPMENT, INC.</td>\n",
       "      <td>MP</td>\n",
       "      <td>...</td>\n",
       "      <td>N</td>\n",
       "      <td>MP</td>\n",
       "      <td>Year</td>\n",
       "      <td>NaN</td>\n",
       "      <td>Other</td>\n",
       "      <td>NaN</td>\n",
       "      <td>Hour</td>\n",
       "      <td>2016</td>\n",
       "      <td>2016</td>\n",
       "      <td>6.390</td>\n",
       "    </tr>\n",
       "    <tr>\n",
       "      <th>374012</th>\n",
       "      <td>Midwest</td>\n",
       "      <td>NaN</td>\n",
       "      <td>Certified</td>\n",
       "      <td>J</td>\n",
       "      <td>SYRIA</td>\n",
       "      <td>171.0</td>\n",
       "      <td>Old</td>\n",
       "      <td>SALINA</td>\n",
       "      <td>CENTRAL CARE, PA</td>\n",
       "      <td>KS</td>\n",
       "      <td>...</td>\n",
       "      <td>Y</td>\n",
       "      <td>KS</td>\n",
       "      <td>Year</td>\n",
       "      <td>Level II</td>\n",
       "      <td>OES</td>\n",
       "      <td>NaN</td>\n",
       "      <td>Year</td>\n",
       "      <td>2016</td>\n",
       "      <td>2016</td>\n",
       "      <td>250391.000</td>\n",
       "    </tr>\n",
       "    <tr>\n",
       "      <th>374016</th>\n",
       "      <td>South</td>\n",
       "      <td>NaN</td>\n",
       "      <td>Certified</td>\n",
       "      <td>F</td>\n",
       "      <td>SOUTH KOREA</td>\n",
       "      <td>110.0</td>\n",
       "      <td>Old</td>\n",
       "      <td>SAIPAN</td>\n",
       "      <td>SAIPAN LAULAU DEVELOPMENT, INC.</td>\n",
       "      <td>MP</td>\n",
       "      <td>...</td>\n",
       "      <td>N</td>\n",
       "      <td>MP</td>\n",
       "      <td>Year</td>\n",
       "      <td>NaN</td>\n",
       "      <td>Other</td>\n",
       "      <td>NaN</td>\n",
       "      <td>Hour</td>\n",
       "      <td>2016</td>\n",
       "      <td>2016</td>\n",
       "      <td>6.390</td>\n",
       "    </tr>\n",
       "    <tr>\n",
       "      <th>374021</th>\n",
       "      <td>South</td>\n",
       "      <td>NaN</td>\n",
       "      <td>Certified</td>\n",
       "      <td>L</td>\n",
       "      <td>CANADA</td>\n",
       "      <td>2700.0</td>\n",
       "      <td>Ancient</td>\n",
       "      <td>HOUSTON</td>\n",
       "      <td>APACHE CORPORATION</td>\n",
       "      <td>TX</td>\n",
       "      <td>...</td>\n",
       "      <td>N</td>\n",
       "      <td>TX</td>\n",
       "      <td>Year</td>\n",
       "      <td>Level III</td>\n",
       "      <td>OES</td>\n",
       "      <td>NaN</td>\n",
       "      <td>Year</td>\n",
       "      <td>2016</td>\n",
       "      <td>2016</td>\n",
       "      <td>168293.000</td>\n",
       "    </tr>\n",
       "    <tr>\n",
       "      <th>374028</th>\n",
       "      <td>West</td>\n",
       "      <td>NaN</td>\n",
       "      <td>Certified</td>\n",
       "      <td>Unavailable</td>\n",
       "      <td>CHINA</td>\n",
       "      <td>4407.0</td>\n",
       "      <td>New</td>\n",
       "      <td>SAN ANTONIO</td>\n",
       "      <td>MUY HAMBURGER PARTNERS, LLC</td>\n",
       "      <td>TX</td>\n",
       "      <td>...</td>\n",
       "      <td>N</td>\n",
       "      <td>NY</td>\n",
       "      <td>Year</td>\n",
       "      <td>Level I</td>\n",
       "      <td>OES</td>\n",
       "      <td>NaN</td>\n",
       "      <td>Hour</td>\n",
       "      <td>2016</td>\n",
       "      <td>2016</td>\n",
       "      <td>9021.875</td>\n",
       "    </tr>\n",
       "    <tr>\n",
       "      <th>374029</th>\n",
       "      <td>South</td>\n",
       "      <td>NaN</td>\n",
       "      <td>Certified</td>\n",
       "      <td>H-1B</td>\n",
       "      <td>SOUTH AFRICA</td>\n",
       "      <td>6000.0</td>\n",
       "      <td>Ancient</td>\n",
       "      <td>DAYTONA BEACH</td>\n",
       "      <td>EMBRY-RIDDLE AERONAUTICAL UNIVERSITY</td>\n",
       "      <td>FL</td>\n",
       "      <td>...</td>\n",
       "      <td>N</td>\n",
       "      <td>FL</td>\n",
       "      <td>Year</td>\n",
       "      <td>Level I</td>\n",
       "      <td>CBA</td>\n",
       "      <td>NaN</td>\n",
       "      <td>Hour</td>\n",
       "      <td>2016</td>\n",
       "      <td>2016</td>\n",
       "      <td>28.230</td>\n",
       "    </tr>\n",
       "    <tr>\n",
       "      <th>374049</th>\n",
       "      <td>South</td>\n",
       "      <td>NaN</td>\n",
       "      <td>Certified</td>\n",
       "      <td>H-1B</td>\n",
       "      <td>INDIA</td>\n",
       "      <td>77.0</td>\n",
       "      <td>New</td>\n",
       "      <td>SCOTTSDALE</td>\n",
       "      <td>APOGEE MEDICAL GROUP, NORTH CAROLINA, PC</td>\n",
       "      <td>AZ</td>\n",
       "      <td>...</td>\n",
       "      <td>Y</td>\n",
       "      <td>NC</td>\n",
       "      <td>Year</td>\n",
       "      <td>Level I</td>\n",
       "      <td>OES</td>\n",
       "      <td>NaN</td>\n",
       "      <td>Year</td>\n",
       "      <td>2016</td>\n",
       "      <td>2016</td>\n",
       "      <td>226100.000</td>\n",
       "    </tr>\n",
       "    <tr>\n",
       "      <th>374063</th>\n",
       "      <td>South</td>\n",
       "      <td>NaN</td>\n",
       "      <td>Certified</td>\n",
       "      <td>H-1B</td>\n",
       "      <td>LIBERIA</td>\n",
       "      <td>2988.0</td>\n",
       "      <td>Ancient</td>\n",
       "      <td>Quincy</td>\n",
       "      <td>Blessing Corporate Services, Inc.</td>\n",
       "      <td>IL</td>\n",
       "      <td>...</td>\n",
       "      <td>N</td>\n",
       "      <td>IL</td>\n",
       "      <td>Year</td>\n",
       "      <td>Level II</td>\n",
       "      <td>OES</td>\n",
       "      <td>NaN</td>\n",
       "      <td>Year</td>\n",
       "      <td>2016</td>\n",
       "      <td>2016</td>\n",
       "      <td>306100.000</td>\n",
       "    </tr>\n",
       "    <tr>\n",
       "      <th>374065</th>\n",
       "      <td>West</td>\n",
       "      <td>NaN</td>\n",
       "      <td>Certified</td>\n",
       "      <td>H-1B</td>\n",
       "      <td>UNITED STATES OF AMERICA</td>\n",
       "      <td>90.0</td>\n",
       "      <td>New</td>\n",
       "      <td>Carson City</td>\n",
       "      <td>Santibanez Aguirre PC</td>\n",
       "      <td>NV</td>\n",
       "      <td>...</td>\n",
       "      <td>N</td>\n",
       "      <td>UT</td>\n",
       "      <td>Year</td>\n",
       "      <td>Level I</td>\n",
       "      <td>OES</td>\n",
       "      <td>NaN</td>\n",
       "      <td>Year</td>\n",
       "      <td>2016</td>\n",
       "      <td>2016</td>\n",
       "      <td>171755.000</td>\n",
       "    </tr>\n",
       "    <tr>\n",
       "      <th>374070</th>\n",
       "      <td>West</td>\n",
       "      <td>NaN</td>\n",
       "      <td>Certified</td>\n",
       "      <td>Unavailable</td>\n",
       "      <td>CHINA</td>\n",
       "      <td>4407.0</td>\n",
       "      <td>New</td>\n",
       "      <td>SAN ANTONIO</td>\n",
       "      <td>MUY HAMBURGER PARTNERS, LLC</td>\n",
       "      <td>TX</td>\n",
       "      <td>...</td>\n",
       "      <td>N</td>\n",
       "      <td>NY</td>\n",
       "      <td>Year</td>\n",
       "      <td>Level I</td>\n",
       "      <td>OES</td>\n",
       "      <td>NaN</td>\n",
       "      <td>Hour</td>\n",
       "      <td>2016</td>\n",
       "      <td>2016</td>\n",
       "      <td>9021.875</td>\n",
       "    </tr>\n",
       "    <tr>\n",
       "      <th>374073</th>\n",
       "      <td>South</td>\n",
       "      <td>NaN</td>\n",
       "      <td>Certified</td>\n",
       "      <td>H-1B</td>\n",
       "      <td>CANADA</td>\n",
       "      <td>61814.0</td>\n",
       "      <td>Old</td>\n",
       "      <td>MOUNTAIN VIEW</td>\n",
       "      <td>GOOGLE INC.</td>\n",
       "      <td>CA</td>\n",
       "      <td>...</td>\n",
       "      <td>N</td>\n",
       "      <td>CA</td>\n",
       "      <td>Year</td>\n",
       "      <td>Level III</td>\n",
       "      <td>OES</td>\n",
       "      <td>NaN</td>\n",
       "      <td>Year</td>\n",
       "      <td>2016</td>\n",
       "      <td>2016</td>\n",
       "      <td>169712.500</td>\n",
       "    </tr>\n",
       "    <tr>\n",
       "      <th>374090</th>\n",
       "      <td>West</td>\n",
       "      <td>NaN</td>\n",
       "      <td>Certified</td>\n",
       "      <td>H-1B</td>\n",
       "      <td>INDIA</td>\n",
       "      <td>92600.0</td>\n",
       "      <td>Ancient</td>\n",
       "      <td>CUPERTINO</td>\n",
       "      <td>APPLE INC.</td>\n",
       "      <td>CA</td>\n",
       "      <td>...</td>\n",
       "      <td>N</td>\n",
       "      <td>CA</td>\n",
       "      <td>Year</td>\n",
       "      <td>Level IV</td>\n",
       "      <td>OES</td>\n",
       "      <td>NaN</td>\n",
       "      <td>Year</td>\n",
       "      <td>2016</td>\n",
       "      <td>2016</td>\n",
       "      <td>172191.000</td>\n",
       "    </tr>\n",
       "    <tr>\n",
       "      <th>374093</th>\n",
       "      <td>South</td>\n",
       "      <td>NaN</td>\n",
       "      <td>Certified</td>\n",
       "      <td>Unavailable</td>\n",
       "      <td>CAMBODIA</td>\n",
       "      <td>2700.0</td>\n",
       "      <td>Ancient</td>\n",
       "      <td>TROUTMAN</td>\n",
       "      <td>CASE FARMS PROCESSING INC.</td>\n",
       "      <td>NC</td>\n",
       "      <td>...</td>\n",
       "      <td>N</td>\n",
       "      <td>NC</td>\n",
       "      <td>Year</td>\n",
       "      <td>Level I</td>\n",
       "      <td>OES</td>\n",
       "      <td>NaN</td>\n",
       "      <td>Hour</td>\n",
       "      <td>2016</td>\n",
       "      <td>2016</td>\n",
       "      <td>9.555</td>\n",
       "    </tr>\n",
       "    <tr>\n",
       "      <th>374094</th>\n",
       "      <td>Midwest</td>\n",
       "      <td>NaN</td>\n",
       "      <td>Certified</td>\n",
       "      <td>E</td>\n",
       "      <td>GERMANY</td>\n",
       "      <td>340.0</td>\n",
       "      <td>Old</td>\n",
       "      <td>SOUTHFIELD</td>\n",
       "      <td>DURR SYSTEMS, INC.</td>\n",
       "      <td>MI</td>\n",
       "      <td>...</td>\n",
       "      <td>N</td>\n",
       "      <td>MI</td>\n",
       "      <td>Year</td>\n",
       "      <td>Level II</td>\n",
       "      <td>OES</td>\n",
       "      <td>NaN</td>\n",
       "      <td>Year</td>\n",
       "      <td>2016</td>\n",
       "      <td>2016</td>\n",
       "      <td>167139.500</td>\n",
       "    </tr>\n",
       "    <tr>\n",
       "      <th>374109</th>\n",
       "      <td>Midwest</td>\n",
       "      <td>NaN</td>\n",
       "      <td>Certified</td>\n",
       "      <td>H-1B</td>\n",
       "      <td>INDIA</td>\n",
       "      <td>61100.0</td>\n",
       "      <td>Ancient</td>\n",
       "      <td>ROCHESTER</td>\n",
       "      <td>MAYO CLINIC</td>\n",
       "      <td>MN</td>\n",
       "      <td>...</td>\n",
       "      <td>N</td>\n",
       "      <td>MN</td>\n",
       "      <td>Year</td>\n",
       "      <td>Level I</td>\n",
       "      <td>OES</td>\n",
       "      <td>NaN</td>\n",
       "      <td>Year</td>\n",
       "      <td>2016</td>\n",
       "      <td>2016</td>\n",
       "      <td>173669.000</td>\n",
       "    </tr>\n",
       "    <tr>\n",
       "      <th>374171</th>\n",
       "      <td>West</td>\n",
       "      <td>NaN</td>\n",
       "      <td>Certified</td>\n",
       "      <td>Unavailable</td>\n",
       "      <td>SOUTH KOREA</td>\n",
       "      <td>4407.0</td>\n",
       "      <td>New</td>\n",
       "      <td>SAN ANTONIO</td>\n",
       "      <td>MUY HAMBURGER PARTNERS, LLC</td>\n",
       "      <td>TX</td>\n",
       "      <td>...</td>\n",
       "      <td>N</td>\n",
       "      <td>TX</td>\n",
       "      <td>Year</td>\n",
       "      <td>Level I</td>\n",
       "      <td>OES</td>\n",
       "      <td>NaN</td>\n",
       "      <td>Hour</td>\n",
       "      <td>2016</td>\n",
       "      <td>2016</td>\n",
       "      <td>8438.555</td>\n",
       "    </tr>\n",
       "    <tr>\n",
       "      <th>374200</th>\n",
       "      <td>West</td>\n",
       "      <td>NaN</td>\n",
       "      <td>Denied</td>\n",
       "      <td>H-1B</td>\n",
       "      <td>CHILE</td>\n",
       "      <td>100.0</td>\n",
       "      <td>Old</td>\n",
       "      <td>LOS ANGELES</td>\n",
       "      <td>PACIFIC TRELLIS FRUITS, INC.</td>\n",
       "      <td>CA</td>\n",
       "      <td>...</td>\n",
       "      <td>N</td>\n",
       "      <td>CA</td>\n",
       "      <td>Year</td>\n",
       "      <td>Level I</td>\n",
       "      <td>OES</td>\n",
       "      <td>NaN</td>\n",
       "      <td>Hour</td>\n",
       "      <td>2016</td>\n",
       "      <td>2016</td>\n",
       "      <td>29.240</td>\n",
       "    </tr>\n",
       "    <tr>\n",
       "      <th>374227</th>\n",
       "      <td>West</td>\n",
       "      <td>NaN</td>\n",
       "      <td>Certified</td>\n",
       "      <td>Unavailable</td>\n",
       "      <td>SOUTH KOREA</td>\n",
       "      <td>930.0</td>\n",
       "      <td>Ancient</td>\n",
       "      <td>BETHLEHEM</td>\n",
       "      <td>HARRISON POULTRY</td>\n",
       "      <td>GA</td>\n",
       "      <td>...</td>\n",
       "      <td>N</td>\n",
       "      <td>GA</td>\n",
       "      <td>Year</td>\n",
       "      <td>Level I</td>\n",
       "      <td>OES</td>\n",
       "      <td>NaN</td>\n",
       "      <td>Hour</td>\n",
       "      <td>2016</td>\n",
       "      <td>2016</td>\n",
       "      <td>8.985</td>\n",
       "    </tr>\n",
       "    <tr>\n",
       "      <th>374243</th>\n",
       "      <td>Northeast</td>\n",
       "      <td>NaN</td>\n",
       "      <td>Certified</td>\n",
       "      <td>Unavailable</td>\n",
       "      <td>SOUTH KOREA</td>\n",
       "      <td>689.0</td>\n",
       "      <td>Old</td>\n",
       "      <td>Hicksville</td>\n",
       "      <td>Home Care Therapies, LLC</td>\n",
       "      <td>NY</td>\n",
       "      <td>...</td>\n",
       "      <td>N</td>\n",
       "      <td>NY</td>\n",
       "      <td>Year</td>\n",
       "      <td>Level I</td>\n",
       "      <td>OES</td>\n",
       "      <td>NaN</td>\n",
       "      <td>Hour</td>\n",
       "      <td>2016</td>\n",
       "      <td>2016</td>\n",
       "      <td>10821.200</td>\n",
       "    </tr>\n",
       "    <tr>\n",
       "      <th>374261</th>\n",
       "      <td>Midwest</td>\n",
       "      <td>NaN</td>\n",
       "      <td>Certified</td>\n",
       "      <td>H-1B</td>\n",
       "      <td>BRAZIL</td>\n",
       "      <td>40000.0</td>\n",
       "      <td>Ancient</td>\n",
       "      <td>CLEVELAND</td>\n",
       "      <td>CLEVELAND CLINIC FOUNDATION</td>\n",
       "      <td>OH</td>\n",
       "      <td>...</td>\n",
       "      <td>N</td>\n",
       "      <td>OH</td>\n",
       "      <td>Year</td>\n",
       "      <td>Level III</td>\n",
       "      <td>OES</td>\n",
       "      <td>NaN</td>\n",
       "      <td>Year</td>\n",
       "      <td>2016</td>\n",
       "      <td>2016</td>\n",
       "      <td>261770.000</td>\n",
       "    </tr>\n",
       "    <tr>\n",
       "      <th>374286</th>\n",
       "      <td>South</td>\n",
       "      <td>NaN</td>\n",
       "      <td>Certified</td>\n",
       "      <td>L</td>\n",
       "      <td>UNITED KINGDOM</td>\n",
       "      <td>53.0</td>\n",
       "      <td>New</td>\n",
       "      <td>Houston</td>\n",
       "      <td>Clarksons Platou Shipping Services USA LLC</td>\n",
       "      <td>TX</td>\n",
       "      <td>...</td>\n",
       "      <td>N</td>\n",
       "      <td>TX</td>\n",
       "      <td>Year</td>\n",
       "      <td>Level IV</td>\n",
       "      <td>OES</td>\n",
       "      <td>NaN</td>\n",
       "      <td>Year</td>\n",
       "      <td>2016</td>\n",
       "      <td>2016</td>\n",
       "      <td>164958.500</td>\n",
       "    </tr>\n",
       "  </tbody>\n",
       "</table>\n",
       "<p>15366 rows × 24 columns</p>\n",
       "</div>"
      ],
      "text/plain": [
       "       agent_state application_type case_status class_of_admission  \\\n",
       "3             West             PERM   Certified                  B   \n",
       "9             West             PERM      Denied                  E   \n",
       "17            West             PERM   Certified        Unavailable   \n",
       "18            West             PERM      Denied                EWI   \n",
       "19            West             PERM   Certified        Unavailable   \n",
       "27            West             PERM      Denied                EWI   \n",
       "31            West             PERM      Denied                EWI   \n",
       "35            West             PERM      Denied                EWI   \n",
       "36            West             PERM   Withdrawn                EWI   \n",
       "39            West             PERM      Denied                EWI   \n",
       "45            West             PERM      Denied                EWI   \n",
       "52            West             PERM      Denied                TPS   \n",
       "58            West             PERM      Denied        Unavailable   \n",
       "64            West             PERM   Certified                  B   \n",
       "69            West             PERM      Denied                EWI   \n",
       "74            West             PERM      Denied                  B   \n",
       "77            West             PERM      Denied        Unavailable   \n",
       "78            West             PERM   Certified                EWI   \n",
       "93            West             PERM      Denied                EWI   \n",
       "96            West             PERM      Denied        Unavailable   \n",
       "101           West             PERM      Denied        Unavailable   \n",
       "122           West             PERM      Denied        Unavailable   \n",
       "131           West             PERM      Denied        Unavailable   \n",
       "136           West             PERM      Denied                  B   \n",
       "142           West             PERM      Denied        Unavailable   \n",
       "179           West             PERM      Denied                  B   \n",
       "195           West             PERM   Withdrawn                  F   \n",
       "199           West             PERM      Denied               H-1B   \n",
       "200           West             PERM      Denied                EWI   \n",
       "205           West             PERM   Withdrawn                  B   \n",
       "...            ...              ...         ...                ...   \n",
       "373870     Midwest              NaN   Certified               H-1B   \n",
       "373874       South              NaN   Certified        Unavailable   \n",
       "373915        West              NaN   Certified        Unavailable   \n",
       "373916     Midwest              NaN   Certified                  E   \n",
       "373934        West              NaN   Certified               H-1B   \n",
       "373945       South              NaN   Certified                  B   \n",
       "373960       South              NaN   Certified        Unavailable   \n",
       "373970       South              NaN   Certified        Unavailable   \n",
       "373984   Northeast              NaN   Certified               H-1B   \n",
       "374009       South              NaN   Certified        Unavailable   \n",
       "374012     Midwest              NaN   Certified                  J   \n",
       "374016       South              NaN   Certified                  F   \n",
       "374021       South              NaN   Certified                  L   \n",
       "374028        West              NaN   Certified        Unavailable   \n",
       "374029       South              NaN   Certified               H-1B   \n",
       "374049       South              NaN   Certified               H-1B   \n",
       "374063       South              NaN   Certified               H-1B   \n",
       "374065        West              NaN   Certified               H-1B   \n",
       "374070        West              NaN   Certified        Unavailable   \n",
       "374073       South              NaN   Certified               H-1B   \n",
       "374090        West              NaN   Certified               H-1B   \n",
       "374093       South              NaN   Certified        Unavailable   \n",
       "374094     Midwest              NaN   Certified                  E   \n",
       "374109     Midwest              NaN   Certified               H-1B   \n",
       "374171        West              NaN   Certified        Unavailable   \n",
       "374200        West              NaN      Denied               H-1B   \n",
       "374227        West              NaN   Certified        Unavailable   \n",
       "374243   Northeast              NaN   Certified        Unavailable   \n",
       "374261     Midwest              NaN   Certified               H-1B   \n",
       "374286       South              NaN   Certified                  L   \n",
       "\n",
       "          country_of_citizenship  employer_num_employees employer_yr_estab  \\\n",
       "3                    SOUTH KOREA                     NaN               New   \n",
       "9                       PAKISTAN                     NaN               New   \n",
       "17                        CANADA                     NaN               New   \n",
       "18                        MEXICO                     NaN               New   \n",
       "19                        POLAND                     NaN               New   \n",
       "27                        MEXICO                     NaN               New   \n",
       "31                        MEXICO                     NaN               New   \n",
       "35                       ECUADOR                     NaN               New   \n",
       "36                   EL SALVADOR                     NaN               New   \n",
       "39                        MEXICO                     NaN               New   \n",
       "45                       ECUADOR                     NaN               New   \n",
       "52                   EL SALVADOR                     NaN               New   \n",
       "58                        MEXICO                     NaN               New   \n",
       "64                   EL SALVADOR                     NaN               New   \n",
       "69                        MEXICO                     NaN               New   \n",
       "74                      COLOMBIA                     NaN               New   \n",
       "77                        MEXICO                     NaN               New   \n",
       "78                        MEXICO                     NaN               New   \n",
       "93                     GUATEMALA                     NaN               New   \n",
       "96                         JAPAN                     NaN               New   \n",
       "101                  SOUTH KOREA                     NaN               New   \n",
       "122                       MEXICO                     NaN               New   \n",
       "131                       POLAND                     NaN               New   \n",
       "136                  PHILIPPINES                     NaN               New   \n",
       "142                       MEXICO                     NaN               New   \n",
       "179          TRINIDAD AND TOBAGO                     NaN               New   \n",
       "195                       POLAND                     NaN               New   \n",
       "199                    ARGENTINA                     NaN               New   \n",
       "200                      ECUADOR                     NaN               New   \n",
       "205                  PHILIPPINES                     NaN               New   \n",
       "...                          ...                     ...               ...   \n",
       "373870            UNITED KINGDOM                   575.0           Ancient   \n",
       "373874                   VIETNAM                  9000.0               Old   \n",
       "373915                   VIETNAM                   564.0               Old   \n",
       "373916                     SPAIN                     6.0           Ancient   \n",
       "373934                     HAITI                    27.0               New   \n",
       "373945               SOUTH KOREA                  9000.0               Old   \n",
       "373960                   VIETNAM                  9000.0               Old   \n",
       "373970                   VIETNAM                  9000.0               Old   \n",
       "373984               SOUTH KOREA                   900.0           Ancient   \n",
       "374009                   VIETNAM                   110.0               Old   \n",
       "374012                     SYRIA                   171.0               Old   \n",
       "374016               SOUTH KOREA                   110.0               Old   \n",
       "374021                    CANADA                  2700.0           Ancient   \n",
       "374028                     CHINA                  4407.0               New   \n",
       "374029              SOUTH AFRICA                  6000.0           Ancient   \n",
       "374049                     INDIA                    77.0               New   \n",
       "374063                   LIBERIA                  2988.0           Ancient   \n",
       "374065  UNITED STATES OF AMERICA                    90.0               New   \n",
       "374070                     CHINA                  4407.0               New   \n",
       "374073                    CANADA                 61814.0               Old   \n",
       "374090                     INDIA                 92600.0           Ancient   \n",
       "374093                  CAMBODIA                  2700.0           Ancient   \n",
       "374094                   GERMANY                   340.0               Old   \n",
       "374109                     INDIA                 61100.0           Ancient   \n",
       "374171               SOUTH KOREA                  4407.0               New   \n",
       "374200                     CHILE                   100.0               Old   \n",
       "374227               SOUTH KOREA                   930.0           Ancient   \n",
       "374243               SOUTH KOREA                   689.0               Old   \n",
       "374261                    BRAZIL                 40000.0           Ancient   \n",
       "374286            UNITED KINGDOM                    53.0               New   \n",
       "\n",
       "           employer_city                                      employer_name  \\\n",
       "3               FLUSHING                            EBENEZER MISSION CHURCH   \n",
       "9               BROOKLYN                  AMER BROTHERS INTERNATIONAL, INC.   \n",
       "17       JACKSON HEIGHTS      V.H.C. USA INCD/B/A VITAMIN HOMEOPTAHY CENTER   \n",
       "18                  LODI                             VITAMIA PASTA BOY, INC   \n",
       "19      EAST HAZEL CREST                       REFIX TRUCK & TRAILER REPAIR   \n",
       "27              BROOKLYN                                 L.A. BURRITO,  INC   \n",
       "31         STATEN ISLAND               VICTORY PRODUCE,LLC.  DBA TOP TOMATO   \n",
       "35              TUCKAHOE                              ANGELINA'S RESTAURANT   \n",
       "36               ASHLAND                CREATIVE CONSERVATION COMPANY, INC.   \n",
       "39            BLOOMFIELD                 PROPERTY SERVICES LANDSCAPING, INC   \n",
       "45          FARMINGVILLE                                     S.M.C CONCRETE   \n",
       "52            GREAT NECK                                       CAFE RUSTICA   \n",
       "58                  ELOY                                    STAMBAUGH FARMS   \n",
       "64                AYLETT                              VINNY'S ITALIAN GRILL   \n",
       "69              NEW YORK                                  SHERWOOD FINE LTD   \n",
       "74              NEW YORK                                SCOTT JEFFREY COHEN   \n",
       "77               DOUGLAS                             COFFEE AUTO & RADIATOR   \n",
       "78               PINETOP                          MARTINEZ MANAGEMENT, INC.   \n",
       "93                SPARTA                      FRANK'S PIZZA AT SPARTA, INC.   \n",
       "96              SAVANNAH  YOSHIMITO, INC. DBA SUSHI-ZEN JAPANESE RESTAURANT   \n",
       "101              HARMANS                           JR SEPTIC SERVICES, INC.   \n",
       "122              DOUGLAS                   VERTREES STEEL FABRICATION, INC.   \n",
       "131             STAMFORD                           CENTURY CONSTRUCTION INC   \n",
       "136           UNION CITY                                  ZENAIDA M. CARPIO   \n",
       "142             NEW YORK                                    MINOR BIRD INC.   \n",
       "179             WOODMERE                                        RANDI GEFEN   \n",
       "195               WESTON             JOANNE JAFFIN MASON - DOUGLAS W. MASON   \n",
       "199            ANNAPOLIS                        UNITED STATES NAVAL ACADEMY   \n",
       "200             ELMHURST                                 XIOTIS REST. CORP.   \n",
       "205             PORTLAND                                      MARION HAYDEN   \n",
       "...                  ...                                                ...   \n",
       "373870             MIAMI                       CRISPIN PORTER + BOGUSKY LLC   \n",
       "373874           OAKWOOD                                    WAYNE FARMS LLC   \n",
       "373915           WAVERLY                               TECUMSEH POULTRY LLC   \n",
       "373916    Woodcliff Lake                         UNGRIA INTERNATIONAL, INC.   \n",
       "373934             Macon      Cogent Healthcare of Macon LLC dba Quantum HC   \n",
       "373945           OAKWOOD                                    WAYNE FARMS LLC   \n",
       "373960           OAKWOOD                                    WAYNE FARMS LLC   \n",
       "373970           OAKWOOD                                    WAYNE FARMS LLC   \n",
       "373984          New York                Pillsbury Winthrop Shaw Pittman LLP   \n",
       "374009            SAIPAN                    SAIPAN LAULAU DEVELOPMENT, INC.   \n",
       "374012            SALINA                                   CENTRAL CARE, PA   \n",
       "374016            SAIPAN                    SAIPAN LAULAU DEVELOPMENT, INC.   \n",
       "374021           HOUSTON                                 APACHE CORPORATION   \n",
       "374028       SAN ANTONIO                        MUY HAMBURGER PARTNERS, LLC   \n",
       "374029     DAYTONA BEACH               EMBRY-RIDDLE AERONAUTICAL UNIVERSITY   \n",
       "374049        SCOTTSDALE           APOGEE MEDICAL GROUP, NORTH CAROLINA, PC   \n",
       "374063            Quincy                  Blessing Corporate Services, Inc.   \n",
       "374065       Carson City                              Santibanez Aguirre PC   \n",
       "374070       SAN ANTONIO                        MUY HAMBURGER PARTNERS, LLC   \n",
       "374073     MOUNTAIN VIEW                                        GOOGLE INC.   \n",
       "374090         CUPERTINO                                         APPLE INC.   \n",
       "374093          TROUTMAN                         CASE FARMS PROCESSING INC.   \n",
       "374094        SOUTHFIELD                                 DURR SYSTEMS, INC.   \n",
       "374109         ROCHESTER                                        MAYO CLINIC   \n",
       "374171       SAN ANTONIO                        MUY HAMBURGER PARTNERS, LLC   \n",
       "374200       LOS ANGELES                       PACIFIC TRELLIS FRUITS, INC.   \n",
       "374227         BETHLEHEM                                   HARRISON POULTRY   \n",
       "374243        Hicksville                           Home Care Therapies, LLC   \n",
       "374261         CLEVELAND                        CLEVELAND CLINIC FOUNDATION   \n",
       "374286           Houston         Clarksons Platou Shipping Services USA LLC   \n",
       "\n",
       "       employer_state  ... job_training job_work_state pv_unit_of_pay_9089  \\\n",
       "3                  NY  ...          NaN             NY                Year   \n",
       "9                  NY  ...          NaN             NY                Year   \n",
       "17                 NY  ...          NaN             NY                Year   \n",
       "18                 NJ  ...          NaN             NJ                Year   \n",
       "19                 IL  ...          NaN             IL                Year   \n",
       "27                 NY  ...          NaN             NY                Year   \n",
       "31                 NY  ...          NaN             NY                Year   \n",
       "35                 NY  ...          NaN             NY                Year   \n",
       "36                 VA  ...          NaN             VA                Year   \n",
       "39                 NJ  ...          NaN             NY                Year   \n",
       "45                 NY  ...          NaN             NY                Year   \n",
       "52                 NY  ...          NaN             NY                Year   \n",
       "58                 AZ  ...          NaN             AZ                Year   \n",
       "64                 VA  ...          NaN             VA                Year   \n",
       "69                 NY  ...          NaN             NY                Year   \n",
       "74                 NY  ...          NaN             NY                Year   \n",
       "77                 GA  ...          NaN             GA                Year   \n",
       "78                 AZ  ...          NaN             AZ                Year   \n",
       "93                 NJ  ...          NaN             NJ                Year   \n",
       "96                 GA  ...          NaN             GA                Year   \n",
       "101                MD  ...          NaN             MD                Year   \n",
       "122                AZ  ...          NaN             AZ                Year   \n",
       "131                CT  ...          NaN             CT                Year   \n",
       "136                CA  ...          NaN             CA                Year   \n",
       "142                NY  ...          NaN             NY                Year   \n",
       "179                NY  ...          NaN             NY                Year   \n",
       "195                CT  ...          NaN             CT                Year   \n",
       "199                MD  ...          NaN             MD                Year   \n",
       "200                NY  ...          NaN             NY                Year   \n",
       "205                OR  ...          NaN             CA                Year   \n",
       "...               ...  ...          ...            ...                 ...   \n",
       "373870             FL  ...            N             CO                Year   \n",
       "373874             GA  ...            N             NC                Year   \n",
       "373915             NE  ...            N             NE                Year   \n",
       "373916             NJ  ...            N             NJ                Year   \n",
       "373934             GA  ...            Y             GA                Year   \n",
       "373945             GA  ...            N             NC                Year   \n",
       "373960             GA  ...            N             NC                Year   \n",
       "373970             GA  ...            N             NC                Year   \n",
       "373984             NY  ...            N             NY                Year   \n",
       "374009             MP  ...            N             MP                Year   \n",
       "374012             KS  ...            Y             KS                Year   \n",
       "374016             MP  ...            N             MP                Year   \n",
       "374021             TX  ...            N             TX                Year   \n",
       "374028             TX  ...            N             NY                Year   \n",
       "374029             FL  ...            N             FL                Year   \n",
       "374049             AZ  ...            Y             NC                Year   \n",
       "374063             IL  ...            N             IL                Year   \n",
       "374065             NV  ...            N             UT                Year   \n",
       "374070             TX  ...            N             NY                Year   \n",
       "374073             CA  ...            N             CA                Year   \n",
       "374090             CA  ...            N             CA                Year   \n",
       "374093             NC  ...            N             NC                Year   \n",
       "374094             MI  ...            N             MI                Year   \n",
       "374109             MN  ...            N             MN                Year   \n",
       "374171             TX  ...            N             TX                Year   \n",
       "374200             CA  ...            N             CA                Year   \n",
       "374227             GA  ...            N             GA                Year   \n",
       "374243             NY  ...            N             NY                Year   \n",
       "374261             OH  ...            N             OH                Year   \n",
       "374286             TX  ...            N             TX                Year   \n",
       "\n",
       "            level source_name                 sector wage_unit_of_pay  \\\n",
       "3        Level II         OES  Other Economic Sector             Hour   \n",
       "9         Level I         OES                 Retail             Hour   \n",
       "17      Level III         OES                 Retail             Hour   \n",
       "18       Level II         OES            Hospitality             Hour   \n",
       "19        Level I         OES             Automotive             Hour   \n",
       "27      Level III         OES            Hospitality             Hour   \n",
       "31        Level I         OES                 Retail             Hour   \n",
       "35        Level I         OES            Hospitality             Hour   \n",
       "36        Level I         OES           Construction             Hour   \n",
       "39      Level III         OES  Other Economic Sector             Hour   \n",
       "45        Level I         OES           Construction             Hour   \n",
       "52      Level III       Other            Hospitality             Hour   \n",
       "58        Level I         OES           Agribusiness             Hour   \n",
       "64       Level IV         OES            Hospitality             Hour   \n",
       "69      Level III         OES            Hospitality             Hour   \n",
       "74       Level II       Other  Other Economic Sector             Hour   \n",
       "77       Level II         OES             Automotive             Hour   \n",
       "78        Level I         OES            Hospitality             Hour   \n",
       "93      Level III         OES            Hospitality             Hour   \n",
       "96       Level IV         OES            Hospitality             Hour   \n",
       "101       Level I         OES           Construction             Hour   \n",
       "122       Level I         OES           Advanced Mfg             Hour   \n",
       "131      Level II         OES           Construction             Hour   \n",
       "136       Level I         OES  Other Economic Sector             Hour   \n",
       "142     Level III         OES            Hospitality             Hour   \n",
       "179     Level III       Other                    NaN             Hour   \n",
       "195      Level IV         OES  Other Economic Sector             Hour   \n",
       "199      Level IV         OES   Educational Services             Year   \n",
       "200     Level III       Other            Hospitality             Hour   \n",
       "205       Level I         OES  Other Economic Sector             Hour   \n",
       "...           ...         ...                    ...              ...   \n",
       "373870   Level IV         OES                    NaN             Year   \n",
       "373874    Level I         OES                    NaN             Hour   \n",
       "373915    Level I         OES                    NaN             Hour   \n",
       "373916  Level III         OES                    NaN             Year   \n",
       "373934    Level I         OES                    NaN             Hour   \n",
       "373945    Level I         OES                    NaN             Hour   \n",
       "373960    Level I         OES                    NaN             Hour   \n",
       "373970    Level I         OES                    NaN             Hour   \n",
       "373984   Level II         OES                    NaN             Year   \n",
       "374009        NaN       Other                    NaN             Hour   \n",
       "374012   Level II         OES                    NaN             Year   \n",
       "374016        NaN       Other                    NaN             Hour   \n",
       "374021  Level III         OES                    NaN             Year   \n",
       "374028    Level I         OES                    NaN             Hour   \n",
       "374029    Level I         CBA                    NaN             Hour   \n",
       "374049    Level I         OES                    NaN             Year   \n",
       "374063   Level II         OES                    NaN             Year   \n",
       "374065    Level I         OES                    NaN             Year   \n",
       "374070    Level I         OES                    NaN             Hour   \n",
       "374073  Level III         OES                    NaN             Year   \n",
       "374090   Level IV         OES                    NaN             Year   \n",
       "374093    Level I         OES                    NaN             Hour   \n",
       "374094   Level II         OES                    NaN             Year   \n",
       "374109    Level I         OES                    NaN             Year   \n",
       "374171    Level I         OES                    NaN             Hour   \n",
       "374200    Level I         OES                    NaN             Hour   \n",
       "374227    Level I         OES                    NaN             Hour   \n",
       "374243    Level I         OES                    NaN             Hour   \n",
       "374261  Level III         OES                    NaN             Year   \n",
       "374286   Level IV         OES                    NaN             Year   \n",
       "\n",
       "       case_received_date_year decision_date_year      meansal  \n",
       "3                         2007               2011    10975.485  \n",
       "9                         2008               2012    12866.430  \n",
       "17                        2008               2012    12066.250  \n",
       "18                        2008               2011    10375.185  \n",
       "19                        2008               2011    10836.000  \n",
       "27                        2008               2011    12906.450  \n",
       "31                        2008               2011    12236.115  \n",
       "35                        2008               2012     9504.750  \n",
       "36                        2008               2012    10165.080  \n",
       "39                        2008               2012    13196.595  \n",
       "45                        2008               2011    11755.875  \n",
       "52                        2008               2012    13426.710  \n",
       "58                        2008               2011     7043.625  \n",
       "64                        2007               2012    10705.350  \n",
       "69                        2007               2012    10415.250  \n",
       "74                        2008               2012    12266.200  \n",
       "77                        2008               2011    11026.500  \n",
       "78                        2008               2011     8925.250  \n",
       "93                        2008               2011    11825.910  \n",
       "96                        2008               2012    10315.250  \n",
       "101                       2008               2012    10425.500  \n",
       "122                       2009               2011    11735.875  \n",
       "131                       2009               2012    13536.765  \n",
       "136                       2009               2011     9404.700  \n",
       "142                       2009               2011    13596.795  \n",
       "179                       2009               2011    13096.545  \n",
       "195                       2009               2011    12046.020  \n",
       "199                       2009               2011  7385700.000  \n",
       "200                       2009               2012    13597.420  \n",
       "205                       2009               2011     8424.210  \n",
       "...                        ...                ...          ...  \n",
       "373870                    2016               2016   182262.500  \n",
       "373874                    2016               2016       10.370  \n",
       "373915                    2016               2016       11.530  \n",
       "373916                    2016               2016   187200.000  \n",
       "373934                    2016               2016       95.000  \n",
       "373945                    2016               2016       10.370  \n",
       "373960                    2016               2016       10.370  \n",
       "373970                    2016               2016       10.370  \n",
       "373984                    2016               2016   179276.000  \n",
       "374009                    2016               2016        6.390  \n",
       "374012                    2016               2016   250391.000  \n",
       "374016                    2016               2016        6.390  \n",
       "374021                    2016               2016   168293.000  \n",
       "374028                    2016               2016     9021.875  \n",
       "374029                    2016               2016       28.230  \n",
       "374049                    2016               2016   226100.000  \n",
       "374063                    2016               2016   306100.000  \n",
       "374065                    2016               2016   171755.000  \n",
       "374070                    2016               2016     9021.875  \n",
       "374073                    2016               2016   169712.500  \n",
       "374090                    2016               2016   172191.000  \n",
       "374093                    2016               2016        9.555  \n",
       "374094                    2016               2016   167139.500  \n",
       "374109                    2016               2016   173669.000  \n",
       "374171                    2016               2016     8438.555  \n",
       "374200                    2016               2016       29.240  \n",
       "374227                    2016               2016        8.985  \n",
       "374243                    2016               2016    10821.200  \n",
       "374261                    2016               2016   261770.000  \n",
       "374286                    2016               2016   164958.500  \n",
       "\n",
       "[15366 rows x 24 columns]"
      ]
     },
     "execution_count": 65,
     "metadata": {},
     "output_type": "execute_result"
    }
   ],
   "source": [
    "q1=70387\n",
    "q3=107910.9\n",
    "iqr=round(q3-q1,2)\n",
    "iqr\n",
    "d[(d.meansal<q1-1.5*(iqr)) | (d.meansal > q3+1.5*(iqr))]"
   ]
  },
  {
   "cell_type": "code",
   "execution_count": 66,
   "metadata": {},
   "outputs": [
    {
     "data": {
      "text/plain": [
       "array(['NY', 'VA', 'FL', 'DE', 'MD', 'NJ', 'GA', 'IL', 'TX', 'KY', 'WY',\n",
       "       'OH', 'MS', 'MA', 'NC', 'CA', 'MO', 'CT', 'AZ', 'WI', 'PA', 'WA',\n",
       "       'CO', 'MN', 'NV', 'UT', 'AL', 'OK', 'LA', 'RI', 'DC', 'OR', 'MI',\n",
       "       'IA', 'NH', 'IN', 'SD', 'nan', 'NE', 'KS', 'TN', 'PR', 'AR', 'GU',\n",
       "       'WV', 'SC', 'ID', 'VI', 'ND', 'HI', 'VT', 'ME', 'NM', 'MP', 'AK',\n",
       "       'MT', 'GUAM', 'MH', 'BRITISH COLUMBIA', 'BC'], dtype=object)"
      ]
     },
     "execution_count": 66,
     "metadata": {},
     "output_type": "execute_result"
    }
   ],
   "source": [
    "us_state_abbrev = {k.upper(): v for k, v in state_abb.items()}\n",
    "d['employer_state'].replace(us_state_abbrev, inplace=True)\n",
    "d.employer_state = d.employer_state.astype(str)\n",
    "\n",
    "d.employer_state.unique()"
   ]
  },
  {
   "cell_type": "markdown",
   "metadata": {},
   "source": [
    "### Generalizing the states"
   ]
  },
  {
   "cell_type": "code",
   "execution_count": 67,
   "metadata": {},
   "outputs": [],
   "source": [
    "regions = {\n",
    "    'ME':'Northeast', \n",
    "    'NY':'Northeast', \n",
    "    'NJ':'Northeast', \n",
    "    'VT':'Northeast',\n",
    "    'MA':'Northeast',\n",
    "    'RI':'Northeast',\n",
    "    'CT':'Northeast',\n",
    "    'NH':'Northeast',\n",
    "    'PA':'Northeast',\n",
    "    'IL':'Midwest',\n",
    "    'IN':'Midwest',\n",
    "    'IA':'Midwest', \n",
    "    'KS':'Midwest',\n",
    "    'MI':'Midwest', \n",
    "    'MN':'Midwest', \n",
    "    'MO':'Midwest', \n",
    "    'NE':'Midwest',\n",
    "    'ND':'Midwest', \n",
    "    'OH':'Midwest', \n",
    "    'SD':'Midwest', \n",
    "    'WI':'Midwest',\n",
    "    'DE':'South',\n",
    "    'FL':'South', \n",
    "    'GA':'South',\n",
    "    'MD':'South',\n",
    "    'NC':'South',\n",
    "    'SC':'South',\n",
    "    'VA':'South',\n",
    "    'WV':'South',\n",
    "    'AL':'South',\n",
    "    'KY':'South',\n",
    "    'MS':'South',\n",
    "    'TN':'South',\n",
    "    'AR':'South',\n",
    "    'LA':'South', \n",
    "    'OK':'South',\n",
    "    'TX':'South',\n",
    "    'MT':'West',\n",
    "    'WY':'West', \n",
    "    'CO':'West', \n",
    "    'NM':'West', \n",
    "    'ID':'West', \n",
    "    'UT':'West', \n",
    "    'AZ':'West', \n",
    "    'NV':'West',\n",
    "    'WA':'West', \n",
    "    'OR':'West', \n",
    "    'CA':'West', \n",
    "    'AK':'West',\n",
    "    'HI':'West',\n",
    "    'DC':'Other', \n",
    "    'GUAM':'Island',\n",
    "    'GU':'Island',\n",
    "    'PR':'Island', \n",
    "    'MP':'Island', \n",
    "    'VI':'Island',\n",
    "    'BC':'Northeast',\n",
    "    'BRITISH COLUMBIA':'Northeast',  \n",
    "    'nan':'Other',\n",
    "    'FEDERATED STATES OF MICRONESIA':'Other',\n",
    "'MH':'Island'}"
   ]
  },
  {
   "cell_type": "code",
   "execution_count": 68,
   "metadata": {},
   "outputs": [],
   "source": [
    "def region(x):\n",
    "    return regions[x]\n",
    "\n",
    "d['employer_state'] = d['employer_state'].apply(region)\n"
   ]
  },
  {
   "cell_type": "code",
   "execution_count": 69,
   "metadata": {},
   "outputs": [
    {
     "data": {
      "text/plain": [
       "West         120731\n",
       "South        101998\n",
       "Northeast     89026\n",
       "Midwest       51527\n",
       "Other          1682\n",
       "Island          663\n",
       "Name: employer_state, dtype: int64"
      ]
     },
     "execution_count": 69,
     "metadata": {},
     "output_type": "execute_result"
    }
   ],
   "source": [
    "d.employer_state.value_counts()"
   ]
  },
  {
   "cell_type": "code",
   "execution_count": 70,
   "metadata": {},
   "outputs": [
    {
     "data": {
      "text/plain": [
       "West         0.334803\n",
       "South        0.278967\n",
       "Northeast    0.243489\n",
       "Midwest      0.140928\n",
       "Island       0.001813\n",
       "Name: employer_state, dtype: float64"
      ]
     },
     "execution_count": 70,
     "metadata": {},
     "output_type": "execute_result"
    }
   ],
   "source": [
    "d.employer_state.replace('Other','West',inplace=True)\n",
    "\n",
    "d.employer_state.value_counts(1)"
   ]
  },
  {
   "cell_type": "code",
   "execution_count": 71,
   "metadata": {},
   "outputs": [
    {
     "data": {
      "text/plain": [
       "<matplotlib.axes._subplots.AxesSubplot at 0x173f66a3198>"
      ]
     },
     "execution_count": 71,
     "metadata": {},
     "output_type": "execute_result"
    },
    {
     "data": {
      "image/png": "[encoded data removed]",
      "text/plain": [
       "<Figure size 432x288 with 1 Axes>"
      ]
     },
     "metadata": {
      "needs_background": "light"
     },
     "output_type": "display_data"
    }
   ],
   "source": [
    "d.employer_state.value_counts().plot(kind='bar',color='red')"
   ]
  },
  {
   "cell_type": "code",
   "execution_count": 72,
   "metadata": {},
   "outputs": [
    {
     "data": {
      "text/plain": [
       "2.908515251328645e-278"
      ]
     },
     "execution_count": 72,
     "metadata": {},
     "output_type": "execute_result"
    }
   ],
   "source": [
    "# Chi-Square Test\n",
    "# Null hypothesis H0: There is no association between employer_state and case_status\n",
    "# Alternate hypothesis H1: There is association between employer_state and case_status\n",
    "em=pd.crosstab(d.case_status,d.employer_state)\n",
    "stat, p, dof, expected=chi2_contingency(em)\n",
    "p    \n",
    "# Since p value < alpha (0.05) ,we reject the null hypothesis"
   ]
  },
  {
   "cell_type": "code",
   "execution_count": 73,
   "metadata": {},
   "outputs": [],
   "source": [
    "us_state_abbrev = {k.upper(): v for k, v in state_abb.items()}\n",
    "d['job_work_state'].replace(us_state_abbrev, inplace=True)\n",
    "d.job_work_state = d.job_work_state.astype(str)"
   ]
  },
  {
   "cell_type": "code",
   "execution_count": 74,
   "metadata": {},
   "outputs": [],
   "source": [
    "d.job_work_state.replace('Other','West',inplace=True)"
   ]
  },
  {
   "cell_type": "code",
   "execution_count": 75,
   "metadata": {},
   "outputs": [],
   "source": [
    "def region(x):\n",
    "    return regions[x]\n",
    "\n",
    "d['job_work_state'] = d['job_work_state'].apply(region)\n"
   ]
  },
  {
   "cell_type": "code",
   "execution_count": 76,
   "metadata": {},
   "outputs": [
    {
     "data": {
      "image/png": "[encoded data removed]",
      "text/plain": [
       "<Figure size 432x288 with 1 Axes>"
      ]
     },
     "metadata": {
      "needs_background": "light"
     },
     "output_type": "display_data"
    }
   ],
   "source": [
    "sns.countplot(d.job_work_state)\n",
    "plt.show()"
   ]
  },
  {
   "cell_type": "code",
   "execution_count": 77,
   "metadata": {},
   "outputs": [
    {
     "data": {
      "text/plain": [
       "9.43269504590687e-154"
      ]
     },
     "execution_count": 77,
     "metadata": {},
     "output_type": "execute_result"
    }
   ],
   "source": [
    "# Chi-Square Test\n",
    "# Null hypothesis H0: There is no association between job_work_state and case_status\n",
    "# Alternate hypothesis H1: There is association between job_work_state and case_status\n",
    "jws=pd.crosstab(d.case_status,d.job_work_state)\n",
    "stat, p, dof, expected=chi2_contingency(jws)\n",
    "p    \n",
    "# Since p value < alpha (0.05) ,we reject the null hypothesis"
   ]
  },
  {
   "cell_type": "code",
   "execution_count": 78,
   "metadata": {},
   "outputs": [
    {
     "data": {
      "text/plain": [
       "236559"
      ]
     },
     "execution_count": 78,
     "metadata": {},
     "output_type": "execute_result"
    }
   ],
   "source": [
    "d.sector.isnull().sum()\n",
    "#d.employer_num_employees.isnull().sum()"
   ]
  },
  {
   "cell_type": "markdown",
   "metadata": {},
   "source": [
    "#### Creating a new level for missing values "
   ]
  },
  {
   "cell_type": "code",
   "execution_count": 79,
   "metadata": {},
   "outputs": [
    {
     "data": {
      "text/plain": [
       "IT                       52617\n",
       "Advanced Mfg             18749\n",
       "Other Economic Sector    15798\n",
       "Finance                   9224\n",
       "Educational Services      9130\n",
       "Health Care               6825\n",
       "Retail                    4408\n",
       "Aerospace                 4166\n",
       "Hospitality               1926\n",
       "Construction              1409\n",
       "Automotive                1163\n",
       "Energy                    1086\n",
       "Transportation             949\n",
       "Agribusiness               939\n",
       "Biotechnology              456\n",
       "Geospatial                 141\n",
       "Homeland Security           82\n",
       "Name: sector, dtype: int64"
      ]
     },
     "execution_count": 79,
     "metadata": {},
     "output_type": "execute_result"
    }
   ],
   "source": [
    "d.sector.value_counts()"
   ]
  },
  {
   "cell_type": "code",
   "execution_count": 80,
   "metadata": {},
   "outputs": [],
   "source": [
    "#d.sector.fillna(\"Unavailable\",inplace=True)"
   ]
  },
  {
   "cell_type": "code",
   "execution_count": 81,
   "metadata": {},
   "outputs": [
    {
     "data": {
      "text/plain": [
       "IT                       52617\n",
       "Advanced Mfg             18749\n",
       "Other Economic Sector    15798\n",
       "Finance                   9224\n",
       "Educational Services      9130\n",
       "Health Care               6825\n",
       "Retail                    4408\n",
       "Aerospace                 4166\n",
       "Hospitality               1926\n",
       "Construction              1409\n",
       "Automotive                1163\n",
       "Energy                    1086\n",
       "Transportation             949\n",
       "Agribusiness               939\n",
       "Biotechnology              456\n",
       "Geospatial                 141\n",
       "Homeland Security           82\n",
       "Name: sector, dtype: int64"
      ]
     },
     "execution_count": 81,
     "metadata": {},
     "output_type": "execute_result"
    }
   ],
   "source": [
    "d.sector.value_counts()"
   ]
  },
  {
   "cell_type": "code",
   "execution_count": 82,
   "metadata": {},
   "outputs": [
    {
     "data": {
      "text/plain": [
       "IT                       0.420961\n",
       "Advanced Mfg             0.150001\n",
       "Other Economic Sector    0.126392\n",
       "Finance                  0.073796\n",
       "Educational Services     0.073044\n",
       "Health Care              0.054603\n",
       "Retail                   0.035266\n",
       "Aerospace                0.033330\n",
       "Hospitality              0.007704\n",
       "Construction             0.005636\n",
       "Automotive               0.004652\n",
       "Energy                   0.004344\n",
       "Transportation           0.003796\n",
       "Agribusiness             0.003756\n",
       "Biotechnology            0.001824\n",
       "Geospatial               0.000564\n",
       "Homeland Security        0.000328\n",
       "Name: sector, dtype: float64"
      ]
     },
     "execution_count": 82,
     "metadata": {},
     "output_type": "execute_result"
    }
   ],
   "source": [
    "#d.sector.replace('Unavailable',np.nan,inplace=True)\n",
    "d.sector.fillna('IT',limit=52617,inplace=True)\n",
    "d.sector.fillna('Advanced Mfg',limit=18749,inplace=True)\n",
    "d.sector.fillna('Other Economic Sector',limit=15798,inplace=True)\n",
    "d.sector.fillna('Finance',limit=9224,inplace=True)\n",
    "d.sector.fillna('Educational Services',limit=9130,inplace=True)\n",
    "d.sector.fillna('Health Care',limit=6825,inplace=True)\n",
    "d.sector.fillna('Retail',limit=4408,inplace=True)\n",
    "d.sector.fillna('Aerospace',limit=4166,inplace=True)\n",
    "d.sector.value_counts(1)"
   ]
  },
  {
   "cell_type": "code",
   "execution_count": 83,
   "metadata": {},
   "outputs": [
    {
     "data": {
      "text/plain": [
       "(array([ 0,  1,  2,  3,  4,  5,  6,  7,  8,  9, 10, 11, 12, 13, 14, 15, 16]),\n",
       " <a list of 17 Text xticklabel objects>)"
      ]
     },
     "execution_count": 83,
     "metadata": {},
     "output_type": "execute_result"
    },
    {
     "data": {
      "image/png": "[encoded data removed]",
      "text/plain": [
       "<Figure size 432x288 with 1 Axes>"
      ]
     },
     "metadata": {
      "needs_background": "light"
     },
     "output_type": "display_data"
    }
   ],
   "source": [
    "sns.countplot(d.sector)\n",
    "plt.xticks(rotation=90)"
   ]
  },
  {
   "cell_type": "code",
   "execution_count": 84,
   "metadata": {},
   "outputs": [
    {
     "data": {
      "text/plain": [
       "0.0"
      ]
     },
     "execution_count": 84,
     "metadata": {},
     "output_type": "execute_result"
    }
   ],
   "source": [
    "# Chi-Square Test\n",
    "# Null hypothesis H0: There is no association between sector and case_status\n",
    "# Alternate hypothesis H1: There is association between sector and case_status\n",
    "sec=pd.crosstab(d.case_status,d.sector)\n",
    "stat, p, dof, expected=chi2_contingency(sec)\n",
    "p    \n",
    "# Since p value < alpha (0.05) ,we reject the null hypothesis"
   ]
  },
  {
   "cell_type": "code",
   "execution_count": 85,
   "metadata": {},
   "outputs": [
    {
     "data": {
      "text/plain": [
       "count    2.302780e+05\n",
       "mean     2.327626e+04\n",
       "std      5.555383e+05\n",
       "min      0.000000e+00\n",
       "25%      6.800000e+01\n",
       "50%      1.078000e+03\n",
       "75%      1.480000e+04\n",
       "max      2.635506e+08\n",
       "Name: employer_num_employees, dtype: float64"
      ]
     },
     "execution_count": 85,
     "metadata": {},
     "output_type": "execute_result"
    }
   ],
   "source": [
    "d.employer_num_employees.describe()"
   ]
  },
  {
   "cell_type": "markdown",
   "metadata": {},
   "source": [
    "### Binning the number of employees to depict the size of the enterprise."
   ]
  },
  {
   "cell_type": "code",
   "execution_count": 86,
   "metadata": {},
   "outputs": [
    {
     "data": {
      "text/plain": [
       "0                       NaN\n",
       "1                       NaN\n",
       "2                       NaN\n",
       "3                       NaN\n",
       "4                       NaN\n",
       "5                       NaN\n",
       "6                       NaN\n",
       "7                       NaN\n",
       "8                       NaN\n",
       "9                       NaN\n",
       "10                      NaN\n",
       "11                      NaN\n",
       "12                      NaN\n",
       "13                      NaN\n",
       "14                      NaN\n",
       "15                      NaN\n",
       "16                      NaN\n",
       "17                      NaN\n",
       "18                      NaN\n",
       "19                      NaN\n",
       "20                      NaN\n",
       "21                      NaN\n",
       "22                      NaN\n",
       "23                      NaN\n",
       "24                      NaN\n",
       "25                      NaN\n",
       "26                      NaN\n",
       "27                      NaN\n",
       "28                      NaN\n",
       "29                      NaN\n",
       "                ...        \n",
       "374332                  NaN\n",
       "374333    (1078.0, 14800.0]\n",
       "374334                  NaN\n",
       "374335    (1078.0, 14800.0]\n",
       "374336     (67.999, 1078.0]\n",
       "374337                  NaN\n",
       "374338    (1078.0, 14800.0]\n",
       "374339                  NaN\n",
       "374340    (1078.0, 14800.0]\n",
       "374341     (67.999, 1078.0]\n",
       "374342    (1078.0, 14800.0]\n",
       "374343     (67.999, 1078.0]\n",
       "374344                  NaN\n",
       "374345     (67.999, 1078.0]\n",
       "374346     (67.999, 1078.0]\n",
       "374347     (67.999, 1078.0]\n",
       "374348                  NaN\n",
       "374349    (1078.0, 14800.0]\n",
       "374350    (1078.0, 14800.0]\n",
       "374351    (1078.0, 14800.0]\n",
       "374352                  NaN\n",
       "374353     (67.999, 1078.0]\n",
       "374354     (67.999, 1078.0]\n",
       "374355                  NaN\n",
       "374356    (1078.0, 14800.0]\n",
       "374357                  NaN\n",
       "374358                  NaN\n",
       "374359                  NaN\n",
       "374360                  NaN\n",
       "374361                  NaN\n",
       "Name: employer_num_employees, Length: 365627, dtype: category\n",
       "Categories (2, interval[float64]): [(67.999, 1078.0] < (1078.0, 14800.0]]"
      ]
     },
     "execution_count": 86,
     "metadata": {},
     "output_type": "execute_result"
    }
   ],
   "source": [
    "pd.qcut(d.employer_num_employees,q=[0.25,0.5,0.75])"
   ]
  },
  {
   "cell_type": "markdown",
   "metadata": {},
   "source": [
    "#### Creating a new level for missing values by first imputing it to 0 ."
   ]
  },
  {
   "cell_type": "code",
   "execution_count": 87,
   "metadata": {},
   "outputs": [],
   "source": [
    "d.employer_num_employees.isnull().sum()\n",
    "d.employer_num_employees.fillna(0,inplace=True)"
   ]
  },
  {
   "cell_type": "code",
   "execution_count": 88,
   "metadata": {},
   "outputs": [],
   "source": [
    "def emp(x):\n",
    "    if x==0:\n",
    "        return \"Unvailable\"\n",
    "    elif x<68 and x>0:\n",
    "        return \"Small\"\n",
    "    elif x<14800 and x>1078:\n",
    "        return \"Medium\"\n",
    "    else:\n",
    "        return \"Large\"\n",
    "    \n",
    "d['Enterprise_Size']=d.employer_num_employees.apply(emp)"
   ]
  },
  {
   "cell_type": "code",
   "execution_count": 89,
   "metadata": {},
   "outputs": [
    {
     "data": {
      "text/plain": [
       "Unvailable    135607\n",
       "Large         115284\n",
       "Medium         57512\n",
       "Small          57224\n",
       "Name: Enterprise_Size, dtype: int64"
      ]
     },
     "execution_count": 89,
     "metadata": {},
     "output_type": "execute_result"
    }
   ],
   "source": [
    "d.Enterprise_Size.value_counts()"
   ]
  },
  {
   "cell_type": "code",
   "execution_count": 90,
   "metadata": {},
   "outputs": [
    {
     "data": {
      "text/plain": [
       "Large     0.630610\n",
       "Medium    0.212881\n",
       "Small     0.156509\n",
       "Name: Enterprise_Size, dtype: float64"
      ]
     },
     "execution_count": 90,
     "metadata": {},
     "output_type": "execute_result"
    }
   ],
   "source": [
    "d.Enterprise_Size.replace('Unvailable',np.nan,inplace=True)\n",
    "d.Enterprise_Size.fillna(\"Large\",limit=115284,inplace=True)\n",
    "d.Enterprise_Size.fillna('Medium', limit=57512,inplace=True)\n",
    "d.Enterprise_Size.fillna('Small', limit=57224,inplace=True)\n",
    "d.Enterprise_Size.value_counts(1)"
   ]
  },
  {
   "cell_type": "code",
   "execution_count": 91,
   "metadata": {},
   "outputs": [
    {
     "data": {
      "text/plain": [
       "0.0"
      ]
     },
     "execution_count": 91,
     "metadata": {},
     "output_type": "execute_result"
    }
   ],
   "source": [
    "# Chi-Square Test\n",
    "# Null hypothesis H0: There is no association between Enterprise_Size and case_status\n",
    "# Alternate hypothesis H1: There is association between Enterprise_Size and case_status\n",
    "ent=pd.crosstab(d.case_status,d.Enterprise_Size)\n",
    "stat, p, dof, expected=chi2_contingency(ent)\n",
    "p    \n",
    "# Since p value < alpha (0.05) ,we reject the null hypothesis"
   ]
  },
  {
   "cell_type": "code",
   "execution_count": 92,
   "metadata": {},
   "outputs": [
    {
     "data": {
      "text/plain": [
       "agent_state                           0\n",
       "application_type                  95089\n",
       "case_status                           0\n",
       "class_of_admission                    0\n",
       "country_of_citizenship                0\n",
       "employer_num_employees                0\n",
       "employer_yr_estab                     0\n",
       "employer_city                         0\n",
       "employer_name                         0\n",
       "employer_state                        0\n",
       "foreign_worker_info_education    135308\n",
       "foreign_worker_info_major        151662\n",
       "job_experience                   135281\n",
       "job_title                        135313\n",
       "job_training                     135284\n",
       "job_work_state                        0\n",
       "pv_unit_of_pay_9089                   0\n",
       "level                             27095\n",
       "source_name                           0\n",
       "sector                           115642\n",
       "wage_unit_of_pay                 115689\n",
       "case_received_date_year               0\n",
       "decision_date_year                    0\n",
       "meansal                               0\n",
       "Enterprise_Size                       0\n",
       "dtype: int64"
      ]
     },
     "execution_count": 92,
     "metadata": {},
     "output_type": "execute_result"
    }
   ],
   "source": [
    "d.isnull().sum()"
   ]
  },
  {
   "cell_type": "code",
   "execution_count": 93,
   "metadata": {},
   "outputs": [
    {
     "name": "stdout",
     "output_type": "stream",
     "text": [
      "[nan \"Bachelor's\" 'None' 'Doctorate' \"Master's\" 'Other' 'High School'\n",
      " \"Associate's\"]\n",
      "Master's       102056\n",
      "Bachelor's      84318\n",
      "None            15171\n",
      "Doctorate       12227\n",
      "Other           10074\n",
      "High School      4144\n",
      "Associate's      2329\n",
      "Name: foreign_worker_info_education, dtype: int64\n"
     ]
    }
   ],
   "source": [
    "print(d.foreign_worker_info_education.unique())\n",
    "print(d.foreign_worker_info_education.value_counts())"
   ]
  },
  {
   "cell_type": "code",
   "execution_count": 94,
   "metadata": {},
   "outputs": [],
   "source": [
    "d.foreign_worker_info_education.replace('None',np.nan,inplace=True)\n",
    "d.foreign_worker_info_education.replace('Other',np.nan,inplace=True)\n",
    "d.foreign_worker_info_education.fillna(\"Master's\",limit=102056,inplace=True) \n",
    "d.foreign_worker_info_education.fillna(\"Bachelor's\",limit=84318,inplace=True) \n",
    "d.foreign_worker_info_education.fillna(\"Doctorate\",limit=12227,inplace=True) \n",
    "d.foreign_worker_info_education.fillna(\"Master's\",limit=102056,inplace=True) \n",
    "d.foreign_worker_info_education.fillna(\"High School\",limit=4144,inplace=True) \n",
    "d.foreign_worker_info_education.fillna(\"Associate's\",limit=2329,inplace=True) "
   ]
  },
  {
   "cell_type": "code",
   "execution_count": 95,
   "metadata": {},
   "outputs": [
    {
     "data": {
      "text/plain": [
       "0.0"
      ]
     },
     "execution_count": 95,
     "metadata": {},
     "output_type": "execute_result"
    }
   ],
   "source": [
    "# Chi-Square Test\n",
    "# Null hypothesis H0: There is no association between foreign_worker_info_education and case_status\n",
    "# Alternate hypothesis H1: There is association between foreign_worker_info_education and case_status\n",
    "fo=pd.crosstab(d.case_status,d.foreign_worker_info_education)\n",
    "stat, p, dof, expected=chi2_contingency(fo)\n",
    "p    \n",
    "# Since p value < alpha (0.05) ,we reject the null hypothesis"
   ]
  },
  {
   "cell_type": "code",
   "execution_count": 96,
   "metadata": {},
   "outputs": [
    {
     "data": {
      "text/plain": [
       "<matplotlib.axes._subplots.AxesSubplot at 0x173806bc6d8>"
      ]
     },
     "execution_count": 96,
     "metadata": {},
     "output_type": "execute_result"
    },
    {
     "data": {
      "image/png": "[encoded data removed]",
      "text/plain": [
       "<Figure size 432x288 with 1 Axes>"
      ]
     },
     "metadata": {
      "needs_background": "light"
     },
     "output_type": "display_data"
    }
   ],
   "source": [
    "d.foreign_worker_info_education.value_counts().plot(kind='bar')"
   ]
  },
  {
   "cell_type": "code",
   "execution_count": 97,
   "metadata": {},
   "outputs": [
    {
     "data": {
      "text/plain": [
       "0.0"
      ]
     },
     "execution_count": 97,
     "metadata": {},
     "output_type": "execute_result"
    }
   ],
   "source": [
    "# Chi-Square Test\n",
    "# Null hypothesis H0: There is no association between foreign_worker_info_major and case_status\n",
    "# Alternate hypothesis H1: There is association between foreign_worker_info_major and case_status\n",
    "fom=pd.crosstab(d.case_status,d.foreign_worker_info_major)\n",
    "stat, p, dof, expected=chi2_contingency(fom)\n",
    "p    \n",
    "# Since p value < alpha (0.05) ,we reject the null hypothesis"
   ]
  },
  {
   "cell_type": "code",
   "execution_count": 98,
   "metadata": {},
   "outputs": [
    {
     "data": {
      "image/png": "[encoded data removed]",
      "text/plain": [
       "<Figure size 432x288 with 1 Axes>"
      ]
     },
     "metadata": {
      "needs_background": "light"
     },
     "output_type": "display_data"
    }
   ],
   "source": [
    "d.foreign_worker_info_major.value_counts().head(10).plot(kind='bar')\n",
    "plt.show()"
   ]
  },
  {
   "cell_type": "code",
   "execution_count": 99,
   "metadata": {},
   "outputs": [
    {
     "data": {
      "text/plain": [
       "21851"
      ]
     },
     "execution_count": 99,
     "metadata": {},
     "output_type": "execute_result"
    }
   ],
   "source": [
    "d.foreign_worker_info_major.nunique()"
   ]
  },
  {
   "cell_type": "code",
   "execution_count": 100,
   "metadata": {},
   "outputs": [],
   "source": [
    "d.foreign_worker_info_major=d.foreign_worker_info_major.astype('str')"
   ]
  },
  {
   "cell_type": "markdown",
   "metadata": {},
   "source": [
    "#### We have 21k+ unique values here. They are a huge range of the employees details and has redundancy as well."
   ]
  },
  {
   "cell_type": "code",
   "execution_count": 101,
   "metadata": {},
   "outputs": [],
   "source": [
    "strg ='ENGINEER'\n",
    "for i in d.foreign_worker_info_major:\n",
    "    if strg in i:\n",
    "        d.foreign_worker_info_major.replace(i,'Engineer',inplace=True)\n"
   ]
  },
  {
   "cell_type": "code",
   "execution_count": 102,
   "metadata": {},
   "outputs": [],
   "source": [
    "strng='COMPUTER'\n",
    "for i in d.foreign_worker_info_major:\n",
    "    if strng in i:\n",
    "        d.foreign_worker_info_major.replace(i,'Computer Applications',inplace=True)\n",
    "    else:\n",
    "        pass"
   ]
  },
  {
   "cell_type": "code",
   "execution_count": 103,
   "metadata": {},
   "outputs": [],
   "source": [
    "strng='ADMIN'\n",
    "for i in d.foreign_worker_info_major:\n",
    "    if strng in i:\n",
    "        #print(i)\n",
    "        d.foreign_worker_info_major.replace(i,'Business Administration',inplace=True)\n",
    "    else:\n",
    "        pass"
   ]
  },
  {
   "cell_type": "code",
   "execution_count": 104,
   "metadata": {},
   "outputs": [],
   "source": [
    "str1='INFORMATION TECHNOLOGY'\n",
    "for i in d.foreign_worker_info_major:\n",
    "    if str1 in i:\n",
    "        #print(i)\n",
    "        d.foreign_worker_info_major.replace(i,'Information Technology',inplace=True)\n",
    "    else:\n",
    "        pass"
   ]
  },
  {
   "cell_type": "code",
   "execution_count": 105,
   "metadata": {},
   "outputs": [],
   "source": [
    "str2='MEDICINE'\n",
    "for i in d.foreign_worker_info_major:\n",
    "    if str2 in i:\n",
    "        #print(i)\n",
    "        d.foreign_worker_info_major.replace(i,'Medicine',inplace=True)\n",
    "    else:\n",
    "        pass"
   ]
  },
  {
   "cell_type": "code",
   "execution_count": 106,
   "metadata": {},
   "outputs": [],
   "source": [
    "str3='ACCOUNTING'\n",
    "for i in d.foreign_worker_info_major:\n",
    "    if str3 in i:\n",
    "        #print(i)\n",
    "        d.foreign_worker_info_major.replace(i,'Accounting',inplace=True)\n",
    "    else:\n",
    "        pass"
   ]
  },
  {
   "cell_type": "code",
   "execution_count": 107,
   "metadata": {},
   "outputs": [],
   "source": [
    "str4='INFORMATION SYSTEM'\n",
    "for i in d.foreign_worker_info_major:\n",
    "    if str4 in i:\n",
    "        #print(i)\n",
    "        d.foreign_worker_info_major.replace(i,'Information Systems',inplace=True)\n",
    "    else:\n",
    "        pass"
   ]
  },
  {
   "cell_type": "code",
   "execution_count": 108,
   "metadata": {},
   "outputs": [],
   "source": [
    "str5='ECONOMICS'\n",
    "for i in d.foreign_worker_info_major:\n",
    "    if str5 in i:\n",
    "        #print(i)\n",
    "        d.foreign_worker_info_major.replace(i,'Economics',inplace=True)\n",
    "    else:\n",
    "        pass"
   ]
  },
  {
   "cell_type": "code",
   "execution_count": 109,
   "metadata": {},
   "outputs": [],
   "source": [
    "str6='MATH'\n",
    "for i in d.foreign_worker_info_major:\n",
    "    if str6 in i:\n",
    "        #print(i)\n",
    "        d.foreign_worker_info_major.replace(i,'Mathematics',inplace=True)\n",
    "    else:\n",
    "        pass"
   ]
  },
  {
   "cell_type": "code",
   "execution_count": 110,
   "metadata": {},
   "outputs": [],
   "source": [
    "str7='PHYSICS'\n",
    "for i in d.foreign_worker_info_major:\n",
    "    if str7 in i:\n",
    "        #print(i)\n",
    "        d.foreign_worker_info_major.replace(i,'Physics',inplace=True)\n",
    "    else:\n",
    "        pass"
   ]
  },
  {
   "cell_type": "code",
   "execution_count": 111,
   "metadata": {},
   "outputs": [
    {
     "data": {
      "text/plain": [
       "9754"
      ]
     },
     "execution_count": 111,
     "metadata": {},
     "output_type": "execute_result"
    }
   ],
   "source": [
    "d.foreign_worker_info_major.nunique()"
   ]
  },
  {
   "cell_type": "code",
   "execution_count": 112,
   "metadata": {},
   "outputs": [
    {
     "data": {
      "image/png": "[encoded data removed]",
      "text/plain": [
       "<Figure size 432x288 with 1 Axes>"
      ]
     },
     "metadata": {
      "needs_background": "light"
     },
     "output_type": "display_data"
    }
   ],
   "source": [
    "d.foreign_worker_info_major.value_counts().head(20).plot(kind='bar')\n",
    "plt.show()"
   ]
  },
  {
   "cell_type": "code",
   "execution_count": 113,
   "metadata": {},
   "outputs": [
    {
     "data": {
      "text/plain": [
       "nan                        151662\n",
       "Engineer                    87470\n",
       "Computer Applications       43247\n",
       "Business Administration     15132\n",
       "Information Technology       6575\n",
       "Medicine                     5393\n",
       "Information Systems          4380\n",
       "Economics                    2729\n",
       "Accounting                   2695\n",
       "Mathematics                  2625\n",
       "Name: foreign_worker_info_major, dtype: int64"
      ]
     },
     "execution_count": 113,
     "metadata": {},
     "output_type": "execute_result"
    }
   ],
   "source": [
    "d.foreign_worker_info_major.value_counts().head(10)"
   ]
  },
  {
   "cell_type": "code",
   "execution_count": 114,
   "metadata": {},
   "outputs": [
    {
     "data": {
      "text/plain": [
       "0"
      ]
     },
     "execution_count": 114,
     "metadata": {},
     "output_type": "execute_result"
    }
   ],
   "source": [
    "d.foreign_worker_info_major.isnull().sum()"
   ]
  },
  {
   "cell_type": "code",
   "execution_count": 115,
   "metadata": {},
   "outputs": [],
   "source": [
    "d.foreign_worker_info_major.replace('nan',np.nan,inplace=True)"
   ]
  },
  {
   "cell_type": "code",
   "execution_count": 116,
   "metadata": {},
   "outputs": [
    {
     "data": {
      "text/plain": [
       "151662"
      ]
     },
     "execution_count": 116,
     "metadata": {},
     "output_type": "execute_result"
    }
   ],
   "source": [
    "d.foreign_worker_info_major.isnull().sum()"
   ]
  },
  {
   "cell_type": "code",
   "execution_count": 117,
   "metadata": {},
   "outputs": [],
   "source": [
    "d.foreign_worker_info_major.fillna('Engineer',limit=87470,inplace=True)\n",
    "d.foreign_worker_info_major.fillna('Computer Applications',limit=43247,inplace=True)\n",
    "d.foreign_worker_info_major.fillna('Information Technology',limit=15132,inplace=True)\n",
    "d.foreign_worker_info_major.fillna('Medicine',limit=5393,inplace=True)\n",
    "d.foreign_worker_info_major.fillna('Information Systems',limit=4380,inplace=True)\n"
   ]
  },
  {
   "cell_type": "code",
   "execution_count": 118,
   "metadata": {},
   "outputs": [
    {
     "data": {
      "text/plain": [
       "9753"
      ]
     },
     "execution_count": 118,
     "metadata": {},
     "output_type": "execute_result"
    }
   ],
   "source": [
    "d.foreign_worker_info_major.isnull().sum()\n",
    "d.foreign_worker_info_major.nunique()"
   ]
  },
  {
   "cell_type": "code",
   "execution_count": 119,
   "metadata": {},
   "outputs": [
    {
     "data": {
      "text/plain": [
       "True"
      ]
     },
     "execution_count": 119,
     "metadata": {},
     "output_type": "execute_result"
    }
   ],
   "source": [
    "t='HELLO'\n",
    "t.isupper()"
   ]
  },
  {
   "cell_type": "code",
   "execution_count": 120,
   "metadata": {},
   "outputs": [],
   "source": [
    "for i in d.foreign_worker_info_major:\n",
    "    if i.isupper()==True:\n",
    "        #print(i)\n",
    "        d.foreign_worker_info_major.replace(i,'Other',inplace=True)\n",
    "    else:\n",
    "        pass"
   ]
  },
  {
   "cell_type": "code",
   "execution_count": 121,
   "metadata": {},
   "outputs": [],
   "source": [
    "v='---'\n",
    "for i in d.foreign_worker_info_major:\n",
    "    if v in i:\n",
    "        #print(i)\n",
    "        d.foreign_worker_info_major.replace(i,'Other',inplace=True)\n",
    "    else:\n",
    "        pass\n",
    "d.foreign_worker_info_major.replace('9456593927','Other',inplace=True)\n",
    "d.foreign_worker_info_major.replace('EQUIVALENCY TO A US BACHELORâ€™S DEGREE, PER COMBINED EDUCATION & EXPERIENCE','Other',inplace=True)\n",
    "d.foreign_worker_info_major.replace('MEDICAL IMAGING AND RADIATION SCIENCES â€“ SONOGRAPHY','Other',inplace=True)\n",
    "d.foreign_worker_info_major.replace('ELECTRONICS â€“ TELECOMMUNICATIONS','Other',inplace=True)\n",
    "d.foreign_worker_info_major.replace('MBA WITH COURSES IN FINANCIAL MNGMNT AND INTâ€™L MACROECONOMY','Other',inplace=True)\n",
    "d.foreign_worker_info_major.replace('COUNSELING â€“ MARRIAGE AND FAMILY THERAPY','Other',inplace=True)\n",
    "d.foreign_worker_info_major.replace('Financial Engineering','Engineer',inplace=True)\n",
    "d.foreign_worker_info_major.replace('ELECTRICAL ENGâ€™G','Engineer',inplace=True)\n",
    "d.foreign_worker_info_major.replace('9420662327','Other',inplace=True)\n",
    "d.foreign_worker_info_major.replace('WOMANâ€™S CULTURE','Other',inplace=True)"
   ]
  },
  {
   "cell_type": "code",
   "execution_count": 122,
   "metadata": {
    "scrolled": true
   },
   "outputs": [
    {
     "data": {
      "text/plain": [
       "array(['Engineer', 'Computer Applications', 'Information Technology',\n",
       "       'Other', 'Business Administration', 'Medicine',\n",
       "       'Information Systems', 'Accounting', 'Economics', 'Physics',\n",
       "       'Mathematics'], dtype=object)"
      ]
     },
     "execution_count": 122,
     "metadata": {},
     "output_type": "execute_result"
    }
   ],
   "source": [
    "d.foreign_worker_info_major.unique()"
   ]
  },
  {
   "cell_type": "code",
   "execution_count": null,
   "metadata": {},
   "outputs": [],
   "source": []
  },
  {
   "cell_type": "code",
   "execution_count": 123,
   "metadata": {},
   "outputs": [
    {
     "data": {
      "image/png": "[encoded data removed]",
      "text/plain": [
       "<Figure size 432x288 with 1 Axes>"
      ]
     },
     "metadata": {
      "needs_background": "light"
     },
     "output_type": "display_data"
    }
   ],
   "source": [
    "d.foreign_worker_info_major.value_counts().plot(kind='bar')\n",
    "plt.show()"
   ]
  },
  {
   "cell_type": "code",
   "execution_count": 124,
   "metadata": {},
   "outputs": [
    {
     "name": "stdout",
     "output_type": "stream",
     "text": [
      "Y    128554\n",
      "N    101792\n",
      "Name: job_experience, dtype: int64\n"
     ]
    },
    {
     "data": {
      "text/plain": [
       "135281"
      ]
     },
     "execution_count": 124,
     "metadata": {},
     "output_type": "execute_result"
    }
   ],
   "source": [
    "print(d.job_experience.value_counts())\n",
    "d.job_experience.isnull().sum()"
   ]
  },
  {
   "cell_type": "code",
   "execution_count": 125,
   "metadata": {},
   "outputs": [
    {
     "data": {
      "text/plain": [
       "0"
      ]
     },
     "execution_count": 125,
     "metadata": {},
     "output_type": "execute_result"
    }
   ],
   "source": [
    "d.job_experience.fillna('Y',limit=128554,inplace=True) \n",
    "d.job_experience.fillna('N',limit=101792,inplace=True) \n",
    "d.job_experience.isnull().sum()"
   ]
  },
  {
   "cell_type": "code",
   "execution_count": 126,
   "metadata": {},
   "outputs": [
    {
     "data": {
      "text/plain": [
       "application_type     95089\n",
       "job_title           135313\n",
       "job_training        135284\n",
       "level                27095\n",
       "sector              115642\n",
       "wage_unit_of_pay    115689\n",
       "dtype: int64"
      ]
     },
     "execution_count": 126,
     "metadata": {},
     "output_type": "execute_result"
    }
   ],
   "source": [
    "d.isnull().sum()[d.isnull().sum()>0]"
   ]
  },
  {
   "cell_type": "code",
   "execution_count": 127,
   "metadata": {},
   "outputs": [],
   "source": [
    "d.job_title.value_counts(1)   ## 59k unique values\n",
    "d.job_title.isnull().sum()\n",
    "d.job_title.fillna('Other',inplace=True)\n",
    "d.job_title=d.job_title.astype('str')"
   ]
  },
  {
   "cell_type": "code",
   "execution_count": 128,
   "metadata": {},
   "outputs": [
    {
     "data": {
      "text/plain": [
       "array(['Other', 'Senior Engineer', 'Catfish Processor', ...,\n",
       "       'Computer Systems Analyst, Data Integration',\n",
       "       'Senior .NET Developer(s)',\n",
       "       'Assistant Vice President, Divisional Business Information Security Officer'],\n",
       "      dtype=object)"
      ]
     },
     "execution_count": 128,
     "metadata": {},
     "output_type": "execute_result"
    }
   ],
   "source": [
    "d.job_title.unique()"
   ]
  },
  {
   "cell_type": "code",
   "execution_count": 129,
   "metadata": {},
   "outputs": [],
   "source": [
    "# strg ='Engineer'\n",
    "# for i in d.job_title:\n",
    "#     if strg in i:\n",
    "#         d.job_title.replace(i,'Engineer',inplace=True)"
   ]
  },
  {
   "cell_type": "code",
   "execution_count": 130,
   "metadata": {},
   "outputs": [
    {
     "data": {
      "text/plain": [
       "59496"
      ]
     },
     "execution_count": 130,
     "metadata": {},
     "output_type": "execute_result"
    }
   ],
   "source": [
    "d.job_title.nunique()"
   ]
  },
  {
   "cell_type": "code",
   "execution_count": 131,
   "metadata": {},
   "outputs": [],
   "source": [
    "d.drop('job_title',axis=1,inplace=True)   "
   ]
  },
  {
   "cell_type": "code",
   "execution_count": 132,
   "metadata": {},
   "outputs": [
    {
     "data": {
      "text/plain": [
       "N    226021\n",
       "Y      4322\n",
       "Name: job_training, dtype: int64"
      ]
     },
     "execution_count": 132,
     "metadata": {},
     "output_type": "execute_result"
    }
   ],
   "source": [
    "d.job_training.value_counts()"
   ]
  },
  {
   "cell_type": "code",
   "execution_count": 133,
   "metadata": {},
   "outputs": [],
   "source": [
    "d.job_training.fillna('N',limit=226021,inplace=True)  \n",
    "d.job_training.fillna('Y',limit=4322,inplace=True)  "
   ]
  },
  {
   "cell_type": "code",
   "execution_count": 134,
   "metadata": {},
   "outputs": [],
   "source": [
    "d.drop('wage_unit_of_pay',axis=1,inplace=True)   ### It is the same as pv_unit_of_pay"
   ]
  },
  {
   "cell_type": "code",
   "execution_count": 135,
   "metadata": {},
   "outputs": [
    {
     "data": {
      "text/plain": [
       "agent_state                           0\n",
       "application_type                  95089\n",
       "case_status                           0\n",
       "class_of_admission                    0\n",
       "country_of_citizenship                0\n",
       "employer_num_employees                0\n",
       "employer_yr_estab                     0\n",
       "employer_city                         0\n",
       "employer_name                         0\n",
       "employer_state                        0\n",
       "foreign_worker_info_education         0\n",
       "foreign_worker_info_major             0\n",
       "job_experience                        0\n",
       "job_training                          0\n",
       "job_work_state                        0\n",
       "pv_unit_of_pay_9089                   0\n",
       "level                             27095\n",
       "source_name                           0\n",
       "sector                           115642\n",
       "case_received_date_year               0\n",
       "decision_date_year                    0\n",
       "meansal                               0\n",
       "Enterprise_Size                       0\n",
       "dtype: int64"
      ]
     },
     "execution_count": 135,
     "metadata": {},
     "output_type": "execute_result"
    }
   ],
   "source": [
    "d.isnull().sum()"
   ]
  },
  {
   "cell_type": "code",
   "execution_count": 136,
   "metadata": {},
   "outputs": [
    {
     "data": {
      "text/plain": [
       "agent_state                           0\n",
       "application_type                  95089\n",
       "case_status                           0\n",
       "class_of_admission                    0\n",
       "country_of_citizenship                0\n",
       "employer_num_employees                0\n",
       "employer_yr_estab                     0\n",
       "employer_city                         0\n",
       "employer_name                         0\n",
       "employer_state                        0\n",
       "foreign_worker_info_education         0\n",
       "foreign_worker_info_major             0\n",
       "job_experience                        0\n",
       "job_training                          0\n",
       "job_work_state                        0\n",
       "pv_unit_of_pay_9089                   0\n",
       "level                             27095\n",
       "source_name                           0\n",
       "sector                           115642\n",
       "case_received_date_year               0\n",
       "decision_date_year                    0\n",
       "meansal                               0\n",
       "Enterprise_Size                       0\n",
       "dtype: int64"
      ]
     },
     "execution_count": 136,
     "metadata": {},
     "output_type": "execute_result"
    }
   ],
   "source": [
    "d.isnull().sum()"
   ]
  },
  {
   "cell_type": "code",
   "execution_count": 137,
   "metadata": {},
   "outputs": [
    {
     "data": {
      "text/plain": [
       "IT                       105234\n",
       "Advanced Mfg              37498\n",
       "Other Economic Sector     31596\n",
       "Finance                   18448\n",
       "Educational Services      18260\n",
       "Health Care               13650\n",
       "Retail                     8816\n",
       "Aerospace                  8332\n",
       "Hospitality                1926\n",
       "Construction               1409\n",
       "Automotive                 1163\n",
       "Energy                     1086\n",
       "Transportation              949\n",
       "Agribusiness                939\n",
       "Biotechnology               456\n",
       "Geospatial                  141\n",
       "Homeland Security            82\n",
       "Name: sector, dtype: int64"
      ]
     },
     "execution_count": 137,
     "metadata": {},
     "output_type": "execute_result"
    }
   ],
   "source": [
    "d.sector.value_counts()"
   ]
  },
  {
   "cell_type": "code",
   "execution_count": 138,
   "metadata": {},
   "outputs": [
    {
     "data": {
      "text/plain": [
       "Level II     117942\n",
       "Level IV      93727\n",
       "Level III     64438\n",
       "Level I       62425\n",
       "Name: level, dtype: int64"
      ]
     },
     "execution_count": 138,
     "metadata": {},
     "output_type": "execute_result"
    }
   ],
   "source": [
    "d.level.value_counts()"
   ]
  },
  {
   "cell_type": "code",
   "execution_count": 139,
   "metadata": {},
   "outputs": [
    {
     "data": {
      "text/plain": [
       "0"
      ]
     },
     "execution_count": 139,
     "metadata": {},
     "output_type": "execute_result"
    }
   ],
   "source": [
    "d.level.fillna('Level II',limit=117942,inplace=True) \n",
    "d.level.fillna('Level IV',limit=93727,inplace=True) \n",
    "d.level.isnull().sum()"
   ]
  },
  {
   "cell_type": "code",
   "execution_count": 140,
   "metadata": {},
   "outputs": [],
   "source": [
    "d['continent']= d.country_of_citizenship\n",
    "d.continent=d.continent.replace({'ARMENIA':\"ASIA\",'ARMENIA':\"ASIA\",'INDIA':\"ASIA\",'SOUTH KOREA':\"ASIA\",\n",
    "                                         'PAKISTAN':\"ASIA\", 'SINGAPORE':\"ASIA\", 'RUSSIA':\"ASIA\",'JAPAN':\"ASIA\",'CHINA':\"ASIA\",\n",
    "                                         'PHILIPPINES':\"ASIA\",'TURKEY':\"ASIA\",'VIETNAM':\"ASIA\",'IRAN':\"ASIA\",\n",
    "                                         'INDONESIA':\"ASIA\",'BANGLADESH':\"ASIA\", 'MONGOLIA':\"ASIA\",'ISRAEL':\"ASIA\",\n",
    "                                         'TAIWAN':\"ASIA\",'NEPAL':\"ASIA\",'MALAYSIA':\"ASIA\", 'UNITED ARAB EMIRATES':\"ASIA\",\n",
    "                                         'SRI LANKA':\"ASIA\",'HONG KONG':\"ASIA\", 'KUWAIT':\"ASIA\",'LEBANON':\"ASIA\",\n",
    "                                         'JORDAN':\"ASIA\",'THAILAND':\"ASIA\",'BURKINA FASO':\"ASIA\",'SYRIA':\"ASIA\", 'LAOS':\"ASIA\",\n",
    "                                         'CAMBODIA':\"ASIA\",'KYRGYZSTAN':\"ASIA\", 'TURKMENISTAN':\"ASIA\", 'BURMA (MYANMAR)':\"ASIA\",\n",
    "                                         'AFGHANISTAN':\"ASIA\",'CYPRUS':\"ASIA\",'BHUTAN':\"ASIA\", 'NORTH KOREA':\"ASIA\",\n",
    "                                         'AZERBAIJAN':\"ASIA\", 'OMAN':\"ASIA\",'BAHRAIN':\"ASIA\", 'KAZAKHSTAN':\"ASIA\",\n",
    "                                         'UZBEKISTAN':\"ASIA\",'PALESTINE':\"ASIA\",'SAUDI ARABIA':\"ASIA\",'YEMEN':\"ASIA\",\n",
    "                                         'IRAQ':\"ASIA\",'TAJIKISTAN':\"ASIA\",'MALDIVES':\"ASIA\", 'MACAU':\"ASIA\",\n",
    "                                         'PALESTINIAN TERRITORIES':\"ASIA\",'QATAR':\"ASIA\",'BRUNEI':\"ASIA\"})\n",
    "d.continent=d.continent.replace({'SOUTH AFRICA':\"AFRICA\", 'CAMEROON':\"AFRICA\",'MOROCCO':\"AFRICA\",'NIGERIA':\"AFRICA\",\n",
    "                                         'EGYPT':\"AFRICA\",'KENYA':\"AFRICA\",'IVORY COAST':\"AFRICA\",'GHANA':\"AFRICA\",\n",
    "                                         'ZAMBIA':\"AFRICA\",'MALI':\"AFRICA\",'ZIMBABWE':\"AFRICA\", 'MAURITIUS':\"AFRICA\",\n",
    "                                         'SENEGAL':\"AFRICA\",'GUINEA':\"AFRICA\",'ETHIOPIA':\"AFRICA\",'TUNISIA':\"AFRICA\",\n",
    "                                         'SUDAN':\"AFRICA\",'TANZANIA':\"AFRICA\",'UGANDA':\"AFRICA\", 'LIBYA':\"AFRICA\",\n",
    "                                         'RWANDA':\"AFRICA\",'LIBERIA':\"AFRICA\",'SIERRA LEONE':\"AFRICA\",'GAMBIA':\"AFRICA\",\n",
    "                                         'TOGO':\"AFRICA\",'ANGOLA':\"AFRICA\",'LESOTHO':\"AFRICA\", 'BURUNDI':\"AFRICA\",\n",
    "                                         'GABON':\"AFRICA\", 'DEMOCRATIC REPUBLIC OF CONGO':\"AFRICA\", \n",
    "                                         'CENTRAL AFRICAN REPUBLIC':\"AFRICA\",'MADAGASCAR':\"AFRICA\",'MOZAMBIQUE':\"AFRICA\",\n",
    "                                         'BOTSWANA':\"AFRICA\",'BENIN':\"AFRICA\",'NIGER':\"AFRICA\",'ALGERIA':\"AFRICA\",\n",
    "                                         'ERITREA':\"AFRICA\",'MALAWI':\"AFRICA\", 'NAMIBIA':\"AFRICA\",'MAURITANIA':\"AFRICA\",\n",
    "                                         \"COTE d'IVOIRE\":\"AFRICA\",'SAO TOME AND PRINCIPE':\"AFRICA\",'GUINEA-BISSAU':\"AFRICA\",\n",
    "                                         'SEYCHELLES':\"AFRICA\",'SOUTH SUDAN':\"AFRICA\", 'EQUATORIAL GUINEA':\"AFRICA\",\n",
    "                                         'REPUBLIC OF CONGO':\"AFRICA\",'SOMALIA':\"AFRICA\",'SWAZILAND':\"AFRICA\",\n",
    "                                         'CAPE VERDE':\"AFRICA\",'CHAD':\"AFRICA\",'COMOROS':\"AFRICA\"})\n",
    "d.continent = d.continent.replace({'POLAND':\"EUROPE\",'SWEDEN':\"EUROPE\", 'PORTUGAL':\"EUROPE\",'SPAIN':\"EUROPE\",\n",
    "                                           'AUSTRIA':\"EUROPE\",'ITALY':\"EUROPE\", 'IRELAND':\"EUROPE\", 'BULGARIA':\"EUROPE\",\n",
    "                                           'UNITED KINGDOM':\"EUROPE\",'SLOVAKIA':\"EUROPE\",'ROMANIA':\"EUROPE\", 'UKRAINE':\"EUROPE\",\n",
    "                                           'HUNGARY':\"EUROPE\", 'MACEDONIA':\"EUROPE\",'GERMANY':\"EUROPE\",'MOLDOVA':\"EUROPE\",\n",
    "                                           'NETHERLANDS':\"EUROPE\",'GREECE':\"EUROPE\",'SERBIA AND MONTENEGRO':\"EUROPE\",\n",
    "                                           'SWITZERLAND':\"EUROPE\",'SLOVENIA':\"EUROPE\",'BELARUS':\"EUROPE\",\n",
    "                                           'CZECH REPUBLIC':\"EUROPE\",'BELGIUM':\"EUROPE\",'ALBANIA':\"EUROPE\",'ESTONIA':\"EUROPE\",\n",
    "                                           'DENMARK':\"EUROPE\",'NORWAY':\"EUROPE\",'LITHUANIA':\"EUROPE\", 'FINLAND':\"EUROPE\",\n",
    "                                           'LATVIA':\"EUROPE\",'BOSNIA AND HERZEGOVINA':\"EUROPE\",'YUGOSLAVIA':\"EUROPE\",\n",
    "                                           'CROATIA':\"EUROPE\",'MALTA':\"EUROPE\",'ICELAND':\"EUROPE\", 'KOSOVO':\"EUROPE\",\n",
    "                                           'LUXEMBOURG':\"EUROPE\",'SERBIA':\"EUROPE\",'MONTENEGRO':\"EUROPE\",'MONACO':\"EUROPE\",\n",
    "                                           'LIECHTENSTEIN':\"EUROPE\",'ANDORRA':\"EUROPE\",'SOVIET UNION':\"EUROPE\"})\n",
    "d.continent = d.continent.replace({'CANADA':\"North America\",'MEXICO':\"North America\",'VENEZUELA':\"North America\",\n",
    "                                           'EL SALVADOR':\"North America\", 'JAMAICA':\"North America\", \n",
    "                                           'TRINIDAD AND TOBAGO':\"North America\",'GUATEMALA':\"North America\",\n",
    "                                           'UNITED STATES OF AMERICA':\"North America\",'BOLIVIA':\"North America\",\n",
    "                                           'DOMINICAN REPUBLIC':\"North America\", 'FRANCE':\"North America\",\n",
    "                                           'PANAMA':\"North America\",'COSTA RICA':\"North America\",'BARBADOS':\"North America\", \n",
    "                                           'GRENADA':\"North America\", 'HONDURAS':\"North America\",'BELIZE':\"North America\",\n",
    "                                           'DOMINICA':\"North America\",'ST VINCENT':\"North America\", 'NICARAGUA':\"North America\",\n",
    "                                           'ST LUCIA':\"North America\",'URUGUAY':\"North America\",'BAHAMAS':\"North America\",\n",
    "                                           'ST KITTS AND NEVIS':\"North America\", 'HAITI':\"North America\",\n",
    "                                           'CAYMAN ISLANDS':\"North America\", 'BERMUDA':\"North America\",'ARUBA':\"North America\",\n",
    "                                           'TURKS AND CAICOS ISLANDS':\"North America\",'ANTIGUA AND BARBUDA':\"North America\",\n",
    "                                           'SAINT VINCENT AND THE GRENADINES':\"North America\",\n",
    "                                           'BRITISH VIRGIN ISLANDS':\"North America\",'CUBA':\"North America\",\n",
    "                                           'SINT MAARTEN':\"North America\"})\n",
    "d.continent = d.continent.replace({'ECUADOR':\"South America\",'COLOMBIA':\"South America\",'BRAZIL':\"South America\",\n",
    "                                           'ARGENTINA':\"South America\", 'PERU':\"South America\",'PARAGUAY':\"South America\",\n",
    "                                           'CHILE':\"South America\",'GEORGIA':\"South America\",'GUYANA':\"South America\",\n",
    "                                           'SURINAME':\"South America\", 'NETHERLANDS ANTILLES':\"South America\"})\n",
    "d.continent = d.continent.replace({'AUSTRALIA':\"Oceania\",'NEW ZEALAND':\"Oceania\",'FIJI':\"Oceania\",\n",
    "                                           'PAPUA NEW GUINEA':\"Oceania\",'VANUATU':\"Oceania\",'MARSHALL ISLANDS':\"Oceania\",\n",
    "                                           'KIRIBATI':\"Oceania\",'SAMOA':\"Oceania\"})\n"
   ]
  },
  {
   "cell_type": "code",
   "execution_count": 141,
   "metadata": {},
   "outputs": [],
   "source": [
    "\n",
    "d.continent=d.continent.replace({'ARMENIA':\"asia\",'ARMENIA':\"asia\",'INDIA':\"asia\",'SOUTH KOREA':\"asia\",\n",
    "                                         'PAKISTAN':\"asia\", 'SINGAPORE':\"asia\", 'RUSSIA':\"asia\",'JAPAN':\"asia\",'CHINA':\"asia\",\n",
    "                                         'PHILIPPINES':\"asia\",'TURKEY':\"asia\",'VIETNAM':\"asia\",'IRAN':\"asia\",\n",
    "                                         'INDONESIA':\"asia\",'BANGLADESH':\"asia\", 'MONGOLIA':\"asia\",'ISRAEL':\"asia\",\n",
    "                                         'TAIWAN':\"asia\",'NEPAL':\"asia\",'MALAYSIA':\"asia\", 'UNITED ARAB EMIRATES':\"asia\",\n",
    "                                         'SRI LANKA':\"asia\",'HONG KONG':\"asia\", 'KUWAIT':\"asia\",'LEBANON':\"asia\",\n",
    "                                         'JORDAN':\"asia\",'THAILAND':\"asia\",'BURKINA FASO':\"asia\",'SYRIA':\"asia\", 'LAOS':\"asia\",\n",
    "                                         'CAMBODIA':\"asia\",'KYRGYZSTAN':\"asia\", 'TURKMENISTAN':\"asia\", 'BURMA (MYANMAR)':\"asia\",\n",
    "                                         'AFGHANISTAN':\"asia\",'CYPRUS':\"asia\",'BHUTAN':\"asia\", 'NORTH KOREA':\"asia\",\n",
    "                                         'AZERBAIJAN':\"asia\", 'OMAN':\"asia\",'BAHRAIN':\"asia\", 'KAZAKHSTAN':\"asia\",\n",
    "                                         'UZBEKISTAN':\"asia\",'PALESTINE':\"asia\",'SAUDI ARABIA':\"asia\",'YEMEN':\"asia\",\n",
    "                                         'IRAQ':\"asia\",'TAJIKISTAN':\"asia\",'MALDIVES':\"asia\", 'MACAU':\"asia\",\n",
    "                                         'PALESTINIAN TERRITORIES':\"asia\",'QATAR':\"asia\",'BRUNEI':\"asia\"})"
   ]
  },
  {
   "cell_type": "code",
   "execution_count": 142,
   "metadata": {},
   "outputs": [],
   "source": [
    "d.continent=d.continent.replace({'SOUTH AFRICA':\"africa\", 'CAMEROON':\"africa\",'MOROCCO':\"africa\",'NIGERIA':\"africa\",\n",
    "                                         'EGYPT':\"africa\",'KENYA':\"africa\",'IVORY COAST':\"africa\",'GHANA':\"africa\",\n",
    "                                         'ZAMBIA':\"africa\",'MALI':\"africa\",'ZIMBABWE':\"africa\", 'MAURITIUS':\"africa\",\n",
    "                                         'SENEGAL':\"africa\",'GUINEA':\"africa\",'ETHIOPIA':\"africa\",'TUNISIA':\"africa\",\n",
    "                                         'SUDAN':\"africa\",'TANZANIA':\"africa\",'UGANDA':\"africa\", 'LIBYA':\"africa\",\n",
    "                                         'RWANDA':\"africa\",'LIBERIA':\"africa\",'SIERRA LEONE':\"africa\",'GAMBIA':\"africa\",\n",
    "                                         'TOGO':\"africa\",'ANGOLA':\"africa\",'LESOTHO':\"africa\", 'BURUNDI':\"africa\",\n",
    "                                         'GABON':\"africa\", 'DEMOCRATIC REPUBLIC OF CONGO':\"africa\", \n",
    "                                         'CENTRAL AFRICAN REPUBLIC':\"africa\",'MADAGASCAR':\"africa\",'MOZAMBIQUE':\"africa\",\n",
    "                                         'BOTSWANA':\"africa\",'BENIN':\"africa\",'NIGER':\"africa\",'ALGERIA':\"africa\",\n",
    "                                         'ERITREA':\"africa\",'MALAWI':\"africa\", 'NAMIBIA':\"africa\",'MAURITANIA':\"africa\",\n",
    "                                         \"COTE d'IVOIRE\":\"africa\",'SAO TOME AND PRINCIPE':\"africa\",'GUINEA-BISSAU':\"africa\",\n",
    "                                         'SEYCHELLES':\"africa\",'SOUTH SUDAN':\"africa\", 'EQUATORIAL GUINEA':\"africa\",\n",
    "                                         'REPUBLIC OF CONGO':\"africa\",'SOMALIA':\"africa\",'SWAZILAND':\"africa\",\n",
    "                                         'CAPE VERDE':\"africa\",'CHAD':\"africa\",'COMOROS':\"africa\"})"
   ]
  },
  {
   "cell_type": "code",
   "execution_count": 143,
   "metadata": {},
   "outputs": [],
   "source": [
    "d.continent = d.continent.replace({'POLAND':\"europe\",'SWEDEN':\"europe\", 'PORTUGAL':\"europe\",'SPAIN':\"europe\",\n",
    "                                           'AUSTRIA':\"europe\",'ITALY':\"europe\", 'IRELAND':\"europe\", 'BULGARIA':\"europe\",\n",
    "                                           'UNITED KINGDOM':\"europe\",'SLOVAKIA':\"europe\",'ROMANIA':\"europe\", 'UKRAINE':\"europe\",\n",
    "                                           'HUNGARY':\"europe\", 'MACEDONIA':\"europe\",'GERMANY':\"europe\",'MOLDOVA':\"europe\",\n",
    "                                           'NETHERLANDS':\"europe\",'GREECE':\"europe\",'SERBIA AND MONTENEGRO':\"europe\",\n",
    "                                           'SWITZERLAND':\"europe\",'SLOVENIA':\"europe\",'BELARUS':\"europe\",\n",
    "                                           'CZECH REPUBLIC':\"europe\",'BELGIUM':\"europe\",'ALBANIA':\"europe\",'ESTONIA':\"europe\",\n",
    "                                           'DENMARK':\"europe\",'NORWAY':\"europe\",'LITHUANIA':\"europe\", 'FINLAND':\"europe\",\n",
    "                                           'LATVIA':\"europe\",'BOSNIA AND HERZEGOVINA':\"europe\",'YUGOSLAVIA':\"europe\",\n",
    "                                           'CROATIA':\"europe\",'MALTA':\"europe\",'ICELAND':\"europe\", 'KOSOVO':\"europe\",\n",
    "                                           'LUXEMBOURG':\"europe\",'SERBIA':\"europe\",'MONTENEGRO':\"europe\",'MONACO':\"europe\",\n",
    "                                           'LIECHTENSTEIN':\"europe\",'ANDORRA':\"europe\",'SOVIET UNION':\"europe\"})"
   ]
  },
  {
   "cell_type": "code",
   "execution_count": 144,
   "metadata": {},
   "outputs": [],
   "source": [
    "d.continent = d.continent.replace({'CANADA':\"North America\",'MEXICO':\"North America\",'VENEZUELA':\"North America\",\n",
    "                                           'EL SALVADOR':\"North America\", 'JAMAICA':\"North America\", \n",
    "                                           'TRINIDAD AND TOBAGO':\"North America\",'GUATEMALA':\"North America\",\n",
    "                                           'UNITED STATES OF AMERICA':\"North America\",'BOLIVIA':\"North America\",\n",
    "                                           'DOMINICAN REPUBLIC':\"North America\", 'FRANCE':\"North America\",\n",
    "                                           'PANAMA':\"North America\",'COSTA RICA':\"North America\",'BARBADOS':\"North America\", \n",
    "                                           'GRENADA':\"North America\", 'HONDURAS':\"North America\",'BELIZE':\"North America\",\n",
    "                                           'DOMINICA':\"North America\",'ST VINCENT':\"North America\", 'NICARAGUA':\"North America\",\n",
    "                                           'ST LUCIA':\"North America\",'URUGUAY':\"North America\",'BAHAMAS':\"North America\",\n",
    "                                           'ST KITTS AND NEVIS':\"North America\", 'HAITI':\"North America\",\n",
    "                                           'CAYMAN ISLANDS':\"North America\", 'BERMUDA':\"North America\",'ARUBA':\"North America\",\n",
    "                                           'TURKS AND CAICOS ISLANDS':\"North America\",'ANTIGUA AND BARBUDA':\"North America\",\n",
    "                                           'SAINT VINCENT AND THE GRENADINES':\"North America\",\n",
    "                                           'BRITISH VIRGIN ISLANDS':\"North America\",'CUBA':\"North America\",\n",
    "                                           'SINT MAARTEN':\"North America\"})"
   ]
  },
  {
   "cell_type": "code",
   "execution_count": 145,
   "metadata": {},
   "outputs": [],
   "source": [
    "d.continent = d.continent.replace({'ECUADOR':\"South America\",'COLOMBIA':\"South America\",'BRAZIL':\"South America\",\n",
    "                                           'ARGENTINA':\"South America\", 'PERU':\"South America\",'PARAGUAY':\"South America\",\n",
    "                                           'CHILE':\"South America\",'GEORGIA':\"South America\",'GUYANA':\"South America\",\n",
    "                                           'SURINAME':\"South America\", 'NETHERLANDS ANTILLES':\"South America\"})"
   ]
  },
  {
   "cell_type": "code",
   "execution_count": 146,
   "metadata": {},
   "outputs": [],
   "source": [
    "d.continent = d.continent.replace({'AUSTRALIA':\"Oceania\",'NEW ZEALAND':\"Oceania\",'FIJI':\"Oceania\",\n",
    "                                           'PAPUA NEW GUINEA':\"Oceania\",'VANUATU':\"Oceania\",'MARSHALL ISLANDS':\"Oceania\",\n",
    "                                           'KIRIBATI':\"Oceania\",'SAMOA':\"Oceania\"})\n"
   ]
  },
  {
   "cell_type": "code",
   "execution_count": 147,
   "metadata": {},
   "outputs": [
    {
     "data": {
      "text/plain": [
       "ASIA             294092\n",
       "North America     34066\n",
       "EUROPE            21811\n",
       "South America      8239\n",
       "AFRICA             5305\n",
       "Oceania            2114\n",
       "Name: continent, dtype: int64"
      ]
     },
     "execution_count": 147,
     "metadata": {},
     "output_type": "execute_result"
    }
   ],
   "source": [
    "d.continent.value_counts()"
   ]
  },
  {
   "cell_type": "code",
   "execution_count": 148,
   "metadata": {},
   "outputs": [],
   "source": [
    "d.continent.replace('asia','Asia',inplace=True)\n",
    "d.continent.replace('europe','Europe',inplace=True)\n",
    "d.continent.replace('africa','Africa',inplace=True)"
   ]
  },
  {
   "cell_type": "code",
   "execution_count": 149,
   "metadata": {},
   "outputs": [
    {
     "data": {
      "text/plain": [
       "ASIA             294092\n",
       "North America     34066\n",
       "EUROPE            21811\n",
       "South America      8239\n",
       "AFRICA             5305\n",
       "Oceania            2114\n",
       "Name: continent, dtype: int64"
      ]
     },
     "execution_count": 149,
     "metadata": {},
     "output_type": "execute_result"
    }
   ],
   "source": [
    "d.continent.value_counts()"
   ]
  },
  {
   "cell_type": "code",
   "execution_count": 150,
   "metadata": {},
   "outputs": [
    {
     "data": {
      "text/plain": [
       "agent_state                           0\n",
       "application_type                  95089\n",
       "case_status                           0\n",
       "class_of_admission                    0\n",
       "country_of_citizenship                0\n",
       "employer_num_employees                0\n",
       "employer_yr_estab                     0\n",
       "employer_city                         0\n",
       "employer_name                         0\n",
       "employer_state                        0\n",
       "foreign_worker_info_education         0\n",
       "foreign_worker_info_major             0\n",
       "job_experience                        0\n",
       "job_training                          0\n",
       "job_work_state                        0\n",
       "pv_unit_of_pay_9089                   0\n",
       "level                                 0\n",
       "source_name                           0\n",
       "sector                           115642\n",
       "case_received_date_year               0\n",
       "decision_date_year                    0\n",
       "meansal                               0\n",
       "Enterprise_Size                       0\n",
       "continent                             0\n",
       "dtype: int64"
      ]
     },
     "execution_count": 150,
     "metadata": {},
     "output_type": "execute_result"
    }
   ],
   "source": [
    "d.isnull().sum()"
   ]
  },
  {
   "cell_type": "markdown",
   "metadata": {},
   "source": [
    "#### The unknown level of job has the highest salary!"
   ]
  },
  {
   "cell_type": "markdown",
   "metadata": {},
   "source": [
    "#### Visualizing the columns"
   ]
  },
  {
   "cell_type": "code",
   "execution_count": 151,
   "metadata": {},
   "outputs": [
    {
     "data": {
      "text/plain": [
       "<matplotlib.axes._subplots.AxesSubplot at 0x1738094d940>"
      ]
     },
     "execution_count": 151,
     "metadata": {},
     "output_type": "execute_result"
    },
    {
     "data": {
      "image/png": "[encoded data removed]",
      "text/plain": [
       "<Figure size 432x288 with 1 Axes>"
      ]
     },
     "metadata": {
      "needs_background": "light"
     },
     "output_type": "display_data"
    }
   ],
   "source": [
    "sns.barplot(d.level,d.meansal)"
   ]
  },
  {
   "cell_type": "markdown",
   "metadata": {},
   "source": [
    "### Level 2 has highest salary"
   ]
  },
  {
   "cell_type": "code",
   "execution_count": 152,
   "metadata": {},
   "outputs": [
    {
     "data": {
      "text/plain": [
       "<matplotlib.axes._subplots.AxesSubplot at 0x17380963f60>"
      ]
     },
     "execution_count": 152,
     "metadata": {},
     "output_type": "execute_result"
    },
    {
     "data": {
      "image/png": "[encoded data removed]",
      "text/plain": [
       "<Figure size 432x288 with 1 Axes>"
      ]
     },
     "metadata": {
      "needs_background": "light"
     },
     "output_type": "display_data"
    }
   ],
   "source": [
    "sns.boxplot(d.level,d.meansal)"
   ]
  },
  {
   "cell_type": "code",
   "execution_count": 153,
   "metadata": {},
   "outputs": [
    {
     "data": {
      "image/png": "[encoded data removed]",
      "text/plain": [
       "<Figure size 432x288 with 1 Axes>"
      ]
     },
     "metadata": {
      "needs_background": "light"
     },
     "output_type": "display_data"
    }
   ],
   "source": [
    "sns.boxplot(d.meansal)\n",
    "plt.show()"
   ]
  },
  {
   "cell_type": "code",
   "execution_count": 154,
   "metadata": {},
   "outputs": [
    {
     "data": {
      "image/png": "[encoded data removed]",
      "text/plain": [
       "<Figure size 432x288 with 1 Axes>"
      ]
     },
     "metadata": {
      "needs_background": "light"
     },
     "output_type": "display_data"
    }
   ],
   "source": [
    "sns.boxplot(np.log(d.meansal))\n",
    "plt.show()"
   ]
  },
  {
   "cell_type": "markdown",
   "metadata": {},
   "source": [
    "#### We have many outliers in the meansal column."
   ]
  },
  {
   "cell_type": "code",
   "execution_count": 155,
   "metadata": {},
   "outputs": [
    {
     "data": {
      "image/png": "[encoded data removed]",
      "text/plain": [
       "<Figure size 720x360 with 1 Axes>"
      ]
     },
     "metadata": {
      "needs_background": "light"
     },
     "output_type": "display_data"
    }
   ],
   "source": [
    "plt.figure(figsize=(10,5))\n",
    "sns.barplot(d.sector,d.meansal)\n",
    "plt.xticks(rotation=90)\n",
    "plt.show()"
   ]
  },
  {
   "cell_type": "code",
   "execution_count": 156,
   "metadata": {},
   "outputs": [
    {
     "data": {
      "image/png": "[encoded data removed]",
      "text/plain": [
       "<Figure size 720x360 with 1 Axes>"
      ]
     },
     "metadata": {
      "needs_background": "light"
     },
     "output_type": "display_data"
    }
   ],
   "source": [
    "plt.figure(figsize=(10,5))\n",
    "sns.barplot(d.foreign_worker_info_major,d.meansal)\n",
    "plt.xticks(rotation=90)\n",
    "plt.show()"
   ]
  },
  {
   "cell_type": "code",
   "execution_count": 157,
   "metadata": {},
   "outputs": [],
   "source": [
    "q1=70387\n",
    "q3=107910.9\n",
    "iqr=round(q3-q1,2)\n",
    "iqr\n",
    "work=d[['meansal','foreign_worker_info_major']][(d.meansal<q1-1.5*(iqr)) | (d.meansal > q3+1.5*(iqr))]"
   ]
  },
  {
   "cell_type": "code",
   "execution_count": 158,
   "metadata": {},
   "outputs": [
    {
     "data": {
      "text/plain": [
       "Engineer                   4488\n",
       "Medicine                   3318\n",
       "Other                      2290\n",
       "Computer Applications      2005\n",
       "Information Technology     1845\n",
       "Business Administration     850\n",
       "Economics                   226\n",
       "Information Systems         109\n",
       "Accounting                  103\n",
       "Mathematics                  95\n",
       "Physics                      37\n",
       "Name: foreign_worker_info_major, dtype: int64"
      ]
     },
     "execution_count": 158,
     "metadata": {},
     "output_type": "execute_result"
    }
   ],
   "source": [
    "work.foreign_worker_info_major.value_counts()    # no. of outliers from each field"
   ]
  },
  {
   "cell_type": "code",
   "execution_count": 159,
   "metadata": {},
   "outputs": [
    {
     "data": {
      "image/png": "[encoded data removed]",
      "text/plain": [
       "<Figure size 720x360 with 1 Axes>"
      ]
     },
     "metadata": {
      "needs_background": "light"
     },
     "output_type": "display_data"
    }
   ],
   "source": [
    "plt.figure(figsize=(10,5))\n",
    "sns.boxplot(work.foreign_worker_info_major,work.meansal,whis=5.5)\n",
    "plt.xticks(rotation=90)\n",
    "plt.show()"
   ]
  },
  {
   "cell_type": "code",
   "execution_count": 160,
   "metadata": {},
   "outputs": [],
   "source": [
    "engin=d[d.foreign_worker_info_major=='Engineer']"
   ]
  },
  {
   "cell_type": "code",
   "execution_count": 161,
   "metadata": {},
   "outputs": [
    {
     "data": {
      "image/png": "[encoded data removed]",
      "text/plain": [
       "<Figure size 432x288 with 1 Axes>"
      ]
     },
     "metadata": {
      "needs_background": "light"
     },
     "output_type": "display_data"
    }
   ],
   "source": [
    "sns.boxplot(engin.meansal,whis=6.5)\n",
    "plt.show()"
   ]
  },
  {
   "cell_type": "markdown",
   "metadata": {},
   "source": [
    "### Economic Sector and Healthcare have highest salaries in terms of sector"
   ]
  },
  {
   "cell_type": "code",
   "execution_count": 162,
   "metadata": {},
   "outputs": [
    {
     "data": {
      "text/plain": [
       "<matplotlib.axes._subplots.AxesSubplot at 0x173816f9978>"
      ]
     },
     "execution_count": 162,
     "metadata": {},
     "output_type": "execute_result"
    },
    {
     "data": {
      "image/png": "[encoded data removed]",
      "text/plain": [
       "<Figure size 432x288 with 1 Axes>"
      ]
     },
     "metadata": {
      "needs_background": "light"
     },
     "output_type": "display_data"
    }
   ],
   "source": [
    "sns.barplot(d.decision_date_year,d.meansal)"
   ]
  },
  {
   "cell_type": "markdown",
   "metadata": {},
   "source": [
    "### In year 2012 and 2013 , employees had highest wages"
   ]
  },
  {
   "cell_type": "code",
   "execution_count": 163,
   "metadata": {},
   "outputs": [
    {
     "data": {
      "image/png": "[encoded data removed]",
      "text/plain": [
       "<Figure size 720x360 with 1 Axes>"
      ]
     },
     "metadata": {
      "needs_background": "light"
     },
     "output_type": "display_data"
    }
   ],
   "source": [
    "plt.figure(figsize=(10,5))\n",
    "sns.barplot(d.source_name,d.meansal)\n",
    "plt.xticks(rotation=90)\n",
    "plt.show()"
   ]
  },
  {
   "cell_type": "markdown",
   "metadata": {},
   "source": [
    "### Applications with source_name DBA have highest salary"
   ]
  },
  {
   "cell_type": "code",
   "execution_count": 164,
   "metadata": {},
   "outputs": [
    {
     "data": {
      "image/png": "[encoded data removed]",
      "text/plain": [
       "<Figure size 720x360 with 1 Axes>"
      ]
     },
     "metadata": {
      "needs_background": "light"
     },
     "output_type": "display_data"
    }
   ],
   "source": [
    "plt.figure(figsize=(10,5))\n",
    "sns.barplot(d.employer_state,d.meansal)\n",
    "plt.xticks(rotation=90)\n",
    "plt.show()"
   ]
  },
  {
   "cell_type": "code",
   "execution_count": 165,
   "metadata": {},
   "outputs": [
    {
     "data": {
      "text/plain": [
       "Index(['agent_state', 'application_type', 'case_status', 'class_of_admission',\n",
       "       'country_of_citizenship', 'employer_yr_estab', 'employer_city',\n",
       "       'employer_name', 'employer_state', 'foreign_worker_info_education',\n",
       "       'foreign_worker_info_major', 'job_experience', 'job_training',\n",
       "       'job_work_state', 'pv_unit_of_pay_9089', 'level', 'source_name',\n",
       "       'sector', 'case_received_date_year', 'decision_date_year', 'meansal',\n",
       "       'Enterprise_Size', 'continent'],\n",
       "      dtype='object')"
      ]
     },
     "execution_count": 165,
     "metadata": {},
     "output_type": "execute_result"
    }
   ],
   "source": [
    "d.drop('employer_num_employees',axis=1,inplace=True)\n",
    "d.columns"
   ]
  },
  {
   "cell_type": "code",
   "execution_count": 166,
   "metadata": {},
   "outputs": [
    {
     "data": {
      "image/png": "[encoded data removed]",
      "text/plain": [
       "<Figure size 720x360 with 1 Axes>"
      ]
     },
     "metadata": {
      "needs_background": "light"
     },
     "output_type": "display_data"
    }
   ],
   "source": [
    "plt.figure(figsize=(10,5))\n",
    "sns.barplot(d.case_status,d.meansal)\n",
    "plt.xticks(rotation=90)\n",
    "plt.show()"
   ]
  },
  {
   "cell_type": "markdown",
   "metadata": {},
   "source": [
    "### Applicants with very high salary in their own country were denied the most for visa"
   ]
  },
  {
   "cell_type": "code",
   "execution_count": 167,
   "metadata": {},
   "outputs": [
    {
     "data": {
      "image/png": "[encoded data removed]",
      "text/plain": [
       "<Figure size 720x360 with 1 Axes>"
      ]
     },
     "metadata": {
      "needs_background": "light"
     },
     "output_type": "display_data"
    }
   ],
   "source": [
    "plt.figure(figsize=(10,5))\n",
    "sns.barplot(d.class_of_admission,d.meansal)\n",
    "plt.xticks(rotation=90)\n",
    "plt.show()"
   ]
  },
  {
   "cell_type": "code",
   "execution_count": 168,
   "metadata": {},
   "outputs": [
    {
     "data": {
      "image/png": "[encoded data removed]",
      "text/plain": [
       "<Figure size 720x360 with 1 Axes>"
      ]
     },
     "metadata": {
      "needs_background": "light"
     },
     "output_type": "display_data"
    }
   ],
   "source": [
    "plt.figure(figsize=(10,5))\n",
    "sns.barplot(d.Enterprise_Size,d.meansal)\n",
    "plt.xticks(rotation=90)\n",
    "plt.show()"
   ]
  },
  {
   "cell_type": "markdown",
   "metadata": {},
   "source": [
    "### It has no effect on salary"
   ]
  },
  {
   "cell_type": "code",
   "execution_count": 169,
   "metadata": {},
   "outputs": [
    {
     "data": {
      "image/png": "[encoded data removed]",
      "text/plain": [
       "<Figure size 720x360 with 1 Axes>"
      ]
     },
     "metadata": {
      "needs_background": "light"
     },
     "output_type": "display_data"
    }
   ],
   "source": [
    "plt.figure(figsize=(10,5))\n",
    "sns.barplot(d.foreign_worker_info_education,d.meansal)\n",
    "plt.xticks(rotation=90)\n",
    "plt.show()"
   ]
  },
  {
   "cell_type": "code",
   "execution_count": 170,
   "metadata": {},
   "outputs": [
    {
     "data": {
      "text/html": [
       "<div>\n",
       "<style scoped>\n",
       "    .dataframe tbody tr th:only-of-type {\n",
       "        vertical-align: middle;\n",
       "    }\n",
       "\n",
       "    .dataframe tbody tr th {\n",
       "        vertical-align: top;\n",
       "    }\n",
       "\n",
       "    .dataframe thead th {\n",
       "        text-align: right;\n",
       "    }\n",
       "</style>\n",
       "<table border=\"1\" class=\"dataframe\">\n",
       "  <thead>\n",
       "    <tr style=\"text-align: right;\">\n",
       "      <th>source_name</th>\n",
       "      <th>CBA</th>\n",
       "      <th>DBA</th>\n",
       "      <th>Employer Conducted</th>\n",
       "      <th>OES</th>\n",
       "      <th>Other</th>\n",
       "      <th>SCA</th>\n",
       "    </tr>\n",
       "    <tr>\n",
       "      <th>case_status</th>\n",
       "      <th></th>\n",
       "      <th></th>\n",
       "      <th></th>\n",
       "      <th></th>\n",
       "      <th></th>\n",
       "      <th></th>\n",
       "    </tr>\n",
       "  </thead>\n",
       "  <tbody>\n",
       "    <tr>\n",
       "      <th>Certified</th>\n",
       "      <td>1472</td>\n",
       "      <td>0</td>\n",
       "      <td>117</td>\n",
       "      <td>163531</td>\n",
       "      <td>12866</td>\n",
       "      <td>14</td>\n",
       "    </tr>\n",
       "    <tr>\n",
       "      <th>Certified-Expired</th>\n",
       "      <td>1285</td>\n",
       "      <td>0</td>\n",
       "      <td>94</td>\n",
       "      <td>133152</td>\n",
       "      <td>10327</td>\n",
       "      <td>8</td>\n",
       "    </tr>\n",
       "    <tr>\n",
       "      <th>Denied</th>\n",
       "      <td>629</td>\n",
       "      <td>24</td>\n",
       "      <td>296</td>\n",
       "      <td>22846</td>\n",
       "      <td>1229</td>\n",
       "      <td>45</td>\n",
       "    </tr>\n",
       "    <tr>\n",
       "      <th>Withdrawn</th>\n",
       "      <td>198</td>\n",
       "      <td>0</td>\n",
       "      <td>26</td>\n",
       "      <td>16403</td>\n",
       "      <td>1057</td>\n",
       "      <td>8</td>\n",
       "    </tr>\n",
       "  </tbody>\n",
       "</table>\n",
       "</div>"
      ],
      "text/plain": [
       "source_name         CBA  DBA  Employer Conducted     OES  Other  SCA\n",
       "case_status                                                         \n",
       "Certified          1472    0                 117  163531  12866   14\n",
       "Certified-Expired  1285    0                  94  133152  10327    8\n",
       "Denied              629   24                 296   22846   1229   45\n",
       "Withdrawn           198    0                  26   16403   1057    8"
      ]
     },
     "execution_count": 170,
     "metadata": {},
     "output_type": "execute_result"
    }
   ],
   "source": [
    "pd.crosstab(d.case_status,d.source_name)"
   ]
  },
  {
   "cell_type": "code",
   "execution_count": 171,
   "metadata": {},
   "outputs": [
    {
     "data": {
      "text/html": [
       "<div>\n",
       "<style scoped>\n",
       "    .dataframe tbody tr th:only-of-type {\n",
       "        vertical-align: middle;\n",
       "    }\n",
       "\n",
       "    .dataframe tbody tr th {\n",
       "        vertical-align: top;\n",
       "    }\n",
       "\n",
       "    .dataframe thead th {\n",
       "        text-align: right;\n",
       "    }\n",
       "</style>\n",
       "<table border=\"1\" class=\"dataframe\">\n",
       "  <thead>\n",
       "    <tr style=\"text-align: right;\">\n",
       "      <th></th>\n",
       "      <th>agent_state</th>\n",
       "      <th>application_type</th>\n",
       "      <th>case_status</th>\n",
       "      <th>class_of_admission</th>\n",
       "      <th>country_of_citizenship</th>\n",
       "      <th>employer_yr_estab</th>\n",
       "      <th>employer_city</th>\n",
       "      <th>employer_name</th>\n",
       "      <th>employer_state</th>\n",
       "      <th>foreign_worker_info_education</th>\n",
       "      <th>...</th>\n",
       "      <th>job_work_state</th>\n",
       "      <th>pv_unit_of_pay_9089</th>\n",
       "      <th>level</th>\n",
       "      <th>source_name</th>\n",
       "      <th>sector</th>\n",
       "      <th>case_received_date_year</th>\n",
       "      <th>decision_date_year</th>\n",
       "      <th>meansal</th>\n",
       "      <th>Enterprise_Size</th>\n",
       "      <th>continent</th>\n",
       "    </tr>\n",
       "  </thead>\n",
       "  <tbody>\n",
       "    <tr>\n",
       "      <th>0</th>\n",
       "      <td>West</td>\n",
       "      <td>PERM</td>\n",
       "      <td>Certified</td>\n",
       "      <td>J</td>\n",
       "      <td>ARMENIA</td>\n",
       "      <td>New</td>\n",
       "      <td>NEW YORK</td>\n",
       "      <td>NETSOFT USA INC.</td>\n",
       "      <td>Northeast</td>\n",
       "      <td>Master's</td>\n",
       "      <td>...</td>\n",
       "      <td>Northeast</td>\n",
       "      <td>Year</td>\n",
       "      <td>Level II</td>\n",
       "      <td>OES</td>\n",
       "      <td>IT</td>\n",
       "      <td>2007</td>\n",
       "      <td>2012</td>\n",
       "      <td>75629.000</td>\n",
       "      <td>Large</td>\n",
       "      <td>ASIA</td>\n",
       "    </tr>\n",
       "    <tr>\n",
       "      <th>1</th>\n",
       "      <td>West</td>\n",
       "      <td>PERM</td>\n",
       "      <td>Denied</td>\n",
       "      <td>B</td>\n",
       "      <td>POLAND</td>\n",
       "      <td>New</td>\n",
       "      <td>CARLSTADT</td>\n",
       "      <td>PINNACLE ENVIRONEMNTAL CORP</td>\n",
       "      <td>Northeast</td>\n",
       "      <td>Master's</td>\n",
       "      <td>...</td>\n",
       "      <td>Northeast</td>\n",
       "      <td>Year</td>\n",
       "      <td>Level I</td>\n",
       "      <td>OES</td>\n",
       "      <td>Other Economic Sector</td>\n",
       "      <td>2007</td>\n",
       "      <td>2011</td>\n",
       "      <td>37024.000</td>\n",
       "      <td>Large</td>\n",
       "      <td>EUROPE</td>\n",
       "    </tr>\n",
       "    <tr>\n",
       "      <th>2</th>\n",
       "      <td>West</td>\n",
       "      <td>PERM</td>\n",
       "      <td>Certified</td>\n",
       "      <td>H-1B</td>\n",
       "      <td>INDIA</td>\n",
       "      <td>New</td>\n",
       "      <td>GLEN ALLEN</td>\n",
       "      <td>SCHNABEL ENGINEERING, INC.</td>\n",
       "      <td>South</td>\n",
       "      <td>Master's</td>\n",
       "      <td>...</td>\n",
       "      <td>South</td>\n",
       "      <td>Year</td>\n",
       "      <td>Level I</td>\n",
       "      <td>OES</td>\n",
       "      <td>Aerospace</td>\n",
       "      <td>2007</td>\n",
       "      <td>2011</td>\n",
       "      <td>47923.000</td>\n",
       "      <td>Large</td>\n",
       "      <td>ASIA</td>\n",
       "    </tr>\n",
       "    <tr>\n",
       "      <th>3</th>\n",
       "      <td>West</td>\n",
       "      <td>PERM</td>\n",
       "      <td>Certified</td>\n",
       "      <td>B</td>\n",
       "      <td>SOUTH KOREA</td>\n",
       "      <td>New</td>\n",
       "      <td>FLUSHING</td>\n",
       "      <td>EBENEZER MISSION CHURCH</td>\n",
       "      <td>Northeast</td>\n",
       "      <td>Master's</td>\n",
       "      <td>...</td>\n",
       "      <td>Northeast</td>\n",
       "      <td>Year</td>\n",
       "      <td>Level II</td>\n",
       "      <td>OES</td>\n",
       "      <td>Other Economic Sector</td>\n",
       "      <td>2007</td>\n",
       "      <td>2011</td>\n",
       "      <td>10975.485</td>\n",
       "      <td>Large</td>\n",
       "      <td>ASIA</td>\n",
       "    </tr>\n",
       "    <tr>\n",
       "      <th>4</th>\n",
       "      <td>West</td>\n",
       "      <td>PERM</td>\n",
       "      <td>Certified</td>\n",
       "      <td>L</td>\n",
       "      <td>CANADA</td>\n",
       "      <td>New</td>\n",
       "      <td>ALBANY</td>\n",
       "      <td>ALBANY INTERNATIONAL CORP.</td>\n",
       "      <td>Northeast</td>\n",
       "      <td>Master's</td>\n",
       "      <td>...</td>\n",
       "      <td>Northeast</td>\n",
       "      <td>Year</td>\n",
       "      <td>Level IV</td>\n",
       "      <td>OES</td>\n",
       "      <td>Advanced Mfg</td>\n",
       "      <td>2007</td>\n",
       "      <td>2012</td>\n",
       "      <td>97445.000</td>\n",
       "      <td>Large</td>\n",
       "      <td>North America</td>\n",
       "    </tr>\n",
       "  </tbody>\n",
       "</table>\n",
       "<p>5 rows × 23 columns</p>\n",
       "</div>"
      ],
      "text/plain": [
       "  agent_state application_type case_status class_of_admission  \\\n",
       "0        West             PERM   Certified                  J   \n",
       "1        West             PERM      Denied                  B   \n",
       "2        West             PERM   Certified               H-1B   \n",
       "3        West             PERM   Certified                  B   \n",
       "4        West             PERM   Certified                  L   \n",
       "\n",
       "  country_of_citizenship employer_yr_estab employer_city  \\\n",
       "0                ARMENIA               New      NEW YORK   \n",
       "1                 POLAND               New     CARLSTADT   \n",
       "2                  INDIA               New    GLEN ALLEN   \n",
       "3            SOUTH KOREA               New      FLUSHING   \n",
       "4                 CANADA               New        ALBANY   \n",
       "\n",
       "                 employer_name employer_state foreign_worker_info_education  \\\n",
       "0             NETSOFT USA INC.      Northeast                      Master's   \n",
       "1  PINNACLE ENVIRONEMNTAL CORP      Northeast                      Master's   \n",
       "2   SCHNABEL ENGINEERING, INC.          South                      Master's   \n",
       "3      EBENEZER MISSION CHURCH      Northeast                      Master's   \n",
       "4   ALBANY INTERNATIONAL CORP.      Northeast                      Master's   \n",
       "\n",
       "   ... job_work_state pv_unit_of_pay_9089     level source_name  \\\n",
       "0  ...      Northeast                Year  Level II         OES   \n",
       "1  ...      Northeast                Year   Level I         OES   \n",
       "2  ...          South                Year   Level I         OES   \n",
       "3  ...      Northeast                Year  Level II         OES   \n",
       "4  ...      Northeast                Year  Level IV         OES   \n",
       "\n",
       "                  sector case_received_date_year decision_date_year  \\\n",
       "0                     IT                    2007               2012   \n",
       "1  Other Economic Sector                    2007               2011   \n",
       "2              Aerospace                    2007               2011   \n",
       "3  Other Economic Sector                    2007               2011   \n",
       "4           Advanced Mfg                    2007               2012   \n",
       "\n",
       "     meansal  Enterprise_Size      continent  \n",
       "0  75629.000            Large           ASIA  \n",
       "1  37024.000            Large         EUROPE  \n",
       "2  47923.000            Large           ASIA  \n",
       "3  10975.485            Large           ASIA  \n",
       "4  97445.000            Large  North America  \n",
       "\n",
       "[5 rows x 23 columns]"
      ]
     },
     "execution_count": 171,
     "metadata": {},
     "output_type": "execute_result"
    }
   ],
   "source": [
    "d.head()"
   ]
  },
  {
   "cell_type": "code",
   "execution_count": 172,
   "metadata": {},
   "outputs": [
    {
     "data": {
      "text/html": [
       "<div>\n",
       "<style scoped>\n",
       "    .dataframe tbody tr th:only-of-type {\n",
       "        vertical-align: middle;\n",
       "    }\n",
       "\n",
       "    .dataframe tbody tr th {\n",
       "        vertical-align: top;\n",
       "    }\n",
       "\n",
       "    .dataframe thead th {\n",
       "        text-align: right;\n",
       "    }\n",
       "</style>\n",
       "<table border=\"1\" class=\"dataframe\">\n",
       "  <thead>\n",
       "    <tr style=\"text-align: right;\">\n",
       "      <th>class_of_admission</th>\n",
       "      <th>A</th>\n",
       "      <th>AOS</th>\n",
       "      <th>B</th>\n",
       "      <th>C</th>\n",
       "      <th>D-1</th>\n",
       "      <th>E</th>\n",
       "      <th>EWI</th>\n",
       "      <th>F</th>\n",
       "      <th>G</th>\n",
       "      <th>H-1B</th>\n",
       "      <th>...</th>\n",
       "      <th>R</th>\n",
       "      <th>T-1</th>\n",
       "      <th>TD</th>\n",
       "      <th>TN</th>\n",
       "      <th>TPS</th>\n",
       "      <th>U-1</th>\n",
       "      <th>Unavailable</th>\n",
       "      <th>V-2</th>\n",
       "      <th>VWB</th>\n",
       "      <th>VWT</th>\n",
       "    </tr>\n",
       "    <tr>\n",
       "      <th>case_status</th>\n",
       "      <th></th>\n",
       "      <th></th>\n",
       "      <th></th>\n",
       "      <th></th>\n",
       "      <th></th>\n",
       "      <th></th>\n",
       "      <th></th>\n",
       "      <th></th>\n",
       "      <th></th>\n",
       "      <th></th>\n",
       "      <th></th>\n",
       "      <th></th>\n",
       "      <th></th>\n",
       "      <th></th>\n",
       "      <th></th>\n",
       "      <th></th>\n",
       "      <th></th>\n",
       "      <th></th>\n",
       "      <th></th>\n",
       "      <th></th>\n",
       "      <th></th>\n",
       "    </tr>\n",
       "  </thead>\n",
       "  <tbody>\n",
       "    <tr>\n",
       "      <th>Certified</th>\n",
       "      <td>66</td>\n",
       "      <td>2</td>\n",
       "      <td>1529</td>\n",
       "      <td>17</td>\n",
       "      <td>1</td>\n",
       "      <td>2688</td>\n",
       "      <td>507</td>\n",
       "      <td>7780</td>\n",
       "      <td>84</td>\n",
       "      <td>137853</td>\n",
       "      <td>...</td>\n",
       "      <td>56</td>\n",
       "      <td>1</td>\n",
       "      <td>9</td>\n",
       "      <td>2193</td>\n",
       "      <td>93</td>\n",
       "      <td>0</td>\n",
       "      <td>12786</td>\n",
       "      <td>1</td>\n",
       "      <td>5</td>\n",
       "      <td>18</td>\n",
       "    </tr>\n",
       "    <tr>\n",
       "      <th>Certified-Expired</th>\n",
       "      <td>52</td>\n",
       "      <td>1</td>\n",
       "      <td>1076</td>\n",
       "      <td>10</td>\n",
       "      <td>2</td>\n",
       "      <td>1928</td>\n",
       "      <td>547</td>\n",
       "      <td>5440</td>\n",
       "      <td>65</td>\n",
       "      <td>115167</td>\n",
       "      <td>...</td>\n",
       "      <td>38</td>\n",
       "      <td>2</td>\n",
       "      <td>2</td>\n",
       "      <td>1681</td>\n",
       "      <td>55</td>\n",
       "      <td>2</td>\n",
       "      <td>8057</td>\n",
       "      <td>0</td>\n",
       "      <td>3</td>\n",
       "      <td>15</td>\n",
       "    </tr>\n",
       "    <tr>\n",
       "      <th>Denied</th>\n",
       "      <td>31</td>\n",
       "      <td>0</td>\n",
       "      <td>1144</td>\n",
       "      <td>17</td>\n",
       "      <td>3</td>\n",
       "      <td>665</td>\n",
       "      <td>807</td>\n",
       "      <td>1551</td>\n",
       "      <td>23</td>\n",
       "      <td>14664</td>\n",
       "      <td>...</td>\n",
       "      <td>13</td>\n",
       "      <td>1</td>\n",
       "      <td>1</td>\n",
       "      <td>192</td>\n",
       "      <td>30</td>\n",
       "      <td>0</td>\n",
       "      <td>4879</td>\n",
       "      <td>1</td>\n",
       "      <td>2</td>\n",
       "      <td>24</td>\n",
       "    </tr>\n",
       "    <tr>\n",
       "      <th>Withdrawn</th>\n",
       "      <td>6</td>\n",
       "      <td>0</td>\n",
       "      <td>198</td>\n",
       "      <td>3</td>\n",
       "      <td>0</td>\n",
       "      <td>370</td>\n",
       "      <td>76</td>\n",
       "      <td>1019</td>\n",
       "      <td>11</td>\n",
       "      <td>12603</td>\n",
       "      <td>...</td>\n",
       "      <td>12</td>\n",
       "      <td>0</td>\n",
       "      <td>3</td>\n",
       "      <td>195</td>\n",
       "      <td>9</td>\n",
       "      <td>0</td>\n",
       "      <td>2204</td>\n",
       "      <td>0</td>\n",
       "      <td>0</td>\n",
       "      <td>1</td>\n",
       "    </tr>\n",
       "  </tbody>\n",
       "</table>\n",
       "<p>4 rows × 30 columns</p>\n",
       "</div>"
      ],
      "text/plain": [
       "class_of_admission   A  AOS     B   C  D-1     E  EWI     F   G    H-1B  ...  \\\n",
       "case_status                                                              ...   \n",
       "Certified           66    2  1529  17    1  2688  507  7780  84  137853  ...   \n",
       "Certified-Expired   52    1  1076  10    2  1928  547  5440  65  115167  ...   \n",
       "Denied              31    0  1144  17    3   665  807  1551  23   14664  ...   \n",
       "Withdrawn            6    0   198   3    0   370   76  1019  11   12603  ...   \n",
       "\n",
       "class_of_admission   R  T-1  TD    TN  TPS  U-1  Unavailable  V-2  VWB  VWT  \n",
       "case_status                                                                  \n",
       "Certified           56    1   9  2193   93    0        12786    1    5   18  \n",
       "Certified-Expired   38    2   2  1681   55    2         8057    0    3   15  \n",
       "Denied              13    1   1   192   30    0         4879    1    2   24  \n",
       "Withdrawn           12    0   3   195    9    0         2204    0    0    1  \n",
       "\n",
       "[4 rows x 30 columns]"
      ]
     },
     "execution_count": 172,
     "metadata": {},
     "output_type": "execute_result"
    }
   ],
   "source": [
    "pd.crosstab(d.case_status,d.class_of_admission)"
   ]
  },
  {
   "cell_type": "code",
   "execution_count": 173,
   "metadata": {},
   "outputs": [
    {
     "data": {
      "text/html": [
       "<div>\n",
       "<style scoped>\n",
       "    .dataframe tbody tr th:only-of-type {\n",
       "        vertical-align: middle;\n",
       "    }\n",
       "\n",
       "    .dataframe tbody tr th {\n",
       "        vertical-align: top;\n",
       "    }\n",
       "\n",
       "    .dataframe thead th {\n",
       "        text-align: right;\n",
       "    }\n",
       "</style>\n",
       "<table border=\"1\" class=\"dataframe\">\n",
       "  <thead>\n",
       "    <tr style=\"text-align: right;\">\n",
       "      <th>employer_yr_estab</th>\n",
       "      <th>Ancient</th>\n",
       "      <th>New</th>\n",
       "      <th>Old</th>\n",
       "    </tr>\n",
       "    <tr>\n",
       "      <th>case_status</th>\n",
       "      <th></th>\n",
       "      <th></th>\n",
       "      <th></th>\n",
       "    </tr>\n",
       "  </thead>\n",
       "  <tbody>\n",
       "    <tr>\n",
       "      <th>Certified</th>\n",
       "      <td>63096</td>\n",
       "      <td>79330</td>\n",
       "      <td>35574</td>\n",
       "    </tr>\n",
       "    <tr>\n",
       "      <th>Certified-Expired</th>\n",
       "      <td>49105</td>\n",
       "      <td>65877</td>\n",
       "      <td>29884</td>\n",
       "    </tr>\n",
       "    <tr>\n",
       "      <th>Denied</th>\n",
       "      <td>8549</td>\n",
       "      <td>13758</td>\n",
       "      <td>2762</td>\n",
       "    </tr>\n",
       "    <tr>\n",
       "      <th>Withdrawn</th>\n",
       "      <td>7044</td>\n",
       "      <td>8227</td>\n",
       "      <td>2421</td>\n",
       "    </tr>\n",
       "  </tbody>\n",
       "</table>\n",
       "</div>"
      ],
      "text/plain": [
       "employer_yr_estab  Ancient    New    Old\n",
       "case_status                             \n",
       "Certified            63096  79330  35574\n",
       "Certified-Expired    49105  65877  29884\n",
       "Denied                8549  13758   2762\n",
       "Withdrawn             7044   8227   2421"
      ]
     },
     "execution_count": 173,
     "metadata": {},
     "output_type": "execute_result"
    }
   ],
   "source": [
    "pd.crosstab(d.case_status,d.employer_yr_estab)"
   ]
  },
  {
   "cell_type": "code",
   "execution_count": 174,
   "metadata": {},
   "outputs": [
    {
     "data": {
      "text/html": [
       "<div>\n",
       "<style scoped>\n",
       "    .dataframe tbody tr th:only-of-type {\n",
       "        vertical-align: middle;\n",
       "    }\n",
       "\n",
       "    .dataframe tbody tr th {\n",
       "        vertical-align: top;\n",
       "    }\n",
       "\n",
       "    .dataframe thead th {\n",
       "        text-align: right;\n",
       "    }\n",
       "</style>\n",
       "<table border=\"1\" class=\"dataframe\">\n",
       "  <thead>\n",
       "    <tr style=\"text-align: right;\">\n",
       "      <th>employer_city</th>\n",
       "      <th>, NEW YORK</th>\n",
       "      <th>, New York</th>\n",
       "      <th>200 WEST STREET</th>\n",
       "      <th>37-18 QUEENS BLVD</th>\n",
       "      <th>39TH FLOOR</th>\n",
       "      <th>ABBEVILLE</th>\n",
       "      <th>ABBOTSFORD</th>\n",
       "      <th>ABBOTT PARK</th>\n",
       "      <th>ABERDEEN</th>\n",
       "      <th>ABILENE</th>\n",
       "      <th>...</th>\n",
       "      <th>winter garden</th>\n",
       "      <th>winter springs</th>\n",
       "      <th>wixom</th>\n",
       "      <th>woodbridge</th>\n",
       "      <th>woodland hills</th>\n",
       "      <th>woodstock</th>\n",
       "      <th>wynnewood</th>\n",
       "      <th>yardley</th>\n",
       "      <th>yorktown heights</th>\n",
       "      <th>Ã€VENTURA</th>\n",
       "    </tr>\n",
       "    <tr>\n",
       "      <th>case_status</th>\n",
       "      <th></th>\n",
       "      <th></th>\n",
       "      <th></th>\n",
       "      <th></th>\n",
       "      <th></th>\n",
       "      <th></th>\n",
       "      <th></th>\n",
       "      <th></th>\n",
       "      <th></th>\n",
       "      <th></th>\n",
       "      <th></th>\n",
       "      <th></th>\n",
       "      <th></th>\n",
       "      <th></th>\n",
       "      <th></th>\n",
       "      <th></th>\n",
       "      <th></th>\n",
       "      <th></th>\n",
       "      <th></th>\n",
       "      <th></th>\n",
       "      <th></th>\n",
       "    </tr>\n",
       "  </thead>\n",
       "  <tbody>\n",
       "    <tr>\n",
       "      <th>Certified</th>\n",
       "      <td>0</td>\n",
       "      <td>0</td>\n",
       "      <td>0</td>\n",
       "      <td>1</td>\n",
       "      <td>1</td>\n",
       "      <td>0</td>\n",
       "      <td>126</td>\n",
       "      <td>76</td>\n",
       "      <td>8</td>\n",
       "      <td>6</td>\n",
       "      <td>...</td>\n",
       "      <td>1</td>\n",
       "      <td>1</td>\n",
       "      <td>2</td>\n",
       "      <td>2</td>\n",
       "      <td>1</td>\n",
       "      <td>1</td>\n",
       "      <td>1</td>\n",
       "      <td>0</td>\n",
       "      <td>0</td>\n",
       "      <td>1</td>\n",
       "    </tr>\n",
       "    <tr>\n",
       "      <th>Certified-Expired</th>\n",
       "      <td>1</td>\n",
       "      <td>1</td>\n",
       "      <td>0</td>\n",
       "      <td>0</td>\n",
       "      <td>0</td>\n",
       "      <td>1</td>\n",
       "      <td>62</td>\n",
       "      <td>55</td>\n",
       "      <td>11</td>\n",
       "      <td>2</td>\n",
       "      <td>...</td>\n",
       "      <td>0</td>\n",
       "      <td>0</td>\n",
       "      <td>0</td>\n",
       "      <td>0</td>\n",
       "      <td>0</td>\n",
       "      <td>0</td>\n",
       "      <td>0</td>\n",
       "      <td>1</td>\n",
       "      <td>1</td>\n",
       "      <td>0</td>\n",
       "    </tr>\n",
       "    <tr>\n",
       "      <th>Denied</th>\n",
       "      <td>0</td>\n",
       "      <td>0</td>\n",
       "      <td>0</td>\n",
       "      <td>0</td>\n",
       "      <td>0</td>\n",
       "      <td>0</td>\n",
       "      <td>47</td>\n",
       "      <td>18</td>\n",
       "      <td>3</td>\n",
       "      <td>3</td>\n",
       "      <td>...</td>\n",
       "      <td>0</td>\n",
       "      <td>0</td>\n",
       "      <td>1</td>\n",
       "      <td>0</td>\n",
       "      <td>0</td>\n",
       "      <td>1</td>\n",
       "      <td>0</td>\n",
       "      <td>0</td>\n",
       "      <td>0</td>\n",
       "      <td>0</td>\n",
       "    </tr>\n",
       "    <tr>\n",
       "      <th>Withdrawn</th>\n",
       "      <td>0</td>\n",
       "      <td>0</td>\n",
       "      <td>1</td>\n",
       "      <td>0</td>\n",
       "      <td>0</td>\n",
       "      <td>0</td>\n",
       "      <td>78</td>\n",
       "      <td>13</td>\n",
       "      <td>2</td>\n",
       "      <td>0</td>\n",
       "      <td>...</td>\n",
       "      <td>0</td>\n",
       "      <td>0</td>\n",
       "      <td>1</td>\n",
       "      <td>0</td>\n",
       "      <td>0</td>\n",
       "      <td>0</td>\n",
       "      <td>0</td>\n",
       "      <td>0</td>\n",
       "      <td>0</td>\n",
       "      <td>0</td>\n",
       "    </tr>\n",
       "  </tbody>\n",
       "</table>\n",
       "<p>4 rows × 8384 columns</p>\n",
       "</div>"
      ],
      "text/plain": [
       "employer_city      , NEW YORK  , New York  200 WEST STREET  37-18 QUEENS BLVD  \\\n",
       "case_status                                                                     \n",
       "Certified                   0           0                0                  1   \n",
       "Certified-Expired           1           1                0                  0   \n",
       "Denied                      0           0                0                  0   \n",
       "Withdrawn                   0           0                1                  0   \n",
       "\n",
       "employer_city      39TH FLOOR  ABBEVILLE  ABBOTSFORD  ABBOTT PARK  ABERDEEN  \\\n",
       "case_status                                                                   \n",
       "Certified                   1          0         126           76         8   \n",
       "Certified-Expired           0          1          62           55        11   \n",
       "Denied                      0          0          47           18         3   \n",
       "Withdrawn                   0          0          78           13         2   \n",
       "\n",
       "employer_city      ABILENE  ...  winter garden  winter springs  wixom  \\\n",
       "case_status                 ...                                         \n",
       "Certified                6  ...              1               1      2   \n",
       "Certified-Expired        2  ...              0               0      0   \n",
       "Denied                   3  ...              0               0      1   \n",
       "Withdrawn                0  ...              0               0      1   \n",
       "\n",
       "employer_city      woodbridge  woodland hills  woodstock  wynnewood  yardley  \\\n",
       "case_status                                                                    \n",
       "Certified                   2               1          1          1        0   \n",
       "Certified-Expired           0               0          0          0        1   \n",
       "Denied                      0               0          1          0        0   \n",
       "Withdrawn                   0               0          0          0        0   \n",
       "\n",
       "employer_city      yorktown heights  Ã€VENTURA  \n",
       "case_status                                     \n",
       "Certified                         0          1  \n",
       "Certified-Expired                 1          0  \n",
       "Denied                            0          0  \n",
       "Withdrawn                         0          0  \n",
       "\n",
       "[4 rows x 8384 columns]"
      ]
     },
     "execution_count": 174,
     "metadata": {},
     "output_type": "execute_result"
    }
   ],
   "source": [
    "pd.crosstab(d.case_status,d.employer_city)"
   ]
  },
  {
   "cell_type": "code",
   "execution_count": 175,
   "metadata": {},
   "outputs": [],
   "source": [
    "d.drop('employer_city',axis=1,inplace=True)    # 8.3k unique vales"
   ]
  },
  {
   "cell_type": "code",
   "execution_count": 176,
   "metadata": {},
   "outputs": [
    {
     "data": {
      "text/html": [
       "<div>\n",
       "<style scoped>\n",
       "    .dataframe tbody tr th:only-of-type {\n",
       "        vertical-align: middle;\n",
       "    }\n",
       "\n",
       "    .dataframe tbody tr th {\n",
       "        vertical-align: top;\n",
       "    }\n",
       "\n",
       "    .dataframe thead th {\n",
       "        text-align: right;\n",
       "    }\n",
       "</style>\n",
       "<table border=\"1\" class=\"dataframe\">\n",
       "  <thead>\n",
       "    <tr style=\"text-align: right;\">\n",
       "      <th>foreign_worker_info_education</th>\n",
       "      <th>Associate's</th>\n",
       "      <th>Bachelor's</th>\n",
       "      <th>Doctorate</th>\n",
       "      <th>High School</th>\n",
       "      <th>Master's</th>\n",
       "    </tr>\n",
       "    <tr>\n",
       "      <th>case_status</th>\n",
       "      <th></th>\n",
       "      <th></th>\n",
       "      <th></th>\n",
       "      <th></th>\n",
       "      <th></th>\n",
       "    </tr>\n",
       "  </thead>\n",
       "  <tbody>\n",
       "    <tr>\n",
       "      <th>Certified</th>\n",
       "      <td>1140</td>\n",
       "      <td>70244</td>\n",
       "      <td>5960</td>\n",
       "      <td>2024</td>\n",
       "      <td>98632</td>\n",
       "    </tr>\n",
       "    <tr>\n",
       "      <th>Certified-Expired</th>\n",
       "      <td>667</td>\n",
       "      <td>53069</td>\n",
       "      <td>5440</td>\n",
       "      <td>1002</td>\n",
       "      <td>84688</td>\n",
       "    </tr>\n",
       "    <tr>\n",
       "      <th>Denied</th>\n",
       "      <td>411</td>\n",
       "      <td>10811</td>\n",
       "      <td>345</td>\n",
       "      <td>885</td>\n",
       "      <td>12617</td>\n",
       "    </tr>\n",
       "    <tr>\n",
       "      <th>Withdrawn</th>\n",
       "      <td>111</td>\n",
       "      <td>8691</td>\n",
       "      <td>482</td>\n",
       "      <td>233</td>\n",
       "      <td>8175</td>\n",
       "    </tr>\n",
       "  </tbody>\n",
       "</table>\n",
       "</div>"
      ],
      "text/plain": [
       "foreign_worker_info_education  Associate's  Bachelor's  Doctorate  \\\n",
       "case_status                                                         \n",
       "Certified                             1140       70244       5960   \n",
       "Certified-Expired                      667       53069       5440   \n",
       "Denied                                 411       10811        345   \n",
       "Withdrawn                              111        8691        482   \n",
       "\n",
       "foreign_worker_info_education  High School  Master's  \n",
       "case_status                                           \n",
       "Certified                             2024     98632  \n",
       "Certified-Expired                     1002     84688  \n",
       "Denied                                 885     12617  \n",
       "Withdrawn                              233      8175  "
      ]
     },
     "execution_count": 176,
     "metadata": {},
     "output_type": "execute_result"
    }
   ],
   "source": [
    "pd.crosstab(d.case_status,d.foreign_worker_info_education)"
   ]
  },
  {
   "cell_type": "code",
   "execution_count": 177,
   "metadata": {},
   "outputs": [
    {
     "data": {
      "text/html": [
       "<div>\n",
       "<style scoped>\n",
       "    .dataframe tbody tr th:only-of-type {\n",
       "        vertical-align: middle;\n",
       "    }\n",
       "\n",
       "    .dataframe tbody tr th {\n",
       "        vertical-align: top;\n",
       "    }\n",
       "\n",
       "    .dataframe thead th {\n",
       "        text-align: right;\n",
       "    }\n",
       "</style>\n",
       "<table border=\"1\" class=\"dataframe\">\n",
       "  <thead>\n",
       "    <tr style=\"text-align: right;\">\n",
       "      <th>employer_state</th>\n",
       "      <th>Island</th>\n",
       "      <th>Midwest</th>\n",
       "      <th>Northeast</th>\n",
       "      <th>South</th>\n",
       "      <th>West</th>\n",
       "    </tr>\n",
       "    <tr>\n",
       "      <th>case_status</th>\n",
       "      <th></th>\n",
       "      <th></th>\n",
       "      <th></th>\n",
       "      <th></th>\n",
       "      <th></th>\n",
       "    </tr>\n",
       "  </thead>\n",
       "  <tbody>\n",
       "    <tr>\n",
       "      <th>Certified</th>\n",
       "      <td>300</td>\n",
       "      <td>25579</td>\n",
       "      <td>43313</td>\n",
       "      <td>48697</td>\n",
       "      <td>60111</td>\n",
       "    </tr>\n",
       "    <tr>\n",
       "      <th>Certified-Expired</th>\n",
       "      <td>185</td>\n",
       "      <td>19959</td>\n",
       "      <td>35655</td>\n",
       "      <td>39108</td>\n",
       "      <td>49959</td>\n",
       "    </tr>\n",
       "    <tr>\n",
       "      <th>Denied</th>\n",
       "      <td>149</td>\n",
       "      <td>3312</td>\n",
       "      <td>5956</td>\n",
       "      <td>8920</td>\n",
       "      <td>6732</td>\n",
       "    </tr>\n",
       "    <tr>\n",
       "      <th>Withdrawn</th>\n",
       "      <td>29</td>\n",
       "      <td>2677</td>\n",
       "      <td>4102</td>\n",
       "      <td>5273</td>\n",
       "      <td>5611</td>\n",
       "    </tr>\n",
       "  </tbody>\n",
       "</table>\n",
       "</div>"
      ],
      "text/plain": [
       "employer_state     Island  Midwest  Northeast  South   West\n",
       "case_status                                                \n",
       "Certified             300    25579      43313  48697  60111\n",
       "Certified-Expired     185    19959      35655  39108  49959\n",
       "Denied                149     3312       5956   8920   6732\n",
       "Withdrawn              29     2677       4102   5273   5611"
      ]
     },
     "execution_count": 177,
     "metadata": {},
     "output_type": "execute_result"
    }
   ],
   "source": [
    "pd.crosstab(d.case_status,d.employer_state)"
   ]
  },
  {
   "cell_type": "code",
   "execution_count": 178,
   "metadata": {},
   "outputs": [
    {
     "data": {
      "text/html": [
       "<div>\n",
       "<style scoped>\n",
       "    .dataframe tbody tr th:only-of-type {\n",
       "        vertical-align: middle;\n",
       "    }\n",
       "\n",
       "    .dataframe tbody tr th {\n",
       "        vertical-align: top;\n",
       "    }\n",
       "\n",
       "    .dataframe thead th {\n",
       "        text-align: right;\n",
       "    }\n",
       "</style>\n",
       "<table border=\"1\" class=\"dataframe\">\n",
       "  <thead>\n",
       "    <tr style=\"text-align: right;\">\n",
       "      <th>job_experience</th>\n",
       "      <th>N</th>\n",
       "      <th>Y</th>\n",
       "    </tr>\n",
       "    <tr>\n",
       "      <th>case_status</th>\n",
       "      <th></th>\n",
       "      <th></th>\n",
       "    </tr>\n",
       "  </thead>\n",
       "  <tbody>\n",
       "    <tr>\n",
       "      <th>Certified</th>\n",
       "      <td>51677</td>\n",
       "      <td>126323</td>\n",
       "    </tr>\n",
       "    <tr>\n",
       "      <th>Certified-Expired</th>\n",
       "      <td>38716</td>\n",
       "      <td>106150</td>\n",
       "    </tr>\n",
       "    <tr>\n",
       "      <th>Denied</th>\n",
       "      <td>9034</td>\n",
       "      <td>16035</td>\n",
       "    </tr>\n",
       "    <tr>\n",
       "      <th>Withdrawn</th>\n",
       "      <td>9092</td>\n",
       "      <td>8600</td>\n",
       "    </tr>\n",
       "  </tbody>\n",
       "</table>\n",
       "</div>"
      ],
      "text/plain": [
       "job_experience         N       Y\n",
       "case_status                     \n",
       "Certified          51677  126323\n",
       "Certified-Expired  38716  106150\n",
       "Denied              9034   16035\n",
       "Withdrawn           9092    8600"
      ]
     },
     "execution_count": 178,
     "metadata": {},
     "output_type": "execute_result"
    }
   ],
   "source": [
    "pd.crosstab(d.case_status,d.job_experience)"
   ]
  },
  {
   "cell_type": "code",
   "execution_count": 179,
   "metadata": {},
   "outputs": [
    {
     "data": {
      "text/html": [
       "<div>\n",
       "<style scoped>\n",
       "    .dataframe tbody tr th:only-of-type {\n",
       "        vertical-align: middle;\n",
       "    }\n",
       "\n",
       "    .dataframe tbody tr th {\n",
       "        vertical-align: top;\n",
       "    }\n",
       "\n",
       "    .dataframe thead th {\n",
       "        text-align: right;\n",
       "    }\n",
       "</style>\n",
       "<table border=\"1\" class=\"dataframe\">\n",
       "  <thead>\n",
       "    <tr style=\"text-align: right;\">\n",
       "      <th>job_training</th>\n",
       "      <th>N</th>\n",
       "      <th>Y</th>\n",
       "    </tr>\n",
       "    <tr>\n",
       "      <th>case_status</th>\n",
       "      <th></th>\n",
       "      <th></th>\n",
       "    </tr>\n",
       "  </thead>\n",
       "  <tbody>\n",
       "    <tr>\n",
       "      <th>Certified</th>\n",
       "      <td>176196</td>\n",
       "      <td>1804</td>\n",
       "    </tr>\n",
       "    <tr>\n",
       "      <th>Certified-Expired</th>\n",
       "      <td>143140</td>\n",
       "      <td>1726</td>\n",
       "    </tr>\n",
       "    <tr>\n",
       "      <th>Denied</th>\n",
       "      <td>24461</td>\n",
       "      <td>608</td>\n",
       "    </tr>\n",
       "    <tr>\n",
       "      <th>Withdrawn</th>\n",
       "      <td>17508</td>\n",
       "      <td>184</td>\n",
       "    </tr>\n",
       "  </tbody>\n",
       "</table>\n",
       "</div>"
      ],
      "text/plain": [
       "job_training            N     Y\n",
       "case_status                    \n",
       "Certified          176196  1804\n",
       "Certified-Expired  143140  1726\n",
       "Denied              24461   608\n",
       "Withdrawn           17508   184"
      ]
     },
     "execution_count": 179,
     "metadata": {},
     "output_type": "execute_result"
    }
   ],
   "source": [
    "pd.crosstab(d.case_status,d.job_training)"
   ]
  },
  {
   "cell_type": "code",
   "execution_count": 180,
   "metadata": {},
   "outputs": [
    {
     "data": {
      "text/html": [
       "<div>\n",
       "<style scoped>\n",
       "    .dataframe tbody tr th:only-of-type {\n",
       "        vertical-align: middle;\n",
       "    }\n",
       "\n",
       "    .dataframe tbody tr th {\n",
       "        vertical-align: top;\n",
       "    }\n",
       "\n",
       "    .dataframe thead th {\n",
       "        text-align: right;\n",
       "    }\n",
       "</style>\n",
       "<table border=\"1\" class=\"dataframe\">\n",
       "  <thead>\n",
       "    <tr style=\"text-align: right;\">\n",
       "      <th>job_work_state</th>\n",
       "      <th>Island</th>\n",
       "      <th>Midwest</th>\n",
       "      <th>Northeast</th>\n",
       "      <th>Other</th>\n",
       "      <th>South</th>\n",
       "      <th>West</th>\n",
       "    </tr>\n",
       "    <tr>\n",
       "      <th>case_status</th>\n",
       "      <th></th>\n",
       "      <th></th>\n",
       "      <th></th>\n",
       "      <th></th>\n",
       "      <th></th>\n",
       "      <th></th>\n",
       "    </tr>\n",
       "  </thead>\n",
       "  <tbody>\n",
       "    <tr>\n",
       "      <th>Certified</th>\n",
       "      <td>313</td>\n",
       "      <td>25047</td>\n",
       "      <td>41959</td>\n",
       "      <td>828</td>\n",
       "      <td>51066</td>\n",
       "      <td>58787</td>\n",
       "    </tr>\n",
       "    <tr>\n",
       "      <th>Certified-Expired</th>\n",
       "      <td>206</td>\n",
       "      <td>19820</td>\n",
       "      <td>34831</td>\n",
       "      <td>720</td>\n",
       "      <td>40847</td>\n",
       "      <td>48442</td>\n",
       "    </tr>\n",
       "    <tr>\n",
       "      <th>Denied</th>\n",
       "      <td>151</td>\n",
       "      <td>3269</td>\n",
       "      <td>6142</td>\n",
       "      <td>204</td>\n",
       "      <td>8329</td>\n",
       "      <td>6974</td>\n",
       "    </tr>\n",
       "    <tr>\n",
       "      <th>Withdrawn</th>\n",
       "      <td>29</td>\n",
       "      <td>2549</td>\n",
       "      <td>4147</td>\n",
       "      <td>85</td>\n",
       "      <td>5391</td>\n",
       "      <td>5491</td>\n",
       "    </tr>\n",
       "  </tbody>\n",
       "</table>\n",
       "</div>"
      ],
      "text/plain": [
       "job_work_state     Island  Midwest  Northeast  Other  South   West\n",
       "case_status                                                       \n",
       "Certified             313    25047      41959    828  51066  58787\n",
       "Certified-Expired     206    19820      34831    720  40847  48442\n",
       "Denied                151     3269       6142    204   8329   6974\n",
       "Withdrawn              29     2549       4147     85   5391   5491"
      ]
     },
     "execution_count": 180,
     "metadata": {},
     "output_type": "execute_result"
    }
   ],
   "source": [
    "pd.crosstab(d.case_status,d.job_work_state)"
   ]
  },
  {
   "cell_type": "code",
   "execution_count": 181,
   "metadata": {},
   "outputs": [
    {
     "data": {
      "text/html": [
       "<div>\n",
       "<style scoped>\n",
       "    .dataframe tbody tr th:only-of-type {\n",
       "        vertical-align: middle;\n",
       "    }\n",
       "\n",
       "    .dataframe tbody tr th {\n",
       "        vertical-align: top;\n",
       "    }\n",
       "\n",
       "    .dataframe thead th {\n",
       "        text-align: right;\n",
       "    }\n",
       "</style>\n",
       "<table border=\"1\" class=\"dataframe\">\n",
       "  <thead>\n",
       "    <tr style=\"text-align: right;\">\n",
       "      <th>sector</th>\n",
       "      <th>Advanced Mfg</th>\n",
       "      <th>Aerospace</th>\n",
       "      <th>Agribusiness</th>\n",
       "      <th>Automotive</th>\n",
       "      <th>Biotechnology</th>\n",
       "      <th>Construction</th>\n",
       "      <th>Educational Services</th>\n",
       "      <th>Energy</th>\n",
       "      <th>Finance</th>\n",
       "      <th>Geospatial</th>\n",
       "      <th>Health Care</th>\n",
       "      <th>Homeland Security</th>\n",
       "      <th>Hospitality</th>\n",
       "      <th>IT</th>\n",
       "      <th>Other Economic Sector</th>\n",
       "      <th>Retail</th>\n",
       "      <th>Transportation</th>\n",
       "    </tr>\n",
       "    <tr>\n",
       "      <th>case_status</th>\n",
       "      <th></th>\n",
       "      <th></th>\n",
       "      <th></th>\n",
       "      <th></th>\n",
       "      <th></th>\n",
       "      <th></th>\n",
       "      <th></th>\n",
       "      <th></th>\n",
       "      <th></th>\n",
       "      <th></th>\n",
       "      <th></th>\n",
       "      <th></th>\n",
       "      <th></th>\n",
       "      <th></th>\n",
       "      <th></th>\n",
       "      <th></th>\n",
       "      <th></th>\n",
       "    </tr>\n",
       "  </thead>\n",
       "  <tbody>\n",
       "    <tr>\n",
       "      <th>Certified</th>\n",
       "      <td>22865</td>\n",
       "      <td>1945</td>\n",
       "      <td>317</td>\n",
       "      <td>459</td>\n",
       "      <td>215</td>\n",
       "      <td>476</td>\n",
       "      <td>4031</td>\n",
       "      <td>536</td>\n",
       "      <td>6393</td>\n",
       "      <td>72</td>\n",
       "      <td>3281</td>\n",
       "      <td>28</td>\n",
       "      <td>637</td>\n",
       "      <td>39871</td>\n",
       "      <td>15534</td>\n",
       "      <td>2254</td>\n",
       "      <td>429</td>\n",
       "    </tr>\n",
       "    <tr>\n",
       "      <th>Certified-Expired</th>\n",
       "      <td>11100</td>\n",
       "      <td>5670</td>\n",
       "      <td>225</td>\n",
       "      <td>474</td>\n",
       "      <td>209</td>\n",
       "      <td>475</td>\n",
       "      <td>11837</td>\n",
       "      <td>441</td>\n",
       "      <td>10170</td>\n",
       "      <td>57</td>\n",
       "      <td>8906</td>\n",
       "      <td>36</td>\n",
       "      <td>555</td>\n",
       "      <td>50529</td>\n",
       "      <td>10505</td>\n",
       "      <td>5697</td>\n",
       "      <td>368</td>\n",
       "    </tr>\n",
       "    <tr>\n",
       "      <th>Denied</th>\n",
       "      <td>1477</td>\n",
       "      <td>337</td>\n",
       "      <td>242</td>\n",
       "      <td>151</td>\n",
       "      <td>12</td>\n",
       "      <td>364</td>\n",
       "      <td>1404</td>\n",
       "      <td>44</td>\n",
       "      <td>890</td>\n",
       "      <td>8</td>\n",
       "      <td>794</td>\n",
       "      <td>14</td>\n",
       "      <td>575</td>\n",
       "      <td>9907</td>\n",
       "      <td>2726</td>\n",
       "      <td>481</td>\n",
       "      <td>96</td>\n",
       "    </tr>\n",
       "    <tr>\n",
       "      <th>Withdrawn</th>\n",
       "      <td>2056</td>\n",
       "      <td>380</td>\n",
       "      <td>155</td>\n",
       "      <td>79</td>\n",
       "      <td>20</td>\n",
       "      <td>94</td>\n",
       "      <td>988</td>\n",
       "      <td>65</td>\n",
       "      <td>995</td>\n",
       "      <td>4</td>\n",
       "      <td>669</td>\n",
       "      <td>4</td>\n",
       "      <td>159</td>\n",
       "      <td>4927</td>\n",
       "      <td>2831</td>\n",
       "      <td>384</td>\n",
       "      <td>56</td>\n",
       "    </tr>\n",
       "  </tbody>\n",
       "</table>\n",
       "</div>"
      ],
      "text/plain": [
       "sector             Advanced Mfg  Aerospace  Agribusiness  Automotive  \\\n",
       "case_status                                                            \n",
       "Certified                 22865       1945           317         459   \n",
       "Certified-Expired         11100       5670           225         474   \n",
       "Denied                     1477        337           242         151   \n",
       "Withdrawn                  2056        380           155          79   \n",
       "\n",
       "sector             Biotechnology  Construction  Educational Services  Energy  \\\n",
       "case_status                                                                    \n",
       "Certified                    215           476                  4031     536   \n",
       "Certified-Expired            209           475                 11837     441   \n",
       "Denied                        12           364                  1404      44   \n",
       "Withdrawn                     20            94                   988      65   \n",
       "\n",
       "sector             Finance  Geospatial  Health Care  Homeland Security  \\\n",
       "case_status                                                              \n",
       "Certified             6393          72         3281                 28   \n",
       "Certified-Expired    10170          57         8906                 36   \n",
       "Denied                 890           8          794                 14   \n",
       "Withdrawn              995           4          669                  4   \n",
       "\n",
       "sector             Hospitality     IT  Other Economic Sector  Retail  \\\n",
       "case_status                                                            \n",
       "Certified                  637  39871                  15534    2254   \n",
       "Certified-Expired          555  50529                  10505    5697   \n",
       "Denied                     575   9907                   2726     481   \n",
       "Withdrawn                  159   4927                   2831     384   \n",
       "\n",
       "sector             Transportation  \n",
       "case_status                        \n",
       "Certified                     429  \n",
       "Certified-Expired             368  \n",
       "Denied                         96  \n",
       "Withdrawn                      56  "
      ]
     },
     "execution_count": 181,
     "metadata": {},
     "output_type": "execute_result"
    }
   ],
   "source": [
    "pd.crosstab(d.case_status,d.sector)"
   ]
  },
  {
   "cell_type": "code",
   "execution_count": 182,
   "metadata": {},
   "outputs": [
    {
     "data": {
      "text/html": [
       "<div>\n",
       "<style scoped>\n",
       "    .dataframe tbody tr th:only-of-type {\n",
       "        vertical-align: middle;\n",
       "    }\n",
       "\n",
       "    .dataframe tbody tr th {\n",
       "        vertical-align: top;\n",
       "    }\n",
       "\n",
       "    .dataframe thead th {\n",
       "        text-align: right;\n",
       "    }\n",
       "</style>\n",
       "<table border=\"1\" class=\"dataframe\">\n",
       "  <thead>\n",
       "    <tr style=\"text-align: right;\">\n",
       "      <th>source_name</th>\n",
       "      <th>CBA</th>\n",
       "      <th>DBA</th>\n",
       "      <th>Employer Conducted</th>\n",
       "      <th>OES</th>\n",
       "      <th>Other</th>\n",
       "      <th>SCA</th>\n",
       "    </tr>\n",
       "    <tr>\n",
       "      <th>case_status</th>\n",
       "      <th></th>\n",
       "      <th></th>\n",
       "      <th></th>\n",
       "      <th></th>\n",
       "      <th></th>\n",
       "      <th></th>\n",
       "    </tr>\n",
       "  </thead>\n",
       "  <tbody>\n",
       "    <tr>\n",
       "      <th>Certified</th>\n",
       "      <td>1472</td>\n",
       "      <td>0</td>\n",
       "      <td>117</td>\n",
       "      <td>163531</td>\n",
       "      <td>12866</td>\n",
       "      <td>14</td>\n",
       "    </tr>\n",
       "    <tr>\n",
       "      <th>Certified-Expired</th>\n",
       "      <td>1285</td>\n",
       "      <td>0</td>\n",
       "      <td>94</td>\n",
       "      <td>133152</td>\n",
       "      <td>10327</td>\n",
       "      <td>8</td>\n",
       "    </tr>\n",
       "    <tr>\n",
       "      <th>Denied</th>\n",
       "      <td>629</td>\n",
       "      <td>24</td>\n",
       "      <td>296</td>\n",
       "      <td>22846</td>\n",
       "      <td>1229</td>\n",
       "      <td>45</td>\n",
       "    </tr>\n",
       "    <tr>\n",
       "      <th>Withdrawn</th>\n",
       "      <td>198</td>\n",
       "      <td>0</td>\n",
       "      <td>26</td>\n",
       "      <td>16403</td>\n",
       "      <td>1057</td>\n",
       "      <td>8</td>\n",
       "    </tr>\n",
       "  </tbody>\n",
       "</table>\n",
       "</div>"
      ],
      "text/plain": [
       "source_name         CBA  DBA  Employer Conducted     OES  Other  SCA\n",
       "case_status                                                         \n",
       "Certified          1472    0                 117  163531  12866   14\n",
       "Certified-Expired  1285    0                  94  133152  10327    8\n",
       "Denied              629   24                 296   22846   1229   45\n",
       "Withdrawn           198    0                  26   16403   1057    8"
      ]
     },
     "execution_count": 182,
     "metadata": {},
     "output_type": "execute_result"
    }
   ],
   "source": [
    "pd.crosstab(d.case_status,d.source_name)"
   ]
  },
  {
   "cell_type": "code",
   "execution_count": 183,
   "metadata": {},
   "outputs": [
    {
     "ename": "KeyError",
     "evalue": "\"['employer_city'] not found in axis\"",
     "output_type": "error",
     "traceback": [
      "\u001b[1;31m---------------------------------------------------------------------------\u001b[0m",
      "\u001b[1;31mKeyError\u001b[0m                                  Traceback (most recent call last)",
      "\u001b[1;32m<ipython-input-183-507c0fa513bf>\u001b[0m in \u001b[0;36m<module>\u001b[1;34m\u001b[0m\n\u001b[0;32m      1\u001b[0m \u001b[0md\u001b[0m\u001b[1;33m.\u001b[0m\u001b[0mdrop\u001b[0m\u001b[1;33m(\u001b[0m\u001b[1;34m'employer_name'\u001b[0m\u001b[1;33m,\u001b[0m\u001b[0maxis\u001b[0m\u001b[1;33m=\u001b[0m\u001b[1;36m1\u001b[0m\u001b[1;33m,\u001b[0m\u001b[0minplace\u001b[0m\u001b[1;33m=\u001b[0m\u001b[1;32mTrue\u001b[0m\u001b[1;33m)\u001b[0m\u001b[1;33m\u001b[0m\u001b[1;33m\u001b[0m\u001b[0m\n\u001b[1;32m----> 2\u001b[1;33m \u001b[0md\u001b[0m\u001b[1;33m.\u001b[0m\u001b[0mdrop\u001b[0m\u001b[1;33m(\u001b[0m\u001b[1;34m'employer_city'\u001b[0m\u001b[1;33m,\u001b[0m\u001b[0maxis\u001b[0m\u001b[1;33m=\u001b[0m\u001b[1;36m1\u001b[0m\u001b[1;33m,\u001b[0m\u001b[0minplace\u001b[0m\u001b[1;33m=\u001b[0m\u001b[1;32mTrue\u001b[0m\u001b[1;33m)\u001b[0m\u001b[1;33m\u001b[0m\u001b[1;33m\u001b[0m\u001b[0m\n\u001b[0m",
      "\u001b[1;32m~\\Anaconda3\\lib\\site-packages\\pandas\\core\\frame.py\u001b[0m in \u001b[0;36mdrop\u001b[1;34m(self, labels, axis, index, columns, level, inplace, errors)\u001b[0m\n\u001b[0;32m   3938\u001b[0m                                            \u001b[0mindex\u001b[0m\u001b[1;33m=\u001b[0m\u001b[0mindex\u001b[0m\u001b[1;33m,\u001b[0m \u001b[0mcolumns\u001b[0m\u001b[1;33m=\u001b[0m\u001b[0mcolumns\u001b[0m\u001b[1;33m,\u001b[0m\u001b[1;33m\u001b[0m\u001b[1;33m\u001b[0m\u001b[0m\n\u001b[0;32m   3939\u001b[0m                                            \u001b[0mlevel\u001b[0m\u001b[1;33m=\u001b[0m\u001b[0mlevel\u001b[0m\u001b[1;33m,\u001b[0m \u001b[0minplace\u001b[0m\u001b[1;33m=\u001b[0m\u001b[0minplace\u001b[0m\u001b[1;33m,\u001b[0m\u001b[1;33m\u001b[0m\u001b[1;33m\u001b[0m\u001b[0m\n\u001b[1;32m-> 3940\u001b[1;33m                                            errors=errors)\n\u001b[0m\u001b[0;32m   3941\u001b[0m \u001b[1;33m\u001b[0m\u001b[0m\n\u001b[0;32m   3942\u001b[0m     @rewrite_axis_style_signature('mapper', [('copy', True),\n",
      "\u001b[1;32m~\\Anaconda3\\lib\\site-packages\\pandas\\core\\generic.py\u001b[0m in \u001b[0;36mdrop\u001b[1;34m(self, labels, axis, index, columns, level, inplace, errors)\u001b[0m\n\u001b[0;32m   3778\u001b[0m         \u001b[1;32mfor\u001b[0m \u001b[0maxis\u001b[0m\u001b[1;33m,\u001b[0m \u001b[0mlabels\u001b[0m \u001b[1;32min\u001b[0m \u001b[0maxes\u001b[0m\u001b[1;33m.\u001b[0m\u001b[0mitems\u001b[0m\u001b[1;33m(\u001b[0m\u001b[1;33m)\u001b[0m\u001b[1;33m:\u001b[0m\u001b[1;33m\u001b[0m\u001b[1;33m\u001b[0m\u001b[0m\n\u001b[0;32m   3779\u001b[0m             \u001b[1;32mif\u001b[0m \u001b[0mlabels\u001b[0m \u001b[1;32mis\u001b[0m \u001b[1;32mnot\u001b[0m \u001b[1;32mNone\u001b[0m\u001b[1;33m:\u001b[0m\u001b[1;33m\u001b[0m\u001b[1;33m\u001b[0m\u001b[0m\n\u001b[1;32m-> 3780\u001b[1;33m                 \u001b[0mobj\u001b[0m \u001b[1;33m=\u001b[0m \u001b[0mobj\u001b[0m\u001b[1;33m.\u001b[0m\u001b[0m_drop_axis\u001b[0m\u001b[1;33m(\u001b[0m\u001b[0mlabels\u001b[0m\u001b[1;33m,\u001b[0m \u001b[0maxis\u001b[0m\u001b[1;33m,\u001b[0m \u001b[0mlevel\u001b[0m\u001b[1;33m=\u001b[0m\u001b[0mlevel\u001b[0m\u001b[1;33m,\u001b[0m \u001b[0merrors\u001b[0m\u001b[1;33m=\u001b[0m\u001b[0merrors\u001b[0m\u001b[1;33m)\u001b[0m\u001b[1;33m\u001b[0m\u001b[1;33m\u001b[0m\u001b[0m\n\u001b[0m\u001b[0;32m   3781\u001b[0m \u001b[1;33m\u001b[0m\u001b[0m\n\u001b[0;32m   3782\u001b[0m         \u001b[1;32mif\u001b[0m \u001b[0minplace\u001b[0m\u001b[1;33m:\u001b[0m\u001b[1;33m\u001b[0m\u001b[1;33m\u001b[0m\u001b[0m\n",
      "\u001b[1;32m~\\Anaconda3\\lib\\site-packages\\pandas\\core\\generic.py\u001b[0m in \u001b[0;36m_drop_axis\u001b[1;34m(self, labels, axis, level, errors)\u001b[0m\n\u001b[0;32m   3810\u001b[0m                 \u001b[0mnew_axis\u001b[0m \u001b[1;33m=\u001b[0m \u001b[0maxis\u001b[0m\u001b[1;33m.\u001b[0m\u001b[0mdrop\u001b[0m\u001b[1;33m(\u001b[0m\u001b[0mlabels\u001b[0m\u001b[1;33m,\u001b[0m \u001b[0mlevel\u001b[0m\u001b[1;33m=\u001b[0m\u001b[0mlevel\u001b[0m\u001b[1;33m,\u001b[0m \u001b[0merrors\u001b[0m\u001b[1;33m=\u001b[0m\u001b[0merrors\u001b[0m\u001b[1;33m)\u001b[0m\u001b[1;33m\u001b[0m\u001b[1;33m\u001b[0m\u001b[0m\n\u001b[0;32m   3811\u001b[0m             \u001b[1;32melse\u001b[0m\u001b[1;33m:\u001b[0m\u001b[1;33m\u001b[0m\u001b[1;33m\u001b[0m\u001b[0m\n\u001b[1;32m-> 3812\u001b[1;33m                 \u001b[0mnew_axis\u001b[0m \u001b[1;33m=\u001b[0m \u001b[0maxis\u001b[0m\u001b[1;33m.\u001b[0m\u001b[0mdrop\u001b[0m\u001b[1;33m(\u001b[0m\u001b[0mlabels\u001b[0m\u001b[1;33m,\u001b[0m \u001b[0merrors\u001b[0m\u001b[1;33m=\u001b[0m\u001b[0merrors\u001b[0m\u001b[1;33m)\u001b[0m\u001b[1;33m\u001b[0m\u001b[1;33m\u001b[0m\u001b[0m\n\u001b[0m\u001b[0;32m   3813\u001b[0m             \u001b[0mresult\u001b[0m \u001b[1;33m=\u001b[0m \u001b[0mself\u001b[0m\u001b[1;33m.\u001b[0m\u001b[0mreindex\u001b[0m\u001b[1;33m(\u001b[0m\u001b[1;33m**\u001b[0m\u001b[1;33m{\u001b[0m\u001b[0maxis_name\u001b[0m\u001b[1;33m:\u001b[0m \u001b[0mnew_axis\u001b[0m\u001b[1;33m}\u001b[0m\u001b[1;33m)\u001b[0m\u001b[1;33m\u001b[0m\u001b[1;33m\u001b[0m\u001b[0m\n\u001b[0;32m   3814\u001b[0m \u001b[1;33m\u001b[0m\u001b[0m\n",
      "\u001b[1;32m~\\Anaconda3\\lib\\site-packages\\pandas\\core\\indexes\\base.py\u001b[0m in \u001b[0;36mdrop\u001b[1;34m(self, labels, errors)\u001b[0m\n\u001b[0;32m   4963\u001b[0m             \u001b[1;32mif\u001b[0m \u001b[0merrors\u001b[0m \u001b[1;33m!=\u001b[0m \u001b[1;34m'ignore'\u001b[0m\u001b[1;33m:\u001b[0m\u001b[1;33m\u001b[0m\u001b[1;33m\u001b[0m\u001b[0m\n\u001b[0;32m   4964\u001b[0m                 raise KeyError(\n\u001b[1;32m-> 4965\u001b[1;33m                     '{} not found in axis'.format(labels[mask]))\n\u001b[0m\u001b[0;32m   4966\u001b[0m             \u001b[0mindexer\u001b[0m \u001b[1;33m=\u001b[0m \u001b[0mindexer\u001b[0m\u001b[1;33m[\u001b[0m\u001b[1;33m~\u001b[0m\u001b[0mmask\u001b[0m\u001b[1;33m]\u001b[0m\u001b[1;33m\u001b[0m\u001b[1;33m\u001b[0m\u001b[0m\n\u001b[0;32m   4967\u001b[0m         \u001b[1;32mreturn\u001b[0m \u001b[0mself\u001b[0m\u001b[1;33m.\u001b[0m\u001b[0mdelete\u001b[0m\u001b[1;33m(\u001b[0m\u001b[0mindexer\u001b[0m\u001b[1;33m)\u001b[0m\u001b[1;33m\u001b[0m\u001b[1;33m\u001b[0m\u001b[0m\n",
      "\u001b[1;31mKeyError\u001b[0m: \"['employer_city'] not found in axis\""
     ]
    }
   ],
   "source": [
    "d.drop('employer_name',axis=1,inplace=True)\n",
    "d.drop('employer_city',axis=1,inplace=True)"
   ]
  },
  {
   "cell_type": "code",
   "execution_count": 184,
   "metadata": {},
   "outputs": [],
   "source": [
    "d.drop('country_of_citizenship',inplace=True,axis=1)"
   ]
  },
  {
   "cell_type": "code",
   "execution_count": 185,
   "metadata": {},
   "outputs": [
    {
     "data": {
      "text/plain": [
       "agent_state                           0\n",
       "application_type                  95089\n",
       "case_status                           0\n",
       "class_of_admission                    0\n",
       "employer_yr_estab                     0\n",
       "employer_state                        0\n",
       "foreign_worker_info_education         0\n",
       "foreign_worker_info_major             0\n",
       "job_experience                        0\n",
       "job_training                          0\n",
       "job_work_state                        0\n",
       "pv_unit_of_pay_9089                   0\n",
       "level                                 0\n",
       "source_name                           0\n",
       "sector                           115642\n",
       "case_received_date_year               0\n",
       "decision_date_year                    0\n",
       "meansal                               0\n",
       "Enterprise_Size                       0\n",
       "continent                             0\n",
       "dtype: int64"
      ]
     },
     "execution_count": 185,
     "metadata": {},
     "output_type": "execute_result"
    }
   ],
   "source": [
    "d.isnull().sum()"
   ]
  },
  {
   "cell_type": "code",
   "execution_count": 186,
   "metadata": {},
   "outputs": [
    {
     "data": {
      "text/plain": [
       "(365627, 20)"
      ]
     },
     "execution_count": 186,
     "metadata": {},
     "output_type": "execute_result"
    }
   ],
   "source": [
    "d.shape"
   ]
  },
  {
   "cell_type": "code",
   "execution_count": 187,
   "metadata": {},
   "outputs": [
    {
     "data": {
      "text/html": [
       "<div>\n",
       "<style scoped>\n",
       "    .dataframe tbody tr th:only-of-type {\n",
       "        vertical-align: middle;\n",
       "    }\n",
       "\n",
       "    .dataframe tbody tr th {\n",
       "        vertical-align: top;\n",
       "    }\n",
       "\n",
       "    .dataframe thead th {\n",
       "        text-align: right;\n",
       "    }\n",
       "</style>\n",
       "<table border=\"1\" class=\"dataframe\">\n",
       "  <thead>\n",
       "    <tr style=\"text-align: right;\">\n",
       "      <th></th>\n",
       "      <th>agent_state</th>\n",
       "      <th>application_type</th>\n",
       "      <th>case_status</th>\n",
       "      <th>class_of_admission</th>\n",
       "      <th>employer_yr_estab</th>\n",
       "      <th>employer_state</th>\n",
       "      <th>foreign_worker_info_education</th>\n",
       "      <th>foreign_worker_info_major</th>\n",
       "      <th>job_experience</th>\n",
       "      <th>job_training</th>\n",
       "      <th>job_work_state</th>\n",
       "      <th>pv_unit_of_pay_9089</th>\n",
       "      <th>level</th>\n",
       "      <th>source_name</th>\n",
       "      <th>sector</th>\n",
       "      <th>case_received_date_year</th>\n",
       "      <th>decision_date_year</th>\n",
       "      <th>meansal</th>\n",
       "      <th>Enterprise_Size</th>\n",
       "      <th>continent</th>\n",
       "    </tr>\n",
       "  </thead>\n",
       "  <tbody>\n",
       "    <tr>\n",
       "      <th>0</th>\n",
       "      <td>West</td>\n",
       "      <td>PERM</td>\n",
       "      <td>Certified</td>\n",
       "      <td>J</td>\n",
       "      <td>New</td>\n",
       "      <td>Northeast</td>\n",
       "      <td>Master's</td>\n",
       "      <td>Engineer</td>\n",
       "      <td>Y</td>\n",
       "      <td>N</td>\n",
       "      <td>Northeast</td>\n",
       "      <td>Year</td>\n",
       "      <td>Level II</td>\n",
       "      <td>OES</td>\n",
       "      <td>IT</td>\n",
       "      <td>2007</td>\n",
       "      <td>2012</td>\n",
       "      <td>75629.000</td>\n",
       "      <td>Large</td>\n",
       "      <td>ASIA</td>\n",
       "    </tr>\n",
       "    <tr>\n",
       "      <th>1</th>\n",
       "      <td>West</td>\n",
       "      <td>PERM</td>\n",
       "      <td>Denied</td>\n",
       "      <td>B</td>\n",
       "      <td>New</td>\n",
       "      <td>Northeast</td>\n",
       "      <td>Master's</td>\n",
       "      <td>Engineer</td>\n",
       "      <td>Y</td>\n",
       "      <td>N</td>\n",
       "      <td>Northeast</td>\n",
       "      <td>Year</td>\n",
       "      <td>Level I</td>\n",
       "      <td>OES</td>\n",
       "      <td>Other Economic Sector</td>\n",
       "      <td>2007</td>\n",
       "      <td>2011</td>\n",
       "      <td>37024.000</td>\n",
       "      <td>Large</td>\n",
       "      <td>EUROPE</td>\n",
       "    </tr>\n",
       "    <tr>\n",
       "      <th>2</th>\n",
       "      <td>West</td>\n",
       "      <td>PERM</td>\n",
       "      <td>Certified</td>\n",
       "      <td>H-1B</td>\n",
       "      <td>New</td>\n",
       "      <td>South</td>\n",
       "      <td>Master's</td>\n",
       "      <td>Engineer</td>\n",
       "      <td>Y</td>\n",
       "      <td>N</td>\n",
       "      <td>South</td>\n",
       "      <td>Year</td>\n",
       "      <td>Level I</td>\n",
       "      <td>OES</td>\n",
       "      <td>Aerospace</td>\n",
       "      <td>2007</td>\n",
       "      <td>2011</td>\n",
       "      <td>47923.000</td>\n",
       "      <td>Large</td>\n",
       "      <td>ASIA</td>\n",
       "    </tr>\n",
       "    <tr>\n",
       "      <th>3</th>\n",
       "      <td>West</td>\n",
       "      <td>PERM</td>\n",
       "      <td>Certified</td>\n",
       "      <td>B</td>\n",
       "      <td>New</td>\n",
       "      <td>Northeast</td>\n",
       "      <td>Master's</td>\n",
       "      <td>Engineer</td>\n",
       "      <td>Y</td>\n",
       "      <td>N</td>\n",
       "      <td>Northeast</td>\n",
       "      <td>Year</td>\n",
       "      <td>Level II</td>\n",
       "      <td>OES</td>\n",
       "      <td>Other Economic Sector</td>\n",
       "      <td>2007</td>\n",
       "      <td>2011</td>\n",
       "      <td>10975.485</td>\n",
       "      <td>Large</td>\n",
       "      <td>ASIA</td>\n",
       "    </tr>\n",
       "    <tr>\n",
       "      <th>4</th>\n",
       "      <td>West</td>\n",
       "      <td>PERM</td>\n",
       "      <td>Certified</td>\n",
       "      <td>L</td>\n",
       "      <td>New</td>\n",
       "      <td>Northeast</td>\n",
       "      <td>Master's</td>\n",
       "      <td>Engineer</td>\n",
       "      <td>Y</td>\n",
       "      <td>N</td>\n",
       "      <td>Northeast</td>\n",
       "      <td>Year</td>\n",
       "      <td>Level IV</td>\n",
       "      <td>OES</td>\n",
       "      <td>Advanced Mfg</td>\n",
       "      <td>2007</td>\n",
       "      <td>2012</td>\n",
       "      <td>97445.000</td>\n",
       "      <td>Large</td>\n",
       "      <td>North America</td>\n",
       "    </tr>\n",
       "  </tbody>\n",
       "</table>\n",
       "</div>"
      ],
      "text/plain": [
       "  agent_state application_type case_status class_of_admission  \\\n",
       "0        West             PERM   Certified                  J   \n",
       "1        West             PERM      Denied                  B   \n",
       "2        West             PERM   Certified               H-1B   \n",
       "3        West             PERM   Certified                  B   \n",
       "4        West             PERM   Certified                  L   \n",
       "\n",
       "  employer_yr_estab employer_state foreign_worker_info_education  \\\n",
       "0               New      Northeast                      Master's   \n",
       "1               New      Northeast                      Master's   \n",
       "2               New          South                      Master's   \n",
       "3               New      Northeast                      Master's   \n",
       "4               New      Northeast                      Master's   \n",
       "\n",
       "  foreign_worker_info_major job_experience job_training job_work_state  \\\n",
       "0                  Engineer              Y            N      Northeast   \n",
       "1                  Engineer              Y            N      Northeast   \n",
       "2                  Engineer              Y            N          South   \n",
       "3                  Engineer              Y            N      Northeast   \n",
       "4                  Engineer              Y            N      Northeast   \n",
       "\n",
       "  pv_unit_of_pay_9089     level source_name                 sector  \\\n",
       "0                Year  Level II         OES                     IT   \n",
       "1                Year   Level I         OES  Other Economic Sector   \n",
       "2                Year   Level I         OES              Aerospace   \n",
       "3                Year  Level II         OES  Other Economic Sector   \n",
       "4                Year  Level IV         OES           Advanced Mfg   \n",
       "\n",
       "   case_received_date_year  decision_date_year    meansal Enterprise_Size  \\\n",
       "0                     2007                2012  75629.000           Large   \n",
       "1                     2007                2011  37024.000           Large   \n",
       "2                     2007                2011  47923.000           Large   \n",
       "3                     2007                2011  10975.485           Large   \n",
       "4                     2007                2012  97445.000           Large   \n",
       "\n",
       "       continent  \n",
       "0           ASIA  \n",
       "1         EUROPE  \n",
       "2           ASIA  \n",
       "3           ASIA  \n",
       "4  North America  "
      ]
     },
     "execution_count": 187,
     "metadata": {},
     "output_type": "execute_result"
    }
   ],
   "source": [
    "d.head()"
   ]
  },
  {
   "cell_type": "code",
   "execution_count": 188,
   "metadata": {},
   "outputs": [
    {
     "data": {
      "text/plain": [
       "Index(['agent_state', 'application_type', 'case_status', 'class_of_admission',\n",
       "       'employer_yr_estab', 'employer_state', 'foreign_worker_info_education',\n",
       "       'foreign_worker_info_major', 'job_experience', 'job_training',\n",
       "       'job_work_state', 'pv_unit_of_pay_9089', 'level', 'source_name',\n",
       "       'sector', 'case_received_date_year', 'decision_date_year', 'meansal',\n",
       "       'Enterprise_Size', 'continent'],\n",
       "      dtype='object')"
      ]
     },
     "execution_count": 188,
     "metadata": {},
     "output_type": "execute_result"
    }
   ],
   "source": [
    "d.columns"
   ]
  },
  {
   "cell_type": "code",
   "execution_count": 189,
   "metadata": {},
   "outputs": [
    {
     "data": {
      "text/plain": [
       "(365627, 20)"
      ]
     },
     "execution_count": 189,
     "metadata": {},
     "output_type": "execute_result"
    }
   ],
   "source": [
    "d.shape"
   ]
  },
  {
   "cell_type": "markdown",
   "metadata": {},
   "source": [
    "### Exporting Clean Data"
   ]
  },
  {
   "cell_type": "code",
   "execution_count": null,
   "metadata": {},
   "outputs": [],
   "source": [
    " "
   ]
  },
  {
   "cell_type": "code",
   "execution_count": 191,
   "metadata": {},
   "outputs": [
    {
     "data": {
      "text/html": [
       "<div>\n",
       "<style scoped>\n",
       "    .dataframe tbody tr th:only-of-type {\n",
       "        vertical-align: middle;\n",
       "    }\n",
       "\n",
       "    .dataframe tbody tr th {\n",
       "        vertical-align: top;\n",
       "    }\n",
       "\n",
       "    .dataframe thead th {\n",
       "        text-align: right;\n",
       "    }\n",
       "</style>\n",
       "<table border=\"1\" class=\"dataframe\">\n",
       "  <thead>\n",
       "    <tr style=\"text-align: right;\">\n",
       "      <th></th>\n",
       "      <th>agent_state</th>\n",
       "      <th>application_type</th>\n",
       "      <th>case_status</th>\n",
       "      <th>class_of_admission</th>\n",
       "      <th>employer_yr_estab</th>\n",
       "      <th>employer_state</th>\n",
       "      <th>foreign_worker_info_education</th>\n",
       "      <th>foreign_worker_info_major</th>\n",
       "      <th>job_experience</th>\n",
       "      <th>job_training</th>\n",
       "      <th>job_work_state</th>\n",
       "      <th>pv_unit_of_pay_9089</th>\n",
       "      <th>level</th>\n",
       "      <th>source_name</th>\n",
       "      <th>sector</th>\n",
       "      <th>case_received_date_year</th>\n",
       "      <th>decision_date_year</th>\n",
       "      <th>meansal</th>\n",
       "      <th>Enterprise_Size</th>\n",
       "      <th>continent</th>\n",
       "    </tr>\n",
       "  </thead>\n",
       "  <tbody>\n",
       "    <tr>\n",
       "      <th>0</th>\n",
       "      <td>West</td>\n",
       "      <td>PERM</td>\n",
       "      <td>Certified</td>\n",
       "      <td>J</td>\n",
       "      <td>New</td>\n",
       "      <td>Northeast</td>\n",
       "      <td>Master's</td>\n",
       "      <td>Engineer</td>\n",
       "      <td>Y</td>\n",
       "      <td>N</td>\n",
       "      <td>Northeast</td>\n",
       "      <td>Year</td>\n",
       "      <td>Level II</td>\n",
       "      <td>OES</td>\n",
       "      <td>IT</td>\n",
       "      <td>2007</td>\n",
       "      <td>2012</td>\n",
       "      <td>75629.000</td>\n",
       "      <td>Large</td>\n",
       "      <td>ASIA</td>\n",
       "    </tr>\n",
       "    <tr>\n",
       "      <th>1</th>\n",
       "      <td>West</td>\n",
       "      <td>PERM</td>\n",
       "      <td>Denied</td>\n",
       "      <td>B</td>\n",
       "      <td>New</td>\n",
       "      <td>Northeast</td>\n",
       "      <td>Master's</td>\n",
       "      <td>Engineer</td>\n",
       "      <td>Y</td>\n",
       "      <td>N</td>\n",
       "      <td>Northeast</td>\n",
       "      <td>Year</td>\n",
       "      <td>Level I</td>\n",
       "      <td>OES</td>\n",
       "      <td>Other Economic Sector</td>\n",
       "      <td>2007</td>\n",
       "      <td>2011</td>\n",
       "      <td>37024.000</td>\n",
       "      <td>Large</td>\n",
       "      <td>EUROPE</td>\n",
       "    </tr>\n",
       "    <tr>\n",
       "      <th>2</th>\n",
       "      <td>West</td>\n",
       "      <td>PERM</td>\n",
       "      <td>Certified</td>\n",
       "      <td>H-1B</td>\n",
       "      <td>New</td>\n",
       "      <td>South</td>\n",
       "      <td>Master's</td>\n",
       "      <td>Engineer</td>\n",
       "      <td>Y</td>\n",
       "      <td>N</td>\n",
       "      <td>South</td>\n",
       "      <td>Year</td>\n",
       "      <td>Level I</td>\n",
       "      <td>OES</td>\n",
       "      <td>Aerospace</td>\n",
       "      <td>2007</td>\n",
       "      <td>2011</td>\n",
       "      <td>47923.000</td>\n",
       "      <td>Large</td>\n",
       "      <td>ASIA</td>\n",
       "    </tr>\n",
       "    <tr>\n",
       "      <th>3</th>\n",
       "      <td>West</td>\n",
       "      <td>PERM</td>\n",
       "      <td>Certified</td>\n",
       "      <td>B</td>\n",
       "      <td>New</td>\n",
       "      <td>Northeast</td>\n",
       "      <td>Master's</td>\n",
       "      <td>Engineer</td>\n",
       "      <td>Y</td>\n",
       "      <td>N</td>\n",
       "      <td>Northeast</td>\n",
       "      <td>Year</td>\n",
       "      <td>Level II</td>\n",
       "      <td>OES</td>\n",
       "      <td>Other Economic Sector</td>\n",
       "      <td>2007</td>\n",
       "      <td>2011</td>\n",
       "      <td>10975.485</td>\n",
       "      <td>Large</td>\n",
       "      <td>ASIA</td>\n",
       "    </tr>\n",
       "    <tr>\n",
       "      <th>4</th>\n",
       "      <td>West</td>\n",
       "      <td>PERM</td>\n",
       "      <td>Certified</td>\n",
       "      <td>L</td>\n",
       "      <td>New</td>\n",
       "      <td>Northeast</td>\n",
       "      <td>Master's</td>\n",
       "      <td>Engineer</td>\n",
       "      <td>Y</td>\n",
       "      <td>N</td>\n",
       "      <td>Northeast</td>\n",
       "      <td>Year</td>\n",
       "      <td>Level IV</td>\n",
       "      <td>OES</td>\n",
       "      <td>Advanced Mfg</td>\n",
       "      <td>2007</td>\n",
       "      <td>2012</td>\n",
       "      <td>97445.000</td>\n",
       "      <td>Large</td>\n",
       "      <td>North America</td>\n",
       "    </tr>\n",
       "  </tbody>\n",
       "</table>\n",
       "</div>"
      ],
      "text/plain": [
       "  agent_state application_type case_status class_of_admission  \\\n",
       "0        West             PERM   Certified                  J   \n",
       "1        West             PERM      Denied                  B   \n",
       "2        West             PERM   Certified               H-1B   \n",
       "3        West             PERM   Certified                  B   \n",
       "4        West             PERM   Certified                  L   \n",
       "\n",
       "  employer_yr_estab employer_state foreign_worker_info_education  \\\n",
       "0               New      Northeast                      Master's   \n",
       "1               New      Northeast                      Master's   \n",
       "2               New          South                      Master's   \n",
       "3               New      Northeast                      Master's   \n",
       "4               New      Northeast                      Master's   \n",
       "\n",
       "  foreign_worker_info_major job_experience job_training job_work_state  \\\n",
       "0                  Engineer              Y            N      Northeast   \n",
       "1                  Engineer              Y            N      Northeast   \n",
       "2                  Engineer              Y            N          South   \n",
       "3                  Engineer              Y            N      Northeast   \n",
       "4                  Engineer              Y            N      Northeast   \n",
       "\n",
       "  pv_unit_of_pay_9089     level source_name                 sector  \\\n",
       "0                Year  Level II         OES                     IT   \n",
       "1                Year   Level I         OES  Other Economic Sector   \n",
       "2                Year   Level I         OES              Aerospace   \n",
       "3                Year  Level II         OES  Other Economic Sector   \n",
       "4                Year  Level IV         OES           Advanced Mfg   \n",
       "\n",
       "   case_received_date_year  decision_date_year    meansal Enterprise_Size  \\\n",
       "0                     2007                2012  75629.000           Large   \n",
       "1                     2007                2011  37024.000           Large   \n",
       "2                     2007                2011  47923.000           Large   \n",
       "3                     2007                2011  10975.485           Large   \n",
       "4                     2007                2012  97445.000           Large   \n",
       "\n",
       "       continent  \n",
       "0           ASIA  \n",
       "1         EUROPE  \n",
       "2           ASIA  \n",
       "3           ASIA  \n",
       "4  North America  "
      ]
     },
     "execution_count": 191,
     "metadata": {},
     "output_type": "execute_result"
    }
   ],
   "source": [
    "d.head()\n",
    "\n"
   ]
  },
  {
   "cell_type": "code",
   "execution_count": 192,
   "metadata": {},
   "outputs": [
    {
     "name": "stdout",
     "output_type": "stream",
     "text": [
      "<class 'pandas.core.frame.DataFrame'>\n",
      "Int64Index: 365627 entries, 0 to 374361\n",
      "Data columns (total 20 columns):\n",
      "agent_state                      365627 non-null object\n",
      "application_type                 270538 non-null object\n",
      "case_status                      365627 non-null object\n",
      "class_of_admission               365627 non-null object\n",
      "employer_yr_estab                365627 non-null object\n",
      "employer_state                   365627 non-null object\n",
      "foreign_worker_info_education    365627 non-null object\n",
      "foreign_worker_info_major        365627 non-null object\n",
      "job_experience                   365627 non-null object\n",
      "job_training                     365627 non-null object\n",
      "job_work_state                   365627 non-null object\n",
      "pv_unit_of_pay_9089              365627 non-null object\n",
      "level                            365627 non-null object\n",
      "source_name                      365627 non-null object\n",
      "sector                           249985 non-null object\n",
      "case_received_date_year          365627 non-null int32\n",
      "decision_date_year               365627 non-null int32\n",
      "meansal                          365627 non-null float64\n",
      "Enterprise_Size                  365627 non-null object\n",
      "continent                        365627 non-null object\n",
      "dtypes: float64(1), int32(2), object(17)\n",
      "memory usage: 65.8+ MB\n"
     ]
    }
   ],
   "source": [
    "d.info()"
   ]
  },
  {
   "cell_type": "markdown",
   "metadata": {},
   "source": [
    "### Base Model"
   ]
  },
  {
   "cell_type": "code",
   "execution_count": 193,
   "metadata": {},
   "outputs": [
    {
     "data": {
      "text/plain": [
       "(365627, 20)"
      ]
     },
     "execution_count": 193,
     "metadata": {},
     "output_type": "execute_result"
    }
   ],
   "source": [
    "#d.drop('country_of_citizenship',axis=1,inplace=True)\n",
    "d.shape"
   ]
  },
  {
   "cell_type": "code",
   "execution_count": 194,
   "metadata": {},
   "outputs": [],
   "source": [
    "def target(x):\n",
    "    if x==\"Certified\":\n",
    "        return 0\n",
    "    elif x==\"Certified-Expired\":\n",
    "        return 1\n",
    "    elif x=='Denied':\n",
    "        return 2\n",
    "    else:\n",
    "        return 3\n",
    "d.case_status=d.case_status.apply(target)"
   ]
  },
  {
   "cell_type": "code",
   "execution_count": 195,
   "metadata": {},
   "outputs": [],
   "source": [
    "dummy=pd.get_dummies(d)"
   ]
  },
  {
   "cell_type": "code",
   "execution_count": 196,
   "metadata": {},
   "outputs": [
    {
     "data": {
      "text/html": [
       "<div>\n",
       "<style scoped>\n",
       "    .dataframe tbody tr th:only-of-type {\n",
       "        vertical-align: middle;\n",
       "    }\n",
       "\n",
       "    .dataframe tbody tr th {\n",
       "        vertical-align: top;\n",
       "    }\n",
       "\n",
       "    .dataframe thead th {\n",
       "        text-align: right;\n",
       "    }\n",
       "</style>\n",
       "<table border=\"1\" class=\"dataframe\">\n",
       "  <thead>\n",
       "    <tr style=\"text-align: right;\">\n",
       "      <th></th>\n",
       "      <th>case_status</th>\n",
       "      <th>case_received_date_year</th>\n",
       "      <th>decision_date_year</th>\n",
       "      <th>meansal</th>\n",
       "      <th>agent_state_Island</th>\n",
       "      <th>agent_state_Midwest</th>\n",
       "      <th>agent_state_Northeast</th>\n",
       "      <th>agent_state_South</th>\n",
       "      <th>agent_state_West</th>\n",
       "      <th>application_type_MAILEDIN</th>\n",
       "      <th>...</th>\n",
       "      <th>sector_Transportation</th>\n",
       "      <th>Enterprise_Size_Large</th>\n",
       "      <th>Enterprise_Size_Medium</th>\n",
       "      <th>Enterprise_Size_Small</th>\n",
       "      <th>continent_AFRICA</th>\n",
       "      <th>continent_ASIA</th>\n",
       "      <th>continent_EUROPE</th>\n",
       "      <th>continent_North America</th>\n",
       "      <th>continent_Oceania</th>\n",
       "      <th>continent_South America</th>\n",
       "    </tr>\n",
       "  </thead>\n",
       "  <tbody>\n",
       "    <tr>\n",
       "      <th>0</th>\n",
       "      <td>0</td>\n",
       "      <td>2007</td>\n",
       "      <td>2012</td>\n",
       "      <td>75629.000</td>\n",
       "      <td>0</td>\n",
       "      <td>0</td>\n",
       "      <td>0</td>\n",
       "      <td>0</td>\n",
       "      <td>1</td>\n",
       "      <td>0</td>\n",
       "      <td>...</td>\n",
       "      <td>0</td>\n",
       "      <td>1</td>\n",
       "      <td>0</td>\n",
       "      <td>0</td>\n",
       "      <td>0</td>\n",
       "      <td>1</td>\n",
       "      <td>0</td>\n",
       "      <td>0</td>\n",
       "      <td>0</td>\n",
       "      <td>0</td>\n",
       "    </tr>\n",
       "    <tr>\n",
       "      <th>1</th>\n",
       "      <td>2</td>\n",
       "      <td>2007</td>\n",
       "      <td>2011</td>\n",
       "      <td>37024.000</td>\n",
       "      <td>0</td>\n",
       "      <td>0</td>\n",
       "      <td>0</td>\n",
       "      <td>0</td>\n",
       "      <td>1</td>\n",
       "      <td>0</td>\n",
       "      <td>...</td>\n",
       "      <td>0</td>\n",
       "      <td>1</td>\n",
       "      <td>0</td>\n",
       "      <td>0</td>\n",
       "      <td>0</td>\n",
       "      <td>0</td>\n",
       "      <td>1</td>\n",
       "      <td>0</td>\n",
       "      <td>0</td>\n",
       "      <td>0</td>\n",
       "    </tr>\n",
       "    <tr>\n",
       "      <th>2</th>\n",
       "      <td>0</td>\n",
       "      <td>2007</td>\n",
       "      <td>2011</td>\n",
       "      <td>47923.000</td>\n",
       "      <td>0</td>\n",
       "      <td>0</td>\n",
       "      <td>0</td>\n",
       "      <td>0</td>\n",
       "      <td>1</td>\n",
       "      <td>0</td>\n",
       "      <td>...</td>\n",
       "      <td>0</td>\n",
       "      <td>1</td>\n",
       "      <td>0</td>\n",
       "      <td>0</td>\n",
       "      <td>0</td>\n",
       "      <td>1</td>\n",
       "      <td>0</td>\n",
       "      <td>0</td>\n",
       "      <td>0</td>\n",
       "      <td>0</td>\n",
       "    </tr>\n",
       "    <tr>\n",
       "      <th>3</th>\n",
       "      <td>0</td>\n",
       "      <td>2007</td>\n",
       "      <td>2011</td>\n",
       "      <td>10975.485</td>\n",
       "      <td>0</td>\n",
       "      <td>0</td>\n",
       "      <td>0</td>\n",
       "      <td>0</td>\n",
       "      <td>1</td>\n",
       "      <td>0</td>\n",
       "      <td>...</td>\n",
       "      <td>0</td>\n",
       "      <td>1</td>\n",
       "      <td>0</td>\n",
       "      <td>0</td>\n",
       "      <td>0</td>\n",
       "      <td>1</td>\n",
       "      <td>0</td>\n",
       "      <td>0</td>\n",
       "      <td>0</td>\n",
       "      <td>0</td>\n",
       "    </tr>\n",
       "    <tr>\n",
       "      <th>4</th>\n",
       "      <td>0</td>\n",
       "      <td>2007</td>\n",
       "      <td>2012</td>\n",
       "      <td>97445.000</td>\n",
       "      <td>0</td>\n",
       "      <td>0</td>\n",
       "      <td>0</td>\n",
       "      <td>0</td>\n",
       "      <td>1</td>\n",
       "      <td>0</td>\n",
       "      <td>...</td>\n",
       "      <td>0</td>\n",
       "      <td>1</td>\n",
       "      <td>0</td>\n",
       "      <td>0</td>\n",
       "      <td>0</td>\n",
       "      <td>0</td>\n",
       "      <td>0</td>\n",
       "      <td>1</td>\n",
       "      <td>0</td>\n",
       "      <td>0</td>\n",
       "    </tr>\n",
       "  </tbody>\n",
       "</table>\n",
       "<p>5 rows × 113 columns</p>\n",
       "</div>"
      ],
      "text/plain": [
       "   case_status  case_received_date_year  decision_date_year    meansal  \\\n",
       "0            0                     2007                2012  75629.000   \n",
       "1            2                     2007                2011  37024.000   \n",
       "2            0                     2007                2011  47923.000   \n",
       "3            0                     2007                2011  10975.485   \n",
       "4            0                     2007                2012  97445.000   \n",
       "\n",
       "   agent_state_Island  agent_state_Midwest  agent_state_Northeast  \\\n",
       "0                   0                    0                      0   \n",
       "1                   0                    0                      0   \n",
       "2                   0                    0                      0   \n",
       "3                   0                    0                      0   \n",
       "4                   0                    0                      0   \n",
       "\n",
       "   agent_state_South  agent_state_West  application_type_MAILEDIN  ...  \\\n",
       "0                  0                 1                          0  ...   \n",
       "1                  0                 1                          0  ...   \n",
       "2                  0                 1                          0  ...   \n",
       "3                  0                 1                          0  ...   \n",
       "4                  0                 1                          0  ...   \n",
       "\n",
       "   sector_Transportation  Enterprise_Size_Large  Enterprise_Size_Medium  \\\n",
       "0                      0                      1                       0   \n",
       "1                      0                      1                       0   \n",
       "2                      0                      1                       0   \n",
       "3                      0                      1                       0   \n",
       "4                      0                      1                       0   \n",
       "\n",
       "   Enterprise_Size_Small  continent_AFRICA  continent_ASIA  continent_EUROPE  \\\n",
       "0                      0                 0               1                 0   \n",
       "1                      0                 0               0                 1   \n",
       "2                      0                 0               1                 0   \n",
       "3                      0                 0               1                 0   \n",
       "4                      0                 0               0                 0   \n",
       "\n",
       "   continent_North America  continent_Oceania  continent_South America  \n",
       "0                        0                  0                        0  \n",
       "1                        0                  0                        0  \n",
       "2                        0                  0                        0  \n",
       "3                        0                  0                        0  \n",
       "4                        1                  0                        0  \n",
       "\n",
       "[5 rows x 113 columns]"
      ]
     },
     "execution_count": 196,
     "metadata": {},
     "output_type": "execute_result"
    }
   ],
   "source": [
    "dummy.head()"
   ]
  },
  {
   "cell_type": "code",
   "execution_count": 197,
   "metadata": {},
   "outputs": [
    {
     "data": {
      "text/plain": [
       "Index(['case_status', 'case_received_date_year', 'decision_date_year',\n",
       "       'meansal', 'agent_state_Island', 'agent_state_Midwest',\n",
       "       'agent_state_Northeast', 'agent_state_South', 'agent_state_West',\n",
       "       'application_type_MAILEDIN',\n",
       "       ...\n",
       "       'sector_Transportation', 'Enterprise_Size_Large',\n",
       "       'Enterprise_Size_Medium', 'Enterprise_Size_Small', 'continent_AFRICA',\n",
       "       'continent_ASIA', 'continent_EUROPE', 'continent_North America',\n",
       "       'continent_Oceania', 'continent_South America'],\n",
       "      dtype='object', length=113)"
      ]
     },
     "execution_count": 197,
     "metadata": {},
     "output_type": "execute_result"
    }
   ],
   "source": [
    "dummy.columns"
   ]
  },
  {
   "cell_type": "code",
   "execution_count": 198,
   "metadata": {},
   "outputs": [],
   "source": [
    "x=dummy.drop('case_status',axis=1)\n",
    "y=dummy['case_status']"
   ]
  },
  {
   "cell_type": "code",
   "execution_count": 201,
   "metadata": {},
   "outputs": [
    {
     "data": {
      "text/html": [
       "<div>\n",
       "<style scoped>\n",
       "    .dataframe tbody tr th:only-of-type {\n",
       "        vertical-align: middle;\n",
       "    }\n",
       "\n",
       "    .dataframe tbody tr th {\n",
       "        vertical-align: top;\n",
       "    }\n",
       "\n",
       "    .dataframe thead th {\n",
       "        text-align: right;\n",
       "    }\n",
       "</style>\n",
       "<table border=\"1\" class=\"dataframe\">\n",
       "  <thead>\n",
       "    <tr style=\"text-align: right;\">\n",
       "      <th></th>\n",
       "      <th>case_received_date_year</th>\n",
       "      <th>decision_date_year</th>\n",
       "      <th>meansal</th>\n",
       "      <th>agent_state_Island</th>\n",
       "      <th>agent_state_Midwest</th>\n",
       "      <th>agent_state_Northeast</th>\n",
       "      <th>agent_state_South</th>\n",
       "      <th>agent_state_West</th>\n",
       "      <th>application_type_MAILEDIN</th>\n",
       "      <th>application_type_ONLINE</th>\n",
       "      <th>...</th>\n",
       "      <th>sector_Transportation</th>\n",
       "      <th>Enterprise_Size_Large</th>\n",
       "      <th>Enterprise_Size_Medium</th>\n",
       "      <th>Enterprise_Size_Small</th>\n",
       "      <th>continent_AFRICA</th>\n",
       "      <th>continent_ASIA</th>\n",
       "      <th>continent_EUROPE</th>\n",
       "      <th>continent_North America</th>\n",
       "      <th>continent_Oceania</th>\n",
       "      <th>continent_South America</th>\n",
       "    </tr>\n",
       "  </thead>\n",
       "  <tbody>\n",
       "    <tr>\n",
       "      <th>0</th>\n",
       "      <td>2007</td>\n",
       "      <td>2012</td>\n",
       "      <td>75629.000</td>\n",
       "      <td>0</td>\n",
       "      <td>0</td>\n",
       "      <td>0</td>\n",
       "      <td>0</td>\n",
       "      <td>1</td>\n",
       "      <td>0</td>\n",
       "      <td>0</td>\n",
       "      <td>...</td>\n",
       "      <td>0</td>\n",
       "      <td>1</td>\n",
       "      <td>0</td>\n",
       "      <td>0</td>\n",
       "      <td>0</td>\n",
       "      <td>1</td>\n",
       "      <td>0</td>\n",
       "      <td>0</td>\n",
       "      <td>0</td>\n",
       "      <td>0</td>\n",
       "    </tr>\n",
       "    <tr>\n",
       "      <th>1</th>\n",
       "      <td>2007</td>\n",
       "      <td>2011</td>\n",
       "      <td>37024.000</td>\n",
       "      <td>0</td>\n",
       "      <td>0</td>\n",
       "      <td>0</td>\n",
       "      <td>0</td>\n",
       "      <td>1</td>\n",
       "      <td>0</td>\n",
       "      <td>0</td>\n",
       "      <td>...</td>\n",
       "      <td>0</td>\n",
       "      <td>1</td>\n",
       "      <td>0</td>\n",
       "      <td>0</td>\n",
       "      <td>0</td>\n",
       "      <td>0</td>\n",
       "      <td>1</td>\n",
       "      <td>0</td>\n",
       "      <td>0</td>\n",
       "      <td>0</td>\n",
       "    </tr>\n",
       "    <tr>\n",
       "      <th>2</th>\n",
       "      <td>2007</td>\n",
       "      <td>2011</td>\n",
       "      <td>47923.000</td>\n",
       "      <td>0</td>\n",
       "      <td>0</td>\n",
       "      <td>0</td>\n",
       "      <td>0</td>\n",
       "      <td>1</td>\n",
       "      <td>0</td>\n",
       "      <td>0</td>\n",
       "      <td>...</td>\n",
       "      <td>0</td>\n",
       "      <td>1</td>\n",
       "      <td>0</td>\n",
       "      <td>0</td>\n",
       "      <td>0</td>\n",
       "      <td>1</td>\n",
       "      <td>0</td>\n",
       "      <td>0</td>\n",
       "      <td>0</td>\n",
       "      <td>0</td>\n",
       "    </tr>\n",
       "    <tr>\n",
       "      <th>3</th>\n",
       "      <td>2007</td>\n",
       "      <td>2011</td>\n",
       "      <td>10975.485</td>\n",
       "      <td>0</td>\n",
       "      <td>0</td>\n",
       "      <td>0</td>\n",
       "      <td>0</td>\n",
       "      <td>1</td>\n",
       "      <td>0</td>\n",
       "      <td>0</td>\n",
       "      <td>...</td>\n",
       "      <td>0</td>\n",
       "      <td>1</td>\n",
       "      <td>0</td>\n",
       "      <td>0</td>\n",
       "      <td>0</td>\n",
       "      <td>1</td>\n",
       "      <td>0</td>\n",
       "      <td>0</td>\n",
       "      <td>0</td>\n",
       "      <td>0</td>\n",
       "    </tr>\n",
       "    <tr>\n",
       "      <th>4</th>\n",
       "      <td>2007</td>\n",
       "      <td>2012</td>\n",
       "      <td>97445.000</td>\n",
       "      <td>0</td>\n",
       "      <td>0</td>\n",
       "      <td>0</td>\n",
       "      <td>0</td>\n",
       "      <td>1</td>\n",
       "      <td>0</td>\n",
       "      <td>0</td>\n",
       "      <td>...</td>\n",
       "      <td>0</td>\n",
       "      <td>1</td>\n",
       "      <td>0</td>\n",
       "      <td>0</td>\n",
       "      <td>0</td>\n",
       "      <td>0</td>\n",
       "      <td>0</td>\n",
       "      <td>1</td>\n",
       "      <td>0</td>\n",
       "      <td>0</td>\n",
       "    </tr>\n",
       "  </tbody>\n",
       "</table>\n",
       "<p>5 rows × 112 columns</p>\n",
       "</div>"
      ],
      "text/plain": [
       "   case_received_date_year  decision_date_year    meansal  agent_state_Island  \\\n",
       "0                     2007                2012  75629.000                   0   \n",
       "1                     2007                2011  37024.000                   0   \n",
       "2                     2007                2011  47923.000                   0   \n",
       "3                     2007                2011  10975.485                   0   \n",
       "4                     2007                2012  97445.000                   0   \n",
       "\n",
       "   agent_state_Midwest  agent_state_Northeast  agent_state_South  \\\n",
       "0                    0                      0                  0   \n",
       "1                    0                      0                  0   \n",
       "2                    0                      0                  0   \n",
       "3                    0                      0                  0   \n",
       "4                    0                      0                  0   \n",
       "\n",
       "   agent_state_West  application_type_MAILEDIN  application_type_ONLINE  ...  \\\n",
       "0                 1                          0                        0  ...   \n",
       "1                 1                          0                        0  ...   \n",
       "2                 1                          0                        0  ...   \n",
       "3                 1                          0                        0  ...   \n",
       "4                 1                          0                        0  ...   \n",
       "\n",
       "   sector_Transportation  Enterprise_Size_Large  Enterprise_Size_Medium  \\\n",
       "0                      0                      1                       0   \n",
       "1                      0                      1                       0   \n",
       "2                      0                      1                       0   \n",
       "3                      0                      1                       0   \n",
       "4                      0                      1                       0   \n",
       "\n",
       "   Enterprise_Size_Small  continent_AFRICA  continent_ASIA  continent_EUROPE  \\\n",
       "0                      0                 0               1                 0   \n",
       "1                      0                 0               0                 1   \n",
       "2                      0                 0               1                 0   \n",
       "3                      0                 0               1                 0   \n",
       "4                      0                 0               0                 0   \n",
       "\n",
       "   continent_North America  continent_Oceania  continent_South America  \n",
       "0                        0                  0                        0  \n",
       "1                        0                  0                        0  \n",
       "2                        0                  0                        0  \n",
       "3                        0                  0                        0  \n",
       "4                        1                  0                        0  \n",
       "\n",
       "[5 rows x 112 columns]"
      ]
     },
     "execution_count": 201,
     "metadata": {},
     "output_type": "execute_result"
    }
   ],
   "source": [
    "x.head()"
   ]
  },
  {
   "cell_type": "code",
   "execution_count": 204,
   "metadata": {},
   "outputs": [],
   "source": [
    "from sklearn.model_selection import train_test_split\n",
    "xtrain,xtest,ytrain,ytest=train_test_split(x,y,test_size=0.2,random_state=123)"
   ]
  },
  {
   "cell_type": "code",
   "execution_count": 205,
   "metadata": {},
   "outputs": [],
   "source": [
    "#scaled_train=pd.DataFrame(sc.fit_transform(xtrain),columns=xtrain.columns)\n",
    "#scaled_test=pd.DataFrame(sc.transform(xtest),columns=xtest.columns)"
   ]
  },
  {
   "cell_type": "code",
   "execution_count": 206,
   "metadata": {},
   "outputs": [],
   "source": [
    "from sklearn.ensemble import RandomForestClassifier\n",
    "rf=RandomForestClassifier()"
   ]
  },
  {
   "cell_type": "code",
   "execution_count": null,
   "metadata": {},
   "outputs": [],
   "source": []
  },
  {
   "cell_type": "code",
   "execution_count": 207,
   "metadata": {},
   "outputs": [],
   "source": [
    "model=rf.fit(xtrain,ytrain)\n",
    "ypred=model.predict(xtest)"
   ]
  },
  {
   "cell_type": "code",
   "execution_count": 208,
   "metadata": {},
   "outputs": [],
   "source": [
    "from sklearn.metrics import classification_report,f1_score,confusion_matrix,cohen_kappa_score,matthews_corrcoef,accuracy_score"
   ]
  },
  {
   "cell_type": "code",
   "execution_count": 209,
   "metadata": {},
   "outputs": [
    {
     "name": "stdout",
     "output_type": "stream",
     "text": [
      "              precision    recall  f1-score   support\n",
      "\n",
      "           0       0.79      0.83      0.81     35675\n",
      "           1       0.77      0.80      0.78     28710\n",
      "           2       0.65      0.45      0.53      5128\n",
      "           3       0.59      0.37      0.46      3613\n",
      "\n",
      "    accuracy                           0.77     73126\n",
      "   macro avg       0.70      0.61      0.64     73126\n",
      "weighted avg       0.76      0.77      0.76     73126\n",
      "\n"
     ]
    }
   ],
   "source": [
    "print(classification_report(ytest,ypred))"
   ]
  },
  {
   "cell_type": "code",
   "execution_count": 210,
   "metadata": {},
   "outputs": [
    {
     "data": {
      "text/plain": [
       "0.7677433470995269"
      ]
     },
     "execution_count": 210,
     "metadata": {},
     "output_type": "execute_result"
    }
   ],
   "source": [
    "accuracy_score(ytest,ypred)    # previous value = 67%"
   ]
  },
  {
   "cell_type": "code",
   "execution_count": 211,
   "metadata": {},
   "outputs": [
    {
     "data": {
      "text/plain": [
       "0.6028538301247282"
      ]
     },
     "execution_count": 211,
     "metadata": {},
     "output_type": "execute_result"
    }
   ],
   "source": [
    "cohen_kappa_score(ytest,ypred)   # previous value = 0.44"
   ]
  },
  {
   "cell_type": "code",
   "execution_count": 212,
   "metadata": {},
   "outputs": [
    {
     "data": {
      "text/plain": [
       "0.60395388955402"
      ]
     },
     "execution_count": 212,
     "metadata": {},
     "output_type": "execute_result"
    }
   ],
   "source": [
    "matthews_corrcoef(ytest,ypred)"
   ]
  },
  {
   "cell_type": "code",
   "execution_count": null,
   "metadata": {},
   "outputs": [],
   "source": [
    "from sklearn.tree import DecisionTreeClassifier"
   ]
  },
  {
   "cell_type": "code",
   "execution_count": null,
   "metadata": {},
   "outputs": [],
   "source": [
    " #grid search for decision trees\n",
    "dtree =DecisionTreeClassifier(random_state = 0)\n",
    "base_results_dtree = cross_validate(dtree, x, y, cv  = cv_split, return_train_score=True)\n",
    "dtree.fit(x, y)\n",
    "\n",
    "epoch=0\n",
    "for train_score,test_score in zip(base_results_dtree['train_score'], base_results_dtree['test_score']):\n",
    "        epoch +=1       \n",
    "        print(\"epoch:\",epoch,\"train_score:\",train_score, \"test_score:\",test_score)\n",
    "print('-'*10)\n",
    "\n",
    "print('BEFORE Tuning Parameters: ', dtree.get_params())\n",
    "print(\"BEFORE Tuning Training w/bin score mean: {:.2f}\". format(base_results_dtree['train_score'].mean()*100)) \n",
    "print(\"BEFORE Tuning Test w/bin score mean: {:.2f}\". format(base_results_dtree['test_score'].mean()*100))\n",
    "print('-'*10)\n",
    "\n",
    "param_grid = {'criterion': ['gini','entropy'], \n",
    "              'splitter': ['best', 'random'], \n",
    "              'max_depth': [2,4,6,8,10,None], \n",
    "              #'min_samples_split': [2,5,7,10,12], \n",
    "              #'min_samples_leaf': [1,3,5,7, 10], \n",
    "              'random_state': [0] \n",
    "             }\n",
    "\n",
    "\n",
    "tune_model = GridSearchCV(tree.DecisionTreeClassifier(), param_grid=param_grid, scoring = 'accuracy', cv = cv_split, return_train_score=True)\n",
    "tune_model.fit(x, y)\n",
    "\n",
    "for i in range(10):\n",
    "    print(\"epoch:\",i,\"train_score:\",tune_model.cv_results_['split'+str(i)+'_train_score'][tune_model.best_index_],\n",
    "    \"test_score:\",tune_model.cv_results_['split'+str(i)+'_test_score'][tune_model.best_index_])\n",
    "\n",
    "print('-'*10)    \n",
    "\n",
    "print('AFTER Tuning Parameters: ', tune_model.best_params_)\n",
    "print(\"AFTER Tuning Training w/bin score mean: {:.2f}\". format(tune_model.cv_results_['mean_train_score'][tune_model.best_index_]*100))\n",
    "print(\"AFTER Tuning Test w/bin score mean: {:.2f}\". format(tune_model.cv_results_['mean_test_score'][tune_model.best_index_]*100))\n",
    "print('-'*10)"
   ]
  },
  {
   "cell_type": "code",
   "execution_count": null,
   "metadata": {},
   "outputs": [],
   "source": []
  },
  {
   "cell_type": "markdown",
   "metadata": {},
   "source": [
    "####  Other models\n"
   ]
  },
  {
   "cell_type": "code",
   "execution_count": null,
   "metadata": {},
   "outputs": [],
   "source": [
    "from sklearn.linear_model import LogisticRegression\n",
    "from sklearn.tree import DecisionTreeClassifier\n",
    "from sklearn.ensemble import AdaBoostClassifier, GradientBoostingClassifier"
   ]
  },
  {
   "cell_type": "code",
   "execution_count": null,
   "metadata": {},
   "outputs": [],
   "source": []
  },
  {
   "cell_type": "code",
   "execution_count": null,
   "metadata": {},
   "outputs": [],
   "source": [
    "dtmodel=dt.fit(xtrain,ytrain)\n",
    "dtpred=dtmodel.predict(xtest)"
   ]
  },
  {
   "cell_type": "code",
   "execution_count": null,
   "metadata": {},
   "outputs": [],
   "source": [
    "print(accuracy_score(ytest,dtpred))"
   ]
  },
  {
   "cell_type": "code",
   "execution_count": null,
   "metadata": {},
   "outputs": [],
   "source": [
    "cohen_kappa_score(ytest,dtpred)"
   ]
  },
  {
   "cell_type": "code",
   "execution_count": null,
   "metadata": {},
   "outputs": [],
   "source": []
  },
  {
   "cell_type": "code",
   "execution_count": null,
   "metadata": {},
   "outputs": [],
   "source": [
    "LR=LogisticRegression()\n",
    "DT=DecisionTreeClassifier(criterion='entropy',random_state=0,)\n",
    "DT_boost=AdaBoostClassifier(n_estimators=100,random_state=0)\n",
    "LR_boost=AdaBoostClassifier(n_estimators=100,base_estimator=LR,random_state=0)\n",
    "RF_boost=AdaBoostClassifier(base_estimator=rf,n_estimators=100,random_state=0)\n",
    "GBoost=GradientBoostingClassifier(n_estimators=100,random_state=0)"
   ]
  },
  {
   "cell_type": "code",
   "execution_count": null,
   "metadata": {},
   "outputs": [],
   "source": [
    "import warnings\n",
    "warnings.filterwarnings('ignore',category=FutureWarning)"
   ]
  },
  {
   "cell_type": "code",
   "execution_count": null,
   "metadata": {},
   "outputs": [],
   "source": [
    "mod=DT_boost.fit(xtrain,ytrain)\n",
    "pr=mod.predict(xtest)"
   ]
  },
  {
   "cell_type": "code",
   "execution_count": null,
   "metadata": {},
   "outputs": [],
   "source": [
    "print(accuracy_score(ytest,dtpred))\n",
    "print(cohen_kappa_score(ytest,dtpred))"
   ]
  },
  {
   "cell_type": "code",
   "execution_count": null,
   "metadata": {},
   "outputs": [],
   "source": [
    "mod1=GBoost.fit(xtrain,ytrain)\n",
    "pr1=mod1.predict(xtest)\n",
    "print(accuracy_score(ytest,pr1))\n",
    "print(cohen_kappa_score(ytest,pr1))"
   ]
  },
  {
   "cell_type": "code",
   "execution_count": null,
   "metadata": {},
   "outputs": [],
   "source": []
  }
 ],
 "metadata": {
  "kernelspec": {
   "display_name": "Python 3",
   "language": "python",
   "name": "python3"
  },
  "language_info": {
   "codemirror_mode": {
    "name": "ipython",
    "version": 3
   },
   "file_extension": ".py",
   "mimetype": "text/x-python",
   "name": "python",
   "nbconvert_exporter": "python",
   "pygments_lexer": "ipython3",
   "version": "3.7.3"
  }
 },
 "nbformat": 4,
 "nbformat_minor": 2
}
