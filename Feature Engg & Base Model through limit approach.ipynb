{
 "cells": [
  {
   "cell_type": "code",
   "execution_count": 1,
   "metadata": {},
   "outputs": [],
   "source": [
    "import pandas as pd\n",
    "import numpy as np\n",
    "import matplotlib.pyplot as plt\n",
    "import seaborn as sns\n",
    "import warnings \n",
    "warnings.filterwarnings('ignore')\n",
    "\n",
    "%matplotlib inline\n",
    "\n",
    "pd.set_option('display.max_columns', 50)"
   ]
  },
  {
   "cell_type": "code",
   "execution_count": 2,
   "metadata": {},
   "outputs": [],
   "source": [
    "data=pd.read_excel('edited final.xlsx',parse_dates=['case_received_date','decision_date'])"
   ]
  },
  {
   "cell_type": "code",
   "execution_count": 3,
   "metadata": {},
   "outputs": [
    {
     "data": {
      "text/html": [
       "<div>\n",
       "<style scoped>\n",
       "    .dataframe tbody tr th:only-of-type {\n",
       "        vertical-align: middle;\n",
       "    }\n",
       "\n",
       "    .dataframe tbody tr th {\n",
       "        vertical-align: top;\n",
       "    }\n",
       "\n",
       "    .dataframe thead th {\n",
       "        text-align: right;\n",
       "    }\n",
       "</style>\n",
       "<table border=\"1\" class=\"dataframe\">\n",
       "  <thead>\n",
       "    <tr style=\"text-align: right;\">\n",
       "      <th></th>\n",
       "      <th>agent_state</th>\n",
       "      <th>application_type</th>\n",
       "      <th>case_no</th>\n",
       "      <th>case_received_date</th>\n",
       "      <th>case_status</th>\n",
       "      <th>class_of_admission</th>\n",
       "      <th>country_of_citizenship</th>\n",
       "      <th>decision_date</th>\n",
       "      <th>employer_num_employees</th>\n",
       "      <th>employer_yr_estab</th>\n",
       "      <th>employer_city</th>\n",
       "      <th>employer_name</th>\n",
       "      <th>employer_state</th>\n",
       "      <th>foreign_worker_info_education</th>\n",
       "      <th>foreign_worker_info_major</th>\n",
       "      <th>job_experience</th>\n",
       "      <th>job_title</th>\n",
       "      <th>job_training</th>\n",
       "      <th>job_work_state</th>\n",
       "      <th>pv_unit_of_pay_9089</th>\n",
       "      <th>previous_salary</th>\n",
       "      <th>level</th>\n",
       "      <th>source_name</th>\n",
       "      <th>sector</th>\n",
       "      <th>wage_offer</th>\n",
       "      <th>wage_unit_of_pay</th>\n",
       "    </tr>\n",
       "  </thead>\n",
       "  <tbody>\n",
       "    <tr>\n",
       "      <th>0</th>\n",
       "      <td>NaN</td>\n",
       "      <td>PERM</td>\n",
       "      <td>A-07323-97014</td>\n",
       "      <td>NaT</td>\n",
       "      <td>Certified</td>\n",
       "      <td>J-1</td>\n",
       "      <td>ARMENIA</td>\n",
       "      <td>2012-02-01</td>\n",
       "      <td>NaN</td>\n",
       "      <td>NaN</td>\n",
       "      <td>NEW YORK</td>\n",
       "      <td>NETSOFT USA INC.</td>\n",
       "      <td>NY</td>\n",
       "      <td>NaN</td>\n",
       "      <td>NaN</td>\n",
       "      <td>NaN</td>\n",
       "      <td>NaN</td>\n",
       "      <td>NaN</td>\n",
       "      <td>NY</td>\n",
       "      <td>yr</td>\n",
       "      <td>75629.00</td>\n",
       "      <td>Level II</td>\n",
       "      <td>OES</td>\n",
       "      <td>IT</td>\n",
       "      <td>75629</td>\n",
       "      <td>yr</td>\n",
       "    </tr>\n",
       "    <tr>\n",
       "      <th>1</th>\n",
       "      <td>NaN</td>\n",
       "      <td>PERM</td>\n",
       "      <td>A-07332-99439</td>\n",
       "      <td>NaT</td>\n",
       "      <td>Denied</td>\n",
       "      <td>B-2</td>\n",
       "      <td>POLAND</td>\n",
       "      <td>2011-12-21</td>\n",
       "      <td>NaN</td>\n",
       "      <td>NaN</td>\n",
       "      <td>CARLSTADT</td>\n",
       "      <td>PINNACLE ENVIRONEMNTAL CORP</td>\n",
       "      <td>NY</td>\n",
       "      <td>NaN</td>\n",
       "      <td>NaN</td>\n",
       "      <td>NaN</td>\n",
       "      <td>NaN</td>\n",
       "      <td>NaN</td>\n",
       "      <td>NY</td>\n",
       "      <td>yr</td>\n",
       "      <td>37024.00</td>\n",
       "      <td>Level I</td>\n",
       "      <td>OES</td>\n",
       "      <td>Other Economic Sector</td>\n",
       "      <td>37024</td>\n",
       "      <td>yr</td>\n",
       "    </tr>\n",
       "    <tr>\n",
       "      <th>2</th>\n",
       "      <td>NaN</td>\n",
       "      <td>PERM</td>\n",
       "      <td>A-07333-99643</td>\n",
       "      <td>NaT</td>\n",
       "      <td>Certified</td>\n",
       "      <td>H-1B</td>\n",
       "      <td>INDIA</td>\n",
       "      <td>2011-12-01</td>\n",
       "      <td>NaN</td>\n",
       "      <td>NaN</td>\n",
       "      <td>GLEN ALLEN</td>\n",
       "      <td>SCHNABEL ENGINEERING, INC.</td>\n",
       "      <td>VA</td>\n",
       "      <td>NaN</td>\n",
       "      <td>NaN</td>\n",
       "      <td>NaN</td>\n",
       "      <td>NaN</td>\n",
       "      <td>NaN</td>\n",
       "      <td>MD</td>\n",
       "      <td>yr</td>\n",
       "      <td>47923.00</td>\n",
       "      <td>Level I</td>\n",
       "      <td>OES</td>\n",
       "      <td>Aerospace</td>\n",
       "      <td>47923</td>\n",
       "      <td>yr</td>\n",
       "    </tr>\n",
       "    <tr>\n",
       "      <th>3</th>\n",
       "      <td>NaN</td>\n",
       "      <td>PERM</td>\n",
       "      <td>A-07339-01930</td>\n",
       "      <td>NaT</td>\n",
       "      <td>Certified</td>\n",
       "      <td>B-2</td>\n",
       "      <td>SOUTH KOREA</td>\n",
       "      <td>2011-12-01</td>\n",
       "      <td>NaN</td>\n",
       "      <td>NaN</td>\n",
       "      <td>FLUSHING</td>\n",
       "      <td>EBENEZER MISSION CHURCH</td>\n",
       "      <td>NY</td>\n",
       "      <td>NaN</td>\n",
       "      <td>NaN</td>\n",
       "      <td>NaN</td>\n",
       "      <td>NaN</td>\n",
       "      <td>NaN</td>\n",
       "      <td>NY</td>\n",
       "      <td>hr</td>\n",
       "      <td>10.97</td>\n",
       "      <td>Level II</td>\n",
       "      <td>OES</td>\n",
       "      <td>Other Economic Sector</td>\n",
       "      <td>10.97</td>\n",
       "      <td>hr</td>\n",
       "    </tr>\n",
       "    <tr>\n",
       "      <th>4</th>\n",
       "      <td>NaN</td>\n",
       "      <td>PERM</td>\n",
       "      <td>A-07345-03565</td>\n",
       "      <td>NaT</td>\n",
       "      <td>Certified</td>\n",
       "      <td>L-1</td>\n",
       "      <td>CANADA</td>\n",
       "      <td>2012-01-26</td>\n",
       "      <td>NaN</td>\n",
       "      <td>NaN</td>\n",
       "      <td>ALBANY</td>\n",
       "      <td>ALBANY INTERNATIONAL CORP.</td>\n",
       "      <td>NY</td>\n",
       "      <td>NaN</td>\n",
       "      <td>NaN</td>\n",
       "      <td>NaN</td>\n",
       "      <td>NaN</td>\n",
       "      <td>NaN</td>\n",
       "      <td>NY</td>\n",
       "      <td>yr</td>\n",
       "      <td>94890.00</td>\n",
       "      <td>Level IV</td>\n",
       "      <td>OES</td>\n",
       "      <td>Advanced Mfg</td>\n",
       "      <td>100000</td>\n",
       "      <td>yr</td>\n",
       "    </tr>\n",
       "  </tbody>\n",
       "</table>\n",
       "</div>"
      ],
      "text/plain": [
       "  agent_state application_type        case_no case_received_date case_status  \\\n",
       "0         NaN             PERM  A-07323-97014                NaT   Certified   \n",
       "1         NaN             PERM  A-07332-99439                NaT      Denied   \n",
       "2         NaN             PERM  A-07333-99643                NaT   Certified   \n",
       "3         NaN             PERM  A-07339-01930                NaT   Certified   \n",
       "4         NaN             PERM  A-07345-03565                NaT   Certified   \n",
       "\n",
       "  class_of_admission country_of_citizenship decision_date  \\\n",
       "0                J-1                ARMENIA    2012-02-01   \n",
       "1                B-2                 POLAND    2011-12-21   \n",
       "2               H-1B                  INDIA    2011-12-01   \n",
       "3                B-2            SOUTH KOREA    2011-12-01   \n",
       "4                L-1                 CANADA    2012-01-26   \n",
       "\n",
       "   employer_num_employees  employer_yr_estab employer_city  \\\n",
       "0                     NaN                NaN      NEW YORK   \n",
       "1                     NaN                NaN     CARLSTADT   \n",
       "2                     NaN                NaN    GLEN ALLEN   \n",
       "3                     NaN                NaN      FLUSHING   \n",
       "4                     NaN                NaN        ALBANY   \n",
       "\n",
       "                 employer_name employer_state foreign_worker_info_education  \\\n",
       "0             NETSOFT USA INC.             NY                           NaN   \n",
       "1  PINNACLE ENVIRONEMNTAL CORP             NY                           NaN   \n",
       "2   SCHNABEL ENGINEERING, INC.             VA                           NaN   \n",
       "3      EBENEZER MISSION CHURCH             NY                           NaN   \n",
       "4   ALBANY INTERNATIONAL CORP.             NY                           NaN   \n",
       "\n",
       "  foreign_worker_info_major job_experience job_title job_training  \\\n",
       "0                       NaN            NaN       NaN          NaN   \n",
       "1                       NaN            NaN       NaN          NaN   \n",
       "2                       NaN            NaN       NaN          NaN   \n",
       "3                       NaN            NaN       NaN          NaN   \n",
       "4                       NaN            NaN       NaN          NaN   \n",
       "\n",
       "  job_work_state pv_unit_of_pay_9089  previous_salary     level source_name  \\\n",
       "0             NY                  yr         75629.00  Level II         OES   \n",
       "1             NY                  yr         37024.00   Level I         OES   \n",
       "2             MD                  yr         47923.00   Level I         OES   \n",
       "3             NY                  hr            10.97  Level II         OES   \n",
       "4             NY                  yr         94890.00  Level IV         OES   \n",
       "\n",
       "                  sector wage_offer wage_unit_of_pay  \n",
       "0                     IT      75629               yr  \n",
       "1  Other Economic Sector      37024               yr  \n",
       "2              Aerospace      47923               yr  \n",
       "3  Other Economic Sector      10.97               hr  \n",
       "4           Advanced Mfg     100000               yr  "
      ]
     },
     "execution_count": 3,
     "metadata": {},
     "output_type": "execute_result"
    }
   ],
   "source": [
    "data.head()"
   ]
  },
  {
   "cell_type": "code",
   "execution_count": 4,
   "metadata": {},
   "outputs": [
    {
     "name": "stdout",
     "output_type": "stream",
     "text": [
      "<class 'pandas.core.frame.DataFrame'>\n",
      "RangeIndex: 374362 entries, 0 to 374361\n",
      "Data columns (total 26 columns):\n",
      "agent_state                      208239 non-null object\n",
      "application_type                 135269 non-null object\n",
      "case_no                          135269 non-null object\n",
      "case_received_date               239091 non-null datetime64[ns]\n",
      "case_status                      374362 non-null object\n",
      "class_of_admission               351517 non-null object\n",
      "country_of_citizenship           374302 non-null object\n",
      "decision_date                    374362 non-null datetime64[ns]\n",
      "employer_num_employees           239013 non-null float64\n",
      "employer_yr_estab                238958 non-null float64\n",
      "employer_city                    374348 non-null object\n",
      "employer_name                    374350 non-null object\n",
      "employer_state                   374320 non-null object\n",
      "foreign_worker_info_education    239053 non-null object\n",
      "foreign_worker_info_major        219390 non-null object\n",
      "job_experience                   239081 non-null object\n",
      "job_title                        239049 non-null object\n",
      "job_training                     239078 non-null object\n",
      "job_work_state                   374259 non-null object\n",
      "pv_unit_of_pay_9089              364309 non-null object\n",
      "previous_salary                  372146 non-null float64\n",
      "level                            346735 non-null object\n",
      "source_name                      372263 non-null object\n",
      "sector                           129068 non-null object\n",
      "wage_offer                       259591 non-null object\n",
      "wage_unit_of_pay                 258446 non-null object\n",
      "dtypes: datetime64[ns](2), float64(3), object(21)\n",
      "memory usage: 74.3+ MB\n",
      "info None\n",
      "Shape== (374362, 26)\n"
     ]
    }
   ],
   "source": [
    "print('info',data.info())\n",
    "print('Shape==',data.shape)"
   ]
  },
  {
   "cell_type": "code",
   "execution_count": 5,
   "metadata": {},
   "outputs": [],
   "source": [
    "data.drop_duplicates(inplace=True) "
   ]
  },
  {
   "cell_type": "code",
   "execution_count": 6,
   "metadata": {},
   "outputs": [
    {
     "data": {
      "text/plain": [
       "(365627, 26)"
      ]
     },
     "execution_count": 6,
     "metadata": {},
     "output_type": "execute_result"
    }
   ],
   "source": [
    "data.shape"
   ]
  },
  {
   "cell_type": "markdown",
   "metadata": {},
   "source": [
    "### Extracting month and year  from Dates\n",
    "1. The first 2 numbers in the case_no follow a pattern and depict the year .\n",
    "2. It has been observed that in each record , either the case_no is available or the case_received_date\n",
    "3. We will hence extract the year from case_no and impute the case_received_date_year column for its missing values"
   ]
  },
  {
   "cell_type": "code",
   "execution_count": 7,
   "metadata": {},
   "outputs": [],
   "source": [
    "## We have two date columns:-- case_received_date and decision_date so convert date into month and year and try to get some infernces from that.\n",
    "\n",
    "data['case_received_date_year']=data.case_received_date.dt.year\n",
    "\n",
    "data['decision_date_year']=data.decision_date.dt.year"
   ]
  },
  {
   "cell_type": "code",
   "execution_count": 8,
   "metadata": {},
   "outputs": [
    {
     "data": {
      "text/html": [
       "<div>\n",
       "<style scoped>\n",
       "    .dataframe tbody tr th:only-of-type {\n",
       "        vertical-align: middle;\n",
       "    }\n",
       "\n",
       "    .dataframe tbody tr th {\n",
       "        vertical-align: top;\n",
       "    }\n",
       "\n",
       "    .dataframe thead th {\n",
       "        text-align: right;\n",
       "    }\n",
       "</style>\n",
       "<table border=\"1\" class=\"dataframe\">\n",
       "  <thead>\n",
       "    <tr style=\"text-align: right;\">\n",
       "      <th></th>\n",
       "      <th>Total</th>\n",
       "      <th>Percent</th>\n",
       "    </tr>\n",
       "  </thead>\n",
       "  <tbody>\n",
       "    <tr>\n",
       "      <th>sector</th>\n",
       "      <td>236559</td>\n",
       "      <td>0.646995</td>\n",
       "    </tr>\n",
       "    <tr>\n",
       "      <th>application_type</th>\n",
       "      <td>230358</td>\n",
       "      <td>0.630036</td>\n",
       "    </tr>\n",
       "    <tr>\n",
       "      <th>case_no</th>\n",
       "      <td>230358</td>\n",
       "      <td>0.630036</td>\n",
       "    </tr>\n",
       "    <tr>\n",
       "      <th>agent_state</th>\n",
       "      <td>161157</td>\n",
       "      <td>0.440769</td>\n",
       "    </tr>\n",
       "    <tr>\n",
       "      <th>foreign_worker_info_major</th>\n",
       "      <td>151662</td>\n",
       "      <td>0.414800</td>\n",
       "    </tr>\n",
       "    <tr>\n",
       "      <th>employer_yr_estab</th>\n",
       "      <td>135404</td>\n",
       "      <td>0.370334</td>\n",
       "    </tr>\n",
       "    <tr>\n",
       "      <th>employer_num_employees</th>\n",
       "      <td>135349</td>\n",
       "      <td>0.370183</td>\n",
       "    </tr>\n",
       "    <tr>\n",
       "      <th>job_title</th>\n",
       "      <td>135313</td>\n",
       "      <td>0.370085</td>\n",
       "    </tr>\n",
       "    <tr>\n",
       "      <th>foreign_worker_info_education</th>\n",
       "      <td>135308</td>\n",
       "      <td>0.370071</td>\n",
       "    </tr>\n",
       "    <tr>\n",
       "      <th>job_training</th>\n",
       "      <td>135284</td>\n",
       "      <td>0.370005</td>\n",
       "    </tr>\n",
       "    <tr>\n",
       "      <th>job_experience</th>\n",
       "      <td>135281</td>\n",
       "      <td>0.369997</td>\n",
       "    </tr>\n",
       "    <tr>\n",
       "      <th>case_received_date_year</th>\n",
       "      <td>135271</td>\n",
       "      <td>0.369970</td>\n",
       "    </tr>\n",
       "    <tr>\n",
       "      <th>case_received_date</th>\n",
       "      <td>135271</td>\n",
       "      <td>0.369970</td>\n",
       "    </tr>\n",
       "    <tr>\n",
       "      <th>wage_unit_of_pay</th>\n",
       "      <td>115689</td>\n",
       "      <td>0.316413</td>\n",
       "    </tr>\n",
       "    <tr>\n",
       "      <th>wage_offer</th>\n",
       "      <td>114771</td>\n",
       "      <td>0.313902</td>\n",
       "    </tr>\n",
       "    <tr>\n",
       "      <th>level</th>\n",
       "      <td>27095</td>\n",
       "      <td>0.074106</td>\n",
       "    </tr>\n",
       "    <tr>\n",
       "      <th>class_of_admission</th>\n",
       "      <td>21021</td>\n",
       "      <td>0.057493</td>\n",
       "    </tr>\n",
       "    <tr>\n",
       "      <th>pv_unit_of_pay_9089</th>\n",
       "      <td>9630</td>\n",
       "      <td>0.026338</td>\n",
       "    </tr>\n",
       "    <tr>\n",
       "      <th>previous_salary</th>\n",
       "      <td>2214</td>\n",
       "      <td>0.006055</td>\n",
       "    </tr>\n",
       "    <tr>\n",
       "      <th>source_name</th>\n",
       "      <td>2097</td>\n",
       "      <td>0.005735</td>\n",
       "    </tr>\n",
       "    <tr>\n",
       "      <th>job_work_state</th>\n",
       "      <td>103</td>\n",
       "      <td>0.000282</td>\n",
       "    </tr>\n",
       "    <tr>\n",
       "      <th>country_of_citizenship</th>\n",
       "      <td>60</td>\n",
       "      <td>0.000164</td>\n",
       "    </tr>\n",
       "    <tr>\n",
       "      <th>employer_state</th>\n",
       "      <td>42</td>\n",
       "      <td>0.000115</td>\n",
       "    </tr>\n",
       "    <tr>\n",
       "      <th>employer_city</th>\n",
       "      <td>14</td>\n",
       "      <td>0.000038</td>\n",
       "    </tr>\n",
       "    <tr>\n",
       "      <th>employer_name</th>\n",
       "      <td>12</td>\n",
       "      <td>0.000033</td>\n",
       "    </tr>\n",
       "    <tr>\n",
       "      <th>decision_date</th>\n",
       "      <td>0</td>\n",
       "      <td>0.000000</td>\n",
       "    </tr>\n",
       "    <tr>\n",
       "      <th>case_status</th>\n",
       "      <td>0</td>\n",
       "      <td>0.000000</td>\n",
       "    </tr>\n",
       "    <tr>\n",
       "      <th>decision_date_year</th>\n",
       "      <td>0</td>\n",
       "      <td>0.000000</td>\n",
       "    </tr>\n",
       "  </tbody>\n",
       "</table>\n",
       "</div>"
      ],
      "text/plain": [
       "                                Total   Percent\n",
       "sector                         236559  0.646995\n",
       "application_type               230358  0.630036\n",
       "case_no                        230358  0.630036\n",
       "agent_state                    161157  0.440769\n",
       "foreign_worker_info_major      151662  0.414800\n",
       "employer_yr_estab              135404  0.370334\n",
       "employer_num_employees         135349  0.370183\n",
       "job_title                      135313  0.370085\n",
       "foreign_worker_info_education  135308  0.370071\n",
       "job_training                   135284  0.370005\n",
       "job_experience                 135281  0.369997\n",
       "case_received_date_year        135271  0.369970\n",
       "case_received_date             135271  0.369970\n",
       "wage_unit_of_pay               115689  0.316413\n",
       "wage_offer                     114771  0.313902\n",
       "level                           27095  0.074106\n",
       "class_of_admission              21021  0.057493\n",
       "pv_unit_of_pay_9089              9630  0.026338\n",
       "previous_salary                  2214  0.006055\n",
       "source_name                      2097  0.005735\n",
       "job_work_state                    103  0.000282\n",
       "country_of_citizenship             60  0.000164\n",
       "employer_state                     42  0.000115\n",
       "employer_city                      14  0.000038\n",
       "employer_name                      12  0.000033\n",
       "decision_date                       0  0.000000\n",
       "case_status                         0  0.000000\n",
       "decision_date_year                  0  0.000000"
      ]
     },
     "execution_count": 8,
     "metadata": {},
     "output_type": "execute_result"
    }
   ],
   "source": [
    "def missing_check(df):                                    #method-01\n",
    "    total=df.isnull().sum().sort_values(ascending=False)\n",
    "    percent=(df.isnull().sum()/len(df)).sort_values(ascending=False)\n",
    "    missing_data=pd.concat([total,percent],axis=1,keys=['Total','Percent'])    #only for print heading\n",
    "    return missing_data\n",
    "\n",
    "\n",
    "missing_check(data)          #recall fun"
   ]
  },
  {
   "cell_type": "code",
   "execution_count": 9,
   "metadata": {},
   "outputs": [
    {
     "name": "stdout",
     "output_type": "stream",
     "text": [
      "null values== agent_state                      161157\n",
      "application_type                 230358\n",
      "case_no                          230358\n",
      "case_received_date               135271\n",
      "class_of_admission                21021\n",
      "country_of_citizenship               60\n",
      "employer_num_employees           135349\n",
      "employer_yr_estab                135404\n",
      "employer_city                        14\n",
      "employer_name                        12\n",
      "employer_state                       42\n",
      "foreign_worker_info_education    135308\n",
      "foreign_worker_info_major        151662\n",
      "job_experience                   135281\n",
      "job_title                        135313\n",
      "job_training                     135284\n",
      "job_work_state                      103\n",
      "pv_unit_of_pay_9089                9630\n",
      "previous_salary                    2214\n",
      "level                             27095\n",
      "source_name                        2097\n",
      "sector                           236559\n",
      "wage_offer                       114771\n",
      "wage_unit_of_pay                 115689\n",
      "case_received_date_year          135271\n",
      "dtype: int64\n"
     ]
    }
   ],
   "source": [
    "print('null values==',data.isnull().sum()[data.isnull().sum()!=0])"
   ]
  },
  {
   "cell_type": "code",
   "execution_count": 10,
   "metadata": {},
   "outputs": [
    {
     "data": {
      "text/plain": [
       "agent_state                      44.076887\n",
       "application_type                 63.003553\n",
       "case_no                          63.003553\n",
       "case_received_date               36.996994\n",
       "class_of_admission                5.749302\n",
       "country_of_citizenship            0.016410\n",
       "employer_num_employees           37.018327\n",
       "employer_yr_estab                37.033370\n",
       "employer_city                     0.003829\n",
       "employer_name                     0.003282\n",
       "employer_state                    0.011487\n",
       "foreign_worker_info_education    37.007114\n",
       "foreign_worker_info_major        41.479978\n",
       "job_experience                   36.999729\n",
       "job_title                        37.008481\n",
       "job_training                     37.000550\n",
       "job_work_state                    0.028171\n",
       "pv_unit_of_pay_9089               2.633832\n",
       "previous_salary                   0.605535\n",
       "level                             7.410558\n",
       "source_name                       0.573535\n",
       "sector                           64.699544\n",
       "wage_offer                       31.390187\n",
       "wage_unit_of_pay                 31.641263\n",
       "case_received_date_year          36.996994\n",
       "dtype: float64"
      ]
     },
     "execution_count": 10,
     "metadata": {},
     "output_type": "execute_result"
    }
   ],
   "source": [
    "(data.isnull().sum()[data.isna().sum()!=0])*100/365627"
   ]
  },
  {
   "cell_type": "markdown",
   "metadata": {},
   "source": [
    "### Extract year as we got pattern from case_no and impute it into feature"
   ]
  },
  {
   "cell_type": "code",
   "execution_count": 11,
   "metadata": {},
   "outputs": [
    {
     "data": {
      "text/plain": [
       "0    2007323\n",
       "1    2007332\n",
       "2    2007333\n",
       "3    2007339\n",
       "4    2007345\n",
       "Name: Yr, dtype: object"
      ]
     },
     "execution_count": 11,
     "metadata": {},
     "output_type": "execute_result"
    }
   ],
   "source": [
    "raw=data.case_no[data.case_no.notnull()]\n",
    "year=raw.transform(lambda x:x.split(\"-\")[1])\n",
    "data['Yr']='20'+year\n",
    "data['Yr'].head()"
   ]
  },
  {
   "cell_type": "code",
   "execution_count": 12,
   "metadata": {
    "scrolled": false
   },
   "outputs": [
    {
     "data": {
      "text/plain": [
       "'2007'"
      ]
     },
     "execution_count": 12,
     "metadata": {},
     "output_type": "execute_result"
    }
   ],
   "source": [
    "y=data['Yr'].astype('str')\n",
    "new=[]\n",
    "for i in y.index:\n",
    "    new.append(y[i][:-3])\n",
    "    \n",
    "new[1]"
   ]
  },
  {
   "cell_type": "code",
   "execution_count": 13,
   "metadata": {},
   "outputs": [
    {
     "data": {
      "text/html": [
       "<div>\n",
       "<style scoped>\n",
       "    .dataframe tbody tr th:only-of-type {\n",
       "        vertical-align: middle;\n",
       "    }\n",
       "\n",
       "    .dataframe tbody tr th {\n",
       "        vertical-align: top;\n",
       "    }\n",
       "\n",
       "    .dataframe thead th {\n",
       "        text-align: right;\n",
       "    }\n",
       "</style>\n",
       "<table border=\"1\" class=\"dataframe\">\n",
       "  <thead>\n",
       "    <tr style=\"text-align: right;\">\n",
       "      <th></th>\n",
       "      <th>agent_state</th>\n",
       "      <th>application_type</th>\n",
       "      <th>case_no</th>\n",
       "      <th>case_received_date</th>\n",
       "      <th>case_status</th>\n",
       "      <th>class_of_admission</th>\n",
       "      <th>country_of_citizenship</th>\n",
       "      <th>decision_date</th>\n",
       "      <th>employer_num_employees</th>\n",
       "      <th>employer_yr_estab</th>\n",
       "      <th>employer_city</th>\n",
       "      <th>employer_name</th>\n",
       "      <th>employer_state</th>\n",
       "      <th>foreign_worker_info_education</th>\n",
       "      <th>foreign_worker_info_major</th>\n",
       "      <th>job_experience</th>\n",
       "      <th>job_title</th>\n",
       "      <th>job_training</th>\n",
       "      <th>job_work_state</th>\n",
       "      <th>pv_unit_of_pay_9089</th>\n",
       "      <th>previous_salary</th>\n",
       "      <th>level</th>\n",
       "      <th>source_name</th>\n",
       "      <th>sector</th>\n",
       "      <th>wage_offer</th>\n",
       "      <th>wage_unit_of_pay</th>\n",
       "      <th>case_received_date_year</th>\n",
       "      <th>decision_date_year</th>\n",
       "      <th>Received_Year</th>\n",
       "    </tr>\n",
       "  </thead>\n",
       "  <tbody>\n",
       "    <tr>\n",
       "      <th>0</th>\n",
       "      <td>NaN</td>\n",
       "      <td>PERM</td>\n",
       "      <td>A-07323-97014</td>\n",
       "      <td>NaT</td>\n",
       "      <td>Certified</td>\n",
       "      <td>J-1</td>\n",
       "      <td>ARMENIA</td>\n",
       "      <td>2012-02-01</td>\n",
       "      <td>NaN</td>\n",
       "      <td>NaN</td>\n",
       "      <td>NEW YORK</td>\n",
       "      <td>NETSOFT USA INC.</td>\n",
       "      <td>NY</td>\n",
       "      <td>NaN</td>\n",
       "      <td>NaN</td>\n",
       "      <td>NaN</td>\n",
       "      <td>NaN</td>\n",
       "      <td>NaN</td>\n",
       "      <td>NY</td>\n",
       "      <td>yr</td>\n",
       "      <td>75629.00</td>\n",
       "      <td>Level II</td>\n",
       "      <td>OES</td>\n",
       "      <td>IT</td>\n",
       "      <td>75629</td>\n",
       "      <td>yr</td>\n",
       "      <td>2007</td>\n",
       "      <td>2012</td>\n",
       "      <td>2007</td>\n",
       "    </tr>\n",
       "    <tr>\n",
       "      <th>1</th>\n",
       "      <td>NaN</td>\n",
       "      <td>PERM</td>\n",
       "      <td>A-07332-99439</td>\n",
       "      <td>NaT</td>\n",
       "      <td>Denied</td>\n",
       "      <td>B-2</td>\n",
       "      <td>POLAND</td>\n",
       "      <td>2011-12-21</td>\n",
       "      <td>NaN</td>\n",
       "      <td>NaN</td>\n",
       "      <td>CARLSTADT</td>\n",
       "      <td>PINNACLE ENVIRONEMNTAL CORP</td>\n",
       "      <td>NY</td>\n",
       "      <td>NaN</td>\n",
       "      <td>NaN</td>\n",
       "      <td>NaN</td>\n",
       "      <td>NaN</td>\n",
       "      <td>NaN</td>\n",
       "      <td>NY</td>\n",
       "      <td>yr</td>\n",
       "      <td>37024.00</td>\n",
       "      <td>Level I</td>\n",
       "      <td>OES</td>\n",
       "      <td>Other Economic Sector</td>\n",
       "      <td>37024</td>\n",
       "      <td>yr</td>\n",
       "      <td>2007</td>\n",
       "      <td>2011</td>\n",
       "      <td>2007</td>\n",
       "    </tr>\n",
       "    <tr>\n",
       "      <th>2</th>\n",
       "      <td>NaN</td>\n",
       "      <td>PERM</td>\n",
       "      <td>A-07333-99643</td>\n",
       "      <td>NaT</td>\n",
       "      <td>Certified</td>\n",
       "      <td>H-1B</td>\n",
       "      <td>INDIA</td>\n",
       "      <td>2011-12-01</td>\n",
       "      <td>NaN</td>\n",
       "      <td>NaN</td>\n",
       "      <td>GLEN ALLEN</td>\n",
       "      <td>SCHNABEL ENGINEERING, INC.</td>\n",
       "      <td>VA</td>\n",
       "      <td>NaN</td>\n",
       "      <td>NaN</td>\n",
       "      <td>NaN</td>\n",
       "      <td>NaN</td>\n",
       "      <td>NaN</td>\n",
       "      <td>MD</td>\n",
       "      <td>yr</td>\n",
       "      <td>47923.00</td>\n",
       "      <td>Level I</td>\n",
       "      <td>OES</td>\n",
       "      <td>Aerospace</td>\n",
       "      <td>47923</td>\n",
       "      <td>yr</td>\n",
       "      <td>2007</td>\n",
       "      <td>2011</td>\n",
       "      <td>2007</td>\n",
       "    </tr>\n",
       "    <tr>\n",
       "      <th>3</th>\n",
       "      <td>NaN</td>\n",
       "      <td>PERM</td>\n",
       "      <td>A-07339-01930</td>\n",
       "      <td>NaT</td>\n",
       "      <td>Certified</td>\n",
       "      <td>B-2</td>\n",
       "      <td>SOUTH KOREA</td>\n",
       "      <td>2011-12-01</td>\n",
       "      <td>NaN</td>\n",
       "      <td>NaN</td>\n",
       "      <td>FLUSHING</td>\n",
       "      <td>EBENEZER MISSION CHURCH</td>\n",
       "      <td>NY</td>\n",
       "      <td>NaN</td>\n",
       "      <td>NaN</td>\n",
       "      <td>NaN</td>\n",
       "      <td>NaN</td>\n",
       "      <td>NaN</td>\n",
       "      <td>NY</td>\n",
       "      <td>hr</td>\n",
       "      <td>10.97</td>\n",
       "      <td>Level II</td>\n",
       "      <td>OES</td>\n",
       "      <td>Other Economic Sector</td>\n",
       "      <td>10.97</td>\n",
       "      <td>hr</td>\n",
       "      <td>2007</td>\n",
       "      <td>2011</td>\n",
       "      <td>2007</td>\n",
       "    </tr>\n",
       "    <tr>\n",
       "      <th>4</th>\n",
       "      <td>NaN</td>\n",
       "      <td>PERM</td>\n",
       "      <td>A-07345-03565</td>\n",
       "      <td>NaT</td>\n",
       "      <td>Certified</td>\n",
       "      <td>L-1</td>\n",
       "      <td>CANADA</td>\n",
       "      <td>2012-01-26</td>\n",
       "      <td>NaN</td>\n",
       "      <td>NaN</td>\n",
       "      <td>ALBANY</td>\n",
       "      <td>ALBANY INTERNATIONAL CORP.</td>\n",
       "      <td>NY</td>\n",
       "      <td>NaN</td>\n",
       "      <td>NaN</td>\n",
       "      <td>NaN</td>\n",
       "      <td>NaN</td>\n",
       "      <td>NaN</td>\n",
       "      <td>NY</td>\n",
       "      <td>yr</td>\n",
       "      <td>94890.00</td>\n",
       "      <td>Level IV</td>\n",
       "      <td>OES</td>\n",
       "      <td>Advanced Mfg</td>\n",
       "      <td>100000</td>\n",
       "      <td>yr</td>\n",
       "      <td>2007</td>\n",
       "      <td>2012</td>\n",
       "      <td>2007</td>\n",
       "    </tr>\n",
       "  </tbody>\n",
       "</table>\n",
       "</div>"
      ],
      "text/plain": [
       "  agent_state application_type        case_no case_received_date case_status  \\\n",
       "0         NaN             PERM  A-07323-97014                NaT   Certified   \n",
       "1         NaN             PERM  A-07332-99439                NaT      Denied   \n",
       "2         NaN             PERM  A-07333-99643                NaT   Certified   \n",
       "3         NaN             PERM  A-07339-01930                NaT   Certified   \n",
       "4         NaN             PERM  A-07345-03565                NaT   Certified   \n",
       "\n",
       "  class_of_admission country_of_citizenship decision_date  \\\n",
       "0                J-1                ARMENIA    2012-02-01   \n",
       "1                B-2                 POLAND    2011-12-21   \n",
       "2               H-1B                  INDIA    2011-12-01   \n",
       "3                B-2            SOUTH KOREA    2011-12-01   \n",
       "4                L-1                 CANADA    2012-01-26   \n",
       "\n",
       "   employer_num_employees  employer_yr_estab employer_city  \\\n",
       "0                     NaN                NaN      NEW YORK   \n",
       "1                     NaN                NaN     CARLSTADT   \n",
       "2                     NaN                NaN    GLEN ALLEN   \n",
       "3                     NaN                NaN      FLUSHING   \n",
       "4                     NaN                NaN        ALBANY   \n",
       "\n",
       "                 employer_name employer_state foreign_worker_info_education  \\\n",
       "0             NETSOFT USA INC.             NY                           NaN   \n",
       "1  PINNACLE ENVIRONEMNTAL CORP             NY                           NaN   \n",
       "2   SCHNABEL ENGINEERING, INC.             VA                           NaN   \n",
       "3      EBENEZER MISSION CHURCH             NY                           NaN   \n",
       "4   ALBANY INTERNATIONAL CORP.             NY                           NaN   \n",
       "\n",
       "  foreign_worker_info_major job_experience job_title job_training  \\\n",
       "0                       NaN            NaN       NaN          NaN   \n",
       "1                       NaN            NaN       NaN          NaN   \n",
       "2                       NaN            NaN       NaN          NaN   \n",
       "3                       NaN            NaN       NaN          NaN   \n",
       "4                       NaN            NaN       NaN          NaN   \n",
       "\n",
       "  job_work_state pv_unit_of_pay_9089  previous_salary     level source_name  \\\n",
       "0             NY                  yr         75629.00  Level II         OES   \n",
       "1             NY                  yr         37024.00   Level I         OES   \n",
       "2             MD                  yr         47923.00   Level I         OES   \n",
       "3             NY                  hr            10.97  Level II         OES   \n",
       "4             NY                  yr         94890.00  Level IV         OES   \n",
       "\n",
       "                  sector wage_offer wage_unit_of_pay case_received_date_year  \\\n",
       "0                     IT      75629               yr                    2007   \n",
       "1  Other Economic Sector      37024               yr                    2007   \n",
       "2              Aerospace      47923               yr                    2007   \n",
       "3  Other Economic Sector      10.97               hr                    2007   \n",
       "4           Advanced Mfg     100000               yr                    2007   \n",
       "\n",
       "   decision_date_year Received_Year  \n",
       "0                2012          2007  \n",
       "1                2011          2007  \n",
       "2                2011          2007  \n",
       "3                2011          2007  \n",
       "4                2012          2007  "
      ]
     },
     "execution_count": 13,
     "metadata": {},
     "output_type": "execute_result"
    }
   ],
   "source": [
    "data['Received_Year']=new\n",
    "\n",
    "data.drop('Yr',axis=1,inplace=True)\n",
    "\n",
    "data.case_received_date_year.fillna(data.Received_Year,inplace=True)\n",
    "\n",
    "\n",
    "\n",
    "data.decision_date_year=data.decision_date_year.astype('int')\n",
    "data.head()"
   ]
  },
  {
   "cell_type": "code",
   "execution_count": 14,
   "metadata": {},
   "outputs": [
    {
     "data": {
      "text/plain": [
       "array(['2007', '2008', '2006', '2009', '2011', '2010', '2012', '2013',\n",
       "       '2005', '2014', 2013.0, 2014.0, 2009.0, 2010.0, 2008.0, 2012.0,\n",
       "       2015.0, 2006.0, 2007.0, 2011.0, '', 2016.0], dtype=object)"
      ]
     },
     "execution_count": 14,
     "metadata": {},
     "output_type": "execute_result"
    }
   ],
   "source": [
    "data.case_received_date_year.unique()"
   ]
  },
  {
   "cell_type": "code",
   "execution_count": 15,
   "metadata": {
    "scrolled": true
   },
   "outputs": [
    {
     "data": {
      "text/html": [
       "<div>\n",
       "<style scoped>\n",
       "    .dataframe tbody tr th:only-of-type {\n",
       "        vertical-align: middle;\n",
       "    }\n",
       "\n",
       "    .dataframe tbody tr th {\n",
       "        vertical-align: top;\n",
       "    }\n",
       "\n",
       "    .dataframe thead th {\n",
       "        text-align: right;\n",
       "    }\n",
       "</style>\n",
       "<table border=\"1\" class=\"dataframe\">\n",
       "  <thead>\n",
       "    <tr style=\"text-align: right;\">\n",
       "      <th></th>\n",
       "      <th>agent_state</th>\n",
       "      <th>application_type</th>\n",
       "      <th>case_no</th>\n",
       "      <th>case_received_date</th>\n",
       "      <th>case_status</th>\n",
       "      <th>class_of_admission</th>\n",
       "      <th>country_of_citizenship</th>\n",
       "      <th>decision_date</th>\n",
       "      <th>employer_num_employees</th>\n",
       "      <th>employer_yr_estab</th>\n",
       "      <th>employer_city</th>\n",
       "      <th>employer_name</th>\n",
       "      <th>employer_state</th>\n",
       "      <th>foreign_worker_info_education</th>\n",
       "      <th>foreign_worker_info_major</th>\n",
       "      <th>job_experience</th>\n",
       "      <th>job_title</th>\n",
       "      <th>job_training</th>\n",
       "      <th>job_work_state</th>\n",
       "      <th>pv_unit_of_pay_9089</th>\n",
       "      <th>previous_salary</th>\n",
       "      <th>level</th>\n",
       "      <th>source_name</th>\n",
       "      <th>sector</th>\n",
       "      <th>wage_offer</th>\n",
       "      <th>wage_unit_of_pay</th>\n",
       "      <th>case_received_date_year</th>\n",
       "      <th>decision_date_year</th>\n",
       "      <th>Received_Year</th>\n",
       "    </tr>\n",
       "  </thead>\n",
       "  <tbody>\n",
       "    <tr>\n",
       "      <th>188375</th>\n",
       "      <td>FLORIDA</td>\n",
       "      <td>NaN</td>\n",
       "      <td>NaN</td>\n",
       "      <td>NaT</td>\n",
       "      <td>Withdrawn</td>\n",
       "      <td>H-1B</td>\n",
       "      <td>CHILE</td>\n",
       "      <td>2014-12-04</td>\n",
       "      <td>88.0</td>\n",
       "      <td>1999.0</td>\n",
       "      <td>COCONUT GROVE</td>\n",
       "      <td>TRAX USA CORP.</td>\n",
       "      <td>FLORIDA</td>\n",
       "      <td>Bachelor's</td>\n",
       "      <td>MANAGEMENT OF TECHNICAL OPERATIONS</td>\n",
       "      <td>Y</td>\n",
       "      <td>Functional Software Specialist</td>\n",
       "      <td>N</td>\n",
       "      <td>FLORIDA</td>\n",
       "      <td>Year</td>\n",
       "      <td>96325.0</td>\n",
       "      <td>Level IV</td>\n",
       "      <td>OES</td>\n",
       "      <td>NaN</td>\n",
       "      <td>96325</td>\n",
       "      <td>Year</td>\n",
       "      <td></td>\n",
       "      <td>2014</td>\n",
       "      <td></td>\n",
       "    </tr>\n",
       "    <tr>\n",
       "      <th>198698</th>\n",
       "      <td>CALIFORNIA</td>\n",
       "      <td>NaN</td>\n",
       "      <td>NaN</td>\n",
       "      <td>NaT</td>\n",
       "      <td>Withdrawn</td>\n",
       "      <td>H-1B</td>\n",
       "      <td>BRAZIL</td>\n",
       "      <td>2015-03-06</td>\n",
       "      <td>30000.0</td>\n",
       "      <td>1998.0</td>\n",
       "      <td>NEW YORK</td>\n",
       "      <td>PRICEWATERHOUSECOOPERS</td>\n",
       "      <td>NEW YORK</td>\n",
       "      <td>Master's</td>\n",
       "      <td>BUSINESS ADMINISTRATION (GRADUATED: 05/20/2012)</td>\n",
       "      <td>Y</td>\n",
       "      <td>Senior Associate</td>\n",
       "      <td>N</td>\n",
       "      <td>NEW YORK</td>\n",
       "      <td>Year</td>\n",
       "      <td>132558.0</td>\n",
       "      <td>Level IV</td>\n",
       "      <td>OES</td>\n",
       "      <td>NaN</td>\n",
       "      <td>132558</td>\n",
       "      <td>Year</td>\n",
       "      <td></td>\n",
       "      <td>2015</td>\n",
       "      <td></td>\n",
       "    </tr>\n",
       "  </tbody>\n",
       "</table>\n",
       "</div>"
      ],
      "text/plain": [
       "       agent_state application_type case_no case_received_date case_status  \\\n",
       "188375     FLORIDA              NaN     NaN                NaT   Withdrawn   \n",
       "198698  CALIFORNIA              NaN     NaN                NaT   Withdrawn   \n",
       "\n",
       "       class_of_admission country_of_citizenship decision_date  \\\n",
       "188375               H-1B                  CHILE    2014-12-04   \n",
       "198698               H-1B                 BRAZIL    2015-03-06   \n",
       "\n",
       "        employer_num_employees  employer_yr_estab  employer_city  \\\n",
       "188375                    88.0             1999.0  COCONUT GROVE   \n",
       "198698                 30000.0             1998.0       NEW YORK   \n",
       "\n",
       "                 employer_name employer_state foreign_worker_info_education  \\\n",
       "188375          TRAX USA CORP.        FLORIDA                    Bachelor's   \n",
       "198698  PRICEWATERHOUSECOOPERS       NEW YORK                      Master's   \n",
       "\n",
       "                              foreign_worker_info_major job_experience  \\\n",
       "188375               MANAGEMENT OF TECHNICAL OPERATIONS              Y   \n",
       "198698  BUSINESS ADMINISTRATION (GRADUATED: 05/20/2012)              Y   \n",
       "\n",
       "                             job_title job_training job_work_state  \\\n",
       "188375  Functional Software Specialist            N        FLORIDA   \n",
       "198698                Senior Associate            N       NEW YORK   \n",
       "\n",
       "       pv_unit_of_pay_9089  previous_salary     level source_name sector  \\\n",
       "188375                Year          96325.0  Level IV         OES    NaN   \n",
       "198698                Year         132558.0  Level IV         OES    NaN   \n",
       "\n",
       "       wage_offer wage_unit_of_pay case_received_date_year  \\\n",
       "188375      96325             Year                           \n",
       "198698     132558             Year                           \n",
       "\n",
       "        decision_date_year Received_Year  \n",
       "188375                2014                \n",
       "198698                2015                "
      ]
     },
     "execution_count": 15,
     "metadata": {},
     "output_type": "execute_result"
    }
   ],
   "source": [
    "data[data.case_received_date_year=='']"
   ]
  },
  {
   "cell_type": "code",
   "execution_count": 16,
   "metadata": {},
   "outputs": [],
   "source": [
    "data.case_received_date_year.replace(\"\",1996,inplace=True) #1996 is the mode"
   ]
  },
  {
   "cell_type": "code",
   "execution_count": 17,
   "metadata": {},
   "outputs": [],
   "source": [
    "data.case_received_date_year=data.case_received_date_year.astype('int')"
   ]
  },
  {
   "cell_type": "code",
   "execution_count": 18,
   "metadata": {},
   "outputs": [
    {
     "data": {
      "text/html": [
       "<div>\n",
       "<style scoped>\n",
       "    .dataframe tbody tr th:only-of-type {\n",
       "        vertical-align: middle;\n",
       "    }\n",
       "\n",
       "    .dataframe tbody tr th {\n",
       "        vertical-align: top;\n",
       "    }\n",
       "\n",
       "    .dataframe thead th {\n",
       "        text-align: right;\n",
       "    }\n",
       "</style>\n",
       "<table border=\"1\" class=\"dataframe\">\n",
       "  <thead>\n",
       "    <tr style=\"text-align: right;\">\n",
       "      <th></th>\n",
       "      <th>agent_state</th>\n",
       "      <th>application_type</th>\n",
       "      <th>case_no</th>\n",
       "      <th>case_received_date</th>\n",
       "      <th>case_status</th>\n",
       "      <th>class_of_admission</th>\n",
       "      <th>country_of_citizenship</th>\n",
       "      <th>decision_date</th>\n",
       "      <th>employer_num_employees</th>\n",
       "      <th>employer_yr_estab</th>\n",
       "      <th>employer_city</th>\n",
       "      <th>employer_name</th>\n",
       "      <th>employer_state</th>\n",
       "      <th>foreign_worker_info_education</th>\n",
       "      <th>foreign_worker_info_major</th>\n",
       "      <th>job_experience</th>\n",
       "      <th>job_title</th>\n",
       "      <th>job_training</th>\n",
       "      <th>job_work_state</th>\n",
       "      <th>pv_unit_of_pay_9089</th>\n",
       "      <th>previous_salary</th>\n",
       "      <th>level</th>\n",
       "      <th>source_name</th>\n",
       "      <th>sector</th>\n",
       "      <th>wage_offer</th>\n",
       "      <th>wage_unit_of_pay</th>\n",
       "      <th>case_received_date_year</th>\n",
       "      <th>decision_date_year</th>\n",
       "      <th>Received_Year</th>\n",
       "    </tr>\n",
       "  </thead>\n",
       "  <tbody>\n",
       "  </tbody>\n",
       "</table>\n",
       "</div>"
      ],
      "text/plain": [
       "Empty DataFrame\n",
       "Columns: [agent_state, application_type, case_no, case_received_date, case_status, class_of_admission, country_of_citizenship, decision_date, employer_num_employees, employer_yr_estab, employer_city, employer_name, employer_state, foreign_worker_info_education, foreign_worker_info_major, job_experience, job_title, job_training, job_work_state, pv_unit_of_pay_9089, previous_salary, level, source_name, sector, wage_offer, wage_unit_of_pay, case_received_date_year, decision_date_year, Received_Year]\n",
       "Index: []"
      ]
     },
     "execution_count": 18,
     "metadata": {},
     "output_type": "execute_result"
    }
   ],
   "source": [
    "data[data.case_received_date_year>data.decision_date_year]   # This imputation is succesful"
   ]
  },
  {
   "cell_type": "code",
   "execution_count": 19,
   "metadata": {},
   "outputs": [
    {
     "data": {
      "text/plain": [
       "135404"
      ]
     },
     "execution_count": 19,
     "metadata": {},
     "output_type": "execute_result"
    }
   ],
   "source": [
    "data.employer_yr_estab.isnull().sum()"
   ]
  },
  {
   "cell_type": "markdown",
   "metadata": {},
   "source": [
    "### Inferences :\n",
    "1. We have extracted useful data from case_no (63% missing values) and case_received_date (37% missing values) , so now we will drop them.\n",
    "\n",
    "2. The new extracted features: case_received_date_mn nad decision_date_mn are not contributing to be helpful and moreover have missing values , so we have dropped them.\n"
   ]
  },
  {
   "cell_type": "code",
   "execution_count": 20,
   "metadata": {},
   "outputs": [
    {
     "data": {
      "text/plain": [
       "1996.0"
      ]
     },
     "execution_count": 20,
     "metadata": {},
     "output_type": "execute_result"
    }
   ],
   "source": [
    "data.employer_yr_estab.median()"
   ]
  },
  {
   "cell_type": "markdown",
   "metadata": {},
   "source": [
    "### Binning the years "
   ]
  },
  {
   "cell_type": "code",
   "execution_count": 21,
   "metadata": {},
   "outputs": [
    {
     "data": {
      "text/plain": [
       "0                      NaN\n",
       "1                      NaN\n",
       "2                      NaN\n",
       "3                      NaN\n",
       "4                      NaN\n",
       "5                      NaN\n",
       "6                      NaN\n",
       "7                      NaN\n",
       "8                      NaN\n",
       "9                      NaN\n",
       "10                     NaN\n",
       "11                     NaN\n",
       "12                     NaN\n",
       "13                     NaN\n",
       "14                     NaN\n",
       "15                     NaN\n",
       "16                     NaN\n",
       "17                     NaN\n",
       "18                     NaN\n",
       "19                     NaN\n",
       "20                     NaN\n",
       "21                     NaN\n",
       "22                     NaN\n",
       "23                     NaN\n",
       "24                     NaN\n",
       "25                     NaN\n",
       "26                     NaN\n",
       "27                     NaN\n",
       "28                     NaN\n",
       "29                     NaN\n",
       "                ...       \n",
       "374332    (-0.001, 1988.0]\n",
       "374333    (2001.0, 2016.0]\n",
       "374334    (2001.0, 2016.0]\n",
       "374335    (1988.0, 2001.0]\n",
       "374336    (2001.0, 2016.0]\n",
       "374337    (-0.001, 1988.0]\n",
       "374338    (-0.001, 1988.0]\n",
       "374339    (1988.0, 2001.0]\n",
       "374340    (1988.0, 2001.0]\n",
       "374341    (2001.0, 2016.0]\n",
       "374342    (-0.001, 1988.0]\n",
       "374343    (-0.001, 1988.0]\n",
       "374344    (1988.0, 2001.0]\n",
       "374345    (2001.0, 2016.0]\n",
       "374346    (2001.0, 2016.0]\n",
       "374347    (-0.001, 1988.0]\n",
       "374348    (2001.0, 2016.0]\n",
       "374349    (-0.001, 1988.0]\n",
       "374350    (1988.0, 2001.0]\n",
       "374351    (1988.0, 2001.0]\n",
       "374352    (-0.001, 1988.0]\n",
       "374353    (1988.0, 2001.0]\n",
       "374354    (-0.001, 1988.0]\n",
       "374355    (2001.0, 2016.0]\n",
       "374356    (2001.0, 2016.0]\n",
       "374357    (2001.0, 2016.0]\n",
       "374358    (-0.001, 1988.0]\n",
       "374359    (2001.0, 2016.0]\n",
       "374360    (2001.0, 2016.0]\n",
       "374361    (-0.001, 1988.0]\n",
       "Name: employer_yr_estab, Length: 365627, dtype: category\n",
       "Categories (3, interval[float64]): [(-0.001, 1988.0] < (1988.0, 2001.0] < (2001.0, 2016.0]]"
      ]
     },
     "execution_count": 21,
     "metadata": {},
     "output_type": "execute_result"
    }
   ],
   "source": [
    "pd.qcut(data.employer_yr_estab,3)"
   ]
  },
  {
   "cell_type": "code",
   "execution_count": 22,
   "metadata": {},
   "outputs": [],
   "source": [
    "data.employer_yr_estab.fillna(-1,inplace=True)  # Keeping the null values aside"
   ]
  },
  {
   "cell_type": "code",
   "execution_count": 23,
   "metadata": {},
   "outputs": [],
   "source": [
    "def age(x):\n",
    "    if x==-1:\n",
    "        return \"Unavailable\"\n",
    "    elif x>-1 and x<1600:\n",
    "        return \"Old\"\n",
    "    elif x>1988 and x<2001:\n",
    "        return 'Old'\n",
    "    elif x<1988:\n",
    "        return \"Ancient\"\n",
    "    else:\n",
    "        return \"New\"\n",
    "    \n",
    "data.employer_yr_estab=data.employer_yr_estab.apply(age)"
   ]
  },
  {
   "cell_type": "code",
   "execution_count": 24,
   "metadata": {},
   "outputs": [
    {
     "data": {
      "text/plain": [
       "Unavailable    0.370334\n",
       "New            0.228637\n",
       "Ancient        0.207824\n",
       "Old            0.193205\n",
       "Name: employer_yr_estab, dtype: float64"
      ]
     },
     "execution_count": 24,
     "metadata": {},
     "output_type": "execute_result"
    }
   ],
   "source": [
    "data.employer_yr_estab.value_counts(1)"
   ]
  },
  {
   "cell_type": "code",
   "execution_count": 25,
   "metadata": {},
   "outputs": [
    {
     "data": {
      "text/html": [
       "<div>\n",
       "<style scoped>\n",
       "    .dataframe tbody tr th:only-of-type {\n",
       "        vertical-align: middle;\n",
       "    }\n",
       "\n",
       "    .dataframe tbody tr th {\n",
       "        vertical-align: top;\n",
       "    }\n",
       "\n",
       "    .dataframe thead th {\n",
       "        text-align: right;\n",
       "    }\n",
       "</style>\n",
       "<table border=\"1\" class=\"dataframe\">\n",
       "  <thead>\n",
       "    <tr style=\"text-align: right;\">\n",
       "      <th></th>\n",
       "      <th>agent_state</th>\n",
       "      <th>application_type</th>\n",
       "      <th>case_no</th>\n",
       "      <th>case_received_date</th>\n",
       "      <th>case_status</th>\n",
       "      <th>class_of_admission</th>\n",
       "      <th>country_of_citizenship</th>\n",
       "      <th>decision_date</th>\n",
       "      <th>employer_num_employees</th>\n",
       "      <th>employer_yr_estab</th>\n",
       "      <th>employer_city</th>\n",
       "      <th>employer_name</th>\n",
       "      <th>employer_state</th>\n",
       "      <th>foreign_worker_info_education</th>\n",
       "      <th>foreign_worker_info_major</th>\n",
       "      <th>job_experience</th>\n",
       "      <th>job_title</th>\n",
       "      <th>job_training</th>\n",
       "      <th>job_work_state</th>\n",
       "      <th>pv_unit_of_pay_9089</th>\n",
       "      <th>previous_salary</th>\n",
       "      <th>level</th>\n",
       "      <th>source_name</th>\n",
       "      <th>sector</th>\n",
       "      <th>wage_offer</th>\n",
       "      <th>wage_unit_of_pay</th>\n",
       "      <th>case_received_date_year</th>\n",
       "      <th>decision_date_year</th>\n",
       "      <th>Received_Year</th>\n",
       "    </tr>\n",
       "  </thead>\n",
       "  <tbody>\n",
       "    <tr>\n",
       "      <th>0</th>\n",
       "      <td>NaN</td>\n",
       "      <td>PERM</td>\n",
       "      <td>A-07323-97014</td>\n",
       "      <td>NaT</td>\n",
       "      <td>Certified</td>\n",
       "      <td>J-1</td>\n",
       "      <td>ARMENIA</td>\n",
       "      <td>2012-02-01</td>\n",
       "      <td>NaN</td>\n",
       "      <td>Unavailable</td>\n",
       "      <td>NEW YORK</td>\n",
       "      <td>NETSOFT USA INC.</td>\n",
       "      <td>NY</td>\n",
       "      <td>NaN</td>\n",
       "      <td>NaN</td>\n",
       "      <td>NaN</td>\n",
       "      <td>NaN</td>\n",
       "      <td>NaN</td>\n",
       "      <td>NY</td>\n",
       "      <td>yr</td>\n",
       "      <td>75629.00</td>\n",
       "      <td>Level II</td>\n",
       "      <td>OES</td>\n",
       "      <td>IT</td>\n",
       "      <td>75629</td>\n",
       "      <td>yr</td>\n",
       "      <td>2007</td>\n",
       "      <td>2012</td>\n",
       "      <td>2007</td>\n",
       "    </tr>\n",
       "    <tr>\n",
       "      <th>1</th>\n",
       "      <td>NaN</td>\n",
       "      <td>PERM</td>\n",
       "      <td>A-07332-99439</td>\n",
       "      <td>NaT</td>\n",
       "      <td>Denied</td>\n",
       "      <td>B-2</td>\n",
       "      <td>POLAND</td>\n",
       "      <td>2011-12-21</td>\n",
       "      <td>NaN</td>\n",
       "      <td>Unavailable</td>\n",
       "      <td>CARLSTADT</td>\n",
       "      <td>PINNACLE ENVIRONEMNTAL CORP</td>\n",
       "      <td>NY</td>\n",
       "      <td>NaN</td>\n",
       "      <td>NaN</td>\n",
       "      <td>NaN</td>\n",
       "      <td>NaN</td>\n",
       "      <td>NaN</td>\n",
       "      <td>NY</td>\n",
       "      <td>yr</td>\n",
       "      <td>37024.00</td>\n",
       "      <td>Level I</td>\n",
       "      <td>OES</td>\n",
       "      <td>Other Economic Sector</td>\n",
       "      <td>37024</td>\n",
       "      <td>yr</td>\n",
       "      <td>2007</td>\n",
       "      <td>2011</td>\n",
       "      <td>2007</td>\n",
       "    </tr>\n",
       "    <tr>\n",
       "      <th>2</th>\n",
       "      <td>NaN</td>\n",
       "      <td>PERM</td>\n",
       "      <td>A-07333-99643</td>\n",
       "      <td>NaT</td>\n",
       "      <td>Certified</td>\n",
       "      <td>H-1B</td>\n",
       "      <td>INDIA</td>\n",
       "      <td>2011-12-01</td>\n",
       "      <td>NaN</td>\n",
       "      <td>Unavailable</td>\n",
       "      <td>GLEN ALLEN</td>\n",
       "      <td>SCHNABEL ENGINEERING, INC.</td>\n",
       "      <td>VA</td>\n",
       "      <td>NaN</td>\n",
       "      <td>NaN</td>\n",
       "      <td>NaN</td>\n",
       "      <td>NaN</td>\n",
       "      <td>NaN</td>\n",
       "      <td>MD</td>\n",
       "      <td>yr</td>\n",
       "      <td>47923.00</td>\n",
       "      <td>Level I</td>\n",
       "      <td>OES</td>\n",
       "      <td>Aerospace</td>\n",
       "      <td>47923</td>\n",
       "      <td>yr</td>\n",
       "      <td>2007</td>\n",
       "      <td>2011</td>\n",
       "      <td>2007</td>\n",
       "    </tr>\n",
       "    <tr>\n",
       "      <th>3</th>\n",
       "      <td>NaN</td>\n",
       "      <td>PERM</td>\n",
       "      <td>A-07339-01930</td>\n",
       "      <td>NaT</td>\n",
       "      <td>Certified</td>\n",
       "      <td>B-2</td>\n",
       "      <td>SOUTH KOREA</td>\n",
       "      <td>2011-12-01</td>\n",
       "      <td>NaN</td>\n",
       "      <td>Unavailable</td>\n",
       "      <td>FLUSHING</td>\n",
       "      <td>EBENEZER MISSION CHURCH</td>\n",
       "      <td>NY</td>\n",
       "      <td>NaN</td>\n",
       "      <td>NaN</td>\n",
       "      <td>NaN</td>\n",
       "      <td>NaN</td>\n",
       "      <td>NaN</td>\n",
       "      <td>NY</td>\n",
       "      <td>hr</td>\n",
       "      <td>10.97</td>\n",
       "      <td>Level II</td>\n",
       "      <td>OES</td>\n",
       "      <td>Other Economic Sector</td>\n",
       "      <td>10.97</td>\n",
       "      <td>hr</td>\n",
       "      <td>2007</td>\n",
       "      <td>2011</td>\n",
       "      <td>2007</td>\n",
       "    </tr>\n",
       "    <tr>\n",
       "      <th>4</th>\n",
       "      <td>NaN</td>\n",
       "      <td>PERM</td>\n",
       "      <td>A-07345-03565</td>\n",
       "      <td>NaT</td>\n",
       "      <td>Certified</td>\n",
       "      <td>L-1</td>\n",
       "      <td>CANADA</td>\n",
       "      <td>2012-01-26</td>\n",
       "      <td>NaN</td>\n",
       "      <td>Unavailable</td>\n",
       "      <td>ALBANY</td>\n",
       "      <td>ALBANY INTERNATIONAL CORP.</td>\n",
       "      <td>NY</td>\n",
       "      <td>NaN</td>\n",
       "      <td>NaN</td>\n",
       "      <td>NaN</td>\n",
       "      <td>NaN</td>\n",
       "      <td>NaN</td>\n",
       "      <td>NY</td>\n",
       "      <td>yr</td>\n",
       "      <td>94890.00</td>\n",
       "      <td>Level IV</td>\n",
       "      <td>OES</td>\n",
       "      <td>Advanced Mfg</td>\n",
       "      <td>100000</td>\n",
       "      <td>yr</td>\n",
       "      <td>2007</td>\n",
       "      <td>2012</td>\n",
       "      <td>2007</td>\n",
       "    </tr>\n",
       "  </tbody>\n",
       "</table>\n",
       "</div>"
      ],
      "text/plain": [
       "  agent_state application_type        case_no case_received_date case_status  \\\n",
       "0         NaN             PERM  A-07323-97014                NaT   Certified   \n",
       "1         NaN             PERM  A-07332-99439                NaT      Denied   \n",
       "2         NaN             PERM  A-07333-99643                NaT   Certified   \n",
       "3         NaN             PERM  A-07339-01930                NaT   Certified   \n",
       "4         NaN             PERM  A-07345-03565                NaT   Certified   \n",
       "\n",
       "  class_of_admission country_of_citizenship decision_date  \\\n",
       "0                J-1                ARMENIA    2012-02-01   \n",
       "1                B-2                 POLAND    2011-12-21   \n",
       "2               H-1B                  INDIA    2011-12-01   \n",
       "3                B-2            SOUTH KOREA    2011-12-01   \n",
       "4                L-1                 CANADA    2012-01-26   \n",
       "\n",
       "   employer_num_employees employer_yr_estab employer_city  \\\n",
       "0                     NaN       Unavailable      NEW YORK   \n",
       "1                     NaN       Unavailable     CARLSTADT   \n",
       "2                     NaN       Unavailable    GLEN ALLEN   \n",
       "3                     NaN       Unavailable      FLUSHING   \n",
       "4                     NaN       Unavailable        ALBANY   \n",
       "\n",
       "                 employer_name employer_state foreign_worker_info_education  \\\n",
       "0             NETSOFT USA INC.             NY                           NaN   \n",
       "1  PINNACLE ENVIRONEMNTAL CORP             NY                           NaN   \n",
       "2   SCHNABEL ENGINEERING, INC.             VA                           NaN   \n",
       "3      EBENEZER MISSION CHURCH             NY                           NaN   \n",
       "4   ALBANY INTERNATIONAL CORP.             NY                           NaN   \n",
       "\n",
       "  foreign_worker_info_major job_experience job_title job_training  \\\n",
       "0                       NaN            NaN       NaN          NaN   \n",
       "1                       NaN            NaN       NaN          NaN   \n",
       "2                       NaN            NaN       NaN          NaN   \n",
       "3                       NaN            NaN       NaN          NaN   \n",
       "4                       NaN            NaN       NaN          NaN   \n",
       "\n",
       "  job_work_state pv_unit_of_pay_9089  previous_salary     level source_name  \\\n",
       "0             NY                  yr         75629.00  Level II         OES   \n",
       "1             NY                  yr         37024.00   Level I         OES   \n",
       "2             MD                  yr         47923.00   Level I         OES   \n",
       "3             NY                  hr            10.97  Level II         OES   \n",
       "4             NY                  yr         94890.00  Level IV         OES   \n",
       "\n",
       "                  sector wage_offer wage_unit_of_pay  case_received_date_year  \\\n",
       "0                     IT      75629               yr                     2007   \n",
       "1  Other Economic Sector      37024               yr                     2007   \n",
       "2              Aerospace      47923               yr                     2007   \n",
       "3  Other Economic Sector      10.97               hr                     2007   \n",
       "4           Advanced Mfg     100000               yr                     2007   \n",
       "\n",
       "   decision_date_year Received_Year  \n",
       "0                2012          2007  \n",
       "1                2011          2007  \n",
       "2                2011          2007  \n",
       "3                2011          2007  \n",
       "4                2012          2007  "
      ]
     },
     "execution_count": 25,
     "metadata": {},
     "output_type": "execute_result"
    }
   ],
   "source": [
    "data.head()"
   ]
  },
  {
   "cell_type": "code",
   "execution_count": 26,
   "metadata": {},
   "outputs": [
    {
     "data": {
      "text/plain": [
       "(365627, 29)"
      ]
     },
     "execution_count": 26,
     "metadata": {},
     "output_type": "execute_result"
    }
   ],
   "source": [
    "data.shape"
   ]
  },
  {
   "cell_type": "markdown",
   "metadata": {},
   "source": [
    "### Correcting the values of units of pay"
   ]
  },
  {
   "cell_type": "code",
   "execution_count": 27,
   "metadata": {},
   "outputs": [
    {
     "data": {
      "text/plain": [
       "(array(['Year', 'Hour', nan, 'Bi-Weekly', 'Month', 'Week'], dtype=object),\n",
       " array(['Year', 'Hour', 'Month', 'Week', 'Bi-Weekly', nan], dtype=object))"
      ]
     },
     "execution_count": 27,
     "metadata": {},
     "output_type": "execute_result"
    }
   ],
   "source": [
    "data.pv_unit_of_pay_9089.replace('yr','Year',inplace=True)\n",
    "data.pv_unit_of_pay_9089.replace('hr','Hour',inplace=True)\n",
    "data.pv_unit_of_pay_9089.replace('bi','Bi-Weekly',inplace=True)\n",
    "data.pv_unit_of_pay_9089.replace('mth','Month',inplace=True)\n",
    "data.pv_unit_of_pay_9089.replace('wk','Week',inplace=True)\n",
    "\n",
    "data.wage_unit_of_pay.replace('hr','Hour',inplace=True)\n",
    "data.wage_unit_of_pay.replace('bi','Bi-Weekly',inplace=True)\n",
    "data.wage_unit_of_pay.replace('mth','Month',inplace=True)\n",
    "data.wage_unit_of_pay.replace('wk','Week',inplace=True)\n",
    "data.wage_unit_of_pay.replace('yr','Year',inplace=True)\n",
    "\n",
    "data.pv_unit_of_pay_9089.unique(),data.wage_unit_of_pay.unique()"
   ]
  },
  {
   "cell_type": "markdown",
   "metadata": {},
   "source": [
    "### Analyzing columns like states to generalize them"
   ]
  },
  {
   "cell_type": "code",
   "execution_count": 28,
   "metadata": {},
   "outputs": [
    {
     "data": {
      "text/plain": [
       "array([nan, 'WISCONSIN', 'NORTH CAROLINA', 'COLORADO', 'CALIFORNIA',\n",
       "       'MICHIGAN', 'NEW YORK', 'TEXAS', 'PENNSYLVANIA', 'NEW JERSEY',\n",
       "       'MISSOURI', 'FLORIDA', 'VIRGINIA', 'OHIO', 'DISTRICT OF COLUMBIA',\n",
       "       'INDIANA', 'GEORGIA', 'MASSACHUSETTS', 'ILLINOIS', 'ALABAMA',\n",
       "       'OKLAHOMA', 'WASHINGTON', 'CONNECTICUT', 'MINNESOTA', 'ARKANSAS',\n",
       "       'HAWAII', 'MARYLAND', 'UTAH', 'PUERTO RICO', 'ARIZONA', 'NEVADA',\n",
       "       'NEW HAMPSHIRE', 'OREGON', 'KANSAS', 'NEW MEXICO', 'VERMONT',\n",
       "       'TENNESSEE', 'NEBRASKA', 'LOUISIANA', 'KENTUCKY', 'GUAM', 'IOWA',\n",
       "       'SOUTH CAROLINA', 'RHODE ISLAND', 'MAINE', 'IDAHO', 'NORTH DAKOTA',\n",
       "       'ALASKA', 'MISSISSIPPI', 'DELAWARE', 'MARSHALL ISLANDS',\n",
       "       'SOUTH DAKOTA', 'MONTANA', 'WEST VIRGINIA', 'NE', 'FL', 'TX', 'CA',\n",
       "       'NY', 'GA', 'MA', 'DC', 'IL', 'VA', 'NC', 'MD', 'TN', 'LA', 'NJ',\n",
       "       'HI', 'PA', 'MI', 'MO', 'WI', 'OK', 'AZ', 'OR', 'MN', 'OH', 'CT',\n",
       "       'UT', 'SC', 'AL', 'WA', 'IN', 'NH', 'CO', 'VT', 'IA', 'RI', 'ME',\n",
       "       'KS', 'MS', 'PR', 'DE', 'KY', 'GU', 'NM', 'AR', 'SD', 'NV', 'MP',\n",
       "       'ND', 'MT', 'AK', 'WV', 'ID', 'WY', 'VI'], dtype=object)"
      ]
     },
     "execution_count": 28,
     "metadata": {},
     "output_type": "execute_result"
    }
   ],
   "source": [
    "data.agent_state.unique()"
   ]
  },
  {
   "cell_type": "code",
   "execution_count": 29,
   "metadata": {},
   "outputs": [
    {
     "data": {
      "text/plain": [
       "(CA            34824\n",
       " CALIFORNIA    19597\n",
       " NY            16143\n",
       " TX            10707\n",
       " NEW YORK       9354\n",
       " Name: agent_state, dtype: int64, CA            0.170313\n",
       " CALIFORNIA    0.095843\n",
       " NY            0.078950\n",
       " TX            0.052365\n",
       " NEW YORK      0.045748\n",
       " Name: agent_state, dtype: float64)"
      ]
     },
     "execution_count": 29,
     "metadata": {},
     "output_type": "execute_result"
    }
   ],
   "source": [
    "data.agent_state.value_counts().head(),data.agent_state.value_counts(1).head()"
   ]
  },
  {
   "cell_type": "markdown",
   "metadata": {},
   "source": [
    "##### Inference:\n",
    "1. Since, agent_state has 58 unique values, 44% nan values and it is not contributing significantly to the business problem. \n",
    "\n",
    "2. Moreover , similar information is available in 'Source' column."
   ]
  },
  {
   "cell_type": "code",
   "execution_count": null,
   "metadata": {},
   "outputs": [],
   "source": []
  },
  {
   "cell_type": "code",
   "execution_count": 30,
   "metadata": {},
   "outputs": [
    {
     "data": {
      "text/plain": [
       "ONLINE      112564\n",
       "PERM         20576\n",
       "MAILEDIN      2129\n",
       "Name: application_type, dtype: int64"
      ]
     },
     "execution_count": 30,
     "metadata": {},
     "output_type": "execute_result"
    }
   ],
   "source": [
    "#2\n",
    "data.application_type.value_counts()"
   ]
  },
  {
   "cell_type": "code",
   "execution_count": 31,
   "metadata": {},
   "outputs": [
    {
     "data": {
      "text/plain": [
       "array(['PERM', 'ONLINE', 'MAILEDIN', nan], dtype=object)"
      ]
     },
     "execution_count": 31,
     "metadata": {},
     "output_type": "execute_result"
    }
   ],
   "source": [
    "data.application_type.unique()"
   ]
  },
  {
   "cell_type": "code",
   "execution_count": 32,
   "metadata": {},
   "outputs": [
    {
     "data": {
      "text/plain": [
       "135269"
      ]
     },
     "execution_count": 32,
     "metadata": {},
     "output_type": "execute_result"
    }
   ],
   "source": [
    "112564+20576+2129"
   ]
  },
  {
   "cell_type": "code",
   "execution_count": 33,
   "metadata": {},
   "outputs": [
    {
     "data": {
      "text/plain": [
       "230358"
      ]
     },
     "execution_count": 33,
     "metadata": {},
     "output_type": "execute_result"
    }
   ],
   "source": [
    "365627-135269"
   ]
  },
  {
   "cell_type": "code",
   "execution_count": 34,
   "metadata": {},
   "outputs": [
    {
     "data": {
      "text/plain": [
       "76786.0"
      ]
     },
     "execution_count": 34,
     "metadata": {},
     "output_type": "execute_result"
    }
   ],
   "source": [
    "230358/3"
   ]
  },
  {
   "cell_type": "markdown",
   "metadata": {},
   "source": [
    "#### Creating a new level for missing values "
   ]
  },
  {
   "cell_type": "code",
   "execution_count": 35,
   "metadata": {},
   "outputs": [],
   "source": [
    "data.application_type.fillna(\"ONLINE\", limit=76786,inplace=True)  \n",
    "data.application_type.fillna(\"PERM\", limit=76786,inplace=True)\n",
    "data.application_type.fillna(\"MAILEDIN\", limit=76786,inplace=True)"
   ]
  },
  {
   "cell_type": "code",
   "execution_count": 36,
   "metadata": {},
   "outputs": [],
   "source": [
    "#d.dropna(thresh=11,inplace=True)"
   ]
  },
  {
   "cell_type": "code",
   "execution_count": 37,
   "metadata": {},
   "outputs": [
    {
     "data": {
      "text/plain": [
       "agent_state                      0.440769\n",
       "application_type                 0.000000\n",
       "case_no                          0.630036\n",
       "case_received_date               0.369970\n",
       "case_status                      0.000000\n",
       "class_of_admission               0.057493\n",
       "country_of_citizenship           0.000164\n",
       "decision_date                    0.000000\n",
       "employer_num_employees           0.370183\n",
       "employer_yr_estab                0.000000\n",
       "employer_city                    0.000038\n",
       "employer_name                    0.000033\n",
       "employer_state                   0.000115\n",
       "foreign_worker_info_education    0.370071\n",
       "foreign_worker_info_major        0.414800\n",
       "job_experience                   0.369997\n",
       "job_title                        0.370085\n",
       "job_training                     0.370005\n",
       "job_work_state                   0.000282\n",
       "pv_unit_of_pay_9089              0.026338\n",
       "previous_salary                  0.006055\n",
       "level                            0.074106\n",
       "source_name                      0.005735\n",
       "sector                           0.646995\n",
       "wage_offer                       0.313902\n",
       "wage_unit_of_pay                 0.316413\n",
       "case_received_date_year          0.000000\n",
       "decision_date_year               0.000000\n",
       "Received_Year                    0.000000\n",
       "dtype: float64"
      ]
     },
     "execution_count": 37,
     "metadata": {},
     "output_type": "execute_result"
    }
   ],
   "source": [
    "data.isnull().sum()/data.shape[0]"
   ]
  },
  {
   "cell_type": "markdown",
   "metadata": {},
   "source": [
    "### Imputing Missing values in columns less with than 2% missing values"
   ]
  },
  {
   "cell_type": "code",
   "execution_count": 38,
   "metadata": {},
   "outputs": [
    {
     "data": {
      "text/plain": [
       "agent_state                      161157\n",
       "case_no                          230358\n",
       "case_received_date               135271\n",
       "class_of_admission                21021\n",
       "employer_num_employees           135349\n",
       "employer_state                       42\n",
       "foreign_worker_info_education    135308\n",
       "foreign_worker_info_major        151662\n",
       "job_experience                   135281\n",
       "job_title                        135313\n",
       "job_training                     135284\n",
       "pv_unit_of_pay_9089                9630\n",
       "level                             27095\n",
       "sector                           236559\n",
       "wage_offer                       114771\n",
       "wage_unit_of_pay                 115689\n",
       "dtype: int64"
      ]
     },
     "execution_count": 38,
     "metadata": {},
     "output_type": "execute_result"
    }
   ],
   "source": [
    "data.source_name.fillna(data.source_name.mode()[0],inplace=True)\n",
    "data.previous_salary.fillna(data.previous_salary.median(),inplace=True)\n",
    "data.job_work_state.fillna(data.job_work_state.mode()[0],inplace=True)\n",
    "data.country_of_citizenship.fillna(data.country_of_citizenship.mode()[0],inplace=True)\n",
    "data.employer_city.fillna(data.employer_city.mode()[0],inplace=True)\n",
    "data.employer_name.fillna(data.employer_name.mode()[0],inplace=True)\n",
    "#d.employer_name.fillna(d.employer_name.mode()[0],inplace=True)\n",
    "#d.employer_state.fillna(d.employer_state.mode()[0],inplace=True)\n",
    "\n",
    "\n",
    "data.isnull().sum()[data.isnull().sum()!=0]"
   ]
  },
  {
   "cell_type": "markdown",
   "metadata": {},
   "source": [
    "### Generalizing the Class_of_admsn of Visa"
   ]
  },
  {
   "cell_type": "code",
   "execution_count": 39,
   "metadata": {},
   "outputs": [
    {
     "data": {
      "text/plain": [
       "array(['J-1', 'B-2', 'H-1B', 'L-1', 'EWI', 'E-2', nan, 'E-1', 'H-2B',\n",
       "       'TPS', 'F-1', 'B-1', 'C-1', 'Not in USA', 'TN', 'H-4', 'O-1',\n",
       "       'R-1', 'L-2', 'Q', 'F-2', 'H-1B1', 'Parolee', 'G-5', 'E-3', 'H-2A',\n",
       "       'VWT', 'P-1', 'A1/A2', 'D-1', 'A-3', 'R-2', 'H-1C', 'H-3', 'J-2',\n",
       "       'P-4', 'I', 'H-1A', 'G-1', 'VWB', 'G-4', 'P-3', 'AOS/H-1B', 'O-3',\n",
       "       'Parol', 'O-2', 'H1B', 'N', 'T-1', 'TD', 'M-1', 'K-1', 'U-1',\n",
       "       'AOS', 'P-2', 'C-3', 'V-2', 'M-2'], dtype=object)"
      ]
     },
     "execution_count": 39,
     "metadata": {},
     "output_type": "execute_result"
    }
   ],
   "source": [
    "data.class_of_admission.unique()"
   ]
  },
  {
   "cell_type": "markdown",
   "metadata": {},
   "source": [
    "Visa categories are further divided into sub-categories. So we can use the parent Category in order to generalize it. \n",
    "\n",
    "https://www.bankbazaar.com/visa/types-of-us-visa.html\n",
    "\n",
    "https://uk.usembassy.gov/visas/visa-directory/\n",
    "\n",
    "https://travel.state.gov/content/travel/en/us-visas/visa-information-resources/all-visa-categories.html"
   ]
  },
  {
   "cell_type": "code",
   "execution_count": 40,
   "metadata": {},
   "outputs": [],
   "source": [
    "data.class_of_admission.replace('J-1','J',inplace=True)\n",
    "data.class_of_admission.replace('J-2','J',inplace=True)\n",
    "data.class_of_admission.replace('B-2','B',inplace=True)\n",
    "data.class_of_admission.replace('B-1','B',inplace=True)\n",
    "data.class_of_admission.replace('H-2B','H-1B',inplace=True)\n",
    "data.class_of_admission.replace('H-2A','H-1B',inplace=True)\n",
    "data.class_of_admission.replace('H-1A','H-1B',inplace=True)\n",
    "data.class_of_admission.replace('H-1B1','H-1B',inplace=True)\n",
    "data.class_of_admission.replace('H-3','H-1B',inplace=True)\n",
    "data.class_of_admission.replace('H-4','H-1B',inplace=True)\n",
    "data.class_of_admission.replace('H-1C','H-1B',inplace=True)\n",
    "data.class_of_admission.replace('H1B','H-1B',inplace=True)\n",
    "data.class_of_admission.replace('L-1','L',inplace=True)\n",
    "data.class_of_admission.replace('L-2','L',inplace=True)\n",
    "data.class_of_admission.replace('Parol','Parole',inplace=True)\n",
    "data.class_of_admission.replace('Parolee','Parole',inplace=True)\n",
    "data.class_of_admission.replace('E-1','E',inplace=True)\n",
    "data.class_of_admission.replace('E-2','E',inplace=True)\n",
    "data.class_of_admission.replace('E-3','E',inplace=True)\n",
    "data.class_of_admission.replace('F-1','F',inplace=True)\n",
    "data.class_of_admission.replace('F-2','F',inplace=True)\n",
    "data.class_of_admission.replace('G-1','G',inplace=True)\n",
    "data.class_of_admission.replace('G-4','G',inplace=True)\n",
    "data.class_of_admission.replace('G-5','G',inplace=True)\n",
    "data.class_of_admission.replace('M-1','M',inplace=True)\n",
    "data.class_of_admission.replace('M-2','M',inplace=True)\n",
    "data.class_of_admission.replace('O-1','O',inplace=True)\n",
    "data.class_of_admission.replace('O-2','O',inplace=True)\n",
    "data.class_of_admission.replace('O-3','O',inplace=True)\n",
    "data.class_of_admission.replace('P-1','P',inplace=True)\n",
    "data.class_of_admission.replace('P-2','P',inplace=True)\n",
    "data.class_of_admission.replace('P-3','P',inplace=True)\n",
    "data.class_of_admission.replace('P-4','P',inplace=True)\n",
    "data.class_of_admission.replace('R-1','R',inplace=True)\n",
    "data.class_of_admission.replace('R-2','R',inplace=True)\n",
    "data.class_of_admission.replace('C-1','C',inplace=True)\n",
    "data.class_of_admission.replace('C-2','C',inplace=True)\n",
    "data.class_of_admission.replace('C-3','C',inplace=True)\n",
    "data.class_of_admission.replace('A1/A2','A',inplace=True)\n",
    "data.class_of_admission.replace('A-2','A',inplace=True)\n",
    "data.class_of_admission.replace('A-3','P',inplace=True)\n",
    "data.class_of_admission.replace('AOS/H-1B','AOS',inplace=True)\n",
    "\n",
    "## Creating a new level for missing values(5%)\n",
    "data.class_of_admission.replace('Not in USA','Unavailable',inplace=True)\n",
    "data.class_of_admission.replace(np.nan,'Unavailable',inplace=True)"
   ]
  },
  {
   "cell_type": "code",
   "execution_count": 41,
   "metadata": {},
   "outputs": [
    {
     "data": {
      "text/plain": [
       "array(['J', 'B', 'H-1B', 'L', 'EWI', 'E', 'Unavailable', 'TPS', 'F', 'C',\n",
       "       'TN', 'O', 'R', 'Q', 'Parole', 'G', 'VWT', 'P', 'A', 'D-1', 'I',\n",
       "       'VWB', 'AOS', 'N', 'T-1', 'TD', 'M', 'K-1', 'U-1', 'V-2'],\n",
       "      dtype=object)"
      ]
     },
     "execution_count": 41,
     "metadata": {},
     "output_type": "execute_result"
    }
   ],
   "source": [
    "data.class_of_admission.unique()"
   ]
  },
  {
   "cell_type": "code",
   "execution_count": 42,
   "metadata": {},
   "outputs": [
    {
     "data": {
      "text/plain": [
       "agent_state                      161157\n",
       "case_no                          230358\n",
       "case_received_date               135271\n",
       "employer_num_employees           135349\n",
       "employer_state                       42\n",
       "foreign_worker_info_education    135308\n",
       "foreign_worker_info_major        151662\n",
       "job_experience                   135281\n",
       "job_title                        135313\n",
       "job_training                     135284\n",
       "pv_unit_of_pay_9089                9630\n",
       "level                             27095\n",
       "sector                           236559\n",
       "wage_offer                       114771\n",
       "wage_unit_of_pay                 115689\n",
       "dtype: int64"
      ]
     },
     "execution_count": 42,
     "metadata": {},
     "output_type": "execute_result"
    }
   ],
   "source": [
    "(data.isnull().sum()[data.isnull().sum()/data.shape[0]>0])"
   ]
  },
  {
   "cell_type": "code",
   "execution_count": 43,
   "metadata": {},
   "outputs": [
    {
     "data": {
      "text/plain": [
       "0.6536880482021294"
      ]
     },
     "execution_count": 43,
     "metadata": {},
     "output_type": "execute_result"
    }
   ],
   "source": [
    "239006/data.shape[0]\n",
    "# 65.3% rows have same pv_unit_of_pay and wage_unit_of_pay"
   ]
  },
  {
   "cell_type": "code",
   "execution_count": 44,
   "metadata": {},
   "outputs": [
    {
     "data": {
      "text/plain": [
       "array(['Year', 'Hour', nan, 'Bi-Weekly', 'Month', 'Week'], dtype=object)"
      ]
     },
     "execution_count": 44,
     "metadata": {},
     "output_type": "execute_result"
    }
   ],
   "source": [
    "data.pv_unit_of_pay_9089.unique()"
   ]
  },
  {
   "cell_type": "code",
   "execution_count": 45,
   "metadata": {},
   "outputs": [],
   "source": [
    "data.pv_unit_of_pay_9089.fillna('Year',inplace=True)"
   ]
  },
  {
   "cell_type": "code",
   "execution_count": 46,
   "metadata": {},
   "outputs": [
    {
     "data": {
      "text/plain": [
       "0"
      ]
     },
     "execution_count": 46,
     "metadata": {},
     "output_type": "execute_result"
    }
   ],
   "source": [
    "data.pv_unit_of_pay_9089.isnull().sum()"
   ]
  },
  {
   "cell_type": "markdown",
   "metadata": {},
   "source": [
    "________________________________________________________________\n",
    "### According the work permit in US , an average person works for 8 hours a day and 5 days in a week.\n",
    "#### Considering this, we can convert the unit of pay on a yearly basis so that all values of pv_unit_of_pay are same.\n",
    "#### We will now convert the units: \n",
    "1. No. of working days in a year are approximately around 250 (~ = 365-(52*2))\n",
    "2. https://www.opm.gov/policy-data-oversight/pay-leave/pay-administration/fact-sheets/computing-hourly-rates-of-pay-using-the-2087-hour-divisor/\n",
    "3. \n",
    "Hourly and biweekly rates of pay for most Federal civilian employees are computed as required by 5 U.S.C. 5504(b). \n",
    "\n",
    "Hourly and Bi-weekly conversion - https://www.law.cornell.edu/uscode/text/5/5504"
   ]
  },
  {
   "cell_type": "code",
   "execution_count": 47,
   "metadata": {},
   "outputs": [],
   "source": [
    "for unit in data.pv_unit_of_pay_9089.unique():\n",
    "    if unit == \"Hour\":\n",
    "        data.loc[data['pv_unit_of_pay_9089'] == unit, 'previous_salary'] = data['previous_salary'].apply(lambda x: float(x) * 8 * 250)\n",
    "        data.loc[data['pv_unit_of_pay_9089'] == unit, 'pv_unit_of_pay_9089'] = data['pv_unit_of_pay_9089'].replace(to_replace = unit, value = \"Year\") \n",
    "    elif unit == \"Week\":\n",
    "        data.loc[data['pv_unit_of_pay_9089'] == unit, 'previous_salary'] = data['previous_salary'].apply(lambda x: float(x) * 50)\n",
    "        data.loc[data['pv_unit_of_pay_9089'] == unit, 'pv_unit_of_pay_9089'] = data['pv_unit_of_pay_9089'].replace(to_replace = unit, value = \"Year\")\n",
    "    elif unit == \"Month\":\n",
    "        data.loc[data['pv_unit_of_pay_9089'] == unit, 'previous_salary'] = data['previous_salary'].apply(lambda x: float(x) * 12)\n",
    "        data.loc[data['pv_unit_of_pay_9089'] == unit, 'pv_unit_of_pay_9089'] = data['pv_unit_of_pay_9089'].replace(to_replace = unit, value = \"Year\")\n",
    "    elif unit == \"Bi-Weekly\":  \n",
    "        data.loc[data['pv_unit_of_pay_9089'] == unit, 'previous_salary'] = data['previous_salary'].apply(lambda x: float(x) * 40)\n",
    "        data.loc[data['pv_unit_of_pay_9089'] == unit, 'pv_unit_of_pay_9089'] = data['pv_unit_of_pay_9089'].replace(to_replace = unit, value = \"Year\")\n",
    "    \n",
    "    else:\n",
    "        continue\n",
    "        data['previous_salary'] = data.previous_salary.astype(float)\n"
   ]
  },
  {
   "cell_type": "code",
   "execution_count": 48,
   "metadata": {},
   "outputs": [
    {
     "data": {
      "image/png": "[encoded data removed]",
      "text/plain": [
       "<Figure size 432x288 with 1 Axes>"
      ]
     },
     "metadata": {
      "needs_background": "light"
     },
     "output_type": "display_data"
    }
   ],
   "source": [
    "sns.boxplot(data.previous_salary)\n",
    "plt.show()"
   ]
  },
  {
   "cell_type": "code",
   "execution_count": 49,
   "metadata": {},
   "outputs": [],
   "source": [
    "data.wage_offer.fillna(data.previous_salary,inplace=True)"
   ]
  },
  {
   "cell_type": "code",
   "execution_count": 50,
   "metadata": {},
   "outputs": [
    {
     "data": {
      "text/plain": [
       "0    CALIFORNIA\n",
       "dtype: object"
      ]
     },
     "execution_count": 50,
     "metadata": {},
     "output_type": "execute_result"
    }
   ],
   "source": [
    "data.employer_state.mode()"
   ]
  },
  {
   "cell_type": "code",
   "execution_count": 51,
   "metadata": {},
   "outputs": [],
   "source": [
    "data.employer_state.fillna('CALIFORNIA',inplace=True)"
   ]
  },
  {
   "cell_type": "code",
   "execution_count": 52,
   "metadata": {},
   "outputs": [
    {
     "data": {
      "text/plain": [
       "agent_state                      161157\n",
       "case_no                          230358\n",
       "case_received_date               135271\n",
       "employer_num_employees           135349\n",
       "foreign_worker_info_education    135308\n",
       "foreign_worker_info_major        151662\n",
       "job_experience                   135281\n",
       "job_title                        135313\n",
       "job_training                     135284\n",
       "level                             27095\n",
       "sector                           236559\n",
       "wage_unit_of_pay                 115689\n",
       "dtype: int64"
      ]
     },
     "execution_count": 52,
     "metadata": {},
     "output_type": "execute_result"
    }
   ],
   "source": [
    "data.isnull().sum()[data.isna().sum()!=0]"
   ]
  },
  {
   "cell_type": "code",
   "execution_count": 53,
   "metadata": {},
   "outputs": [
    {
     "data": {
      "text/plain": [
       "dtype('float64')"
      ]
     },
     "execution_count": 53,
     "metadata": {},
     "output_type": "execute_result"
    }
   ],
   "source": [
    "np.dtype(data.previous_salary)"
   ]
  },
  {
   "cell_type": "code",
   "execution_count": 54,
   "metadata": {
    "scrolled": true
   },
   "outputs": [
    {
     "data": {
      "text/plain": [
       "86501.0"
      ]
     },
     "execution_count": 54,
     "metadata": {},
     "output_type": "execute_result"
    }
   ],
   "source": [
    "data.previous_salary.median()\n"
   ]
  },
  {
   "cell_type": "code",
   "execution_count": 55,
   "metadata": {},
   "outputs": [
    {
     "data": {
      "text/html": [
       "<div>\n",
       "<style scoped>\n",
       "    .dataframe tbody tr th:only-of-type {\n",
       "        vertical-align: middle;\n",
       "    }\n",
       "\n",
       "    .dataframe tbody tr th {\n",
       "        vertical-align: top;\n",
       "    }\n",
       "\n",
       "    .dataframe thead th {\n",
       "        text-align: right;\n",
       "    }\n",
       "</style>\n",
       "<table border=\"1\" class=\"dataframe\">\n",
       "  <thead>\n",
       "    <tr style=\"text-align: right;\">\n",
       "      <th></th>\n",
       "      <th>agent_state</th>\n",
       "      <th>application_type</th>\n",
       "      <th>case_no</th>\n",
       "      <th>case_received_date</th>\n",
       "      <th>case_status</th>\n",
       "      <th>class_of_admission</th>\n",
       "      <th>country_of_citizenship</th>\n",
       "      <th>decision_date</th>\n",
       "      <th>employer_num_employees</th>\n",
       "      <th>employer_yr_estab</th>\n",
       "      <th>employer_city</th>\n",
       "      <th>employer_name</th>\n",
       "      <th>employer_state</th>\n",
       "      <th>foreign_worker_info_education</th>\n",
       "      <th>foreign_worker_info_major</th>\n",
       "      <th>job_experience</th>\n",
       "      <th>job_title</th>\n",
       "      <th>job_training</th>\n",
       "      <th>job_work_state</th>\n",
       "      <th>pv_unit_of_pay_9089</th>\n",
       "      <th>previous_salary</th>\n",
       "      <th>level</th>\n",
       "      <th>source_name</th>\n",
       "      <th>sector</th>\n",
       "      <th>wage_offer</th>\n",
       "      <th>wage_unit_of_pay</th>\n",
       "      <th>case_received_date_year</th>\n",
       "      <th>decision_date_year</th>\n",
       "      <th>Received_Year</th>\n",
       "    </tr>\n",
       "  </thead>\n",
       "  <tbody>\n",
       "    <tr>\n",
       "      <th>202865</th>\n",
       "      <td>CALIFORNIA</td>\n",
       "      <td>ONLINE</td>\n",
       "      <td>NaN</td>\n",
       "      <td>2015-01-14</td>\n",
       "      <td>Certified</td>\n",
       "      <td>H-1B</td>\n",
       "      <td>INDIA</td>\n",
       "      <td>2015-08-18</td>\n",
       "      <td>596.0</td>\n",
       "      <td>New</td>\n",
       "      <td>Jersey City</td>\n",
       "      <td>Brillio, LLC</td>\n",
       "      <td>NEW JERSEY</td>\n",
       "      <td>Master's</td>\n",
       "      <td>CIVIL ENGINEERING</td>\n",
       "      <td>Y</td>\n",
       "      <td>Computer Programmer II</td>\n",
       "      <td>N</td>\n",
       "      <td>NEW JERSEY</td>\n",
       "      <td>Year</td>\n",
       "      <td>108763.0</td>\n",
       "      <td>Level III</td>\n",
       "      <td>OES</td>\n",
       "      <td>NaN</td>\n",
       "      <td>#############</td>\n",
       "      <td>Year</td>\n",
       "      <td>2015</td>\n",
       "      <td>2015</td>\n",
       "      <td></td>\n",
       "    </tr>\n",
       "    <tr>\n",
       "      <th>209472</th>\n",
       "      <td>NEW YORK</td>\n",
       "      <td>ONLINE</td>\n",
       "      <td>NaN</td>\n",
       "      <td>2015-07-13</td>\n",
       "      <td>Withdrawn</td>\n",
       "      <td>E</td>\n",
       "      <td>AUSTRALIA</td>\n",
       "      <td>2015-08-05</td>\n",
       "      <td>55.0</td>\n",
       "      <td>Old</td>\n",
       "      <td>Tuxedo Park</td>\n",
       "      <td>Live Technology Holdings, Inc.</td>\n",
       "      <td>NEW YORK</td>\n",
       "      <td>Master's</td>\n",
       "      <td>COMPUTER SCIENCE</td>\n",
       "      <td>Y</td>\n",
       "      <td>Lead Delphi Engineer</td>\n",
       "      <td>N</td>\n",
       "      <td>NEVADA</td>\n",
       "      <td>Year</td>\n",
       "      <td>7036600.0</td>\n",
       "      <td>Level II</td>\n",
       "      <td>OES</td>\n",
       "      <td>NaN</td>\n",
       "      <td>#############</td>\n",
       "      <td>Year</td>\n",
       "      <td>2015</td>\n",
       "      <td>2015</td>\n",
       "      <td></td>\n",
       "    </tr>\n",
       "  </tbody>\n",
       "</table>\n",
       "</div>"
      ],
      "text/plain": [
       "       agent_state application_type case_no case_received_date case_status  \\\n",
       "202865  CALIFORNIA           ONLINE     NaN         2015-01-14   Certified   \n",
       "209472    NEW YORK           ONLINE     NaN         2015-07-13   Withdrawn   \n",
       "\n",
       "       class_of_admission country_of_citizenship decision_date  \\\n",
       "202865               H-1B                  INDIA    2015-08-18   \n",
       "209472                  E              AUSTRALIA    2015-08-05   \n",
       "\n",
       "        employer_num_employees employer_yr_estab employer_city  \\\n",
       "202865                   596.0               New   Jersey City   \n",
       "209472                    55.0               Old   Tuxedo Park   \n",
       "\n",
       "                         employer_name employer_state  \\\n",
       "202865                    Brillio, LLC     NEW JERSEY   \n",
       "209472  Live Technology Holdings, Inc.       NEW YORK   \n",
       "\n",
       "       foreign_worker_info_education foreign_worker_info_major job_experience  \\\n",
       "202865                      Master's         CIVIL ENGINEERING              Y   \n",
       "209472                      Master's          COMPUTER SCIENCE              Y   \n",
       "\n",
       "                     job_title job_training job_work_state  \\\n",
       "202865  Computer Programmer II            N     NEW JERSEY   \n",
       "209472    Lead Delphi Engineer            N         NEVADA   \n",
       "\n",
       "       pv_unit_of_pay_9089  previous_salary      level source_name sector  \\\n",
       "202865                Year         108763.0  Level III         OES    NaN   \n",
       "209472                Year        7036600.0   Level II         OES    NaN   \n",
       "\n",
       "           wage_offer wage_unit_of_pay  case_received_date_year  \\\n",
       "202865  #############             Year                     2015   \n",
       "209472  #############             Year                     2015   \n",
       "\n",
       "        decision_date_year Received_Year  \n",
       "202865                2015                \n",
       "209472                2015                "
      ]
     },
     "execution_count": 55,
     "metadata": {},
     "output_type": "execute_result"
    }
   ],
   "source": [
    "data[data.wage_offer==\"#############\"]"
   ]
  },
  {
   "cell_type": "code",
   "execution_count": 56,
   "metadata": {},
   "outputs": [],
   "source": [
    "data.wage_offer.replace(\"#############\",90000,inplace=True)   #90000 is the median of this column"
   ]
  },
  {
   "cell_type": "code",
   "execution_count": 57,
   "metadata": {},
   "outputs": [
    {
     "data": {
      "text/plain": [
       "Series([], Name: wage_offer, dtype: float64)"
      ]
     },
     "execution_count": 57,
     "metadata": {},
     "output_type": "execute_result"
    }
   ],
   "source": [
    "data[\"wage_offer\"][data[\"wage_offer\"]==\"#############\"]"
   ]
  },
  {
   "cell_type": "markdown",
   "metadata": {},
   "source": [
    "### The columns previous_salary and wage_offer is the same for more than 95% of the rows. \n",
    "#### They are providing the same information. Thus ,we will make a new column which is their mean and drop the original columns after extracting information from them."
   ]
  },
  {
   "cell_type": "code",
   "execution_count": 58,
   "metadata": {},
   "outputs": [
    {
     "data": {
      "text/html": [
       "<div>\n",
       "<style scoped>\n",
       "    .dataframe tbody tr th:only-of-type {\n",
       "        vertical-align: middle;\n",
       "    }\n",
       "\n",
       "    .dataframe tbody tr th {\n",
       "        vertical-align: top;\n",
       "    }\n",
       "\n",
       "    .dataframe thead th {\n",
       "        text-align: right;\n",
       "    }\n",
       "</style>\n",
       "<table border=\"1\" class=\"dataframe\">\n",
       "  <thead>\n",
       "    <tr style=\"text-align: right;\">\n",
       "      <th></th>\n",
       "      <th>agent_state</th>\n",
       "      <th>application_type</th>\n",
       "      <th>case_no</th>\n",
       "      <th>case_received_date</th>\n",
       "      <th>case_status</th>\n",
       "      <th>class_of_admission</th>\n",
       "      <th>country_of_citizenship</th>\n",
       "      <th>decision_date</th>\n",
       "      <th>employer_num_employees</th>\n",
       "      <th>employer_yr_estab</th>\n",
       "      <th>employer_city</th>\n",
       "      <th>employer_name</th>\n",
       "      <th>employer_state</th>\n",
       "      <th>foreign_worker_info_education</th>\n",
       "      <th>foreign_worker_info_major</th>\n",
       "      <th>job_experience</th>\n",
       "      <th>job_title</th>\n",
       "      <th>job_training</th>\n",
       "      <th>job_work_state</th>\n",
       "      <th>pv_unit_of_pay_9089</th>\n",
       "      <th>previous_salary</th>\n",
       "      <th>level</th>\n",
       "      <th>source_name</th>\n",
       "      <th>sector</th>\n",
       "      <th>wage_offer</th>\n",
       "      <th>wage_unit_of_pay</th>\n",
       "      <th>case_received_date_year</th>\n",
       "      <th>decision_date_year</th>\n",
       "      <th>Received_Year</th>\n",
       "      <th>meansal</th>\n",
       "    </tr>\n",
       "  </thead>\n",
       "  <tbody>\n",
       "    <tr>\n",
       "      <th>0</th>\n",
       "      <td>NaN</td>\n",
       "      <td>PERM</td>\n",
       "      <td>A-07323-97014</td>\n",
       "      <td>NaT</td>\n",
       "      <td>Certified</td>\n",
       "      <td>J</td>\n",
       "      <td>ARMENIA</td>\n",
       "      <td>2012-02-01</td>\n",
       "      <td>NaN</td>\n",
       "      <td>Unavailable</td>\n",
       "      <td>NEW YORK</td>\n",
       "      <td>NETSOFT USA INC.</td>\n",
       "      <td>NY</td>\n",
       "      <td>NaN</td>\n",
       "      <td>NaN</td>\n",
       "      <td>NaN</td>\n",
       "      <td>NaN</td>\n",
       "      <td>NaN</td>\n",
       "      <td>NY</td>\n",
       "      <td>Year</td>\n",
       "      <td>75629.0</td>\n",
       "      <td>Level II</td>\n",
       "      <td>OES</td>\n",
       "      <td>IT</td>\n",
       "      <td>75629.00</td>\n",
       "      <td>Year</td>\n",
       "      <td>2007</td>\n",
       "      <td>2012</td>\n",
       "      <td>2007</td>\n",
       "      <td>75629.000</td>\n",
       "    </tr>\n",
       "    <tr>\n",
       "      <th>1</th>\n",
       "      <td>NaN</td>\n",
       "      <td>PERM</td>\n",
       "      <td>A-07332-99439</td>\n",
       "      <td>NaT</td>\n",
       "      <td>Denied</td>\n",
       "      <td>B</td>\n",
       "      <td>POLAND</td>\n",
       "      <td>2011-12-21</td>\n",
       "      <td>NaN</td>\n",
       "      <td>Unavailable</td>\n",
       "      <td>CARLSTADT</td>\n",
       "      <td>PINNACLE ENVIRONEMNTAL CORP</td>\n",
       "      <td>NY</td>\n",
       "      <td>NaN</td>\n",
       "      <td>NaN</td>\n",
       "      <td>NaN</td>\n",
       "      <td>NaN</td>\n",
       "      <td>NaN</td>\n",
       "      <td>NY</td>\n",
       "      <td>Year</td>\n",
       "      <td>37024.0</td>\n",
       "      <td>Level I</td>\n",
       "      <td>OES</td>\n",
       "      <td>Other Economic Sector</td>\n",
       "      <td>37024.00</td>\n",
       "      <td>Year</td>\n",
       "      <td>2007</td>\n",
       "      <td>2011</td>\n",
       "      <td>2007</td>\n",
       "      <td>37024.000</td>\n",
       "    </tr>\n",
       "    <tr>\n",
       "      <th>2</th>\n",
       "      <td>NaN</td>\n",
       "      <td>PERM</td>\n",
       "      <td>A-07333-99643</td>\n",
       "      <td>NaT</td>\n",
       "      <td>Certified</td>\n",
       "      <td>H-1B</td>\n",
       "      <td>INDIA</td>\n",
       "      <td>2011-12-01</td>\n",
       "      <td>NaN</td>\n",
       "      <td>Unavailable</td>\n",
       "      <td>GLEN ALLEN</td>\n",
       "      <td>SCHNABEL ENGINEERING, INC.</td>\n",
       "      <td>VA</td>\n",
       "      <td>NaN</td>\n",
       "      <td>NaN</td>\n",
       "      <td>NaN</td>\n",
       "      <td>NaN</td>\n",
       "      <td>NaN</td>\n",
       "      <td>MD</td>\n",
       "      <td>Year</td>\n",
       "      <td>47923.0</td>\n",
       "      <td>Level I</td>\n",
       "      <td>OES</td>\n",
       "      <td>Aerospace</td>\n",
       "      <td>47923.00</td>\n",
       "      <td>Year</td>\n",
       "      <td>2007</td>\n",
       "      <td>2011</td>\n",
       "      <td>2007</td>\n",
       "      <td>47923.000</td>\n",
       "    </tr>\n",
       "    <tr>\n",
       "      <th>3</th>\n",
       "      <td>NaN</td>\n",
       "      <td>PERM</td>\n",
       "      <td>A-07339-01930</td>\n",
       "      <td>NaT</td>\n",
       "      <td>Certified</td>\n",
       "      <td>B</td>\n",
       "      <td>SOUTH KOREA</td>\n",
       "      <td>2011-12-01</td>\n",
       "      <td>NaN</td>\n",
       "      <td>Unavailable</td>\n",
       "      <td>FLUSHING</td>\n",
       "      <td>EBENEZER MISSION CHURCH</td>\n",
       "      <td>NY</td>\n",
       "      <td>NaN</td>\n",
       "      <td>NaN</td>\n",
       "      <td>NaN</td>\n",
       "      <td>NaN</td>\n",
       "      <td>NaN</td>\n",
       "      <td>NY</td>\n",
       "      <td>Year</td>\n",
       "      <td>21940.0</td>\n",
       "      <td>Level II</td>\n",
       "      <td>OES</td>\n",
       "      <td>Other Economic Sector</td>\n",
       "      <td>10.97</td>\n",
       "      <td>Hour</td>\n",
       "      <td>2007</td>\n",
       "      <td>2011</td>\n",
       "      <td>2007</td>\n",
       "      <td>10975.485</td>\n",
       "    </tr>\n",
       "    <tr>\n",
       "      <th>4</th>\n",
       "      <td>NaN</td>\n",
       "      <td>PERM</td>\n",
       "      <td>A-07345-03565</td>\n",
       "      <td>NaT</td>\n",
       "      <td>Certified</td>\n",
       "      <td>L</td>\n",
       "      <td>CANADA</td>\n",
       "      <td>2012-01-26</td>\n",
       "      <td>NaN</td>\n",
       "      <td>Unavailable</td>\n",
       "      <td>ALBANY</td>\n",
       "      <td>ALBANY INTERNATIONAL CORP.</td>\n",
       "      <td>NY</td>\n",
       "      <td>NaN</td>\n",
       "      <td>NaN</td>\n",
       "      <td>NaN</td>\n",
       "      <td>NaN</td>\n",
       "      <td>NaN</td>\n",
       "      <td>NY</td>\n",
       "      <td>Year</td>\n",
       "      <td>94890.0</td>\n",
       "      <td>Level IV</td>\n",
       "      <td>OES</td>\n",
       "      <td>Advanced Mfg</td>\n",
       "      <td>100000.00</td>\n",
       "      <td>Year</td>\n",
       "      <td>2007</td>\n",
       "      <td>2012</td>\n",
       "      <td>2007</td>\n",
       "      <td>97445.000</td>\n",
       "    </tr>\n",
       "  </tbody>\n",
       "</table>\n",
       "</div>"
      ],
      "text/plain": [
       "  agent_state application_type        case_no case_received_date case_status  \\\n",
       "0         NaN             PERM  A-07323-97014                NaT   Certified   \n",
       "1         NaN             PERM  A-07332-99439                NaT      Denied   \n",
       "2         NaN             PERM  A-07333-99643                NaT   Certified   \n",
       "3         NaN             PERM  A-07339-01930                NaT   Certified   \n",
       "4         NaN             PERM  A-07345-03565                NaT   Certified   \n",
       "\n",
       "  class_of_admission country_of_citizenship decision_date  \\\n",
       "0                  J                ARMENIA    2012-02-01   \n",
       "1                  B                 POLAND    2011-12-21   \n",
       "2               H-1B                  INDIA    2011-12-01   \n",
       "3                  B            SOUTH KOREA    2011-12-01   \n",
       "4                  L                 CANADA    2012-01-26   \n",
       "\n",
       "   employer_num_employees employer_yr_estab employer_city  \\\n",
       "0                     NaN       Unavailable      NEW YORK   \n",
       "1                     NaN       Unavailable     CARLSTADT   \n",
       "2                     NaN       Unavailable    GLEN ALLEN   \n",
       "3                     NaN       Unavailable      FLUSHING   \n",
       "4                     NaN       Unavailable        ALBANY   \n",
       "\n",
       "                 employer_name employer_state foreign_worker_info_education  \\\n",
       "0             NETSOFT USA INC.             NY                           NaN   \n",
       "1  PINNACLE ENVIRONEMNTAL CORP             NY                           NaN   \n",
       "2   SCHNABEL ENGINEERING, INC.             VA                           NaN   \n",
       "3      EBENEZER MISSION CHURCH             NY                           NaN   \n",
       "4   ALBANY INTERNATIONAL CORP.             NY                           NaN   \n",
       "\n",
       "  foreign_worker_info_major job_experience job_title job_training  \\\n",
       "0                       NaN            NaN       NaN          NaN   \n",
       "1                       NaN            NaN       NaN          NaN   \n",
       "2                       NaN            NaN       NaN          NaN   \n",
       "3                       NaN            NaN       NaN          NaN   \n",
       "4                       NaN            NaN       NaN          NaN   \n",
       "\n",
       "  job_work_state pv_unit_of_pay_9089  previous_salary     level source_name  \\\n",
       "0             NY                Year          75629.0  Level II         OES   \n",
       "1             NY                Year          37024.0   Level I         OES   \n",
       "2             MD                Year          47923.0   Level I         OES   \n",
       "3             NY                Year          21940.0  Level II         OES   \n",
       "4             NY                Year          94890.0  Level IV         OES   \n",
       "\n",
       "                  sector  wage_offer wage_unit_of_pay  \\\n",
       "0                     IT    75629.00             Year   \n",
       "1  Other Economic Sector    37024.00             Year   \n",
       "2              Aerospace    47923.00             Year   \n",
       "3  Other Economic Sector       10.97             Hour   \n",
       "4           Advanced Mfg   100000.00             Year   \n",
       "\n",
       "   case_received_date_year  decision_date_year Received_Year    meansal  \n",
       "0                     2007                2012          2007  75629.000  \n",
       "1                     2007                2011          2007  37024.000  \n",
       "2                     2007                2011          2007  47923.000  \n",
       "3                     2007                2011          2007  10975.485  \n",
       "4                     2007                2012          2007  97445.000  "
      ]
     },
     "execution_count": 58,
     "metadata": {},
     "output_type": "execute_result"
    }
   ],
   "source": [
    "data['meansal']=(data.previous_salary+data.wage_offer)/2\n",
    "\n",
    "\n",
    "\n",
    "data.head()"
   ]
  },
  {
   "cell_type": "code",
   "execution_count": 59,
   "metadata": {},
   "outputs": [
    {
     "data": {
      "text/plain": [
       "array(['NY', 'VA', 'FL', 'DE', 'MD', 'NJ', 'GA', 'IL', 'TX', 'KY', 'WY',\n",
       "       'OH', 'MS', 'MA', 'NC', 'CA', 'MO', 'CT', 'AZ', 'WI', 'PA', 'WA',\n",
       "       'CO', 'MN', 'NV', 'UT', 'AL', 'OK', 'LA', 'RI', 'DC', 'OR', 'MI',\n",
       "       'IA', 'NH', 'IN', 'SD', 'NE', 'KS', 'TN', 'PR', 'AR', 'GU', 'WV',\n",
       "       'SC', 'ID', 'VI', 'ND', 'HI', 'VT', 'ME', 'NM', 'MP', 'AK', 'MT',\n",
       "       'GUAM', 'MH', 'BRITISH COLUMBIA', 'BC'], dtype=object)"
      ]
     },
     "execution_count": 59,
     "metadata": {},
     "output_type": "execute_result"
    }
   ],
   "source": [
    "state_abb = { 'Alabama': 'AL','Alaska': 'AK','Arizona': 'AZ','Arkansas': 'AR','California': 'CA','Colorado': 'CO',\n",
    "                 'Connecticut': 'CT','Delaware': 'DE','Florida': 'FL','Georgia': 'GA','Hawaii': 'HI','Idaho': 'ID',\n",
    "                  'Illinois': 'IL','Indiana': 'IN','Iowa': 'IA','Kansas': 'KS','Kentucky': 'KY','Louisiana': 'LA',\n",
    "                'Maine': 'ME','Maryland': 'MD', 'Massachusetts': 'MA','Michigan': 'MI','Minnesota': 'MN','Mississippi': 'MS',\n",
    "                'Missouri': 'MO','Montana': 'MT','Nebraska': 'NE','Nevada': 'NV','New Hampshire': 'NH','New Jersey': 'NJ',\n",
    "                'New Mexico': 'NM','New York': 'NY','North Carolina': 'NC','North Dakota': 'ND','Ohio': 'OH','Oklahoma': 'OK',\n",
    "                'Oregon': 'OR','Pennsylvania': 'PA','Rhode Island': 'RI','South Carolina': 'SC','South Dakota': 'SD',\n",
    "                'Tennessee': 'TN','Texas': 'TX','Utah': 'UT','Vermont': 'VT','Virginia': 'VA','Washington': 'WA',\n",
    "                'West Virginia': 'WV','Wisconsin': 'WI','Wyoming': 'WY','Northern Mariana Islands':'MP', 'Palau': 'PW', \n",
    "                'Puerto Rico': 'PR', 'Virgin Islands': 'VI', 'District of Columbia': 'DC','MARSHALL ISLANDS':'MH'}\n",
    "\n",
    "\n",
    "us_state_abbrev = {k.upper(): v for k, v in state_abb.items()}\n",
    "data['employer_state'].replace(us_state_abbrev, inplace=True)\n",
    "data.employer_state = data.employer_state.astype(str)\n",
    "\n",
    "data.employer_state.unique()"
   ]
  },
  {
   "cell_type": "markdown",
   "metadata": {},
   "source": [
    "### Generalizing the states"
   ]
  },
  {
   "cell_type": "code",
   "execution_count": 60,
   "metadata": {},
   "outputs": [],
   "source": [
    "regions = {\n",
    "    'ME':'Northeast', \n",
    "    'NY':'Northeast', \n",
    "    'NJ':'Northeast', \n",
    "    'VT':'Northeast',\n",
    "    'MA':'Northeast',\n",
    "    'RI':'Northeast',\n",
    "    'CT':'Northeast',\n",
    "    'NH':'Northeast',\n",
    "    'PA':'Northeast',\n",
    "     'DC':'Other',\n",
    "    'IL':'Midwest',\n",
    "    'IN':'Midwest',\n",
    "    'IA':'Midwest', \n",
    "    'KS':'Midwest',\n",
    "    'MI':'Midwest', \n",
    "    'MN':'Midwest', \n",
    "    'MO':'Midwest', \n",
    "    'NE':'Midwest',\n",
    "    'ND':'Midwest', \n",
    "    'OH':'Midwest', \n",
    "    'SD':'Midwest', \n",
    "    'WI':'Midwest',\n",
    "    'DE':'South',\n",
    "    'FL':'South', \n",
    "    'GA':'South',\n",
    "    'MD':'South',\n",
    "    'NC':'South',\n",
    "    'SC':'South',\n",
    "    'VA':'South',\n",
    "    'WV':'South',\n",
    "    'AL':'South',\n",
    "    'KY':'South',\n",
    "    'MS':'South',\n",
    "    'TN':'South',\n",
    "    'AR':'South',\n",
    "    'LA':'South', \n",
    "    'OK':'South',\n",
    "    'TX':'South',\n",
    "    'MT':'West',\n",
    "    'WY':'West', \n",
    "    'CO':'West', \n",
    "    'NM':'West', \n",
    "    'ID':'West', \n",
    "    'UT':'West', \n",
    "    'AZ':'West', \n",
    "    'NV':'West',\n",
    "    'WA':'West', \n",
    "    'OR':'West', \n",
    "    'CA':'West', \n",
    "    'AK':'West',\n",
    "    'HI':'West', \n",
    "    'GUAM':'Island',\n",
    "    'GU':'Island',\n",
    "    'PR':'Island', \n",
    "    'MP':'Island', \n",
    "    'VI':'Island',\n",
    "    'BC':'Northeast',\n",
    "    'BRITISH COLUMBIA':'Northeast',  \n",
    "    'nan':'Other',\n",
    "    'FEDERATED STATES OF MICRONESIA':'Other',\n",
    "'MH':'Island'}"
   ]
  },
  {
   "cell_type": "code",
   "execution_count": 61,
   "metadata": {},
   "outputs": [],
   "source": [
    "def region(x):\n",
    "    return regions[x]\n",
    "\n",
    "data['employer_region'] = data['employer_state'].apply(region)\n"
   ]
  },
  {
   "cell_type": "code",
   "execution_count": null,
   "metadata": {},
   "outputs": [],
   "source": []
  },
  {
   "cell_type": "code",
   "execution_count": 62,
   "metadata": {},
   "outputs": [
    {
     "data": {
      "text/plain": [
       "array(['Northeast', 'South', 'Midwest', 'West', 'Other', 'Island'],\n",
       "      dtype=object)"
      ]
     },
     "execution_count": 62,
     "metadata": {},
     "output_type": "execute_result"
    }
   ],
   "source": [
    "data.employer_region.unique()"
   ]
  },
  {
   "cell_type": "code",
   "execution_count": 63,
   "metadata": {},
   "outputs": [
    {
     "data": {
      "text/html": [
       "<div>\n",
       "<style scoped>\n",
       "    .dataframe tbody tr th:only-of-type {\n",
       "        vertical-align: middle;\n",
       "    }\n",
       "\n",
       "    .dataframe tbody tr th {\n",
       "        vertical-align: top;\n",
       "    }\n",
       "\n",
       "    .dataframe thead th {\n",
       "        text-align: right;\n",
       "    }\n",
       "</style>\n",
       "<table border=\"1\" class=\"dataframe\">\n",
       "  <thead>\n",
       "    <tr style=\"text-align: right;\">\n",
       "      <th></th>\n",
       "      <th>agent_state</th>\n",
       "      <th>application_type</th>\n",
       "      <th>case_no</th>\n",
       "      <th>case_received_date</th>\n",
       "      <th>case_status</th>\n",
       "      <th>class_of_admission</th>\n",
       "      <th>country_of_citizenship</th>\n",
       "      <th>decision_date</th>\n",
       "      <th>employer_num_employees</th>\n",
       "      <th>employer_yr_estab</th>\n",
       "      <th>employer_city</th>\n",
       "      <th>employer_name</th>\n",
       "      <th>employer_state</th>\n",
       "      <th>foreign_worker_info_education</th>\n",
       "      <th>foreign_worker_info_major</th>\n",
       "      <th>job_experience</th>\n",
       "      <th>job_title</th>\n",
       "      <th>job_training</th>\n",
       "      <th>job_work_state</th>\n",
       "      <th>pv_unit_of_pay_9089</th>\n",
       "      <th>previous_salary</th>\n",
       "      <th>level</th>\n",
       "      <th>source_name</th>\n",
       "      <th>sector</th>\n",
       "      <th>wage_offer</th>\n",
       "      <th>wage_unit_of_pay</th>\n",
       "      <th>case_received_date_year</th>\n",
       "      <th>decision_date_year</th>\n",
       "      <th>Received_Year</th>\n",
       "      <th>meansal</th>\n",
       "      <th>employer_region</th>\n",
       "    </tr>\n",
       "  </thead>\n",
       "  <tbody>\n",
       "    <tr>\n",
       "      <th>0</th>\n",
       "      <td>NaN</td>\n",
       "      <td>PERM</td>\n",
       "      <td>A-07323-97014</td>\n",
       "      <td>NaT</td>\n",
       "      <td>Certified</td>\n",
       "      <td>J</td>\n",
       "      <td>ARMENIA</td>\n",
       "      <td>2012-02-01</td>\n",
       "      <td>NaN</td>\n",
       "      <td>Unavailable</td>\n",
       "      <td>NEW YORK</td>\n",
       "      <td>NETSOFT USA INC.</td>\n",
       "      <td>NY</td>\n",
       "      <td>NaN</td>\n",
       "      <td>NaN</td>\n",
       "      <td>NaN</td>\n",
       "      <td>NaN</td>\n",
       "      <td>NaN</td>\n",
       "      <td>NY</td>\n",
       "      <td>Year</td>\n",
       "      <td>75629.0</td>\n",
       "      <td>Level II</td>\n",
       "      <td>OES</td>\n",
       "      <td>IT</td>\n",
       "      <td>75629.00</td>\n",
       "      <td>Year</td>\n",
       "      <td>2007</td>\n",
       "      <td>2012</td>\n",
       "      <td>2007</td>\n",
       "      <td>75629.000</td>\n",
       "      <td>Northeast</td>\n",
       "    </tr>\n",
       "    <tr>\n",
       "      <th>1</th>\n",
       "      <td>NaN</td>\n",
       "      <td>PERM</td>\n",
       "      <td>A-07332-99439</td>\n",
       "      <td>NaT</td>\n",
       "      <td>Denied</td>\n",
       "      <td>B</td>\n",
       "      <td>POLAND</td>\n",
       "      <td>2011-12-21</td>\n",
       "      <td>NaN</td>\n",
       "      <td>Unavailable</td>\n",
       "      <td>CARLSTADT</td>\n",
       "      <td>PINNACLE ENVIRONEMNTAL CORP</td>\n",
       "      <td>NY</td>\n",
       "      <td>NaN</td>\n",
       "      <td>NaN</td>\n",
       "      <td>NaN</td>\n",
       "      <td>NaN</td>\n",
       "      <td>NaN</td>\n",
       "      <td>NY</td>\n",
       "      <td>Year</td>\n",
       "      <td>37024.0</td>\n",
       "      <td>Level I</td>\n",
       "      <td>OES</td>\n",
       "      <td>Other Economic Sector</td>\n",
       "      <td>37024.00</td>\n",
       "      <td>Year</td>\n",
       "      <td>2007</td>\n",
       "      <td>2011</td>\n",
       "      <td>2007</td>\n",
       "      <td>37024.000</td>\n",
       "      <td>Northeast</td>\n",
       "    </tr>\n",
       "    <tr>\n",
       "      <th>2</th>\n",
       "      <td>NaN</td>\n",
       "      <td>PERM</td>\n",
       "      <td>A-07333-99643</td>\n",
       "      <td>NaT</td>\n",
       "      <td>Certified</td>\n",
       "      <td>H-1B</td>\n",
       "      <td>INDIA</td>\n",
       "      <td>2011-12-01</td>\n",
       "      <td>NaN</td>\n",
       "      <td>Unavailable</td>\n",
       "      <td>GLEN ALLEN</td>\n",
       "      <td>SCHNABEL ENGINEERING, INC.</td>\n",
       "      <td>VA</td>\n",
       "      <td>NaN</td>\n",
       "      <td>NaN</td>\n",
       "      <td>NaN</td>\n",
       "      <td>NaN</td>\n",
       "      <td>NaN</td>\n",
       "      <td>MD</td>\n",
       "      <td>Year</td>\n",
       "      <td>47923.0</td>\n",
       "      <td>Level I</td>\n",
       "      <td>OES</td>\n",
       "      <td>Aerospace</td>\n",
       "      <td>47923.00</td>\n",
       "      <td>Year</td>\n",
       "      <td>2007</td>\n",
       "      <td>2011</td>\n",
       "      <td>2007</td>\n",
       "      <td>47923.000</td>\n",
       "      <td>South</td>\n",
       "    </tr>\n",
       "    <tr>\n",
       "      <th>3</th>\n",
       "      <td>NaN</td>\n",
       "      <td>PERM</td>\n",
       "      <td>A-07339-01930</td>\n",
       "      <td>NaT</td>\n",
       "      <td>Certified</td>\n",
       "      <td>B</td>\n",
       "      <td>SOUTH KOREA</td>\n",
       "      <td>2011-12-01</td>\n",
       "      <td>NaN</td>\n",
       "      <td>Unavailable</td>\n",
       "      <td>FLUSHING</td>\n",
       "      <td>EBENEZER MISSION CHURCH</td>\n",
       "      <td>NY</td>\n",
       "      <td>NaN</td>\n",
       "      <td>NaN</td>\n",
       "      <td>NaN</td>\n",
       "      <td>NaN</td>\n",
       "      <td>NaN</td>\n",
       "      <td>NY</td>\n",
       "      <td>Year</td>\n",
       "      <td>21940.0</td>\n",
       "      <td>Level II</td>\n",
       "      <td>OES</td>\n",
       "      <td>Other Economic Sector</td>\n",
       "      <td>10.97</td>\n",
       "      <td>Hour</td>\n",
       "      <td>2007</td>\n",
       "      <td>2011</td>\n",
       "      <td>2007</td>\n",
       "      <td>10975.485</td>\n",
       "      <td>Northeast</td>\n",
       "    </tr>\n",
       "    <tr>\n",
       "      <th>4</th>\n",
       "      <td>NaN</td>\n",
       "      <td>PERM</td>\n",
       "      <td>A-07345-03565</td>\n",
       "      <td>NaT</td>\n",
       "      <td>Certified</td>\n",
       "      <td>L</td>\n",
       "      <td>CANADA</td>\n",
       "      <td>2012-01-26</td>\n",
       "      <td>NaN</td>\n",
       "      <td>Unavailable</td>\n",
       "      <td>ALBANY</td>\n",
       "      <td>ALBANY INTERNATIONAL CORP.</td>\n",
       "      <td>NY</td>\n",
       "      <td>NaN</td>\n",
       "      <td>NaN</td>\n",
       "      <td>NaN</td>\n",
       "      <td>NaN</td>\n",
       "      <td>NaN</td>\n",
       "      <td>NY</td>\n",
       "      <td>Year</td>\n",
       "      <td>94890.0</td>\n",
       "      <td>Level IV</td>\n",
       "      <td>OES</td>\n",
       "      <td>Advanced Mfg</td>\n",
       "      <td>100000.00</td>\n",
       "      <td>Year</td>\n",
       "      <td>2007</td>\n",
       "      <td>2012</td>\n",
       "      <td>2007</td>\n",
       "      <td>97445.000</td>\n",
       "      <td>Northeast</td>\n",
       "    </tr>\n",
       "  </tbody>\n",
       "</table>\n",
       "</div>"
      ],
      "text/plain": [
       "  agent_state application_type        case_no case_received_date case_status  \\\n",
       "0         NaN             PERM  A-07323-97014                NaT   Certified   \n",
       "1         NaN             PERM  A-07332-99439                NaT      Denied   \n",
       "2         NaN             PERM  A-07333-99643                NaT   Certified   \n",
       "3         NaN             PERM  A-07339-01930                NaT   Certified   \n",
       "4         NaN             PERM  A-07345-03565                NaT   Certified   \n",
       "\n",
       "  class_of_admission country_of_citizenship decision_date  \\\n",
       "0                  J                ARMENIA    2012-02-01   \n",
       "1                  B                 POLAND    2011-12-21   \n",
       "2               H-1B                  INDIA    2011-12-01   \n",
       "3                  B            SOUTH KOREA    2011-12-01   \n",
       "4                  L                 CANADA    2012-01-26   \n",
       "\n",
       "   employer_num_employees employer_yr_estab employer_city  \\\n",
       "0                     NaN       Unavailable      NEW YORK   \n",
       "1                     NaN       Unavailable     CARLSTADT   \n",
       "2                     NaN       Unavailable    GLEN ALLEN   \n",
       "3                     NaN       Unavailable      FLUSHING   \n",
       "4                     NaN       Unavailable        ALBANY   \n",
       "\n",
       "                 employer_name employer_state foreign_worker_info_education  \\\n",
       "0             NETSOFT USA INC.             NY                           NaN   \n",
       "1  PINNACLE ENVIRONEMNTAL CORP             NY                           NaN   \n",
       "2   SCHNABEL ENGINEERING, INC.             VA                           NaN   \n",
       "3      EBENEZER MISSION CHURCH             NY                           NaN   \n",
       "4   ALBANY INTERNATIONAL CORP.             NY                           NaN   \n",
       "\n",
       "  foreign_worker_info_major job_experience job_title job_training  \\\n",
       "0                       NaN            NaN       NaN          NaN   \n",
       "1                       NaN            NaN       NaN          NaN   \n",
       "2                       NaN            NaN       NaN          NaN   \n",
       "3                       NaN            NaN       NaN          NaN   \n",
       "4                       NaN            NaN       NaN          NaN   \n",
       "\n",
       "  job_work_state pv_unit_of_pay_9089  previous_salary     level source_name  \\\n",
       "0             NY                Year          75629.0  Level II         OES   \n",
       "1             NY                Year          37024.0   Level I         OES   \n",
       "2             MD                Year          47923.0   Level I         OES   \n",
       "3             NY                Year          21940.0  Level II         OES   \n",
       "4             NY                Year          94890.0  Level IV         OES   \n",
       "\n",
       "                  sector  wage_offer wage_unit_of_pay  \\\n",
       "0                     IT    75629.00             Year   \n",
       "1  Other Economic Sector    37024.00             Year   \n",
       "2              Aerospace    47923.00             Year   \n",
       "3  Other Economic Sector       10.97             Hour   \n",
       "4           Advanced Mfg   100000.00             Year   \n",
       "\n",
       "   case_received_date_year  decision_date_year Received_Year    meansal  \\\n",
       "0                     2007                2012          2007  75629.000   \n",
       "1                     2007                2011          2007  37024.000   \n",
       "2                     2007                2011          2007  47923.000   \n",
       "3                     2007                2011          2007  10975.485   \n",
       "4                     2007                2012          2007  97445.000   \n",
       "\n",
       "  employer_region  \n",
       "0       Northeast  \n",
       "1       Northeast  \n",
       "2           South  \n",
       "3       Northeast  \n",
       "4       Northeast  "
      ]
     },
     "execution_count": 63,
     "metadata": {},
     "output_type": "execute_result"
    }
   ],
   "source": [
    "data.head()"
   ]
  },
  {
   "cell_type": "code",
   "execution_count": 64,
   "metadata": {},
   "outputs": [
    {
     "data": {
      "image/png": "[encoded data removed]",
      "text/plain": [
       "<Figure size 432x288 with 1 Axes>"
      ]
     },
     "metadata": {
      "needs_background": "light"
     },
     "output_type": "display_data"
    }
   ],
   "source": [
    "data.employer_region.value_counts().plot(kind='bar',color='red')\n",
    "plt.show()"
   ]
  },
  {
   "cell_type": "code",
   "execution_count": 65,
   "metadata": {},
   "outputs": [
    {
     "data": {
      "text/plain": [
       "0    NY\n",
       "1    NY\n",
       "2    MD\n",
       "3    NY\n",
       "4    NY\n",
       "Name: job_work_state, dtype: object"
      ]
     },
     "execution_count": 65,
     "metadata": {},
     "output_type": "execute_result"
    }
   ],
   "source": [
    "data.job_work_state.head()"
   ]
  },
  {
   "cell_type": "code",
   "execution_count": 66,
   "metadata": {},
   "outputs": [
    {
     "data": {
      "text/plain": [
       "dtype('O')"
      ]
     },
     "execution_count": 66,
     "metadata": {},
     "output_type": "execute_result"
    }
   ],
   "source": [
    "us_state_abbrev = {k.upper(): v for k, v in state_abb.items()}\n",
    "data['job_work_state'].replace(us_state_abbrev, inplace=True)\n",
    "data.job_work_state = data.job_work_state.astype(str)\n",
    "data.job_work_state.dtype"
   ]
  },
  {
   "cell_type": "code",
   "execution_count": 67,
   "metadata": {},
   "outputs": [],
   "source": [
    "def region(x):\n",
    "    return regions[x]\n",
    "\n",
    "data['job_work_state'] = data['job_work_state'].apply(region)\n"
   ]
  },
  {
   "cell_type": "code",
   "execution_count": 68,
   "metadata": {},
   "outputs": [
    {
     "data": {
      "text/plain": [
       "135349"
      ]
     },
     "execution_count": 68,
     "metadata": {},
     "output_type": "execute_result"
    }
   ],
   "source": [
    "data.sector.isnull().sum()\n",
    "data.employer_num_employees.isnull().sum()"
   ]
  },
  {
   "cell_type": "markdown",
   "metadata": {},
   "source": [
    "#### Creating a new level for missing values "
   ]
  },
  {
   "cell_type": "code",
   "execution_count": null,
   "metadata": {},
   "outputs": [],
   "source": []
  },
  {
   "cell_type": "code",
   "execution_count": 69,
   "metadata": {},
   "outputs": [],
   "source": [
    "data.sector.fillna(\"Unavailable\",inplace=True)\n"
   ]
  },
  {
   "cell_type": "code",
   "execution_count": 70,
   "metadata": {},
   "outputs": [
    {
     "data": {
      "text/plain": [
       "Unavailable              0.646995\n",
       "IT                       0.143909\n",
       "Advanced Mfg             0.051279\n",
       "Other Economic Sector    0.043208\n",
       "Finance                  0.025228\n",
       "Educational Services     0.024971\n",
       "Health Care              0.018667\n",
       "Retail                   0.012056\n",
       "Aerospace                0.011394\n",
       "Hospitality              0.005268\n",
       "Construction             0.003854\n",
       "Automotive               0.003181\n",
       "Energy                   0.002970\n",
       "Transportation           0.002596\n",
       "Agribusiness             0.002568\n",
       "Biotechnology            0.001247\n",
       "Geospatial               0.000386\n",
       "Homeland Security        0.000224\n",
       "Name: sector, dtype: float64"
      ]
     },
     "execution_count": 70,
     "metadata": {},
     "output_type": "execute_result"
    }
   ],
   "source": [
    "data.sector.value_counts(1)"
   ]
  },
  {
   "cell_type": "code",
   "execution_count": 71,
   "metadata": {},
   "outputs": [
    {
     "data": {
      "text/plain": [
       "count    2.302780e+05\n",
       "mean     2.327626e+04\n",
       "std      5.555383e+05\n",
       "min      0.000000e+00\n",
       "25%      6.800000e+01\n",
       "50%      1.078000e+03\n",
       "75%      1.480000e+04\n",
       "max      2.635506e+08\n",
       "Name: employer_num_employees, dtype: float64"
      ]
     },
     "execution_count": 71,
     "metadata": {},
     "output_type": "execute_result"
    }
   ],
   "source": [
    "data.employer_num_employees.describe()"
   ]
  },
  {
   "cell_type": "markdown",
   "metadata": {},
   "source": [
    "### Binning the number of employees to depict the size of the enterprise."
   ]
  },
  {
   "cell_type": "code",
   "execution_count": 72,
   "metadata": {},
   "outputs": [
    {
     "data": {
      "text/plain": [
       "0                       NaN\n",
       "1                       NaN\n",
       "2                       NaN\n",
       "3                       NaN\n",
       "4                       NaN\n",
       "5                       NaN\n",
       "6                       NaN\n",
       "7                       NaN\n",
       "8                       NaN\n",
       "9                       NaN\n",
       "10                      NaN\n",
       "11                      NaN\n",
       "12                      NaN\n",
       "13                      NaN\n",
       "14                      NaN\n",
       "15                      NaN\n",
       "16                      NaN\n",
       "17                      NaN\n",
       "18                      NaN\n",
       "19                      NaN\n",
       "20                      NaN\n",
       "21                      NaN\n",
       "22                      NaN\n",
       "23                      NaN\n",
       "24                      NaN\n",
       "25                      NaN\n",
       "26                      NaN\n",
       "27                      NaN\n",
       "28                      NaN\n",
       "29                      NaN\n",
       "                ...        \n",
       "374332                  NaN\n",
       "374333    (1078.0, 14800.0]\n",
       "374334                  NaN\n",
       "374335    (1078.0, 14800.0]\n",
       "374336     (67.999, 1078.0]\n",
       "374337                  NaN\n",
       "374338    (1078.0, 14800.0]\n",
       "374339                  NaN\n",
       "374340    (1078.0, 14800.0]\n",
       "374341     (67.999, 1078.0]\n",
       "374342    (1078.0, 14800.0]\n",
       "374343     (67.999, 1078.0]\n",
       "374344                  NaN\n",
       "374345     (67.999, 1078.0]\n",
       "374346     (67.999, 1078.0]\n",
       "374347     (67.999, 1078.0]\n",
       "374348                  NaN\n",
       "374349    (1078.0, 14800.0]\n",
       "374350    (1078.0, 14800.0]\n",
       "374351    (1078.0, 14800.0]\n",
       "374352                  NaN\n",
       "374353     (67.999, 1078.0]\n",
       "374354     (67.999, 1078.0]\n",
       "374355                  NaN\n",
       "374356    (1078.0, 14800.0]\n",
       "374357                  NaN\n",
       "374358                  NaN\n",
       "374359                  NaN\n",
       "374360                  NaN\n",
       "374361                  NaN\n",
       "Name: employer_num_employees, Length: 365627, dtype: category\n",
       "Categories (2, interval[float64]): [(67.999, 1078.0] < (1078.0, 14800.0]]"
      ]
     },
     "execution_count": 72,
     "metadata": {},
     "output_type": "execute_result"
    }
   ],
   "source": [
    "pd.qcut(data.employer_num_employees,q=[0.25,0.5,0.75])"
   ]
  },
  {
   "cell_type": "markdown",
   "metadata": {},
   "source": [
    "#### Creating a new level for missing values by first imputing it to 0 ."
   ]
  },
  {
   "cell_type": "code",
   "execution_count": 73,
   "metadata": {},
   "outputs": [],
   "source": [
    "data.employer_num_employees.isnull().sum()\n",
    "data.employer_num_employees.fillna(0,inplace=True)\n",
    "\n",
    "## LLC has very less employess as .A limited liability company (LLC) is a business entity that combines the limited liability protection of a business corporation with the flexible tax and organizational structure of a partnership.Because LLC have features of both corporations and partnerships, it is called a “hybrid” entity."
   ]
  },
  {
   "cell_type": "code",
   "execution_count": 74,
   "metadata": {},
   "outputs": [],
   "source": [
    "def emp(x):\n",
    "    if x==0:\n",
    "        return \"Unvailable\"\n",
    "    elif x<68 and x>0 :\n",
    "        return \"Small\"\n",
    "    elif x<14800 and x>1078:\n",
    "        return \"Medium\"\n",
    "    else:\n",
    "        return \"Large\"\n",
    "    \n",
    "data['Enterprise_Size']=data.employer_num_employees.apply(emp)\n"
   ]
  },
  {
   "cell_type": "code",
   "execution_count": 75,
   "metadata": {},
   "outputs": [
    {
     "data": {
      "text/plain": [
       "Unvailable    135607\n",
       "Large         115284\n",
       "Medium         57512\n",
       "Small          57224\n",
       "Name: Enterprise_Size, dtype: int64"
      ]
     },
     "execution_count": 75,
     "metadata": {},
     "output_type": "execute_result"
    }
   ],
   "source": [
    "data['Enterprise_Size'].value_counts()"
   ]
  },
  {
   "cell_type": "code",
   "execution_count": null,
   "metadata": {},
   "outputs": [],
   "source": []
  },
  {
   "cell_type": "code",
   "execution_count": null,
   "metadata": {},
   "outputs": [],
   "source": []
  },
  {
   "cell_type": "code",
   "execution_count": null,
   "metadata": {},
   "outputs": [],
   "source": []
  },
  {
   "cell_type": "code",
   "execution_count": 76,
   "metadata": {},
   "outputs": [
    {
     "data": {
      "text/plain": [
       "0"
      ]
     },
     "execution_count": 76,
     "metadata": {},
     "output_type": "execute_result"
    }
   ],
   "source": [
    "data.employer_num_employees.isnull().sum()"
   ]
  },
  {
   "cell_type": "code",
   "execution_count": 77,
   "metadata": {},
   "outputs": [
    {
     "data": {
      "text/plain": [
       "Unvailable    135607\n",
       "Large         115284\n",
       "Medium         57512\n",
       "Small          57224\n",
       "Name: Enterprise_Size, dtype: int64"
      ]
     },
     "execution_count": 77,
     "metadata": {},
     "output_type": "execute_result"
    }
   ],
   "source": [
    "data.Enterprise_Size.value_counts()"
   ]
  },
  {
   "cell_type": "code",
   "execution_count": 78,
   "metadata": {},
   "outputs": [
    {
     "data": {
      "text/plain": [
       "45116.333333333336"
      ]
     },
     "execution_count": 78,
     "metadata": {},
     "output_type": "execute_result"
    }
   ],
   "source": [
    "135349/3"
   ]
  },
  {
   "cell_type": "code",
   "execution_count": 79,
   "metadata": {},
   "outputs": [
    {
     "data": {
      "text/plain": [
       "135348"
      ]
     },
     "execution_count": 79,
     "metadata": {},
     "output_type": "execute_result"
    }
   ],
   "source": [
    "45116*3"
   ]
  },
  {
   "cell_type": "code",
   "execution_count": null,
   "metadata": {},
   "outputs": [],
   "source": []
  },
  {
   "cell_type": "code",
   "execution_count": null,
   "metadata": {},
   "outputs": [],
   "source": []
  },
  {
   "cell_type": "code",
   "execution_count": 80,
   "metadata": {},
   "outputs": [
    {
     "data": {
      "text/plain": [
       "Unvailable    135607\n",
       "Large         115284\n",
       "Medium         57512\n",
       "Small          57224\n",
       "Name: Enterprise_Size, dtype: int64"
      ]
     },
     "execution_count": 80,
     "metadata": {},
     "output_type": "execute_result"
    }
   ],
   "source": [
    "data.Enterprise_Size.value_counts()"
   ]
  },
  {
   "cell_type": "code",
   "execution_count": 81,
   "metadata": {},
   "outputs": [
    {
     "data": {
      "text/plain": [
       "agent_state                      161157\n",
       "case_no                          230358\n",
       "case_received_date               135271\n",
       "foreign_worker_info_education    135308\n",
       "foreign_worker_info_major        151662\n",
       "job_experience                   135281\n",
       "job_title                        135313\n",
       "job_training                     135284\n",
       "level                             27095\n",
       "wage_unit_of_pay                 115689\n",
       "dtype: int64"
      ]
     },
     "execution_count": 81,
     "metadata": {},
     "output_type": "execute_result"
    }
   ],
   "source": [
    "data.isnull().sum()[data.isnull().sum()!=0]"
   ]
  },
  {
   "cell_type": "code",
   "execution_count": 82,
   "metadata": {},
   "outputs": [
    {
     "data": {
      "text/plain": [
       "19329.714285714286"
      ]
     },
     "execution_count": 82,
     "metadata": {},
     "output_type": "execute_result"
    }
   ],
   "source": [
    "135308/7"
   ]
  },
  {
   "cell_type": "code",
   "execution_count": 83,
   "metadata": {},
   "outputs": [
    {
     "data": {
      "text/plain": [
       "135303"
      ]
     },
     "execution_count": 83,
     "metadata": {},
     "output_type": "execute_result"
    }
   ],
   "source": [
    "19329*7"
   ]
  },
  {
   "cell_type": "code",
   "execution_count": 84,
   "metadata": {},
   "outputs": [
    {
     "name": "stdout",
     "output_type": "stream",
     "text": [
      "[nan \"Bachelor's\" 'None' 'Doctorate' \"Master's\" 'Other' 'High School'\n",
      " \"Associate's\"]\n",
      "135308\n"
     ]
    }
   ],
   "source": [
    "print(data.foreign_worker_info_education.unique())\n",
    "print(data.foreign_worker_info_education.isnull().sum())"
   ]
  },
  {
   "cell_type": "code",
   "execution_count": 85,
   "metadata": {},
   "outputs": [
    {
     "data": {
      "text/plain": [
       "135303"
      ]
     },
     "execution_count": 85,
     "metadata": {},
     "output_type": "execute_result"
    }
   ],
   "source": [
    "19329*7"
   ]
  },
  {
   "cell_type": "code",
   "execution_count": 86,
   "metadata": {},
   "outputs": [],
   "source": [
    "## 135308 are null in which 7 unique categories are there so filled with prior category for increase ranging as no other info type of educaton will come rather than given so we can not do new level creation \n",
    "\n",
    "data.foreign_worker_info_education.fillna(\"Bachelor's\", limit=19329,inplace=True)  \n",
    "data.foreign_worker_info_education.fillna(\"None\", limit=19329,inplace=True)\n",
    "data.foreign_worker_info_education.fillna(\"Doctorate\", limit=19329,inplace=True)\n",
    "data.foreign_worker_info_education.fillna(\"Master's\", limit=19329,inplace=True)\n",
    "data.foreign_worker_info_education.fillna(\"Other\", limit=19329,inplace=True)\n",
    "data.foreign_worker_info_education.fillna(\"High School\", limit=19329,inplace=True)\n",
    "data.foreign_worker_info_education.fillna(\"Associate's\", limit=19329,inplace=True)\n",
    "data.foreign_worker_info_education.fillna(\"Master's\",inplace=True)         ## 5 values filled with mode\n"
   ]
  },
  {
   "cell_type": "code",
   "execution_count": 87,
   "metadata": {},
   "outputs": [
    {
     "data": {
      "text/plain": [
       "0"
      ]
     },
     "execution_count": 87,
     "metadata": {},
     "output_type": "execute_result"
    }
   ],
   "source": [
    "data.foreign_worker_info_education.isnull().sum()"
   ]
  },
  {
   "cell_type": "code",
   "execution_count": 88,
   "metadata": {},
   "outputs": [
    {
     "data": {
      "image/png": "[encoded data removed]",
      "text/plain": [
       "<Figure size 432x288 with 1 Axes>"
      ]
     },
     "metadata": {
      "needs_background": "light"
     },
     "output_type": "display_data"
    }
   ],
   "source": [
    "data.foreign_worker_info_education.value_counts().plot(kind='bar')\n",
    "plt.show()"
   ]
  },
  {
   "cell_type": "code",
   "execution_count": 89,
   "metadata": {},
   "outputs": [
    {
     "data": {
      "image/png": "[encoded data removed]",
      "text/plain": [
       "<Figure size 432x288 with 1 Axes>"
      ]
     },
     "metadata": {
      "needs_background": "light"
     },
     "output_type": "display_data"
    }
   ],
   "source": [
    "data.foreign_worker_info_education.value_counts().plot(kind='bar')\n",
    "plt.show()"
   ]
  },
  {
   "cell_type": "code",
   "execution_count": 90,
   "metadata": {},
   "outputs": [
    {
     "data": {
      "image/png": "[encoded data removed]",
      "text/plain": [
       "<Figure size 432x288 with 1 Axes>"
      ]
     },
     "metadata": {
      "needs_background": "light"
     },
     "output_type": "display_data"
    }
   ],
   "source": [
    "data.foreign_worker_info_major.value_counts().head(10).plot(kind='bar')\n",
    "plt.show()"
   ]
  },
  {
   "cell_type": "code",
   "execution_count": 91,
   "metadata": {},
   "outputs": [
    {
     "data": {
      "text/plain": [
       "21851"
      ]
     },
     "execution_count": 91,
     "metadata": {},
     "output_type": "execute_result"
    }
   ],
   "source": [
    "data.foreign_worker_info_major.nunique()"
   ]
  },
  {
   "cell_type": "markdown",
   "metadata": {},
   "source": [
    "#### We have 21k+ unique values here. They are a huge range of the employees details and has redundancy as well."
   ]
  },
  {
   "cell_type": "code",
   "execution_count": null,
   "metadata": {},
   "outputs": [],
   "source": []
  },
  {
   "cell_type": "code",
   "execution_count": 92,
   "metadata": {},
   "outputs": [
    {
     "name": "stdout",
     "output_type": "stream",
     "text": [
      "Y    0.558091\n",
      "N    0.441909\n",
      "Name: job_experience, dtype: float64\n"
     ]
    },
    {
     "data": {
      "text/plain": [
       "135281"
      ]
     },
     "execution_count": 92,
     "metadata": {},
     "output_type": "execute_result"
    }
   ],
   "source": [
    "print(data.job_experience.value_counts(1))\n",
    "data.job_experience.isnull().sum()"
   ]
  },
  {
   "cell_type": "code",
   "execution_count": 93,
   "metadata": {},
   "outputs": [],
   "source": [
    "data.job_experience.fillna('not relavant experience',inplace=True) #### Creating a new level for missing values "
   ]
  },
  {
   "cell_type": "code",
   "execution_count": 94,
   "metadata": {},
   "outputs": [
    {
     "data": {
      "text/plain": [
       "agent_state                  161157\n",
       "case_no                      230358\n",
       "case_received_date           135271\n",
       "foreign_worker_info_major    151662\n",
       "job_title                    135313\n",
       "job_training                 135284\n",
       "level                         27095\n",
       "wage_unit_of_pay             115689\n",
       "dtype: int64"
      ]
     },
     "execution_count": 94,
     "metadata": {},
     "output_type": "execute_result"
    }
   ],
   "source": [
    "data.isnull().sum()[data.isnull().sum()>0]"
   ]
  },
  {
   "cell_type": "code",
   "execution_count": 95,
   "metadata": {},
   "outputs": [
    {
     "data": {
      "text/plain": [
       "Software Engineer                                                                               0.063092\n",
       "Senior Software Engineer                                                                        0.016981\n",
       "Computer Systems Analyst - V                                                                    0.013134\n",
       "Software Developer                                                                              0.012974\n",
       "Computer Systems Analyst - II                                                                   0.011827\n",
       "Assistant Professor                                                                             0.011597\n",
       "Programmer Analyst                                                                              0.011376\n",
       "Systems Analyst                                                                                 0.008953\n",
       "Computer Systems Analyst - IV                                                                   0.007603\n",
       "Software Development Engineer II                                                                0.006995\n",
       "Poultry Processing Worker                                                                       0.006061\n",
       "Component Design Engineer                                                                       0.004828\n",
       "Business Analyst                                                                                0.004346\n",
       "software engineer                                                                               0.004012\n",
       "Poultry Processor                                                                               0.003808\n",
       "Sr. Software Engineer                                                                           0.003790\n",
       "SOFTWARE ENGINEER                                                                               0.003786\n",
       "Senior Programmer Analyst                                                                       0.003764\n",
       "Senior Software Developer                                                                       0.003625\n",
       "Process Engineer                                                                                0.003500\n",
       "Accountant                                                                                      0.003309\n",
       "Computer Systems Analyst                                                                        0.003057\n",
       "Computer Programmer                                                                             0.003048\n",
       "Database Administrator                                                                          0.002918\n",
       "Software Engineer II                                                                            0.002900\n",
       "Sr. Programmer Analyst                                                                          0.002861\n",
       "Software Development Engineer                                                                   0.002757\n",
       "Software Developer / Analyst                                                                    0.002701\n",
       "Market Research Analyst                                                                         0.002675\n",
       "Hospitalist                                                                                     0.002566\n",
       "                                                                                                  ...   \n",
       "Vice President, Production Manager, ISG Production Mgmt, Quality Assurance & Production Mgmt    0.000004\n",
       "Senior Developer, Mobile                                                                        0.000004\n",
       "Accounts and Finance Manager                                                                    0.000004\n",
       "Sr. Programmer/Analyst (SAP OSS)                                                                0.000004\n",
       "VP-Private Wealth Manager Banker                                                                0.000004\n",
       "Chef - Japanese food                                                                            0.000004\n",
       "WebLogic Systems Administrator                                                                  0.000004\n",
       "Lead Senior Quality Assurance Engineer                                                          0.000004\n",
       "PVD Process Development Engineer                                                                0.000004\n",
       "Director of Raw Materials                                                                       0.000004\n",
       "SAP SYSTEMS ANALYST II                                                                          0.000004\n",
       "Software Enigneer - OSG Core Dev or Other                                                       0.000004\n",
       "Software Developer/Database Architect                                                           0.000004\n",
       "Program Manager, Salesforce                                                                     0.000004\n",
       "Analytics & Research Senior Manager                                                             0.000004\n",
       "Sr. Customer Success Consultant                                                                 0.000004\n",
       "Senior Technical Service Engineer                                                               0.000004\n",
       "Ammonia Process Engineer                                                                        0.000004\n",
       "Security Research Scientist                                                                     0.000004\n",
       "International Policy Manager                                                                    0.000004\n",
       "Senior Hardware Engineer (Senior Optical Engineer)                                              0.000004\n",
       "Program Manager 2 - WPD or Other                                                                0.000004\n",
       "MECHANICAL ENGINEER III                                                                         0.000004\n",
       "HSE Manager                                                                                     0.000004\n",
       "Senior Associate III                                                                            0.000004\n",
       "Associate Professor of Medicine (Biomedical Informatics Research)                               0.000004\n",
       "Manager, Commercial Data Science                                                                0.000004\n",
       "Senior Embedded Firmware Engineer                                                               0.000004\n",
       "Advisory Design Rule Engineer                                                                   0.000004\n",
       "Advanced Processing Engineer II                                                                 0.000004\n",
       "Name: job_title, Length: 59495, dtype: float64"
      ]
     },
     "execution_count": 95,
     "metadata": {},
     "output_type": "execute_result"
    }
   ],
   "source": [
    "data.job_title.value_counts(1)   ## 59k unique values"
   ]
  },
  {
   "cell_type": "code",
   "execution_count": 96,
   "metadata": {},
   "outputs": [],
   "source": [
    "     ##due to a lot of unique values and info already collected from sector column"
   ]
  },
  {
   "cell_type": "code",
   "execution_count": 97,
   "metadata": {},
   "outputs": [],
   "source": [
    "data.job_training.fillna('non relavant training',inplace=True)  #### Creating a new level for missing values "
   ]
  },
  {
   "cell_type": "code",
   "execution_count": 98,
   "metadata": {},
   "outputs": [],
   "source": [
    "   ### It is the same as pv_unit_of_pay and we already got info by mean salary"
   ]
  },
  {
   "cell_type": "code",
   "execution_count": 99,
   "metadata": {},
   "outputs": [
    {
     "data": {
      "text/plain": [
       "agent_state                  161157\n",
       "case_no                      230358\n",
       "case_received_date           135271\n",
       "foreign_worker_info_major    151662\n",
       "job_title                    135313\n",
       "level                         27095\n",
       "wage_unit_of_pay             115689\n",
       "dtype: int64"
      ]
     },
     "execution_count": 99,
     "metadata": {},
     "output_type": "execute_result"
    }
   ],
   "source": [
    "data.isnull().sum()[data.isnull().sum()!=0]"
   ]
  },
  {
   "cell_type": "code",
   "execution_count": 100,
   "metadata": {},
   "outputs": [
    {
     "data": {
      "text/plain": [
       "array(['Level II', 'Level I', 'Level IV', 'Level III', nan], dtype=object)"
      ]
     },
     "execution_count": 100,
     "metadata": {},
     "output_type": "execute_result"
    }
   ],
   "source": [
    "data.level.unique()"
   ]
  },
  {
   "cell_type": "code",
   "execution_count": 101,
   "metadata": {},
   "outputs": [
    {
     "data": {
      "text/plain": [
       "27092"
      ]
     },
     "execution_count": 101,
     "metadata": {},
     "output_type": "execute_result"
    }
   ],
   "source": [
    "6773*4"
   ]
  },
  {
   "cell_type": "code",
   "execution_count": 102,
   "metadata": {},
   "outputs": [],
   "source": [
    "##27095 are null value in which 4 are unique levels and no further different level will come under supervision so we decided to fill null by that prior levles\n",
    "\n",
    "## 27095/ 4 ==6773 and 4\n",
    "\n",
    "data.level.fillna(\"Level I\", limit=6773,inplace=True)  \n",
    "data.level.fillna(\"Level II\", limit=6773,inplace=True)\n",
    "data.level.fillna(\"Level III\", limit=6773,inplace=True)\n",
    "data.level.fillna(\"Level IV\", limit=6773,inplace=True)\n",
    "\n",
    "## filling 7% missing values"
   ]
  },
  {
   "cell_type": "code",
   "execution_count": 103,
   "metadata": {},
   "outputs": [],
   "source": [
    "data.level.fillna(\"Level II\",inplace=True)  ### rest 3 by mode\n",
    "\n"
   ]
  },
  {
   "cell_type": "code",
   "execution_count": 104,
   "metadata": {},
   "outputs": [
    {
     "data": {
      "text/plain": [
       "0"
      ]
     },
     "execution_count": 104,
     "metadata": {},
     "output_type": "execute_result"
    }
   ],
   "source": [
    "data.level.isnull().sum()"
   ]
  },
  {
   "cell_type": "markdown",
   "metadata": {},
   "source": [
    "#### The unknown level of job has the highest salary!"
   ]
  },
  {
   "cell_type": "markdown",
   "metadata": {},
   "source": [
    "#### Visualizing the columns"
   ]
  },
  {
   "cell_type": "code",
   "execution_count": 105,
   "metadata": {},
   "outputs": [
    {
     "data": {
      "image/png": "[encoded data removed]",
      "text/plain": [
       "<Figure size 432x288 with 1 Axes>"
      ]
     },
     "metadata": {
      "needs_background": "light"
     },
     "output_type": "display_data"
    }
   ],
   "source": [
    "sns.barplot(data.level,data.meansal)\n",
    "plt.show()"
   ]
  },
  {
   "cell_type": "markdown",
   "metadata": {},
   "source": [
    "### Level 2 has highest salary"
   ]
  },
  {
   "cell_type": "code",
   "execution_count": 106,
   "metadata": {},
   "outputs": [
    {
     "data": {
      "image/png": "[encoded data removed]",
      "text/plain": [
       "<Figure size 432x288 with 1 Axes>"
      ]
     },
     "metadata": {
      "needs_background": "light"
     },
     "output_type": "display_data"
    }
   ],
   "source": [
    "sns.boxplot(data.level,data.meansal)\n",
    "plt.show()"
   ]
  },
  {
   "cell_type": "code",
   "execution_count": 107,
   "metadata": {},
   "outputs": [
    {
     "data": {
      "image/png": "[encoded data removed]",
      "text/plain": [
       "<Figure size 432x288 with 1 Axes>"
      ]
     },
     "metadata": {
      "needs_background": "light"
     },
     "output_type": "display_data"
    }
   ],
   "source": [
    "sns.boxplot(data.meansal)\n",
    "plt.show()"
   ]
  },
  {
   "cell_type": "code",
   "execution_count": 108,
   "metadata": {},
   "outputs": [
    {
     "data": {
      "image/png": "[encoded data removed]",
      "text/plain": [
       "<Figure size 432x288 with 1 Axes>"
      ]
     },
     "metadata": {
      "needs_background": "light"
     },
     "output_type": "display_data"
    }
   ],
   "source": [
    "sns.boxplot(np.log(data.meansal))\n",
    "plt.show()"
   ]
  },
  {
   "cell_type": "markdown",
   "metadata": {},
   "source": [
    "#### We have many outliers in the meansal column."
   ]
  },
  {
   "cell_type": "code",
   "execution_count": 109,
   "metadata": {},
   "outputs": [
    {
     "data": {
      "image/png": "[encoded data removed]",
      "text/plain": [
       "<Figure size 720x360 with 1 Axes>"
      ]
     },
     "metadata": {
      "needs_background": "light"
     },
     "output_type": "display_data"
    }
   ],
   "source": [
    "plt.figure(figsize=(10,5))\n",
    "sns.barplot(data.sector,data.meansal)\n",
    "plt.xticks(rotation=90)\n",
    "plt.show()"
   ]
  },
  {
   "cell_type": "markdown",
   "metadata": {},
   "source": [
    "### Economic Sector and Healthcare have highest salaries in terms of sector"
   ]
  },
  {
   "cell_type": "code",
   "execution_count": 110,
   "metadata": {},
   "outputs": [
    {
     "data": {
      "image/png": "[encoded data removed]",
      "text/plain": [
       "<Figure size 432x288 with 1 Axes>"
      ]
     },
     "metadata": {
      "needs_background": "light"
     },
     "output_type": "display_data"
    }
   ],
   "source": [
    "sns.barplot(data.decision_date_year,data.meansal)\n",
    "plt.show()"
   ]
  },
  {
   "cell_type": "markdown",
   "metadata": {},
   "source": [
    "### In year 2012 and 2013 , employees had highest wages"
   ]
  },
  {
   "cell_type": "code",
   "execution_count": 111,
   "metadata": {},
   "outputs": [
    {
     "data": {
      "image/png": "[encoded data removed]",
      "text/plain": [
       "<Figure size 720x360 with 1 Axes>"
      ]
     },
     "metadata": {
      "needs_background": "light"
     },
     "output_type": "display_data"
    }
   ],
   "source": [
    "plt.figure(figsize=(10,5))\n",
    "sns.barplot(data.source_name,data.meansal)\n",
    "plt.xticks(rotation=90)\n",
    "plt.show()"
   ]
  },
  {
   "cell_type": "markdown",
   "metadata": {},
   "source": [
    "### Applications with source_name DBA have highest salary"
   ]
  },
  {
   "cell_type": "code",
   "execution_count": 112,
   "metadata": {},
   "outputs": [
    {
     "data": {
      "image/png": "[encoded data removed]",
      "text/plain": [
       "<Figure size 720x360 with 1 Axes>"
      ]
     },
     "metadata": {
      "needs_background": "light"
     },
     "output_type": "display_data"
    }
   ],
   "source": [
    "plt.figure(figsize=(10,5))\n",
    "sns.barplot(data.employer_region,data.meansal)\n",
    "plt.xticks(rotation=90)\n",
    "plt.show()"
   ]
  },
  {
   "cell_type": "code",
   "execution_count": 113,
   "metadata": {},
   "outputs": [
    {
     "data": {
      "text/plain": [
       "Index(['agent_state', 'application_type', 'case_no', 'case_received_date',\n",
       "       'case_status', 'class_of_admission', 'country_of_citizenship',\n",
       "       'decision_date', 'employer_yr_estab', 'employer_city', 'employer_name',\n",
       "       'employer_state', 'foreign_worker_info_education',\n",
       "       'foreign_worker_info_major', 'job_experience', 'job_title',\n",
       "       'job_training', 'job_work_state', 'pv_unit_of_pay_9089',\n",
       "       'previous_salary', 'level', 'source_name', 'sector', 'wage_offer',\n",
       "       'wage_unit_of_pay', 'case_received_date_year', 'decision_date_year',\n",
       "       'Received_Year', 'meansal', 'employer_region', 'Enterprise_Size'],\n",
       "      dtype='object')"
      ]
     },
     "execution_count": 113,
     "metadata": {},
     "output_type": "execute_result"
    }
   ],
   "source": [
    "data.drop('employer_num_employees',axis=1,inplace=True)\n",
    "data.columns"
   ]
  },
  {
   "cell_type": "code",
   "execution_count": 114,
   "metadata": {},
   "outputs": [
    {
     "data": {
      "image/png": "[encoded data removed]",
      "text/plain": [
       "<Figure size 720x360 with 1 Axes>"
      ]
     },
     "metadata": {
      "needs_background": "light"
     },
     "output_type": "display_data"
    }
   ],
   "source": [
    "plt.figure(figsize=(10,5))\n",
    "sns.barplot(data.case_status,data.meansal)\n",
    "plt.xticks(rotation=90)\n",
    "plt.show()"
   ]
  },
  {
   "cell_type": "markdown",
   "metadata": {},
   "source": [
    "### Applicants with very high salary in their own country were denied the most for visa"
   ]
  },
  {
   "cell_type": "code",
   "execution_count": 115,
   "metadata": {},
   "outputs": [
    {
     "data": {
      "image/png": "[encoded data removed]",
      "text/plain": [
       "<Figure size 720x360 with 1 Axes>"
      ]
     },
     "metadata": {
      "needs_background": "light"
     },
     "output_type": "display_data"
    }
   ],
   "source": [
    "plt.figure(figsize=(10,5))\n",
    "sns.barplot(data.class_of_admission,data.meansal)\n",
    "plt.xticks(rotation=90)\n",
    "plt.show()"
   ]
  },
  {
   "cell_type": "code",
   "execution_count": 116,
   "metadata": {},
   "outputs": [
    {
     "data": {
      "image/png": "[encoded data removed]",
      "text/plain": [
       "<Figure size 720x360 with 1 Axes>"
      ]
     },
     "metadata": {
      "needs_background": "light"
     },
     "output_type": "display_data"
    }
   ],
   "source": [
    "plt.figure(figsize=(10,5))\n",
    "sns.barplot(data.Enterprise_Size,data.meansal)\n",
    "plt.xticks(rotation=90)\n",
    "plt.show()"
   ]
  },
  {
   "cell_type": "markdown",
   "metadata": {},
   "source": [
    "### It has no effect on salary"
   ]
  },
  {
   "cell_type": "code",
   "execution_count": 117,
   "metadata": {},
   "outputs": [
    {
     "data": {
      "image/png": "[encoded data removed]",
      "text/plain": [
       "<Figure size 720x360 with 1 Axes>"
      ]
     },
     "metadata": {
      "needs_background": "light"
     },
     "output_type": "display_data"
    }
   ],
   "source": [
    "plt.figure(figsize=(10,5))\n",
    "sns.barplot(data.foreign_worker_info_education,data.meansal)\n",
    "plt.xticks(rotation=90)\n",
    "plt.show()"
   ]
  },
  {
   "cell_type": "code",
   "execution_count": 118,
   "metadata": {},
   "outputs": [
    {
     "data": {
      "text/html": [
       "<div>\n",
       "<style scoped>\n",
       "    .dataframe tbody tr th:only-of-type {\n",
       "        vertical-align: middle;\n",
       "    }\n",
       "\n",
       "    .dataframe tbody tr th {\n",
       "        vertical-align: top;\n",
       "    }\n",
       "\n",
       "    .dataframe thead th {\n",
       "        text-align: right;\n",
       "    }\n",
       "</style>\n",
       "<table border=\"1\" class=\"dataframe\">\n",
       "  <thead>\n",
       "    <tr style=\"text-align: right;\">\n",
       "      <th>source_name</th>\n",
       "      <th>CBA</th>\n",
       "      <th>DBA</th>\n",
       "      <th>Employer Conducted</th>\n",
       "      <th>OES</th>\n",
       "      <th>Other</th>\n",
       "      <th>SCA</th>\n",
       "    </tr>\n",
       "    <tr>\n",
       "      <th>case_status</th>\n",
       "      <th></th>\n",
       "      <th></th>\n",
       "      <th></th>\n",
       "      <th></th>\n",
       "      <th></th>\n",
       "      <th></th>\n",
       "    </tr>\n",
       "  </thead>\n",
       "  <tbody>\n",
       "    <tr>\n",
       "      <th>Certified</th>\n",
       "      <td>1472</td>\n",
       "      <td>0</td>\n",
       "      <td>117</td>\n",
       "      <td>163531</td>\n",
       "      <td>12866</td>\n",
       "      <td>14</td>\n",
       "    </tr>\n",
       "    <tr>\n",
       "      <th>Certified-Expired</th>\n",
       "      <td>1285</td>\n",
       "      <td>0</td>\n",
       "      <td>94</td>\n",
       "      <td>133152</td>\n",
       "      <td>10327</td>\n",
       "      <td>8</td>\n",
       "    </tr>\n",
       "    <tr>\n",
       "      <th>Denied</th>\n",
       "      <td>629</td>\n",
       "      <td>24</td>\n",
       "      <td>296</td>\n",
       "      <td>22846</td>\n",
       "      <td>1229</td>\n",
       "      <td>45</td>\n",
       "    </tr>\n",
       "    <tr>\n",
       "      <th>Withdrawn</th>\n",
       "      <td>198</td>\n",
       "      <td>0</td>\n",
       "      <td>26</td>\n",
       "      <td>16403</td>\n",
       "      <td>1057</td>\n",
       "      <td>8</td>\n",
       "    </tr>\n",
       "  </tbody>\n",
       "</table>\n",
       "</div>"
      ],
      "text/plain": [
       "source_name         CBA  DBA  Employer Conducted     OES  Other  SCA\n",
       "case_status                                                         \n",
       "Certified          1472    0                 117  163531  12866   14\n",
       "Certified-Expired  1285    0                  94  133152  10327    8\n",
       "Denied              629   24                 296   22846   1229   45\n",
       "Withdrawn           198    0                  26   16403   1057    8"
      ]
     },
     "execution_count": 118,
     "metadata": {},
     "output_type": "execute_result"
    }
   ],
   "source": [
    "pd.crosstab(data.case_status,data.source_name)"
   ]
  },
  {
   "cell_type": "code",
   "execution_count": 119,
   "metadata": {},
   "outputs": [
    {
     "data": {
      "text/html": [
       "<div>\n",
       "<style scoped>\n",
       "    .dataframe tbody tr th:only-of-type {\n",
       "        vertical-align: middle;\n",
       "    }\n",
       "\n",
       "    .dataframe tbody tr th {\n",
       "        vertical-align: top;\n",
       "    }\n",
       "\n",
       "    .dataframe thead th {\n",
       "        text-align: right;\n",
       "    }\n",
       "</style>\n",
       "<table border=\"1\" class=\"dataframe\">\n",
       "  <thead>\n",
       "    <tr style=\"text-align: right;\">\n",
       "      <th></th>\n",
       "      <th>agent_state</th>\n",
       "      <th>application_type</th>\n",
       "      <th>case_no</th>\n",
       "      <th>case_received_date</th>\n",
       "      <th>case_status</th>\n",
       "      <th>class_of_admission</th>\n",
       "      <th>country_of_citizenship</th>\n",
       "      <th>decision_date</th>\n",
       "      <th>employer_yr_estab</th>\n",
       "      <th>employer_city</th>\n",
       "      <th>employer_name</th>\n",
       "      <th>employer_state</th>\n",
       "      <th>foreign_worker_info_education</th>\n",
       "      <th>foreign_worker_info_major</th>\n",
       "      <th>job_experience</th>\n",
       "      <th>job_title</th>\n",
       "      <th>job_training</th>\n",
       "      <th>job_work_state</th>\n",
       "      <th>pv_unit_of_pay_9089</th>\n",
       "      <th>previous_salary</th>\n",
       "      <th>level</th>\n",
       "      <th>source_name</th>\n",
       "      <th>sector</th>\n",
       "      <th>wage_offer</th>\n",
       "      <th>wage_unit_of_pay</th>\n",
       "      <th>case_received_date_year</th>\n",
       "      <th>decision_date_year</th>\n",
       "      <th>Received_Year</th>\n",
       "      <th>meansal</th>\n",
       "      <th>employer_region</th>\n",
       "      <th>Enterprise_Size</th>\n",
       "    </tr>\n",
       "  </thead>\n",
       "  <tbody>\n",
       "    <tr>\n",
       "      <th>0</th>\n",
       "      <td>NaN</td>\n",
       "      <td>PERM</td>\n",
       "      <td>A-07323-97014</td>\n",
       "      <td>NaT</td>\n",
       "      <td>Certified</td>\n",
       "      <td>J</td>\n",
       "      <td>ARMENIA</td>\n",
       "      <td>2012-02-01</td>\n",
       "      <td>Unavailable</td>\n",
       "      <td>NEW YORK</td>\n",
       "      <td>NETSOFT USA INC.</td>\n",
       "      <td>NY</td>\n",
       "      <td>Bachelor's</td>\n",
       "      <td>NaN</td>\n",
       "      <td>not relavant experience</td>\n",
       "      <td>NaN</td>\n",
       "      <td>non relavant training</td>\n",
       "      <td>Northeast</td>\n",
       "      <td>Year</td>\n",
       "      <td>75629.0</td>\n",
       "      <td>Level II</td>\n",
       "      <td>OES</td>\n",
       "      <td>IT</td>\n",
       "      <td>75629.00</td>\n",
       "      <td>Year</td>\n",
       "      <td>2007</td>\n",
       "      <td>2012</td>\n",
       "      <td>2007</td>\n",
       "      <td>75629.000</td>\n",
       "      <td>Northeast</td>\n",
       "      <td>Unvailable</td>\n",
       "    </tr>\n",
       "    <tr>\n",
       "      <th>1</th>\n",
       "      <td>NaN</td>\n",
       "      <td>PERM</td>\n",
       "      <td>A-07332-99439</td>\n",
       "      <td>NaT</td>\n",
       "      <td>Denied</td>\n",
       "      <td>B</td>\n",
       "      <td>POLAND</td>\n",
       "      <td>2011-12-21</td>\n",
       "      <td>Unavailable</td>\n",
       "      <td>CARLSTADT</td>\n",
       "      <td>PINNACLE ENVIRONEMNTAL CORP</td>\n",
       "      <td>NY</td>\n",
       "      <td>Bachelor's</td>\n",
       "      <td>NaN</td>\n",
       "      <td>not relavant experience</td>\n",
       "      <td>NaN</td>\n",
       "      <td>non relavant training</td>\n",
       "      <td>Northeast</td>\n",
       "      <td>Year</td>\n",
       "      <td>37024.0</td>\n",
       "      <td>Level I</td>\n",
       "      <td>OES</td>\n",
       "      <td>Other Economic Sector</td>\n",
       "      <td>37024.00</td>\n",
       "      <td>Year</td>\n",
       "      <td>2007</td>\n",
       "      <td>2011</td>\n",
       "      <td>2007</td>\n",
       "      <td>37024.000</td>\n",
       "      <td>Northeast</td>\n",
       "      <td>Unvailable</td>\n",
       "    </tr>\n",
       "    <tr>\n",
       "      <th>2</th>\n",
       "      <td>NaN</td>\n",
       "      <td>PERM</td>\n",
       "      <td>A-07333-99643</td>\n",
       "      <td>NaT</td>\n",
       "      <td>Certified</td>\n",
       "      <td>H-1B</td>\n",
       "      <td>INDIA</td>\n",
       "      <td>2011-12-01</td>\n",
       "      <td>Unavailable</td>\n",
       "      <td>GLEN ALLEN</td>\n",
       "      <td>SCHNABEL ENGINEERING, INC.</td>\n",
       "      <td>VA</td>\n",
       "      <td>Bachelor's</td>\n",
       "      <td>NaN</td>\n",
       "      <td>not relavant experience</td>\n",
       "      <td>NaN</td>\n",
       "      <td>non relavant training</td>\n",
       "      <td>South</td>\n",
       "      <td>Year</td>\n",
       "      <td>47923.0</td>\n",
       "      <td>Level I</td>\n",
       "      <td>OES</td>\n",
       "      <td>Aerospace</td>\n",
       "      <td>47923.00</td>\n",
       "      <td>Year</td>\n",
       "      <td>2007</td>\n",
       "      <td>2011</td>\n",
       "      <td>2007</td>\n",
       "      <td>47923.000</td>\n",
       "      <td>South</td>\n",
       "      <td>Unvailable</td>\n",
       "    </tr>\n",
       "    <tr>\n",
       "      <th>3</th>\n",
       "      <td>NaN</td>\n",
       "      <td>PERM</td>\n",
       "      <td>A-07339-01930</td>\n",
       "      <td>NaT</td>\n",
       "      <td>Certified</td>\n",
       "      <td>B</td>\n",
       "      <td>SOUTH KOREA</td>\n",
       "      <td>2011-12-01</td>\n",
       "      <td>Unavailable</td>\n",
       "      <td>FLUSHING</td>\n",
       "      <td>EBENEZER MISSION CHURCH</td>\n",
       "      <td>NY</td>\n",
       "      <td>Bachelor's</td>\n",
       "      <td>NaN</td>\n",
       "      <td>not relavant experience</td>\n",
       "      <td>NaN</td>\n",
       "      <td>non relavant training</td>\n",
       "      <td>Northeast</td>\n",
       "      <td>Year</td>\n",
       "      <td>21940.0</td>\n",
       "      <td>Level II</td>\n",
       "      <td>OES</td>\n",
       "      <td>Other Economic Sector</td>\n",
       "      <td>10.97</td>\n",
       "      <td>Hour</td>\n",
       "      <td>2007</td>\n",
       "      <td>2011</td>\n",
       "      <td>2007</td>\n",
       "      <td>10975.485</td>\n",
       "      <td>Northeast</td>\n",
       "      <td>Unvailable</td>\n",
       "    </tr>\n",
       "    <tr>\n",
       "      <th>4</th>\n",
       "      <td>NaN</td>\n",
       "      <td>PERM</td>\n",
       "      <td>A-07345-03565</td>\n",
       "      <td>NaT</td>\n",
       "      <td>Certified</td>\n",
       "      <td>L</td>\n",
       "      <td>CANADA</td>\n",
       "      <td>2012-01-26</td>\n",
       "      <td>Unavailable</td>\n",
       "      <td>ALBANY</td>\n",
       "      <td>ALBANY INTERNATIONAL CORP.</td>\n",
       "      <td>NY</td>\n",
       "      <td>Bachelor's</td>\n",
       "      <td>NaN</td>\n",
       "      <td>not relavant experience</td>\n",
       "      <td>NaN</td>\n",
       "      <td>non relavant training</td>\n",
       "      <td>Northeast</td>\n",
       "      <td>Year</td>\n",
       "      <td>94890.0</td>\n",
       "      <td>Level IV</td>\n",
       "      <td>OES</td>\n",
       "      <td>Advanced Mfg</td>\n",
       "      <td>100000.00</td>\n",
       "      <td>Year</td>\n",
       "      <td>2007</td>\n",
       "      <td>2012</td>\n",
       "      <td>2007</td>\n",
       "      <td>97445.000</td>\n",
       "      <td>Northeast</td>\n",
       "      <td>Unvailable</td>\n",
       "    </tr>\n",
       "  </tbody>\n",
       "</table>\n",
       "</div>"
      ],
      "text/plain": [
       "  agent_state application_type        case_no case_received_date case_status  \\\n",
       "0         NaN             PERM  A-07323-97014                NaT   Certified   \n",
       "1         NaN             PERM  A-07332-99439                NaT      Denied   \n",
       "2         NaN             PERM  A-07333-99643                NaT   Certified   \n",
       "3         NaN             PERM  A-07339-01930                NaT   Certified   \n",
       "4         NaN             PERM  A-07345-03565                NaT   Certified   \n",
       "\n",
       "  class_of_admission country_of_citizenship decision_date employer_yr_estab  \\\n",
       "0                  J                ARMENIA    2012-02-01       Unavailable   \n",
       "1                  B                 POLAND    2011-12-21       Unavailable   \n",
       "2               H-1B                  INDIA    2011-12-01       Unavailable   \n",
       "3                  B            SOUTH KOREA    2011-12-01       Unavailable   \n",
       "4                  L                 CANADA    2012-01-26       Unavailable   \n",
       "\n",
       "  employer_city                employer_name employer_state  \\\n",
       "0      NEW YORK             NETSOFT USA INC.             NY   \n",
       "1     CARLSTADT  PINNACLE ENVIRONEMNTAL CORP             NY   \n",
       "2    GLEN ALLEN   SCHNABEL ENGINEERING, INC.             VA   \n",
       "3      FLUSHING      EBENEZER MISSION CHURCH             NY   \n",
       "4        ALBANY   ALBANY INTERNATIONAL CORP.             NY   \n",
       "\n",
       "  foreign_worker_info_education foreign_worker_info_major  \\\n",
       "0                    Bachelor's                       NaN   \n",
       "1                    Bachelor's                       NaN   \n",
       "2                    Bachelor's                       NaN   \n",
       "3                    Bachelor's                       NaN   \n",
       "4                    Bachelor's                       NaN   \n",
       "\n",
       "            job_experience job_title           job_training job_work_state  \\\n",
       "0  not relavant experience       NaN  non relavant training      Northeast   \n",
       "1  not relavant experience       NaN  non relavant training      Northeast   \n",
       "2  not relavant experience       NaN  non relavant training          South   \n",
       "3  not relavant experience       NaN  non relavant training      Northeast   \n",
       "4  not relavant experience       NaN  non relavant training      Northeast   \n",
       "\n",
       "  pv_unit_of_pay_9089  previous_salary     level source_name  \\\n",
       "0                Year          75629.0  Level II         OES   \n",
       "1                Year          37024.0   Level I         OES   \n",
       "2                Year          47923.0   Level I         OES   \n",
       "3                Year          21940.0  Level II         OES   \n",
       "4                Year          94890.0  Level IV         OES   \n",
       "\n",
       "                  sector  wage_offer wage_unit_of_pay  \\\n",
       "0                     IT    75629.00             Year   \n",
       "1  Other Economic Sector    37024.00             Year   \n",
       "2              Aerospace    47923.00             Year   \n",
       "3  Other Economic Sector       10.97             Hour   \n",
       "4           Advanced Mfg   100000.00             Year   \n",
       "\n",
       "   case_received_date_year  decision_date_year Received_Year    meansal  \\\n",
       "0                     2007                2012          2007  75629.000   \n",
       "1                     2007                2011          2007  37024.000   \n",
       "2                     2007                2011          2007  47923.000   \n",
       "3                     2007                2011          2007  10975.485   \n",
       "4                     2007                2012          2007  97445.000   \n",
       "\n",
       "  employer_region Enterprise_Size  \n",
       "0       Northeast      Unvailable  \n",
       "1       Northeast      Unvailable  \n",
       "2           South      Unvailable  \n",
       "3       Northeast      Unvailable  \n",
       "4       Northeast      Unvailable  "
      ]
     },
     "execution_count": 119,
     "metadata": {},
     "output_type": "execute_result"
    }
   ],
   "source": [
    "data.head()"
   ]
  },
  {
   "cell_type": "code",
   "execution_count": 120,
   "metadata": {},
   "outputs": [
    {
     "data": {
      "text/html": [
       "<div>\n",
       "<style scoped>\n",
       "    .dataframe tbody tr th:only-of-type {\n",
       "        vertical-align: middle;\n",
       "    }\n",
       "\n",
       "    .dataframe tbody tr th {\n",
       "        vertical-align: top;\n",
       "    }\n",
       "\n",
       "    .dataframe thead th {\n",
       "        text-align: right;\n",
       "    }\n",
       "</style>\n",
       "<table border=\"1\" class=\"dataframe\">\n",
       "  <thead>\n",
       "    <tr style=\"text-align: right;\">\n",
       "      <th>class_of_admission</th>\n",
       "      <th>A</th>\n",
       "      <th>AOS</th>\n",
       "      <th>B</th>\n",
       "      <th>C</th>\n",
       "      <th>D-1</th>\n",
       "      <th>E</th>\n",
       "      <th>EWI</th>\n",
       "      <th>F</th>\n",
       "      <th>G</th>\n",
       "      <th>H-1B</th>\n",
       "      <th>I</th>\n",
       "      <th>J</th>\n",
       "      <th>K-1</th>\n",
       "      <th>L</th>\n",
       "      <th>M</th>\n",
       "      <th>N</th>\n",
       "      <th>O</th>\n",
       "      <th>P</th>\n",
       "      <th>Parole</th>\n",
       "      <th>Q</th>\n",
       "      <th>R</th>\n",
       "      <th>T-1</th>\n",
       "      <th>TD</th>\n",
       "      <th>TN</th>\n",
       "      <th>TPS</th>\n",
       "      <th>U-1</th>\n",
       "      <th>Unavailable</th>\n",
       "      <th>V-2</th>\n",
       "      <th>VWB</th>\n",
       "      <th>VWT</th>\n",
       "    </tr>\n",
       "    <tr>\n",
       "      <th>case_status</th>\n",
       "      <th></th>\n",
       "      <th></th>\n",
       "      <th></th>\n",
       "      <th></th>\n",
       "      <th></th>\n",
       "      <th></th>\n",
       "      <th></th>\n",
       "      <th></th>\n",
       "      <th></th>\n",
       "      <th></th>\n",
       "      <th></th>\n",
       "      <th></th>\n",
       "      <th></th>\n",
       "      <th></th>\n",
       "      <th></th>\n",
       "      <th></th>\n",
       "      <th></th>\n",
       "      <th></th>\n",
       "      <th></th>\n",
       "      <th></th>\n",
       "      <th></th>\n",
       "      <th></th>\n",
       "      <th></th>\n",
       "      <th></th>\n",
       "      <th></th>\n",
       "      <th></th>\n",
       "      <th></th>\n",
       "      <th></th>\n",
       "      <th></th>\n",
       "      <th></th>\n",
       "    </tr>\n",
       "  </thead>\n",
       "  <tbody>\n",
       "    <tr>\n",
       "      <th>Certified</th>\n",
       "      <td>66</td>\n",
       "      <td>2</td>\n",
       "      <td>1529</td>\n",
       "      <td>17</td>\n",
       "      <td>1</td>\n",
       "      <td>2688</td>\n",
       "      <td>507</td>\n",
       "      <td>7780</td>\n",
       "      <td>84</td>\n",
       "      <td>137853</td>\n",
       "      <td>37</td>\n",
       "      <td>539</td>\n",
       "      <td>0</td>\n",
       "      <td>10147</td>\n",
       "      <td>15</td>\n",
       "      <td>1</td>\n",
       "      <td>417</td>\n",
       "      <td>100</td>\n",
       "      <td>1053</td>\n",
       "      <td>2</td>\n",
       "      <td>56</td>\n",
       "      <td>1</td>\n",
       "      <td>9</td>\n",
       "      <td>2193</td>\n",
       "      <td>93</td>\n",
       "      <td>0</td>\n",
       "      <td>12786</td>\n",
       "      <td>1</td>\n",
       "      <td>5</td>\n",
       "      <td>18</td>\n",
       "    </tr>\n",
       "    <tr>\n",
       "      <th>Certified-Expired</th>\n",
       "      <td>52</td>\n",
       "      <td>1</td>\n",
       "      <td>1076</td>\n",
       "      <td>10</td>\n",
       "      <td>2</td>\n",
       "      <td>1928</td>\n",
       "      <td>547</td>\n",
       "      <td>5440</td>\n",
       "      <td>65</td>\n",
       "      <td>115167</td>\n",
       "      <td>29</td>\n",
       "      <td>339</td>\n",
       "      <td>0</td>\n",
       "      <td>8687</td>\n",
       "      <td>6</td>\n",
       "      <td>2</td>\n",
       "      <td>304</td>\n",
       "      <td>76</td>\n",
       "      <td>1278</td>\n",
       "      <td>2</td>\n",
       "      <td>38</td>\n",
       "      <td>2</td>\n",
       "      <td>2</td>\n",
       "      <td>1681</td>\n",
       "      <td>55</td>\n",
       "      <td>2</td>\n",
       "      <td>8057</td>\n",
       "      <td>0</td>\n",
       "      <td>3</td>\n",
       "      <td>15</td>\n",
       "    </tr>\n",
       "    <tr>\n",
       "      <th>Denied</th>\n",
       "      <td>31</td>\n",
       "      <td>0</td>\n",
       "      <td>1144</td>\n",
       "      <td>17</td>\n",
       "      <td>3</td>\n",
       "      <td>665</td>\n",
       "      <td>807</td>\n",
       "      <td>1551</td>\n",
       "      <td>23</td>\n",
       "      <td>14664</td>\n",
       "      <td>11</td>\n",
       "      <td>113</td>\n",
       "      <td>1</td>\n",
       "      <td>588</td>\n",
       "      <td>6</td>\n",
       "      <td>1</td>\n",
       "      <td>69</td>\n",
       "      <td>54</td>\n",
       "      <td>177</td>\n",
       "      <td>1</td>\n",
       "      <td>13</td>\n",
       "      <td>1</td>\n",
       "      <td>1</td>\n",
       "      <td>192</td>\n",
       "      <td>30</td>\n",
       "      <td>0</td>\n",
       "      <td>4879</td>\n",
       "      <td>1</td>\n",
       "      <td>2</td>\n",
       "      <td>24</td>\n",
       "    </tr>\n",
       "    <tr>\n",
       "      <th>Withdrawn</th>\n",
       "      <td>6</td>\n",
       "      <td>0</td>\n",
       "      <td>198</td>\n",
       "      <td>3</td>\n",
       "      <td>0</td>\n",
       "      <td>370</td>\n",
       "      <td>76</td>\n",
       "      <td>1019</td>\n",
       "      <td>11</td>\n",
       "      <td>12603</td>\n",
       "      <td>5</td>\n",
       "      <td>63</td>\n",
       "      <td>1</td>\n",
       "      <td>664</td>\n",
       "      <td>2</td>\n",
       "      <td>0</td>\n",
       "      <td>46</td>\n",
       "      <td>25</td>\n",
       "      <td>176</td>\n",
       "      <td>0</td>\n",
       "      <td>12</td>\n",
       "      <td>0</td>\n",
       "      <td>3</td>\n",
       "      <td>195</td>\n",
       "      <td>9</td>\n",
       "      <td>0</td>\n",
       "      <td>2204</td>\n",
       "      <td>0</td>\n",
       "      <td>0</td>\n",
       "      <td>1</td>\n",
       "    </tr>\n",
       "  </tbody>\n",
       "</table>\n",
       "</div>"
      ],
      "text/plain": [
       "class_of_admission   A  AOS     B   C  D-1     E  EWI     F   G    H-1B   I  \\\n",
       "case_status                                                                   \n",
       "Certified           66    2  1529  17    1  2688  507  7780  84  137853  37   \n",
       "Certified-Expired   52    1  1076  10    2  1928  547  5440  65  115167  29   \n",
       "Denied              31    0  1144  17    3   665  807  1551  23   14664  11   \n",
       "Withdrawn            6    0   198   3    0   370   76  1019  11   12603   5   \n",
       "\n",
       "class_of_admission    J  K-1      L   M  N    O    P  Parole  Q   R  T-1  TD  \\\n",
       "case_status                                                                    \n",
       "Certified           539    0  10147  15  1  417  100    1053  2  56    1   9   \n",
       "Certified-Expired   339    0   8687   6  2  304   76    1278  2  38    2   2   \n",
       "Denied              113    1    588   6  1   69   54     177  1  13    1   1   \n",
       "Withdrawn            63    1    664   2  0   46   25     176  0  12    0   3   \n",
       "\n",
       "class_of_admission    TN  TPS  U-1  Unavailable  V-2  VWB  VWT  \n",
       "case_status                                                     \n",
       "Certified           2193   93    0        12786    1    5   18  \n",
       "Certified-Expired   1681   55    2         8057    0    3   15  \n",
       "Denied               192   30    0         4879    1    2   24  \n",
       "Withdrawn            195    9    0         2204    0    0    1  "
      ]
     },
     "execution_count": 120,
     "metadata": {},
     "output_type": "execute_result"
    }
   ],
   "source": [
    "pd.crosstab(data.case_status,data.class_of_admission)"
   ]
  },
  {
   "cell_type": "code",
   "execution_count": 121,
   "metadata": {},
   "outputs": [
    {
     "data": {
      "text/html": [
       "<div>\n",
       "<style scoped>\n",
       "    .dataframe tbody tr th:only-of-type {\n",
       "        vertical-align: middle;\n",
       "    }\n",
       "\n",
       "    .dataframe tbody tr th {\n",
       "        vertical-align: top;\n",
       "    }\n",
       "\n",
       "    .dataframe thead th {\n",
       "        text-align: right;\n",
       "    }\n",
       "</style>\n",
       "<table border=\"1\" class=\"dataframe\">\n",
       "  <thead>\n",
       "    <tr style=\"text-align: right;\">\n",
       "      <th>employer_yr_estab</th>\n",
       "      <th>Ancient</th>\n",
       "      <th>New</th>\n",
       "      <th>Old</th>\n",
       "      <th>Unavailable</th>\n",
       "    </tr>\n",
       "    <tr>\n",
       "      <th>case_status</th>\n",
       "      <th></th>\n",
       "      <th></th>\n",
       "      <th></th>\n",
       "      <th></th>\n",
       "    </tr>\n",
       "  </thead>\n",
       "  <tbody>\n",
       "    <tr>\n",
       "      <th>Certified</th>\n",
       "      <td>38234</td>\n",
       "      <td>43221</td>\n",
       "      <td>35574</td>\n",
       "      <td>60971</td>\n",
       "    </tr>\n",
       "    <tr>\n",
       "      <th>Certified-Expired</th>\n",
       "      <td>30604</td>\n",
       "      <td>31358</td>\n",
       "      <td>29884</td>\n",
       "      <td>53020</td>\n",
       "    </tr>\n",
       "    <tr>\n",
       "      <th>Denied</th>\n",
       "      <td>4106</td>\n",
       "      <td>5210</td>\n",
       "      <td>2762</td>\n",
       "      <td>12991</td>\n",
       "    </tr>\n",
       "    <tr>\n",
       "      <th>Withdrawn</th>\n",
       "      <td>3042</td>\n",
       "      <td>3807</td>\n",
       "      <td>2421</td>\n",
       "      <td>8422</td>\n",
       "    </tr>\n",
       "  </tbody>\n",
       "</table>\n",
       "</div>"
      ],
      "text/plain": [
       "employer_yr_estab  Ancient    New    Old  Unavailable\n",
       "case_status                                          \n",
       "Certified            38234  43221  35574        60971\n",
       "Certified-Expired    30604  31358  29884        53020\n",
       "Denied                4106   5210   2762        12991\n",
       "Withdrawn             3042   3807   2421         8422"
      ]
     },
     "execution_count": 121,
     "metadata": {},
     "output_type": "execute_result"
    }
   ],
   "source": [
    "pd.crosstab(data.case_status,data.employer_yr_estab)"
   ]
  },
  {
   "cell_type": "code",
   "execution_count": 122,
   "metadata": {},
   "outputs": [
    {
     "data": {
      "text/html": [
       "<div>\n",
       "<style scoped>\n",
       "    .dataframe tbody tr th:only-of-type {\n",
       "        vertical-align: middle;\n",
       "    }\n",
       "\n",
       "    .dataframe tbody tr th {\n",
       "        vertical-align: top;\n",
       "    }\n",
       "\n",
       "    .dataframe thead th {\n",
       "        text-align: right;\n",
       "    }\n",
       "</style>\n",
       "<table border=\"1\" class=\"dataframe\">\n",
       "  <thead>\n",
       "    <tr style=\"text-align: right;\">\n",
       "      <th>employer_city</th>\n",
       "      <th>, NEW YORK</th>\n",
       "      <th>, New York</th>\n",
       "      <th>200 WEST STREET</th>\n",
       "      <th>37-18 QUEENS BLVD</th>\n",
       "      <th>39TH FLOOR</th>\n",
       "      <th>ABBEVILLE</th>\n",
       "      <th>ABBOTSFORD</th>\n",
       "      <th>ABBOTT PARK</th>\n",
       "      <th>ABERDEEN</th>\n",
       "      <th>ABILENE</th>\n",
       "      <th>ABINGTON</th>\n",
       "      <th>ABSECON</th>\n",
       "      <th>ACCIDENT</th>\n",
       "      <th>ACCOKEEK</th>\n",
       "      <th>ACCOMAC</th>\n",
       "      <th>ACTON</th>\n",
       "      <th>ACWORTH</th>\n",
       "      <th>ADA</th>\n",
       "      <th>ADAMS</th>\n",
       "      <th>ADAMSVILLE</th>\n",
       "      <th>ADDISON</th>\n",
       "      <th>ADELANTO</th>\n",
       "      <th>ADELPHI</th>\n",
       "      <th>ADKINS</th>\n",
       "      <th>ADRIAN</th>\n",
       "      <th>...</th>\n",
       "      <th>west lafayette</th>\n",
       "      <th>west palm beach</th>\n",
       "      <th>west warwick</th>\n",
       "      <th>westboro</th>\n",
       "      <th>westminster</th>\n",
       "      <th>westmont</th>\n",
       "      <th>weston</th>\n",
       "      <th>westport</th>\n",
       "      <th>whitestone</th>\n",
       "      <th>whiteville</th>\n",
       "      <th>whitman</th>\n",
       "      <th>williamstown</th>\n",
       "      <th>wilmington</th>\n",
       "      <th>windermere</th>\n",
       "      <th>winston salem</th>\n",
       "      <th>winter garden</th>\n",
       "      <th>winter springs</th>\n",
       "      <th>wixom</th>\n",
       "      <th>woodbridge</th>\n",
       "      <th>woodland hills</th>\n",
       "      <th>woodstock</th>\n",
       "      <th>wynnewood</th>\n",
       "      <th>yardley</th>\n",
       "      <th>yorktown heights</th>\n",
       "      <th>Ã€VENTURA</th>\n",
       "    </tr>\n",
       "    <tr>\n",
       "      <th>case_status</th>\n",
       "      <th></th>\n",
       "      <th></th>\n",
       "      <th></th>\n",
       "      <th></th>\n",
       "      <th></th>\n",
       "      <th></th>\n",
       "      <th></th>\n",
       "      <th></th>\n",
       "      <th></th>\n",
       "      <th></th>\n",
       "      <th></th>\n",
       "      <th></th>\n",
       "      <th></th>\n",
       "      <th></th>\n",
       "      <th></th>\n",
       "      <th></th>\n",
       "      <th></th>\n",
       "      <th></th>\n",
       "      <th></th>\n",
       "      <th></th>\n",
       "      <th></th>\n",
       "      <th></th>\n",
       "      <th></th>\n",
       "      <th></th>\n",
       "      <th></th>\n",
       "      <th></th>\n",
       "      <th></th>\n",
       "      <th></th>\n",
       "      <th></th>\n",
       "      <th></th>\n",
       "      <th></th>\n",
       "      <th></th>\n",
       "      <th></th>\n",
       "      <th></th>\n",
       "      <th></th>\n",
       "      <th></th>\n",
       "      <th></th>\n",
       "      <th></th>\n",
       "      <th></th>\n",
       "      <th></th>\n",
       "      <th></th>\n",
       "      <th></th>\n",
       "      <th></th>\n",
       "      <th></th>\n",
       "      <th></th>\n",
       "      <th></th>\n",
       "      <th></th>\n",
       "      <th></th>\n",
       "      <th></th>\n",
       "      <th></th>\n",
       "      <th></th>\n",
       "    </tr>\n",
       "  </thead>\n",
       "  <tbody>\n",
       "    <tr>\n",
       "      <th>Certified</th>\n",
       "      <td>0</td>\n",
       "      <td>0</td>\n",
       "      <td>0</td>\n",
       "      <td>1</td>\n",
       "      <td>1</td>\n",
       "      <td>0</td>\n",
       "      <td>126</td>\n",
       "      <td>76</td>\n",
       "      <td>8</td>\n",
       "      <td>6</td>\n",
       "      <td>13</td>\n",
       "      <td>0</td>\n",
       "      <td>0</td>\n",
       "      <td>0</td>\n",
       "      <td>1</td>\n",
       "      <td>41</td>\n",
       "      <td>1</td>\n",
       "      <td>20</td>\n",
       "      <td>1</td>\n",
       "      <td>0</td>\n",
       "      <td>130</td>\n",
       "      <td>0</td>\n",
       "      <td>3</td>\n",
       "      <td>0</td>\n",
       "      <td>2</td>\n",
       "      <td>...</td>\n",
       "      <td>0</td>\n",
       "      <td>0</td>\n",
       "      <td>0</td>\n",
       "      <td>0</td>\n",
       "      <td>1</td>\n",
       "      <td>1</td>\n",
       "      <td>2</td>\n",
       "      <td>0</td>\n",
       "      <td>0</td>\n",
       "      <td>1</td>\n",
       "      <td>0</td>\n",
       "      <td>1</td>\n",
       "      <td>1</td>\n",
       "      <td>0</td>\n",
       "      <td>0</td>\n",
       "      <td>1</td>\n",
       "      <td>1</td>\n",
       "      <td>2</td>\n",
       "      <td>2</td>\n",
       "      <td>1</td>\n",
       "      <td>1</td>\n",
       "      <td>1</td>\n",
       "      <td>0</td>\n",
       "      <td>0</td>\n",
       "      <td>1</td>\n",
       "    </tr>\n",
       "    <tr>\n",
       "      <th>Certified-Expired</th>\n",
       "      <td>1</td>\n",
       "      <td>1</td>\n",
       "      <td>0</td>\n",
       "      <td>0</td>\n",
       "      <td>0</td>\n",
       "      <td>1</td>\n",
       "      <td>62</td>\n",
       "      <td>55</td>\n",
       "      <td>11</td>\n",
       "      <td>2</td>\n",
       "      <td>16</td>\n",
       "      <td>0</td>\n",
       "      <td>1</td>\n",
       "      <td>2</td>\n",
       "      <td>2</td>\n",
       "      <td>57</td>\n",
       "      <td>1</td>\n",
       "      <td>11</td>\n",
       "      <td>0</td>\n",
       "      <td>1</td>\n",
       "      <td>130</td>\n",
       "      <td>0</td>\n",
       "      <td>5</td>\n",
       "      <td>1</td>\n",
       "      <td>1</td>\n",
       "      <td>...</td>\n",
       "      <td>1</td>\n",
       "      <td>1</td>\n",
       "      <td>1</td>\n",
       "      <td>0</td>\n",
       "      <td>0</td>\n",
       "      <td>0</td>\n",
       "      <td>0</td>\n",
       "      <td>1</td>\n",
       "      <td>1</td>\n",
       "      <td>0</td>\n",
       "      <td>1</td>\n",
       "      <td>0</td>\n",
       "      <td>0</td>\n",
       "      <td>0</td>\n",
       "      <td>1</td>\n",
       "      <td>0</td>\n",
       "      <td>0</td>\n",
       "      <td>0</td>\n",
       "      <td>0</td>\n",
       "      <td>0</td>\n",
       "      <td>0</td>\n",
       "      <td>0</td>\n",
       "      <td>1</td>\n",
       "      <td>1</td>\n",
       "      <td>0</td>\n",
       "    </tr>\n",
       "    <tr>\n",
       "      <th>Denied</th>\n",
       "      <td>0</td>\n",
       "      <td>0</td>\n",
       "      <td>0</td>\n",
       "      <td>0</td>\n",
       "      <td>0</td>\n",
       "      <td>0</td>\n",
       "      <td>47</td>\n",
       "      <td>18</td>\n",
       "      <td>3</td>\n",
       "      <td>3</td>\n",
       "      <td>1</td>\n",
       "      <td>1</td>\n",
       "      <td>0</td>\n",
       "      <td>2</td>\n",
       "      <td>0</td>\n",
       "      <td>1</td>\n",
       "      <td>0</td>\n",
       "      <td>1</td>\n",
       "      <td>0</td>\n",
       "      <td>0</td>\n",
       "      <td>20</td>\n",
       "      <td>1</td>\n",
       "      <td>13</td>\n",
       "      <td>0</td>\n",
       "      <td>0</td>\n",
       "      <td>...</td>\n",
       "      <td>0</td>\n",
       "      <td>0</td>\n",
       "      <td>0</td>\n",
       "      <td>1</td>\n",
       "      <td>0</td>\n",
       "      <td>0</td>\n",
       "      <td>0</td>\n",
       "      <td>0</td>\n",
       "      <td>0</td>\n",
       "      <td>0</td>\n",
       "      <td>0</td>\n",
       "      <td>0</td>\n",
       "      <td>0</td>\n",
       "      <td>1</td>\n",
       "      <td>0</td>\n",
       "      <td>0</td>\n",
       "      <td>0</td>\n",
       "      <td>1</td>\n",
       "      <td>0</td>\n",
       "      <td>0</td>\n",
       "      <td>1</td>\n",
       "      <td>0</td>\n",
       "      <td>0</td>\n",
       "      <td>0</td>\n",
       "      <td>0</td>\n",
       "    </tr>\n",
       "    <tr>\n",
       "      <th>Withdrawn</th>\n",
       "      <td>0</td>\n",
       "      <td>0</td>\n",
       "      <td>1</td>\n",
       "      <td>0</td>\n",
       "      <td>0</td>\n",
       "      <td>0</td>\n",
       "      <td>78</td>\n",
       "      <td>13</td>\n",
       "      <td>2</td>\n",
       "      <td>0</td>\n",
       "      <td>0</td>\n",
       "      <td>0</td>\n",
       "      <td>0</td>\n",
       "      <td>0</td>\n",
       "      <td>0</td>\n",
       "      <td>2</td>\n",
       "      <td>0</td>\n",
       "      <td>4</td>\n",
       "      <td>0</td>\n",
       "      <td>0</td>\n",
       "      <td>21</td>\n",
       "      <td>0</td>\n",
       "      <td>0</td>\n",
       "      <td>0</td>\n",
       "      <td>0</td>\n",
       "      <td>...</td>\n",
       "      <td>0</td>\n",
       "      <td>0</td>\n",
       "      <td>0</td>\n",
       "      <td>0</td>\n",
       "      <td>0</td>\n",
       "      <td>0</td>\n",
       "      <td>0</td>\n",
       "      <td>0</td>\n",
       "      <td>0</td>\n",
       "      <td>0</td>\n",
       "      <td>0</td>\n",
       "      <td>0</td>\n",
       "      <td>0</td>\n",
       "      <td>0</td>\n",
       "      <td>0</td>\n",
       "      <td>0</td>\n",
       "      <td>0</td>\n",
       "      <td>1</td>\n",
       "      <td>0</td>\n",
       "      <td>0</td>\n",
       "      <td>0</td>\n",
       "      <td>0</td>\n",
       "      <td>0</td>\n",
       "      <td>0</td>\n",
       "      <td>0</td>\n",
       "    </tr>\n",
       "  </tbody>\n",
       "</table>\n",
       "<p>4 rows × 8384 columns</p>\n",
       "</div>"
      ],
      "text/plain": [
       "employer_city      , NEW YORK  , New York  200 WEST STREET  37-18 QUEENS BLVD  \\\n",
       "case_status                                                                     \n",
       "Certified                   0           0                0                  1   \n",
       "Certified-Expired           1           1                0                  0   \n",
       "Denied                      0           0                0                  0   \n",
       "Withdrawn                   0           0                1                  0   \n",
       "\n",
       "employer_city      39TH FLOOR  ABBEVILLE  ABBOTSFORD  ABBOTT PARK  ABERDEEN  \\\n",
       "case_status                                                                   \n",
       "Certified                   1          0         126           76         8   \n",
       "Certified-Expired           0          1          62           55        11   \n",
       "Denied                      0          0          47           18         3   \n",
       "Withdrawn                   0          0          78           13         2   \n",
       "\n",
       "employer_city      ABILENE  ABINGTON  ABSECON  ACCIDENT  ACCOKEEK  ACCOMAC  \\\n",
       "case_status                                                                  \n",
       "Certified                6        13        0         0         0        1   \n",
       "Certified-Expired        2        16        0         1         2        2   \n",
       "Denied                   3         1        1         0         2        0   \n",
       "Withdrawn                0         0        0         0         0        0   \n",
       "\n",
       "employer_city      ACTON  ACWORTH  ADA  ADAMS  ADAMSVILLE  ADDISON  ADELANTO  \\\n",
       "case_status                                                                    \n",
       "Certified             41        1   20      1           0      130         0   \n",
       "Certified-Expired     57        1   11      0           1      130         0   \n",
       "Denied                 1        0    1      0           0       20         1   \n",
       "Withdrawn              2        0    4      0           0       21         0   \n",
       "\n",
       "employer_city      ADELPHI  ADKINS  ADRIAN  ...  west lafayette  \\\n",
       "case_status                                 ...                   \n",
       "Certified                3       0       2  ...               0   \n",
       "Certified-Expired        5       1       1  ...               1   \n",
       "Denied                  13       0       0  ...               0   \n",
       "Withdrawn                0       0       0  ...               0   \n",
       "\n",
       "employer_city      west palm beach  west warwick  westboro  westminster  \\\n",
       "case_status                                                               \n",
       "Certified                        0             0         0            1   \n",
       "Certified-Expired                1             1         0            0   \n",
       "Denied                           0             0         1            0   \n",
       "Withdrawn                        0             0         0            0   \n",
       "\n",
       "employer_city      westmont  weston  westport  whitestone  whiteville  \\\n",
       "case_status                                                             \n",
       "Certified                 1       2         0           0           1   \n",
       "Certified-Expired         0       0         1           1           0   \n",
       "Denied                    0       0         0           0           0   \n",
       "Withdrawn                 0       0         0           0           0   \n",
       "\n",
       "employer_city      whitman  williamstown  wilmington  windermere  \\\n",
       "case_status                                                        \n",
       "Certified                0             1           1           0   \n",
       "Certified-Expired        1             0           0           0   \n",
       "Denied                   0             0           0           1   \n",
       "Withdrawn                0             0           0           0   \n",
       "\n",
       "employer_city      winston salem  winter garden  winter springs  wixom  \\\n",
       "case_status                                                              \n",
       "Certified                      0              1               1      2   \n",
       "Certified-Expired              1              0               0      0   \n",
       "Denied                         0              0               0      1   \n",
       "Withdrawn                      0              0               0      1   \n",
       "\n",
       "employer_city      woodbridge  woodland hills  woodstock  wynnewood  yardley  \\\n",
       "case_status                                                                    \n",
       "Certified                   2               1          1          1        0   \n",
       "Certified-Expired           0               0          0          0        1   \n",
       "Denied                      0               0          1          0        0   \n",
       "Withdrawn                   0               0          0          0        0   \n",
       "\n",
       "employer_city      yorktown heights  Ã€VENTURA  \n",
       "case_status                                     \n",
       "Certified                         0          1  \n",
       "Certified-Expired                 1          0  \n",
       "Denied                            0          0  \n",
       "Withdrawn                         0          0  \n",
       "\n",
       "[4 rows x 8384 columns]"
      ]
     },
     "execution_count": 122,
     "metadata": {},
     "output_type": "execute_result"
    }
   ],
   "source": [
    "pd.crosstab(data.case_status,data.employer_city)"
   ]
  },
  {
   "cell_type": "code",
   "execution_count": 123,
   "metadata": {},
   "outputs": [],
   "source": [
    "data.drop('employer_city',axis=1,inplace=True)    # 8.3k unique vales"
   ]
  },
  {
   "cell_type": "code",
   "execution_count": 124,
   "metadata": {},
   "outputs": [
    {
     "data": {
      "text/html": [
       "<div>\n",
       "<style scoped>\n",
       "    .dataframe tbody tr th:only-of-type {\n",
       "        vertical-align: middle;\n",
       "    }\n",
       "\n",
       "    .dataframe tbody tr th {\n",
       "        vertical-align: top;\n",
       "    }\n",
       "\n",
       "    .dataframe thead th {\n",
       "        text-align: right;\n",
       "    }\n",
       "</style>\n",
       "<table border=\"1\" class=\"dataframe\">\n",
       "  <thead>\n",
       "    <tr style=\"text-align: right;\">\n",
       "      <th>foreign_worker_info_education</th>\n",
       "      <th>Associate's</th>\n",
       "      <th>Bachelor's</th>\n",
       "      <th>Doctorate</th>\n",
       "      <th>High School</th>\n",
       "      <th>Master's</th>\n",
       "      <th>None</th>\n",
       "      <th>Other</th>\n",
       "    </tr>\n",
       "    <tr>\n",
       "      <th>case_status</th>\n",
       "      <th></th>\n",
       "      <th></th>\n",
       "      <th></th>\n",
       "      <th></th>\n",
       "      <th></th>\n",
       "      <th></th>\n",
       "      <th></th>\n",
       "    </tr>\n",
       "  </thead>\n",
       "  <tbody>\n",
       "    <tr>\n",
       "      <th>Certified</th>\n",
       "      <td>7632</td>\n",
       "      <td>54469</td>\n",
       "      <td>16767</td>\n",
       "      <td>12999</td>\n",
       "      <td>59380</td>\n",
       "      <td>10875</td>\n",
       "      <td>15878</td>\n",
       "    </tr>\n",
       "    <tr>\n",
       "      <th>Certified-Expired</th>\n",
       "      <td>5149</td>\n",
       "      <td>39273</td>\n",
       "      <td>11810</td>\n",
       "      <td>9356</td>\n",
       "      <td>47604</td>\n",
       "      <td>19202</td>\n",
       "      <td>12472</td>\n",
       "    </tr>\n",
       "    <tr>\n",
       "      <th>Denied</th>\n",
       "      <td>4764</td>\n",
       "      <td>6056</td>\n",
       "      <td>2496</td>\n",
       "      <td>885</td>\n",
       "      <td>7589</td>\n",
       "      <td>2652</td>\n",
       "      <td>627</td>\n",
       "    </tr>\n",
       "    <tr>\n",
       "      <th>Withdrawn</th>\n",
       "      <td>4113</td>\n",
       "      <td>3849</td>\n",
       "      <td>483</td>\n",
       "      <td>233</td>\n",
       "      <td>6817</td>\n",
       "      <td>1771</td>\n",
       "      <td>426</td>\n",
       "    </tr>\n",
       "  </tbody>\n",
       "</table>\n",
       "</div>"
      ],
      "text/plain": [
       "foreign_worker_info_education  Associate's  Bachelor's  Doctorate  \\\n",
       "case_status                                                         \n",
       "Certified                             7632       54469      16767   \n",
       "Certified-Expired                     5149       39273      11810   \n",
       "Denied                                4764        6056       2496   \n",
       "Withdrawn                             4113        3849        483   \n",
       "\n",
       "foreign_worker_info_education  High School  Master's   None  Other  \n",
       "case_status                                                         \n",
       "Certified                            12999     59380  10875  15878  \n",
       "Certified-Expired                     9356     47604  19202  12472  \n",
       "Denied                                 885      7589   2652    627  \n",
       "Withdrawn                              233      6817   1771    426  "
      ]
     },
     "execution_count": 124,
     "metadata": {},
     "output_type": "execute_result"
    }
   ],
   "source": [
    "pd.crosstab(data.case_status,data.foreign_worker_info_education)"
   ]
  },
  {
   "cell_type": "code",
   "execution_count": 125,
   "metadata": {},
   "outputs": [
    {
     "data": {
      "text/html": [
       "<div>\n",
       "<style scoped>\n",
       "    .dataframe tbody tr th:only-of-type {\n",
       "        vertical-align: middle;\n",
       "    }\n",
       "\n",
       "    .dataframe tbody tr th {\n",
       "        vertical-align: top;\n",
       "    }\n",
       "\n",
       "    .dataframe thead th {\n",
       "        text-align: right;\n",
       "    }\n",
       "</style>\n",
       "<table border=\"1\" class=\"dataframe\">\n",
       "  <thead>\n",
       "    <tr style=\"text-align: right;\">\n",
       "      <th>employer_region</th>\n",
       "      <th>Island</th>\n",
       "      <th>Midwest</th>\n",
       "      <th>Northeast</th>\n",
       "      <th>Other</th>\n",
       "      <th>South</th>\n",
       "      <th>West</th>\n",
       "    </tr>\n",
       "    <tr>\n",
       "      <th>case_status</th>\n",
       "      <th></th>\n",
       "      <th></th>\n",
       "      <th></th>\n",
       "      <th></th>\n",
       "      <th></th>\n",
       "      <th></th>\n",
       "    </tr>\n",
       "  </thead>\n",
       "  <tbody>\n",
       "    <tr>\n",
       "      <th>Certified</th>\n",
       "      <td>300</td>\n",
       "      <td>25579</td>\n",
       "      <td>43313</td>\n",
       "      <td>706</td>\n",
       "      <td>48697</td>\n",
       "      <td>59405</td>\n",
       "    </tr>\n",
       "    <tr>\n",
       "      <th>Certified-Expired</th>\n",
       "      <td>185</td>\n",
       "      <td>19959</td>\n",
       "      <td>35655</td>\n",
       "      <td>663</td>\n",
       "      <td>39108</td>\n",
       "      <td>49296</td>\n",
       "    </tr>\n",
       "    <tr>\n",
       "      <th>Denied</th>\n",
       "      <td>149</td>\n",
       "      <td>3312</td>\n",
       "      <td>5956</td>\n",
       "      <td>188</td>\n",
       "      <td>8920</td>\n",
       "      <td>6544</td>\n",
       "    </tr>\n",
       "    <tr>\n",
       "      <th>Withdrawn</th>\n",
       "      <td>29</td>\n",
       "      <td>2677</td>\n",
       "      <td>4102</td>\n",
       "      <td>83</td>\n",
       "      <td>5273</td>\n",
       "      <td>5528</td>\n",
       "    </tr>\n",
       "  </tbody>\n",
       "</table>\n",
       "</div>"
      ],
      "text/plain": [
       "employer_region    Island  Midwest  Northeast  Other  South   West\n",
       "case_status                                                       \n",
       "Certified             300    25579      43313    706  48697  59405\n",
       "Certified-Expired     185    19959      35655    663  39108  49296\n",
       "Denied                149     3312       5956    188   8920   6544\n",
       "Withdrawn              29     2677       4102     83   5273   5528"
      ]
     },
     "execution_count": 125,
     "metadata": {},
     "output_type": "execute_result"
    }
   ],
   "source": [
    "pd.crosstab(data.case_status,data.employer_region)"
   ]
  },
  {
   "cell_type": "code",
   "execution_count": 126,
   "metadata": {},
   "outputs": [
    {
     "data": {
      "text/html": [
       "<div>\n",
       "<style scoped>\n",
       "    .dataframe tbody tr th:only-of-type {\n",
       "        vertical-align: middle;\n",
       "    }\n",
       "\n",
       "    .dataframe tbody tr th {\n",
       "        vertical-align: top;\n",
       "    }\n",
       "\n",
       "    .dataframe thead th {\n",
       "        text-align: right;\n",
       "    }\n",
       "</style>\n",
       "<table border=\"1\" class=\"dataframe\">\n",
       "  <thead>\n",
       "    <tr style=\"text-align: right;\">\n",
       "      <th>job_experience</th>\n",
       "      <th>N</th>\n",
       "      <th>Y</th>\n",
       "      <th>not relavant experience</th>\n",
       "    </tr>\n",
       "    <tr>\n",
       "      <th>case_status</th>\n",
       "      <th></th>\n",
       "      <th></th>\n",
       "      <th></th>\n",
       "    </tr>\n",
       "  </thead>\n",
       "  <tbody>\n",
       "    <tr>\n",
       "      <th>Certified</th>\n",
       "      <td>51676</td>\n",
       "      <td>65359</td>\n",
       "      <td>60965</td>\n",
       "    </tr>\n",
       "    <tr>\n",
       "      <th>Certified-Expired</th>\n",
       "      <td>38715</td>\n",
       "      <td>53134</td>\n",
       "      <td>53017</td>\n",
       "    </tr>\n",
       "    <tr>\n",
       "      <th>Denied</th>\n",
       "      <td>6312</td>\n",
       "      <td>5881</td>\n",
       "      <td>12876</td>\n",
       "    </tr>\n",
       "    <tr>\n",
       "      <th>Withdrawn</th>\n",
       "      <td>5089</td>\n",
       "      <td>4180</td>\n",
       "      <td>8423</td>\n",
       "    </tr>\n",
       "  </tbody>\n",
       "</table>\n",
       "</div>"
      ],
      "text/plain": [
       "job_experience         N      Y  not relavant experience\n",
       "case_status                                             \n",
       "Certified          51676  65359                    60965\n",
       "Certified-Expired  38715  53134                    53017\n",
       "Denied              6312   5881                    12876\n",
       "Withdrawn           5089   4180                     8423"
      ]
     },
     "execution_count": 126,
     "metadata": {},
     "output_type": "execute_result"
    }
   ],
   "source": [
    "pd.crosstab(data.case_status,data.job_experience)"
   ]
  },
  {
   "cell_type": "code",
   "execution_count": 127,
   "metadata": {},
   "outputs": [
    {
     "data": {
      "text/html": [
       "<div>\n",
       "<style scoped>\n",
       "    .dataframe tbody tr th:only-of-type {\n",
       "        vertical-align: middle;\n",
       "    }\n",
       "\n",
       "    .dataframe tbody tr th {\n",
       "        vertical-align: top;\n",
       "    }\n",
       "\n",
       "    .dataframe thead th {\n",
       "        text-align: right;\n",
       "    }\n",
       "</style>\n",
       "<table border=\"1\" class=\"dataframe\">\n",
       "  <thead>\n",
       "    <tr style=\"text-align: right;\">\n",
       "      <th>job_training</th>\n",
       "      <th>N</th>\n",
       "      <th>Y</th>\n",
       "      <th>non relavant training</th>\n",
       "    </tr>\n",
       "    <tr>\n",
       "      <th>case_status</th>\n",
       "      <th></th>\n",
       "      <th></th>\n",
       "      <th></th>\n",
       "    </tr>\n",
       "  </thead>\n",
       "  <tbody>\n",
       "    <tr>\n",
       "      <th>Certified</th>\n",
       "      <td>115231</td>\n",
       "      <td>1804</td>\n",
       "      <td>60965</td>\n",
       "    </tr>\n",
       "    <tr>\n",
       "      <th>Certified-Expired</th>\n",
       "      <td>90124</td>\n",
       "      <td>1726</td>\n",
       "      <td>53016</td>\n",
       "    </tr>\n",
       "    <tr>\n",
       "      <th>Denied</th>\n",
       "      <td>11581</td>\n",
       "      <td>608</td>\n",
       "      <td>12880</td>\n",
       "    </tr>\n",
       "    <tr>\n",
       "      <th>Withdrawn</th>\n",
       "      <td>9085</td>\n",
       "      <td>184</td>\n",
       "      <td>8423</td>\n",
       "    </tr>\n",
       "  </tbody>\n",
       "</table>\n",
       "</div>"
      ],
      "text/plain": [
       "job_training            N     Y  non relavant training\n",
       "case_status                                           \n",
       "Certified          115231  1804                  60965\n",
       "Certified-Expired   90124  1726                  53016\n",
       "Denied              11581   608                  12880\n",
       "Withdrawn            9085   184                   8423"
      ]
     },
     "execution_count": 127,
     "metadata": {},
     "output_type": "execute_result"
    }
   ],
   "source": [
    "pd.crosstab(data.case_status,data.job_training)"
   ]
  },
  {
   "cell_type": "code",
   "execution_count": 128,
   "metadata": {},
   "outputs": [
    {
     "data": {
      "text/html": [
       "<div>\n",
       "<style scoped>\n",
       "    .dataframe tbody tr th:only-of-type {\n",
       "        vertical-align: middle;\n",
       "    }\n",
       "\n",
       "    .dataframe tbody tr th {\n",
       "        vertical-align: top;\n",
       "    }\n",
       "\n",
       "    .dataframe thead th {\n",
       "        text-align: right;\n",
       "    }\n",
       "</style>\n",
       "<table border=\"1\" class=\"dataframe\">\n",
       "  <thead>\n",
       "    <tr style=\"text-align: right;\">\n",
       "      <th>job_work_state</th>\n",
       "      <th>Island</th>\n",
       "      <th>Midwest</th>\n",
       "      <th>Northeast</th>\n",
       "      <th>Other</th>\n",
       "      <th>South</th>\n",
       "      <th>West</th>\n",
       "    </tr>\n",
       "    <tr>\n",
       "      <th>case_status</th>\n",
       "      <th></th>\n",
       "      <th></th>\n",
       "      <th></th>\n",
       "      <th></th>\n",
       "      <th></th>\n",
       "      <th></th>\n",
       "    </tr>\n",
       "  </thead>\n",
       "  <tbody>\n",
       "    <tr>\n",
       "      <th>Certified</th>\n",
       "      <td>313</td>\n",
       "      <td>25047</td>\n",
       "      <td>41959</td>\n",
       "      <td>828</td>\n",
       "      <td>51066</td>\n",
       "      <td>58787</td>\n",
       "    </tr>\n",
       "    <tr>\n",
       "      <th>Certified-Expired</th>\n",
       "      <td>206</td>\n",
       "      <td>19820</td>\n",
       "      <td>34831</td>\n",
       "      <td>720</td>\n",
       "      <td>40847</td>\n",
       "      <td>48442</td>\n",
       "    </tr>\n",
       "    <tr>\n",
       "      <th>Denied</th>\n",
       "      <td>151</td>\n",
       "      <td>3269</td>\n",
       "      <td>6142</td>\n",
       "      <td>204</td>\n",
       "      <td>8329</td>\n",
       "      <td>6974</td>\n",
       "    </tr>\n",
       "    <tr>\n",
       "      <th>Withdrawn</th>\n",
       "      <td>29</td>\n",
       "      <td>2549</td>\n",
       "      <td>4147</td>\n",
       "      <td>85</td>\n",
       "      <td>5391</td>\n",
       "      <td>5491</td>\n",
       "    </tr>\n",
       "  </tbody>\n",
       "</table>\n",
       "</div>"
      ],
      "text/plain": [
       "job_work_state     Island  Midwest  Northeast  Other  South   West\n",
       "case_status                                                       \n",
       "Certified             313    25047      41959    828  51066  58787\n",
       "Certified-Expired     206    19820      34831    720  40847  48442\n",
       "Denied                151     3269       6142    204   8329   6974\n",
       "Withdrawn              29     2549       4147     85   5391   5491"
      ]
     },
     "execution_count": 128,
     "metadata": {},
     "output_type": "execute_result"
    }
   ],
   "source": [
    "pd.crosstab(data.case_status,data.job_work_state)"
   ]
  },
  {
   "cell_type": "code",
   "execution_count": 129,
   "metadata": {},
   "outputs": [
    {
     "data": {
      "text/html": [
       "<div>\n",
       "<style scoped>\n",
       "    .dataframe tbody tr th:only-of-type {\n",
       "        vertical-align: middle;\n",
       "    }\n",
       "\n",
       "    .dataframe tbody tr th {\n",
       "        vertical-align: top;\n",
       "    }\n",
       "\n",
       "    .dataframe thead th {\n",
       "        text-align: right;\n",
       "    }\n",
       "</style>\n",
       "<table border=\"1\" class=\"dataframe\">\n",
       "  <thead>\n",
       "    <tr style=\"text-align: right;\">\n",
       "      <th>sector</th>\n",
       "      <th>Advanced Mfg</th>\n",
       "      <th>Aerospace</th>\n",
       "      <th>Agribusiness</th>\n",
       "      <th>Automotive</th>\n",
       "      <th>Biotechnology</th>\n",
       "      <th>Construction</th>\n",
       "      <th>Educational Services</th>\n",
       "      <th>Energy</th>\n",
       "      <th>Finance</th>\n",
       "      <th>Geospatial</th>\n",
       "      <th>Health Care</th>\n",
       "      <th>Homeland Security</th>\n",
       "      <th>Hospitality</th>\n",
       "      <th>IT</th>\n",
       "      <th>Other Economic Sector</th>\n",
       "      <th>Retail</th>\n",
       "      <th>Transportation</th>\n",
       "      <th>Unavailable</th>\n",
       "    </tr>\n",
       "    <tr>\n",
       "      <th>case_status</th>\n",
       "      <th></th>\n",
       "      <th></th>\n",
       "      <th></th>\n",
       "      <th></th>\n",
       "      <th></th>\n",
       "      <th></th>\n",
       "      <th></th>\n",
       "      <th></th>\n",
       "      <th></th>\n",
       "      <th></th>\n",
       "      <th></th>\n",
       "      <th></th>\n",
       "      <th></th>\n",
       "      <th></th>\n",
       "      <th></th>\n",
       "      <th></th>\n",
       "      <th></th>\n",
       "      <th></th>\n",
       "    </tr>\n",
       "  </thead>\n",
       "  <tbody>\n",
       "    <tr>\n",
       "      <th>Certified</th>\n",
       "      <td>9091</td>\n",
       "      <td>1945</td>\n",
       "      <td>317</td>\n",
       "      <td>459</td>\n",
       "      <td>215</td>\n",
       "      <td>476</td>\n",
       "      <td>4031</td>\n",
       "      <td>536</td>\n",
       "      <td>4494</td>\n",
       "      <td>72</td>\n",
       "      <td>3281</td>\n",
       "      <td>28</td>\n",
       "      <td>637</td>\n",
       "      <td>23840</td>\n",
       "      <td>6939</td>\n",
       "      <td>2254</td>\n",
       "      <td>429</td>\n",
       "      <td>118956</td>\n",
       "    </tr>\n",
       "    <tr>\n",
       "      <th>Certified-Expired</th>\n",
       "      <td>7414</td>\n",
       "      <td>1729</td>\n",
       "      <td>225</td>\n",
       "      <td>474</td>\n",
       "      <td>209</td>\n",
       "      <td>475</td>\n",
       "      <td>3593</td>\n",
       "      <td>441</td>\n",
       "      <td>3795</td>\n",
       "      <td>57</td>\n",
       "      <td>2561</td>\n",
       "      <td>36</td>\n",
       "      <td>555</td>\n",
       "      <td>21436</td>\n",
       "      <td>6126</td>\n",
       "      <td>1645</td>\n",
       "      <td>368</td>\n",
       "      <td>93727</td>\n",
       "    </tr>\n",
       "    <tr>\n",
       "      <th>Denied</th>\n",
       "      <td>1096</td>\n",
       "      <td>243</td>\n",
       "      <td>242</td>\n",
       "      <td>151</td>\n",
       "      <td>12</td>\n",
       "      <td>364</td>\n",
       "      <td>937</td>\n",
       "      <td>44</td>\n",
       "      <td>397</td>\n",
       "      <td>8</td>\n",
       "      <td>565</td>\n",
       "      <td>14</td>\n",
       "      <td>575</td>\n",
       "      <td>4035</td>\n",
       "      <td>1597</td>\n",
       "      <td>309</td>\n",
       "      <td>96</td>\n",
       "      <td>14384</td>\n",
       "    </tr>\n",
       "    <tr>\n",
       "      <th>Withdrawn</th>\n",
       "      <td>1148</td>\n",
       "      <td>249</td>\n",
       "      <td>155</td>\n",
       "      <td>79</td>\n",
       "      <td>20</td>\n",
       "      <td>94</td>\n",
       "      <td>569</td>\n",
       "      <td>65</td>\n",
       "      <td>538</td>\n",
       "      <td>4</td>\n",
       "      <td>418</td>\n",
       "      <td>4</td>\n",
       "      <td>159</td>\n",
       "      <td>3306</td>\n",
       "      <td>1136</td>\n",
       "      <td>200</td>\n",
       "      <td>56</td>\n",
       "      <td>9492</td>\n",
       "    </tr>\n",
       "  </tbody>\n",
       "</table>\n",
       "</div>"
      ],
      "text/plain": [
       "sector             Advanced Mfg  Aerospace  Agribusiness  Automotive  \\\n",
       "case_status                                                            \n",
       "Certified                  9091       1945           317         459   \n",
       "Certified-Expired          7414       1729           225         474   \n",
       "Denied                     1096        243           242         151   \n",
       "Withdrawn                  1148        249           155          79   \n",
       "\n",
       "sector             Biotechnology  Construction  Educational Services  Energy  \\\n",
       "case_status                                                                    \n",
       "Certified                    215           476                  4031     536   \n",
       "Certified-Expired            209           475                  3593     441   \n",
       "Denied                        12           364                   937      44   \n",
       "Withdrawn                     20            94                   569      65   \n",
       "\n",
       "sector             Finance  Geospatial  Health Care  Homeland Security  \\\n",
       "case_status                                                              \n",
       "Certified             4494          72         3281                 28   \n",
       "Certified-Expired     3795          57         2561                 36   \n",
       "Denied                 397           8          565                 14   \n",
       "Withdrawn              538           4          418                  4   \n",
       "\n",
       "sector             Hospitality     IT  Other Economic Sector  Retail  \\\n",
       "case_status                                                            \n",
       "Certified                  637  23840                   6939    2254   \n",
       "Certified-Expired          555  21436                   6126    1645   \n",
       "Denied                     575   4035                   1597     309   \n",
       "Withdrawn                  159   3306                   1136     200   \n",
       "\n",
       "sector             Transportation  Unavailable  \n",
       "case_status                                     \n",
       "Certified                     429       118956  \n",
       "Certified-Expired             368        93727  \n",
       "Denied                         96        14384  \n",
       "Withdrawn                      56         9492  "
      ]
     },
     "execution_count": 129,
     "metadata": {},
     "output_type": "execute_result"
    }
   ],
   "source": [
    "pd.crosstab(data.case_status,data.sector)"
   ]
  },
  {
   "cell_type": "code",
   "execution_count": 130,
   "metadata": {},
   "outputs": [
    {
     "data": {
      "text/html": [
       "<div>\n",
       "<style scoped>\n",
       "    .dataframe tbody tr th:only-of-type {\n",
       "        vertical-align: middle;\n",
       "    }\n",
       "\n",
       "    .dataframe tbody tr th {\n",
       "        vertical-align: top;\n",
       "    }\n",
       "\n",
       "    .dataframe thead th {\n",
       "        text-align: right;\n",
       "    }\n",
       "</style>\n",
       "<table border=\"1\" class=\"dataframe\">\n",
       "  <thead>\n",
       "    <tr style=\"text-align: right;\">\n",
       "      <th>source_name</th>\n",
       "      <th>CBA</th>\n",
       "      <th>DBA</th>\n",
       "      <th>Employer Conducted</th>\n",
       "      <th>OES</th>\n",
       "      <th>Other</th>\n",
       "      <th>SCA</th>\n",
       "    </tr>\n",
       "    <tr>\n",
       "      <th>case_status</th>\n",
       "      <th></th>\n",
       "      <th></th>\n",
       "      <th></th>\n",
       "      <th></th>\n",
       "      <th></th>\n",
       "      <th></th>\n",
       "    </tr>\n",
       "  </thead>\n",
       "  <tbody>\n",
       "    <tr>\n",
       "      <th>Certified</th>\n",
       "      <td>1472</td>\n",
       "      <td>0</td>\n",
       "      <td>117</td>\n",
       "      <td>163531</td>\n",
       "      <td>12866</td>\n",
       "      <td>14</td>\n",
       "    </tr>\n",
       "    <tr>\n",
       "      <th>Certified-Expired</th>\n",
       "      <td>1285</td>\n",
       "      <td>0</td>\n",
       "      <td>94</td>\n",
       "      <td>133152</td>\n",
       "      <td>10327</td>\n",
       "      <td>8</td>\n",
       "    </tr>\n",
       "    <tr>\n",
       "      <th>Denied</th>\n",
       "      <td>629</td>\n",
       "      <td>24</td>\n",
       "      <td>296</td>\n",
       "      <td>22846</td>\n",
       "      <td>1229</td>\n",
       "      <td>45</td>\n",
       "    </tr>\n",
       "    <tr>\n",
       "      <th>Withdrawn</th>\n",
       "      <td>198</td>\n",
       "      <td>0</td>\n",
       "      <td>26</td>\n",
       "      <td>16403</td>\n",
       "      <td>1057</td>\n",
       "      <td>8</td>\n",
       "    </tr>\n",
       "  </tbody>\n",
       "</table>\n",
       "</div>"
      ],
      "text/plain": [
       "source_name         CBA  DBA  Employer Conducted     OES  Other  SCA\n",
       "case_status                                                         \n",
       "Certified          1472    0                 117  163531  12866   14\n",
       "Certified-Expired  1285    0                  94  133152  10327    8\n",
       "Denied              629   24                 296   22846   1229   45\n",
       "Withdrawn           198    0                  26   16403   1057    8"
      ]
     },
     "execution_count": 130,
     "metadata": {},
     "output_type": "execute_result"
    }
   ],
   "source": [
    "pd.crosstab(data.case_status,data.source_name)"
   ]
  },
  {
   "cell_type": "code",
   "execution_count": 131,
   "metadata": {},
   "outputs": [
    {
     "data": {
      "text/plain": [
       "(365627, 30)"
      ]
     },
     "execution_count": 131,
     "metadata": {},
     "output_type": "execute_result"
    }
   ],
   "source": [
    "data.shape"
   ]
  },
  {
   "cell_type": "markdown",
   "metadata": {},
   "source": [
    "### Exporting Clean Data"
   ]
  },
  {
   "cell_type": "code",
   "execution_count": 132,
   "metadata": {},
   "outputs": [
    {
     "data": {
      "text/plain": [
       "71709"
      ]
     },
     "execution_count": 132,
     "metadata": {},
     "output_type": "execute_result"
    }
   ],
   "source": [
    "data.employer_name.nunique()"
   ]
  },
  {
   "cell_type": "code",
   "execution_count": 133,
   "metadata": {},
   "outputs": [],
   "source": [
    "data.drop(['country_of_citizenship','employer_name'],axis=1,inplace=True)"
   ]
  },
  {
   "cell_type": "code",
   "execution_count": 134,
   "metadata": {},
   "outputs": [
    {
     "data": {
      "text/html": [
       "<div>\n",
       "<style scoped>\n",
       "    .dataframe tbody tr th:only-of-type {\n",
       "        vertical-align: middle;\n",
       "    }\n",
       "\n",
       "    .dataframe tbody tr th {\n",
       "        vertical-align: top;\n",
       "    }\n",
       "\n",
       "    .dataframe thead th {\n",
       "        text-align: right;\n",
       "    }\n",
       "</style>\n",
       "<table border=\"1\" class=\"dataframe\">\n",
       "  <thead>\n",
       "    <tr style=\"text-align: right;\">\n",
       "      <th></th>\n",
       "      <th>agent_state</th>\n",
       "      <th>application_type</th>\n",
       "      <th>case_no</th>\n",
       "      <th>case_received_date</th>\n",
       "      <th>case_status</th>\n",
       "      <th>class_of_admission</th>\n",
       "      <th>decision_date</th>\n",
       "      <th>employer_yr_estab</th>\n",
       "      <th>employer_state</th>\n",
       "      <th>foreign_worker_info_education</th>\n",
       "      <th>foreign_worker_info_major</th>\n",
       "      <th>job_experience</th>\n",
       "      <th>job_title</th>\n",
       "      <th>job_training</th>\n",
       "      <th>job_work_state</th>\n",
       "      <th>pv_unit_of_pay_9089</th>\n",
       "      <th>previous_salary</th>\n",
       "      <th>level</th>\n",
       "      <th>source_name</th>\n",
       "      <th>sector</th>\n",
       "      <th>wage_offer</th>\n",
       "      <th>wage_unit_of_pay</th>\n",
       "      <th>case_received_date_year</th>\n",
       "      <th>decision_date_year</th>\n",
       "      <th>Received_Year</th>\n",
       "      <th>meansal</th>\n",
       "      <th>employer_region</th>\n",
       "      <th>Enterprise_Size</th>\n",
       "    </tr>\n",
       "  </thead>\n",
       "  <tbody>\n",
       "    <tr>\n",
       "      <th>0</th>\n",
       "      <td>NaN</td>\n",
       "      <td>PERM</td>\n",
       "      <td>A-07323-97014</td>\n",
       "      <td>NaT</td>\n",
       "      <td>Certified</td>\n",
       "      <td>J</td>\n",
       "      <td>2012-02-01</td>\n",
       "      <td>Unavailable</td>\n",
       "      <td>NY</td>\n",
       "      <td>Bachelor's</td>\n",
       "      <td>NaN</td>\n",
       "      <td>not relavant experience</td>\n",
       "      <td>NaN</td>\n",
       "      <td>non relavant training</td>\n",
       "      <td>Northeast</td>\n",
       "      <td>Year</td>\n",
       "      <td>75629.0</td>\n",
       "      <td>Level II</td>\n",
       "      <td>OES</td>\n",
       "      <td>IT</td>\n",
       "      <td>75629.00</td>\n",
       "      <td>Year</td>\n",
       "      <td>2007</td>\n",
       "      <td>2012</td>\n",
       "      <td>2007</td>\n",
       "      <td>75629.000</td>\n",
       "      <td>Northeast</td>\n",
       "      <td>Unvailable</td>\n",
       "    </tr>\n",
       "    <tr>\n",
       "      <th>1</th>\n",
       "      <td>NaN</td>\n",
       "      <td>PERM</td>\n",
       "      <td>A-07332-99439</td>\n",
       "      <td>NaT</td>\n",
       "      <td>Denied</td>\n",
       "      <td>B</td>\n",
       "      <td>2011-12-21</td>\n",
       "      <td>Unavailable</td>\n",
       "      <td>NY</td>\n",
       "      <td>Bachelor's</td>\n",
       "      <td>NaN</td>\n",
       "      <td>not relavant experience</td>\n",
       "      <td>NaN</td>\n",
       "      <td>non relavant training</td>\n",
       "      <td>Northeast</td>\n",
       "      <td>Year</td>\n",
       "      <td>37024.0</td>\n",
       "      <td>Level I</td>\n",
       "      <td>OES</td>\n",
       "      <td>Other Economic Sector</td>\n",
       "      <td>37024.00</td>\n",
       "      <td>Year</td>\n",
       "      <td>2007</td>\n",
       "      <td>2011</td>\n",
       "      <td>2007</td>\n",
       "      <td>37024.000</td>\n",
       "      <td>Northeast</td>\n",
       "      <td>Unvailable</td>\n",
       "    </tr>\n",
       "    <tr>\n",
       "      <th>2</th>\n",
       "      <td>NaN</td>\n",
       "      <td>PERM</td>\n",
       "      <td>A-07333-99643</td>\n",
       "      <td>NaT</td>\n",
       "      <td>Certified</td>\n",
       "      <td>H-1B</td>\n",
       "      <td>2011-12-01</td>\n",
       "      <td>Unavailable</td>\n",
       "      <td>VA</td>\n",
       "      <td>Bachelor's</td>\n",
       "      <td>NaN</td>\n",
       "      <td>not relavant experience</td>\n",
       "      <td>NaN</td>\n",
       "      <td>non relavant training</td>\n",
       "      <td>South</td>\n",
       "      <td>Year</td>\n",
       "      <td>47923.0</td>\n",
       "      <td>Level I</td>\n",
       "      <td>OES</td>\n",
       "      <td>Aerospace</td>\n",
       "      <td>47923.00</td>\n",
       "      <td>Year</td>\n",
       "      <td>2007</td>\n",
       "      <td>2011</td>\n",
       "      <td>2007</td>\n",
       "      <td>47923.000</td>\n",
       "      <td>South</td>\n",
       "      <td>Unvailable</td>\n",
       "    </tr>\n",
       "    <tr>\n",
       "      <th>3</th>\n",
       "      <td>NaN</td>\n",
       "      <td>PERM</td>\n",
       "      <td>A-07339-01930</td>\n",
       "      <td>NaT</td>\n",
       "      <td>Certified</td>\n",
       "      <td>B</td>\n",
       "      <td>2011-12-01</td>\n",
       "      <td>Unavailable</td>\n",
       "      <td>NY</td>\n",
       "      <td>Bachelor's</td>\n",
       "      <td>NaN</td>\n",
       "      <td>not relavant experience</td>\n",
       "      <td>NaN</td>\n",
       "      <td>non relavant training</td>\n",
       "      <td>Northeast</td>\n",
       "      <td>Year</td>\n",
       "      <td>21940.0</td>\n",
       "      <td>Level II</td>\n",
       "      <td>OES</td>\n",
       "      <td>Other Economic Sector</td>\n",
       "      <td>10.97</td>\n",
       "      <td>Hour</td>\n",
       "      <td>2007</td>\n",
       "      <td>2011</td>\n",
       "      <td>2007</td>\n",
       "      <td>10975.485</td>\n",
       "      <td>Northeast</td>\n",
       "      <td>Unvailable</td>\n",
       "    </tr>\n",
       "    <tr>\n",
       "      <th>4</th>\n",
       "      <td>NaN</td>\n",
       "      <td>PERM</td>\n",
       "      <td>A-07345-03565</td>\n",
       "      <td>NaT</td>\n",
       "      <td>Certified</td>\n",
       "      <td>L</td>\n",
       "      <td>2012-01-26</td>\n",
       "      <td>Unavailable</td>\n",
       "      <td>NY</td>\n",
       "      <td>Bachelor's</td>\n",
       "      <td>NaN</td>\n",
       "      <td>not relavant experience</td>\n",
       "      <td>NaN</td>\n",
       "      <td>non relavant training</td>\n",
       "      <td>Northeast</td>\n",
       "      <td>Year</td>\n",
       "      <td>94890.0</td>\n",
       "      <td>Level IV</td>\n",
       "      <td>OES</td>\n",
       "      <td>Advanced Mfg</td>\n",
       "      <td>100000.00</td>\n",
       "      <td>Year</td>\n",
       "      <td>2007</td>\n",
       "      <td>2012</td>\n",
       "      <td>2007</td>\n",
       "      <td>97445.000</td>\n",
       "      <td>Northeast</td>\n",
       "      <td>Unvailable</td>\n",
       "    </tr>\n",
       "  </tbody>\n",
       "</table>\n",
       "</div>"
      ],
      "text/plain": [
       "  agent_state application_type        case_no case_received_date case_status  \\\n",
       "0         NaN             PERM  A-07323-97014                NaT   Certified   \n",
       "1         NaN             PERM  A-07332-99439                NaT      Denied   \n",
       "2         NaN             PERM  A-07333-99643                NaT   Certified   \n",
       "3         NaN             PERM  A-07339-01930                NaT   Certified   \n",
       "4         NaN             PERM  A-07345-03565                NaT   Certified   \n",
       "\n",
       "  class_of_admission decision_date employer_yr_estab employer_state  \\\n",
       "0                  J    2012-02-01       Unavailable             NY   \n",
       "1                  B    2011-12-21       Unavailable             NY   \n",
       "2               H-1B    2011-12-01       Unavailable             VA   \n",
       "3                  B    2011-12-01       Unavailable             NY   \n",
       "4                  L    2012-01-26       Unavailable             NY   \n",
       "\n",
       "  foreign_worker_info_education foreign_worker_info_major  \\\n",
       "0                    Bachelor's                       NaN   \n",
       "1                    Bachelor's                       NaN   \n",
       "2                    Bachelor's                       NaN   \n",
       "3                    Bachelor's                       NaN   \n",
       "4                    Bachelor's                       NaN   \n",
       "\n",
       "            job_experience job_title           job_training job_work_state  \\\n",
       "0  not relavant experience       NaN  non relavant training      Northeast   \n",
       "1  not relavant experience       NaN  non relavant training      Northeast   \n",
       "2  not relavant experience       NaN  non relavant training          South   \n",
       "3  not relavant experience       NaN  non relavant training      Northeast   \n",
       "4  not relavant experience       NaN  non relavant training      Northeast   \n",
       "\n",
       "  pv_unit_of_pay_9089  previous_salary     level source_name  \\\n",
       "0                Year          75629.0  Level II         OES   \n",
       "1                Year          37024.0   Level I         OES   \n",
       "2                Year          47923.0   Level I         OES   \n",
       "3                Year          21940.0  Level II         OES   \n",
       "4                Year          94890.0  Level IV         OES   \n",
       "\n",
       "                  sector  wage_offer wage_unit_of_pay  \\\n",
       "0                     IT    75629.00             Year   \n",
       "1  Other Economic Sector    37024.00             Year   \n",
       "2              Aerospace    47923.00             Year   \n",
       "3  Other Economic Sector       10.97             Hour   \n",
       "4           Advanced Mfg   100000.00             Year   \n",
       "\n",
       "   case_received_date_year  decision_date_year Received_Year    meansal  \\\n",
       "0                     2007                2012          2007  75629.000   \n",
       "1                     2007                2011          2007  37024.000   \n",
       "2                     2007                2011          2007  47923.000   \n",
       "3                     2007                2011          2007  10975.485   \n",
       "4                     2007                2012          2007  97445.000   \n",
       "\n",
       "  employer_region Enterprise_Size  \n",
       "0       Northeast      Unvailable  \n",
       "1       Northeast      Unvailable  \n",
       "2           South      Unvailable  \n",
       "3       Northeast      Unvailable  \n",
       "4       Northeast      Unvailable  "
      ]
     },
     "execution_count": 134,
     "metadata": {},
     "output_type": "execute_result"
    }
   ],
   "source": [
    "data.head()"
   ]
  },
  {
   "cell_type": "code",
   "execution_count": 135,
   "metadata": {},
   "outputs": [
    {
     "name": "stdout",
     "output_type": "stream",
     "text": [
      "<class 'pandas.core.frame.DataFrame'>\n",
      "Int64Index: 365627 entries, 0 to 374361\n",
      "Data columns (total 28 columns):\n",
      "agent_state                      204470 non-null object\n",
      "application_type                 365627 non-null object\n",
      "case_no                          135269 non-null object\n",
      "case_received_date               230356 non-null datetime64[ns]\n",
      "case_status                      365627 non-null object\n",
      "class_of_admission               365627 non-null object\n",
      "decision_date                    365627 non-null datetime64[ns]\n",
      "employer_yr_estab                365627 non-null object\n",
      "employer_state                   365627 non-null object\n",
      "foreign_worker_info_education    365627 non-null object\n",
      "foreign_worker_info_major        213965 non-null object\n",
      "job_experience                   365627 non-null object\n",
      "job_title                        230314 non-null object\n",
      "job_training                     365627 non-null object\n",
      "job_work_state                   365627 non-null object\n",
      "pv_unit_of_pay_9089              365627 non-null object\n",
      "previous_salary                  365627 non-null float64\n",
      "level                            365627 non-null object\n",
      "source_name                      365627 non-null object\n",
      "sector                           365627 non-null object\n",
      "wage_offer                       365627 non-null float64\n",
      "wage_unit_of_pay                 249938 non-null object\n",
      "case_received_date_year          365627 non-null int32\n",
      "decision_date_year               365627 non-null int32\n",
      "Received_Year                    365627 non-null object\n",
      "meansal                          365627 non-null float64\n",
      "employer_region                  365627 non-null object\n",
      "Enterprise_Size                  365627 non-null object\n",
      "dtypes: datetime64[ns](2), float64(3), int32(2), object(21)\n",
      "memory usage: 88.1+ MB\n"
     ]
    }
   ],
   "source": [
    "data.info()"
   ]
  },
  {
   "cell_type": "markdown",
   "metadata": {},
   "source": [
    "### Data Preprocessing:-"
   ]
  },
  {
   "cell_type": "code",
   "execution_count": 136,
   "metadata": {},
   "outputs": [
    {
     "data": {
      "text/plain": [
       "agent_state                  161157\n",
       "case_no                      230358\n",
       "case_received_date           135271\n",
       "foreign_worker_info_major    151662\n",
       "job_title                    135313\n",
       "wage_unit_of_pay             115689\n",
       "dtype: int64"
      ]
     },
     "execution_count": 136,
     "metadata": {},
     "output_type": "execute_result"
    }
   ],
   "source": [
    "data.isnull().sum()[data.isnull().sum()!=0]"
   ]
  },
  {
   "cell_type": "code",
   "execution_count": 137,
   "metadata": {},
   "outputs": [
    {
     "data": {
      "text/plain": [
       "Index(['agent_state', 'application_type', 'case_no', 'case_received_date',\n",
       "       'case_status', 'class_of_admission', 'decision_date',\n",
       "       'employer_yr_estab', 'employer_state', 'foreign_worker_info_education',\n",
       "       'foreign_worker_info_major', 'job_experience', 'job_title',\n",
       "       'job_training', 'job_work_state', 'pv_unit_of_pay_9089',\n",
       "       'previous_salary', 'level', 'source_name', 'sector', 'wage_offer',\n",
       "       'wage_unit_of_pay', 'case_received_date_year', 'decision_date_year',\n",
       "       'Received_Year', 'meansal', 'employer_region', 'Enterprise_Size'],\n",
       "      dtype='object')"
      ]
     },
     "execution_count": 137,
     "metadata": {},
     "output_type": "execute_result"
    }
   ],
   "source": [
    "data.columns"
   ]
  },
  {
   "cell_type": "code",
   "execution_count": 138,
   "metadata": {},
   "outputs": [],
   "source": [
    "data.drop(columns=['agent_state','case_no','case_received_date','foreign_worker_info_major','job_title','wage_unit_of_pay'],inplace=True)"
   ]
  },
  {
   "cell_type": "code",
   "execution_count": 139,
   "metadata": {},
   "outputs": [
    {
     "data": {
      "text/plain": [
       "(365627, 22)"
      ]
     },
     "execution_count": 139,
     "metadata": {},
     "output_type": "execute_result"
    }
   ],
   "source": [
    "data.shape"
   ]
  },
  {
   "cell_type": "code",
   "execution_count": 140,
   "metadata": {},
   "outputs": [],
   "source": [
    "\n",
    "\n",
    "#data.drop('foreign_worker_info_major',axis=1,inplace=True)\n",
    "data.drop('employer_state',axis=1,inplace=True)\n",
    "\n",
    "data.drop(['Received_Year','decision_date'],axis=1,inplace=True)\n",
    "#data.drop('agent_state',axis=1,inplace=True)\n",
    "#data.drop(['case_no','previous_salary','wage_offer'],axis=1,inplace=True)\n",
    "#data.drop('job_title',axis=1,inplace=True)\n",
    "#data.drop('wage_unit_of_pay',axis=1,inplace=True)"
   ]
  },
  {
   "cell_type": "code",
   "execution_count": 141,
   "metadata": {},
   "outputs": [
    {
     "data": {
      "text/plain": [
       "Index(['application_type', 'case_status', 'class_of_admission',\n",
       "       'employer_yr_estab', 'foreign_worker_info_education', 'job_experience',\n",
       "       'job_training', 'job_work_state', 'pv_unit_of_pay_9089',\n",
       "       'previous_salary', 'level', 'source_name', 'sector', 'wage_offer',\n",
       "       'case_received_date_year', 'decision_date_year', 'meansal',\n",
       "       'employer_region', 'Enterprise_Size'],\n",
       "      dtype='object')"
      ]
     },
     "execution_count": 141,
     "metadata": {},
     "output_type": "execute_result"
    }
   ],
   "source": [
    "data.columns"
   ]
  },
  {
   "cell_type": "markdown",
   "metadata": {},
   "source": [
    "### Base Model"
   ]
  },
  {
   "cell_type": "code",
   "execution_count": 142,
   "metadata": {},
   "outputs": [],
   "source": [
    "from sklearn.preprocessing import StandardScaler\n",
    "from sklearn.model_selection import train_test_split\n",
    "sc=StandardScaler()"
   ]
  },
  {
   "cell_type": "code",
   "execution_count": 143,
   "metadata": {},
   "outputs": [],
   "source": [
    "def target(x):\n",
    "    if x==\"Certified\":\n",
    "        return 0\n",
    "    elif x==\"Certified-Expired\":\n",
    "        return 1\n",
    "    elif x=='Denied':\n",
    "        return 2\n",
    "    else:\n",
    "        return 3\n",
    "data.case_status=data.case_status.apply(target)"
   ]
  },
  {
   "cell_type": "code",
   "execution_count": 144,
   "metadata": {},
   "outputs": [],
   "source": [
    "dummy=pd.get_dummies(data)"
   ]
  },
  {
   "cell_type": "code",
   "execution_count": 145,
   "metadata": {},
   "outputs": [
    {
     "data": {
      "text/html": [
       "<div>\n",
       "<style scoped>\n",
       "    .dataframe tbody tr th:only-of-type {\n",
       "        vertical-align: middle;\n",
       "    }\n",
       "\n",
       "    .dataframe tbody tr th {\n",
       "        vertical-align: top;\n",
       "    }\n",
       "\n",
       "    .dataframe thead th {\n",
       "        text-align: right;\n",
       "    }\n",
       "</style>\n",
       "<table border=\"1\" class=\"dataframe\">\n",
       "  <thead>\n",
       "    <tr style=\"text-align: right;\">\n",
       "      <th></th>\n",
       "      <th>case_status</th>\n",
       "      <th>previous_salary</th>\n",
       "      <th>wage_offer</th>\n",
       "      <th>case_received_date_year</th>\n",
       "      <th>decision_date_year</th>\n",
       "      <th>meansal</th>\n",
       "      <th>application_type_MAILEDIN</th>\n",
       "      <th>application_type_ONLINE</th>\n",
       "      <th>application_type_PERM</th>\n",
       "      <th>class_of_admission_A</th>\n",
       "      <th>class_of_admission_AOS</th>\n",
       "      <th>class_of_admission_B</th>\n",
       "      <th>class_of_admission_C</th>\n",
       "      <th>class_of_admission_D-1</th>\n",
       "      <th>class_of_admission_E</th>\n",
       "      <th>class_of_admission_EWI</th>\n",
       "      <th>class_of_admission_F</th>\n",
       "      <th>class_of_admission_G</th>\n",
       "      <th>class_of_admission_H-1B</th>\n",
       "      <th>class_of_admission_I</th>\n",
       "      <th>class_of_admission_J</th>\n",
       "      <th>class_of_admission_K-1</th>\n",
       "      <th>class_of_admission_L</th>\n",
       "      <th>class_of_admission_M</th>\n",
       "      <th>class_of_admission_N</th>\n",
       "      <th>...</th>\n",
       "      <th>sector_Automotive</th>\n",
       "      <th>sector_Biotechnology</th>\n",
       "      <th>sector_Construction</th>\n",
       "      <th>sector_Educational Services</th>\n",
       "      <th>sector_Energy</th>\n",
       "      <th>sector_Finance</th>\n",
       "      <th>sector_Geospatial</th>\n",
       "      <th>sector_Health Care</th>\n",
       "      <th>sector_Homeland Security</th>\n",
       "      <th>sector_Hospitality</th>\n",
       "      <th>sector_IT</th>\n",
       "      <th>sector_Other Economic Sector</th>\n",
       "      <th>sector_Retail</th>\n",
       "      <th>sector_Transportation</th>\n",
       "      <th>sector_Unavailable</th>\n",
       "      <th>employer_region_Island</th>\n",
       "      <th>employer_region_Midwest</th>\n",
       "      <th>employer_region_Northeast</th>\n",
       "      <th>employer_region_Other</th>\n",
       "      <th>employer_region_South</th>\n",
       "      <th>employer_region_West</th>\n",
       "      <th>Enterprise_Size_Large</th>\n",
       "      <th>Enterprise_Size_Medium</th>\n",
       "      <th>Enterprise_Size_Small</th>\n",
       "      <th>Enterprise_Size_Unvailable</th>\n",
       "    </tr>\n",
       "  </thead>\n",
       "  <tbody>\n",
       "    <tr>\n",
       "      <th>0</th>\n",
       "      <td>0</td>\n",
       "      <td>75629.0</td>\n",
       "      <td>75629.00</td>\n",
       "      <td>2007</td>\n",
       "      <td>2012</td>\n",
       "      <td>75629.000</td>\n",
       "      <td>0</td>\n",
       "      <td>0</td>\n",
       "      <td>1</td>\n",
       "      <td>0</td>\n",
       "      <td>0</td>\n",
       "      <td>0</td>\n",
       "      <td>0</td>\n",
       "      <td>0</td>\n",
       "      <td>0</td>\n",
       "      <td>0</td>\n",
       "      <td>0</td>\n",
       "      <td>0</td>\n",
       "      <td>0</td>\n",
       "      <td>0</td>\n",
       "      <td>1</td>\n",
       "      <td>0</td>\n",
       "      <td>0</td>\n",
       "      <td>0</td>\n",
       "      <td>0</td>\n",
       "      <td>...</td>\n",
       "      <td>0</td>\n",
       "      <td>0</td>\n",
       "      <td>0</td>\n",
       "      <td>0</td>\n",
       "      <td>0</td>\n",
       "      <td>0</td>\n",
       "      <td>0</td>\n",
       "      <td>0</td>\n",
       "      <td>0</td>\n",
       "      <td>0</td>\n",
       "      <td>1</td>\n",
       "      <td>0</td>\n",
       "      <td>0</td>\n",
       "      <td>0</td>\n",
       "      <td>0</td>\n",
       "      <td>0</td>\n",
       "      <td>0</td>\n",
       "      <td>1</td>\n",
       "      <td>0</td>\n",
       "      <td>0</td>\n",
       "      <td>0</td>\n",
       "      <td>0</td>\n",
       "      <td>0</td>\n",
       "      <td>0</td>\n",
       "      <td>1</td>\n",
       "    </tr>\n",
       "    <tr>\n",
       "      <th>1</th>\n",
       "      <td>2</td>\n",
       "      <td>37024.0</td>\n",
       "      <td>37024.00</td>\n",
       "      <td>2007</td>\n",
       "      <td>2011</td>\n",
       "      <td>37024.000</td>\n",
       "      <td>0</td>\n",
       "      <td>0</td>\n",
       "      <td>1</td>\n",
       "      <td>0</td>\n",
       "      <td>0</td>\n",
       "      <td>1</td>\n",
       "      <td>0</td>\n",
       "      <td>0</td>\n",
       "      <td>0</td>\n",
       "      <td>0</td>\n",
       "      <td>0</td>\n",
       "      <td>0</td>\n",
       "      <td>0</td>\n",
       "      <td>0</td>\n",
       "      <td>0</td>\n",
       "      <td>0</td>\n",
       "      <td>0</td>\n",
       "      <td>0</td>\n",
       "      <td>0</td>\n",
       "      <td>...</td>\n",
       "      <td>0</td>\n",
       "      <td>0</td>\n",
       "      <td>0</td>\n",
       "      <td>0</td>\n",
       "      <td>0</td>\n",
       "      <td>0</td>\n",
       "      <td>0</td>\n",
       "      <td>0</td>\n",
       "      <td>0</td>\n",
       "      <td>0</td>\n",
       "      <td>0</td>\n",
       "      <td>1</td>\n",
       "      <td>0</td>\n",
       "      <td>0</td>\n",
       "      <td>0</td>\n",
       "      <td>0</td>\n",
       "      <td>0</td>\n",
       "      <td>1</td>\n",
       "      <td>0</td>\n",
       "      <td>0</td>\n",
       "      <td>0</td>\n",
       "      <td>0</td>\n",
       "      <td>0</td>\n",
       "      <td>0</td>\n",
       "      <td>1</td>\n",
       "    </tr>\n",
       "    <tr>\n",
       "      <th>2</th>\n",
       "      <td>0</td>\n",
       "      <td>47923.0</td>\n",
       "      <td>47923.00</td>\n",
       "      <td>2007</td>\n",
       "      <td>2011</td>\n",
       "      <td>47923.000</td>\n",
       "      <td>0</td>\n",
       "      <td>0</td>\n",
       "      <td>1</td>\n",
       "      <td>0</td>\n",
       "      <td>0</td>\n",
       "      <td>0</td>\n",
       "      <td>0</td>\n",
       "      <td>0</td>\n",
       "      <td>0</td>\n",
       "      <td>0</td>\n",
       "      <td>0</td>\n",
       "      <td>0</td>\n",
       "      <td>1</td>\n",
       "      <td>0</td>\n",
       "      <td>0</td>\n",
       "      <td>0</td>\n",
       "      <td>0</td>\n",
       "      <td>0</td>\n",
       "      <td>0</td>\n",
       "      <td>...</td>\n",
       "      <td>0</td>\n",
       "      <td>0</td>\n",
       "      <td>0</td>\n",
       "      <td>0</td>\n",
       "      <td>0</td>\n",
       "      <td>0</td>\n",
       "      <td>0</td>\n",
       "      <td>0</td>\n",
       "      <td>0</td>\n",
       "      <td>0</td>\n",
       "      <td>0</td>\n",
       "      <td>0</td>\n",
       "      <td>0</td>\n",
       "      <td>0</td>\n",
       "      <td>0</td>\n",
       "      <td>0</td>\n",
       "      <td>0</td>\n",
       "      <td>0</td>\n",
       "      <td>0</td>\n",
       "      <td>1</td>\n",
       "      <td>0</td>\n",
       "      <td>0</td>\n",
       "      <td>0</td>\n",
       "      <td>0</td>\n",
       "      <td>1</td>\n",
       "    </tr>\n",
       "    <tr>\n",
       "      <th>3</th>\n",
       "      <td>0</td>\n",
       "      <td>21940.0</td>\n",
       "      <td>10.97</td>\n",
       "      <td>2007</td>\n",
       "      <td>2011</td>\n",
       "      <td>10975.485</td>\n",
       "      <td>0</td>\n",
       "      <td>0</td>\n",
       "      <td>1</td>\n",
       "      <td>0</td>\n",
       "      <td>0</td>\n",
       "      <td>1</td>\n",
       "      <td>0</td>\n",
       "      <td>0</td>\n",
       "      <td>0</td>\n",
       "      <td>0</td>\n",
       "      <td>0</td>\n",
       "      <td>0</td>\n",
       "      <td>0</td>\n",
       "      <td>0</td>\n",
       "      <td>0</td>\n",
       "      <td>0</td>\n",
       "      <td>0</td>\n",
       "      <td>0</td>\n",
       "      <td>0</td>\n",
       "      <td>...</td>\n",
       "      <td>0</td>\n",
       "      <td>0</td>\n",
       "      <td>0</td>\n",
       "      <td>0</td>\n",
       "      <td>0</td>\n",
       "      <td>0</td>\n",
       "      <td>0</td>\n",
       "      <td>0</td>\n",
       "      <td>0</td>\n",
       "      <td>0</td>\n",
       "      <td>0</td>\n",
       "      <td>1</td>\n",
       "      <td>0</td>\n",
       "      <td>0</td>\n",
       "      <td>0</td>\n",
       "      <td>0</td>\n",
       "      <td>0</td>\n",
       "      <td>1</td>\n",
       "      <td>0</td>\n",
       "      <td>0</td>\n",
       "      <td>0</td>\n",
       "      <td>0</td>\n",
       "      <td>0</td>\n",
       "      <td>0</td>\n",
       "      <td>1</td>\n",
       "    </tr>\n",
       "    <tr>\n",
       "      <th>4</th>\n",
       "      <td>0</td>\n",
       "      <td>94890.0</td>\n",
       "      <td>100000.00</td>\n",
       "      <td>2007</td>\n",
       "      <td>2012</td>\n",
       "      <td>97445.000</td>\n",
       "      <td>0</td>\n",
       "      <td>0</td>\n",
       "      <td>1</td>\n",
       "      <td>0</td>\n",
       "      <td>0</td>\n",
       "      <td>0</td>\n",
       "      <td>0</td>\n",
       "      <td>0</td>\n",
       "      <td>0</td>\n",
       "      <td>0</td>\n",
       "      <td>0</td>\n",
       "      <td>0</td>\n",
       "      <td>0</td>\n",
       "      <td>0</td>\n",
       "      <td>0</td>\n",
       "      <td>0</td>\n",
       "      <td>1</td>\n",
       "      <td>0</td>\n",
       "      <td>0</td>\n",
       "      <td>...</td>\n",
       "      <td>0</td>\n",
       "      <td>0</td>\n",
       "      <td>0</td>\n",
       "      <td>0</td>\n",
       "      <td>0</td>\n",
       "      <td>0</td>\n",
       "      <td>0</td>\n",
       "      <td>0</td>\n",
       "      <td>0</td>\n",
       "      <td>0</td>\n",
       "      <td>0</td>\n",
       "      <td>0</td>\n",
       "      <td>0</td>\n",
       "      <td>0</td>\n",
       "      <td>0</td>\n",
       "      <td>0</td>\n",
       "      <td>0</td>\n",
       "      <td>1</td>\n",
       "      <td>0</td>\n",
       "      <td>0</td>\n",
       "      <td>0</td>\n",
       "      <td>0</td>\n",
       "      <td>0</td>\n",
       "      <td>0</td>\n",
       "      <td>1</td>\n",
       "    </tr>\n",
       "  </tbody>\n",
       "</table>\n",
       "<p>5 rows × 101 columns</p>\n",
       "</div>"
      ],
      "text/plain": [
       "   case_status  previous_salary  wage_offer  case_received_date_year  \\\n",
       "0            0          75629.0    75629.00                     2007   \n",
       "1            2          37024.0    37024.00                     2007   \n",
       "2            0          47923.0    47923.00                     2007   \n",
       "3            0          21940.0       10.97                     2007   \n",
       "4            0          94890.0   100000.00                     2007   \n",
       "\n",
       "   decision_date_year    meansal  application_type_MAILEDIN  \\\n",
       "0                2012  75629.000                          0   \n",
       "1                2011  37024.000                          0   \n",
       "2                2011  47923.000                          0   \n",
       "3                2011  10975.485                          0   \n",
       "4                2012  97445.000                          0   \n",
       "\n",
       "   application_type_ONLINE  application_type_PERM  class_of_admission_A  \\\n",
       "0                        0                      1                     0   \n",
       "1                        0                      1                     0   \n",
       "2                        0                      1                     0   \n",
       "3                        0                      1                     0   \n",
       "4                        0                      1                     0   \n",
       "\n",
       "   class_of_admission_AOS  class_of_admission_B  class_of_admission_C  \\\n",
       "0                       0                     0                     0   \n",
       "1                       0                     1                     0   \n",
       "2                       0                     0                     0   \n",
       "3                       0                     1                     0   \n",
       "4                       0                     0                     0   \n",
       "\n",
       "   class_of_admission_D-1  class_of_admission_E  class_of_admission_EWI  \\\n",
       "0                       0                     0                       0   \n",
       "1                       0                     0                       0   \n",
       "2                       0                     0                       0   \n",
       "3                       0                     0                       0   \n",
       "4                       0                     0                       0   \n",
       "\n",
       "   class_of_admission_F  class_of_admission_G  class_of_admission_H-1B  \\\n",
       "0                     0                     0                        0   \n",
       "1                     0                     0                        0   \n",
       "2                     0                     0                        1   \n",
       "3                     0                     0                        0   \n",
       "4                     0                     0                        0   \n",
       "\n",
       "   class_of_admission_I  class_of_admission_J  class_of_admission_K-1  \\\n",
       "0                     0                     1                       0   \n",
       "1                     0                     0                       0   \n",
       "2                     0                     0                       0   \n",
       "3                     0                     0                       0   \n",
       "4                     0                     0                       0   \n",
       "\n",
       "   class_of_admission_L  class_of_admission_M  class_of_admission_N  ...  \\\n",
       "0                     0                     0                     0  ...   \n",
       "1                     0                     0                     0  ...   \n",
       "2                     0                     0                     0  ...   \n",
       "3                     0                     0                     0  ...   \n",
       "4                     1                     0                     0  ...   \n",
       "\n",
       "   sector_Automotive  sector_Biotechnology  sector_Construction  \\\n",
       "0                  0                     0                    0   \n",
       "1                  0                     0                    0   \n",
       "2                  0                     0                    0   \n",
       "3                  0                     0                    0   \n",
       "4                  0                     0                    0   \n",
       "\n",
       "   sector_Educational Services  sector_Energy  sector_Finance  \\\n",
       "0                            0              0               0   \n",
       "1                            0              0               0   \n",
       "2                            0              0               0   \n",
       "3                            0              0               0   \n",
       "4                            0              0               0   \n",
       "\n",
       "   sector_Geospatial  sector_Health Care  sector_Homeland Security  \\\n",
       "0                  0                   0                         0   \n",
       "1                  0                   0                         0   \n",
       "2                  0                   0                         0   \n",
       "3                  0                   0                         0   \n",
       "4                  0                   0                         0   \n",
       "\n",
       "   sector_Hospitality  sector_IT  sector_Other Economic Sector  sector_Retail  \\\n",
       "0                   0          1                             0              0   \n",
       "1                   0          0                             1              0   \n",
       "2                   0          0                             0              0   \n",
       "3                   0          0                             1              0   \n",
       "4                   0          0                             0              0   \n",
       "\n",
       "   sector_Transportation  sector_Unavailable  employer_region_Island  \\\n",
       "0                      0                   0                       0   \n",
       "1                      0                   0                       0   \n",
       "2                      0                   0                       0   \n",
       "3                      0                   0                       0   \n",
       "4                      0                   0                       0   \n",
       "\n",
       "   employer_region_Midwest  employer_region_Northeast  employer_region_Other  \\\n",
       "0                        0                          1                      0   \n",
       "1                        0                          1                      0   \n",
       "2                        0                          0                      0   \n",
       "3                        0                          1                      0   \n",
       "4                        0                          1                      0   \n",
       "\n",
       "   employer_region_South  employer_region_West  Enterprise_Size_Large  \\\n",
       "0                      0                     0                      0   \n",
       "1                      0                     0                      0   \n",
       "2                      1                     0                      0   \n",
       "3                      0                     0                      0   \n",
       "4                      0                     0                      0   \n",
       "\n",
       "   Enterprise_Size_Medium  Enterprise_Size_Small  Enterprise_Size_Unvailable  \n",
       "0                       0                      0                           1  \n",
       "1                       0                      0                           1  \n",
       "2                       0                      0                           1  \n",
       "3                       0                      0                           1  \n",
       "4                       0                      0                           1  \n",
       "\n",
       "[5 rows x 101 columns]"
      ]
     },
     "execution_count": 145,
     "metadata": {},
     "output_type": "execute_result"
    }
   ],
   "source": [
    "dummy.head()"
   ]
  },
  {
   "cell_type": "code",
   "execution_count": 146,
   "metadata": {},
   "outputs": [],
   "source": [
    "x=dummy.drop('case_status',axis=1)\n",
    "y=dummy['case_status']"
   ]
  },
  {
   "cell_type": "code",
   "execution_count": 147,
   "metadata": {},
   "outputs": [
    {
     "data": {
      "text/html": [
       "<div>\n",
       "<style scoped>\n",
       "    .dataframe tbody tr th:only-of-type {\n",
       "        vertical-align: middle;\n",
       "    }\n",
       "\n",
       "    .dataframe tbody tr th {\n",
       "        vertical-align: top;\n",
       "    }\n",
       "\n",
       "    .dataframe thead th {\n",
       "        text-align: right;\n",
       "    }\n",
       "</style>\n",
       "<table border=\"1\" class=\"dataframe\">\n",
       "  <thead>\n",
       "    <tr style=\"text-align: right;\">\n",
       "      <th></th>\n",
       "      <th>previous_salary</th>\n",
       "      <th>wage_offer</th>\n",
       "      <th>case_received_date_year</th>\n",
       "      <th>decision_date_year</th>\n",
       "      <th>meansal</th>\n",
       "      <th>application_type_MAILEDIN</th>\n",
       "      <th>application_type_ONLINE</th>\n",
       "      <th>application_type_PERM</th>\n",
       "      <th>class_of_admission_A</th>\n",
       "      <th>class_of_admission_AOS</th>\n",
       "      <th>class_of_admission_B</th>\n",
       "      <th>class_of_admission_C</th>\n",
       "      <th>class_of_admission_D-1</th>\n",
       "      <th>class_of_admission_E</th>\n",
       "      <th>class_of_admission_EWI</th>\n",
       "      <th>class_of_admission_F</th>\n",
       "      <th>class_of_admission_G</th>\n",
       "      <th>class_of_admission_H-1B</th>\n",
       "      <th>class_of_admission_I</th>\n",
       "      <th>class_of_admission_J</th>\n",
       "      <th>class_of_admission_K-1</th>\n",
       "      <th>class_of_admission_L</th>\n",
       "      <th>class_of_admission_M</th>\n",
       "      <th>class_of_admission_N</th>\n",
       "      <th>class_of_admission_O</th>\n",
       "      <th>...</th>\n",
       "      <th>sector_Automotive</th>\n",
       "      <th>sector_Biotechnology</th>\n",
       "      <th>sector_Construction</th>\n",
       "      <th>sector_Educational Services</th>\n",
       "      <th>sector_Energy</th>\n",
       "      <th>sector_Finance</th>\n",
       "      <th>sector_Geospatial</th>\n",
       "      <th>sector_Health Care</th>\n",
       "      <th>sector_Homeland Security</th>\n",
       "      <th>sector_Hospitality</th>\n",
       "      <th>sector_IT</th>\n",
       "      <th>sector_Other Economic Sector</th>\n",
       "      <th>sector_Retail</th>\n",
       "      <th>sector_Transportation</th>\n",
       "      <th>sector_Unavailable</th>\n",
       "      <th>employer_region_Island</th>\n",
       "      <th>employer_region_Midwest</th>\n",
       "      <th>employer_region_Northeast</th>\n",
       "      <th>employer_region_Other</th>\n",
       "      <th>employer_region_South</th>\n",
       "      <th>employer_region_West</th>\n",
       "      <th>Enterprise_Size_Large</th>\n",
       "      <th>Enterprise_Size_Medium</th>\n",
       "      <th>Enterprise_Size_Small</th>\n",
       "      <th>Enterprise_Size_Unvailable</th>\n",
       "    </tr>\n",
       "  </thead>\n",
       "  <tbody>\n",
       "    <tr>\n",
       "      <th>0</th>\n",
       "      <td>75629.0</td>\n",
       "      <td>75629.00</td>\n",
       "      <td>2007</td>\n",
       "      <td>2012</td>\n",
       "      <td>75629.000</td>\n",
       "      <td>0</td>\n",
       "      <td>0</td>\n",
       "      <td>1</td>\n",
       "      <td>0</td>\n",
       "      <td>0</td>\n",
       "      <td>0</td>\n",
       "      <td>0</td>\n",
       "      <td>0</td>\n",
       "      <td>0</td>\n",
       "      <td>0</td>\n",
       "      <td>0</td>\n",
       "      <td>0</td>\n",
       "      <td>0</td>\n",
       "      <td>0</td>\n",
       "      <td>1</td>\n",
       "      <td>0</td>\n",
       "      <td>0</td>\n",
       "      <td>0</td>\n",
       "      <td>0</td>\n",
       "      <td>0</td>\n",
       "      <td>...</td>\n",
       "      <td>0</td>\n",
       "      <td>0</td>\n",
       "      <td>0</td>\n",
       "      <td>0</td>\n",
       "      <td>0</td>\n",
       "      <td>0</td>\n",
       "      <td>0</td>\n",
       "      <td>0</td>\n",
       "      <td>0</td>\n",
       "      <td>0</td>\n",
       "      <td>1</td>\n",
       "      <td>0</td>\n",
       "      <td>0</td>\n",
       "      <td>0</td>\n",
       "      <td>0</td>\n",
       "      <td>0</td>\n",
       "      <td>0</td>\n",
       "      <td>1</td>\n",
       "      <td>0</td>\n",
       "      <td>0</td>\n",
       "      <td>0</td>\n",
       "      <td>0</td>\n",
       "      <td>0</td>\n",
       "      <td>0</td>\n",
       "      <td>1</td>\n",
       "    </tr>\n",
       "    <tr>\n",
       "      <th>1</th>\n",
       "      <td>37024.0</td>\n",
       "      <td>37024.00</td>\n",
       "      <td>2007</td>\n",
       "      <td>2011</td>\n",
       "      <td>37024.000</td>\n",
       "      <td>0</td>\n",
       "      <td>0</td>\n",
       "      <td>1</td>\n",
       "      <td>0</td>\n",
       "      <td>0</td>\n",
       "      <td>1</td>\n",
       "      <td>0</td>\n",
       "      <td>0</td>\n",
       "      <td>0</td>\n",
       "      <td>0</td>\n",
       "      <td>0</td>\n",
       "      <td>0</td>\n",
       "      <td>0</td>\n",
       "      <td>0</td>\n",
       "      <td>0</td>\n",
       "      <td>0</td>\n",
       "      <td>0</td>\n",
       "      <td>0</td>\n",
       "      <td>0</td>\n",
       "      <td>0</td>\n",
       "      <td>...</td>\n",
       "      <td>0</td>\n",
       "      <td>0</td>\n",
       "      <td>0</td>\n",
       "      <td>0</td>\n",
       "      <td>0</td>\n",
       "      <td>0</td>\n",
       "      <td>0</td>\n",
       "      <td>0</td>\n",
       "      <td>0</td>\n",
       "      <td>0</td>\n",
       "      <td>0</td>\n",
       "      <td>1</td>\n",
       "      <td>0</td>\n",
       "      <td>0</td>\n",
       "      <td>0</td>\n",
       "      <td>0</td>\n",
       "      <td>0</td>\n",
       "      <td>1</td>\n",
       "      <td>0</td>\n",
       "      <td>0</td>\n",
       "      <td>0</td>\n",
       "      <td>0</td>\n",
       "      <td>0</td>\n",
       "      <td>0</td>\n",
       "      <td>1</td>\n",
       "    </tr>\n",
       "    <tr>\n",
       "      <th>2</th>\n",
       "      <td>47923.0</td>\n",
       "      <td>47923.00</td>\n",
       "      <td>2007</td>\n",
       "      <td>2011</td>\n",
       "      <td>47923.000</td>\n",
       "      <td>0</td>\n",
       "      <td>0</td>\n",
       "      <td>1</td>\n",
       "      <td>0</td>\n",
       "      <td>0</td>\n",
       "      <td>0</td>\n",
       "      <td>0</td>\n",
       "      <td>0</td>\n",
       "      <td>0</td>\n",
       "      <td>0</td>\n",
       "      <td>0</td>\n",
       "      <td>0</td>\n",
       "      <td>1</td>\n",
       "      <td>0</td>\n",
       "      <td>0</td>\n",
       "      <td>0</td>\n",
       "      <td>0</td>\n",
       "      <td>0</td>\n",
       "      <td>0</td>\n",
       "      <td>0</td>\n",
       "      <td>...</td>\n",
       "      <td>0</td>\n",
       "      <td>0</td>\n",
       "      <td>0</td>\n",
       "      <td>0</td>\n",
       "      <td>0</td>\n",
       "      <td>0</td>\n",
       "      <td>0</td>\n",
       "      <td>0</td>\n",
       "      <td>0</td>\n",
       "      <td>0</td>\n",
       "      <td>0</td>\n",
       "      <td>0</td>\n",
       "      <td>0</td>\n",
       "      <td>0</td>\n",
       "      <td>0</td>\n",
       "      <td>0</td>\n",
       "      <td>0</td>\n",
       "      <td>0</td>\n",
       "      <td>0</td>\n",
       "      <td>1</td>\n",
       "      <td>0</td>\n",
       "      <td>0</td>\n",
       "      <td>0</td>\n",
       "      <td>0</td>\n",
       "      <td>1</td>\n",
       "    </tr>\n",
       "    <tr>\n",
       "      <th>3</th>\n",
       "      <td>21940.0</td>\n",
       "      <td>10.97</td>\n",
       "      <td>2007</td>\n",
       "      <td>2011</td>\n",
       "      <td>10975.485</td>\n",
       "      <td>0</td>\n",
       "      <td>0</td>\n",
       "      <td>1</td>\n",
       "      <td>0</td>\n",
       "      <td>0</td>\n",
       "      <td>1</td>\n",
       "      <td>0</td>\n",
       "      <td>0</td>\n",
       "      <td>0</td>\n",
       "      <td>0</td>\n",
       "      <td>0</td>\n",
       "      <td>0</td>\n",
       "      <td>0</td>\n",
       "      <td>0</td>\n",
       "      <td>0</td>\n",
       "      <td>0</td>\n",
       "      <td>0</td>\n",
       "      <td>0</td>\n",
       "      <td>0</td>\n",
       "      <td>0</td>\n",
       "      <td>...</td>\n",
       "      <td>0</td>\n",
       "      <td>0</td>\n",
       "      <td>0</td>\n",
       "      <td>0</td>\n",
       "      <td>0</td>\n",
       "      <td>0</td>\n",
       "      <td>0</td>\n",
       "      <td>0</td>\n",
       "      <td>0</td>\n",
       "      <td>0</td>\n",
       "      <td>0</td>\n",
       "      <td>1</td>\n",
       "      <td>0</td>\n",
       "      <td>0</td>\n",
       "      <td>0</td>\n",
       "      <td>0</td>\n",
       "      <td>0</td>\n",
       "      <td>1</td>\n",
       "      <td>0</td>\n",
       "      <td>0</td>\n",
       "      <td>0</td>\n",
       "      <td>0</td>\n",
       "      <td>0</td>\n",
       "      <td>0</td>\n",
       "      <td>1</td>\n",
       "    </tr>\n",
       "    <tr>\n",
       "      <th>4</th>\n",
       "      <td>94890.0</td>\n",
       "      <td>100000.00</td>\n",
       "      <td>2007</td>\n",
       "      <td>2012</td>\n",
       "      <td>97445.000</td>\n",
       "      <td>0</td>\n",
       "      <td>0</td>\n",
       "      <td>1</td>\n",
       "      <td>0</td>\n",
       "      <td>0</td>\n",
       "      <td>0</td>\n",
       "      <td>0</td>\n",
       "      <td>0</td>\n",
       "      <td>0</td>\n",
       "      <td>0</td>\n",
       "      <td>0</td>\n",
       "      <td>0</td>\n",
       "      <td>0</td>\n",
       "      <td>0</td>\n",
       "      <td>0</td>\n",
       "      <td>0</td>\n",
       "      <td>1</td>\n",
       "      <td>0</td>\n",
       "      <td>0</td>\n",
       "      <td>0</td>\n",
       "      <td>...</td>\n",
       "      <td>0</td>\n",
       "      <td>0</td>\n",
       "      <td>0</td>\n",
       "      <td>0</td>\n",
       "      <td>0</td>\n",
       "      <td>0</td>\n",
       "      <td>0</td>\n",
       "      <td>0</td>\n",
       "      <td>0</td>\n",
       "      <td>0</td>\n",
       "      <td>0</td>\n",
       "      <td>0</td>\n",
       "      <td>0</td>\n",
       "      <td>0</td>\n",
       "      <td>0</td>\n",
       "      <td>0</td>\n",
       "      <td>0</td>\n",
       "      <td>1</td>\n",
       "      <td>0</td>\n",
       "      <td>0</td>\n",
       "      <td>0</td>\n",
       "      <td>0</td>\n",
       "      <td>0</td>\n",
       "      <td>0</td>\n",
       "      <td>1</td>\n",
       "    </tr>\n",
       "  </tbody>\n",
       "</table>\n",
       "<p>5 rows × 100 columns</p>\n",
       "</div>"
      ],
      "text/plain": [
       "   previous_salary  wage_offer  case_received_date_year  decision_date_year  \\\n",
       "0          75629.0    75629.00                     2007                2012   \n",
       "1          37024.0    37024.00                     2007                2011   \n",
       "2          47923.0    47923.00                     2007                2011   \n",
       "3          21940.0       10.97                     2007                2011   \n",
       "4          94890.0   100000.00                     2007                2012   \n",
       "\n",
       "     meansal  application_type_MAILEDIN  application_type_ONLINE  \\\n",
       "0  75629.000                          0                        0   \n",
       "1  37024.000                          0                        0   \n",
       "2  47923.000                          0                        0   \n",
       "3  10975.485                          0                        0   \n",
       "4  97445.000                          0                        0   \n",
       "\n",
       "   application_type_PERM  class_of_admission_A  class_of_admission_AOS  \\\n",
       "0                      1                     0                       0   \n",
       "1                      1                     0                       0   \n",
       "2                      1                     0                       0   \n",
       "3                      1                     0                       0   \n",
       "4                      1                     0                       0   \n",
       "\n",
       "   class_of_admission_B  class_of_admission_C  class_of_admission_D-1  \\\n",
       "0                     0                     0                       0   \n",
       "1                     1                     0                       0   \n",
       "2                     0                     0                       0   \n",
       "3                     1                     0                       0   \n",
       "4                     0                     0                       0   \n",
       "\n",
       "   class_of_admission_E  class_of_admission_EWI  class_of_admission_F  \\\n",
       "0                     0                       0                     0   \n",
       "1                     0                       0                     0   \n",
       "2                     0                       0                     0   \n",
       "3                     0                       0                     0   \n",
       "4                     0                       0                     0   \n",
       "\n",
       "   class_of_admission_G  class_of_admission_H-1B  class_of_admission_I  \\\n",
       "0                     0                        0                     0   \n",
       "1                     0                        0                     0   \n",
       "2                     0                        1                     0   \n",
       "3                     0                        0                     0   \n",
       "4                     0                        0                     0   \n",
       "\n",
       "   class_of_admission_J  class_of_admission_K-1  class_of_admission_L  \\\n",
       "0                     1                       0                     0   \n",
       "1                     0                       0                     0   \n",
       "2                     0                       0                     0   \n",
       "3                     0                       0                     0   \n",
       "4                     0                       0                     1   \n",
       "\n",
       "   class_of_admission_M  class_of_admission_N  class_of_admission_O  ...  \\\n",
       "0                     0                     0                     0  ...   \n",
       "1                     0                     0                     0  ...   \n",
       "2                     0                     0                     0  ...   \n",
       "3                     0                     0                     0  ...   \n",
       "4                     0                     0                     0  ...   \n",
       "\n",
       "   sector_Automotive  sector_Biotechnology  sector_Construction  \\\n",
       "0                  0                     0                    0   \n",
       "1                  0                     0                    0   \n",
       "2                  0                     0                    0   \n",
       "3                  0                     0                    0   \n",
       "4                  0                     0                    0   \n",
       "\n",
       "   sector_Educational Services  sector_Energy  sector_Finance  \\\n",
       "0                            0              0               0   \n",
       "1                            0              0               0   \n",
       "2                            0              0               0   \n",
       "3                            0              0               0   \n",
       "4                            0              0               0   \n",
       "\n",
       "   sector_Geospatial  sector_Health Care  sector_Homeland Security  \\\n",
       "0                  0                   0                         0   \n",
       "1                  0                   0                         0   \n",
       "2                  0                   0                         0   \n",
       "3                  0                   0                         0   \n",
       "4                  0                   0                         0   \n",
       "\n",
       "   sector_Hospitality  sector_IT  sector_Other Economic Sector  sector_Retail  \\\n",
       "0                   0          1                             0              0   \n",
       "1                   0          0                             1              0   \n",
       "2                   0          0                             0              0   \n",
       "3                   0          0                             1              0   \n",
       "4                   0          0                             0              0   \n",
       "\n",
       "   sector_Transportation  sector_Unavailable  employer_region_Island  \\\n",
       "0                      0                   0                       0   \n",
       "1                      0                   0                       0   \n",
       "2                      0                   0                       0   \n",
       "3                      0                   0                       0   \n",
       "4                      0                   0                       0   \n",
       "\n",
       "   employer_region_Midwest  employer_region_Northeast  employer_region_Other  \\\n",
       "0                        0                          1                      0   \n",
       "1                        0                          1                      0   \n",
       "2                        0                          0                      0   \n",
       "3                        0                          1                      0   \n",
       "4                        0                          1                      0   \n",
       "\n",
       "   employer_region_South  employer_region_West  Enterprise_Size_Large  \\\n",
       "0                      0                     0                      0   \n",
       "1                      0                     0                      0   \n",
       "2                      1                     0                      0   \n",
       "3                      0                     0                      0   \n",
       "4                      0                     0                      0   \n",
       "\n",
       "   Enterprise_Size_Medium  Enterprise_Size_Small  Enterprise_Size_Unvailable  \n",
       "0                       0                      0                           1  \n",
       "1                       0                      0                           1  \n",
       "2                       0                      0                           1  \n",
       "3                       0                      0                           1  \n",
       "4                       0                      0                           1  \n",
       "\n",
       "[5 rows x 100 columns]"
      ]
     },
     "execution_count": 147,
     "metadata": {},
     "output_type": "execute_result"
    }
   ],
   "source": [
    "x.head()"
   ]
  },
  {
   "cell_type": "code",
   "execution_count": 148,
   "metadata": {},
   "outputs": [],
   "source": [
    "xtrain,xtest,ytrain,ytest=train_test_split(x,y,test_size=0.2,random_state=123)"
   ]
  },
  {
   "cell_type": "code",
   "execution_count": 149,
   "metadata": {},
   "outputs": [],
   "source": [
    "scaled_train=pd.DataFrame(sc.fit_transform(xtrain),columns=xtrain.columns)\n",
    "scaled_test=pd.DataFrame(sc.transform(xtest),columns=xtest.columns)"
   ]
  },
  {
   "cell_type": "code",
   "execution_count": 150,
   "metadata": {},
   "outputs": [],
   "source": [
    "from sklearn.ensemble import RandomForestClassifier\n",
    "rf=RandomForestClassifier()"
   ]
  },
  {
   "cell_type": "code",
   "execution_count": 151,
   "metadata": {},
   "outputs": [],
   "source": [
    "model=rf.fit(scaled_train,ytrain)\n",
    "ypred=model.predict(scaled_test)"
   ]
  },
  {
   "cell_type": "code",
   "execution_count": 152,
   "metadata": {},
   "outputs": [],
   "source": [
    "from sklearn.metrics import classification_report,f1_score,confusion_matrix,cohen_kappa_score,matthews_corrcoef,accuracy_score,roc_auc_score"
   ]
  },
  {
   "cell_type": "code",
   "execution_count": 153,
   "metadata": {},
   "outputs": [
    {
     "name": "stdout",
     "output_type": "stream",
     "text": [
      "              precision    recall  f1-score   support\n",
      "\n",
      "           0       0.80      0.82      0.81     35675\n",
      "           1       0.76      0.82      0.79     28710\n",
      "           2       0.69      0.50      0.58      5128\n",
      "           3       0.51      0.30      0.38      3613\n",
      "\n",
      "    accuracy                           0.77     73126\n",
      "   macro avg       0.69      0.61      0.64     73126\n",
      "weighted avg       0.76      0.77      0.76     73126\n",
      "\n"
     ]
    }
   ],
   "source": [
    "print(classification_report(ytest,ypred))"
   ]
  },
  {
   "cell_type": "code",
   "execution_count": 154,
   "metadata": {},
   "outputs": [
    {
     "data": {
      "text/plain": [
       "0.7693159751661516"
      ]
     },
     "execution_count": 154,
     "metadata": {},
     "output_type": "execute_result"
    }
   ],
   "source": [
    "accuracy_score(ytest,ypred)"
   ]
  },
  {
   "cell_type": "code",
   "execution_count": 155,
   "metadata": {},
   "outputs": [
    {
     "data": {
      "text/plain": [
       "0.606658852810517"
      ]
     },
     "execution_count": 155,
     "metadata": {},
     "output_type": "execute_result"
    }
   ],
   "source": [
    "cohen_kappa_score(ytest,ypred)"
   ]
  },
  {
   "cell_type": "code",
   "execution_count": 156,
   "metadata": {},
   "outputs": [
    {
     "data": {
      "text/plain": [
       "0.6078247097534819"
      ]
     },
     "execution_count": 156,
     "metadata": {},
     "output_type": "execute_result"
    }
   ],
   "source": [
    "matthews_corrcoef(ytest,ypred)"
   ]
  },
  {
   "cell_type": "code",
   "execution_count": null,
   "metadata": {},
   "outputs": [],
   "source": []
  },
  {
   "cell_type": "code",
   "execution_count": 157,
   "metadata": {},
   "outputs": [],
   "source": [
    "from sklearn.model_selection import KFold,cross_val_score"
   ]
  },
  {
   "cell_type": "code",
   "execution_count": null,
   "metadata": {},
   "outputs": [],
   "source": []
  },
  {
   "cell_type": "code",
   "execution_count": null,
   "metadata": {},
   "outputs": [],
   "source": []
  },
  {
   "cell_type": "markdown",
   "metadata": {},
   "source": [
    "### Selecting top 20 features based upon their importances to make another model"
   ]
  },
  {
   "cell_type": "code",
   "execution_count": 158,
   "metadata": {},
   "outputs": [],
   "source": [
    "features=pd.DataFrame(model.feature_importances_)"
   ]
  },
  {
   "cell_type": "code",
   "execution_count": 159,
   "metadata": {},
   "outputs": [],
   "source": [
    "features = pd.DataFrame(model.feature_importances_, index =xtest.columns,columns = [\"Features\"])"
   ]
  },
  {
   "cell_type": "code",
   "execution_count": 160,
   "metadata": {},
   "outputs": [
    {
     "data": {
      "text/plain": [
       "<matplotlib.axes._subplots.AxesSubplot at 0x19f8c003748>"
      ]
     },
     "execution_count": 160,
     "metadata": {},
     "output_type": "execute_result"
    },
    {
     "data": {
      "image/png": "[encoded data removed]",
      "text/plain": [
       "<Figure size 720x1440 with 1 Axes>"
      ]
     },
     "metadata": {
      "needs_background": "light"
     },
     "output_type": "display_data"
    }
   ],
   "source": [
    "features.sort_values(by= \"Features\").head(20).plot(kind='barh',color='red',figsize=(10,20))"
   ]
  },
  {
   "cell_type": "code",
   "execution_count": 161,
   "metadata": {},
   "outputs": [],
   "source": [
    "l=features.head(20)"
   ]
  },
  {
   "cell_type": "code",
   "execution_count": 162,
   "metadata": {},
   "outputs": [
    {
     "data": {
      "text/html": [
       "<div>\n",
       "<style scoped>\n",
       "    .dataframe tbody tr th:only-of-type {\n",
       "        vertical-align: middle;\n",
       "    }\n",
       "\n",
       "    .dataframe tbody tr th {\n",
       "        vertical-align: top;\n",
       "    }\n",
       "\n",
       "    .dataframe thead th {\n",
       "        text-align: right;\n",
       "    }\n",
       "</style>\n",
       "<table border=\"1\" class=\"dataframe\">\n",
       "  <thead>\n",
       "    <tr style=\"text-align: right;\">\n",
       "      <th></th>\n",
       "      <th>Features</th>\n",
       "    </tr>\n",
       "  </thead>\n",
       "  <tbody>\n",
       "    <tr>\n",
       "      <th>previous_salary</th>\n",
       "      <td>0.110201</td>\n",
       "    </tr>\n",
       "    <tr>\n",
       "      <th>wage_offer</th>\n",
       "      <td>0.113728</td>\n",
       "    </tr>\n",
       "    <tr>\n",
       "      <th>case_received_date_year</th>\n",
       "      <td>0.131386</td>\n",
       "    </tr>\n",
       "    <tr>\n",
       "      <th>decision_date_year</th>\n",
       "      <td>0.094976</td>\n",
       "    </tr>\n",
       "    <tr>\n",
       "      <th>meansal</th>\n",
       "      <td>0.115343</td>\n",
       "    </tr>\n",
       "    <tr>\n",
       "      <th>application_type_MAILEDIN</th>\n",
       "      <td>0.078910</td>\n",
       "    </tr>\n",
       "    <tr>\n",
       "      <th>application_type_ONLINE</th>\n",
       "      <td>0.025742</td>\n",
       "    </tr>\n",
       "    <tr>\n",
       "      <th>application_type_PERM</th>\n",
       "      <td>0.059225</td>\n",
       "    </tr>\n",
       "    <tr>\n",
       "      <th>class_of_admission_A</th>\n",
       "      <td>0.000112</td>\n",
       "    </tr>\n",
       "    <tr>\n",
       "      <th>class_of_admission_AOS</th>\n",
       "      <td>0.000002</td>\n",
       "    </tr>\n",
       "    <tr>\n",
       "      <th>class_of_admission_B</th>\n",
       "      <td>0.001709</td>\n",
       "    </tr>\n",
       "    <tr>\n",
       "      <th>class_of_admission_C</th>\n",
       "      <td>0.000042</td>\n",
       "    </tr>\n",
       "    <tr>\n",
       "      <th>class_of_admission_D-1</th>\n",
       "      <td>0.000008</td>\n",
       "    </tr>\n",
       "    <tr>\n",
       "      <th>class_of_admission_E</th>\n",
       "      <td>0.002239</td>\n",
       "    </tr>\n",
       "    <tr>\n",
       "      <th>class_of_admission_EWI</th>\n",
       "      <td>0.001033</td>\n",
       "    </tr>\n",
       "    <tr>\n",
       "      <th>class_of_admission_F</th>\n",
       "      <td>0.003871</td>\n",
       "    </tr>\n",
       "    <tr>\n",
       "      <th>class_of_admission_G</th>\n",
       "      <td>0.000134</td>\n",
       "    </tr>\n",
       "    <tr>\n",
       "      <th>class_of_admission_H-1B</th>\n",
       "      <td>0.007785</td>\n",
       "    </tr>\n",
       "    <tr>\n",
       "      <th>class_of_admission_I</th>\n",
       "      <td>0.000066</td>\n",
       "    </tr>\n",
       "    <tr>\n",
       "      <th>class_of_admission_J</th>\n",
       "      <td>0.000679</td>\n",
       "    </tr>\n",
       "  </tbody>\n",
       "</table>\n",
       "</div>"
      ],
      "text/plain": [
       "                           Features\n",
       "previous_salary            0.110201\n",
       "wage_offer                 0.113728\n",
       "case_received_date_year    0.131386\n",
       "decision_date_year         0.094976\n",
       "meansal                    0.115343\n",
       "application_type_MAILEDIN  0.078910\n",
       "application_type_ONLINE    0.025742\n",
       "application_type_PERM      0.059225\n",
       "class_of_admission_A       0.000112\n",
       "class_of_admission_AOS     0.000002\n",
       "class_of_admission_B       0.001709\n",
       "class_of_admission_C       0.000042\n",
       "class_of_admission_D-1     0.000008\n",
       "class_of_admission_E       0.002239\n",
       "class_of_admission_EWI     0.001033\n",
       "class_of_admission_F       0.003871\n",
       "class_of_admission_G       0.000134\n",
       "class_of_admission_H-1B    0.007785\n",
       "class_of_admission_I       0.000066\n",
       "class_of_admission_J       0.000679"
      ]
     },
     "execution_count": 162,
     "metadata": {},
     "output_type": "execute_result"
    }
   ],
   "source": [
    "l"
   ]
  },
  {
   "cell_type": "code",
   "execution_count": 163,
   "metadata": {},
   "outputs": [
    {
     "ename": "KeyError",
     "evalue": "\"['application_type_Unavailable'] not in index\"",
     "output_type": "error",
     "traceback": [
      "\u001b[1;31m---------------------------------------------------------------------------\u001b[0m",
      "\u001b[1;31mKeyError\u001b[0m                                  Traceback (most recent call last)",
      "\u001b[1;32m<ipython-input-163-b2c51b16dab8>\u001b[0m in \u001b[0;36m<module>\u001b[1;34m\u001b[0m\n\u001b[1;32m----> 1\u001b[1;33m \u001b[0mnewx\u001b[0m\u001b[1;33m=\u001b[0m\u001b[0mdummy\u001b[0m\u001b[1;33m[\u001b[0m\u001b[1;33m[\u001b[0m\u001b[1;34m'class_of_admission_K-1'\u001b[0m\u001b[1;33m,\u001b[0m\u001b[1;34m'class_of_admission_J'\u001b[0m\u001b[1;33m,\u001b[0m\u001b[1;34m'class_of_admission_I'\u001b[0m\u001b[1;33m,\u001b[0m\u001b[1;34m'class_of_admission_H-1B'\u001b[0m\u001b[1;33m,\u001b[0m\u001b[1;34m'class_of_admission_G'\u001b[0m\u001b[1;33m,\u001b[0m\u001b[1;34m'class_of_admission_F'\u001b[0m\u001b[1;33m,\u001b[0m\u001b[1;34m'class_of_admission_EWI'\u001b[0m\u001b[1;33m,\u001b[0m\u001b[1;34m'class_of_admission_E'\u001b[0m\u001b[1;33m,\u001b[0m\u001b[1;34m'class_of_admission_D-1'\u001b[0m\u001b[1;33m,\u001b[0m\u001b[1;34m'class_of_admission_C'\u001b[0m\u001b[1;33m,\u001b[0m\u001b[1;34m'class_of_admission_B'\u001b[0m\u001b[1;33m,\u001b[0m\u001b[1;34m'class_of_admission_AOS'\u001b[0m\u001b[1;33m,\u001b[0m\u001b[1;34m'class_of_admission_A'\u001b[0m\u001b[1;33m,\u001b[0m\u001b[1;34m'application_type_Unavailable'\u001b[0m\u001b[1;33m,\u001b[0m\u001b[1;34m'application_type_PERM'\u001b[0m\u001b[1;33m,\u001b[0m\u001b[1;34m'case_received_date_year'\u001b[0m\u001b[1;33m,\u001b[0m\u001b[1;34m'decision_date_year'\u001b[0m\u001b[1;33m,\u001b[0m\u001b[1;34m'meansal'\u001b[0m\u001b[1;33m,\u001b[0m\u001b[1;34m'application_type_MAILEDIN'\u001b[0m\u001b[1;33m,\u001b[0m\u001b[1;34m'application_type_ONLINE'\u001b[0m\u001b[1;33m]\u001b[0m\u001b[1;33m]\u001b[0m\u001b[1;33m\u001b[0m\u001b[1;33m\u001b[0m\u001b[0m\n\u001b[0m\u001b[0;32m      2\u001b[0m \u001b[0mnewy\u001b[0m\u001b[1;33m=\u001b[0m\u001b[0mdummy\u001b[0m\u001b[1;33m[\u001b[0m\u001b[1;34m'case_status'\u001b[0m\u001b[1;33m]\u001b[0m\u001b[1;33m\u001b[0m\u001b[1;33m\u001b[0m\u001b[0m\n",
      "\u001b[1;32m~\\Anaconda3\\lib\\site-packages\\pandas\\core\\frame.py\u001b[0m in \u001b[0;36m__getitem__\u001b[1;34m(self, key)\u001b[0m\n\u001b[0;32m   2932\u001b[0m                 \u001b[0mkey\u001b[0m \u001b[1;33m=\u001b[0m \u001b[0mlist\u001b[0m\u001b[1;33m(\u001b[0m\u001b[0mkey\u001b[0m\u001b[1;33m)\u001b[0m\u001b[1;33m\u001b[0m\u001b[1;33m\u001b[0m\u001b[0m\n\u001b[0;32m   2933\u001b[0m             indexer = self.loc._convert_to_indexer(key, axis=1,\n\u001b[1;32m-> 2934\u001b[1;33m                                                    raise_missing=True)\n\u001b[0m\u001b[0;32m   2935\u001b[0m \u001b[1;33m\u001b[0m\u001b[0m\n\u001b[0;32m   2936\u001b[0m         \u001b[1;31m# take() does not accept boolean indexers\u001b[0m\u001b[1;33m\u001b[0m\u001b[1;33m\u001b[0m\u001b[1;33m\u001b[0m\u001b[0m\n",
      "\u001b[1;32m~\\Anaconda3\\lib\\site-packages\\pandas\\core\\indexing.py\u001b[0m in \u001b[0;36m_convert_to_indexer\u001b[1;34m(self, obj, axis, is_setter, raise_missing)\u001b[0m\n\u001b[0;32m   1352\u001b[0m                 kwargs = {'raise_missing': True if is_setter else\n\u001b[0;32m   1353\u001b[0m                           raise_missing}\n\u001b[1;32m-> 1354\u001b[1;33m                 \u001b[1;32mreturn\u001b[0m \u001b[0mself\u001b[0m\u001b[1;33m.\u001b[0m\u001b[0m_get_listlike_indexer\u001b[0m\u001b[1;33m(\u001b[0m\u001b[0mobj\u001b[0m\u001b[1;33m,\u001b[0m \u001b[0maxis\u001b[0m\u001b[1;33m,\u001b[0m \u001b[1;33m**\u001b[0m\u001b[0mkwargs\u001b[0m\u001b[1;33m)\u001b[0m\u001b[1;33m[\u001b[0m\u001b[1;36m1\u001b[0m\u001b[1;33m]\u001b[0m\u001b[1;33m\u001b[0m\u001b[1;33m\u001b[0m\u001b[0m\n\u001b[0m\u001b[0;32m   1355\u001b[0m         \u001b[1;32melse\u001b[0m\u001b[1;33m:\u001b[0m\u001b[1;33m\u001b[0m\u001b[1;33m\u001b[0m\u001b[0m\n\u001b[0;32m   1356\u001b[0m             \u001b[1;32mtry\u001b[0m\u001b[1;33m:\u001b[0m\u001b[1;33m\u001b[0m\u001b[1;33m\u001b[0m\u001b[0m\n",
      "\u001b[1;32m~\\Anaconda3\\lib\\site-packages\\pandas\\core\\indexing.py\u001b[0m in \u001b[0;36m_get_listlike_indexer\u001b[1;34m(self, key, axis, raise_missing)\u001b[0m\n\u001b[0;32m   1159\u001b[0m         self._validate_read_indexer(keyarr, indexer,\n\u001b[0;32m   1160\u001b[0m                                     \u001b[0mo\u001b[0m\u001b[1;33m.\u001b[0m\u001b[0m_get_axis_number\u001b[0m\u001b[1;33m(\u001b[0m\u001b[0maxis\u001b[0m\u001b[1;33m)\u001b[0m\u001b[1;33m,\u001b[0m\u001b[1;33m\u001b[0m\u001b[1;33m\u001b[0m\u001b[0m\n\u001b[1;32m-> 1161\u001b[1;33m                                     raise_missing=raise_missing)\n\u001b[0m\u001b[0;32m   1162\u001b[0m         \u001b[1;32mreturn\u001b[0m \u001b[0mkeyarr\u001b[0m\u001b[1;33m,\u001b[0m \u001b[0mindexer\u001b[0m\u001b[1;33m\u001b[0m\u001b[1;33m\u001b[0m\u001b[0m\n\u001b[0;32m   1163\u001b[0m \u001b[1;33m\u001b[0m\u001b[0m\n",
      "\u001b[1;32m~\\Anaconda3\\lib\\site-packages\\pandas\\core\\indexing.py\u001b[0m in \u001b[0;36m_validate_read_indexer\u001b[1;34m(self, key, indexer, axis, raise_missing)\u001b[0m\n\u001b[0;32m   1250\u001b[0m             \u001b[1;32mif\u001b[0m \u001b[1;32mnot\u001b[0m\u001b[1;33m(\u001b[0m\u001b[0mself\u001b[0m\u001b[1;33m.\u001b[0m\u001b[0mname\u001b[0m \u001b[1;33m==\u001b[0m \u001b[1;34m'loc'\u001b[0m \u001b[1;32mand\u001b[0m \u001b[1;32mnot\u001b[0m \u001b[0mraise_missing\u001b[0m\u001b[1;33m)\u001b[0m\u001b[1;33m:\u001b[0m\u001b[1;33m\u001b[0m\u001b[1;33m\u001b[0m\u001b[0m\n\u001b[0;32m   1251\u001b[0m                 \u001b[0mnot_found\u001b[0m \u001b[1;33m=\u001b[0m \u001b[0mlist\u001b[0m\u001b[1;33m(\u001b[0m\u001b[0mset\u001b[0m\u001b[1;33m(\u001b[0m\u001b[0mkey\u001b[0m\u001b[1;33m)\u001b[0m \u001b[1;33m-\u001b[0m \u001b[0mset\u001b[0m\u001b[1;33m(\u001b[0m\u001b[0max\u001b[0m\u001b[1;33m)\u001b[0m\u001b[1;33m)\u001b[0m\u001b[1;33m\u001b[0m\u001b[1;33m\u001b[0m\u001b[0m\n\u001b[1;32m-> 1252\u001b[1;33m                 \u001b[1;32mraise\u001b[0m \u001b[0mKeyError\u001b[0m\u001b[1;33m(\u001b[0m\u001b[1;34m\"{} not in index\"\u001b[0m\u001b[1;33m.\u001b[0m\u001b[0mformat\u001b[0m\u001b[1;33m(\u001b[0m\u001b[0mnot_found\u001b[0m\u001b[1;33m)\u001b[0m\u001b[1;33m)\u001b[0m\u001b[1;33m\u001b[0m\u001b[1;33m\u001b[0m\u001b[0m\n\u001b[0m\u001b[0;32m   1253\u001b[0m \u001b[1;33m\u001b[0m\u001b[0m\n\u001b[0;32m   1254\u001b[0m             \u001b[1;31m# we skip the warning on Categorical/Interval\u001b[0m\u001b[1;33m\u001b[0m\u001b[1;33m\u001b[0m\u001b[1;33m\u001b[0m\u001b[0m\n",
      "\u001b[1;31mKeyError\u001b[0m: \"['application_type_Unavailable'] not in index\""
     ]
    }
   ],
   "source": [
    "newx=dummy[['class_of_admission_K-1','class_of_admission_J','class_of_admission_I','class_of_admission_H-1B','class_of_admission_G','class_of_admission_F','class_of_admission_EWI','class_of_admission_E','class_of_admission_D-1','class_of_admission_C','class_of_admission_B','class_of_admission_AOS','class_of_admission_A','application_type_Unavailable','application_type_PERM','case_received_date_year','decision_date_year','meansal','application_type_MAILEDIN','application_type_ONLINE']]\n",
    "newy=dummy['case_status']                 "
   ]
  },
  {
   "cell_type": "code",
   "execution_count": null,
   "metadata": {},
   "outputs": [],
   "source": [
    "x_train,x_test,y_train,y_test=train_test_split(newx,newy,test_size=0.2,random_state=123)\n",
    "scaled_train=pd.DataFrame(sc.fit_transform(x_train),columns=x_train.columns)\n",
    "scaled_test=pd.DataFrame(sc.transform(x_test),columns=x_test.columns)"
   ]
  },
  {
   "cell_type": "code",
   "execution_count": null,
   "metadata": {},
   "outputs": [],
   "source": [
    "model=rf.fit(scaled_train,ytrain)\n",
    "ypred=model.predict(scaled_test)"
   ]
  },
  {
   "cell_type": "code",
   "execution_count": null,
   "metadata": {},
   "outputs": [],
   "source": [
    "print(classification_report(ytest,ypred))\n",
    "print(\"Accuracy = \",accuracy_score(ytest,ypred))\n",
    "print(\"CK score = \",cohen_kappa_score(ytest,ypred))"
   ]
  },
  {
   "cell_type": "markdown",
   "metadata": {},
   "source": [
    "### This model didn't improved the performance. Thus we will go with the original one."
   ]
  },
  {
   "cell_type": "markdown",
   "metadata": {},
   "source": [
    "#### Changing the model from muticlass to binary to check performance"
   ]
  },
  {
   "cell_type": "code",
   "execution_count": null,
   "metadata": {},
   "outputs": [],
   "source": [
    "# def target(x):\n",
    "#     if x==\"Certified\":\n",
    "#         return 0\n",
    "#     elif x==\"Certified-Expired\":\n",
    "#         return 1\n",
    "#     elif x=='Denied':\n",
    "#         return 2\n",
    "#     else:\n",
    "#         return 4\n",
    "dummy.case_status.replace(1,0,inplace=True)\n",
    "dummy.case_status.replace(2,1,inplace=True)\n",
    "dummy.case_status.replace(4,1,inplace=True)"
   ]
  },
  {
   "cell_type": "code",
   "execution_count": null,
   "metadata": {},
   "outputs": [],
   "source": [
    "x=dummy.drop('case_status',axis=1)\n",
    "y=dummy['case_status']"
   ]
  },
  {
   "cell_type": "code",
   "execution_count": null,
   "metadata": {},
   "outputs": [],
   "source": [
    "xtrain,xtest,ytrain,ytest=train_test_split(x,y,test_size=0.2,random_state=123)\n",
    "scaled_train=pd.DataFrame(sc.fit_transform(xtrain),columns=xtrain.columns)\n",
    "scaled_test=pd.DataFrame(sc.transform(xtest),columns=xtest.columns)\n",
    "model=rf.fit(scaled_train,ytrain)\n",
    "ypred=model.predict(scaled_test)"
   ]
  },
  {
   "cell_type": "code",
   "execution_count": null,
   "metadata": {},
   "outputs": [],
   "source": [
    "print(classification_report(ytest,ypred))\n",
    "print(\"Accuracy = \",accuracy_score(ytest,ypred))\n",
    "print(\"CK score = \",cohen_kappa_score(ytest,ypred))"
   ]
  },
  {
   "cell_type": "code",
   "execution_count": null,
   "metadata": {},
   "outputs": [],
   "source": []
  }
 ],
 "metadata": {
  "kernelspec": {
   "display_name": "Python 3",
   "language": "python",
   "name": "python3"
  },
  "language_info": {
   "codemirror_mode": {
    "name": "ipython",
    "version": 3
   },
   "file_extension": ".py",
   "mimetype": "text/x-python",
   "name": "python",
   "nbconvert_exporter": "python",
   "pygments_lexer": "ipython3",
   "version": "3.7.3"
  }
 },
 "nbformat": 4,
 "nbformat_minor": 2
}
