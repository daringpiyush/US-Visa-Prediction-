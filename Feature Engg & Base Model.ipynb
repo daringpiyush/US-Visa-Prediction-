{
 "cells": [
  {
   "cell_type": "code",
   "execution_count": 1,
   "metadata": {},
   "outputs": [],
   "source": [
    "import pandas as pd\n",
    "import numpy as np\n",
    "import matplotlib.pyplot as plt\n",
    "import seaborn as sns\n",
    "import warnings \n",
    "warnings.filterwarnings('ignore')\n",
    "\n",
    "%matplotlib inline\n",
    "\n",
    "pd.set_option('display.max_columns', 50)"
   ]
  },
  {
   "cell_type": "code",
   "execution_count": 2,
   "metadata": {},
   "outputs": [],
   "source": [
    "data=pd.read_excel('edited final.xlsx',parse_dates=['case_received_date','decision_date'])"
   ]
  },
  {
   "cell_type": "code",
   "execution_count": 3,
   "metadata": {},
   "outputs": [
    {
     "name": "stdout",
     "output_type": "stream",
     "text": [
      "Mem. usage decreased to 69.26 Mb (6.7% reduction)\n"
     ]
    }
   ],
   "source": [
    "def reduce_mem_usage(df, verbose=True):\n",
    "    numerics = ['int16', 'int32', 'int64', 'float16', 'float32', 'float64']\n",
    "    start_mem = df.memory_usage().sum() / 1024**2    \n",
    "    for col in df.columns:\n",
    "        col_type = df[col].dtypes\n",
    "        if col_type in numerics:\n",
    "            c_min = df[col].min()\n",
    "            c_max = df[col].max()\n",
    "            if str(col_type)[:3] == 'int':\n",
    "                if c_min > np.iinfo(np.int8).min and c_max < np.iinfo(np.int8).max:\n",
    "                    df[col] = df[col].astype(np.int8)\n",
    "                elif c_min > np.iinfo(np.int16).min and c_max < np.iinfo(np.int16).max:\n",
    "                    df[col] = df[col].astype(np.int16)\n",
    "                elif c_min > np.iinfo(np.int32).min and c_max < np.iinfo(np.int32).max:\n",
    "                    df[col] = df[col].astype(np.int32)\n",
    "                elif c_min > np.iinfo(np.int64).min and c_max < np.iinfo(np.int64).max:\n",
    "                    df[col] = df[col].astype(np.int64)  \n",
    "            else:\n",
    "                if c_min > np.finfo(np.float16).min and c_max < np.finfo(np.float16).max:\n",
    "                    df[col] = df[col].astype(np.float16)\n",
    "                elif c_min > np.finfo(np.float32).min and c_max < np.finfo(np.float32).max:\n",
    "                    df[col] = df[col].astype(np.float32)\n",
    "                else:\n",
    "                    df[col] = df[col].astype(np.float64)    \n",
    "    end_mem = df.memory_usage().sum() / 1024**2\n",
    "    if verbose: print('Mem. usage decreased to {:5.2f} Mb ({:.1f}% reduction)'.format(end_mem, 100 * (start_mem - end_mem) / start_mem))\n",
    "    return df\n",
    "\n",
    "data = reduce_mem_usage(data)"
   ]
  },
  {
   "cell_type": "code",
   "execution_count": 4,
   "metadata": {},
   "outputs": [
    {
     "data": {
      "text/html": [
       "<div>\n",
       "<style scoped>\n",
       "    .dataframe tbody tr th:only-of-type {\n",
       "        vertical-align: middle;\n",
       "    }\n",
       "\n",
       "    .dataframe tbody tr th {\n",
       "        vertical-align: top;\n",
       "    }\n",
       "\n",
       "    .dataframe thead th {\n",
       "        text-align: right;\n",
       "    }\n",
       "</style>\n",
       "<table border=\"1\" class=\"dataframe\">\n",
       "  <thead>\n",
       "    <tr style=\"text-align: right;\">\n",
       "      <th></th>\n",
       "      <th>agent_state</th>\n",
       "      <th>application_type</th>\n",
       "      <th>case_no</th>\n",
       "      <th>case_received_date</th>\n",
       "      <th>case_status</th>\n",
       "      <th>class_of_admission</th>\n",
       "      <th>country_of_citizenship</th>\n",
       "      <th>decision_date</th>\n",
       "      <th>employer_num_employees</th>\n",
       "      <th>employer_yr_estab</th>\n",
       "      <th>employer_city</th>\n",
       "      <th>employer_name</th>\n",
       "      <th>employer_state</th>\n",
       "      <th>foreign_worker_info_education</th>\n",
       "      <th>foreign_worker_info_major</th>\n",
       "      <th>job_experience</th>\n",
       "      <th>job_title</th>\n",
       "      <th>job_training</th>\n",
       "      <th>job_work_state</th>\n",
       "      <th>pv_unit_of_pay_9089</th>\n",
       "      <th>previous_salary</th>\n",
       "      <th>level</th>\n",
       "      <th>source_name</th>\n",
       "      <th>sector</th>\n",
       "      <th>wage_offer</th>\n",
       "      <th>wage_unit_of_pay</th>\n",
       "    </tr>\n",
       "  </thead>\n",
       "  <tbody>\n",
       "    <tr>\n",
       "      <th>0</th>\n",
       "      <td>NaN</td>\n",
       "      <td>PERM</td>\n",
       "      <td>A-07323-97014</td>\n",
       "      <td>NaT</td>\n",
       "      <td>Certified</td>\n",
       "      <td>J-1</td>\n",
       "      <td>ARMENIA</td>\n",
       "      <td>2012-02-01</td>\n",
       "      <td>NaN</td>\n",
       "      <td>NaN</td>\n",
       "      <td>NEW YORK</td>\n",
       "      <td>NETSOFT USA INC.</td>\n",
       "      <td>NY</td>\n",
       "      <td>NaN</td>\n",
       "      <td>NaN</td>\n",
       "      <td>NaN</td>\n",
       "      <td>NaN</td>\n",
       "      <td>NaN</td>\n",
       "      <td>NY</td>\n",
       "      <td>yr</td>\n",
       "      <td>75629.00</td>\n",
       "      <td>Level II</td>\n",
       "      <td>OES</td>\n",
       "      <td>IT</td>\n",
       "      <td>75629</td>\n",
       "      <td>yr</td>\n",
       "    </tr>\n",
       "    <tr>\n",
       "      <th>1</th>\n",
       "      <td>NaN</td>\n",
       "      <td>PERM</td>\n",
       "      <td>A-07332-99439</td>\n",
       "      <td>NaT</td>\n",
       "      <td>Denied</td>\n",
       "      <td>B-2</td>\n",
       "      <td>POLAND</td>\n",
       "      <td>2011-12-21</td>\n",
       "      <td>NaN</td>\n",
       "      <td>NaN</td>\n",
       "      <td>CARLSTADT</td>\n",
       "      <td>PINNACLE ENVIRONEMNTAL CORP</td>\n",
       "      <td>NY</td>\n",
       "      <td>NaN</td>\n",
       "      <td>NaN</td>\n",
       "      <td>NaN</td>\n",
       "      <td>NaN</td>\n",
       "      <td>NaN</td>\n",
       "      <td>NY</td>\n",
       "      <td>yr</td>\n",
       "      <td>37024.00</td>\n",
       "      <td>Level I</td>\n",
       "      <td>OES</td>\n",
       "      <td>Other Economic Sector</td>\n",
       "      <td>37024</td>\n",
       "      <td>yr</td>\n",
       "    </tr>\n",
       "    <tr>\n",
       "      <th>2</th>\n",
       "      <td>NaN</td>\n",
       "      <td>PERM</td>\n",
       "      <td>A-07333-99643</td>\n",
       "      <td>NaT</td>\n",
       "      <td>Certified</td>\n",
       "      <td>H-1B</td>\n",
       "      <td>INDIA</td>\n",
       "      <td>2011-12-01</td>\n",
       "      <td>NaN</td>\n",
       "      <td>NaN</td>\n",
       "      <td>GLEN ALLEN</td>\n",
       "      <td>SCHNABEL ENGINEERING, INC.</td>\n",
       "      <td>VA</td>\n",
       "      <td>NaN</td>\n",
       "      <td>NaN</td>\n",
       "      <td>NaN</td>\n",
       "      <td>NaN</td>\n",
       "      <td>NaN</td>\n",
       "      <td>MD</td>\n",
       "      <td>yr</td>\n",
       "      <td>47923.00</td>\n",
       "      <td>Level I</td>\n",
       "      <td>OES</td>\n",
       "      <td>Aerospace</td>\n",
       "      <td>47923</td>\n",
       "      <td>yr</td>\n",
       "    </tr>\n",
       "    <tr>\n",
       "      <th>3</th>\n",
       "      <td>NaN</td>\n",
       "      <td>PERM</td>\n",
       "      <td>A-07339-01930</td>\n",
       "      <td>NaT</td>\n",
       "      <td>Certified</td>\n",
       "      <td>B-2</td>\n",
       "      <td>SOUTH KOREA</td>\n",
       "      <td>2011-12-01</td>\n",
       "      <td>NaN</td>\n",
       "      <td>NaN</td>\n",
       "      <td>FLUSHING</td>\n",
       "      <td>EBENEZER MISSION CHURCH</td>\n",
       "      <td>NY</td>\n",
       "      <td>NaN</td>\n",
       "      <td>NaN</td>\n",
       "      <td>NaN</td>\n",
       "      <td>NaN</td>\n",
       "      <td>NaN</td>\n",
       "      <td>NY</td>\n",
       "      <td>hr</td>\n",
       "      <td>10.97</td>\n",
       "      <td>Level II</td>\n",
       "      <td>OES</td>\n",
       "      <td>Other Economic Sector</td>\n",
       "      <td>10.97</td>\n",
       "      <td>hr</td>\n",
       "    </tr>\n",
       "    <tr>\n",
       "      <th>4</th>\n",
       "      <td>NaN</td>\n",
       "      <td>PERM</td>\n",
       "      <td>A-07345-03565</td>\n",
       "      <td>NaT</td>\n",
       "      <td>Certified</td>\n",
       "      <td>L-1</td>\n",
       "      <td>CANADA</td>\n",
       "      <td>2012-01-26</td>\n",
       "      <td>NaN</td>\n",
       "      <td>NaN</td>\n",
       "      <td>ALBANY</td>\n",
       "      <td>ALBANY INTERNATIONAL CORP.</td>\n",
       "      <td>NY</td>\n",
       "      <td>NaN</td>\n",
       "      <td>NaN</td>\n",
       "      <td>NaN</td>\n",
       "      <td>NaN</td>\n",
       "      <td>NaN</td>\n",
       "      <td>NY</td>\n",
       "      <td>yr</td>\n",
       "      <td>94890.00</td>\n",
       "      <td>Level IV</td>\n",
       "      <td>OES</td>\n",
       "      <td>Advanced Mfg</td>\n",
       "      <td>100000</td>\n",
       "      <td>yr</td>\n",
       "    </tr>\n",
       "  </tbody>\n",
       "</table>\n",
       "</div>"
      ],
      "text/plain": [
       "  agent_state application_type        case_no case_received_date case_status  \\\n",
       "0         NaN             PERM  A-07323-97014                NaT   Certified   \n",
       "1         NaN             PERM  A-07332-99439                NaT      Denied   \n",
       "2         NaN             PERM  A-07333-99643                NaT   Certified   \n",
       "3         NaN             PERM  A-07339-01930                NaT   Certified   \n",
       "4         NaN             PERM  A-07345-03565                NaT   Certified   \n",
       "\n",
       "  class_of_admission country_of_citizenship decision_date  \\\n",
       "0                J-1                ARMENIA    2012-02-01   \n",
       "1                B-2                 POLAND    2011-12-21   \n",
       "2               H-1B                  INDIA    2011-12-01   \n",
       "3                B-2            SOUTH KOREA    2011-12-01   \n",
       "4                L-1                 CANADA    2012-01-26   \n",
       "\n",
       "   employer_num_employees  employer_yr_estab employer_city  \\\n",
       "0                     NaN                NaN      NEW YORK   \n",
       "1                     NaN                NaN     CARLSTADT   \n",
       "2                     NaN                NaN    GLEN ALLEN   \n",
       "3                     NaN                NaN      FLUSHING   \n",
       "4                     NaN                NaN        ALBANY   \n",
       "\n",
       "                 employer_name employer_state foreign_worker_info_education  \\\n",
       "0             NETSOFT USA INC.             NY                           NaN   \n",
       "1  PINNACLE ENVIRONEMNTAL CORP             NY                           NaN   \n",
       "2   SCHNABEL ENGINEERING, INC.             VA                           NaN   \n",
       "3      EBENEZER MISSION CHURCH             NY                           NaN   \n",
       "4   ALBANY INTERNATIONAL CORP.             NY                           NaN   \n",
       "\n",
       "  foreign_worker_info_major job_experience job_title job_training  \\\n",
       "0                       NaN            NaN       NaN          NaN   \n",
       "1                       NaN            NaN       NaN          NaN   \n",
       "2                       NaN            NaN       NaN          NaN   \n",
       "3                       NaN            NaN       NaN          NaN   \n",
       "4                       NaN            NaN       NaN          NaN   \n",
       "\n",
       "  job_work_state pv_unit_of_pay_9089  previous_salary     level source_name  \\\n",
       "0             NY                  yr         75629.00  Level II         OES   \n",
       "1             NY                  yr         37024.00   Level I         OES   \n",
       "2             MD                  yr         47923.00   Level I         OES   \n",
       "3             NY                  hr            10.97  Level II         OES   \n",
       "4             NY                  yr         94890.00  Level IV         OES   \n",
       "\n",
       "                  sector wage_offer wage_unit_of_pay  \n",
       "0                     IT      75629               yr  \n",
       "1  Other Economic Sector      37024               yr  \n",
       "2              Aerospace      47923               yr  \n",
       "3  Other Economic Sector      10.97               hr  \n",
       "4           Advanced Mfg     100000               yr  "
      ]
     },
     "execution_count": 4,
     "metadata": {},
     "output_type": "execute_result"
    }
   ],
   "source": [
    "data.head()"
   ]
  },
  {
   "cell_type": "code",
   "execution_count": 5,
   "metadata": {},
   "outputs": [
    {
     "data": {
      "text/plain": [
       "OES                   341918\n",
       "Other                  25851\n",
       "CBA                     3854\n",
       "Employer Conducted       539\n",
       "SCA                       77\n",
       "DBA                       24\n",
       "Name: source_name, dtype: int64"
      ]
     },
     "execution_count": 5,
     "metadata": {},
     "output_type": "execute_result"
    }
   ],
   "source": [
    "data.source_name.value_counts()"
   ]
  },
  {
   "cell_type": "code",
   "execution_count": 5,
   "metadata": {},
   "outputs": [
    {
     "name": "stdout",
     "output_type": "stream",
     "text": [
      "<class 'pandas.core.frame.DataFrame'>\n",
      "RangeIndex: 374362 entries, 0 to 374361\n",
      "Data columns (total 26 columns):\n",
      "agent_state                      208239 non-null object\n",
      "application_type                 135269 non-null object\n",
      "case_no                          135269 non-null object\n",
      "case_received_date               239091 non-null datetime64[ns]\n",
      "case_status                      374362 non-null object\n",
      "class_of_admission               351517 non-null object\n",
      "country_of_citizenship           374302 non-null object\n",
      "decision_date                    374362 non-null datetime64[ns]\n",
      "employer_num_employees           239013 non-null float32\n",
      "employer_yr_estab                238958 non-null float16\n",
      "employer_city                    374348 non-null object\n",
      "employer_name                    374350 non-null object\n",
      "employer_state                   374320 non-null object\n",
      "foreign_worker_info_education    239053 non-null object\n",
      "foreign_worker_info_major        219390 non-null object\n",
      "job_experience                   239081 non-null object\n",
      "job_title                        239049 non-null object\n",
      "job_training                     239078 non-null object\n",
      "job_work_state                   374259 non-null object\n",
      "pv_unit_of_pay_9089              364309 non-null object\n",
      "previous_salary                  372146 non-null float32\n",
      "level                            346735 non-null object\n",
      "source_name                      372263 non-null object\n",
      "sector                           129068 non-null object\n",
      "wage_offer                       259591 non-null object\n",
      "wage_unit_of_pay                 258446 non-null object\n",
      "dtypes: datetime64[ns](2), float16(1), float32(2), object(21)\n",
      "memory usage: 69.3+ MB\n",
      "info None\n",
      "Shape== (374362, 26)\n"
     ]
    }
   ],
   "source": [
    "print('info',data.info())\n",
    "print('Shape==',data.shape)"
   ]
  },
  {
   "cell_type": "code",
   "execution_count": null,
   "metadata": {},
   "outputs": [],
   "source": []
  },
  {
   "cell_type": "code",
   "execution_count": 6,
   "metadata": {},
   "outputs": [],
   "source": [
    "data.drop_duplicates(inplace=True) "
   ]
  },
  {
   "cell_type": "code",
   "execution_count": 7,
   "metadata": {},
   "outputs": [
    {
     "data": {
      "text/plain": [
       "(365627, 26)"
      ]
     },
     "execution_count": 7,
     "metadata": {},
     "output_type": "execute_result"
    }
   ],
   "source": [
    "data.shape"
   ]
  },
  {
   "cell_type": "code",
   "execution_count": 12,
   "metadata": {},
   "outputs": [
    {
     "data": {
      "text/plain": [
       "Certified            0.486835\n",
       "Certified-Expired    0.396213\n",
       "Denied               0.068564\n",
       "Withdrawn            0.048388\n",
       "Name: case_status, dtype: float64"
      ]
     },
     "execution_count": 12,
     "metadata": {},
     "output_type": "execute_result"
    }
   ],
   "source": [
    "data.case_status.value_counts(1)"
   ]
  },
  {
   "cell_type": "markdown",
   "metadata": {},
   "source": [
    "### Extracting month and year  from Dates\n",
    "1. The first 2 numbers in the case_no follow a pattern and depict the year .\n",
    "2. It has been observed that in each record , either the case_no is available or the case_received_date\n",
    "3. We will hence extract the year from case_no and impute the case_received_date_year column for its missing values"
   ]
  },
  {
   "cell_type": "code",
   "execution_count": 8,
   "metadata": {},
   "outputs": [],
   "source": [
    "## We have two date columns:-- case_received_date and decision_date so convert date into month and year and try to get some infernces from that.\n",
    "\n",
    "data['case_received_date_year']=data.case_received_date.dt.year\n",
    "data['case_received_date_month']=data.case_received_date.dt.month\n",
    "\n",
    "data['decision_date_month']=data.decision_date.dt.month\n",
    "data['decision_date_year']=data.decision_date.dt.year"
   ]
  },
  {
   "cell_type": "code",
   "execution_count": 11,
   "metadata": {},
   "outputs": [
    {
     "data": {
      "text/plain": [
       "689.3894597499637"
      ]
     },
     "execution_count": 11,
     "metadata": {},
     "output_type": "execute_result"
    }
   ],
   "source": [
    "data.isnull().sum().sum()*100/365627"
   ]
  },
  {
   "cell_type": "code",
   "execution_count": 9,
   "metadata": {},
   "outputs": [
    {
     "data": {
      "text/plain": [
       "agent_state                      44.076887\n",
       "application_type                 63.003553\n",
       "case_no                          63.003553\n",
       "case_received_date               36.996994\n",
       "class_of_admission                5.749302\n",
       "country_of_citizenship            0.016410\n",
       "employer_num_employees           37.018327\n",
       "employer_yr_estab                37.033370\n",
       "employer_city                     0.003829\n",
       "employer_name                     0.003282\n",
       "employer_state                    0.011487\n",
       "foreign_worker_info_education    37.007114\n",
       "foreign_worker_info_major        41.479978\n",
       "job_experience                   36.999729\n",
       "job_title                        37.008481\n",
       "job_training                     37.000550\n",
       "job_work_state                    0.028171\n",
       "pv_unit_of_pay_9089               2.633832\n",
       "previous_salary                   0.605535\n",
       "level                             7.410558\n",
       "source_name                       0.573535\n",
       "sector                           64.699544\n",
       "wage_offer                       31.390187\n",
       "wage_unit_of_pay                 31.641263\n",
       "case_received_date_year          36.996994\n",
       "case_received_date_month         36.996994\n",
       "dtype: float64"
      ]
     },
     "execution_count": 9,
     "metadata": {},
     "output_type": "execute_result"
    }
   ],
   "source": [
    "(data.isnull().sum()[data.isna().sum()!=0])*100/365627"
   ]
  },
  {
   "cell_type": "markdown",
   "metadata": {},
   "source": [
    "### Imputing Missing values in columns less with than 2% missing values"
   ]
  },
  {
   "cell_type": "code",
   "execution_count": 10,
   "metadata": {},
   "outputs": [
    {
     "data": {
      "text/plain": [
       "agent_state                      161157\n",
       "application_type                 230358\n",
       "case_no                          230358\n",
       "case_received_date               135271\n",
       "class_of_admission                21021\n",
       "employer_num_employees           135349\n",
       "employer_yr_estab                135404\n",
       "employer_state                       42\n",
       "foreign_worker_info_education    135308\n",
       "foreign_worker_info_major        151662\n",
       "job_experience                   135281\n",
       "job_title                        135313\n",
       "job_training                     135284\n",
       "pv_unit_of_pay_9089                9630\n",
       "level                             27095\n",
       "sector                           236559\n",
       "wage_offer                       114771\n",
       "wage_unit_of_pay                 115689\n",
       "case_received_date_year          135271\n",
       "case_received_date_month         135271\n",
       "dtype: int64"
      ]
     },
     "execution_count": 10,
     "metadata": {},
     "output_type": "execute_result"
    }
   ],
   "source": [
    "data.source_name.fillna(data.source_name.mode()[0],inplace=True)\n",
    "data.previous_salary.fillna(data.previous_salary.median(),inplace=True)\n",
    "data.job_work_state.fillna(data.job_work_state.mode()[0],inplace=True)\n",
    "data.country_of_citizenship.fillna(data.country_of_citizenship.mode()[0],inplace=True)\n",
    "data.employer_city.fillna(data.employer_city.mode()[0],inplace=True)\n",
    "data.employer_name.fillna(data.employer_name.mode()[0],inplace=True)\n",
    "\n",
    "\n",
    "data.isnull().sum()[data.isnull().sum()!=0]"
   ]
  },
  {
   "cell_type": "code",
   "execution_count": null,
   "metadata": {},
   "outputs": [],
   "source": []
  },
  {
   "cell_type": "markdown",
   "metadata": {},
   "source": [
    "### Extract year as we got pattern from case_no and impute it into feature"
   ]
  },
  {
   "cell_type": "code",
   "execution_count": 11,
   "metadata": {},
   "outputs": [
    {
     "data": {
      "text/plain": [
       "0    2007323\n",
       "1    2007332\n",
       "2    2007333\n",
       "3    2007339\n",
       "4    2007345\n",
       "Name: Yr, dtype: object"
      ]
     },
     "execution_count": 11,
     "metadata": {},
     "output_type": "execute_result"
    }
   ],
   "source": [
    "raw=data.case_no[data.case_no.notnull()]\n",
    "year=raw.transform(lambda x:x.split(\"-\")[1])\n",
    "data['Yr']='20'+year\n",
    "data['Yr'].head()"
   ]
  },
  {
   "cell_type": "code",
   "execution_count": 12,
   "metadata": {
    "scrolled": false
   },
   "outputs": [
    {
     "data": {
      "text/plain": [
       "'2007'"
      ]
     },
     "execution_count": 12,
     "metadata": {},
     "output_type": "execute_result"
    }
   ],
   "source": [
    "y=data['Yr'].astype('str')\n",
    "new=[]\n",
    "for i in y.index:\n",
    "    new.append(y[i][:-3])\n",
    "    \n",
    "new[1]"
   ]
  },
  {
   "cell_type": "code",
   "execution_count": 13,
   "metadata": {},
   "outputs": [
    {
     "data": {
      "text/html": [
       "<div>\n",
       "<style scoped>\n",
       "    .dataframe tbody tr th:only-of-type {\n",
       "        vertical-align: middle;\n",
       "    }\n",
       "\n",
       "    .dataframe tbody tr th {\n",
       "        vertical-align: top;\n",
       "    }\n",
       "\n",
       "    .dataframe thead th {\n",
       "        text-align: right;\n",
       "    }\n",
       "</style>\n",
       "<table border=\"1\" class=\"dataframe\">\n",
       "  <thead>\n",
       "    <tr style=\"text-align: right;\">\n",
       "      <th></th>\n",
       "      <th>agent_state</th>\n",
       "      <th>application_type</th>\n",
       "      <th>case_no</th>\n",
       "      <th>case_received_date</th>\n",
       "      <th>case_status</th>\n",
       "      <th>class_of_admission</th>\n",
       "      <th>country_of_citizenship</th>\n",
       "      <th>decision_date</th>\n",
       "      <th>employer_num_employees</th>\n",
       "      <th>employer_yr_estab</th>\n",
       "      <th>employer_city</th>\n",
       "      <th>employer_name</th>\n",
       "      <th>employer_state</th>\n",
       "      <th>foreign_worker_info_education</th>\n",
       "      <th>foreign_worker_info_major</th>\n",
       "      <th>job_experience</th>\n",
       "      <th>job_title</th>\n",
       "      <th>job_training</th>\n",
       "      <th>job_work_state</th>\n",
       "      <th>pv_unit_of_pay_9089</th>\n",
       "      <th>previous_salary</th>\n",
       "      <th>level</th>\n",
       "      <th>source_name</th>\n",
       "      <th>sector</th>\n",
       "      <th>wage_offer</th>\n",
       "      <th>wage_unit_of_pay</th>\n",
       "      <th>case_received_date_year</th>\n",
       "      <th>case_received_date_month</th>\n",
       "      <th>decision_date_month</th>\n",
       "      <th>decision_date_year</th>\n",
       "      <th>Received_Year</th>\n",
       "    </tr>\n",
       "  </thead>\n",
       "  <tbody>\n",
       "    <tr>\n",
       "      <th>0</th>\n",
       "      <td>NaN</td>\n",
       "      <td>PERM</td>\n",
       "      <td>A-07323-97014</td>\n",
       "      <td>NaT</td>\n",
       "      <td>Certified</td>\n",
       "      <td>J-1</td>\n",
       "      <td>ARMENIA</td>\n",
       "      <td>2012-02-01</td>\n",
       "      <td>NaN</td>\n",
       "      <td>NaN</td>\n",
       "      <td>NEW YORK</td>\n",
       "      <td>NETSOFT USA INC.</td>\n",
       "      <td>NY</td>\n",
       "      <td>NaN</td>\n",
       "      <td>NaN</td>\n",
       "      <td>NaN</td>\n",
       "      <td>NaN</td>\n",
       "      <td>NaN</td>\n",
       "      <td>NY</td>\n",
       "      <td>yr</td>\n",
       "      <td>75629.00</td>\n",
       "      <td>Level II</td>\n",
       "      <td>OES</td>\n",
       "      <td>IT</td>\n",
       "      <td>75629</td>\n",
       "      <td>yr</td>\n",
       "      <td>2007</td>\n",
       "      <td>NaN</td>\n",
       "      <td>2</td>\n",
       "      <td>2012</td>\n",
       "      <td>2007</td>\n",
       "    </tr>\n",
       "    <tr>\n",
       "      <th>1</th>\n",
       "      <td>NaN</td>\n",
       "      <td>PERM</td>\n",
       "      <td>A-07332-99439</td>\n",
       "      <td>NaT</td>\n",
       "      <td>Denied</td>\n",
       "      <td>B-2</td>\n",
       "      <td>POLAND</td>\n",
       "      <td>2011-12-21</td>\n",
       "      <td>NaN</td>\n",
       "      <td>NaN</td>\n",
       "      <td>CARLSTADT</td>\n",
       "      <td>PINNACLE ENVIRONEMNTAL CORP</td>\n",
       "      <td>NY</td>\n",
       "      <td>NaN</td>\n",
       "      <td>NaN</td>\n",
       "      <td>NaN</td>\n",
       "      <td>NaN</td>\n",
       "      <td>NaN</td>\n",
       "      <td>NY</td>\n",
       "      <td>yr</td>\n",
       "      <td>37024.00</td>\n",
       "      <td>Level I</td>\n",
       "      <td>OES</td>\n",
       "      <td>Other Economic Sector</td>\n",
       "      <td>37024</td>\n",
       "      <td>yr</td>\n",
       "      <td>2007</td>\n",
       "      <td>NaN</td>\n",
       "      <td>12</td>\n",
       "      <td>2011</td>\n",
       "      <td>2007</td>\n",
       "    </tr>\n",
       "    <tr>\n",
       "      <th>2</th>\n",
       "      <td>NaN</td>\n",
       "      <td>PERM</td>\n",
       "      <td>A-07333-99643</td>\n",
       "      <td>NaT</td>\n",
       "      <td>Certified</td>\n",
       "      <td>H-1B</td>\n",
       "      <td>INDIA</td>\n",
       "      <td>2011-12-01</td>\n",
       "      <td>NaN</td>\n",
       "      <td>NaN</td>\n",
       "      <td>GLEN ALLEN</td>\n",
       "      <td>SCHNABEL ENGINEERING, INC.</td>\n",
       "      <td>VA</td>\n",
       "      <td>NaN</td>\n",
       "      <td>NaN</td>\n",
       "      <td>NaN</td>\n",
       "      <td>NaN</td>\n",
       "      <td>NaN</td>\n",
       "      <td>MD</td>\n",
       "      <td>yr</td>\n",
       "      <td>47923.00</td>\n",
       "      <td>Level I</td>\n",
       "      <td>OES</td>\n",
       "      <td>Aerospace</td>\n",
       "      <td>47923</td>\n",
       "      <td>yr</td>\n",
       "      <td>2007</td>\n",
       "      <td>NaN</td>\n",
       "      <td>12</td>\n",
       "      <td>2011</td>\n",
       "      <td>2007</td>\n",
       "    </tr>\n",
       "    <tr>\n",
       "      <th>3</th>\n",
       "      <td>NaN</td>\n",
       "      <td>PERM</td>\n",
       "      <td>A-07339-01930</td>\n",
       "      <td>NaT</td>\n",
       "      <td>Certified</td>\n",
       "      <td>B-2</td>\n",
       "      <td>SOUTH KOREA</td>\n",
       "      <td>2011-12-01</td>\n",
       "      <td>NaN</td>\n",
       "      <td>NaN</td>\n",
       "      <td>FLUSHING</td>\n",
       "      <td>EBENEZER MISSION CHURCH</td>\n",
       "      <td>NY</td>\n",
       "      <td>NaN</td>\n",
       "      <td>NaN</td>\n",
       "      <td>NaN</td>\n",
       "      <td>NaN</td>\n",
       "      <td>NaN</td>\n",
       "      <td>NY</td>\n",
       "      <td>hr</td>\n",
       "      <td>10.97</td>\n",
       "      <td>Level II</td>\n",
       "      <td>OES</td>\n",
       "      <td>Other Economic Sector</td>\n",
       "      <td>10.97</td>\n",
       "      <td>hr</td>\n",
       "      <td>2007</td>\n",
       "      <td>NaN</td>\n",
       "      <td>12</td>\n",
       "      <td>2011</td>\n",
       "      <td>2007</td>\n",
       "    </tr>\n",
       "    <tr>\n",
       "      <th>4</th>\n",
       "      <td>NaN</td>\n",
       "      <td>PERM</td>\n",
       "      <td>A-07345-03565</td>\n",
       "      <td>NaT</td>\n",
       "      <td>Certified</td>\n",
       "      <td>L-1</td>\n",
       "      <td>CANADA</td>\n",
       "      <td>2012-01-26</td>\n",
       "      <td>NaN</td>\n",
       "      <td>NaN</td>\n",
       "      <td>ALBANY</td>\n",
       "      <td>ALBANY INTERNATIONAL CORP.</td>\n",
       "      <td>NY</td>\n",
       "      <td>NaN</td>\n",
       "      <td>NaN</td>\n",
       "      <td>NaN</td>\n",
       "      <td>NaN</td>\n",
       "      <td>NaN</td>\n",
       "      <td>NY</td>\n",
       "      <td>yr</td>\n",
       "      <td>94890.00</td>\n",
       "      <td>Level IV</td>\n",
       "      <td>OES</td>\n",
       "      <td>Advanced Mfg</td>\n",
       "      <td>100000</td>\n",
       "      <td>yr</td>\n",
       "      <td>2007</td>\n",
       "      <td>NaN</td>\n",
       "      <td>1</td>\n",
       "      <td>2012</td>\n",
       "      <td>2007</td>\n",
       "    </tr>\n",
       "  </tbody>\n",
       "</table>\n",
       "</div>"
      ],
      "text/plain": [
       "  agent_state application_type        case_no case_received_date case_status  \\\n",
       "0         NaN             PERM  A-07323-97014                NaT   Certified   \n",
       "1         NaN             PERM  A-07332-99439                NaT      Denied   \n",
       "2         NaN             PERM  A-07333-99643                NaT   Certified   \n",
       "3         NaN             PERM  A-07339-01930                NaT   Certified   \n",
       "4         NaN             PERM  A-07345-03565                NaT   Certified   \n",
       "\n",
       "  class_of_admission country_of_citizenship decision_date  \\\n",
       "0                J-1                ARMENIA    2012-02-01   \n",
       "1                B-2                 POLAND    2011-12-21   \n",
       "2               H-1B                  INDIA    2011-12-01   \n",
       "3                B-2            SOUTH KOREA    2011-12-01   \n",
       "4                L-1                 CANADA    2012-01-26   \n",
       "\n",
       "   employer_num_employees  employer_yr_estab employer_city  \\\n",
       "0                     NaN                NaN      NEW YORK   \n",
       "1                     NaN                NaN     CARLSTADT   \n",
       "2                     NaN                NaN    GLEN ALLEN   \n",
       "3                     NaN                NaN      FLUSHING   \n",
       "4                     NaN                NaN        ALBANY   \n",
       "\n",
       "                 employer_name employer_state foreign_worker_info_education  \\\n",
       "0             NETSOFT USA INC.             NY                           NaN   \n",
       "1  PINNACLE ENVIRONEMNTAL CORP             NY                           NaN   \n",
       "2   SCHNABEL ENGINEERING, INC.             VA                           NaN   \n",
       "3      EBENEZER MISSION CHURCH             NY                           NaN   \n",
       "4   ALBANY INTERNATIONAL CORP.             NY                           NaN   \n",
       "\n",
       "  foreign_worker_info_major job_experience job_title job_training  \\\n",
       "0                       NaN            NaN       NaN          NaN   \n",
       "1                       NaN            NaN       NaN          NaN   \n",
       "2                       NaN            NaN       NaN          NaN   \n",
       "3                       NaN            NaN       NaN          NaN   \n",
       "4                       NaN            NaN       NaN          NaN   \n",
       "\n",
       "  job_work_state pv_unit_of_pay_9089  previous_salary     level source_name  \\\n",
       "0             NY                  yr         75629.00  Level II         OES   \n",
       "1             NY                  yr         37024.00   Level I         OES   \n",
       "2             MD                  yr         47923.00   Level I         OES   \n",
       "3             NY                  hr            10.97  Level II         OES   \n",
       "4             NY                  yr         94890.00  Level IV         OES   \n",
       "\n",
       "                  sector wage_offer wage_unit_of_pay case_received_date_year  \\\n",
       "0                     IT      75629               yr                    2007   \n",
       "1  Other Economic Sector      37024               yr                    2007   \n",
       "2              Aerospace      47923               yr                    2007   \n",
       "3  Other Economic Sector      10.97               hr                    2007   \n",
       "4           Advanced Mfg     100000               yr                    2007   \n",
       "\n",
       "   case_received_date_month  decision_date_month  decision_date_year  \\\n",
       "0                       NaN                    2                2012   \n",
       "1                       NaN                   12                2011   \n",
       "2                       NaN                   12                2011   \n",
       "3                       NaN                   12                2011   \n",
       "4                       NaN                    1                2012   \n",
       "\n",
       "  Received_Year  \n",
       "0          2007  \n",
       "1          2007  \n",
       "2          2007  \n",
       "3          2007  \n",
       "4          2007  "
      ]
     },
     "execution_count": 13,
     "metadata": {},
     "output_type": "execute_result"
    }
   ],
   "source": [
    "data['Received_Year']=new\n",
    "\n",
    "data.drop('Yr',axis=1,inplace=True)\n",
    "\n",
    "data.case_received_date_year.fillna(data.Received_Year,inplace=True)\n",
    "\n",
    "\n",
    "\n",
    "data.decision_date_year=data.decision_date_year.astype('int')\n",
    "data.head()"
   ]
  },
  {
   "cell_type": "code",
   "execution_count": 14,
   "metadata": {},
   "outputs": [
    {
     "data": {
      "text/plain": [
       "array(['2007', '2008', '2006', '2009', '2011', '2010', '2012', '2013',\n",
       "       '2005', '2014', 2013.0, 2014.0, 2009.0, 2010.0, 2008.0, 2012.0,\n",
       "       2015.0, 2006.0, 2007.0, 2011.0, '', 2016.0], dtype=object)"
      ]
     },
     "execution_count": 14,
     "metadata": {},
     "output_type": "execute_result"
    }
   ],
   "source": [
    "data.case_received_date_year.unique()"
   ]
  },
  {
   "cell_type": "code",
   "execution_count": 15,
   "metadata": {
    "scrolled": true
   },
   "outputs": [
    {
     "data": {
      "text/html": [
       "<div>\n",
       "<style scoped>\n",
       "    .dataframe tbody tr th:only-of-type {\n",
       "        vertical-align: middle;\n",
       "    }\n",
       "\n",
       "    .dataframe tbody tr th {\n",
       "        vertical-align: top;\n",
       "    }\n",
       "\n",
       "    .dataframe thead th {\n",
       "        text-align: right;\n",
       "    }\n",
       "</style>\n",
       "<table border=\"1\" class=\"dataframe\">\n",
       "  <thead>\n",
       "    <tr style=\"text-align: right;\">\n",
       "      <th></th>\n",
       "      <th>agent_state</th>\n",
       "      <th>application_type</th>\n",
       "      <th>case_no</th>\n",
       "      <th>case_received_date</th>\n",
       "      <th>case_status</th>\n",
       "      <th>class_of_admission</th>\n",
       "      <th>country_of_citizenship</th>\n",
       "      <th>decision_date</th>\n",
       "      <th>employer_num_employees</th>\n",
       "      <th>employer_yr_estab</th>\n",
       "      <th>employer_city</th>\n",
       "      <th>employer_name</th>\n",
       "      <th>employer_state</th>\n",
       "      <th>foreign_worker_info_education</th>\n",
       "      <th>foreign_worker_info_major</th>\n",
       "      <th>job_experience</th>\n",
       "      <th>job_title</th>\n",
       "      <th>job_training</th>\n",
       "      <th>job_work_state</th>\n",
       "      <th>pv_unit_of_pay_9089</th>\n",
       "      <th>previous_salary</th>\n",
       "      <th>level</th>\n",
       "      <th>source_name</th>\n",
       "      <th>sector</th>\n",
       "      <th>wage_offer</th>\n",
       "      <th>wage_unit_of_pay</th>\n",
       "      <th>case_received_date_year</th>\n",
       "      <th>case_received_date_month</th>\n",
       "      <th>decision_date_month</th>\n",
       "      <th>decision_date_year</th>\n",
       "      <th>Received_Year</th>\n",
       "    </tr>\n",
       "  </thead>\n",
       "  <tbody>\n",
       "    <tr>\n",
       "      <th>188375</th>\n",
       "      <td>FLORIDA</td>\n",
       "      <td>NaN</td>\n",
       "      <td>NaN</td>\n",
       "      <td>NaT</td>\n",
       "      <td>Withdrawn</td>\n",
       "      <td>H-1B</td>\n",
       "      <td>CHILE</td>\n",
       "      <td>2014-12-04</td>\n",
       "      <td>88.0</td>\n",
       "      <td>1999.0</td>\n",
       "      <td>COCONUT GROVE</td>\n",
       "      <td>TRAX USA CORP.</td>\n",
       "      <td>FLORIDA</td>\n",
       "      <td>Bachelor's</td>\n",
       "      <td>MANAGEMENT OF TECHNICAL OPERATIONS</td>\n",
       "      <td>Y</td>\n",
       "      <td>Functional Software Specialist</td>\n",
       "      <td>N</td>\n",
       "      <td>FLORIDA</td>\n",
       "      <td>Year</td>\n",
       "      <td>96325.0</td>\n",
       "      <td>Level IV</td>\n",
       "      <td>OES</td>\n",
       "      <td>NaN</td>\n",
       "      <td>96325</td>\n",
       "      <td>Year</td>\n",
       "      <td></td>\n",
       "      <td>NaN</td>\n",
       "      <td>12</td>\n",
       "      <td>2014</td>\n",
       "      <td></td>\n",
       "    </tr>\n",
       "    <tr>\n",
       "      <th>198698</th>\n",
       "      <td>CALIFORNIA</td>\n",
       "      <td>NaN</td>\n",
       "      <td>NaN</td>\n",
       "      <td>NaT</td>\n",
       "      <td>Withdrawn</td>\n",
       "      <td>H-1B</td>\n",
       "      <td>BRAZIL</td>\n",
       "      <td>2015-03-06</td>\n",
       "      <td>30000.0</td>\n",
       "      <td>1998.0</td>\n",
       "      <td>NEW YORK</td>\n",
       "      <td>PRICEWATERHOUSECOOPERS</td>\n",
       "      <td>NEW YORK</td>\n",
       "      <td>Master's</td>\n",
       "      <td>BUSINESS ADMINISTRATION (GRADUATED: 05/20/2012)</td>\n",
       "      <td>Y</td>\n",
       "      <td>Senior Associate</td>\n",
       "      <td>N</td>\n",
       "      <td>NEW YORK</td>\n",
       "      <td>Year</td>\n",
       "      <td>132558.0</td>\n",
       "      <td>Level IV</td>\n",
       "      <td>OES</td>\n",
       "      <td>NaN</td>\n",
       "      <td>132558</td>\n",
       "      <td>Year</td>\n",
       "      <td></td>\n",
       "      <td>NaN</td>\n",
       "      <td>3</td>\n",
       "      <td>2015</td>\n",
       "      <td></td>\n",
       "    </tr>\n",
       "  </tbody>\n",
       "</table>\n",
       "</div>"
      ],
      "text/plain": [
       "       agent_state application_type case_no case_received_date case_status  \\\n",
       "188375     FLORIDA              NaN     NaN                NaT   Withdrawn   \n",
       "198698  CALIFORNIA              NaN     NaN                NaT   Withdrawn   \n",
       "\n",
       "       class_of_admission country_of_citizenship decision_date  \\\n",
       "188375               H-1B                  CHILE    2014-12-04   \n",
       "198698               H-1B                 BRAZIL    2015-03-06   \n",
       "\n",
       "        employer_num_employees  employer_yr_estab  employer_city  \\\n",
       "188375                    88.0             1999.0  COCONUT GROVE   \n",
       "198698                 30000.0             1998.0       NEW YORK   \n",
       "\n",
       "                 employer_name employer_state foreign_worker_info_education  \\\n",
       "188375          TRAX USA CORP.        FLORIDA                    Bachelor's   \n",
       "198698  PRICEWATERHOUSECOOPERS       NEW YORK                      Master's   \n",
       "\n",
       "                              foreign_worker_info_major job_experience  \\\n",
       "188375               MANAGEMENT OF TECHNICAL OPERATIONS              Y   \n",
       "198698  BUSINESS ADMINISTRATION (GRADUATED: 05/20/2012)              Y   \n",
       "\n",
       "                             job_title job_training job_work_state  \\\n",
       "188375  Functional Software Specialist            N        FLORIDA   \n",
       "198698                Senior Associate            N       NEW YORK   \n",
       "\n",
       "       pv_unit_of_pay_9089  previous_salary     level source_name sector  \\\n",
       "188375                Year          96325.0  Level IV         OES    NaN   \n",
       "198698                Year         132558.0  Level IV         OES    NaN   \n",
       "\n",
       "       wage_offer wage_unit_of_pay case_received_date_year  \\\n",
       "188375      96325             Year                           \n",
       "198698     132558             Year                           \n",
       "\n",
       "        case_received_date_month  decision_date_month  decision_date_year  \\\n",
       "188375                       NaN                   12                2014   \n",
       "198698                       NaN                    3                2015   \n",
       "\n",
       "       Received_Year  \n",
       "188375                \n",
       "198698                "
      ]
     },
     "execution_count": 15,
     "metadata": {},
     "output_type": "execute_result"
    }
   ],
   "source": [
    "data[data.case_received_date_year=='']"
   ]
  },
  {
   "cell_type": "code",
   "execution_count": 16,
   "metadata": {},
   "outputs": [],
   "source": [
    "data.case_received_date_year.replace(\"\",1996,inplace=True) #1996 is the mode"
   ]
  },
  {
   "cell_type": "code",
   "execution_count": 17,
   "metadata": {},
   "outputs": [],
   "source": [
    "data.case_received_date_year=data.case_received_date_year.astype('int')"
   ]
  },
  {
   "cell_type": "code",
   "execution_count": 18,
   "metadata": {},
   "outputs": [
    {
     "data": {
      "text/html": [
       "<div>\n",
       "<style scoped>\n",
       "    .dataframe tbody tr th:only-of-type {\n",
       "        vertical-align: middle;\n",
       "    }\n",
       "\n",
       "    .dataframe tbody tr th {\n",
       "        vertical-align: top;\n",
       "    }\n",
       "\n",
       "    .dataframe thead th {\n",
       "        text-align: right;\n",
       "    }\n",
       "</style>\n",
       "<table border=\"1\" class=\"dataframe\">\n",
       "  <thead>\n",
       "    <tr style=\"text-align: right;\">\n",
       "      <th></th>\n",
       "      <th>agent_state</th>\n",
       "      <th>application_type</th>\n",
       "      <th>case_no</th>\n",
       "      <th>case_received_date</th>\n",
       "      <th>case_status</th>\n",
       "      <th>class_of_admission</th>\n",
       "      <th>country_of_citizenship</th>\n",
       "      <th>decision_date</th>\n",
       "      <th>employer_num_employees</th>\n",
       "      <th>employer_yr_estab</th>\n",
       "      <th>employer_city</th>\n",
       "      <th>employer_name</th>\n",
       "      <th>employer_state</th>\n",
       "      <th>foreign_worker_info_education</th>\n",
       "      <th>foreign_worker_info_major</th>\n",
       "      <th>job_experience</th>\n",
       "      <th>job_title</th>\n",
       "      <th>job_training</th>\n",
       "      <th>job_work_state</th>\n",
       "      <th>pv_unit_of_pay_9089</th>\n",
       "      <th>previous_salary</th>\n",
       "      <th>level</th>\n",
       "      <th>source_name</th>\n",
       "      <th>sector</th>\n",
       "      <th>wage_offer</th>\n",
       "      <th>wage_unit_of_pay</th>\n",
       "      <th>case_received_date_year</th>\n",
       "      <th>case_received_date_month</th>\n",
       "      <th>decision_date_month</th>\n",
       "      <th>decision_date_year</th>\n",
       "      <th>Received_Year</th>\n",
       "    </tr>\n",
       "  </thead>\n",
       "  <tbody>\n",
       "  </tbody>\n",
       "</table>\n",
       "</div>"
      ],
      "text/plain": [
       "Empty DataFrame\n",
       "Columns: [agent_state, application_type, case_no, case_received_date, case_status, class_of_admission, country_of_citizenship, decision_date, employer_num_employees, employer_yr_estab, employer_city, employer_name, employer_state, foreign_worker_info_education, foreign_worker_info_major, job_experience, job_title, job_training, job_work_state, pv_unit_of_pay_9089, previous_salary, level, source_name, sector, wage_offer, wage_unit_of_pay, case_received_date_year, case_received_date_month, decision_date_month, decision_date_year, Received_Year]\n",
       "Index: []"
      ]
     },
     "execution_count": 18,
     "metadata": {},
     "output_type": "execute_result"
    }
   ],
   "source": [
    "data[data.case_received_date_year>data.decision_date_year]   # This imputation is succesful"
   ]
  },
  {
   "cell_type": "code",
   "execution_count": 19,
   "metadata": {},
   "outputs": [
    {
     "data": {
      "text/plain": [
       "135404"
      ]
     },
     "execution_count": 19,
     "metadata": {},
     "output_type": "execute_result"
    }
   ],
   "source": [
    "data.employer_yr_estab.isnull().sum()"
   ]
  },
  {
   "cell_type": "markdown",
   "metadata": {},
   "source": [
    "### Inferences :\n",
    "1. We have extracted useful data from case_no (63% missing values) and case_received_date (37% missing values) , so now we will drop them.\n",
    "\n",
    "2. The new extracted features: case_received_date_mn nad decision_date_mn are not contributing to be helpful and moreover have missing values , so we have dropped them.\n"
   ]
  },
  {
   "cell_type": "code",
   "execution_count": 20,
   "metadata": {},
   "outputs": [
    {
     "data": {
      "text/plain": [
       "1996.0"
      ]
     },
     "execution_count": 20,
     "metadata": {},
     "output_type": "execute_result"
    }
   ],
   "source": [
    "data.employer_yr_estab.median()"
   ]
  },
  {
   "cell_type": "markdown",
   "metadata": {},
   "source": [
    "### Binning the years "
   ]
  },
  {
   "cell_type": "code",
   "execution_count": 21,
   "metadata": {},
   "outputs": [
    {
     "data": {
      "text/plain": [
       "0                      NaN\n",
       "1                      NaN\n",
       "2                      NaN\n",
       "3                      NaN\n",
       "4                      NaN\n",
       "5                      NaN\n",
       "6                      NaN\n",
       "7                      NaN\n",
       "8                      NaN\n",
       "9                      NaN\n",
       "10                     NaN\n",
       "11                     NaN\n",
       "12                     NaN\n",
       "13                     NaN\n",
       "14                     NaN\n",
       "15                     NaN\n",
       "16                     NaN\n",
       "17                     NaN\n",
       "18                     NaN\n",
       "19                     NaN\n",
       "20                     NaN\n",
       "21                     NaN\n",
       "22                     NaN\n",
       "23                     NaN\n",
       "24                     NaN\n",
       "25                     NaN\n",
       "26                     NaN\n",
       "27                     NaN\n",
       "28                     NaN\n",
       "29                     NaN\n",
       "                ...       \n",
       "374332    (-0.001, 1988.0]\n",
       "374333    (2001.0, 2016.0]\n",
       "374334    (2001.0, 2016.0]\n",
       "374335    (1988.0, 2001.0]\n",
       "374336    (2001.0, 2016.0]\n",
       "374337    (-0.001, 1988.0]\n",
       "374338    (-0.001, 1988.0]\n",
       "374339    (1988.0, 2001.0]\n",
       "374340    (1988.0, 2001.0]\n",
       "374341    (2001.0, 2016.0]\n",
       "374342    (-0.001, 1988.0]\n",
       "374343    (-0.001, 1988.0]\n",
       "374344    (1988.0, 2001.0]\n",
       "374345    (2001.0, 2016.0]\n",
       "374346    (2001.0, 2016.0]\n",
       "374347    (-0.001, 1988.0]\n",
       "374348    (2001.0, 2016.0]\n",
       "374349    (-0.001, 1988.0]\n",
       "374350    (1988.0, 2001.0]\n",
       "374351    (1988.0, 2001.0]\n",
       "374352    (-0.001, 1988.0]\n",
       "374353    (1988.0, 2001.0]\n",
       "374354    (-0.001, 1988.0]\n",
       "374355    (2001.0, 2016.0]\n",
       "374356    (2001.0, 2016.0]\n",
       "374357    (2001.0, 2016.0]\n",
       "374358    (-0.001, 1988.0]\n",
       "374359    (2001.0, 2016.0]\n",
       "374360    (2001.0, 2016.0]\n",
       "374361    (-0.001, 1988.0]\n",
       "Name: employer_yr_estab, Length: 365627, dtype: category\n",
       "Categories (3, interval[float64]): [(-0.001, 1988.0] < (1988.0, 2001.0] < (2001.0, 2016.0]]"
      ]
     },
     "execution_count": 21,
     "metadata": {},
     "output_type": "execute_result"
    }
   ],
   "source": [
    "pd.qcut(data.employer_yr_estab,3)"
   ]
  },
  {
   "cell_type": "code",
   "execution_count": 22,
   "metadata": {},
   "outputs": [],
   "source": [
    "data.employer_yr_estab.fillna(-1,inplace=True)  # Keeping the null values aside"
   ]
  },
  {
   "cell_type": "code",
   "execution_count": 23,
   "metadata": {},
   "outputs": [],
   "source": [
    "def age(x):\n",
    "    if x==-1:\n",
    "        return \"Unavailable\"\n",
    "    elif x>-1 and x<1600:\n",
    "        return \"Old\"\n",
    "    elif x>1988 and x<2001:\n",
    "        return 'Old'\n",
    "    elif x<1988:\n",
    "        return \"Ancient\"\n",
    "    else:\n",
    "        return \"New\"\n",
    "    \n",
    "data.employer_yr_estab=data.employer_yr_estab.apply(age)"
   ]
  },
  {
   "cell_type": "code",
   "execution_count": 24,
   "metadata": {},
   "outputs": [
    {
     "data": {
      "text/plain": [
       "Unavailable    0.370334\n",
       "New            0.228637\n",
       "Ancient        0.207824\n",
       "Old            0.193205\n",
       "Name: employer_yr_estab, dtype: float64"
      ]
     },
     "execution_count": 24,
     "metadata": {},
     "output_type": "execute_result"
    }
   ],
   "source": [
    "data.employer_yr_estab.value_counts(1)"
   ]
  },
  {
   "cell_type": "code",
   "execution_count": 25,
   "metadata": {},
   "outputs": [
    {
     "data": {
      "text/plain": [
       "45134.666666666664"
      ]
     },
     "execution_count": 25,
     "metadata": {},
     "output_type": "execute_result"
    }
   ],
   "source": [
    "135404/3"
   ]
  },
  {
   "cell_type": "code",
   "execution_count": 26,
   "metadata": {},
   "outputs": [
    {
     "data": {
      "text/plain": [
       "135402"
      ]
     },
     "execution_count": 26,
     "metadata": {},
     "output_type": "execute_result"
    }
   ],
   "source": [
    "45134*3"
   ]
  },
  {
   "cell_type": "code",
   "execution_count": 27,
   "metadata": {},
   "outputs": [],
   "source": [
    "state_abb = { 'Alabama': 'AL','Alaska': 'AK','Arizona': 'AZ','Arkansas': 'AR','California': 'CA','Colorado': 'CO',\n",
    "                 'Connecticut': 'CT','Delaware': 'DE','Florida': 'FL','Georgia': 'GA','Hawaii': 'HI','Idaho': 'ID',\n",
    "                  'Illinois': 'IL','Indiana': 'IN','Iowa': 'IA','Kansas': 'KS','Kentucky': 'KY','Louisiana': 'LA',\n",
    "                'Maine': 'ME','Maryland': 'MD', 'Massachusetts': 'MA','Michigan': 'MI','Minnesota': 'MN','Mississippi': 'MS',\n",
    "                'Missouri': 'MO','Montana': 'MT','Nebraska': 'NE','Nevada': 'NV','New Hampshire': 'NH','New Jersey': 'NJ',\n",
    "                'New Mexico': 'NM','New York': 'NY','North Carolina': 'NC','North Dakota': 'ND','Ohio': 'OH','Oklahoma': 'OK',\n",
    "                'Oregon': 'OR','Pennsylvania': 'PA','Rhode Island': 'RI','South Carolina': 'SC','South Dakota': 'SD',\n",
    "                'Tennessee': 'TN','Texas': 'TX','Utah': 'UT','Vermont': 'VT','Virginia': 'VA','Washington': 'WA',\n",
    "                'West Virginia': 'WV','Wisconsin': 'WI','Wyoming': 'WY','Northern Mariana Islands':'MP', 'Palau': 'PW', \n",
    "                'Puerto Rico': 'PR', 'Virgin Islands': 'VI', 'District of Columbia': 'DC','MARSHALL ISLANDS':'MH'}\n",
    "us_state_abbrev = {k.upper(): v for k, v in state_abb.items()}\n",
    "data['agent_state'].replace(us_state_abbrev, inplace=True)\n",
    "data.agent_state = data.agent_state.astype(str)"
   ]
  },
  {
   "cell_type": "code",
   "execution_count": 28,
   "metadata": {},
   "outputs": [
    {
     "data": {
      "text/plain": [
       "array(['nan', 'WI', 'NC', 'CO', 'CA', 'MI', 'NY', 'TX', 'PA', 'NJ', 'MO',\n",
       "       'FL', 'VA', 'OH', 'DC', 'IN', 'GA', 'MA', 'IL', 'AL', 'OK', 'WA',\n",
       "       'CT', 'MN', 'AR', 'HI', 'MD', 'UT', 'PR', 'AZ', 'NV', 'NH', 'OR',\n",
       "       'KS', 'NM', 'VT', 'TN', 'NE', 'LA', 'KY', 'GUAM', 'IA', 'SC', 'RI',\n",
       "       'ME', 'ID', 'ND', 'AK', 'MS', 'DE', 'MH', 'SD', 'MT', 'WV', 'GU',\n",
       "       'MP', 'WY', 'VI'], dtype=object)"
      ]
     },
     "execution_count": 28,
     "metadata": {},
     "output_type": "execute_result"
    }
   ],
   "source": [
    "data.agent_state.unique()"
   ]
  },
  {
   "cell_type": "code",
   "execution_count": 29,
   "metadata": {},
   "outputs": [],
   "source": [
    "def region(x):\n",
    "    return regions[x]\n",
    "\n",
    "data['agent_state'] = data['agent_state'].replace({\n",
    "    'ME':'Northeast', \n",
    "    'NY':'Northeast', \n",
    "    'NJ':'Northeast', \n",
    "    'VT':'Northeast',\n",
    "    'MA':'Northeast',\n",
    "    'RI':'Northeast',\n",
    "    'CT':'Northeast',\n",
    "    'NH':'Northeast',\n",
    "    'PA':'Northeast',\n",
    "    'IL':'Midwest',\n",
    "    'IN':'Midwest',\n",
    "    'IA':'Midwest', \n",
    "    'KS':'Midwest',\n",
    "    'MI':'Midwest', \n",
    "    'MN':'Midwest', \n",
    "    'MO':'Midwest', \n",
    "    'NE':'Midwest',\n",
    "    'ND':'Midwest', \n",
    "    'OH':'Midwest', \n",
    "    'SD':'Midwest', \n",
    "    'WI':'Midwest',\n",
    "    'DE':'South',\n",
    "    'FL':'South', \n",
    "    'GA':'South',\n",
    "    'MD':'South',\n",
    "    'NC':'South',\n",
    "    'SC':'South',\n",
    "    'VA':'South',\n",
    "    'WV':'South',\n",
    "    'AL':'South',\n",
    "    'KY':'South',\n",
    "    'MS':'South',\n",
    "    'TN':'South',\n",
    "    'AR':'South',\n",
    "    'LA':'South', \n",
    "    'OK':'South',\n",
    "    'TX':'South',\n",
    "    'MT':'West',\n",
    "    'WY':'West', \n",
    "    'CO':'West', \n",
    "    'NM':'West', \n",
    "    'ID':'West', \n",
    "    'UT':'West', \n",
    "    'AZ':'West', \n",
    "    'NV':'West',\n",
    "    'WA':'West', \n",
    "    'OR':'West', \n",
    "    'CA':'West', \n",
    "    'AK':'West',\n",
    "    'HI':'West',\n",
    "    'DC':'Other', \n",
    "    'GUAM':'Island',\n",
    "    'GU':'Island',\n",
    "    'PR':'Island', \n",
    "    'MP':'Island', \n",
    "    'VI':'Island',\n",
    "    'BC':'Northeast',\n",
    "    'BRITISH COLUMBIA':'Northeast',  \n",
    "    'nan':'Other',\n",
    "    'FEDERATED STATES OF MICRONESIA':'Other',\n",
    "'MH':'Island'})\n"
   ]
  },
  {
   "cell_type": "code",
   "execution_count": 30,
   "metadata": {},
   "outputs": [
    {
     "data": {
      "text/plain": [
       "Other        165132\n",
       "West          65564\n",
       "Northeast     53072\n",
       "South         52972\n",
       "Midwest       28620\n",
       "Island          267\n",
       "Name: agent_state, dtype: int64"
      ]
     },
     "execution_count": 30,
     "metadata": {},
     "output_type": "execute_result"
    }
   ],
   "source": [
    "data.agent_state.value_counts()"
   ]
  },
  {
   "cell_type": "code",
   "execution_count": 31,
   "metadata": {},
   "outputs": [
    {
     "data": {
      "text/plain": [
       "0"
      ]
     },
     "execution_count": 31,
     "metadata": {},
     "output_type": "execute_result"
    }
   ],
   "source": [
    "data.agent_state.isnull().sum()"
   ]
  },
  {
   "cell_type": "markdown",
   "metadata": {},
   "source": [
    "### Correcting the values of units of pay"
   ]
  },
  {
   "cell_type": "code",
   "execution_count": 32,
   "metadata": {},
   "outputs": [
    {
     "data": {
      "text/plain": [
       "(array(['Year', 'Hour', nan, 'Bi-Weekly', 'Month', 'Week'], dtype=object),\n",
       " array(['Year', 'Hour', 'Month', 'Week', 'Bi-Weekly', nan], dtype=object))"
      ]
     },
     "execution_count": 32,
     "metadata": {},
     "output_type": "execute_result"
    }
   ],
   "source": [
    "data.pv_unit_of_pay_9089.replace('yr','Year',inplace=True)\n",
    "data.pv_unit_of_pay_9089.replace('hr','Hour',inplace=True)\n",
    "data.pv_unit_of_pay_9089.replace('bi','Bi-Weekly',inplace=True)\n",
    "data.pv_unit_of_pay_9089.replace('mth','Month',inplace=True)\n",
    "data.pv_unit_of_pay_9089.replace('wk','Week',inplace=True)\n",
    "\n",
    "\n",
    "data.wage_unit_of_pay.replace('hr','Hour',inplace=True)\n",
    "data.wage_unit_of_pay.replace('bi','Bi-Weekly',inplace=True)\n",
    "data.wage_unit_of_pay.replace('mth','Month',inplace=True)\n",
    "data.wage_unit_of_pay.replace('wk','Week',inplace=True)\n",
    "data.wage_unit_of_pay.replace('yr','Year',inplace=True)\n",
    "\n",
    "data.pv_unit_of_pay_9089.unique(),data.wage_unit_of_pay.unique()"
   ]
  },
  {
   "cell_type": "markdown",
   "metadata": {},
   "source": [
    "### Analyzing columns like states to generalize them"
   ]
  },
  {
   "cell_type": "code",
   "execution_count": 33,
   "metadata": {},
   "outputs": [
    {
     "data": {
      "text/plain": [
       "array(['Other', 'Midwest', 'South', 'West', 'Northeast', 'Island'],\n",
       "      dtype=object)"
      ]
     },
     "execution_count": 33,
     "metadata": {},
     "output_type": "execute_result"
    }
   ],
   "source": [
    "data.agent_state.unique()"
   ]
  },
  {
   "cell_type": "code",
   "execution_count": 34,
   "metadata": {},
   "outputs": [
    {
     "data": {
      "text/plain": [
       "(Other        165132\n",
       " West          65564\n",
       " Northeast     53072\n",
       " South         52972\n",
       " Midwest       28620\n",
       " Name: agent_state, dtype: int64, Other        0.451641\n",
       " West         0.179319\n",
       " Northeast    0.145153\n",
       " South        0.144880\n",
       " Midwest      0.078276\n",
       " Name: agent_state, dtype: float64)"
      ]
     },
     "execution_count": 34,
     "metadata": {},
     "output_type": "execute_result"
    }
   ],
   "source": [
    "data.agent_state.value_counts().head(),data.agent_state.value_counts(1).head()"
   ]
  },
  {
   "cell_type": "markdown",
   "metadata": {},
   "source": [
    "##### Inference:\n",
    "1. Since, agent_state has 58 unique values, 44% nan values and it is not contributing significantly to the business problem. \n",
    "\n",
    "2. Moreover , similar information is available in 'Source' column."
   ]
  },
  {
   "cell_type": "code",
   "execution_count": null,
   "metadata": {},
   "outputs": [],
   "source": []
  },
  {
   "cell_type": "code",
   "execution_count": 35,
   "metadata": {},
   "outputs": [
    {
     "data": {
      "text/plain": [
       "ONLINE      112564\n",
       "PERM         20576\n",
       "MAILEDIN      2129\n",
       "Name: application_type, dtype: int64"
      ]
     },
     "execution_count": 35,
     "metadata": {},
     "output_type": "execute_result"
    }
   ],
   "source": [
    "#2\n",
    "data.application_type.value_counts()"
   ]
  },
  {
   "cell_type": "markdown",
   "metadata": {},
   "source": [
    "#### Creating a new level for missing values "
   ]
  },
  {
   "cell_type": "code",
   "execution_count": 36,
   "metadata": {},
   "outputs": [],
   "source": [
    "## rather than creating new level we devide null values equally into all categories\n",
    "\n",
    "data.application_type.fillna('unavailable',inplace=True)"
   ]
  },
  {
   "cell_type": "code",
   "execution_count": 37,
   "metadata": {},
   "outputs": [
    {
     "data": {
      "text/plain": [
       "0.0"
      ]
     },
     "execution_count": 37,
     "metadata": {},
     "output_type": "execute_result"
    }
   ],
   "source": [
    "data.application_type.isnull().sum()/data.shape[0]"
   ]
  },
  {
   "cell_type": "markdown",
   "metadata": {},
   "source": []
  },
  {
   "cell_type": "markdown",
   "metadata": {},
   "source": [
    "### Generalizing the Class_of_admsn of Visa"
   ]
  },
  {
   "cell_type": "code",
   "execution_count": 38,
   "metadata": {},
   "outputs": [
    {
     "data": {
      "text/plain": [
       "array(['J-1', 'B-2', 'H-1B', 'L-1', 'EWI', 'E-2', nan, 'E-1', 'H-2B',\n",
       "       'TPS', 'F-1', 'B-1', 'C-1', 'Not in USA', 'TN', 'H-4', 'O-1',\n",
       "       'R-1', 'L-2', 'Q', 'F-2', 'H-1B1', 'Parolee', 'G-5', 'E-3', 'H-2A',\n",
       "       'VWT', 'P-1', 'A1/A2', 'D-1', 'A-3', 'R-2', 'H-1C', 'H-3', 'J-2',\n",
       "       'P-4', 'I', 'H-1A', 'G-1', 'VWB', 'G-4', 'P-3', 'AOS/H-1B', 'O-3',\n",
       "       'Parol', 'O-2', 'H1B', 'N', 'T-1', 'TD', 'M-1', 'K-1', 'U-1',\n",
       "       'AOS', 'P-2', 'C-3', 'V-2', 'M-2'], dtype=object)"
      ]
     },
     "execution_count": 38,
     "metadata": {},
     "output_type": "execute_result"
    }
   ],
   "source": [
    "data.class_of_admission.unique()"
   ]
  },
  {
   "cell_type": "markdown",
   "metadata": {},
   "source": [
    "Visa categories are further divided into sub-categories. So we can use the parent Category in order to generalize it. \n",
    "\n",
    "https://www.bankbazaar.com/visa/types-of-us-visa.html\n",
    "\n",
    "https://uk.usembassy.gov/visas/visa-directory/\n",
    "\n",
    "https://travel.state.gov/content/travel/en/us-visas/visa-information-resources/all-visa-categories.html"
   ]
  },
  {
   "cell_type": "code",
   "execution_count": 39,
   "metadata": {},
   "outputs": [],
   "source": [
    "data.class_of_admission.replace('J-1','J',inplace=True)\n",
    "data.class_of_admission.replace('J-2','J',inplace=True)\n",
    "data.class_of_admission.replace('B-2','B',inplace=True)\n",
    "data.class_of_admission.replace('B-1','B',inplace=True)\n",
    "data.class_of_admission.replace('H-2B','H-1B',inplace=True)\n",
    "data.class_of_admission.replace('H-2A','H-1B',inplace=True)\n",
    "data.class_of_admission.replace('H-1A','H-1B',inplace=True)\n",
    "data.class_of_admission.replace('H-1B1','H-1B',inplace=True)\n",
    "data.class_of_admission.replace('H-3','H-1B',inplace=True)\n",
    "data.class_of_admission.replace('H-4','H-1B',inplace=True)\n",
    "data.class_of_admission.replace('H-1C','H-1B',inplace=True)\n",
    "data.class_of_admission.replace('H1B','H-1B',inplace=True)\n",
    "data.class_of_admission.replace('L-1','L',inplace=True)\n",
    "data.class_of_admission.replace('L-2','L',inplace=True)\n",
    "data.class_of_admission.replace('Parol','Parole',inplace=True)\n",
    "data.class_of_admission.replace('Parolee','Parole',inplace=True)\n",
    "data.class_of_admission.replace('E-1','E',inplace=True)\n",
    "data.class_of_admission.replace('E-2','E',inplace=True)\n",
    "data.class_of_admission.replace('E-3','E',inplace=True)\n",
    "data.class_of_admission.replace('F-1','F',inplace=True)\n",
    "data.class_of_admission.replace('F-2','F',inplace=True)\n",
    "data.class_of_admission.replace('G-1','G',inplace=True)\n",
    "data.class_of_admission.replace('G-4','G',inplace=True)\n",
    "data.class_of_admission.replace('G-5','G',inplace=True)\n",
    "data.class_of_admission.replace('M-1','M',inplace=True)\n",
    "data.class_of_admission.replace('M-2','M',inplace=True)\n",
    "data.class_of_admission.replace('O-1','O',inplace=True)\n",
    "data.class_of_admission.replace('O-2','O',inplace=True)\n",
    "data.class_of_admission.replace('O-3','O',inplace=True)\n",
    "data.class_of_admission.replace('P-1','P',inplace=True)\n",
    "data.class_of_admission.replace('P-2','P',inplace=True)\n",
    "data.class_of_admission.replace('P-3','P',inplace=True)\n",
    "data.class_of_admission.replace('P-4','P',inplace=True)\n",
    "data.class_of_admission.replace('R-1','R',inplace=True)\n",
    "data.class_of_admission.replace('R-2','R',inplace=True)\n",
    "data.class_of_admission.replace('C-1','C',inplace=True)\n",
    "data.class_of_admission.replace('C-2','C',inplace=True)\n",
    "data.class_of_admission.replace('C-3','C',inplace=True)\n",
    "data.class_of_admission.replace('A1/A2','A',inplace=True)\n",
    "data.class_of_admission.replace('A-2','A',inplace=True)\n",
    "data.class_of_admission.replace('A-3','P',inplace=True)\n",
    "data.class_of_admission.replace('AOS/H-1B','AOS',inplace=True)\n",
    "\n",
    "## Creating a new level for missing values(5%)\n",
    "data.class_of_admission.replace('Not in USA','Unavailable',inplace=True)\n",
    "data.class_of_admission.replace(np.nan,'Unavailable',inplace=True)"
   ]
  },
  {
   "cell_type": "code",
   "execution_count": 40,
   "metadata": {},
   "outputs": [
    {
     "data": {
      "text/plain": [
       "array(['J', 'B', 'H-1B', 'L', 'EWI', 'E', 'Unavailable', 'TPS', 'F', 'C',\n",
       "       'TN', 'O', 'R', 'Q', 'Parole', 'G', 'VWT', 'P', 'A', 'D-1', 'I',\n",
       "       'VWB', 'AOS', 'N', 'T-1', 'TD', 'M', 'K-1', 'U-1', 'V-2'],\n",
       "      dtype=object)"
      ]
     },
     "execution_count": 40,
     "metadata": {},
     "output_type": "execute_result"
    }
   ],
   "source": [
    "data.class_of_admission.unique()"
   ]
  },
  {
   "cell_type": "code",
   "execution_count": 41,
   "metadata": {},
   "outputs": [
    {
     "data": {
      "text/plain": [
       "case_no                          230358\n",
       "case_received_date               135271\n",
       "employer_num_employees           135349\n",
       "employer_state                       42\n",
       "foreign_worker_info_education    135308\n",
       "foreign_worker_info_major        151662\n",
       "job_experience                   135281\n",
       "job_title                        135313\n",
       "job_training                     135284\n",
       "pv_unit_of_pay_9089                9630\n",
       "level                             27095\n",
       "sector                           236559\n",
       "wage_offer                       114771\n",
       "wage_unit_of_pay                 115689\n",
       "case_received_date_month         135271\n",
       "dtype: int64"
      ]
     },
     "execution_count": 41,
     "metadata": {},
     "output_type": "execute_result"
    }
   ],
   "source": [
    "(data.isnull().sum()[data.isnull().sum()/data.shape[0]>0])"
   ]
  },
  {
   "cell_type": "code",
   "execution_count": 42,
   "metadata": {},
   "outputs": [
    {
     "data": {
      "text/plain": [
       "0.6536880482021294"
      ]
     },
     "execution_count": 42,
     "metadata": {},
     "output_type": "execute_result"
    }
   ],
   "source": [
    "239006/data.shape[0]\n",
    "# 65.3% rows have same pv_unit_of_pay and wage_unit_of_pay"
   ]
  },
  {
   "cell_type": "code",
   "execution_count": 43,
   "metadata": {},
   "outputs": [
    {
     "data": {
      "text/plain": [
       "array(['Year', 'Hour', nan, 'Bi-Weekly', 'Month', 'Week'], dtype=object)"
      ]
     },
     "execution_count": 43,
     "metadata": {},
     "output_type": "execute_result"
    }
   ],
   "source": [
    "data.pv_unit_of_pay_9089.unique()"
   ]
  },
  {
   "cell_type": "code",
   "execution_count": 44,
   "metadata": {},
   "outputs": [],
   "source": [
    "data.pv_unit_of_pay_9089.fillna('Year',inplace=True)"
   ]
  },
  {
   "cell_type": "code",
   "execution_count": 45,
   "metadata": {},
   "outputs": [
    {
     "data": {
      "text/plain": [
       "0"
      ]
     },
     "execution_count": 45,
     "metadata": {},
     "output_type": "execute_result"
    }
   ],
   "source": [
    "data.pv_unit_of_pay_9089.isnull().sum()"
   ]
  },
  {
   "cell_type": "markdown",
   "metadata": {},
   "source": [
    "________________________________________________________________\n",
    "### According the work permit in US , an average person works for 8 hours a day and 5 days in a week.\n",
    "#### Considering this, we can convert the unit of pay on a yearly basis so that all values of pv_unit_of_pay are same.\n",
    "#### We will now convert the units: \n",
    "1. No. of working days in a year are approximately around 250 (~ = 365-(52*2))\n",
    "2. https://www.opm.gov/policy-data-oversight/pay-leave/pay-administration/fact-sheets/computing-hourly-rates-of-pay-using-the-2087-hour-divisor/\n",
    "3. \n",
    "Hourly and biweekly rates of pay for most Federal civilian employees are computed as required by 5 U.S.C. 5504(b). \n",
    "\n",
    "Hourly and Bi-weekly conversion - https://www.law.cornell.edu/uscode/text/5/5504"
   ]
  },
  {
   "cell_type": "code",
   "execution_count": 46,
   "metadata": {},
   "outputs": [],
   "source": [
    "for unit in data.pv_unit_of_pay_9089.unique():\n",
    "    if unit == \"Hour\":\n",
    "        data.loc[data['pv_unit_of_pay_9089'] == unit, 'previous_salary'] = data['previous_salary'].apply(lambda x: float(x) * 8 * 250)\n",
    "        data.loc[data['pv_unit_of_pay_9089'] == unit, 'pv_unit_of_pay_9089'] = data['pv_unit_of_pay_9089'].replace(to_replace = unit, value = \"Year\") \n",
    "    elif unit == \"Week\":\n",
    "        data.loc[data['pv_unit_of_pay_9089'] == unit, 'previous_salary'] = data['previous_salary'].apply(lambda x: float(x) * 50)\n",
    "        data.loc[data['pv_unit_of_pay_9089'] == unit, 'pv_unit_of_pay_9089'] = data['pv_unit_of_pay_9089'].replace(to_replace = unit, value = \"Year\")\n",
    "    elif unit == \"Month\":\n",
    "        data.loc[data['pv_unit_of_pay_9089'] == unit, 'previous_salary'] = data['previous_salary'].apply(lambda x: float(x) * 12)\n",
    "        data.loc[data['pv_unit_of_pay_9089'] == unit, 'pv_unit_of_pay_9089'] = data['pv_unit_of_pay_9089'].replace(to_replace = unit, value = \"Year\")\n",
    "    elif unit == \"Bi-Weekly\":  \n",
    "        data.loc[data['pv_unit_of_pay_9089'] == unit, 'previous_salary'] = data['previous_salary'].apply(lambda x: float(x) * 40)\n",
    "        data.loc[data['pv_unit_of_pay_9089'] == unit, 'pv_unit_of_pay_9089'] = data['pv_unit_of_pay_9089'].replace(to_replace = unit, value = \"Year\")\n",
    "    \n",
    "    else:\n",
    "        continue\n",
    "        data['previous_salary'] = data.previous_salary.astype(float)\n"
   ]
  },
  {
   "cell_type": "code",
   "execution_count": 47,
   "metadata": {},
   "outputs": [],
   "source": [
    "data.wage_offer.fillna(data.previous_salary,inplace=True)"
   ]
  },
  {
   "cell_type": "code",
   "execution_count": 48,
   "metadata": {},
   "outputs": [
    {
     "data": {
      "text/plain": [
       "0    CALIFORNIA\n",
       "dtype: object"
      ]
     },
     "execution_count": 48,
     "metadata": {},
     "output_type": "execute_result"
    }
   ],
   "source": [
    "data.employer_state.mode()"
   ]
  },
  {
   "cell_type": "code",
   "execution_count": 49,
   "metadata": {},
   "outputs": [],
   "source": [
    "data.employer_state.fillna('CALIFORNIA',inplace=True)"
   ]
  },
  {
   "cell_type": "code",
   "execution_count": 50,
   "metadata": {},
   "outputs": [
    {
     "data": {
      "text/plain": [
       "case_no                          230358\n",
       "case_received_date               135271\n",
       "employer_num_employees           135349\n",
       "foreign_worker_info_education    135308\n",
       "foreign_worker_info_major        151662\n",
       "job_experience                   135281\n",
       "job_title                        135313\n",
       "job_training                     135284\n",
       "level                             27095\n",
       "sector                           236559\n",
       "wage_unit_of_pay                 115689\n",
       "case_received_date_month         135271\n",
       "dtype: int64"
      ]
     },
     "execution_count": 50,
     "metadata": {},
     "output_type": "execute_result"
    }
   ],
   "source": [
    "data.isnull().sum()[data.isna().sum()!=0]"
   ]
  },
  {
   "cell_type": "code",
   "execution_count": 51,
   "metadata": {},
   "outputs": [
    {
     "data": {
      "text/plain": [
       "dtype('float32')"
      ]
     },
     "execution_count": 51,
     "metadata": {},
     "output_type": "execute_result"
    }
   ],
   "source": [
    "np.dtype(data.previous_salary)"
   ]
  },
  {
   "cell_type": "code",
   "execution_count": 52,
   "metadata": {
    "scrolled": true
   },
   "outputs": [
    {
     "data": {
      "text/plain": [
       "86501.0"
      ]
     },
     "execution_count": 52,
     "metadata": {},
     "output_type": "execute_result"
    }
   ],
   "source": [
    "data.previous_salary.median()\n"
   ]
  },
  {
   "cell_type": "code",
   "execution_count": 53,
   "metadata": {},
   "outputs": [
    {
     "data": {
      "text/html": [
       "<div>\n",
       "<style scoped>\n",
       "    .dataframe tbody tr th:only-of-type {\n",
       "        vertical-align: middle;\n",
       "    }\n",
       "\n",
       "    .dataframe tbody tr th {\n",
       "        vertical-align: top;\n",
       "    }\n",
       "\n",
       "    .dataframe thead th {\n",
       "        text-align: right;\n",
       "    }\n",
       "</style>\n",
       "<table border=\"1\" class=\"dataframe\">\n",
       "  <thead>\n",
       "    <tr style=\"text-align: right;\">\n",
       "      <th></th>\n",
       "      <th>agent_state</th>\n",
       "      <th>application_type</th>\n",
       "      <th>case_no</th>\n",
       "      <th>case_received_date</th>\n",
       "      <th>case_status</th>\n",
       "      <th>class_of_admission</th>\n",
       "      <th>country_of_citizenship</th>\n",
       "      <th>decision_date</th>\n",
       "      <th>employer_num_employees</th>\n",
       "      <th>employer_yr_estab</th>\n",
       "      <th>employer_city</th>\n",
       "      <th>employer_name</th>\n",
       "      <th>employer_state</th>\n",
       "      <th>foreign_worker_info_education</th>\n",
       "      <th>foreign_worker_info_major</th>\n",
       "      <th>job_experience</th>\n",
       "      <th>job_title</th>\n",
       "      <th>job_training</th>\n",
       "      <th>job_work_state</th>\n",
       "      <th>pv_unit_of_pay_9089</th>\n",
       "      <th>previous_salary</th>\n",
       "      <th>level</th>\n",
       "      <th>source_name</th>\n",
       "      <th>sector</th>\n",
       "      <th>wage_offer</th>\n",
       "      <th>wage_unit_of_pay</th>\n",
       "      <th>case_received_date_year</th>\n",
       "      <th>case_received_date_month</th>\n",
       "      <th>decision_date_month</th>\n",
       "      <th>decision_date_year</th>\n",
       "      <th>Received_Year</th>\n",
       "    </tr>\n",
       "  </thead>\n",
       "  <tbody>\n",
       "    <tr>\n",
       "      <th>202865</th>\n",
       "      <td>West</td>\n",
       "      <td>unavailable</td>\n",
       "      <td>NaN</td>\n",
       "      <td>2015-01-14</td>\n",
       "      <td>Certified</td>\n",
       "      <td>H-1B</td>\n",
       "      <td>INDIA</td>\n",
       "      <td>2015-08-18</td>\n",
       "      <td>596.0</td>\n",
       "      <td>New</td>\n",
       "      <td>Jersey City</td>\n",
       "      <td>Brillio, LLC</td>\n",
       "      <td>NEW JERSEY</td>\n",
       "      <td>Master's</td>\n",
       "      <td>CIVIL ENGINEERING</td>\n",
       "      <td>Y</td>\n",
       "      <td>Computer Programmer II</td>\n",
       "      <td>N</td>\n",
       "      <td>NEW JERSEY</td>\n",
       "      <td>Year</td>\n",
       "      <td>108763.0</td>\n",
       "      <td>Level III</td>\n",
       "      <td>OES</td>\n",
       "      <td>NaN</td>\n",
       "      <td>#############</td>\n",
       "      <td>Year</td>\n",
       "      <td>2015</td>\n",
       "      <td>1.0</td>\n",
       "      <td>8</td>\n",
       "      <td>2015</td>\n",
       "      <td></td>\n",
       "    </tr>\n",
       "    <tr>\n",
       "      <th>209472</th>\n",
       "      <td>Northeast</td>\n",
       "      <td>unavailable</td>\n",
       "      <td>NaN</td>\n",
       "      <td>2015-07-13</td>\n",
       "      <td>Withdrawn</td>\n",
       "      <td>E</td>\n",
       "      <td>AUSTRALIA</td>\n",
       "      <td>2015-08-05</td>\n",
       "      <td>55.0</td>\n",
       "      <td>Old</td>\n",
       "      <td>Tuxedo Park</td>\n",
       "      <td>Live Technology Holdings, Inc.</td>\n",
       "      <td>NEW YORK</td>\n",
       "      <td>Master's</td>\n",
       "      <td>COMPUTER SCIENCE</td>\n",
       "      <td>Y</td>\n",
       "      <td>Lead Delphi Engineer</td>\n",
       "      <td>N</td>\n",
       "      <td>NEVADA</td>\n",
       "      <td>Year</td>\n",
       "      <td>7036600.0</td>\n",
       "      <td>Level II</td>\n",
       "      <td>OES</td>\n",
       "      <td>NaN</td>\n",
       "      <td>#############</td>\n",
       "      <td>Year</td>\n",
       "      <td>2015</td>\n",
       "      <td>7.0</td>\n",
       "      <td>8</td>\n",
       "      <td>2015</td>\n",
       "      <td></td>\n",
       "    </tr>\n",
       "  </tbody>\n",
       "</table>\n",
       "</div>"
      ],
      "text/plain": [
       "       agent_state application_type case_no case_received_date case_status  \\\n",
       "202865        West      unavailable     NaN         2015-01-14   Certified   \n",
       "209472   Northeast      unavailable     NaN         2015-07-13   Withdrawn   \n",
       "\n",
       "       class_of_admission country_of_citizenship decision_date  \\\n",
       "202865               H-1B                  INDIA    2015-08-18   \n",
       "209472                  E              AUSTRALIA    2015-08-05   \n",
       "\n",
       "        employer_num_employees employer_yr_estab employer_city  \\\n",
       "202865                   596.0               New   Jersey City   \n",
       "209472                    55.0               Old   Tuxedo Park   \n",
       "\n",
       "                         employer_name employer_state  \\\n",
       "202865                    Brillio, LLC     NEW JERSEY   \n",
       "209472  Live Technology Holdings, Inc.       NEW YORK   \n",
       "\n",
       "       foreign_worker_info_education foreign_worker_info_major job_experience  \\\n",
       "202865                      Master's         CIVIL ENGINEERING              Y   \n",
       "209472                      Master's          COMPUTER SCIENCE              Y   \n",
       "\n",
       "                     job_title job_training job_work_state  \\\n",
       "202865  Computer Programmer II            N     NEW JERSEY   \n",
       "209472    Lead Delphi Engineer            N         NEVADA   \n",
       "\n",
       "       pv_unit_of_pay_9089  previous_salary      level source_name sector  \\\n",
       "202865                Year         108763.0  Level III         OES    NaN   \n",
       "209472                Year        7036600.0   Level II         OES    NaN   \n",
       "\n",
       "           wage_offer wage_unit_of_pay  case_received_date_year  \\\n",
       "202865  #############             Year                     2015   \n",
       "209472  #############             Year                     2015   \n",
       "\n",
       "        case_received_date_month  decision_date_month  decision_date_year  \\\n",
       "202865                       1.0                    8                2015   \n",
       "209472                       7.0                    8                2015   \n",
       "\n",
       "       Received_Year  \n",
       "202865                \n",
       "209472                "
      ]
     },
     "execution_count": 53,
     "metadata": {},
     "output_type": "execute_result"
    }
   ],
   "source": [
    "data[data.wage_offer==\"#############\"]"
   ]
  },
  {
   "cell_type": "code",
   "execution_count": 54,
   "metadata": {},
   "outputs": [],
   "source": [
    "data.wage_offer.replace(\"#############\",90000,inplace=True)   #90000 is the median of this column"
   ]
  },
  {
   "cell_type": "code",
   "execution_count": 55,
   "metadata": {},
   "outputs": [
    {
     "data": {
      "text/plain": [
       "Series([], Name: wage_offer, dtype: float64)"
      ]
     },
     "execution_count": 55,
     "metadata": {},
     "output_type": "execute_result"
    }
   ],
   "source": [
    "data[\"wage_offer\"][data[\"wage_offer\"]==\"#############\"]"
   ]
  },
  {
   "cell_type": "markdown",
   "metadata": {},
   "source": [
    "### The columns previous_salary and wage_offer is the same for more than 95% of the rows. \n",
    "#### They are providing the same information. Thus ,we will make a new column which is their mean and drop the original columns after extracting information from them."
   ]
  },
  {
   "cell_type": "code",
   "execution_count": 56,
   "metadata": {},
   "outputs": [
    {
     "data": {
      "text/html": [
       "<div>\n",
       "<style scoped>\n",
       "    .dataframe tbody tr th:only-of-type {\n",
       "        vertical-align: middle;\n",
       "    }\n",
       "\n",
       "    .dataframe tbody tr th {\n",
       "        vertical-align: top;\n",
       "    }\n",
       "\n",
       "    .dataframe thead th {\n",
       "        text-align: right;\n",
       "    }\n",
       "</style>\n",
       "<table border=\"1\" class=\"dataframe\">\n",
       "  <thead>\n",
       "    <tr style=\"text-align: right;\">\n",
       "      <th></th>\n",
       "      <th>agent_state</th>\n",
       "      <th>application_type</th>\n",
       "      <th>case_no</th>\n",
       "      <th>case_received_date</th>\n",
       "      <th>case_status</th>\n",
       "      <th>class_of_admission</th>\n",
       "      <th>country_of_citizenship</th>\n",
       "      <th>decision_date</th>\n",
       "      <th>employer_num_employees</th>\n",
       "      <th>employer_yr_estab</th>\n",
       "      <th>employer_city</th>\n",
       "      <th>employer_name</th>\n",
       "      <th>employer_state</th>\n",
       "      <th>foreign_worker_info_education</th>\n",
       "      <th>foreign_worker_info_major</th>\n",
       "      <th>job_experience</th>\n",
       "      <th>job_title</th>\n",
       "      <th>job_training</th>\n",
       "      <th>job_work_state</th>\n",
       "      <th>pv_unit_of_pay_9089</th>\n",
       "      <th>previous_salary</th>\n",
       "      <th>level</th>\n",
       "      <th>source_name</th>\n",
       "      <th>sector</th>\n",
       "      <th>wage_offer</th>\n",
       "      <th>wage_unit_of_pay</th>\n",
       "      <th>case_received_date_year</th>\n",
       "      <th>case_received_date_month</th>\n",
       "      <th>decision_date_month</th>\n",
       "      <th>decision_date_year</th>\n",
       "      <th>Received_Year</th>\n",
       "      <th>meansal</th>\n",
       "    </tr>\n",
       "  </thead>\n",
       "  <tbody>\n",
       "    <tr>\n",
       "      <th>0</th>\n",
       "      <td>Other</td>\n",
       "      <td>PERM</td>\n",
       "      <td>A-07323-97014</td>\n",
       "      <td>NaT</td>\n",
       "      <td>Certified</td>\n",
       "      <td>J</td>\n",
       "      <td>ARMENIA</td>\n",
       "      <td>2012-02-01</td>\n",
       "      <td>NaN</td>\n",
       "      <td>Unavailable</td>\n",
       "      <td>NEW YORK</td>\n",
       "      <td>NETSOFT USA INC.</td>\n",
       "      <td>NY</td>\n",
       "      <td>NaN</td>\n",
       "      <td>NaN</td>\n",
       "      <td>NaN</td>\n",
       "      <td>NaN</td>\n",
       "      <td>NaN</td>\n",
       "      <td>NY</td>\n",
       "      <td>Year</td>\n",
       "      <td>75629.0</td>\n",
       "      <td>Level II</td>\n",
       "      <td>OES</td>\n",
       "      <td>IT</td>\n",
       "      <td>75629.00</td>\n",
       "      <td>Year</td>\n",
       "      <td>2007</td>\n",
       "      <td>NaN</td>\n",
       "      <td>2</td>\n",
       "      <td>2012</td>\n",
       "      <td>2007</td>\n",
       "      <td>75629.000</td>\n",
       "    </tr>\n",
       "    <tr>\n",
       "      <th>1</th>\n",
       "      <td>Other</td>\n",
       "      <td>PERM</td>\n",
       "      <td>A-07332-99439</td>\n",
       "      <td>NaT</td>\n",
       "      <td>Denied</td>\n",
       "      <td>B</td>\n",
       "      <td>POLAND</td>\n",
       "      <td>2011-12-21</td>\n",
       "      <td>NaN</td>\n",
       "      <td>Unavailable</td>\n",
       "      <td>CARLSTADT</td>\n",
       "      <td>PINNACLE ENVIRONEMNTAL CORP</td>\n",
       "      <td>NY</td>\n",
       "      <td>NaN</td>\n",
       "      <td>NaN</td>\n",
       "      <td>NaN</td>\n",
       "      <td>NaN</td>\n",
       "      <td>NaN</td>\n",
       "      <td>NY</td>\n",
       "      <td>Year</td>\n",
       "      <td>37024.0</td>\n",
       "      <td>Level I</td>\n",
       "      <td>OES</td>\n",
       "      <td>Other Economic Sector</td>\n",
       "      <td>37024.00</td>\n",
       "      <td>Year</td>\n",
       "      <td>2007</td>\n",
       "      <td>NaN</td>\n",
       "      <td>12</td>\n",
       "      <td>2011</td>\n",
       "      <td>2007</td>\n",
       "      <td>37024.000</td>\n",
       "    </tr>\n",
       "    <tr>\n",
       "      <th>2</th>\n",
       "      <td>Other</td>\n",
       "      <td>PERM</td>\n",
       "      <td>A-07333-99643</td>\n",
       "      <td>NaT</td>\n",
       "      <td>Certified</td>\n",
       "      <td>H-1B</td>\n",
       "      <td>INDIA</td>\n",
       "      <td>2011-12-01</td>\n",
       "      <td>NaN</td>\n",
       "      <td>Unavailable</td>\n",
       "      <td>GLEN ALLEN</td>\n",
       "      <td>SCHNABEL ENGINEERING, INC.</td>\n",
       "      <td>VA</td>\n",
       "      <td>NaN</td>\n",
       "      <td>NaN</td>\n",
       "      <td>NaN</td>\n",
       "      <td>NaN</td>\n",
       "      <td>NaN</td>\n",
       "      <td>MD</td>\n",
       "      <td>Year</td>\n",
       "      <td>47923.0</td>\n",
       "      <td>Level I</td>\n",
       "      <td>OES</td>\n",
       "      <td>Aerospace</td>\n",
       "      <td>47923.00</td>\n",
       "      <td>Year</td>\n",
       "      <td>2007</td>\n",
       "      <td>NaN</td>\n",
       "      <td>12</td>\n",
       "      <td>2011</td>\n",
       "      <td>2007</td>\n",
       "      <td>47923.000</td>\n",
       "    </tr>\n",
       "    <tr>\n",
       "      <th>3</th>\n",
       "      <td>Other</td>\n",
       "      <td>PERM</td>\n",
       "      <td>A-07339-01930</td>\n",
       "      <td>NaT</td>\n",
       "      <td>Certified</td>\n",
       "      <td>B</td>\n",
       "      <td>SOUTH KOREA</td>\n",
       "      <td>2011-12-01</td>\n",
       "      <td>NaN</td>\n",
       "      <td>Unavailable</td>\n",
       "      <td>FLUSHING</td>\n",
       "      <td>EBENEZER MISSION CHURCH</td>\n",
       "      <td>NY</td>\n",
       "      <td>NaN</td>\n",
       "      <td>NaN</td>\n",
       "      <td>NaN</td>\n",
       "      <td>NaN</td>\n",
       "      <td>NaN</td>\n",
       "      <td>NY</td>\n",
       "      <td>Year</td>\n",
       "      <td>21940.0</td>\n",
       "      <td>Level II</td>\n",
       "      <td>OES</td>\n",
       "      <td>Other Economic Sector</td>\n",
       "      <td>10.97</td>\n",
       "      <td>Hour</td>\n",
       "      <td>2007</td>\n",
       "      <td>NaN</td>\n",
       "      <td>12</td>\n",
       "      <td>2011</td>\n",
       "      <td>2007</td>\n",
       "      <td>10975.485</td>\n",
       "    </tr>\n",
       "    <tr>\n",
       "      <th>4</th>\n",
       "      <td>Other</td>\n",
       "      <td>PERM</td>\n",
       "      <td>A-07345-03565</td>\n",
       "      <td>NaT</td>\n",
       "      <td>Certified</td>\n",
       "      <td>L</td>\n",
       "      <td>CANADA</td>\n",
       "      <td>2012-01-26</td>\n",
       "      <td>NaN</td>\n",
       "      <td>Unavailable</td>\n",
       "      <td>ALBANY</td>\n",
       "      <td>ALBANY INTERNATIONAL CORP.</td>\n",
       "      <td>NY</td>\n",
       "      <td>NaN</td>\n",
       "      <td>NaN</td>\n",
       "      <td>NaN</td>\n",
       "      <td>NaN</td>\n",
       "      <td>NaN</td>\n",
       "      <td>NY</td>\n",
       "      <td>Year</td>\n",
       "      <td>94890.0</td>\n",
       "      <td>Level IV</td>\n",
       "      <td>OES</td>\n",
       "      <td>Advanced Mfg</td>\n",
       "      <td>100000.00</td>\n",
       "      <td>Year</td>\n",
       "      <td>2007</td>\n",
       "      <td>NaN</td>\n",
       "      <td>1</td>\n",
       "      <td>2012</td>\n",
       "      <td>2007</td>\n",
       "      <td>97445.000</td>\n",
       "    </tr>\n",
       "  </tbody>\n",
       "</table>\n",
       "</div>"
      ],
      "text/plain": [
       "  agent_state application_type        case_no case_received_date case_status  \\\n",
       "0       Other             PERM  A-07323-97014                NaT   Certified   \n",
       "1       Other             PERM  A-07332-99439                NaT      Denied   \n",
       "2       Other             PERM  A-07333-99643                NaT   Certified   \n",
       "3       Other             PERM  A-07339-01930                NaT   Certified   \n",
       "4       Other             PERM  A-07345-03565                NaT   Certified   \n",
       "\n",
       "  class_of_admission country_of_citizenship decision_date  \\\n",
       "0                  J                ARMENIA    2012-02-01   \n",
       "1                  B                 POLAND    2011-12-21   \n",
       "2               H-1B                  INDIA    2011-12-01   \n",
       "3                  B            SOUTH KOREA    2011-12-01   \n",
       "4                  L                 CANADA    2012-01-26   \n",
       "\n",
       "   employer_num_employees employer_yr_estab employer_city  \\\n",
       "0                     NaN       Unavailable      NEW YORK   \n",
       "1                     NaN       Unavailable     CARLSTADT   \n",
       "2                     NaN       Unavailable    GLEN ALLEN   \n",
       "3                     NaN       Unavailable      FLUSHING   \n",
       "4                     NaN       Unavailable        ALBANY   \n",
       "\n",
       "                 employer_name employer_state foreign_worker_info_education  \\\n",
       "0             NETSOFT USA INC.             NY                           NaN   \n",
       "1  PINNACLE ENVIRONEMNTAL CORP             NY                           NaN   \n",
       "2   SCHNABEL ENGINEERING, INC.             VA                           NaN   \n",
       "3      EBENEZER MISSION CHURCH             NY                           NaN   \n",
       "4   ALBANY INTERNATIONAL CORP.             NY                           NaN   \n",
       "\n",
       "  foreign_worker_info_major job_experience job_title job_training  \\\n",
       "0                       NaN            NaN       NaN          NaN   \n",
       "1                       NaN            NaN       NaN          NaN   \n",
       "2                       NaN            NaN       NaN          NaN   \n",
       "3                       NaN            NaN       NaN          NaN   \n",
       "4                       NaN            NaN       NaN          NaN   \n",
       "\n",
       "  job_work_state pv_unit_of_pay_9089  previous_salary     level source_name  \\\n",
       "0             NY                Year          75629.0  Level II         OES   \n",
       "1             NY                Year          37024.0   Level I         OES   \n",
       "2             MD                Year          47923.0   Level I         OES   \n",
       "3             NY                Year          21940.0  Level II         OES   \n",
       "4             NY                Year          94890.0  Level IV         OES   \n",
       "\n",
       "                  sector  wage_offer wage_unit_of_pay  \\\n",
       "0                     IT    75629.00             Year   \n",
       "1  Other Economic Sector    37024.00             Year   \n",
       "2              Aerospace    47923.00             Year   \n",
       "3  Other Economic Sector       10.97             Hour   \n",
       "4           Advanced Mfg   100000.00             Year   \n",
       "\n",
       "   case_received_date_year  case_received_date_month  decision_date_month  \\\n",
       "0                     2007                       NaN                    2   \n",
       "1                     2007                       NaN                   12   \n",
       "2                     2007                       NaN                   12   \n",
       "3                     2007                       NaN                   12   \n",
       "4                     2007                       NaN                    1   \n",
       "\n",
       "   decision_date_year Received_Year    meansal  \n",
       "0                2012          2007  75629.000  \n",
       "1                2011          2007  37024.000  \n",
       "2                2011          2007  47923.000  \n",
       "3                2011          2007  10975.485  \n",
       "4                2012          2007  97445.000  "
      ]
     },
     "execution_count": 56,
     "metadata": {},
     "output_type": "execute_result"
    }
   ],
   "source": [
    "data['meansal']=(data.previous_salary+data.wage_offer)/2\n",
    "\n",
    "\n",
    "\n",
    "data.head()"
   ]
  },
  {
   "cell_type": "code",
   "execution_count": 57,
   "metadata": {},
   "outputs": [
    {
     "data": {
      "text/plain": [
       "array(['NY', 'VA', 'FL', 'DE', 'MD', 'NJ', 'GA', 'IL', 'TX', 'KY', 'WY',\n",
       "       'OH', 'MS', 'MA', 'NC', 'CA', 'MO', 'CT', 'AZ', 'WI', 'PA', 'WA',\n",
       "       'CO', 'MN', 'NV', 'UT', 'AL', 'OK', 'LA', 'RI', 'DC', 'OR', 'MI',\n",
       "       'IA', 'NH', 'IN', 'SD', 'NE', 'KS', 'TN', 'PR', 'AR', 'GU', 'WV',\n",
       "       'SC', 'ID', 'VI', 'ND', 'HI', 'VT', 'ME', 'NM', 'MP', 'AK', 'MT',\n",
       "       'GUAM', 'MH', 'BRITISH COLUMBIA', 'BC'], dtype=object)"
      ]
     },
     "execution_count": 57,
     "metadata": {},
     "output_type": "execute_result"
    }
   ],
   "source": [
    "state_abb = { 'Alabama': 'AL','Alaska': 'AK','Arizona': 'AZ','Arkansas': 'AR','California': 'CA','Colorado': 'CO',\n",
    "                 'Connecticut': 'CT','Delaware': 'DE','Florida': 'FL','Georgia': 'GA','Hawaii': 'HI','Idaho': 'ID',\n",
    "                  'Illinois': 'IL','Indiana': 'IN','Iowa': 'IA','Kansas': 'KS','Kentucky': 'KY','Louisiana': 'LA',\n",
    "                'Maine': 'ME','Maryland': 'MD', 'Massachusetts': 'MA','Michigan': 'MI','Minnesota': 'MN','Mississippi': 'MS',\n",
    "                'Missouri': 'MO','Montana': 'MT','Nebraska': 'NE','Nevada': 'NV','New Hampshire': 'NH','New Jersey': 'NJ',\n",
    "                'New Mexico': 'NM','New York': 'NY','North Carolina': 'NC','North Dakota': 'ND','Ohio': 'OH','Oklahoma': 'OK',\n",
    "                'Oregon': 'OR','Pennsylvania': 'PA','Rhode Island': 'RI','South Carolina': 'SC','South Dakota': 'SD',\n",
    "                'Tennessee': 'TN','Texas': 'TX','Utah': 'UT','Vermont': 'VT','Virginia': 'VA','Washington': 'WA',\n",
    "                'West Virginia': 'WV','Wisconsin': 'WI','Wyoming': 'WY','Northern Mariana Islands':'MP', 'Palau': 'PW', \n",
    "                'Puerto Rico': 'PR', 'Virgin Islands': 'VI', 'District of Columbia': 'DC','MARSHALL ISLANDS':'MH'}\n",
    "\n",
    "\n",
    "us_state_abbrev = {k.upper(): v for k, v in state_abb.items()}\n",
    "data['employer_state'].replace(us_state_abbrev, inplace=True)\n",
    "data.employer_state = data.employer_state.astype(str)\n",
    "\n",
    "data.employer_state.unique()"
   ]
  },
  {
   "cell_type": "markdown",
   "metadata": {},
   "source": [
    "### Generalizing the states"
   ]
  },
  {
   "cell_type": "code",
   "execution_count": 58,
   "metadata": {},
   "outputs": [],
   "source": [
    "regions = {\n",
    "    'ME':'Northeast', \n",
    "    'NY':'Northeast', \n",
    "    'NJ':'Northeast', \n",
    "    'VT':'Northeast',\n",
    "    'MA':'Northeast',\n",
    "    'RI':'Northeast',\n",
    "    'CT':'Northeast',\n",
    "    'NH':'Northeast',\n",
    "    'PA':'Northeast',\n",
    "     'DC':'Other',\n",
    "    'IL':'Midwest',\n",
    "    'IN':'Midwest',\n",
    "    'IA':'Midwest', \n",
    "    'KS':'Midwest',\n",
    "    'MI':'Midwest', \n",
    "    'MN':'Midwest', \n",
    "    'MO':'Midwest', \n",
    "    'NE':'Midwest',\n",
    "    'ND':'Midwest', \n",
    "    'OH':'Midwest', \n",
    "    'SD':'Midwest', \n",
    "    'WI':'Midwest',\n",
    "    'DE':'South',\n",
    "    'FL':'South', \n",
    "    'GA':'South',\n",
    "    'MD':'South',\n",
    "    'NC':'South',\n",
    "    'SC':'South',\n",
    "    'VA':'South',\n",
    "    'WV':'South',\n",
    "    'AL':'South',\n",
    "    'KY':'South',\n",
    "    'MS':'South',\n",
    "    'TN':'South',\n",
    "    'AR':'South',\n",
    "    'LA':'South', \n",
    "    'OK':'South',\n",
    "    'TX':'South',\n",
    "    'MT':'West',\n",
    "    'WY':'West', \n",
    "    'CO':'West', \n",
    "    'NM':'West', \n",
    "    'ID':'West', \n",
    "    'UT':'West', \n",
    "    'AZ':'West', \n",
    "    'NV':'West',\n",
    "    'WA':'West', \n",
    "    'OR':'West', \n",
    "    'CA':'West', \n",
    "    'AK':'West',\n",
    "    'HI':'West', \n",
    "    'GUAM':'Island',\n",
    "    'GU':'Island',\n",
    "    'PR':'Island', \n",
    "    'MP':'Island', \n",
    "    'VI':'Island',\n",
    "    'BC':'Northeast',\n",
    "    'BRITISH COLUMBIA':'Northeast',  \n",
    "    'nan':'Other',\n",
    "    'FEDERATED STATES OF MICRONESIA':'Other',\n",
    "'MH':'Island'}"
   ]
  },
  {
   "cell_type": "code",
   "execution_count": 59,
   "metadata": {},
   "outputs": [],
   "source": [
    "def region(x):\n",
    "    return regions[x]\n",
    "\n",
    "data['employer_region'] = data['employer_state'].apply(region)"
   ]
  },
  {
   "cell_type": "markdown",
   "metadata": {},
   "source": [
    "data.employer_state.replace('Other',np.nan,inplace=True)"
   ]
  },
  {
   "cell_type": "code",
   "execution_count": 60,
   "metadata": {},
   "outputs": [
    {
     "data": {
      "text/plain": [
       "agent_state                           0\n",
       "application_type                      0\n",
       "case_no                          230358\n",
       "case_received_date               135271\n",
       "case_status                           0\n",
       "class_of_admission                    0\n",
       "country_of_citizenship                0\n",
       "decision_date                         0\n",
       "employer_num_employees           135349\n",
       "employer_yr_estab                     0\n",
       "employer_city                         0\n",
       "employer_name                         0\n",
       "employer_state                        0\n",
       "foreign_worker_info_education    135308\n",
       "foreign_worker_info_major        151662\n",
       "job_experience                   135281\n",
       "job_title                        135313\n",
       "job_training                     135284\n",
       "job_work_state                        0\n",
       "pv_unit_of_pay_9089                   0\n",
       "previous_salary                       0\n",
       "level                             27095\n",
       "source_name                           0\n",
       "sector                           236559\n",
       "wage_offer                            0\n",
       "wage_unit_of_pay                 115689\n",
       "case_received_date_year               0\n",
       "case_received_date_month         135271\n",
       "decision_date_month                   0\n",
       "decision_date_year                    0\n",
       "Received_Year                         0\n",
       "meansal                               0\n",
       "employer_region                       0\n",
       "dtype: int64"
      ]
     },
     "execution_count": 60,
     "metadata": {},
     "output_type": "execute_result"
    }
   ],
   "source": [
    "data.isnull().sum()"
   ]
  },
  {
   "cell_type": "code",
   "execution_count": null,
   "metadata": {},
   "outputs": [],
   "source": []
  },
  {
   "cell_type": "markdown",
   "metadata": {},
   "source": [
    "\n",
    "data.agent_state.fillna('West',limit=33028,inplace=True)\n",
    "data.agent_state.fillna('Northeast',limit=33026,inplace=True)\n",
    "data.agent_state.fillna('South',limit=33026,inplace=True)\n",
    "data.agent_state.fillna('Midwest',limit=33028,inplace=True)\n",
    "data.agent_state.fillna('Island',limit=33028,inplace=True)\n",
    "data.agent_state.value_counts(1)"
   ]
  },
  {
   "cell_type": "code",
   "execution_count": 61,
   "metadata": {},
   "outputs": [
    {
     "data": {
      "text/plain": [
       "array(['Northeast', 'South', 'Midwest', 'West', 'Other', 'Island'],\n",
       "      dtype=object)"
      ]
     },
     "execution_count": 61,
     "metadata": {},
     "output_type": "execute_result"
    }
   ],
   "source": [
    "data.employer_region.unique()"
   ]
  },
  {
   "cell_type": "code",
   "execution_count": 62,
   "metadata": {},
   "outputs": [
    {
     "data": {
      "text/html": [
       "<div>\n",
       "<style scoped>\n",
       "    .dataframe tbody tr th:only-of-type {\n",
       "        vertical-align: middle;\n",
       "    }\n",
       "\n",
       "    .dataframe tbody tr th {\n",
       "        vertical-align: top;\n",
       "    }\n",
       "\n",
       "    .dataframe thead th {\n",
       "        text-align: right;\n",
       "    }\n",
       "</style>\n",
       "<table border=\"1\" class=\"dataframe\">\n",
       "  <thead>\n",
       "    <tr style=\"text-align: right;\">\n",
       "      <th></th>\n",
       "      <th>agent_state</th>\n",
       "      <th>application_type</th>\n",
       "      <th>case_no</th>\n",
       "      <th>case_received_date</th>\n",
       "      <th>case_status</th>\n",
       "      <th>class_of_admission</th>\n",
       "      <th>country_of_citizenship</th>\n",
       "      <th>decision_date</th>\n",
       "      <th>employer_num_employees</th>\n",
       "      <th>employer_yr_estab</th>\n",
       "      <th>employer_city</th>\n",
       "      <th>employer_name</th>\n",
       "      <th>employer_state</th>\n",
       "      <th>foreign_worker_info_education</th>\n",
       "      <th>foreign_worker_info_major</th>\n",
       "      <th>job_experience</th>\n",
       "      <th>job_title</th>\n",
       "      <th>job_training</th>\n",
       "      <th>job_work_state</th>\n",
       "      <th>pv_unit_of_pay_9089</th>\n",
       "      <th>previous_salary</th>\n",
       "      <th>level</th>\n",
       "      <th>source_name</th>\n",
       "      <th>sector</th>\n",
       "      <th>wage_offer</th>\n",
       "      <th>wage_unit_of_pay</th>\n",
       "      <th>case_received_date_year</th>\n",
       "      <th>case_received_date_month</th>\n",
       "      <th>decision_date_month</th>\n",
       "      <th>decision_date_year</th>\n",
       "      <th>Received_Year</th>\n",
       "      <th>meansal</th>\n",
       "      <th>employer_region</th>\n",
       "    </tr>\n",
       "  </thead>\n",
       "  <tbody>\n",
       "    <tr>\n",
       "      <th>0</th>\n",
       "      <td>Other</td>\n",
       "      <td>PERM</td>\n",
       "      <td>A-07323-97014</td>\n",
       "      <td>NaT</td>\n",
       "      <td>Certified</td>\n",
       "      <td>J</td>\n",
       "      <td>ARMENIA</td>\n",
       "      <td>2012-02-01</td>\n",
       "      <td>NaN</td>\n",
       "      <td>Unavailable</td>\n",
       "      <td>NEW YORK</td>\n",
       "      <td>NETSOFT USA INC.</td>\n",
       "      <td>NY</td>\n",
       "      <td>NaN</td>\n",
       "      <td>NaN</td>\n",
       "      <td>NaN</td>\n",
       "      <td>NaN</td>\n",
       "      <td>NaN</td>\n",
       "      <td>NY</td>\n",
       "      <td>Year</td>\n",
       "      <td>75629.0</td>\n",
       "      <td>Level II</td>\n",
       "      <td>OES</td>\n",
       "      <td>IT</td>\n",
       "      <td>75629.00</td>\n",
       "      <td>Year</td>\n",
       "      <td>2007</td>\n",
       "      <td>NaN</td>\n",
       "      <td>2</td>\n",
       "      <td>2012</td>\n",
       "      <td>2007</td>\n",
       "      <td>75629.000</td>\n",
       "      <td>Northeast</td>\n",
       "    </tr>\n",
       "    <tr>\n",
       "      <th>1</th>\n",
       "      <td>Other</td>\n",
       "      <td>PERM</td>\n",
       "      <td>A-07332-99439</td>\n",
       "      <td>NaT</td>\n",
       "      <td>Denied</td>\n",
       "      <td>B</td>\n",
       "      <td>POLAND</td>\n",
       "      <td>2011-12-21</td>\n",
       "      <td>NaN</td>\n",
       "      <td>Unavailable</td>\n",
       "      <td>CARLSTADT</td>\n",
       "      <td>PINNACLE ENVIRONEMNTAL CORP</td>\n",
       "      <td>NY</td>\n",
       "      <td>NaN</td>\n",
       "      <td>NaN</td>\n",
       "      <td>NaN</td>\n",
       "      <td>NaN</td>\n",
       "      <td>NaN</td>\n",
       "      <td>NY</td>\n",
       "      <td>Year</td>\n",
       "      <td>37024.0</td>\n",
       "      <td>Level I</td>\n",
       "      <td>OES</td>\n",
       "      <td>Other Economic Sector</td>\n",
       "      <td>37024.00</td>\n",
       "      <td>Year</td>\n",
       "      <td>2007</td>\n",
       "      <td>NaN</td>\n",
       "      <td>12</td>\n",
       "      <td>2011</td>\n",
       "      <td>2007</td>\n",
       "      <td>37024.000</td>\n",
       "      <td>Northeast</td>\n",
       "    </tr>\n",
       "    <tr>\n",
       "      <th>2</th>\n",
       "      <td>Other</td>\n",
       "      <td>PERM</td>\n",
       "      <td>A-07333-99643</td>\n",
       "      <td>NaT</td>\n",
       "      <td>Certified</td>\n",
       "      <td>H-1B</td>\n",
       "      <td>INDIA</td>\n",
       "      <td>2011-12-01</td>\n",
       "      <td>NaN</td>\n",
       "      <td>Unavailable</td>\n",
       "      <td>GLEN ALLEN</td>\n",
       "      <td>SCHNABEL ENGINEERING, INC.</td>\n",
       "      <td>VA</td>\n",
       "      <td>NaN</td>\n",
       "      <td>NaN</td>\n",
       "      <td>NaN</td>\n",
       "      <td>NaN</td>\n",
       "      <td>NaN</td>\n",
       "      <td>MD</td>\n",
       "      <td>Year</td>\n",
       "      <td>47923.0</td>\n",
       "      <td>Level I</td>\n",
       "      <td>OES</td>\n",
       "      <td>Aerospace</td>\n",
       "      <td>47923.00</td>\n",
       "      <td>Year</td>\n",
       "      <td>2007</td>\n",
       "      <td>NaN</td>\n",
       "      <td>12</td>\n",
       "      <td>2011</td>\n",
       "      <td>2007</td>\n",
       "      <td>47923.000</td>\n",
       "      <td>South</td>\n",
       "    </tr>\n",
       "    <tr>\n",
       "      <th>3</th>\n",
       "      <td>Other</td>\n",
       "      <td>PERM</td>\n",
       "      <td>A-07339-01930</td>\n",
       "      <td>NaT</td>\n",
       "      <td>Certified</td>\n",
       "      <td>B</td>\n",
       "      <td>SOUTH KOREA</td>\n",
       "      <td>2011-12-01</td>\n",
       "      <td>NaN</td>\n",
       "      <td>Unavailable</td>\n",
       "      <td>FLUSHING</td>\n",
       "      <td>EBENEZER MISSION CHURCH</td>\n",
       "      <td>NY</td>\n",
       "      <td>NaN</td>\n",
       "      <td>NaN</td>\n",
       "      <td>NaN</td>\n",
       "      <td>NaN</td>\n",
       "      <td>NaN</td>\n",
       "      <td>NY</td>\n",
       "      <td>Year</td>\n",
       "      <td>21940.0</td>\n",
       "      <td>Level II</td>\n",
       "      <td>OES</td>\n",
       "      <td>Other Economic Sector</td>\n",
       "      <td>10.97</td>\n",
       "      <td>Hour</td>\n",
       "      <td>2007</td>\n",
       "      <td>NaN</td>\n",
       "      <td>12</td>\n",
       "      <td>2011</td>\n",
       "      <td>2007</td>\n",
       "      <td>10975.485</td>\n",
       "      <td>Northeast</td>\n",
       "    </tr>\n",
       "    <tr>\n",
       "      <th>4</th>\n",
       "      <td>Other</td>\n",
       "      <td>PERM</td>\n",
       "      <td>A-07345-03565</td>\n",
       "      <td>NaT</td>\n",
       "      <td>Certified</td>\n",
       "      <td>L</td>\n",
       "      <td>CANADA</td>\n",
       "      <td>2012-01-26</td>\n",
       "      <td>NaN</td>\n",
       "      <td>Unavailable</td>\n",
       "      <td>ALBANY</td>\n",
       "      <td>ALBANY INTERNATIONAL CORP.</td>\n",
       "      <td>NY</td>\n",
       "      <td>NaN</td>\n",
       "      <td>NaN</td>\n",
       "      <td>NaN</td>\n",
       "      <td>NaN</td>\n",
       "      <td>NaN</td>\n",
       "      <td>NY</td>\n",
       "      <td>Year</td>\n",
       "      <td>94890.0</td>\n",
       "      <td>Level IV</td>\n",
       "      <td>OES</td>\n",
       "      <td>Advanced Mfg</td>\n",
       "      <td>100000.00</td>\n",
       "      <td>Year</td>\n",
       "      <td>2007</td>\n",
       "      <td>NaN</td>\n",
       "      <td>1</td>\n",
       "      <td>2012</td>\n",
       "      <td>2007</td>\n",
       "      <td>97445.000</td>\n",
       "      <td>Northeast</td>\n",
       "    </tr>\n",
       "  </tbody>\n",
       "</table>\n",
       "</div>"
      ],
      "text/plain": [
       "  agent_state application_type        case_no case_received_date case_status  \\\n",
       "0       Other             PERM  A-07323-97014                NaT   Certified   \n",
       "1       Other             PERM  A-07332-99439                NaT      Denied   \n",
       "2       Other             PERM  A-07333-99643                NaT   Certified   \n",
       "3       Other             PERM  A-07339-01930                NaT   Certified   \n",
       "4       Other             PERM  A-07345-03565                NaT   Certified   \n",
       "\n",
       "  class_of_admission country_of_citizenship decision_date  \\\n",
       "0                  J                ARMENIA    2012-02-01   \n",
       "1                  B                 POLAND    2011-12-21   \n",
       "2               H-1B                  INDIA    2011-12-01   \n",
       "3                  B            SOUTH KOREA    2011-12-01   \n",
       "4                  L                 CANADA    2012-01-26   \n",
       "\n",
       "   employer_num_employees employer_yr_estab employer_city  \\\n",
       "0                     NaN       Unavailable      NEW YORK   \n",
       "1                     NaN       Unavailable     CARLSTADT   \n",
       "2                     NaN       Unavailable    GLEN ALLEN   \n",
       "3                     NaN       Unavailable      FLUSHING   \n",
       "4                     NaN       Unavailable        ALBANY   \n",
       "\n",
       "                 employer_name employer_state foreign_worker_info_education  \\\n",
       "0             NETSOFT USA INC.             NY                           NaN   \n",
       "1  PINNACLE ENVIRONEMNTAL CORP             NY                           NaN   \n",
       "2   SCHNABEL ENGINEERING, INC.             VA                           NaN   \n",
       "3      EBENEZER MISSION CHURCH             NY                           NaN   \n",
       "4   ALBANY INTERNATIONAL CORP.             NY                           NaN   \n",
       "\n",
       "  foreign_worker_info_major job_experience job_title job_training  \\\n",
       "0                       NaN            NaN       NaN          NaN   \n",
       "1                       NaN            NaN       NaN          NaN   \n",
       "2                       NaN            NaN       NaN          NaN   \n",
       "3                       NaN            NaN       NaN          NaN   \n",
       "4                       NaN            NaN       NaN          NaN   \n",
       "\n",
       "  job_work_state pv_unit_of_pay_9089  previous_salary     level source_name  \\\n",
       "0             NY                Year          75629.0  Level II         OES   \n",
       "1             NY                Year          37024.0   Level I         OES   \n",
       "2             MD                Year          47923.0   Level I         OES   \n",
       "3             NY                Year          21940.0  Level II         OES   \n",
       "4             NY                Year          94890.0  Level IV         OES   \n",
       "\n",
       "                  sector  wage_offer wage_unit_of_pay  \\\n",
       "0                     IT    75629.00             Year   \n",
       "1  Other Economic Sector    37024.00             Year   \n",
       "2              Aerospace    47923.00             Year   \n",
       "3  Other Economic Sector       10.97             Hour   \n",
       "4           Advanced Mfg   100000.00             Year   \n",
       "\n",
       "   case_received_date_year  case_received_date_month  decision_date_month  \\\n",
       "0                     2007                       NaN                    2   \n",
       "1                     2007                       NaN                   12   \n",
       "2                     2007                       NaN                   12   \n",
       "3                     2007                       NaN                   12   \n",
       "4                     2007                       NaN                    1   \n",
       "\n",
       "   decision_date_year Received_Year    meansal employer_region  \n",
       "0                2012          2007  75629.000       Northeast  \n",
       "1                2011          2007  37024.000       Northeast  \n",
       "2                2011          2007  47923.000           South  \n",
       "3                2011          2007  10975.485       Northeast  \n",
       "4                2012          2007  97445.000       Northeast  "
      ]
     },
     "execution_count": 62,
     "metadata": {},
     "output_type": "execute_result"
    }
   ],
   "source": [
    "data.head()"
   ]
  },
  {
   "cell_type": "code",
   "execution_count": null,
   "metadata": {},
   "outputs": [],
   "source": []
  },
  {
   "cell_type": "code",
   "execution_count": 63,
   "metadata": {},
   "outputs": [
    {
     "data": {
      "text/plain": [
       "dtype('O')"
      ]
     },
     "execution_count": 63,
     "metadata": {},
     "output_type": "execute_result"
    }
   ],
   "source": [
    "us_state_abbrev = {k.upper(): v for k, v in state_abb.items()}\n",
    "data['job_work_state'].replace(us_state_abbrev, inplace=True)\n",
    "data.job_work_state = data.job_work_state.astype(str)\n",
    "data.job_work_state.dtype"
   ]
  },
  {
   "cell_type": "code",
   "execution_count": 64,
   "metadata": {},
   "outputs": [],
   "source": [
    "def region(x):\n",
    "    return regions[x]\n",
    "\n",
    "data['job_work_state'] = data['job_work_state'].apply(region)\n"
   ]
  },
  {
   "cell_type": "code",
   "execution_count": 65,
   "metadata": {},
   "outputs": [
    {
     "data": {
      "text/plain": [
       "135349"
      ]
     },
     "execution_count": 65,
     "metadata": {},
     "output_type": "execute_result"
    }
   ],
   "source": [
    "data.sector.isnull().sum()\n",
    "data.employer_num_employees.isnull().sum()"
   ]
  },
  {
   "cell_type": "markdown",
   "metadata": {},
   "source": [
    "#### Creating a new level for missing values "
   ]
  },
  {
   "cell_type": "code",
   "execution_count": null,
   "metadata": {},
   "outputs": [],
   "source": []
  },
  {
   "cell_type": "code",
   "execution_count": 66,
   "metadata": {},
   "outputs": [],
   "source": [
    "data.sector.fillna('unavailable',inplace=True)\n"
   ]
  },
  {
   "cell_type": "code",
   "execution_count": 67,
   "metadata": {},
   "outputs": [
    {
     "data": {
      "text/plain": [
       "0"
      ]
     },
     "execution_count": 67,
     "metadata": {},
     "output_type": "execute_result"
    }
   ],
   "source": [
    "data.sector.isnull().sum()"
   ]
  },
  {
   "cell_type": "code",
   "execution_count": 68,
   "metadata": {},
   "outputs": [
    {
     "data": {
      "text/plain": [
       "unavailable              0.646995\n",
       "IT                       0.143909\n",
       "Advanced Mfg             0.051279\n",
       "Other Economic Sector    0.043208\n",
       "Finance                  0.025228\n",
       "Educational Services     0.024971\n",
       "Health Care              0.018667\n",
       "Retail                   0.012056\n",
       "Aerospace                0.011394\n",
       "Hospitality              0.005268\n",
       "Construction             0.003854\n",
       "Automotive               0.003181\n",
       "Energy                   0.002970\n",
       "Transportation           0.002596\n",
       "Agribusiness             0.002568\n",
       "Biotechnology            0.001247\n",
       "Geospatial               0.000386\n",
       "Homeland Security        0.000224\n",
       "Name: sector, dtype: float64"
      ]
     },
     "execution_count": 68,
     "metadata": {},
     "output_type": "execute_result"
    }
   ],
   "source": [
    "data.sector.value_counts(1)"
   ]
  },
  {
   "cell_type": "markdown",
   "metadata": {},
   "source": [
    "### Gernalizing Employer_Name:-"
   ]
  },
  {
   "cell_type": "code",
   "execution_count": 69,
   "metadata": {},
   "outputs": [
    {
     "data": {
      "text/plain": [
       "0"
      ]
     },
     "execution_count": 69,
     "metadata": {},
     "output_type": "execute_result"
    }
   ],
   "source": [
    "data.employer_name.isnull().sum() ### no null"
   ]
  },
  {
   "cell_type": "code",
   "execution_count": 70,
   "metadata": {
    "scrolled": true
   },
   "outputs": [
    {
     "data": {
      "text/plain": [
       "0                                          netsoft usa inc.\n",
       "1                               pinnacle environemntal corp\n",
       "2                                schnabel engineering, inc.\n",
       "3                                   ebenezer mission church\n",
       "4                                albany international corp.\n",
       "5                               pinnacle environemntal corp\n",
       "6                                       emma willard school\n",
       "7                                        fds  aluminum  llc\n",
       "8                       electronic data systems corporation\n",
       "9                         amer brothers international, inc.\n",
       "10                                              aquas, inc.\n",
       "11                                nine muses and apollo inc\n",
       "12                               fastpulse technology, inc.\n",
       "13                                       intec billing, inc\n",
       "14                                       ernest maier, inc.\n",
       "15                                    niko development corp\n",
       "16                           compunnel software group, inc.\n",
       "17            v.h.c. usa incd/b/a vitamin homeoptahy center\n",
       "18                                   vitamia pasta boy, inc\n",
       "19                             refix truck & trailer repair\n",
       "20                               hsb solomon associates llc\n",
       "21                world joint corp. d/b/a iace travel, inc.\n",
       "22                                kanticorp.dba emerson inn\n",
       "23                       mamco inc. dba: old man rafferty's\n",
       "24           louisville (jefferson county) metro government\n",
       "25               takeda pharmaceuticals north america, inc.\n",
       "26                        rocky mountain casing crews, inc.\n",
       "27                                       l.a. burrito,  inc\n",
       "28                    mckinsey & company, inc united states\n",
       "29                            indus valley consultants, inc\n",
       "                                ...                        \n",
       "374332                       texas instruments incorporated\n",
       "374333                                       facebook, inc.\n",
       "374334                     chesapeake lighthouse foundation\n",
       "374335                         first data technologies, inc\n",
       "374336                                    casa systems inc.\n",
       "374337                                      emc corporation\n",
       "374338                     gulfstream aerospace corporation\n",
       "374339                                     omnitech systems\n",
       "374340                                         vmware, inc.\n",
       "374341    florida institute for human and machine cognition\n",
       "374342                                    sap america, inc.\n",
       "374343                          ferrara fire apparatus, inc\n",
       "374344                        zobrist consulting group, inc\n",
       "374345                                      aricent n.a.inc\n",
       "374346                                      aricent n.a.inc\n",
       "374347                 axa equitable life insurance company\n",
       "374348                                    tad solutions inc\n",
       "374349                   pomeroy it solutions sales company\n",
       "374350                            siemens plm software inc.\n",
       "374351                                     globallogic inc.\n",
       "374352                 deutsche bank trust company americas\n",
       "374353                                      first tek, inc.\n",
       "374354              analysis & design application co., ltd.\n",
       "374355                                   hancock university\n",
       "374356                                   pure storage, inc.\n",
       "374357                     union dental group anaheim, inc.\n",
       "374358                                microsoft corporation\n",
       "374359                                   amphion global inc\n",
       "374360                                       zen sushi, inc\n",
       "374361                                    intel corporation\n",
       "Name: employer_name, Length: 365627, dtype: object"
      ]
     },
     "execution_count": 70,
     "metadata": {},
     "output_type": "execute_result"
    }
   ],
   "source": [
    "data['employer_name'] = data['employer_name'].str.lower()\n",
    "data['employer_name'].str.lower()"
   ]
  },
  {
   "cell_type": "code",
   "execution_count": null,
   "metadata": {},
   "outputs": [],
   "source": []
  },
  {
   "cell_type": "code",
   "execution_count": 71,
   "metadata": {},
   "outputs": [],
   "source": [
    "data.employer_name=data.employer_name.astype(\"str\")   ### in str"
   ]
  },
  {
   "cell_type": "code",
   "execution_count": 72,
   "metadata": {},
   "outputs": [
    {
     "data": {
      "text/plain": [
       "70846"
      ]
     },
     "execution_count": 72,
     "metadata": {},
     "output_type": "execute_result"
    }
   ],
   "source": [
    "data['employer_name'].nunique()  ### INC 6045"
   ]
  },
  {
   "cell_type": "markdown",
   "metadata": {},
   "source": [
    "### Gernalizing employer_num_employees:--"
   ]
  },
  {
   "cell_type": "code",
   "execution_count": 73,
   "metadata": {},
   "outputs": [
    {
     "data": {
      "text/plain": [
       "count    2.302780e+05\n",
       "mean     2.326963e+04\n",
       "std      5.551821e+05\n",
       "min      0.000000e+00\n",
       "25%      6.800000e+01\n",
       "50%      1.078000e+03\n",
       "75%      1.480000e+04\n",
       "max      2.635506e+08\n",
       "Name: employer_num_employees, dtype: float64"
      ]
     },
     "execution_count": 73,
     "metadata": {},
     "output_type": "execute_result"
    }
   ],
   "source": [
    "data.employer_num_employees.describe()"
   ]
  },
  {
   "cell_type": "markdown",
   "metadata": {},
   "source": [
    "### Binning the number of employees to depict the size of the enterprise."
   ]
  },
  {
   "cell_type": "code",
   "execution_count": 74,
   "metadata": {},
   "outputs": [
    {
     "data": {
      "text/plain": [
       "0                       NaN\n",
       "1                       NaN\n",
       "2                       NaN\n",
       "3                       NaN\n",
       "4                       NaN\n",
       "5                       NaN\n",
       "6                       NaN\n",
       "7                       NaN\n",
       "8                       NaN\n",
       "9                       NaN\n",
       "10                      NaN\n",
       "11                      NaN\n",
       "12                      NaN\n",
       "13                      NaN\n",
       "14                      NaN\n",
       "15                      NaN\n",
       "16                      NaN\n",
       "17                      NaN\n",
       "18                      NaN\n",
       "19                      NaN\n",
       "20                      NaN\n",
       "21                      NaN\n",
       "22                      NaN\n",
       "23                      NaN\n",
       "24                      NaN\n",
       "25                      NaN\n",
       "26                      NaN\n",
       "27                      NaN\n",
       "28                      NaN\n",
       "29                      NaN\n",
       "                ...        \n",
       "374332                  NaN\n",
       "374333    (1078.0, 14800.0]\n",
       "374334                  NaN\n",
       "374335    (1078.0, 14800.0]\n",
       "374336     (67.999, 1078.0]\n",
       "374337                  NaN\n",
       "374338    (1078.0, 14800.0]\n",
       "374339                  NaN\n",
       "374340    (1078.0, 14800.0]\n",
       "374341     (67.999, 1078.0]\n",
       "374342    (1078.0, 14800.0]\n",
       "374343     (67.999, 1078.0]\n",
       "374344                  NaN\n",
       "374345     (67.999, 1078.0]\n",
       "374346     (67.999, 1078.0]\n",
       "374347     (67.999, 1078.0]\n",
       "374348                  NaN\n",
       "374349    (1078.0, 14800.0]\n",
       "374350    (1078.0, 14800.0]\n",
       "374351    (1078.0, 14800.0]\n",
       "374352                  NaN\n",
       "374353     (67.999, 1078.0]\n",
       "374354     (67.999, 1078.0]\n",
       "374355                  NaN\n",
       "374356    (1078.0, 14800.0]\n",
       "374357                  NaN\n",
       "374358                  NaN\n",
       "374359                  NaN\n",
       "374360                  NaN\n",
       "374361                  NaN\n",
       "Name: employer_num_employees, Length: 365627, dtype: category\n",
       "Categories (2, interval[float64]): [(67.999, 1078.0] < (1078.0, 14800.0]]"
      ]
     },
     "execution_count": 74,
     "metadata": {},
     "output_type": "execute_result"
    }
   ],
   "source": [
    "pd.qcut(data.employer_num_employees,q=[0.25,0.5,0.75])"
   ]
  },
  {
   "cell_type": "markdown",
   "metadata": {},
   "source": [
    "#### Creating a new level for missing values by first imputing it to 0 ."
   ]
  },
  {
   "cell_type": "code",
   "execution_count": 75,
   "metadata": {},
   "outputs": [],
   "source": [
    "data.employer_num_employees.isnull().sum()\n",
    "data.employer_num_employees.fillna(-1,inplace=True)\n",
    "\n",
    "## LLC has very less employess as .A limited liability company (LLC) is a business entity that combines the limited liability protection of a business corporation with the flexible tax and organizational structure of a partnership.Because LLC have features of both corporations and partnerships, it is called a “hybrid” entity."
   ]
  },
  {
   "cell_type": "code",
   "execution_count": 76,
   "metadata": {},
   "outputs": [],
   "source": [
    "def emp(x):\n",
    "    if x==-1:\n",
    "        return \"Unvailable\"\n",
    "    elif x<68 and x>=0 :\n",
    "        return \"Small\"\n",
    "    elif x<14800 and x>1078:\n",
    "        return \"Medium\"\n",
    "    else:\n",
    "        return \"Large\"\n",
    "    \n",
    "data['Enterprise_Size']=data.employer_num_employees.apply(emp)\n"
   ]
  },
  {
   "cell_type": "code",
   "execution_count": 77,
   "metadata": {},
   "outputs": [
    {
     "data": {
      "text/plain": [
       "Unvailable    135349\n",
       "Large         115284\n",
       "Medium         57512\n",
       "Small          57482\n",
       "Name: Enterprise_Size, dtype: int64"
      ]
     },
     "execution_count": 77,
     "metadata": {},
     "output_type": "execute_result"
    }
   ],
   "source": [
    "data['Enterprise_Size'].value_counts()"
   ]
  },
  {
   "cell_type": "code",
   "execution_count": 78,
   "metadata": {},
   "outputs": [
    {
     "data": {
      "text/plain": [
       "45116.333333333336"
      ]
     },
     "execution_count": 78,
     "metadata": {},
     "output_type": "execute_result"
    }
   ],
   "source": [
    "135349/3"
   ]
  },
  {
   "cell_type": "code",
   "execution_count": 79,
   "metadata": {},
   "outputs": [
    {
     "data": {
      "text/plain": [
       "135348"
      ]
     },
     "execution_count": 79,
     "metadata": {},
     "output_type": "execute_result"
    }
   ],
   "source": [
    "45116*3"
   ]
  },
  {
   "cell_type": "code",
   "execution_count": 80,
   "metadata": {},
   "outputs": [
    {
     "data": {
      "text/plain": [
       "0"
      ]
     },
     "execution_count": 80,
     "metadata": {},
     "output_type": "execute_result"
    }
   ],
   "source": [
    "data.Enterprise_Size.isnull().sum()"
   ]
  },
  {
   "cell_type": "code",
   "execution_count": 81,
   "metadata": {},
   "outputs": [
    {
     "data": {
      "text/plain": [
       "Unvailable    135349\n",
       "Large         115284\n",
       "Medium         57512\n",
       "Small          57482\n",
       "Name: Enterprise_Size, dtype: int64"
      ]
     },
     "execution_count": 81,
     "metadata": {},
     "output_type": "execute_result"
    }
   ],
   "source": [
    "data['Enterprise_Size'].value_counts()"
   ]
  },
  {
   "cell_type": "code",
   "execution_count": null,
   "metadata": {},
   "outputs": [],
   "source": []
  },
  {
   "cell_type": "code",
   "execution_count": 82,
   "metadata": {},
   "outputs": [
    {
     "data": {
      "text/plain": [
       "0"
      ]
     },
     "execution_count": 82,
     "metadata": {},
     "output_type": "execute_result"
    }
   ],
   "source": [
    "data.employer_num_employees.isnull().sum()"
   ]
  },
  {
   "cell_type": "code",
   "execution_count": 83,
   "metadata": {},
   "outputs": [
    {
     "data": {
      "text/plain": [
       "case_no                          230358\n",
       "case_received_date               135271\n",
       "foreign_worker_info_education    135308\n",
       "foreign_worker_info_major        151662\n",
       "job_experience                   135281\n",
       "job_title                        135313\n",
       "job_training                     135284\n",
       "level                             27095\n",
       "wage_unit_of_pay                 115689\n",
       "case_received_date_month         135271\n",
       "dtype: int64"
      ]
     },
     "execution_count": 83,
     "metadata": {},
     "output_type": "execute_result"
    }
   ],
   "source": [
    "data.isnull().sum()[data.isnull().sum()!=0]"
   ]
  },
  {
   "cell_type": "code",
   "execution_count": 84,
   "metadata": {},
   "outputs": [],
   "source": [
    "## 135308 are null in which 7 unique categories are there so filled with prior category for increase ranging as no other info type of educaton will come rather than given so we can not do new level creation \n",
    "\n",
    "data.foreign_worker_info_education.fillna('unavailable',inplace=True)      ## 5 values filled with mode\n"
   ]
  },
  {
   "cell_type": "code",
   "execution_count": 85,
   "metadata": {},
   "outputs": [
    {
     "data": {
      "text/plain": [
       "0"
      ]
     },
     "execution_count": 85,
     "metadata": {},
     "output_type": "execute_result"
    }
   ],
   "source": [
    "data.foreign_worker_info_education.isnull().sum()"
   ]
  },
  {
   "cell_type": "code",
   "execution_count": null,
   "metadata": {},
   "outputs": [],
   "source": []
  },
  {
   "cell_type": "code",
   "execution_count": 86,
   "metadata": {},
   "outputs": [
    {
     "name": "stdout",
     "output_type": "stream",
     "text": [
      "Y    0.558091\n",
      "N    0.441909\n",
      "Name: job_experience, dtype: float64\n"
     ]
    },
    {
     "data": {
      "text/plain": [
       "135281"
      ]
     },
     "execution_count": 86,
     "metadata": {},
     "output_type": "execute_result"
    }
   ],
   "source": [
    "print(data.job_experience.value_counts(1))\n",
    "data.job_experience.isnull().sum()"
   ]
  },
  {
   "cell_type": "code",
   "execution_count": 87,
   "metadata": {},
   "outputs": [],
   "source": [
    "data.job_experience.fillna('unavailable',inplace=True) #### Creating a new level for missing values "
   ]
  },
  {
   "cell_type": "code",
   "execution_count": 88,
   "metadata": {},
   "outputs": [
    {
     "data": {
      "text/plain": [
       "case_no                      230358\n",
       "case_received_date           135271\n",
       "foreign_worker_info_major    151662\n",
       "job_title                    135313\n",
       "job_training                 135284\n",
       "level                         27095\n",
       "wage_unit_of_pay             115689\n",
       "case_received_date_month     135271\n",
       "dtype: int64"
      ]
     },
     "execution_count": 88,
     "metadata": {},
     "output_type": "execute_result"
    }
   ],
   "source": [
    "data.isnull().sum()[data.isnull().sum()>0]"
   ]
  },
  {
   "cell_type": "code",
   "execution_count": 89,
   "metadata": {},
   "outputs": [],
   "source": [
    "     ##due to a lot of unique values and info already collected from sector column"
   ]
  },
  {
   "cell_type": "code",
   "execution_count": 90,
   "metadata": {},
   "outputs": [],
   "source": [
    "data.job_training.fillna('unavailable',inplace=True)  #### Creating a new level for missing values "
   ]
  },
  {
   "cell_type": "code",
   "execution_count": 91,
   "metadata": {},
   "outputs": [],
   "source": [
    "   ### It is the same as pv_unit_of_pay and we already got info by mean salary"
   ]
  },
  {
   "cell_type": "code",
   "execution_count": 92,
   "metadata": {},
   "outputs": [
    {
     "data": {
      "text/plain": [
       "case_no                      230358\n",
       "case_received_date           135271\n",
       "foreign_worker_info_major    151662\n",
       "job_title                    135313\n",
       "level                         27095\n",
       "wage_unit_of_pay             115689\n",
       "case_received_date_month     135271\n",
       "dtype: int64"
      ]
     },
     "execution_count": 92,
     "metadata": {},
     "output_type": "execute_result"
    }
   ],
   "source": [
    "data.isnull().sum()[data.isnull().sum()!=0]"
   ]
  },
  {
   "cell_type": "code",
   "execution_count": 93,
   "metadata": {},
   "outputs": [
    {
     "data": {
      "text/plain": [
       "array(['Level II', 'Level I', 'Level IV', 'Level III', nan], dtype=object)"
      ]
     },
     "execution_count": 93,
     "metadata": {},
     "output_type": "execute_result"
    }
   ],
   "source": [
    "data.level.unique()"
   ]
  },
  {
   "cell_type": "code",
   "execution_count": 94,
   "metadata": {},
   "outputs": [
    {
     "data": {
      "text/plain": [
       "27092"
      ]
     },
     "execution_count": 94,
     "metadata": {},
     "output_type": "execute_result"
    }
   ],
   "source": [
    "6773*4"
   ]
  },
  {
   "cell_type": "code",
   "execution_count": 95,
   "metadata": {},
   "outputs": [],
   "source": [
    "##27095 are null value in which 4 are unique levels and no further different level will come under supervision so we decided to fill null by that prior levles\n",
    "\n",
    "## 27095/ 4 ==6773 and 4\n",
    "\n",
    "data.level.fillna('unavailable',inplace=True)\n",
    "\n",
    "## filling 7% missing values"
   ]
  },
  {
   "cell_type": "code",
   "execution_count": 96,
   "metadata": {},
   "outputs": [],
   "source": [
    "data.level.fillna(\"unavailable\",inplace=True)  ### rest 3 by mode\n",
    "\n"
   ]
  },
  {
   "cell_type": "code",
   "execution_count": 97,
   "metadata": {},
   "outputs": [
    {
     "data": {
      "text/plain": [
       "0"
      ]
     },
     "execution_count": 97,
     "metadata": {},
     "output_type": "execute_result"
    }
   ],
   "source": [
    "data.level.isnull().sum()"
   ]
  },
  {
   "cell_type": "markdown",
   "metadata": {},
   "source": [
    "#### The unknown level of job has the highest salary!"
   ]
  },
  {
   "cell_type": "markdown",
   "metadata": {},
   "source": [
    "#### Visualizing the columns"
   ]
  },
  {
   "cell_type": "markdown",
   "metadata": {},
   "source": [
    "#### We have 21k+ unique values here. They are a huge range of the employees details and has redundancy as well."
   ]
  },
  {
   "cell_type": "code",
   "execution_count": 98,
   "metadata": {},
   "outputs": [
    {
     "name": "stdout",
     "output_type": "stream",
     "text": [
      "21851\n"
     ]
    }
   ],
   "source": [
    "print(data.foreign_worker_info_major.nunique())\n",
    "\n",
    "data.foreign_worker_info_major=data.foreign_worker_info_major.astype('str')"
   ]
  },
  {
   "cell_type": "code",
   "execution_count": 99,
   "metadata": {},
   "outputs": [],
   "source": [
    "strg ='ENGINEER'\n",
    "for i in data.foreign_worker_info_major:\n",
    "    if strg in i:\n",
    "        data.foreign_worker_info_major.replace(i,'Engineer',inplace=True)\n"
   ]
  },
  {
   "cell_type": "code",
   "execution_count": 100,
   "metadata": {},
   "outputs": [],
   "source": [
    "strng='COMPUTER'\n",
    "for i in data.foreign_worker_info_major:\n",
    "    if strng in i:\n",
    "        data.foreign_worker_info_major.replace(i,'Computer Applications',inplace=True)\n",
    "    else:\n",
    "        pass"
   ]
  },
  {
   "cell_type": "code",
   "execution_count": 101,
   "metadata": {},
   "outputs": [],
   "source": [
    "strng='ADMIN'\n",
    "for i in data.foreign_worker_info_major:\n",
    "    if strng in i:\n",
    "        #print(i)\n",
    "        data.foreign_worker_info_major.replace(i,'Business Administration',inplace=True)\n",
    "    else:\n",
    "        pass"
   ]
  },
  {
   "cell_type": "code",
   "execution_count": 102,
   "metadata": {},
   "outputs": [],
   "source": [
    "str1='INFORMATION TECHNOLOGY'\n",
    "for i in data.foreign_worker_info_major:\n",
    "    if str1 in i:\n",
    "        #print(i)\n",
    "        data.foreign_worker_info_major.replace(i,'Information Technology',inplace=True)\n",
    "    else:\n",
    "        pass"
   ]
  },
  {
   "cell_type": "code",
   "execution_count": 103,
   "metadata": {},
   "outputs": [],
   "source": [
    "str2='MEDICINE'\n",
    "for i in data.foreign_worker_info_major:\n",
    "    if str2 in i:\n",
    "        #print(i)\n",
    "        data.foreign_worker_info_major.replace(i,'Medicine',inplace=True)\n",
    "    else:\n",
    "        pass"
   ]
  },
  {
   "cell_type": "code",
   "execution_count": 104,
   "metadata": {},
   "outputs": [],
   "source": [
    "str3='ACCOUNTING'\n",
    "for i in data.foreign_worker_info_major:\n",
    "    if str3 in i:\n",
    "        #print(i)\n",
    "        data.foreign_worker_info_major.replace(i,'Accounting',inplace=True)\n",
    "    else:\n",
    "        pass"
   ]
  },
  {
   "cell_type": "code",
   "execution_count": 105,
   "metadata": {},
   "outputs": [],
   "source": [
    "str4='INFORMATION SYSTEM'\n",
    "for i in data.foreign_worker_info_major:\n",
    "    if str4 in i:\n",
    "        #print(i)\n",
    "        data.foreign_worker_info_major.replace(i,'Information Systems',inplace=True)\n",
    "    else:\n",
    "        pass"
   ]
  },
  {
   "cell_type": "code",
   "execution_count": 106,
   "metadata": {},
   "outputs": [],
   "source": [
    "str5='ECONOMICS'\n",
    "for i in data.foreign_worker_info_major:\n",
    "    if str5 in i:\n",
    "        #print(i)\n",
    "        data.foreign_worker_info_major.replace(i,'Economics',inplace=True)\n",
    "    else:\n",
    "        pass"
   ]
  },
  {
   "cell_type": "code",
   "execution_count": 107,
   "metadata": {},
   "outputs": [],
   "source": [
    "str6='MATH'\n",
    "for i in data.foreign_worker_info_major:\n",
    "    if str6 in i:\n",
    "        #print(i)\n",
    "        data.foreign_worker_info_major.replace(i,'Mathematics',inplace=True)\n",
    "    else:\n",
    "        pass"
   ]
  },
  {
   "cell_type": "code",
   "execution_count": 108,
   "metadata": {},
   "outputs": [],
   "source": [
    "str7='PHYSICS'\n",
    "for i in data.foreign_worker_info_major:\n",
    "    if str7 in i:\n",
    "        #print(i)\n",
    "        data.foreign_worker_info_major.replace(i,'Physics',inplace=True)\n",
    "    else:\n",
    "        pass"
   ]
  },
  {
   "cell_type": "code",
   "execution_count": 109,
   "metadata": {},
   "outputs": [
    {
     "data": {
      "text/plain": [
       "9754"
      ]
     },
     "execution_count": 109,
     "metadata": {},
     "output_type": "execute_result"
    }
   ],
   "source": [
    "data.foreign_worker_info_major.nunique()"
   ]
  },
  {
   "cell_type": "code",
   "execution_count": null,
   "metadata": {},
   "outputs": [],
   "source": []
  },
  {
   "cell_type": "code",
   "execution_count": 110,
   "metadata": {},
   "outputs": [],
   "source": [
    "data['continent']= data.country_of_citizenship\n",
    "data.continent=data.continent.replace({'ARMENIA':\"ASIA\",'ARMENIA':\"ASIA\",'INDIA':\"ASIA\",'SOUTH KOREA':\"ASIA\",\n",
    "                                         'PAKISTAN':\"ASIA\", 'SINGAPORE':\"ASIA\", 'RUSSIA':\"ASIA\",'JAPAN':\"ASIA\",'CHINA':\"ASIA\",\n",
    "                                         'PHILIPPINES':\"ASIA\",'TURKEY':\"ASIA\",'VIETNAM':\"ASIA\",'IRAN':\"ASIA\",\n",
    "                                         'INDONESIA':\"ASIA\",'BANGLADESH':\"ASIA\", 'MONGOLIA':\"ASIA\",'ISRAEL':\"ASIA\",\n",
    "                                         'TAIWAN':\"ASIA\",'NEPAL':\"ASIA\",'MALAYSIA':\"ASIA\", 'UNITED ARAB EMIRATES':\"ASIA\",\n",
    "                                         'SRI LANKA':\"ASIA\",'HONG KONG':\"ASIA\", 'KUWAIT':\"ASIA\",'LEBANON':\"ASIA\",\n",
    "                                         'JORDAN':\"ASIA\",'THAILAND':\"ASIA\",'BURKINA FASO':\"ASIA\",'SYRIA':\"ASIA\", 'LAOS':\"ASIA\",\n",
    "                                         'CAMBODIA':\"ASIA\",'KYRGYZSTAN':\"ASIA\", 'TURKMENISTAN':\"ASIA\", 'BURMA (MYANMAR)':\"ASIA\",\n",
    "                                         'AFGHANISTAN':\"ASIA\",'CYPRUS':\"ASIA\",'BHUTAN':\"ASIA\", 'NORTH KOREA':\"ASIA\",\n",
    "                                         'AZERBAIJAN':\"ASIA\", 'OMAN':\"ASIA\",'BAHRAIN':\"ASIA\", 'KAZAKHSTAN':\"ASIA\",\n",
    "                                         'UZBEKISTAN':\"ASIA\",'PALESTINE':\"ASIA\",'SAUDI ARABIA':\"ASIA\",'YEMEN':\"ASIA\",\n",
    "                                         'IRAQ':\"ASIA\",'TAJIKISTAN':\"ASIA\",'MALDIVES':\"ASIA\", 'MACAU':\"ASIA\",\n",
    "                                         'PALESTINIAN TERRITORIES':\"ASIA\",'QATAR':\"ASIA\",'BRUNEI':\"ASIA\"})\n",
    "\n",
    "data.continent=data.continent.replace({'SOUTH AFRICA':\"AFRICA\", 'CAMEROON':\"AFRICA\",'MOROCCO':\"AFRICA\",'NIGERIA':\"AFRICA\",\n",
    "                                         'EGYPT':\"AFRICA\",'KENYA':\"AFRICA\",'IVORY COAST':\"AFRICA\",'GHANA':\"AFRICA\",\n",
    "                                         'ZAMBIA':\"AFRICA\",'MALI':\"AFRICA\",'ZIMBABWE':\"AFRICA\", 'MAURITIUS':\"AFRICA\",\n",
    "                                         'SENEGAL':\"AFRICA\",'GUINEA':\"AFRICA\",'ETHIOPIA':\"AFRICA\",'TUNISIA':\"AFRICA\",\n",
    "                                         'SUDAN':\"AFRICA\",'TANZANIA':\"AFRICA\",'UGANDA':\"AFRICA\", 'LIBYA':\"AFRICA\",\n",
    "                                         'RWANDA':\"AFRICA\",'LIBERIA':\"AFRICA\",'SIERRA LEONE':\"AFRICA\",'GAMBIA':\"AFRICA\",\n",
    "                                         'TOGO':\"AFRICA\",'ANGOLA':\"AFRICA\",'LESOTHO':\"AFRICA\", 'BURUNDI':\"AFRICA\",\n",
    "                                         'GABON':\"AFRICA\", 'DEMOCRATIC REPUBLIC OF CONGO':\"AFRICA\", \n",
    "                                         'CENTRAL AFRICAN REPUBLIC':\"AFRICA\",'MADAGASCAR':\"AFRICA\",'MOZAMBIQUE':\"AFRICA\",\n",
    "                                         'BOTSWANA':\"AFRICA\",'BENIN':\"AFRICA\",'NIGER':\"AFRICA\",'ALGERIA':\"AFRICA\",\n",
    "                                         'ERITREA':\"AFRICA\",'MALAWI':\"AFRICA\", 'NAMIBIA':\"AFRICA\",'MAURITANIA':\"AFRICA\",\n",
    "                                         \"COTE d'IVOIRE\":\"AFRICA\",'SAO TOME AND PRINCIPE':\"AFRICA\",'GUINEA-BISSAU':\"AFRICA\",\n",
    "                                         'SEYCHELLES':\"AFRICA\",'SOUTH SUDAN':\"AFRICA\", 'EQUATORIAL GUINEA':\"AFRICA\",\n",
    "                                         'REPUBLIC OF CONGO':\"AFRICA\",'SOMALIA':\"AFRICA\",'SWAZILAND':\"AFRICA\",\n",
    "                                         'CAPE VERDE':\"AFRICA\",'CHAD':\"AFRICA\",'COMOROS':\"AFRICA\"})\n",
    "\n",
    "data.continent = data.continent.replace({'POLAND':\"EUROPE\",'SWEDEN':\"EUROPE\", 'PORTUGAL':\"EUROPE\",'SPAIN':\"EUROPE\",\n",
    "                                           'AUSTRIA':\"EUROPE\",'ITALY':\"EUROPE\", 'IRELAND':\"EUROPE\", 'BULGARIA':\"EUROPE\",\n",
    "                                           'UNITED KINGDOM':\"EUROPE\",'SLOVAKIA':\"EUROPE\",'ROMANIA':\"EUROPE\", 'UKRAINE':\"EUROPE\",\n",
    "                                           'HUNGARY':\"EUROPE\", 'MACEDONIA':\"EUROPE\",'GERMANY':\"EUROPE\",'MOLDOVA':\"EUROPE\",\n",
    "                                           'NETHERLANDS':\"EUROPE\",'GREECE':\"EUROPE\",'SERBIA AND MONTENEGRO':\"EUROPE\",\n",
    "                                           'SWITZERLAND':\"EUROPE\",'SLOVENIA':\"EUROPE\",'BELARUS':\"EUROPE\",\n",
    "                                           'CZECH REPUBLIC':\"EUROPE\",'BELGIUM':\"EUROPE\",'ALBANIA':\"EUROPE\",'ESTONIA':\"EUROPE\",\n",
    "                                           'DENMARK':\"EUROPE\",'NORWAY':\"EUROPE\",'LITHUANIA':\"EUROPE\", 'FINLAND':\"EUROPE\",\n",
    "                                           'LATVIA':\"EUROPE\",'BOSNIA AND HERZEGOVINA':\"EUROPE\",'YUGOSLAVIA':\"EUROPE\",\n",
    "                                           'CROATIA':\"EUROPE\",'MALTA':\"EUROPE\",'ICELAND':\"EUROPE\", 'KOSOVO':\"EUROPE\",\n",
    "                                           'LUXEMBOURG':\"EUROPE\",'SERBIA':\"EUROPE\",'MONTENEGRO':\"EUROPE\",'MONACO':\"EUROPE\",\n",
    "                                           'LIECHTENSTEIN':\"EUROPE\",'ANDORRA':\"EUROPE\",'SOVIET UNION':\"EUROPE\"})\n",
    "\n",
    "\n",
    "data.continent = data.continent.replace({'CANADA':\"North America\",'MEXICO':\"North America\",'VENEZUELA':\"North America\",\n",
    "                                           'EL SALVADOR':\"North America\", 'JAMAICA':\"North America\", \n",
    "                                           'TRINIDAD AND TOBAGO':\"North America\",'GUATEMALA':\"North America\",\n",
    "                                           'UNITED STATES OF AMERICA':\"North America\",'BOLIVIA':\"North America\",\n",
    "                                           'DOMINICAN REPUBLIC':\"North America\", 'FRANCE':\"North America\",\n",
    "                                           'PANAMA':\"North America\",'COSTA RICA':\"North America\",'BARBADOS':\"North America\", \n",
    "                                           'GRENADA':\"North America\", 'HONDURAS':\"North America\",'BELIZE':\"North America\",\n",
    "                                           'DOMINICA':\"North America\",'ST VINCENT':\"North America\", 'NICARAGUA':\"North America\",\n",
    "                                           'ST LUCIA':\"North America\",'URUGUAY':\"North America\",'BAHAMAS':\"North America\",\n",
    "                                           'ST KITTS AND NEVIS':\"North America\", 'HAITI':\"North America\",\n",
    "                                           'CAYMAN ISLANDS':\"North America\", 'BERMUDA':\"North America\",'ARUBA':\"North America\",\n",
    "                                           'TURKS AND CAICOS ISLANDS':\"North America\",'ANTIGUA AND BARBUDA':\"North America\",\n",
    "                                           'SAINT VINCENT AND THE GRENADINES':\"North America\",\n",
    "                                           'BRITISH VIRGIN ISLANDS':\"North America\",'CUBA':\"North America\",'SINT MAARTEN':\"North America\"})\n",
    "\n",
    "data.continent = data.continent.replace({'ECUADOR':\"South America\",'COLOMBIA':\"South America\",'BRAZIL':\"South America\",\n",
    "                                           'ARGENTINA':\"South America\", 'PERU':\"South America\",'PARAGUAY':\"South America\",\n",
    "                                           'CHILE':\"South America\",'GEORGIA':\"South America\",'GUYANA':\"South America\",\n",
    "                                           'SURINAME':\"South America\", 'NETHERLANDS ANTILLES':\"South America\"})\n",
    "\n",
    "data.continent = data.continent.replace({'AUSTRALIA':\"Oceania\",'NEW ZEALAND':\"Oceania\",'FIJI':\"Oceania\",\n",
    "                                           'PAPUA NEW GUINEA':\"Oceania\",'VANUATU':\"Oceania\",'MARSHALL ISLANDS':\"Oceania\",\n",
    "                                           'KIRIBATI':\"Oceania\",'SAMOA':\"Oceania\"})\n"
   ]
  },
  {
   "cell_type": "code",
   "execution_count": 111,
   "metadata": {},
   "outputs": [
    {
     "data": {
      "text/plain": [
       "ASIA             294092\n",
       "North America     34066\n",
       "EUROPE            21811\n",
       "South America      8239\n",
       "AFRICA             5305\n",
       "Oceania            2114\n",
       "Name: continent, dtype: int64"
      ]
     },
     "execution_count": 111,
     "metadata": {},
     "output_type": "execute_result"
    }
   ],
   "source": [
    "data.continent.value_counts()"
   ]
  },
  {
   "cell_type": "code",
   "execution_count": 112,
   "metadata": {},
   "outputs": [
    {
     "data": {
      "text/html": [
       "<div>\n",
       "<style scoped>\n",
       "    .dataframe tbody tr th:only-of-type {\n",
       "        vertical-align: middle;\n",
       "    }\n",
       "\n",
       "    .dataframe tbody tr th {\n",
       "        vertical-align: top;\n",
       "    }\n",
       "\n",
       "    .dataframe thead th {\n",
       "        text-align: right;\n",
       "    }\n",
       "</style>\n",
       "<table border=\"1\" class=\"dataframe\">\n",
       "  <thead>\n",
       "    <tr style=\"text-align: right;\">\n",
       "      <th>source_name</th>\n",
       "      <th>CBA</th>\n",
       "      <th>DBA</th>\n",
       "      <th>Employer Conducted</th>\n",
       "      <th>OES</th>\n",
       "      <th>Other</th>\n",
       "      <th>SCA</th>\n",
       "    </tr>\n",
       "    <tr>\n",
       "      <th>case_status</th>\n",
       "      <th></th>\n",
       "      <th></th>\n",
       "      <th></th>\n",
       "      <th></th>\n",
       "      <th></th>\n",
       "      <th></th>\n",
       "    </tr>\n",
       "  </thead>\n",
       "  <tbody>\n",
       "    <tr>\n",
       "      <th>Certified</th>\n",
       "      <td>1472</td>\n",
       "      <td>0</td>\n",
       "      <td>117</td>\n",
       "      <td>163531</td>\n",
       "      <td>12866</td>\n",
       "      <td>14</td>\n",
       "    </tr>\n",
       "    <tr>\n",
       "      <th>Certified-Expired</th>\n",
       "      <td>1285</td>\n",
       "      <td>0</td>\n",
       "      <td>94</td>\n",
       "      <td>133152</td>\n",
       "      <td>10327</td>\n",
       "      <td>8</td>\n",
       "    </tr>\n",
       "    <tr>\n",
       "      <th>Denied</th>\n",
       "      <td>629</td>\n",
       "      <td>24</td>\n",
       "      <td>296</td>\n",
       "      <td>22846</td>\n",
       "      <td>1229</td>\n",
       "      <td>45</td>\n",
       "    </tr>\n",
       "    <tr>\n",
       "      <th>Withdrawn</th>\n",
       "      <td>198</td>\n",
       "      <td>0</td>\n",
       "      <td>26</td>\n",
       "      <td>16403</td>\n",
       "      <td>1057</td>\n",
       "      <td>8</td>\n",
       "    </tr>\n",
       "  </tbody>\n",
       "</table>\n",
       "</div>"
      ],
      "text/plain": [
       "source_name         CBA  DBA  Employer Conducted     OES  Other  SCA\n",
       "case_status                                                         \n",
       "Certified          1472    0                 117  163531  12866   14\n",
       "Certified-Expired  1285    0                  94  133152  10327    8\n",
       "Denied              629   24                 296   22846   1229   45\n",
       "Withdrawn           198    0                  26   16403   1057    8"
      ]
     },
     "execution_count": 112,
     "metadata": {},
     "output_type": "execute_result"
    }
   ],
   "source": [
    "pd.crosstab(data.case_status,data.source_name)"
   ]
  },
  {
   "cell_type": "code",
   "execution_count": 113,
   "metadata": {},
   "outputs": [],
   "source": [
    "data.drop('employer_city',axis=1,inplace=True)    # 8.3k unique vales"
   ]
  },
  {
   "cell_type": "markdown",
   "metadata": {},
   "source": [
    "def draw_histograms(dataframe, features, rows, cols):\n",
    "    fig=plt.figure(figsize=(20,20))\n",
    "    for i, feature in enumerate(features):\n",
    "        ax=fig.add_subplot(rows,cols,i+1)\n",
    "        dataframe[feature].hist(bins=20,ax=ax,facecolor='midnightblue')\n",
    "        ax.set_title(feature+\" Distribution\",color='DarkRed')\n",
    "        \n",
    "    fig.tight_layout()  \n",
    "    plt.show()\n",
    "    \n",
    "    \n",
    "draw_histograms(data,data.columns,10,3)"
   ]
  },
  {
   "cell_type": "markdown",
   "metadata": {},
   "source": [
    "### Exporting Clean Data"
   ]
  },
  {
   "cell_type": "code",
   "execution_count": 114,
   "metadata": {},
   "outputs": [
    {
     "data": {
      "text/plain": [
       "70846"
      ]
     },
     "execution_count": 114,
     "metadata": {},
     "output_type": "execute_result"
    }
   ],
   "source": [
    "data.employer_name.nunique()"
   ]
  },
  {
   "cell_type": "code",
   "execution_count": 115,
   "metadata": {},
   "outputs": [],
   "source": [
    "data.drop(['country_of_citizenship'],axis=1,inplace=True)"
   ]
  },
  {
   "cell_type": "code",
   "execution_count": 116,
   "metadata": {},
   "outputs": [
    {
     "data": {
      "text/html": [
       "<div>\n",
       "<style scoped>\n",
       "    .dataframe tbody tr th:only-of-type {\n",
       "        vertical-align: middle;\n",
       "    }\n",
       "\n",
       "    .dataframe tbody tr th {\n",
       "        vertical-align: top;\n",
       "    }\n",
       "\n",
       "    .dataframe thead th {\n",
       "        text-align: right;\n",
       "    }\n",
       "</style>\n",
       "<table border=\"1\" class=\"dataframe\">\n",
       "  <thead>\n",
       "    <tr style=\"text-align: right;\">\n",
       "      <th></th>\n",
       "      <th>agent_state</th>\n",
       "      <th>application_type</th>\n",
       "      <th>case_no</th>\n",
       "      <th>case_received_date</th>\n",
       "      <th>case_status</th>\n",
       "      <th>class_of_admission</th>\n",
       "      <th>decision_date</th>\n",
       "      <th>employer_num_employees</th>\n",
       "      <th>employer_yr_estab</th>\n",
       "      <th>employer_name</th>\n",
       "      <th>employer_state</th>\n",
       "      <th>foreign_worker_info_education</th>\n",
       "      <th>foreign_worker_info_major</th>\n",
       "      <th>job_experience</th>\n",
       "      <th>job_title</th>\n",
       "      <th>job_training</th>\n",
       "      <th>job_work_state</th>\n",
       "      <th>pv_unit_of_pay_9089</th>\n",
       "      <th>previous_salary</th>\n",
       "      <th>level</th>\n",
       "      <th>source_name</th>\n",
       "      <th>sector</th>\n",
       "      <th>wage_offer</th>\n",
       "      <th>wage_unit_of_pay</th>\n",
       "      <th>case_received_date_year</th>\n",
       "      <th>case_received_date_month</th>\n",
       "      <th>decision_date_month</th>\n",
       "      <th>decision_date_year</th>\n",
       "      <th>Received_Year</th>\n",
       "      <th>meansal</th>\n",
       "      <th>employer_region</th>\n",
       "      <th>Enterprise_Size</th>\n",
       "      <th>continent</th>\n",
       "    </tr>\n",
       "  </thead>\n",
       "  <tbody>\n",
       "    <tr>\n",
       "      <th>0</th>\n",
       "      <td>Other</td>\n",
       "      <td>PERM</td>\n",
       "      <td>A-07323-97014</td>\n",
       "      <td>NaT</td>\n",
       "      <td>Certified</td>\n",
       "      <td>J</td>\n",
       "      <td>2012-02-01</td>\n",
       "      <td>-1.0</td>\n",
       "      <td>Unavailable</td>\n",
       "      <td>netsoft usa inc.</td>\n",
       "      <td>NY</td>\n",
       "      <td>unavailable</td>\n",
       "      <td>nan</td>\n",
       "      <td>unavailable</td>\n",
       "      <td>NaN</td>\n",
       "      <td>unavailable</td>\n",
       "      <td>Northeast</td>\n",
       "      <td>Year</td>\n",
       "      <td>75629.0</td>\n",
       "      <td>Level II</td>\n",
       "      <td>OES</td>\n",
       "      <td>IT</td>\n",
       "      <td>75629.00</td>\n",
       "      <td>Year</td>\n",
       "      <td>2007</td>\n",
       "      <td>NaN</td>\n",
       "      <td>2</td>\n",
       "      <td>2012</td>\n",
       "      <td>2007</td>\n",
       "      <td>75629.000</td>\n",
       "      <td>Northeast</td>\n",
       "      <td>Unvailable</td>\n",
       "      <td>ASIA</td>\n",
       "    </tr>\n",
       "    <tr>\n",
       "      <th>1</th>\n",
       "      <td>Other</td>\n",
       "      <td>PERM</td>\n",
       "      <td>A-07332-99439</td>\n",
       "      <td>NaT</td>\n",
       "      <td>Denied</td>\n",
       "      <td>B</td>\n",
       "      <td>2011-12-21</td>\n",
       "      <td>-1.0</td>\n",
       "      <td>Unavailable</td>\n",
       "      <td>pinnacle environemntal corp</td>\n",
       "      <td>NY</td>\n",
       "      <td>unavailable</td>\n",
       "      <td>nan</td>\n",
       "      <td>unavailable</td>\n",
       "      <td>NaN</td>\n",
       "      <td>unavailable</td>\n",
       "      <td>Northeast</td>\n",
       "      <td>Year</td>\n",
       "      <td>37024.0</td>\n",
       "      <td>Level I</td>\n",
       "      <td>OES</td>\n",
       "      <td>Other Economic Sector</td>\n",
       "      <td>37024.00</td>\n",
       "      <td>Year</td>\n",
       "      <td>2007</td>\n",
       "      <td>NaN</td>\n",
       "      <td>12</td>\n",
       "      <td>2011</td>\n",
       "      <td>2007</td>\n",
       "      <td>37024.000</td>\n",
       "      <td>Northeast</td>\n",
       "      <td>Unvailable</td>\n",
       "      <td>EUROPE</td>\n",
       "    </tr>\n",
       "    <tr>\n",
       "      <th>2</th>\n",
       "      <td>Other</td>\n",
       "      <td>PERM</td>\n",
       "      <td>A-07333-99643</td>\n",
       "      <td>NaT</td>\n",
       "      <td>Certified</td>\n",
       "      <td>H-1B</td>\n",
       "      <td>2011-12-01</td>\n",
       "      <td>-1.0</td>\n",
       "      <td>Unavailable</td>\n",
       "      <td>schnabel engineering, inc.</td>\n",
       "      <td>VA</td>\n",
       "      <td>unavailable</td>\n",
       "      <td>nan</td>\n",
       "      <td>unavailable</td>\n",
       "      <td>NaN</td>\n",
       "      <td>unavailable</td>\n",
       "      <td>South</td>\n",
       "      <td>Year</td>\n",
       "      <td>47923.0</td>\n",
       "      <td>Level I</td>\n",
       "      <td>OES</td>\n",
       "      <td>Aerospace</td>\n",
       "      <td>47923.00</td>\n",
       "      <td>Year</td>\n",
       "      <td>2007</td>\n",
       "      <td>NaN</td>\n",
       "      <td>12</td>\n",
       "      <td>2011</td>\n",
       "      <td>2007</td>\n",
       "      <td>47923.000</td>\n",
       "      <td>South</td>\n",
       "      <td>Unvailable</td>\n",
       "      <td>ASIA</td>\n",
       "    </tr>\n",
       "    <tr>\n",
       "      <th>3</th>\n",
       "      <td>Other</td>\n",
       "      <td>PERM</td>\n",
       "      <td>A-07339-01930</td>\n",
       "      <td>NaT</td>\n",
       "      <td>Certified</td>\n",
       "      <td>B</td>\n",
       "      <td>2011-12-01</td>\n",
       "      <td>-1.0</td>\n",
       "      <td>Unavailable</td>\n",
       "      <td>ebenezer mission church</td>\n",
       "      <td>NY</td>\n",
       "      <td>unavailable</td>\n",
       "      <td>nan</td>\n",
       "      <td>unavailable</td>\n",
       "      <td>NaN</td>\n",
       "      <td>unavailable</td>\n",
       "      <td>Northeast</td>\n",
       "      <td>Year</td>\n",
       "      <td>21940.0</td>\n",
       "      <td>Level II</td>\n",
       "      <td>OES</td>\n",
       "      <td>Other Economic Sector</td>\n",
       "      <td>10.97</td>\n",
       "      <td>Hour</td>\n",
       "      <td>2007</td>\n",
       "      <td>NaN</td>\n",
       "      <td>12</td>\n",
       "      <td>2011</td>\n",
       "      <td>2007</td>\n",
       "      <td>10975.485</td>\n",
       "      <td>Northeast</td>\n",
       "      <td>Unvailable</td>\n",
       "      <td>ASIA</td>\n",
       "    </tr>\n",
       "    <tr>\n",
       "      <th>4</th>\n",
       "      <td>Other</td>\n",
       "      <td>PERM</td>\n",
       "      <td>A-07345-03565</td>\n",
       "      <td>NaT</td>\n",
       "      <td>Certified</td>\n",
       "      <td>L</td>\n",
       "      <td>2012-01-26</td>\n",
       "      <td>-1.0</td>\n",
       "      <td>Unavailable</td>\n",
       "      <td>albany international corp.</td>\n",
       "      <td>NY</td>\n",
       "      <td>unavailable</td>\n",
       "      <td>nan</td>\n",
       "      <td>unavailable</td>\n",
       "      <td>NaN</td>\n",
       "      <td>unavailable</td>\n",
       "      <td>Northeast</td>\n",
       "      <td>Year</td>\n",
       "      <td>94890.0</td>\n",
       "      <td>Level IV</td>\n",
       "      <td>OES</td>\n",
       "      <td>Advanced Mfg</td>\n",
       "      <td>100000.00</td>\n",
       "      <td>Year</td>\n",
       "      <td>2007</td>\n",
       "      <td>NaN</td>\n",
       "      <td>1</td>\n",
       "      <td>2012</td>\n",
       "      <td>2007</td>\n",
       "      <td>97445.000</td>\n",
       "      <td>Northeast</td>\n",
       "      <td>Unvailable</td>\n",
       "      <td>North America</td>\n",
       "    </tr>\n",
       "  </tbody>\n",
       "</table>\n",
       "</div>"
      ],
      "text/plain": [
       "  agent_state application_type        case_no case_received_date case_status  \\\n",
       "0       Other             PERM  A-07323-97014                NaT   Certified   \n",
       "1       Other             PERM  A-07332-99439                NaT      Denied   \n",
       "2       Other             PERM  A-07333-99643                NaT   Certified   \n",
       "3       Other             PERM  A-07339-01930                NaT   Certified   \n",
       "4       Other             PERM  A-07345-03565                NaT   Certified   \n",
       "\n",
       "  class_of_admission decision_date  employer_num_employees employer_yr_estab  \\\n",
       "0                  J    2012-02-01                    -1.0       Unavailable   \n",
       "1                  B    2011-12-21                    -1.0       Unavailable   \n",
       "2               H-1B    2011-12-01                    -1.0       Unavailable   \n",
       "3                  B    2011-12-01                    -1.0       Unavailable   \n",
       "4                  L    2012-01-26                    -1.0       Unavailable   \n",
       "\n",
       "                 employer_name employer_state foreign_worker_info_education  \\\n",
       "0             netsoft usa inc.             NY                   unavailable   \n",
       "1  pinnacle environemntal corp             NY                   unavailable   \n",
       "2   schnabel engineering, inc.             VA                   unavailable   \n",
       "3      ebenezer mission church             NY                   unavailable   \n",
       "4   albany international corp.             NY                   unavailable   \n",
       "\n",
       "  foreign_worker_info_major job_experience job_title job_training  \\\n",
       "0                       nan    unavailable       NaN  unavailable   \n",
       "1                       nan    unavailable       NaN  unavailable   \n",
       "2                       nan    unavailable       NaN  unavailable   \n",
       "3                       nan    unavailable       NaN  unavailable   \n",
       "4                       nan    unavailable       NaN  unavailable   \n",
       "\n",
       "  job_work_state pv_unit_of_pay_9089  previous_salary     level source_name  \\\n",
       "0      Northeast                Year          75629.0  Level II         OES   \n",
       "1      Northeast                Year          37024.0   Level I         OES   \n",
       "2          South                Year          47923.0   Level I         OES   \n",
       "3      Northeast                Year          21940.0  Level II         OES   \n",
       "4      Northeast                Year          94890.0  Level IV         OES   \n",
       "\n",
       "                  sector  wage_offer wage_unit_of_pay  \\\n",
       "0                     IT    75629.00             Year   \n",
       "1  Other Economic Sector    37024.00             Year   \n",
       "2              Aerospace    47923.00             Year   \n",
       "3  Other Economic Sector       10.97             Hour   \n",
       "4           Advanced Mfg   100000.00             Year   \n",
       "\n",
       "   case_received_date_year  case_received_date_month  decision_date_month  \\\n",
       "0                     2007                       NaN                    2   \n",
       "1                     2007                       NaN                   12   \n",
       "2                     2007                       NaN                   12   \n",
       "3                     2007                       NaN                   12   \n",
       "4                     2007                       NaN                    1   \n",
       "\n",
       "   decision_date_year Received_Year    meansal employer_region  \\\n",
       "0                2012          2007  75629.000       Northeast   \n",
       "1                2011          2007  37024.000       Northeast   \n",
       "2                2011          2007  47923.000           South   \n",
       "3                2011          2007  10975.485       Northeast   \n",
       "4                2012          2007  97445.000       Northeast   \n",
       "\n",
       "  Enterprise_Size      continent  \n",
       "0      Unvailable           ASIA  \n",
       "1      Unvailable         EUROPE  \n",
       "2      Unvailable           ASIA  \n",
       "3      Unvailable           ASIA  \n",
       "4      Unvailable  North America  "
      ]
     },
     "execution_count": 116,
     "metadata": {},
     "output_type": "execute_result"
    }
   ],
   "source": [
    "data.head()"
   ]
  },
  {
   "cell_type": "code",
   "execution_count": 117,
   "metadata": {},
   "outputs": [
    {
     "name": "stdout",
     "output_type": "stream",
     "text": [
      "<class 'pandas.core.frame.DataFrame'>\n",
      "Int64Index: 365627 entries, 0 to 374361\n",
      "Data columns (total 33 columns):\n",
      "agent_state                      365627 non-null object\n",
      "application_type                 365627 non-null object\n",
      "case_no                          135269 non-null object\n",
      "case_received_date               230356 non-null datetime64[ns]\n",
      "case_status                      365627 non-null object\n",
      "class_of_admission               365627 non-null object\n",
      "decision_date                    365627 non-null datetime64[ns]\n",
      "employer_num_employees           365627 non-null float32\n",
      "employer_yr_estab                365627 non-null object\n",
      "employer_name                    365627 non-null object\n",
      "employer_state                   365627 non-null object\n",
      "foreign_worker_info_education    365627 non-null object\n",
      "foreign_worker_info_major        365627 non-null object\n",
      "job_experience                   365627 non-null object\n",
      "job_title                        230314 non-null object\n",
      "job_training                     365627 non-null object\n",
      "job_work_state                   365627 non-null object\n",
      "pv_unit_of_pay_9089              365627 non-null object\n",
      "previous_salary                  365627 non-null float32\n",
      "level                            365627 non-null object\n",
      "source_name                      365627 non-null object\n",
      "sector                           365627 non-null object\n",
      "wage_offer                       365627 non-null float64\n",
      "wage_unit_of_pay                 249938 non-null object\n",
      "case_received_date_year          365627 non-null int32\n",
      "case_received_date_month         230356 non-null float64\n",
      "decision_date_month              365627 non-null int64\n",
      "decision_date_year               365627 non-null int32\n",
      "Received_Year                    365627 non-null object\n",
      "meansal                          365627 non-null float64\n",
      "employer_region                  365627 non-null object\n",
      "Enterprise_Size                  365627 non-null object\n",
      "continent                        365627 non-null object\n",
      "dtypes: datetime64[ns](2), float32(2), float64(3), int32(2), int64(1), object(23)\n",
      "memory usage: 99.3+ MB\n"
     ]
    }
   ],
   "source": [
    "data.info()"
   ]
  },
  {
   "cell_type": "markdown",
   "metadata": {},
   "source": [
    "### Data Preprocessing:-"
   ]
  },
  {
   "cell_type": "code",
   "execution_count": 118,
   "metadata": {},
   "outputs": [
    {
     "data": {
      "text/plain": [
       "case_no                     230358\n",
       "case_received_date          135271\n",
       "job_title                   135313\n",
       "wage_unit_of_pay            115689\n",
       "case_received_date_month    135271\n",
       "dtype: int64"
      ]
     },
     "execution_count": 118,
     "metadata": {},
     "output_type": "execute_result"
    }
   ],
   "source": [
    "data.isnull().sum()[data.isnull().sum()!=0]"
   ]
  },
  {
   "cell_type": "code",
   "execution_count": 119,
   "metadata": {},
   "outputs": [
    {
     "data": {
      "text/plain": [
       "Index(['agent_state', 'application_type', 'case_no', 'case_received_date',\n",
       "       'case_status', 'class_of_admission', 'decision_date',\n",
       "       'employer_num_employees', 'employer_yr_estab', 'employer_name',\n",
       "       'employer_state', 'foreign_worker_info_education',\n",
       "       'foreign_worker_info_major', 'job_experience', 'job_title',\n",
       "       'job_training', 'job_work_state', 'pv_unit_of_pay_9089',\n",
       "       'previous_salary', 'level', 'source_name', 'sector', 'wage_offer',\n",
       "       'wage_unit_of_pay', 'case_received_date_year',\n",
       "       'case_received_date_month', 'decision_date_month', 'decision_date_year',\n",
       "       'Received_Year', 'meansal', 'employer_region', 'Enterprise_Size',\n",
       "       'continent'],\n",
       "      dtype='object')"
      ]
     },
     "execution_count": 119,
     "metadata": {},
     "output_type": "execute_result"
    }
   ],
   "source": [
    "data.columns"
   ]
  },
  {
   "cell_type": "code",
   "execution_count": 120,
   "metadata": {},
   "outputs": [],
   "source": [
    "data.drop(columns=['case_no','job_title','wage_unit_of_pay'],inplace=True)"
   ]
  },
  {
   "cell_type": "code",
   "execution_count": 121,
   "metadata": {},
   "outputs": [
    {
     "data": {
      "text/plain": [
       "(365627, 30)"
      ]
     },
     "execution_count": 121,
     "metadata": {},
     "output_type": "execute_result"
    }
   ],
   "source": [
    "data.shape"
   ]
  },
  {
   "cell_type": "code",
   "execution_count": 122,
   "metadata": {},
   "outputs": [
    {
     "data": {
      "text/plain": [
       "case_received_date          135271\n",
       "case_received_date_month    135271\n",
       "dtype: int64"
      ]
     },
     "execution_count": 122,
     "metadata": {},
     "output_type": "execute_result"
    }
   ],
   "source": [
    "data.isnull().sum()[data.isnull().sum()!=0]"
   ]
  },
  {
   "cell_type": "code",
   "execution_count": 123,
   "metadata": {},
   "outputs": [],
   "source": [
    "data['duration_year']=data.decision_date_year-data.case_received_date_year"
   ]
  },
  {
   "cell_type": "code",
   "execution_count": 124,
   "metadata": {},
   "outputs": [
    {
     "name": "stdout",
     "output_type": "stream",
     "text": [
      "<class 'pandas.core.frame.DataFrame'>\n",
      "Int64Index: 365627 entries, 0 to 374361\n",
      "Data columns (total 31 columns):\n",
      "agent_state                      365627 non-null object\n",
      "application_type                 365627 non-null object\n",
      "case_received_date               230356 non-null datetime64[ns]\n",
      "case_status                      365627 non-null object\n",
      "class_of_admission               365627 non-null object\n",
      "decision_date                    365627 non-null datetime64[ns]\n",
      "employer_num_employees           365627 non-null float32\n",
      "employer_yr_estab                365627 non-null object\n",
      "employer_name                    365627 non-null object\n",
      "employer_state                   365627 non-null object\n",
      "foreign_worker_info_education    365627 non-null object\n",
      "foreign_worker_info_major        365627 non-null object\n",
      "job_experience                   365627 non-null object\n",
      "job_training                     365627 non-null object\n",
      "job_work_state                   365627 non-null object\n",
      "pv_unit_of_pay_9089              365627 non-null object\n",
      "previous_salary                  365627 non-null float32\n",
      "level                            365627 non-null object\n",
      "source_name                      365627 non-null object\n",
      "sector                           365627 non-null object\n",
      "wage_offer                       365627 non-null float64\n",
      "case_received_date_year          365627 non-null int32\n",
      "case_received_date_month         230356 non-null float64\n",
      "decision_date_month              365627 non-null int64\n",
      "decision_date_year               365627 non-null int32\n",
      "Received_Year                    365627 non-null object\n",
      "meansal                          365627 non-null float64\n",
      "employer_region                  365627 non-null object\n",
      "Enterprise_Size                  365627 non-null object\n",
      "continent                        365627 non-null object\n",
      "duration_year                    365627 non-null int32\n",
      "dtypes: datetime64[ns](2), float32(2), float64(3), int32(3), int64(1), object(20)\n",
      "memory usage: 92.3+ MB\n"
     ]
    }
   ],
   "source": [
    "data.info()"
   ]
  },
  {
   "cell_type": "code",
   "execution_count": 125,
   "metadata": {},
   "outputs": [],
   "source": [
    "\n",
    "\n",
    "#data.drop('foreign_worker_info_major',axis=1,inplace=True)\n",
    "#data.drop('employer_state',axis=1,inplace=True)\n",
    "\n",
    "data.drop(['decision_date'],axis=1,inplace=True)\n",
    "#data.drop('agent_state',axis=1,inplace=True)\n",
    "data.drop(['previous_salary','wage_offer'],axis=1,inplace=True)\n",
    "#data.drop('job_title',axis=1,inplace=True)\n",
    "#data.drop('wage_unit_of_pay',axis=1,inplace=True)\n",
    "data.drop('case_received_date',axis=1,inplace=True)"
   ]
  },
  {
   "cell_type": "code",
   "execution_count": 126,
   "metadata": {},
   "outputs": [],
   "source": [
    "data.drop(['case_received_date_year','decision_date_year'],axis=1,inplace=True)"
   ]
  },
  {
   "cell_type": "code",
   "execution_count": 127,
   "metadata": {},
   "outputs": [],
   "source": [
    "data.drop('Received_Year',axis=1,inplace=True)"
   ]
  },
  {
   "cell_type": "code",
   "execution_count": 128,
   "metadata": {},
   "outputs": [],
   "source": [
    "data.drop('employer_region',axis=1,inplace=True)"
   ]
  },
  {
   "cell_type": "code",
   "execution_count": 129,
   "metadata": {},
   "outputs": [
    {
     "data": {
      "text/plain": [
       "Index(['agent_state', 'application_type', 'case_status', 'class_of_admission',\n",
       "       'employer_num_employees', 'employer_yr_estab', 'employer_name',\n",
       "       'employer_state', 'foreign_worker_info_education',\n",
       "       'foreign_worker_info_major', 'job_experience', 'job_training',\n",
       "       'job_work_state', 'pv_unit_of_pay_9089', 'level', 'source_name',\n",
       "       'sector', 'case_received_date_month', 'decision_date_month', 'meansal',\n",
       "       'Enterprise_Size', 'continent', 'duration_year'],\n",
       "      dtype='object')"
      ]
     },
     "execution_count": 129,
     "metadata": {},
     "output_type": "execute_result"
    }
   ],
   "source": [
    "data.columns"
   ]
  },
  {
   "cell_type": "code",
   "execution_count": 130,
   "metadata": {},
   "outputs": [
    {
     "data": {
      "text/plain": [
       "case_received_date_month    135271\n",
       "dtype: int64"
      ]
     },
     "execution_count": 130,
     "metadata": {},
     "output_type": "execute_result"
    }
   ],
   "source": [
    "data.isnull().sum()[data.isnull().sum()!=0]"
   ]
  },
  {
   "cell_type": "code",
   "execution_count": null,
   "metadata": {},
   "outputs": [],
   "source": []
  },
  {
   "cell_type": "code",
   "execution_count": 131,
   "metadata": {},
   "outputs": [
    {
     "data": {
      "text/html": [
       "<div>\n",
       "<style scoped>\n",
       "    .dataframe tbody tr th:only-of-type {\n",
       "        vertical-align: middle;\n",
       "    }\n",
       "\n",
       "    .dataframe tbody tr th {\n",
       "        vertical-align: top;\n",
       "    }\n",
       "\n",
       "    .dataframe thead th {\n",
       "        text-align: right;\n",
       "    }\n",
       "</style>\n",
       "<table border=\"1\" class=\"dataframe\">\n",
       "  <thead>\n",
       "    <tr style=\"text-align: right;\">\n",
       "      <th></th>\n",
       "      <th>agent_state</th>\n",
       "      <th>application_type</th>\n",
       "      <th>case_status</th>\n",
       "      <th>class_of_admission</th>\n",
       "      <th>employer_num_employees</th>\n",
       "      <th>employer_yr_estab</th>\n",
       "      <th>employer_name</th>\n",
       "      <th>employer_state</th>\n",
       "      <th>foreign_worker_info_education</th>\n",
       "      <th>foreign_worker_info_major</th>\n",
       "      <th>job_experience</th>\n",
       "      <th>job_training</th>\n",
       "      <th>job_work_state</th>\n",
       "      <th>pv_unit_of_pay_9089</th>\n",
       "      <th>level</th>\n",
       "      <th>source_name</th>\n",
       "      <th>sector</th>\n",
       "      <th>case_received_date_month</th>\n",
       "      <th>decision_date_month</th>\n",
       "      <th>meansal</th>\n",
       "      <th>Enterprise_Size</th>\n",
       "      <th>continent</th>\n",
       "      <th>duration_year</th>\n",
       "    </tr>\n",
       "  </thead>\n",
       "  <tbody>\n",
       "    <tr>\n",
       "      <th>0</th>\n",
       "      <td>Other</td>\n",
       "      <td>PERM</td>\n",
       "      <td>Certified</td>\n",
       "      <td>J</td>\n",
       "      <td>-1.0</td>\n",
       "      <td>Unavailable</td>\n",
       "      <td>netsoft usa inc.</td>\n",
       "      <td>NY</td>\n",
       "      <td>unavailable</td>\n",
       "      <td>nan</td>\n",
       "      <td>unavailable</td>\n",
       "      <td>unavailable</td>\n",
       "      <td>Northeast</td>\n",
       "      <td>Year</td>\n",
       "      <td>Level II</td>\n",
       "      <td>OES</td>\n",
       "      <td>IT</td>\n",
       "      <td>NaN</td>\n",
       "      <td>2</td>\n",
       "      <td>75629.000</td>\n",
       "      <td>Unvailable</td>\n",
       "      <td>ASIA</td>\n",
       "      <td>5</td>\n",
       "    </tr>\n",
       "    <tr>\n",
       "      <th>1</th>\n",
       "      <td>Other</td>\n",
       "      <td>PERM</td>\n",
       "      <td>Denied</td>\n",
       "      <td>B</td>\n",
       "      <td>-1.0</td>\n",
       "      <td>Unavailable</td>\n",
       "      <td>pinnacle environemntal corp</td>\n",
       "      <td>NY</td>\n",
       "      <td>unavailable</td>\n",
       "      <td>nan</td>\n",
       "      <td>unavailable</td>\n",
       "      <td>unavailable</td>\n",
       "      <td>Northeast</td>\n",
       "      <td>Year</td>\n",
       "      <td>Level I</td>\n",
       "      <td>OES</td>\n",
       "      <td>Other Economic Sector</td>\n",
       "      <td>NaN</td>\n",
       "      <td>12</td>\n",
       "      <td>37024.000</td>\n",
       "      <td>Unvailable</td>\n",
       "      <td>EUROPE</td>\n",
       "      <td>4</td>\n",
       "    </tr>\n",
       "    <tr>\n",
       "      <th>2</th>\n",
       "      <td>Other</td>\n",
       "      <td>PERM</td>\n",
       "      <td>Certified</td>\n",
       "      <td>H-1B</td>\n",
       "      <td>-1.0</td>\n",
       "      <td>Unavailable</td>\n",
       "      <td>schnabel engineering, inc.</td>\n",
       "      <td>VA</td>\n",
       "      <td>unavailable</td>\n",
       "      <td>nan</td>\n",
       "      <td>unavailable</td>\n",
       "      <td>unavailable</td>\n",
       "      <td>South</td>\n",
       "      <td>Year</td>\n",
       "      <td>Level I</td>\n",
       "      <td>OES</td>\n",
       "      <td>Aerospace</td>\n",
       "      <td>NaN</td>\n",
       "      <td>12</td>\n",
       "      <td>47923.000</td>\n",
       "      <td>Unvailable</td>\n",
       "      <td>ASIA</td>\n",
       "      <td>4</td>\n",
       "    </tr>\n",
       "    <tr>\n",
       "      <th>3</th>\n",
       "      <td>Other</td>\n",
       "      <td>PERM</td>\n",
       "      <td>Certified</td>\n",
       "      <td>B</td>\n",
       "      <td>-1.0</td>\n",
       "      <td>Unavailable</td>\n",
       "      <td>ebenezer mission church</td>\n",
       "      <td>NY</td>\n",
       "      <td>unavailable</td>\n",
       "      <td>nan</td>\n",
       "      <td>unavailable</td>\n",
       "      <td>unavailable</td>\n",
       "      <td>Northeast</td>\n",
       "      <td>Year</td>\n",
       "      <td>Level II</td>\n",
       "      <td>OES</td>\n",
       "      <td>Other Economic Sector</td>\n",
       "      <td>NaN</td>\n",
       "      <td>12</td>\n",
       "      <td>10975.485</td>\n",
       "      <td>Unvailable</td>\n",
       "      <td>ASIA</td>\n",
       "      <td>4</td>\n",
       "    </tr>\n",
       "    <tr>\n",
       "      <th>4</th>\n",
       "      <td>Other</td>\n",
       "      <td>PERM</td>\n",
       "      <td>Certified</td>\n",
       "      <td>L</td>\n",
       "      <td>-1.0</td>\n",
       "      <td>Unavailable</td>\n",
       "      <td>albany international corp.</td>\n",
       "      <td>NY</td>\n",
       "      <td>unavailable</td>\n",
       "      <td>nan</td>\n",
       "      <td>unavailable</td>\n",
       "      <td>unavailable</td>\n",
       "      <td>Northeast</td>\n",
       "      <td>Year</td>\n",
       "      <td>Level IV</td>\n",
       "      <td>OES</td>\n",
       "      <td>Advanced Mfg</td>\n",
       "      <td>NaN</td>\n",
       "      <td>1</td>\n",
       "      <td>97445.000</td>\n",
       "      <td>Unvailable</td>\n",
       "      <td>North America</td>\n",
       "      <td>5</td>\n",
       "    </tr>\n",
       "  </tbody>\n",
       "</table>\n",
       "</div>"
      ],
      "text/plain": [
       "  agent_state application_type case_status class_of_admission  \\\n",
       "0       Other             PERM   Certified                  J   \n",
       "1       Other             PERM      Denied                  B   \n",
       "2       Other             PERM   Certified               H-1B   \n",
       "3       Other             PERM   Certified                  B   \n",
       "4       Other             PERM   Certified                  L   \n",
       "\n",
       "   employer_num_employees employer_yr_estab                employer_name  \\\n",
       "0                    -1.0       Unavailable             netsoft usa inc.   \n",
       "1                    -1.0       Unavailable  pinnacle environemntal corp   \n",
       "2                    -1.0       Unavailable   schnabel engineering, inc.   \n",
       "3                    -1.0       Unavailable      ebenezer mission church   \n",
       "4                    -1.0       Unavailable   albany international corp.   \n",
       "\n",
       "  employer_state foreign_worker_info_education foreign_worker_info_major  \\\n",
       "0             NY                   unavailable                       nan   \n",
       "1             NY                   unavailable                       nan   \n",
       "2             VA                   unavailable                       nan   \n",
       "3             NY                   unavailable                       nan   \n",
       "4             NY                   unavailable                       nan   \n",
       "\n",
       "  job_experience job_training job_work_state pv_unit_of_pay_9089     level  \\\n",
       "0    unavailable  unavailable      Northeast                Year  Level II   \n",
       "1    unavailable  unavailable      Northeast                Year   Level I   \n",
       "2    unavailable  unavailable          South                Year   Level I   \n",
       "3    unavailable  unavailable      Northeast                Year  Level II   \n",
       "4    unavailable  unavailable      Northeast                Year  Level IV   \n",
       "\n",
       "  source_name                 sector  case_received_date_month  \\\n",
       "0         OES                     IT                       NaN   \n",
       "1         OES  Other Economic Sector                       NaN   \n",
       "2         OES              Aerospace                       NaN   \n",
       "3         OES  Other Economic Sector                       NaN   \n",
       "4         OES           Advanced Mfg                       NaN   \n",
       "\n",
       "   decision_date_month    meansal Enterprise_Size      continent  \\\n",
       "0                    2  75629.000      Unvailable           ASIA   \n",
       "1                   12  37024.000      Unvailable         EUROPE   \n",
       "2                   12  47923.000      Unvailable           ASIA   \n",
       "3                   12  10975.485      Unvailable           ASIA   \n",
       "4                    1  97445.000      Unvailable  North America   \n",
       "\n",
       "   duration_year  \n",
       "0              5  \n",
       "1              4  \n",
       "2              4  \n",
       "3              4  \n",
       "4              5  "
      ]
     },
     "execution_count": 131,
     "metadata": {},
     "output_type": "execute_result"
    }
   ],
   "source": [
    "data.head()"
   ]
  },
  {
   "cell_type": "code",
   "execution_count": 132,
   "metadata": {},
   "outputs": [
    {
     "data": {
      "text/plain": [
       "(365627, 23)"
      ]
     },
     "execution_count": 132,
     "metadata": {},
     "output_type": "execute_result"
    }
   ],
   "source": [
    "data.shape"
   ]
  },
  {
   "cell_type": "code",
   "execution_count": 133,
   "metadata": {},
   "outputs": [
    {
     "data": {
      "text/plain": [
       "Index(['agent_state', 'application_type', 'case_status', 'class_of_admission',\n",
       "       'employer_num_employees', 'employer_yr_estab', 'employer_name',\n",
       "       'employer_state', 'foreign_worker_info_education',\n",
       "       'foreign_worker_info_major', 'job_experience', 'job_training',\n",
       "       'job_work_state', 'pv_unit_of_pay_9089', 'level', 'source_name',\n",
       "       'sector', 'case_received_date_month', 'decision_date_month', 'meansal',\n",
       "       'Enterprise_Size', 'continent', 'duration_year'],\n",
       "      dtype='object')"
      ]
     },
     "execution_count": 133,
     "metadata": {},
     "output_type": "execute_result"
    }
   ],
   "source": [
    "data.columns"
   ]
  },
  {
   "cell_type": "code",
   "execution_count": 134,
   "metadata": {},
   "outputs": [
    {
     "data": {
      "text/plain": [
       "agent_state                           0\n",
       "application_type                      0\n",
       "case_status                           0\n",
       "class_of_admission                    0\n",
       "employer_num_employees                0\n",
       "employer_yr_estab                     0\n",
       "employer_name                         0\n",
       "employer_state                        0\n",
       "foreign_worker_info_education         0\n",
       "foreign_worker_info_major             0\n",
       "job_experience                        0\n",
       "job_training                          0\n",
       "job_work_state                        0\n",
       "pv_unit_of_pay_9089                   0\n",
       "level                                 0\n",
       "source_name                           0\n",
       "sector                                0\n",
       "case_received_date_month         135271\n",
       "decision_date_month                   0\n",
       "meansal                               0\n",
       "Enterprise_Size                       0\n",
       "continent                             0\n",
       "duration_year                         0\n",
       "dtype: int64"
      ]
     },
     "execution_count": 134,
     "metadata": {},
     "output_type": "execute_result"
    }
   ],
   "source": [
    "data.isnull().sum()"
   ]
  },
  {
   "cell_type": "code",
   "execution_count": 135,
   "metadata": {},
   "outputs": [],
   "source": [
    "data.drop(['case_received_date_month','decision_date_month'],axis=1,inplace=True)"
   ]
  },
  {
   "cell_type": "code",
   "execution_count": 136,
   "metadata": {},
   "outputs": [],
   "source": [
    "#sns.pairplot(data,hue='case_status')"
   ]
  },
  {
   "cell_type": "code",
   "execution_count": null,
   "metadata": {},
   "outputs": [],
   "source": []
  },
  {
   "cell_type": "markdown",
   "metadata": {},
   "source": [
    "## Statistic"
   ]
  },
  {
   "cell_type": "code",
   "execution_count": 137,
   "metadata": {},
   "outputs": [],
   "source": [
    "### statistical significant with Target Variable."
   ]
  },
  {
   "cell_type": "markdown",
   "metadata": {},
   "source": [
    "## numerical columns:- meansal & Case status\n",
    "from scipy.stats import shapiro\n",
    "import scipy.stats as st\n",
    "\n",
    "print('ttestvale',st.ttest_ind(data.meansal,data.case_status))\n",
    "\n",
    "print('shapiro value of meansal=',shapiro(data.meansal),'kurtosis=',data.meansal.kurt(),'skew=',data.meansal.skew())\n",
    "sns.distplot(meansal)\n",
    "plt.show()"
   ]
  },
  {
   "cell_type": "code",
   "execution_count": null,
   "metadata": {},
   "outputs": [],
   "source": []
  },
  {
   "cell_type": "markdown",
   "metadata": {},
   "source": [
    "print('ttestvale',st.ttest_ind(data.decision_date_year,data.case_status))\n",
    "print('shapiro value of decision_date_year=',shapiro(data.decision_date_year),'kurtosis=',data.decision_date_year.kurt(),'skew=',data.decision_date_year.skew())\n",
    "sns.distplot(decision_date_year)\n",
    "plt.show()"
   ]
  },
  {
   "cell_type": "code",
   "execution_count": null,
   "metadata": {},
   "outputs": [],
   "source": []
  },
  {
   "cell_type": "markdown",
   "metadata": {},
   "source": [
    "print('ttestvale',st.ttest_ind(data.case_received_date_year,data.case_status))\n",
    "\n",
    "print('shapiro value of case_received_date_year=',shapiro(data.case_received_date_year),'kurtosis=',data.case_received_date_year.kurt(),'skew=',data.case_received_date_year.skew())\n",
    "sns.distplot(case_received_date_year)\n",
    "plt.show()"
   ]
  },
  {
   "cell_type": "code",
   "execution_count": 138,
   "metadata": {},
   "outputs": [
    {
     "data": {
      "text/plain": [
       "Index(['agent_state', 'application_type', 'case_status', 'class_of_admission',\n",
       "       'employer_num_employees', 'employer_yr_estab', 'employer_name',\n",
       "       'employer_state', 'foreign_worker_info_education',\n",
       "       'foreign_worker_info_major', 'job_experience', 'job_training',\n",
       "       'job_work_state', 'pv_unit_of_pay_9089', 'level', 'source_name',\n",
       "       'sector', 'meansal', 'Enterprise_Size', 'continent', 'duration_year'],\n",
       "      dtype='object')"
      ]
     },
     "execution_count": 138,
     "metadata": {},
     "output_type": "execute_result"
    }
   ],
   "source": [
    "data.columns\n"
   ]
  },
  {
   "cell_type": "code",
   "execution_count": 139,
   "metadata": {},
   "outputs": [
    {
     "data": {
      "text/plain": [
       "(365627, 21)"
      ]
     },
     "execution_count": 139,
     "metadata": {},
     "output_type": "execute_result"
    }
   ],
   "source": [
    "data.shape"
   ]
  },
  {
   "cell_type": "code",
   "execution_count": 140,
   "metadata": {},
   "outputs": [],
   "source": [
    "data.drop('pv_unit_of_pay_9089',axis=1,inplace=True)"
   ]
  },
  {
   "cell_type": "code",
   "execution_count": 141,
   "metadata": {},
   "outputs": [
    {
     "data": {
      "text/plain": [
       "(365627, 20)"
      ]
     },
     "execution_count": 141,
     "metadata": {},
     "output_type": "execute_result"
    }
   ],
   "source": [
    "data.shape"
   ]
  },
  {
   "cell_type": "code",
   "execution_count": 142,
   "metadata": {},
   "outputs": [
    {
     "data": {
      "text/html": [
       "<div>\n",
       "<style scoped>\n",
       "    .dataframe tbody tr th:only-of-type {\n",
       "        vertical-align: middle;\n",
       "    }\n",
       "\n",
       "    .dataframe tbody tr th {\n",
       "        vertical-align: top;\n",
       "    }\n",
       "\n",
       "    .dataframe thead th {\n",
       "        text-align: right;\n",
       "    }\n",
       "</style>\n",
       "<table border=\"1\" class=\"dataframe\">\n",
       "  <thead>\n",
       "    <tr style=\"text-align: right;\">\n",
       "      <th></th>\n",
       "      <th>agent_state</th>\n",
       "      <th>application_type</th>\n",
       "      <th>case_status</th>\n",
       "      <th>class_of_admission</th>\n",
       "      <th>employer_num_employees</th>\n",
       "      <th>employer_yr_estab</th>\n",
       "      <th>employer_name</th>\n",
       "      <th>employer_state</th>\n",
       "      <th>foreign_worker_info_education</th>\n",
       "      <th>foreign_worker_info_major</th>\n",
       "      <th>job_experience</th>\n",
       "      <th>job_training</th>\n",
       "      <th>job_work_state</th>\n",
       "      <th>level</th>\n",
       "      <th>source_name</th>\n",
       "      <th>sector</th>\n",
       "      <th>meansal</th>\n",
       "      <th>Enterprise_Size</th>\n",
       "      <th>continent</th>\n",
       "      <th>duration_year</th>\n",
       "    </tr>\n",
       "  </thead>\n",
       "  <tbody>\n",
       "    <tr>\n",
       "      <th>0</th>\n",
       "      <td>Other</td>\n",
       "      <td>PERM</td>\n",
       "      <td>Certified</td>\n",
       "      <td>J</td>\n",
       "      <td>-1.0</td>\n",
       "      <td>Unavailable</td>\n",
       "      <td>netsoft usa inc.</td>\n",
       "      <td>NY</td>\n",
       "      <td>unavailable</td>\n",
       "      <td>nan</td>\n",
       "      <td>unavailable</td>\n",
       "      <td>unavailable</td>\n",
       "      <td>Northeast</td>\n",
       "      <td>Level II</td>\n",
       "      <td>OES</td>\n",
       "      <td>IT</td>\n",
       "      <td>75629.000</td>\n",
       "      <td>Unvailable</td>\n",
       "      <td>ASIA</td>\n",
       "      <td>5</td>\n",
       "    </tr>\n",
       "    <tr>\n",
       "      <th>1</th>\n",
       "      <td>Other</td>\n",
       "      <td>PERM</td>\n",
       "      <td>Denied</td>\n",
       "      <td>B</td>\n",
       "      <td>-1.0</td>\n",
       "      <td>Unavailable</td>\n",
       "      <td>pinnacle environemntal corp</td>\n",
       "      <td>NY</td>\n",
       "      <td>unavailable</td>\n",
       "      <td>nan</td>\n",
       "      <td>unavailable</td>\n",
       "      <td>unavailable</td>\n",
       "      <td>Northeast</td>\n",
       "      <td>Level I</td>\n",
       "      <td>OES</td>\n",
       "      <td>Other Economic Sector</td>\n",
       "      <td>37024.000</td>\n",
       "      <td>Unvailable</td>\n",
       "      <td>EUROPE</td>\n",
       "      <td>4</td>\n",
       "    </tr>\n",
       "    <tr>\n",
       "      <th>2</th>\n",
       "      <td>Other</td>\n",
       "      <td>PERM</td>\n",
       "      <td>Certified</td>\n",
       "      <td>H-1B</td>\n",
       "      <td>-1.0</td>\n",
       "      <td>Unavailable</td>\n",
       "      <td>schnabel engineering, inc.</td>\n",
       "      <td>VA</td>\n",
       "      <td>unavailable</td>\n",
       "      <td>nan</td>\n",
       "      <td>unavailable</td>\n",
       "      <td>unavailable</td>\n",
       "      <td>South</td>\n",
       "      <td>Level I</td>\n",
       "      <td>OES</td>\n",
       "      <td>Aerospace</td>\n",
       "      <td>47923.000</td>\n",
       "      <td>Unvailable</td>\n",
       "      <td>ASIA</td>\n",
       "      <td>4</td>\n",
       "    </tr>\n",
       "    <tr>\n",
       "      <th>3</th>\n",
       "      <td>Other</td>\n",
       "      <td>PERM</td>\n",
       "      <td>Certified</td>\n",
       "      <td>B</td>\n",
       "      <td>-1.0</td>\n",
       "      <td>Unavailable</td>\n",
       "      <td>ebenezer mission church</td>\n",
       "      <td>NY</td>\n",
       "      <td>unavailable</td>\n",
       "      <td>nan</td>\n",
       "      <td>unavailable</td>\n",
       "      <td>unavailable</td>\n",
       "      <td>Northeast</td>\n",
       "      <td>Level II</td>\n",
       "      <td>OES</td>\n",
       "      <td>Other Economic Sector</td>\n",
       "      <td>10975.485</td>\n",
       "      <td>Unvailable</td>\n",
       "      <td>ASIA</td>\n",
       "      <td>4</td>\n",
       "    </tr>\n",
       "    <tr>\n",
       "      <th>4</th>\n",
       "      <td>Other</td>\n",
       "      <td>PERM</td>\n",
       "      <td>Certified</td>\n",
       "      <td>L</td>\n",
       "      <td>-1.0</td>\n",
       "      <td>Unavailable</td>\n",
       "      <td>albany international corp.</td>\n",
       "      <td>NY</td>\n",
       "      <td>unavailable</td>\n",
       "      <td>nan</td>\n",
       "      <td>unavailable</td>\n",
       "      <td>unavailable</td>\n",
       "      <td>Northeast</td>\n",
       "      <td>Level IV</td>\n",
       "      <td>OES</td>\n",
       "      <td>Advanced Mfg</td>\n",
       "      <td>97445.000</td>\n",
       "      <td>Unvailable</td>\n",
       "      <td>North America</td>\n",
       "      <td>5</td>\n",
       "    </tr>\n",
       "  </tbody>\n",
       "</table>\n",
       "</div>"
      ],
      "text/plain": [
       "  agent_state application_type case_status class_of_admission  \\\n",
       "0       Other             PERM   Certified                  J   \n",
       "1       Other             PERM      Denied                  B   \n",
       "2       Other             PERM   Certified               H-1B   \n",
       "3       Other             PERM   Certified                  B   \n",
       "4       Other             PERM   Certified                  L   \n",
       "\n",
       "   employer_num_employees employer_yr_estab                employer_name  \\\n",
       "0                    -1.0       Unavailable             netsoft usa inc.   \n",
       "1                    -1.0       Unavailable  pinnacle environemntal corp   \n",
       "2                    -1.0       Unavailable   schnabel engineering, inc.   \n",
       "3                    -1.0       Unavailable      ebenezer mission church   \n",
       "4                    -1.0       Unavailable   albany international corp.   \n",
       "\n",
       "  employer_state foreign_worker_info_education foreign_worker_info_major  \\\n",
       "0             NY                   unavailable                       nan   \n",
       "1             NY                   unavailable                       nan   \n",
       "2             VA                   unavailable                       nan   \n",
       "3             NY                   unavailable                       nan   \n",
       "4             NY                   unavailable                       nan   \n",
       "\n",
       "  job_experience job_training job_work_state     level source_name  \\\n",
       "0    unavailable  unavailable      Northeast  Level II         OES   \n",
       "1    unavailable  unavailable      Northeast   Level I         OES   \n",
       "2    unavailable  unavailable          South   Level I         OES   \n",
       "3    unavailable  unavailable      Northeast  Level II         OES   \n",
       "4    unavailable  unavailable      Northeast  Level IV         OES   \n",
       "\n",
       "                  sector    meansal Enterprise_Size      continent  \\\n",
       "0                     IT  75629.000      Unvailable           ASIA   \n",
       "1  Other Economic Sector  37024.000      Unvailable         EUROPE   \n",
       "2              Aerospace  47923.000      Unvailable           ASIA   \n",
       "3  Other Economic Sector  10975.485      Unvailable           ASIA   \n",
       "4           Advanced Mfg  97445.000      Unvailable  North America   \n",
       "\n",
       "   duration_year  \n",
       "0              5  \n",
       "1              4  \n",
       "2              4  \n",
       "3              4  \n",
       "4              5  "
      ]
     },
     "execution_count": 142,
     "metadata": {},
     "output_type": "execute_result"
    }
   ],
   "source": [
    "data.head()"
   ]
  },
  {
   "cell_type": "code",
   "execution_count": 143,
   "metadata": {},
   "outputs": [],
   "source": [
    "data.drop('employer_name',axis=1,inplace=True)"
   ]
  },
  {
   "cell_type": "code",
   "execution_count": 144,
   "metadata": {},
   "outputs": [],
   "source": [
    "data.drop('foreign_worker_info_major',axis=1,inplace=True)"
   ]
  },
  {
   "cell_type": "code",
   "execution_count": 145,
   "metadata": {},
   "outputs": [
    {
     "data": {
      "text/plain": [
       "30"
      ]
     },
     "execution_count": 145,
     "metadata": {},
     "output_type": "execute_result"
    }
   ],
   "source": [
    "data.class_of_admission.nunique()"
   ]
  },
  {
   "cell_type": "code",
   "execution_count": 146,
   "metadata": {},
   "outputs": [],
   "source": [
    "### exporting cleaan data\n",
    "\n",
    "#data.to_csv(r'C:\\Users\\hp\\Desktop\\Capstone Project\\visa process\\UsVisaDATASET.csv')"
   ]
  },
  {
   "cell_type": "markdown",
   "metadata": {},
   "source": [
    "### Base Model"
   ]
  },
  {
   "cell_type": "code",
   "execution_count": 147,
   "metadata": {},
   "outputs": [],
   "source": [
    "from sklearn.preprocessing import StandardScaler\n",
    "from sklearn.model_selection import train_test_split\n",
    "sc=StandardScaler()"
   ]
  },
  {
   "cell_type": "code",
   "execution_count": 148,
   "metadata": {},
   "outputs": [],
   "source": [
    "def target(x):\n",
    "    if x==\"Certified\":\n",
    "        return 0\n",
    "    \n",
    "    elif x==\"Certified-Expired\":\n",
    "        return 1\n",
    "    elif x=='Denied':\n",
    "        return 2\n",
    "    else:\n",
    "        return 3\n",
    "data.case_status=data.case_status.apply(target)"
   ]
  },
  {
   "cell_type": "code",
   "execution_count": 165,
   "metadata": {},
   "outputs": [
    {
     "data": {
      "text/html": [
       "<div>\n",
       "<style scoped>\n",
       "    .dataframe tbody tr th:only-of-type {\n",
       "        vertical-align: middle;\n",
       "    }\n",
       "\n",
       "    .dataframe tbody tr th {\n",
       "        vertical-align: top;\n",
       "    }\n",
       "\n",
       "    .dataframe thead th {\n",
       "        text-align: right;\n",
       "    }\n",
       "</style>\n",
       "<table border=\"1\" class=\"dataframe\">\n",
       "  <thead>\n",
       "    <tr style=\"text-align: right;\">\n",
       "      <th></th>\n",
       "      <th>agent_state</th>\n",
       "      <th>application_type</th>\n",
       "      <th>case_status</th>\n",
       "      <th>class_of_admission</th>\n",
       "      <th>employer_num_employees</th>\n",
       "      <th>employer_yr_estab</th>\n",
       "      <th>employer_state</th>\n",
       "      <th>foreign_worker_info_education</th>\n",
       "      <th>job_experience</th>\n",
       "      <th>job_training</th>\n",
       "      <th>job_work_state</th>\n",
       "      <th>level</th>\n",
       "      <th>source_name</th>\n",
       "      <th>sector</th>\n",
       "      <th>meansal</th>\n",
       "      <th>Enterprise_Size</th>\n",
       "      <th>continent</th>\n",
       "      <th>duration_year</th>\n",
       "    </tr>\n",
       "  </thead>\n",
       "  <tbody>\n",
       "    <tr>\n",
       "      <th>0</th>\n",
       "      <td>Other</td>\n",
       "      <td>PERM</td>\n",
       "      <td>0</td>\n",
       "      <td>J</td>\n",
       "      <td>-1.0</td>\n",
       "      <td>Unavailable</td>\n",
       "      <td>NY</td>\n",
       "      <td>unavailable</td>\n",
       "      <td>unavailable</td>\n",
       "      <td>unavailable</td>\n",
       "      <td>Northeast</td>\n",
       "      <td>Level II</td>\n",
       "      <td>OES</td>\n",
       "      <td>IT</td>\n",
       "      <td>75629.000</td>\n",
       "      <td>Unvailable</td>\n",
       "      <td>ASIA</td>\n",
       "      <td>5</td>\n",
       "    </tr>\n",
       "    <tr>\n",
       "      <th>1</th>\n",
       "      <td>Other</td>\n",
       "      <td>PERM</td>\n",
       "      <td>2</td>\n",
       "      <td>B</td>\n",
       "      <td>-1.0</td>\n",
       "      <td>Unavailable</td>\n",
       "      <td>NY</td>\n",
       "      <td>unavailable</td>\n",
       "      <td>unavailable</td>\n",
       "      <td>unavailable</td>\n",
       "      <td>Northeast</td>\n",
       "      <td>Level I</td>\n",
       "      <td>OES</td>\n",
       "      <td>Other Economic Sector</td>\n",
       "      <td>37024.000</td>\n",
       "      <td>Unvailable</td>\n",
       "      <td>EUROPE</td>\n",
       "      <td>4</td>\n",
       "    </tr>\n",
       "    <tr>\n",
       "      <th>2</th>\n",
       "      <td>Other</td>\n",
       "      <td>PERM</td>\n",
       "      <td>0</td>\n",
       "      <td>H-1B</td>\n",
       "      <td>-1.0</td>\n",
       "      <td>Unavailable</td>\n",
       "      <td>VA</td>\n",
       "      <td>unavailable</td>\n",
       "      <td>unavailable</td>\n",
       "      <td>unavailable</td>\n",
       "      <td>South</td>\n",
       "      <td>Level I</td>\n",
       "      <td>OES</td>\n",
       "      <td>Aerospace</td>\n",
       "      <td>47923.000</td>\n",
       "      <td>Unvailable</td>\n",
       "      <td>ASIA</td>\n",
       "      <td>4</td>\n",
       "    </tr>\n",
       "    <tr>\n",
       "      <th>3</th>\n",
       "      <td>Other</td>\n",
       "      <td>PERM</td>\n",
       "      <td>0</td>\n",
       "      <td>B</td>\n",
       "      <td>-1.0</td>\n",
       "      <td>Unavailable</td>\n",
       "      <td>NY</td>\n",
       "      <td>unavailable</td>\n",
       "      <td>unavailable</td>\n",
       "      <td>unavailable</td>\n",
       "      <td>Northeast</td>\n",
       "      <td>Level II</td>\n",
       "      <td>OES</td>\n",
       "      <td>Other Economic Sector</td>\n",
       "      <td>10975.485</td>\n",
       "      <td>Unvailable</td>\n",
       "      <td>ASIA</td>\n",
       "      <td>4</td>\n",
       "    </tr>\n",
       "    <tr>\n",
       "      <th>4</th>\n",
       "      <td>Other</td>\n",
       "      <td>PERM</td>\n",
       "      <td>0</td>\n",
       "      <td>L</td>\n",
       "      <td>-1.0</td>\n",
       "      <td>Unavailable</td>\n",
       "      <td>NY</td>\n",
       "      <td>unavailable</td>\n",
       "      <td>unavailable</td>\n",
       "      <td>unavailable</td>\n",
       "      <td>Northeast</td>\n",
       "      <td>Level IV</td>\n",
       "      <td>OES</td>\n",
       "      <td>Advanced Mfg</td>\n",
       "      <td>97445.000</td>\n",
       "      <td>Unvailable</td>\n",
       "      <td>North America</td>\n",
       "      <td>5</td>\n",
       "    </tr>\n",
       "  </tbody>\n",
       "</table>\n",
       "</div>"
      ],
      "text/plain": [
       "  agent_state application_type  case_status class_of_admission  \\\n",
       "0       Other             PERM            0                  J   \n",
       "1       Other             PERM            2                  B   \n",
       "2       Other             PERM            0               H-1B   \n",
       "3       Other             PERM            0                  B   \n",
       "4       Other             PERM            0                  L   \n",
       "\n",
       "   employer_num_employees employer_yr_estab employer_state  \\\n",
       "0                    -1.0       Unavailable             NY   \n",
       "1                    -1.0       Unavailable             NY   \n",
       "2                    -1.0       Unavailable             VA   \n",
       "3                    -1.0       Unavailable             NY   \n",
       "4                    -1.0       Unavailable             NY   \n",
       "\n",
       "  foreign_worker_info_education job_experience job_training job_work_state  \\\n",
       "0                   unavailable    unavailable  unavailable      Northeast   \n",
       "1                   unavailable    unavailable  unavailable      Northeast   \n",
       "2                   unavailable    unavailable  unavailable          South   \n",
       "3                   unavailable    unavailable  unavailable      Northeast   \n",
       "4                   unavailable    unavailable  unavailable      Northeast   \n",
       "\n",
       "      level source_name                 sector    meansal Enterprise_Size  \\\n",
       "0  Level II         OES                     IT  75629.000      Unvailable   \n",
       "1   Level I         OES  Other Economic Sector  37024.000      Unvailable   \n",
       "2   Level I         OES              Aerospace  47923.000      Unvailable   \n",
       "3  Level II         OES  Other Economic Sector  10975.485      Unvailable   \n",
       "4  Level IV         OES           Advanced Mfg  97445.000      Unvailable   \n",
       "\n",
       "       continent  duration_year  \n",
       "0           ASIA              5  \n",
       "1         EUROPE              4  \n",
       "2           ASIA              4  \n",
       "3           ASIA              4  \n",
       "4  North America              5  "
      ]
     },
     "execution_count": 165,
     "metadata": {},
     "output_type": "execute_result"
    }
   ],
   "source": [
    "data.head()"
   ]
  },
  {
   "cell_type": "code",
   "execution_count": 149,
   "metadata": {},
   "outputs": [],
   "source": [
    "dummy=pd.get_dummies(data,drop_first=True)"
   ]
  },
  {
   "cell_type": "code",
   "execution_count": 150,
   "metadata": {},
   "outputs": [
    {
     "data": {
      "text/html": [
       "<div>\n",
       "<style scoped>\n",
       "    .dataframe tbody tr th:only-of-type {\n",
       "        vertical-align: middle;\n",
       "    }\n",
       "\n",
       "    .dataframe tbody tr th {\n",
       "        vertical-align: top;\n",
       "    }\n",
       "\n",
       "    .dataframe thead th {\n",
       "        text-align: right;\n",
       "    }\n",
       "</style>\n",
       "<table border=\"1\" class=\"dataframe\">\n",
       "  <thead>\n",
       "    <tr style=\"text-align: right;\">\n",
       "      <th></th>\n",
       "      <th>case_status</th>\n",
       "      <th>employer_num_employees</th>\n",
       "      <th>meansal</th>\n",
       "      <th>duration_year</th>\n",
       "      <th>agent_state_Midwest</th>\n",
       "      <th>agent_state_Northeast</th>\n",
       "      <th>agent_state_Other</th>\n",
       "      <th>agent_state_South</th>\n",
       "      <th>agent_state_West</th>\n",
       "      <th>application_type_ONLINE</th>\n",
       "      <th>application_type_PERM</th>\n",
       "      <th>application_type_unavailable</th>\n",
       "      <th>class_of_admission_AOS</th>\n",
       "      <th>class_of_admission_B</th>\n",
       "      <th>class_of_admission_C</th>\n",
       "      <th>class_of_admission_D-1</th>\n",
       "      <th>class_of_admission_E</th>\n",
       "      <th>class_of_admission_EWI</th>\n",
       "      <th>class_of_admission_F</th>\n",
       "      <th>class_of_admission_G</th>\n",
       "      <th>class_of_admission_H-1B</th>\n",
       "      <th>class_of_admission_I</th>\n",
       "      <th>class_of_admission_J</th>\n",
       "      <th>class_of_admission_K-1</th>\n",
       "      <th>class_of_admission_L</th>\n",
       "      <th>...</th>\n",
       "      <th>sector_Aerospace</th>\n",
       "      <th>sector_Agribusiness</th>\n",
       "      <th>sector_Automotive</th>\n",
       "      <th>sector_Biotechnology</th>\n",
       "      <th>sector_Construction</th>\n",
       "      <th>sector_Educational Services</th>\n",
       "      <th>sector_Energy</th>\n",
       "      <th>sector_Finance</th>\n",
       "      <th>sector_Geospatial</th>\n",
       "      <th>sector_Health Care</th>\n",
       "      <th>sector_Homeland Security</th>\n",
       "      <th>sector_Hospitality</th>\n",
       "      <th>sector_IT</th>\n",
       "      <th>sector_Other Economic Sector</th>\n",
       "      <th>sector_Retail</th>\n",
       "      <th>sector_Transportation</th>\n",
       "      <th>sector_unavailable</th>\n",
       "      <th>Enterprise_Size_Medium</th>\n",
       "      <th>Enterprise_Size_Small</th>\n",
       "      <th>Enterprise_Size_Unvailable</th>\n",
       "      <th>continent_ASIA</th>\n",
       "      <th>continent_EUROPE</th>\n",
       "      <th>continent_North America</th>\n",
       "      <th>continent_Oceania</th>\n",
       "      <th>continent_South America</th>\n",
       "    </tr>\n",
       "  </thead>\n",
       "  <tbody>\n",
       "    <tr>\n",
       "      <th>0</th>\n",
       "      <td>0</td>\n",
       "      <td>-1.0</td>\n",
       "      <td>75629.000</td>\n",
       "      <td>5</td>\n",
       "      <td>0</td>\n",
       "      <td>0</td>\n",
       "      <td>1</td>\n",
       "      <td>0</td>\n",
       "      <td>0</td>\n",
       "      <td>0</td>\n",
       "      <td>1</td>\n",
       "      <td>0</td>\n",
       "      <td>0</td>\n",
       "      <td>0</td>\n",
       "      <td>0</td>\n",
       "      <td>0</td>\n",
       "      <td>0</td>\n",
       "      <td>0</td>\n",
       "      <td>0</td>\n",
       "      <td>0</td>\n",
       "      <td>0</td>\n",
       "      <td>0</td>\n",
       "      <td>1</td>\n",
       "      <td>0</td>\n",
       "      <td>0</td>\n",
       "      <td>...</td>\n",
       "      <td>0</td>\n",
       "      <td>0</td>\n",
       "      <td>0</td>\n",
       "      <td>0</td>\n",
       "      <td>0</td>\n",
       "      <td>0</td>\n",
       "      <td>0</td>\n",
       "      <td>0</td>\n",
       "      <td>0</td>\n",
       "      <td>0</td>\n",
       "      <td>0</td>\n",
       "      <td>0</td>\n",
       "      <td>1</td>\n",
       "      <td>0</td>\n",
       "      <td>0</td>\n",
       "      <td>0</td>\n",
       "      <td>0</td>\n",
       "      <td>0</td>\n",
       "      <td>0</td>\n",
       "      <td>1</td>\n",
       "      <td>1</td>\n",
       "      <td>0</td>\n",
       "      <td>0</td>\n",
       "      <td>0</td>\n",
       "      <td>0</td>\n",
       "    </tr>\n",
       "    <tr>\n",
       "      <th>1</th>\n",
       "      <td>2</td>\n",
       "      <td>-1.0</td>\n",
       "      <td>37024.000</td>\n",
       "      <td>4</td>\n",
       "      <td>0</td>\n",
       "      <td>0</td>\n",
       "      <td>1</td>\n",
       "      <td>0</td>\n",
       "      <td>0</td>\n",
       "      <td>0</td>\n",
       "      <td>1</td>\n",
       "      <td>0</td>\n",
       "      <td>0</td>\n",
       "      <td>1</td>\n",
       "      <td>0</td>\n",
       "      <td>0</td>\n",
       "      <td>0</td>\n",
       "      <td>0</td>\n",
       "      <td>0</td>\n",
       "      <td>0</td>\n",
       "      <td>0</td>\n",
       "      <td>0</td>\n",
       "      <td>0</td>\n",
       "      <td>0</td>\n",
       "      <td>0</td>\n",
       "      <td>...</td>\n",
       "      <td>0</td>\n",
       "      <td>0</td>\n",
       "      <td>0</td>\n",
       "      <td>0</td>\n",
       "      <td>0</td>\n",
       "      <td>0</td>\n",
       "      <td>0</td>\n",
       "      <td>0</td>\n",
       "      <td>0</td>\n",
       "      <td>0</td>\n",
       "      <td>0</td>\n",
       "      <td>0</td>\n",
       "      <td>0</td>\n",
       "      <td>1</td>\n",
       "      <td>0</td>\n",
       "      <td>0</td>\n",
       "      <td>0</td>\n",
       "      <td>0</td>\n",
       "      <td>0</td>\n",
       "      <td>1</td>\n",
       "      <td>0</td>\n",
       "      <td>1</td>\n",
       "      <td>0</td>\n",
       "      <td>0</td>\n",
       "      <td>0</td>\n",
       "    </tr>\n",
       "    <tr>\n",
       "      <th>2</th>\n",
       "      <td>0</td>\n",
       "      <td>-1.0</td>\n",
       "      <td>47923.000</td>\n",
       "      <td>4</td>\n",
       "      <td>0</td>\n",
       "      <td>0</td>\n",
       "      <td>1</td>\n",
       "      <td>0</td>\n",
       "      <td>0</td>\n",
       "      <td>0</td>\n",
       "      <td>1</td>\n",
       "      <td>0</td>\n",
       "      <td>0</td>\n",
       "      <td>0</td>\n",
       "      <td>0</td>\n",
       "      <td>0</td>\n",
       "      <td>0</td>\n",
       "      <td>0</td>\n",
       "      <td>0</td>\n",
       "      <td>0</td>\n",
       "      <td>1</td>\n",
       "      <td>0</td>\n",
       "      <td>0</td>\n",
       "      <td>0</td>\n",
       "      <td>0</td>\n",
       "      <td>...</td>\n",
       "      <td>1</td>\n",
       "      <td>0</td>\n",
       "      <td>0</td>\n",
       "      <td>0</td>\n",
       "      <td>0</td>\n",
       "      <td>0</td>\n",
       "      <td>0</td>\n",
       "      <td>0</td>\n",
       "      <td>0</td>\n",
       "      <td>0</td>\n",
       "      <td>0</td>\n",
       "      <td>0</td>\n",
       "      <td>0</td>\n",
       "      <td>0</td>\n",
       "      <td>0</td>\n",
       "      <td>0</td>\n",
       "      <td>0</td>\n",
       "      <td>0</td>\n",
       "      <td>0</td>\n",
       "      <td>1</td>\n",
       "      <td>1</td>\n",
       "      <td>0</td>\n",
       "      <td>0</td>\n",
       "      <td>0</td>\n",
       "      <td>0</td>\n",
       "    </tr>\n",
       "    <tr>\n",
       "      <th>3</th>\n",
       "      <td>0</td>\n",
       "      <td>-1.0</td>\n",
       "      <td>10975.485</td>\n",
       "      <td>4</td>\n",
       "      <td>0</td>\n",
       "      <td>0</td>\n",
       "      <td>1</td>\n",
       "      <td>0</td>\n",
       "      <td>0</td>\n",
       "      <td>0</td>\n",
       "      <td>1</td>\n",
       "      <td>0</td>\n",
       "      <td>0</td>\n",
       "      <td>1</td>\n",
       "      <td>0</td>\n",
       "      <td>0</td>\n",
       "      <td>0</td>\n",
       "      <td>0</td>\n",
       "      <td>0</td>\n",
       "      <td>0</td>\n",
       "      <td>0</td>\n",
       "      <td>0</td>\n",
       "      <td>0</td>\n",
       "      <td>0</td>\n",
       "      <td>0</td>\n",
       "      <td>...</td>\n",
       "      <td>0</td>\n",
       "      <td>0</td>\n",
       "      <td>0</td>\n",
       "      <td>0</td>\n",
       "      <td>0</td>\n",
       "      <td>0</td>\n",
       "      <td>0</td>\n",
       "      <td>0</td>\n",
       "      <td>0</td>\n",
       "      <td>0</td>\n",
       "      <td>0</td>\n",
       "      <td>0</td>\n",
       "      <td>0</td>\n",
       "      <td>1</td>\n",
       "      <td>0</td>\n",
       "      <td>0</td>\n",
       "      <td>0</td>\n",
       "      <td>0</td>\n",
       "      <td>0</td>\n",
       "      <td>1</td>\n",
       "      <td>1</td>\n",
       "      <td>0</td>\n",
       "      <td>0</td>\n",
       "      <td>0</td>\n",
       "      <td>0</td>\n",
       "    </tr>\n",
       "    <tr>\n",
       "      <th>4</th>\n",
       "      <td>0</td>\n",
       "      <td>-1.0</td>\n",
       "      <td>97445.000</td>\n",
       "      <td>5</td>\n",
       "      <td>0</td>\n",
       "      <td>0</td>\n",
       "      <td>1</td>\n",
       "      <td>0</td>\n",
       "      <td>0</td>\n",
       "      <td>0</td>\n",
       "      <td>1</td>\n",
       "      <td>0</td>\n",
       "      <td>0</td>\n",
       "      <td>0</td>\n",
       "      <td>0</td>\n",
       "      <td>0</td>\n",
       "      <td>0</td>\n",
       "      <td>0</td>\n",
       "      <td>0</td>\n",
       "      <td>0</td>\n",
       "      <td>0</td>\n",
       "      <td>0</td>\n",
       "      <td>0</td>\n",
       "      <td>0</td>\n",
       "      <td>1</td>\n",
       "      <td>...</td>\n",
       "      <td>0</td>\n",
       "      <td>0</td>\n",
       "      <td>0</td>\n",
       "      <td>0</td>\n",
       "      <td>0</td>\n",
       "      <td>0</td>\n",
       "      <td>0</td>\n",
       "      <td>0</td>\n",
       "      <td>0</td>\n",
       "      <td>0</td>\n",
       "      <td>0</td>\n",
       "      <td>0</td>\n",
       "      <td>0</td>\n",
       "      <td>0</td>\n",
       "      <td>0</td>\n",
       "      <td>0</td>\n",
       "      <td>0</td>\n",
       "      <td>0</td>\n",
       "      <td>0</td>\n",
       "      <td>1</td>\n",
       "      <td>0</td>\n",
       "      <td>0</td>\n",
       "      <td>1</td>\n",
       "      <td>0</td>\n",
       "      <td>0</td>\n",
       "    </tr>\n",
       "  </tbody>\n",
       "</table>\n",
       "<p>5 rows × 152 columns</p>\n",
       "</div>"
      ],
      "text/plain": [
       "   case_status  employer_num_employees    meansal  duration_year  \\\n",
       "0            0                    -1.0  75629.000              5   \n",
       "1            2                    -1.0  37024.000              4   \n",
       "2            0                    -1.0  47923.000              4   \n",
       "3            0                    -1.0  10975.485              4   \n",
       "4            0                    -1.0  97445.000              5   \n",
       "\n",
       "   agent_state_Midwest  agent_state_Northeast  agent_state_Other  \\\n",
       "0                    0                      0                  1   \n",
       "1                    0                      0                  1   \n",
       "2                    0                      0                  1   \n",
       "3                    0                      0                  1   \n",
       "4                    0                      0                  1   \n",
       "\n",
       "   agent_state_South  agent_state_West  application_type_ONLINE  \\\n",
       "0                  0                 0                        0   \n",
       "1                  0                 0                        0   \n",
       "2                  0                 0                        0   \n",
       "3                  0                 0                        0   \n",
       "4                  0                 0                        0   \n",
       "\n",
       "   application_type_PERM  application_type_unavailable  \\\n",
       "0                      1                             0   \n",
       "1                      1                             0   \n",
       "2                      1                             0   \n",
       "3                      1                             0   \n",
       "4                      1                             0   \n",
       "\n",
       "   class_of_admission_AOS  class_of_admission_B  class_of_admission_C  \\\n",
       "0                       0                     0                     0   \n",
       "1                       0                     1                     0   \n",
       "2                       0                     0                     0   \n",
       "3                       0                     1                     0   \n",
       "4                       0                     0                     0   \n",
       "\n",
       "   class_of_admission_D-1  class_of_admission_E  class_of_admission_EWI  \\\n",
       "0                       0                     0                       0   \n",
       "1                       0                     0                       0   \n",
       "2                       0                     0                       0   \n",
       "3                       0                     0                       0   \n",
       "4                       0                     0                       0   \n",
       "\n",
       "   class_of_admission_F  class_of_admission_G  class_of_admission_H-1B  \\\n",
       "0                     0                     0                        0   \n",
       "1                     0                     0                        0   \n",
       "2                     0                     0                        1   \n",
       "3                     0                     0                        0   \n",
       "4                     0                     0                        0   \n",
       "\n",
       "   class_of_admission_I  class_of_admission_J  class_of_admission_K-1  \\\n",
       "0                     0                     1                       0   \n",
       "1                     0                     0                       0   \n",
       "2                     0                     0                       0   \n",
       "3                     0                     0                       0   \n",
       "4                     0                     0                       0   \n",
       "\n",
       "   class_of_admission_L  ...  sector_Aerospace  sector_Agribusiness  \\\n",
       "0                     0  ...                 0                    0   \n",
       "1                     0  ...                 0                    0   \n",
       "2                     0  ...                 1                    0   \n",
       "3                     0  ...                 0                    0   \n",
       "4                     1  ...                 0                    0   \n",
       "\n",
       "   sector_Automotive  sector_Biotechnology  sector_Construction  \\\n",
       "0                  0                     0                    0   \n",
       "1                  0                     0                    0   \n",
       "2                  0                     0                    0   \n",
       "3                  0                     0                    0   \n",
       "4                  0                     0                    0   \n",
       "\n",
       "   sector_Educational Services  sector_Energy  sector_Finance  \\\n",
       "0                            0              0               0   \n",
       "1                            0              0               0   \n",
       "2                            0              0               0   \n",
       "3                            0              0               0   \n",
       "4                            0              0               0   \n",
       "\n",
       "   sector_Geospatial  sector_Health Care  sector_Homeland Security  \\\n",
       "0                  0                   0                         0   \n",
       "1                  0                   0                         0   \n",
       "2                  0                   0                         0   \n",
       "3                  0                   0                         0   \n",
       "4                  0                   0                         0   \n",
       "\n",
       "   sector_Hospitality  sector_IT  sector_Other Economic Sector  sector_Retail  \\\n",
       "0                   0          1                             0              0   \n",
       "1                   0          0                             1              0   \n",
       "2                   0          0                             0              0   \n",
       "3                   0          0                             1              0   \n",
       "4                   0          0                             0              0   \n",
       "\n",
       "   sector_Transportation  sector_unavailable  Enterprise_Size_Medium  \\\n",
       "0                      0                   0                       0   \n",
       "1                      0                   0                       0   \n",
       "2                      0                   0                       0   \n",
       "3                      0                   0                       0   \n",
       "4                      0                   0                       0   \n",
       "\n",
       "   Enterprise_Size_Small  Enterprise_Size_Unvailable  continent_ASIA  \\\n",
       "0                      0                           1               1   \n",
       "1                      0                           1               0   \n",
       "2                      0                           1               1   \n",
       "3                      0                           1               1   \n",
       "4                      0                           1               0   \n",
       "\n",
       "   continent_EUROPE  continent_North America  continent_Oceania  \\\n",
       "0                 0                        0                  0   \n",
       "1                 1                        0                  0   \n",
       "2                 0                        0                  0   \n",
       "3                 0                        0                  0   \n",
       "4                 0                        1                  0   \n",
       "\n",
       "   continent_South America  \n",
       "0                        0  \n",
       "1                        0  \n",
       "2                        0  \n",
       "3                        0  \n",
       "4                        0  \n",
       "\n",
       "[5 rows x 152 columns]"
      ]
     },
     "execution_count": 150,
     "metadata": {},
     "output_type": "execute_result"
    }
   ],
   "source": [
    "dummy.head()"
   ]
  },
  {
   "cell_type": "code",
   "execution_count": 151,
   "metadata": {},
   "outputs": [],
   "source": [
    "x=dummy.drop('case_status',axis=1)\n",
    "y=dummy['case_status']"
   ]
  },
  {
   "cell_type": "code",
   "execution_count": 152,
   "metadata": {},
   "outputs": [
    {
     "data": {
      "text/html": [
       "<div>\n",
       "<style scoped>\n",
       "    .dataframe tbody tr th:only-of-type {\n",
       "        vertical-align: middle;\n",
       "    }\n",
       "\n",
       "    .dataframe tbody tr th {\n",
       "        vertical-align: top;\n",
       "    }\n",
       "\n",
       "    .dataframe thead th {\n",
       "        text-align: right;\n",
       "    }\n",
       "</style>\n",
       "<table border=\"1\" class=\"dataframe\">\n",
       "  <thead>\n",
       "    <tr style=\"text-align: right;\">\n",
       "      <th></th>\n",
       "      <th>employer_num_employees</th>\n",
       "      <th>meansal</th>\n",
       "      <th>duration_year</th>\n",
       "      <th>agent_state_Midwest</th>\n",
       "      <th>agent_state_Northeast</th>\n",
       "      <th>agent_state_Other</th>\n",
       "      <th>agent_state_South</th>\n",
       "      <th>agent_state_West</th>\n",
       "      <th>application_type_ONLINE</th>\n",
       "      <th>application_type_PERM</th>\n",
       "      <th>application_type_unavailable</th>\n",
       "      <th>class_of_admission_AOS</th>\n",
       "      <th>class_of_admission_B</th>\n",
       "      <th>class_of_admission_C</th>\n",
       "      <th>class_of_admission_D-1</th>\n",
       "      <th>class_of_admission_E</th>\n",
       "      <th>class_of_admission_EWI</th>\n",
       "      <th>class_of_admission_F</th>\n",
       "      <th>class_of_admission_G</th>\n",
       "      <th>class_of_admission_H-1B</th>\n",
       "      <th>class_of_admission_I</th>\n",
       "      <th>class_of_admission_J</th>\n",
       "      <th>class_of_admission_K-1</th>\n",
       "      <th>class_of_admission_L</th>\n",
       "      <th>class_of_admission_M</th>\n",
       "      <th>...</th>\n",
       "      <th>sector_Aerospace</th>\n",
       "      <th>sector_Agribusiness</th>\n",
       "      <th>sector_Automotive</th>\n",
       "      <th>sector_Biotechnology</th>\n",
       "      <th>sector_Construction</th>\n",
       "      <th>sector_Educational Services</th>\n",
       "      <th>sector_Energy</th>\n",
       "      <th>sector_Finance</th>\n",
       "      <th>sector_Geospatial</th>\n",
       "      <th>sector_Health Care</th>\n",
       "      <th>sector_Homeland Security</th>\n",
       "      <th>sector_Hospitality</th>\n",
       "      <th>sector_IT</th>\n",
       "      <th>sector_Other Economic Sector</th>\n",
       "      <th>sector_Retail</th>\n",
       "      <th>sector_Transportation</th>\n",
       "      <th>sector_unavailable</th>\n",
       "      <th>Enterprise_Size_Medium</th>\n",
       "      <th>Enterprise_Size_Small</th>\n",
       "      <th>Enterprise_Size_Unvailable</th>\n",
       "      <th>continent_ASIA</th>\n",
       "      <th>continent_EUROPE</th>\n",
       "      <th>continent_North America</th>\n",
       "      <th>continent_Oceania</th>\n",
       "      <th>continent_South America</th>\n",
       "    </tr>\n",
       "  </thead>\n",
       "  <tbody>\n",
       "    <tr>\n",
       "      <th>0</th>\n",
       "      <td>-1.0</td>\n",
       "      <td>75629.000</td>\n",
       "      <td>5</td>\n",
       "      <td>0</td>\n",
       "      <td>0</td>\n",
       "      <td>1</td>\n",
       "      <td>0</td>\n",
       "      <td>0</td>\n",
       "      <td>0</td>\n",
       "      <td>1</td>\n",
       "      <td>0</td>\n",
       "      <td>0</td>\n",
       "      <td>0</td>\n",
       "      <td>0</td>\n",
       "      <td>0</td>\n",
       "      <td>0</td>\n",
       "      <td>0</td>\n",
       "      <td>0</td>\n",
       "      <td>0</td>\n",
       "      <td>0</td>\n",
       "      <td>0</td>\n",
       "      <td>1</td>\n",
       "      <td>0</td>\n",
       "      <td>0</td>\n",
       "      <td>0</td>\n",
       "      <td>...</td>\n",
       "      <td>0</td>\n",
       "      <td>0</td>\n",
       "      <td>0</td>\n",
       "      <td>0</td>\n",
       "      <td>0</td>\n",
       "      <td>0</td>\n",
       "      <td>0</td>\n",
       "      <td>0</td>\n",
       "      <td>0</td>\n",
       "      <td>0</td>\n",
       "      <td>0</td>\n",
       "      <td>0</td>\n",
       "      <td>1</td>\n",
       "      <td>0</td>\n",
       "      <td>0</td>\n",
       "      <td>0</td>\n",
       "      <td>0</td>\n",
       "      <td>0</td>\n",
       "      <td>0</td>\n",
       "      <td>1</td>\n",
       "      <td>1</td>\n",
       "      <td>0</td>\n",
       "      <td>0</td>\n",
       "      <td>0</td>\n",
       "      <td>0</td>\n",
       "    </tr>\n",
       "    <tr>\n",
       "      <th>1</th>\n",
       "      <td>-1.0</td>\n",
       "      <td>37024.000</td>\n",
       "      <td>4</td>\n",
       "      <td>0</td>\n",
       "      <td>0</td>\n",
       "      <td>1</td>\n",
       "      <td>0</td>\n",
       "      <td>0</td>\n",
       "      <td>0</td>\n",
       "      <td>1</td>\n",
       "      <td>0</td>\n",
       "      <td>0</td>\n",
       "      <td>1</td>\n",
       "      <td>0</td>\n",
       "      <td>0</td>\n",
       "      <td>0</td>\n",
       "      <td>0</td>\n",
       "      <td>0</td>\n",
       "      <td>0</td>\n",
       "      <td>0</td>\n",
       "      <td>0</td>\n",
       "      <td>0</td>\n",
       "      <td>0</td>\n",
       "      <td>0</td>\n",
       "      <td>0</td>\n",
       "      <td>...</td>\n",
       "      <td>0</td>\n",
       "      <td>0</td>\n",
       "      <td>0</td>\n",
       "      <td>0</td>\n",
       "      <td>0</td>\n",
       "      <td>0</td>\n",
       "      <td>0</td>\n",
       "      <td>0</td>\n",
       "      <td>0</td>\n",
       "      <td>0</td>\n",
       "      <td>0</td>\n",
       "      <td>0</td>\n",
       "      <td>0</td>\n",
       "      <td>1</td>\n",
       "      <td>0</td>\n",
       "      <td>0</td>\n",
       "      <td>0</td>\n",
       "      <td>0</td>\n",
       "      <td>0</td>\n",
       "      <td>1</td>\n",
       "      <td>0</td>\n",
       "      <td>1</td>\n",
       "      <td>0</td>\n",
       "      <td>0</td>\n",
       "      <td>0</td>\n",
       "    </tr>\n",
       "    <tr>\n",
       "      <th>2</th>\n",
       "      <td>-1.0</td>\n",
       "      <td>47923.000</td>\n",
       "      <td>4</td>\n",
       "      <td>0</td>\n",
       "      <td>0</td>\n",
       "      <td>1</td>\n",
       "      <td>0</td>\n",
       "      <td>0</td>\n",
       "      <td>0</td>\n",
       "      <td>1</td>\n",
       "      <td>0</td>\n",
       "      <td>0</td>\n",
       "      <td>0</td>\n",
       "      <td>0</td>\n",
       "      <td>0</td>\n",
       "      <td>0</td>\n",
       "      <td>0</td>\n",
       "      <td>0</td>\n",
       "      <td>0</td>\n",
       "      <td>1</td>\n",
       "      <td>0</td>\n",
       "      <td>0</td>\n",
       "      <td>0</td>\n",
       "      <td>0</td>\n",
       "      <td>0</td>\n",
       "      <td>...</td>\n",
       "      <td>1</td>\n",
       "      <td>0</td>\n",
       "      <td>0</td>\n",
       "      <td>0</td>\n",
       "      <td>0</td>\n",
       "      <td>0</td>\n",
       "      <td>0</td>\n",
       "      <td>0</td>\n",
       "      <td>0</td>\n",
       "      <td>0</td>\n",
       "      <td>0</td>\n",
       "      <td>0</td>\n",
       "      <td>0</td>\n",
       "      <td>0</td>\n",
       "      <td>0</td>\n",
       "      <td>0</td>\n",
       "      <td>0</td>\n",
       "      <td>0</td>\n",
       "      <td>0</td>\n",
       "      <td>1</td>\n",
       "      <td>1</td>\n",
       "      <td>0</td>\n",
       "      <td>0</td>\n",
       "      <td>0</td>\n",
       "      <td>0</td>\n",
       "    </tr>\n",
       "    <tr>\n",
       "      <th>3</th>\n",
       "      <td>-1.0</td>\n",
       "      <td>10975.485</td>\n",
       "      <td>4</td>\n",
       "      <td>0</td>\n",
       "      <td>0</td>\n",
       "      <td>1</td>\n",
       "      <td>0</td>\n",
       "      <td>0</td>\n",
       "      <td>0</td>\n",
       "      <td>1</td>\n",
       "      <td>0</td>\n",
       "      <td>0</td>\n",
       "      <td>1</td>\n",
       "      <td>0</td>\n",
       "      <td>0</td>\n",
       "      <td>0</td>\n",
       "      <td>0</td>\n",
       "      <td>0</td>\n",
       "      <td>0</td>\n",
       "      <td>0</td>\n",
       "      <td>0</td>\n",
       "      <td>0</td>\n",
       "      <td>0</td>\n",
       "      <td>0</td>\n",
       "      <td>0</td>\n",
       "      <td>...</td>\n",
       "      <td>0</td>\n",
       "      <td>0</td>\n",
       "      <td>0</td>\n",
       "      <td>0</td>\n",
       "      <td>0</td>\n",
       "      <td>0</td>\n",
       "      <td>0</td>\n",
       "      <td>0</td>\n",
       "      <td>0</td>\n",
       "      <td>0</td>\n",
       "      <td>0</td>\n",
       "      <td>0</td>\n",
       "      <td>0</td>\n",
       "      <td>1</td>\n",
       "      <td>0</td>\n",
       "      <td>0</td>\n",
       "      <td>0</td>\n",
       "      <td>0</td>\n",
       "      <td>0</td>\n",
       "      <td>1</td>\n",
       "      <td>1</td>\n",
       "      <td>0</td>\n",
       "      <td>0</td>\n",
       "      <td>0</td>\n",
       "      <td>0</td>\n",
       "    </tr>\n",
       "    <tr>\n",
       "      <th>4</th>\n",
       "      <td>-1.0</td>\n",
       "      <td>97445.000</td>\n",
       "      <td>5</td>\n",
       "      <td>0</td>\n",
       "      <td>0</td>\n",
       "      <td>1</td>\n",
       "      <td>0</td>\n",
       "      <td>0</td>\n",
       "      <td>0</td>\n",
       "      <td>1</td>\n",
       "      <td>0</td>\n",
       "      <td>0</td>\n",
       "      <td>0</td>\n",
       "      <td>0</td>\n",
       "      <td>0</td>\n",
       "      <td>0</td>\n",
       "      <td>0</td>\n",
       "      <td>0</td>\n",
       "      <td>0</td>\n",
       "      <td>0</td>\n",
       "      <td>0</td>\n",
       "      <td>0</td>\n",
       "      <td>0</td>\n",
       "      <td>1</td>\n",
       "      <td>0</td>\n",
       "      <td>...</td>\n",
       "      <td>0</td>\n",
       "      <td>0</td>\n",
       "      <td>0</td>\n",
       "      <td>0</td>\n",
       "      <td>0</td>\n",
       "      <td>0</td>\n",
       "      <td>0</td>\n",
       "      <td>0</td>\n",
       "      <td>0</td>\n",
       "      <td>0</td>\n",
       "      <td>0</td>\n",
       "      <td>0</td>\n",
       "      <td>0</td>\n",
       "      <td>0</td>\n",
       "      <td>0</td>\n",
       "      <td>0</td>\n",
       "      <td>0</td>\n",
       "      <td>0</td>\n",
       "      <td>0</td>\n",
       "      <td>1</td>\n",
       "      <td>0</td>\n",
       "      <td>0</td>\n",
       "      <td>1</td>\n",
       "      <td>0</td>\n",
       "      <td>0</td>\n",
       "    </tr>\n",
       "  </tbody>\n",
       "</table>\n",
       "<p>5 rows × 151 columns</p>\n",
       "</div>"
      ],
      "text/plain": [
       "   employer_num_employees    meansal  duration_year  agent_state_Midwest  \\\n",
       "0                    -1.0  75629.000              5                    0   \n",
       "1                    -1.0  37024.000              4                    0   \n",
       "2                    -1.0  47923.000              4                    0   \n",
       "3                    -1.0  10975.485              4                    0   \n",
       "4                    -1.0  97445.000              5                    0   \n",
       "\n",
       "   agent_state_Northeast  agent_state_Other  agent_state_South  \\\n",
       "0                      0                  1                  0   \n",
       "1                      0                  1                  0   \n",
       "2                      0                  1                  0   \n",
       "3                      0                  1                  0   \n",
       "4                      0                  1                  0   \n",
       "\n",
       "   agent_state_West  application_type_ONLINE  application_type_PERM  \\\n",
       "0                 0                        0                      1   \n",
       "1                 0                        0                      1   \n",
       "2                 0                        0                      1   \n",
       "3                 0                        0                      1   \n",
       "4                 0                        0                      1   \n",
       "\n",
       "   application_type_unavailable  class_of_admission_AOS  class_of_admission_B  \\\n",
       "0                             0                       0                     0   \n",
       "1                             0                       0                     1   \n",
       "2                             0                       0                     0   \n",
       "3                             0                       0                     1   \n",
       "4                             0                       0                     0   \n",
       "\n",
       "   class_of_admission_C  class_of_admission_D-1  class_of_admission_E  \\\n",
       "0                     0                       0                     0   \n",
       "1                     0                       0                     0   \n",
       "2                     0                       0                     0   \n",
       "3                     0                       0                     0   \n",
       "4                     0                       0                     0   \n",
       "\n",
       "   class_of_admission_EWI  class_of_admission_F  class_of_admission_G  \\\n",
       "0                       0                     0                     0   \n",
       "1                       0                     0                     0   \n",
       "2                       0                     0                     0   \n",
       "3                       0                     0                     0   \n",
       "4                       0                     0                     0   \n",
       "\n",
       "   class_of_admission_H-1B  class_of_admission_I  class_of_admission_J  \\\n",
       "0                        0                     0                     1   \n",
       "1                        0                     0                     0   \n",
       "2                        1                     0                     0   \n",
       "3                        0                     0                     0   \n",
       "4                        0                     0                     0   \n",
       "\n",
       "   class_of_admission_K-1  class_of_admission_L  class_of_admission_M  ...  \\\n",
       "0                       0                     0                     0  ...   \n",
       "1                       0                     0                     0  ...   \n",
       "2                       0                     0                     0  ...   \n",
       "3                       0                     0                     0  ...   \n",
       "4                       0                     1                     0  ...   \n",
       "\n",
       "   sector_Aerospace  sector_Agribusiness  sector_Automotive  \\\n",
       "0                 0                    0                  0   \n",
       "1                 0                    0                  0   \n",
       "2                 1                    0                  0   \n",
       "3                 0                    0                  0   \n",
       "4                 0                    0                  0   \n",
       "\n",
       "   sector_Biotechnology  sector_Construction  sector_Educational Services  \\\n",
       "0                     0                    0                            0   \n",
       "1                     0                    0                            0   \n",
       "2                     0                    0                            0   \n",
       "3                     0                    0                            0   \n",
       "4                     0                    0                            0   \n",
       "\n",
       "   sector_Energy  sector_Finance  sector_Geospatial  sector_Health Care  \\\n",
       "0              0               0                  0                   0   \n",
       "1              0               0                  0                   0   \n",
       "2              0               0                  0                   0   \n",
       "3              0               0                  0                   0   \n",
       "4              0               0                  0                   0   \n",
       "\n",
       "   sector_Homeland Security  sector_Hospitality  sector_IT  \\\n",
       "0                         0                   0          1   \n",
       "1                         0                   0          0   \n",
       "2                         0                   0          0   \n",
       "3                         0                   0          0   \n",
       "4                         0                   0          0   \n",
       "\n",
       "   sector_Other Economic Sector  sector_Retail  sector_Transportation  \\\n",
       "0                             0              0                      0   \n",
       "1                             1              0                      0   \n",
       "2                             0              0                      0   \n",
       "3                             1              0                      0   \n",
       "4                             0              0                      0   \n",
       "\n",
       "   sector_unavailable  Enterprise_Size_Medium  Enterprise_Size_Small  \\\n",
       "0                   0                       0                      0   \n",
       "1                   0                       0                      0   \n",
       "2                   0                       0                      0   \n",
       "3                   0                       0                      0   \n",
       "4                   0                       0                      0   \n",
       "\n",
       "   Enterprise_Size_Unvailable  continent_ASIA  continent_EUROPE  \\\n",
       "0                           1               1                 0   \n",
       "1                           1               0                 1   \n",
       "2                           1               1                 0   \n",
       "3                           1               1                 0   \n",
       "4                           1               0                 0   \n",
       "\n",
       "   continent_North America  continent_Oceania  continent_South America  \n",
       "0                        0                  0                        0  \n",
       "1                        0                  0                        0  \n",
       "2                        0                  0                        0  \n",
       "3                        0                  0                        0  \n",
       "4                        1                  0                        0  \n",
       "\n",
       "[5 rows x 151 columns]"
      ]
     },
     "execution_count": 152,
     "metadata": {},
     "output_type": "execute_result"
    }
   ],
   "source": [
    "x.head()"
   ]
  },
  {
   "cell_type": "code",
   "execution_count": 153,
   "metadata": {},
   "outputs": [],
   "source": [
    "xtrain,xtest,ytrain,ytest=train_test_split(x,y,test_size=0.3,random_state=0)"
   ]
  },
  {
   "cell_type": "code",
   "execution_count": 154,
   "metadata": {},
   "outputs": [
    {
     "data": {
      "text/html": [
       "<div>\n",
       "<style scoped>\n",
       "    .dataframe tbody tr th:only-of-type {\n",
       "        vertical-align: middle;\n",
       "    }\n",
       "\n",
       "    .dataframe tbody tr th {\n",
       "        vertical-align: top;\n",
       "    }\n",
       "\n",
       "    .dataframe thead th {\n",
       "        text-align: right;\n",
       "    }\n",
       "</style>\n",
       "<table border=\"1\" class=\"dataframe\">\n",
       "  <thead>\n",
       "    <tr style=\"text-align: right;\">\n",
       "      <th></th>\n",
       "      <th>employer_num_employees</th>\n",
       "      <th>meansal</th>\n",
       "      <th>duration_year</th>\n",
       "      <th>agent_state_Midwest</th>\n",
       "      <th>agent_state_Northeast</th>\n",
       "      <th>agent_state_Other</th>\n",
       "      <th>agent_state_South</th>\n",
       "      <th>agent_state_West</th>\n",
       "      <th>application_type_ONLINE</th>\n",
       "      <th>application_type_PERM</th>\n",
       "      <th>application_type_unavailable</th>\n",
       "      <th>class_of_admission_AOS</th>\n",
       "      <th>class_of_admission_B</th>\n",
       "      <th>class_of_admission_C</th>\n",
       "      <th>class_of_admission_D-1</th>\n",
       "      <th>class_of_admission_E</th>\n",
       "      <th>class_of_admission_EWI</th>\n",
       "      <th>class_of_admission_F</th>\n",
       "      <th>class_of_admission_G</th>\n",
       "      <th>class_of_admission_H-1B</th>\n",
       "      <th>class_of_admission_I</th>\n",
       "      <th>class_of_admission_J</th>\n",
       "      <th>class_of_admission_K-1</th>\n",
       "      <th>class_of_admission_L</th>\n",
       "      <th>class_of_admission_M</th>\n",
       "      <th>...</th>\n",
       "      <th>sector_Aerospace</th>\n",
       "      <th>sector_Agribusiness</th>\n",
       "      <th>sector_Automotive</th>\n",
       "      <th>sector_Biotechnology</th>\n",
       "      <th>sector_Construction</th>\n",
       "      <th>sector_Educational Services</th>\n",
       "      <th>sector_Energy</th>\n",
       "      <th>sector_Finance</th>\n",
       "      <th>sector_Geospatial</th>\n",
       "      <th>sector_Health Care</th>\n",
       "      <th>sector_Homeland Security</th>\n",
       "      <th>sector_Hospitality</th>\n",
       "      <th>sector_IT</th>\n",
       "      <th>sector_Other Economic Sector</th>\n",
       "      <th>sector_Retail</th>\n",
       "      <th>sector_Transportation</th>\n",
       "      <th>sector_unavailable</th>\n",
       "      <th>Enterprise_Size_Medium</th>\n",
       "      <th>Enterprise_Size_Small</th>\n",
       "      <th>Enterprise_Size_Unvailable</th>\n",
       "      <th>continent_ASIA</th>\n",
       "      <th>continent_EUROPE</th>\n",
       "      <th>continent_North America</th>\n",
       "      <th>continent_Oceania</th>\n",
       "      <th>continent_South America</th>\n",
       "    </tr>\n",
       "  </thead>\n",
       "  <tbody>\n",
       "    <tr>\n",
       "      <th>0</th>\n",
       "      <td>-0.028384</td>\n",
       "      <td>-0.060954</td>\n",
       "      <td>-0.848515</td>\n",
       "      <td>-0.290446</td>\n",
       "      <td>-0.411846</td>\n",
       "      <td>1.103059</td>\n",
       "      <td>-0.413111</td>\n",
       "      <td>-0.467741</td>\n",
       "      <td>1.500621</td>\n",
       "      <td>-0.24343</td>\n",
       "      <td>-1.307056</td>\n",
       "      <td>0.0</td>\n",
       "      <td>-0.10395</td>\n",
       "      <td>-0.011695</td>\n",
       "      <td>-0.00442</td>\n",
       "      <td>-0.125603</td>\n",
       "      <td>-0.072901</td>\n",
       "      <td>-0.213203</td>\n",
       "      <td>-0.022369</td>\n",
       "      <td>0.552883</td>\n",
       "      <td>-0.015313</td>\n",
       "      <td>-0.053885</td>\n",
       "      <td>-0.002795</td>\n",
       "      <td>-0.240626</td>\n",
       "      <td>-0.008616</td>\n",
       "      <td>...</td>\n",
       "      <td>-0.107036</td>\n",
       "      <td>-0.05169</td>\n",
       "      <td>-0.056451</td>\n",
       "      <td>-0.03488</td>\n",
       "      <td>-0.061328</td>\n",
       "      <td>-0.159698</td>\n",
       "      <td>-0.053262</td>\n",
       "      <td>-0.162088</td>\n",
       "      <td>-0.019869</td>\n",
       "      <td>-0.137632</td>\n",
       "      <td>-0.014255</td>\n",
       "      <td>-0.072847</td>\n",
       "      <td>2.435694</td>\n",
       "      <td>-0.210475</td>\n",
       "      <td>-0.110439</td>\n",
       "      <td>-0.051117</td>\n",
       "      <td>-1.355839</td>\n",
       "      <td>-0.432095</td>\n",
       "      <td>-0.432661</td>\n",
       "      <td>1.306333</td>\n",
       "      <td>0.493467</td>\n",
       "      <td>-0.251091</td>\n",
       "      <td>-0.321107</td>\n",
       "      <td>-0.076781</td>\n",
       "      <td>-0.151762</td>\n",
       "    </tr>\n",
       "    <tr>\n",
       "      <th>1</th>\n",
       "      <td>-0.028384</td>\n",
       "      <td>-0.059375</td>\n",
       "      <td>-0.848515</td>\n",
       "      <td>-0.290446</td>\n",
       "      <td>-0.411846</td>\n",
       "      <td>1.103059</td>\n",
       "      <td>-0.413111</td>\n",
       "      <td>-0.467741</td>\n",
       "      <td>1.500621</td>\n",
       "      <td>-0.24343</td>\n",
       "      <td>-1.307056</td>\n",
       "      <td>0.0</td>\n",
       "      <td>-0.10395</td>\n",
       "      <td>-0.011695</td>\n",
       "      <td>-0.00442</td>\n",
       "      <td>-0.125603</td>\n",
       "      <td>-0.072901</td>\n",
       "      <td>-0.213203</td>\n",
       "      <td>-0.022369</td>\n",
       "      <td>0.552883</td>\n",
       "      <td>-0.015313</td>\n",
       "      <td>-0.053885</td>\n",
       "      <td>-0.002795</td>\n",
       "      <td>-0.240626</td>\n",
       "      <td>-0.008616</td>\n",
       "      <td>...</td>\n",
       "      <td>-0.107036</td>\n",
       "      <td>-0.05169</td>\n",
       "      <td>-0.056451</td>\n",
       "      <td>-0.03488</td>\n",
       "      <td>-0.061328</td>\n",
       "      <td>-0.159698</td>\n",
       "      <td>-0.053262</td>\n",
       "      <td>6.169488</td>\n",
       "      <td>-0.019869</td>\n",
       "      <td>-0.137632</td>\n",
       "      <td>-0.014255</td>\n",
       "      <td>-0.072847</td>\n",
       "      <td>-0.410561</td>\n",
       "      <td>-0.210475</td>\n",
       "      <td>-0.110439</td>\n",
       "      <td>-0.051117</td>\n",
       "      <td>-1.355839</td>\n",
       "      <td>-0.432095</td>\n",
       "      <td>-0.432661</td>\n",
       "      <td>1.306333</td>\n",
       "      <td>-2.026476</td>\n",
       "      <td>-0.251091</td>\n",
       "      <td>-0.321107</td>\n",
       "      <td>-0.076781</td>\n",
       "      <td>6.589253</td>\n",
       "    </tr>\n",
       "    <tr>\n",
       "      <th>2</th>\n",
       "      <td>-0.016248</td>\n",
       "      <td>-0.055978</td>\n",
       "      <td>0.536648</td>\n",
       "      <td>-0.290446</td>\n",
       "      <td>-0.411846</td>\n",
       "      <td>1.103059</td>\n",
       "      <td>-0.413111</td>\n",
       "      <td>-0.467741</td>\n",
       "      <td>-0.666391</td>\n",
       "      <td>-0.24343</td>\n",
       "      <td>0.765078</td>\n",
       "      <td>0.0</td>\n",
       "      <td>-0.10395</td>\n",
       "      <td>-0.011695</td>\n",
       "      <td>-0.00442</td>\n",
       "      <td>-0.125603</td>\n",
       "      <td>-0.072901</td>\n",
       "      <td>-0.213203</td>\n",
       "      <td>-0.022369</td>\n",
       "      <td>0.552883</td>\n",
       "      <td>-0.015313</td>\n",
       "      <td>-0.053885</td>\n",
       "      <td>-0.002795</td>\n",
       "      <td>-0.240626</td>\n",
       "      <td>-0.008616</td>\n",
       "      <td>...</td>\n",
       "      <td>-0.107036</td>\n",
       "      <td>-0.05169</td>\n",
       "      <td>-0.056451</td>\n",
       "      <td>-0.03488</td>\n",
       "      <td>-0.061328</td>\n",
       "      <td>-0.159698</td>\n",
       "      <td>-0.053262</td>\n",
       "      <td>-0.162088</td>\n",
       "      <td>-0.019869</td>\n",
       "      <td>-0.137632</td>\n",
       "      <td>-0.014255</td>\n",
       "      <td>-0.072847</td>\n",
       "      <td>-0.410561</td>\n",
       "      <td>-0.210475</td>\n",
       "      <td>-0.110439</td>\n",
       "      <td>-0.051117</td>\n",
       "      <td>0.737551</td>\n",
       "      <td>2.314308</td>\n",
       "      <td>-0.432661</td>\n",
       "      <td>-0.765502</td>\n",
       "      <td>0.493467</td>\n",
       "      <td>-0.251091</td>\n",
       "      <td>-0.321107</td>\n",
       "      <td>-0.076781</td>\n",
       "      <td>-0.151762</td>\n",
       "    </tr>\n",
       "    <tr>\n",
       "      <th>3</th>\n",
       "      <td>-0.028384</td>\n",
       "      <td>-0.058726</td>\n",
       "      <td>-0.848515</td>\n",
       "      <td>-0.290446</td>\n",
       "      <td>-0.411846</td>\n",
       "      <td>1.103059</td>\n",
       "      <td>-0.413111</td>\n",
       "      <td>-0.467741</td>\n",
       "      <td>1.500621</td>\n",
       "      <td>-0.24343</td>\n",
       "      <td>-1.307056</td>\n",
       "      <td>0.0</td>\n",
       "      <td>-0.10395</td>\n",
       "      <td>-0.011695</td>\n",
       "      <td>-0.00442</td>\n",
       "      <td>-0.125603</td>\n",
       "      <td>-0.072901</td>\n",
       "      <td>-0.213203</td>\n",
       "      <td>-0.022369</td>\n",
       "      <td>0.552883</td>\n",
       "      <td>-0.015313</td>\n",
       "      <td>-0.053885</td>\n",
       "      <td>-0.002795</td>\n",
       "      <td>-0.240626</td>\n",
       "      <td>-0.008616</td>\n",
       "      <td>...</td>\n",
       "      <td>-0.107036</td>\n",
       "      <td>-0.05169</td>\n",
       "      <td>-0.056451</td>\n",
       "      <td>-0.03488</td>\n",
       "      <td>-0.061328</td>\n",
       "      <td>-0.159698</td>\n",
       "      <td>-0.053262</td>\n",
       "      <td>-0.162088</td>\n",
       "      <td>-0.019869</td>\n",
       "      <td>-0.137632</td>\n",
       "      <td>-0.014255</td>\n",
       "      <td>-0.072847</td>\n",
       "      <td>-0.410561</td>\n",
       "      <td>4.751163</td>\n",
       "      <td>-0.110439</td>\n",
       "      <td>-0.051117</td>\n",
       "      <td>-1.355839</td>\n",
       "      <td>-0.432095</td>\n",
       "      <td>-0.432661</td>\n",
       "      <td>1.306333</td>\n",
       "      <td>0.493467</td>\n",
       "      <td>-0.251091</td>\n",
       "      <td>-0.321107</td>\n",
       "      <td>-0.076781</td>\n",
       "      <td>-0.151762</td>\n",
       "    </tr>\n",
       "    <tr>\n",
       "      <th>4</th>\n",
       "      <td>-0.028384</td>\n",
       "      <td>-0.059693</td>\n",
       "      <td>-0.848515</td>\n",
       "      <td>-0.290446</td>\n",
       "      <td>-0.411846</td>\n",
       "      <td>1.103059</td>\n",
       "      <td>-0.413111</td>\n",
       "      <td>-0.467741</td>\n",
       "      <td>1.500621</td>\n",
       "      <td>-0.24343</td>\n",
       "      <td>-1.307056</td>\n",
       "      <td>0.0</td>\n",
       "      <td>-0.10395</td>\n",
       "      <td>-0.011695</td>\n",
       "      <td>-0.00442</td>\n",
       "      <td>-0.125603</td>\n",
       "      <td>-0.072901</td>\n",
       "      <td>-0.213203</td>\n",
       "      <td>-0.022369</td>\n",
       "      <td>0.552883</td>\n",
       "      <td>-0.015313</td>\n",
       "      <td>-0.053885</td>\n",
       "      <td>-0.002795</td>\n",
       "      <td>-0.240626</td>\n",
       "      <td>-0.008616</td>\n",
       "      <td>...</td>\n",
       "      <td>-0.107036</td>\n",
       "      <td>-0.05169</td>\n",
       "      <td>-0.056451</td>\n",
       "      <td>-0.03488</td>\n",
       "      <td>-0.061328</td>\n",
       "      <td>-0.159698</td>\n",
       "      <td>-0.053262</td>\n",
       "      <td>-0.162088</td>\n",
       "      <td>-0.019869</td>\n",
       "      <td>-0.137632</td>\n",
       "      <td>-0.014255</td>\n",
       "      <td>-0.072847</td>\n",
       "      <td>-0.410561</td>\n",
       "      <td>-0.210475</td>\n",
       "      <td>-0.110439</td>\n",
       "      <td>-0.051117</td>\n",
       "      <td>-1.355839</td>\n",
       "      <td>-0.432095</td>\n",
       "      <td>-0.432661</td>\n",
       "      <td>1.306333</td>\n",
       "      <td>0.493467</td>\n",
       "      <td>-0.251091</td>\n",
       "      <td>-0.321107</td>\n",
       "      <td>-0.076781</td>\n",
       "      <td>-0.151762</td>\n",
       "    </tr>\n",
       "  </tbody>\n",
       "</table>\n",
       "<p>5 rows × 151 columns</p>\n",
       "</div>"
      ],
      "text/plain": [
       "   employer_num_employees   meansal  duration_year  agent_state_Midwest  \\\n",
       "0               -0.028384 -0.060954      -0.848515            -0.290446   \n",
       "1               -0.028384 -0.059375      -0.848515            -0.290446   \n",
       "2               -0.016248 -0.055978       0.536648            -0.290446   \n",
       "3               -0.028384 -0.058726      -0.848515            -0.290446   \n",
       "4               -0.028384 -0.059693      -0.848515            -0.290446   \n",
       "\n",
       "   agent_state_Northeast  agent_state_Other  agent_state_South  \\\n",
       "0              -0.411846           1.103059          -0.413111   \n",
       "1              -0.411846           1.103059          -0.413111   \n",
       "2              -0.411846           1.103059          -0.413111   \n",
       "3              -0.411846           1.103059          -0.413111   \n",
       "4              -0.411846           1.103059          -0.413111   \n",
       "\n",
       "   agent_state_West  application_type_ONLINE  application_type_PERM  \\\n",
       "0         -0.467741                 1.500621               -0.24343   \n",
       "1         -0.467741                 1.500621               -0.24343   \n",
       "2         -0.467741                -0.666391               -0.24343   \n",
       "3         -0.467741                 1.500621               -0.24343   \n",
       "4         -0.467741                 1.500621               -0.24343   \n",
       "\n",
       "   application_type_unavailable  class_of_admission_AOS  class_of_admission_B  \\\n",
       "0                     -1.307056                     0.0              -0.10395   \n",
       "1                     -1.307056                     0.0              -0.10395   \n",
       "2                      0.765078                     0.0              -0.10395   \n",
       "3                     -1.307056                     0.0              -0.10395   \n",
       "4                     -1.307056                     0.0              -0.10395   \n",
       "\n",
       "   class_of_admission_C  class_of_admission_D-1  class_of_admission_E  \\\n",
       "0             -0.011695                -0.00442             -0.125603   \n",
       "1             -0.011695                -0.00442             -0.125603   \n",
       "2             -0.011695                -0.00442             -0.125603   \n",
       "3             -0.011695                -0.00442             -0.125603   \n",
       "4             -0.011695                -0.00442             -0.125603   \n",
       "\n",
       "   class_of_admission_EWI  class_of_admission_F  class_of_admission_G  \\\n",
       "0               -0.072901             -0.213203             -0.022369   \n",
       "1               -0.072901             -0.213203             -0.022369   \n",
       "2               -0.072901             -0.213203             -0.022369   \n",
       "3               -0.072901             -0.213203             -0.022369   \n",
       "4               -0.072901             -0.213203             -0.022369   \n",
       "\n",
       "   class_of_admission_H-1B  class_of_admission_I  class_of_admission_J  \\\n",
       "0                 0.552883             -0.015313             -0.053885   \n",
       "1                 0.552883             -0.015313             -0.053885   \n",
       "2                 0.552883             -0.015313             -0.053885   \n",
       "3                 0.552883             -0.015313             -0.053885   \n",
       "4                 0.552883             -0.015313             -0.053885   \n",
       "\n",
       "   class_of_admission_K-1  class_of_admission_L  class_of_admission_M  ...  \\\n",
       "0               -0.002795             -0.240626             -0.008616  ...   \n",
       "1               -0.002795             -0.240626             -0.008616  ...   \n",
       "2               -0.002795             -0.240626             -0.008616  ...   \n",
       "3               -0.002795             -0.240626             -0.008616  ...   \n",
       "4               -0.002795             -0.240626             -0.008616  ...   \n",
       "\n",
       "   sector_Aerospace  sector_Agribusiness  sector_Automotive  \\\n",
       "0         -0.107036             -0.05169          -0.056451   \n",
       "1         -0.107036             -0.05169          -0.056451   \n",
       "2         -0.107036             -0.05169          -0.056451   \n",
       "3         -0.107036             -0.05169          -0.056451   \n",
       "4         -0.107036             -0.05169          -0.056451   \n",
       "\n",
       "   sector_Biotechnology  sector_Construction  sector_Educational Services  \\\n",
       "0              -0.03488            -0.061328                    -0.159698   \n",
       "1              -0.03488            -0.061328                    -0.159698   \n",
       "2              -0.03488            -0.061328                    -0.159698   \n",
       "3              -0.03488            -0.061328                    -0.159698   \n",
       "4              -0.03488            -0.061328                    -0.159698   \n",
       "\n",
       "   sector_Energy  sector_Finance  sector_Geospatial  sector_Health Care  \\\n",
       "0      -0.053262       -0.162088          -0.019869           -0.137632   \n",
       "1      -0.053262        6.169488          -0.019869           -0.137632   \n",
       "2      -0.053262       -0.162088          -0.019869           -0.137632   \n",
       "3      -0.053262       -0.162088          -0.019869           -0.137632   \n",
       "4      -0.053262       -0.162088          -0.019869           -0.137632   \n",
       "\n",
       "   sector_Homeland Security  sector_Hospitality  sector_IT  \\\n",
       "0                 -0.014255           -0.072847   2.435694   \n",
       "1                 -0.014255           -0.072847  -0.410561   \n",
       "2                 -0.014255           -0.072847  -0.410561   \n",
       "3                 -0.014255           -0.072847  -0.410561   \n",
       "4                 -0.014255           -0.072847  -0.410561   \n",
       "\n",
       "   sector_Other Economic Sector  sector_Retail  sector_Transportation  \\\n",
       "0                     -0.210475      -0.110439              -0.051117   \n",
       "1                     -0.210475      -0.110439              -0.051117   \n",
       "2                     -0.210475      -0.110439              -0.051117   \n",
       "3                      4.751163      -0.110439              -0.051117   \n",
       "4                     -0.210475      -0.110439              -0.051117   \n",
       "\n",
       "   sector_unavailable  Enterprise_Size_Medium  Enterprise_Size_Small  \\\n",
       "0           -1.355839               -0.432095              -0.432661   \n",
       "1           -1.355839               -0.432095              -0.432661   \n",
       "2            0.737551                2.314308              -0.432661   \n",
       "3           -1.355839               -0.432095              -0.432661   \n",
       "4           -1.355839               -0.432095              -0.432661   \n",
       "\n",
       "   Enterprise_Size_Unvailable  continent_ASIA  continent_EUROPE  \\\n",
       "0                    1.306333        0.493467         -0.251091   \n",
       "1                    1.306333       -2.026476         -0.251091   \n",
       "2                   -0.765502        0.493467         -0.251091   \n",
       "3                    1.306333        0.493467         -0.251091   \n",
       "4                    1.306333        0.493467         -0.251091   \n",
       "\n",
       "   continent_North America  continent_Oceania  continent_South America  \n",
       "0                -0.321107          -0.076781                -0.151762  \n",
       "1                -0.321107          -0.076781                 6.589253  \n",
       "2                -0.321107          -0.076781                -0.151762  \n",
       "3                -0.321107          -0.076781                -0.151762  \n",
       "4                -0.321107          -0.076781                -0.151762  \n",
       "\n",
       "[5 rows x 151 columns]"
      ]
     },
     "execution_count": 154,
     "metadata": {},
     "output_type": "execute_result"
    }
   ],
   "source": [
    "scaled_train=pd.DataFrame(sc.fit_transform(xtrain),columns=xtrain.columns)\n",
    "scaled_test=pd.DataFrame(sc.transform(xtest),columns=xtest.columns)\n",
    "scaled_train.head()"
   ]
  },
  {
   "cell_type": "code",
   "execution_count": 155,
   "metadata": {},
   "outputs": [],
   "source": [
    "from sklearn.ensemble import RandomForestClassifier\n",
    "rf=RandomForestClassifier()"
   ]
  },
  {
   "cell_type": "code",
   "execution_count": 156,
   "metadata": {},
   "outputs": [],
   "source": [
    "model=rf.fit(scaled_train,ytrain)\n",
    "ypred=model.predict(scaled_test)"
   ]
  },
  {
   "cell_type": "code",
   "execution_count": 157,
   "metadata": {},
   "outputs": [],
   "source": [
    "from sklearn.metrics import classification_report,f1_score,confusion_matrix,cohen_kappa_score,matthews_corrcoef,accuracy_score,roc_auc_score"
   ]
  },
  {
   "cell_type": "code",
   "execution_count": 158,
   "metadata": {},
   "outputs": [
    {
     "name": "stdout",
     "output_type": "stream",
     "text": [
      "              precision    recall  f1-score   support\n",
      "\n",
      "           0       0.65      0.70      0.67     53111\n",
      "           1       0.61      0.62      0.61     43642\n",
      "           2       0.58      0.40      0.47      7584\n",
      "           3       0.24      0.12      0.16      5352\n",
      "\n",
      "    accuracy                           0.62    109689\n",
      "   macro avg       0.52      0.46      0.48    109689\n",
      "weighted avg       0.61      0.62      0.61    109689\n",
      "\n"
     ]
    }
   ],
   "source": [
    "print(classification_report(ytest,ypred))"
   ]
  },
  {
   "cell_type": "code",
   "execution_count": 159,
   "metadata": {},
   "outputs": [
    {
     "data": {
      "text/plain": [
       "0.4357578788612867"
      ]
     },
     "execution_count": 159,
     "metadata": {},
     "output_type": "execute_result"
    }
   ],
   "source": [
    "rf.score(xtrain,ytrain)"
   ]
  },
  {
   "cell_type": "code",
   "execution_count": 160,
   "metadata": {},
   "outputs": [
    {
     "data": {
      "text/plain": [
       "0.6183847058501764"
      ]
     },
     "execution_count": 160,
     "metadata": {},
     "output_type": "execute_result"
    }
   ],
   "source": [
    "accuracy_score(ytest,ypred)"
   ]
  },
  {
   "cell_type": "code",
   "execution_count": 161,
   "metadata": {},
   "outputs": [
    {
     "data": {
      "text/plain": [
       "0.3429946576728651"
      ]
     },
     "execution_count": 161,
     "metadata": {},
     "output_type": "execute_result"
    }
   ],
   "source": [
    "cohen_kappa_score(ytest,ypred)"
   ]
  },
  {
   "cell_type": "code",
   "execution_count": 162,
   "metadata": {},
   "outputs": [
    {
     "data": {
      "text/plain": [
       "0.34405039542954385"
      ]
     },
     "execution_count": 162,
     "metadata": {},
     "output_type": "execute_result"
    }
   ],
   "source": [
    "matthews_corrcoef(ytest,ypred)"
   ]
  },
  {
   "cell_type": "code",
   "execution_count": 163,
   "metadata": {},
   "outputs": [
    {
     "data": {
      "text/plain": [
       "''"
      ]
     },
     "execution_count": 163,
     "metadata": {},
     "output_type": "execute_result"
    }
   ],
   "source": [
    "''"
   ]
  }
 ],
 "metadata": {
  "kernelspec": {
   "display_name": "Python 3",
   "language": "python",
   "name": "python3"
  },
  "language_info": {
   "codemirror_mode": {
    "name": "ipython",
    "version": 3
   },
   "file_extension": ".py",
   "mimetype": "text/x-python",
   "name": "python",
   "nbconvert_exporter": "python",
   "pygments_lexer": "ipython3",
   "version": "3.7.3"
  }
 },
 "nbformat": 4,
 "nbformat_minor": 2
}
